{
 "cells": [
  {
   "cell_type": "code",
   "execution_count": 1,
   "id": "824f2612",
   "metadata": {
    "_cell_guid": "b1076dfc-b9ad-4769-8c92-a6c4dae69d19",
    "_uuid": "8f2839f25d086af736a60e9eeb907d3b93b6e0e5",
    "execution": {
     "iopub.execute_input": "2022-02-02T21:45:31.095966Z",
     "iopub.status.busy": "2022-02-02T21:45:31.094205Z",
     "iopub.status.idle": "2022-02-02T21:45:33.189658Z",
     "shell.execute_reply": "2022-02-02T21:45:33.188979Z",
     "shell.execute_reply.started": "2022-02-02T21:35:38.304321Z"
    },
    "papermill": {
     "duration": 2.109532,
     "end_time": "2022-02-02T21:45:33.189826",
     "exception": false,
     "start_time": "2022-02-02T21:45:31.080294",
     "status": "completed"
    },
    "tags": []
   },
   "outputs": [
    {
     "data": {
      "text/html": [
       "<style type='text/css'>\n",
       ".datatable table.frame { margin-bottom: 0; }\n",
       ".datatable table.frame thead { border-bottom: none; }\n",
       ".datatable table.frame tr.coltypes td {  color: #FFFFFF;  line-height: 6px;  padding: 0 0.5em;}\n",
       ".datatable .bool    { background: #DDDD99; }\n",
       ".datatable .object  { background: #565656; }\n",
       ".datatable .int     { background: #5D9E5D; }\n",
       ".datatable .float   { background: #4040CC; }\n",
       ".datatable .str     { background: #CC4040; }\n",
       ".datatable .time    { background: #40CC40; }\n",
       ".datatable .row_index {  background: var(--jp-border-color3);  border-right: 1px solid var(--jp-border-color0);  color: var(--jp-ui-font-color3);  font-size: 9px;}\n",
       ".datatable .frame tbody td { text-align: left; }\n",
       ".datatable .frame tr.coltypes .row_index {  background: var(--jp-border-color0);}\n",
       ".datatable th:nth-child(2) { padding-left: 12px; }\n",
       ".datatable .hellipsis {  color: var(--jp-cell-editor-border-color);}\n",
       ".datatable .vellipsis {  background: var(--jp-layout-color0);  color: var(--jp-cell-editor-border-color);}\n",
       ".datatable .na {  color: var(--jp-cell-editor-border-color);  font-size: 80%;}\n",
       ".datatable .sp {  opacity: 0.25;}\n",
       ".datatable .footer { font-size: 9px; }\n",
       ".datatable .frame_dimensions {  background: var(--jp-border-color3);  border-top: 1px solid var(--jp-border-color0);  color: var(--jp-ui-font-color3);  display: inline-block;  opacity: 0.6;  padding: 1px 10px 1px 5px;}\n",
       "</style>\n"
      ],
      "text/plain": [
       "<IPython.core.display.HTML object>"
      ]
     },
     "metadata": {},
     "output_type": "display_data"
    }
   ],
   "source": [
    "from glob import glob\n",
    "import numpy as np\n",
    "import pandas as pd\n",
    "from tqdm import tqdm\n",
    "from scipy import stats\n",
    "import lightgbm as lgb\n",
    "\n",
    "import matplotlib.pyplot as plt\n",
    "import seaborn as sns\n",
    "\n",
    "np.random.seed(2)"
   ]
  },
  {
   "cell_type": "markdown",
   "id": "37264b26",
   "metadata": {
    "papermill": {
     "duration": 0.008067,
     "end_time": "2022-02-02T21:45:33.207658",
     "exception": false,
     "start_time": "2022-02-02T21:45:33.199591",
     "status": "completed"
    },
    "tags": []
   },
   "source": [
    "***\n",
    "## load models"
   ]
  },
  {
   "cell_type": "code",
   "execution_count": 2,
   "id": "b3aef976",
   "metadata": {
    "execution": {
     "iopub.execute_input": "2022-02-02T21:45:33.227843Z",
     "iopub.status.busy": "2022-02-02T21:45:33.225771Z",
     "iopub.status.idle": "2022-02-02T21:45:33.671948Z",
     "shell.execute_reply": "2022-02-02T21:45:33.672880Z",
     "shell.execute_reply.started": "2022-02-02T21:35:40.474595Z"
    },
    "papermill": {
     "duration": 0.457631,
     "end_time": "2022-02-02T21:45:33.673070",
     "exception": false,
     "start_time": "2022-02-02T21:45:33.215439",
     "status": "completed"
    },
    "tags": []
   },
   "outputs": [
    {
     "data": {
      "text/plain": [
       "['../input/ump-train-lgbm-gbrt/lgbm-seed2.txt',\n",
       " '../input/ump-train-lgbm-gbrt/lgbm-seed19.txt',\n",
       " '../input/ump-train-lgbm-gbrt/lgbm-seed23.txt',\n",
       " '../input/ump-train-lgbm-gbrt/lgbm-seed7.txt',\n",
       " '../input/ump-train-lgbm-gbrt/lgbm-seed11.txt']"
      ]
     },
     "metadata": {},
     "output_type": "display_data"
    },
    {
     "data": {
      "text/plain": [
       "[<lightgbm.basic.Booster at 0x7f65bef9bc90>,\n",
       " <lightgbm.basic.Booster at 0x7f65be039510>,\n",
       " <lightgbm.basic.Booster at 0x7f65bd5bee10>,\n",
       " <lightgbm.basic.Booster at 0x7f65bd672c50>,\n",
       " <lightgbm.basic.Booster at 0x7f65bd672f90>]"
      ]
     },
     "metadata": {},
     "output_type": "display_data"
    }
   ],
   "source": [
    "files = glob(\"../input/ump-train-lgbm-gbrt/lgbm-seed*.txt\")\n",
    "display(files)\n",
    "\n",
    "boosters_lgbm_gbrt = [lgb.Booster(model_file=fn) for fn in files]\n",
    "display(boosters_lgbm_gbrt)"
   ]
  },
  {
   "cell_type": "code",
   "execution_count": 3,
   "id": "02edfea3",
   "metadata": {
    "execution": {
     "iopub.execute_input": "2022-02-02T21:45:33.696776Z",
     "iopub.status.busy": "2022-02-02T21:45:33.696005Z",
     "iopub.status.idle": "2022-02-02T21:45:34.390513Z",
     "shell.execute_reply": "2022-02-02T21:45:34.391172Z",
     "shell.execute_reply.started": "2022-02-02T21:35:40.959651Z"
    },
    "papermill": {
     "duration": 0.708858,
     "end_time": "2022-02-02T21:45:34.391375",
     "exception": false,
     "start_time": "2022-02-02T21:45:33.682517",
     "status": "completed"
    },
    "tags": []
   },
   "outputs": [
    {
     "data": {
      "text/plain": [
       "['../input/ump-train-lgbm-xtrees/lgbm-seed2.txt',\n",
       " '../input/ump-train-lgbm-xtrees/lgbm-seed19.txt',\n",
       " '../input/ump-train-lgbm-xtrees/lgbm-seed23.txt',\n",
       " '../input/ump-train-lgbm-xtrees/lgbm-seed7.txt',\n",
       " '../input/ump-train-lgbm-xtrees/lgbm-seed11.txt']"
      ]
     },
     "metadata": {},
     "output_type": "display_data"
    },
    {
     "data": {
      "text/plain": [
       "[<lightgbm.basic.Booster at 0x7f65e3dbca90>,\n",
       " <lightgbm.basic.Booster at 0x7f65c1583690>,\n",
       " <lightgbm.basic.Booster at 0x7f65c11e0b10>,\n",
       " <lightgbm.basic.Booster at 0x7f65bd793a10>,\n",
       " <lightgbm.basic.Booster at 0x7f65e3dbcb10>]"
      ]
     },
     "metadata": {},
     "output_type": "display_data"
    }
   ],
   "source": [
    "files = glob(\"../input/ump-train-lgbm-xtrees/lgbm-seed*.txt\")\n",
    "display(files)\n",
    "\n",
    "boosters_lgbm_xtrees = [lgb.Booster(model_file=fn) for fn in files]\n",
    "display(boosters_lgbm_xtrees)"
   ]
  },
  {
   "cell_type": "markdown",
   "id": "84e74f53",
   "metadata": {
    "papermill": {
     "duration": 0.009817,
     "end_time": "2022-02-02T21:45:34.412343",
     "exception": false,
     "start_time": "2022-02-02T21:45:34.402526",
     "status": "completed"
    },
    "tags": []
   },
   "source": [
    "***\n",
    "## inference"
   ]
  },
  {
   "cell_type": "code",
   "execution_count": 4,
   "id": "c83378f5",
   "metadata": {
    "execution": {
     "iopub.execute_input": "2022-02-02T21:45:34.437000Z",
     "iopub.status.busy": "2022-02-02T21:45:34.435965Z",
     "iopub.status.idle": "2022-02-02T21:45:34.458458Z",
     "shell.execute_reply": "2022-02-02T21:45:34.457914Z",
     "shell.execute_reply.started": "2022-02-02T21:35:41.525619Z"
    },
    "papermill": {
     "duration": 0.036456,
     "end_time": "2022-02-02T21:45:34.458588",
     "exception": false,
     "start_time": "2022-02-02T21:45:34.422132",
     "status": "completed"
    },
    "tags": []
   },
   "outputs": [],
   "source": [
    "import ubiquant\n",
    "env = ubiquant.make_env()  \n",
    "iter_test = env.iter_test()"
   ]
  },
  {
   "cell_type": "code",
   "execution_count": 5,
   "id": "2d7c026b",
   "metadata": {
    "execution": {
     "iopub.execute_input": "2022-02-02T21:45:34.480785Z",
     "iopub.status.busy": "2022-02-02T21:45:34.480143Z",
     "iopub.status.idle": "2022-02-02T21:45:34.485090Z",
     "shell.execute_reply": "2022-02-02T21:45:34.485560Z",
     "shell.execute_reply.started": "2022-02-02T21:35:41.551747Z"
    },
    "papermill": {
     "duration": 0.017467,
     "end_time": "2022-02-02T21:45:34.485719",
     "exception": false,
     "start_time": "2022-02-02T21:45:34.468252",
     "status": "completed"
    },
    "tags": []
   },
   "outputs": [],
   "source": [
    "def predict(boosters, dataframe):\n",
    "    features = [f\"f_{i}\" for i in range(300)]\n",
    "    preds = [model.predict(dataframe[features]) for model in boosters]\n",
    "    return np.mean(preds, axis=0)"
   ]
  },
  {
   "cell_type": "code",
   "execution_count": 6,
   "id": "4255dc4f",
   "metadata": {
    "execution": {
     "iopub.execute_input": "2022-02-02T21:45:34.509874Z",
     "iopub.status.busy": "2022-02-02T21:45:34.509168Z",
     "iopub.status.idle": "2022-02-02T21:45:34.706481Z",
     "shell.execute_reply": "2022-02-02T21:45:34.707121Z",
     "shell.execute_reply.started": "2022-02-02T21:35:41.559341Z"
    },
    "papermill": {
     "duration": 0.211927,
     "end_time": "2022-02-02T21:45:34.707331",
     "exception": false,
     "start_time": "2022-02-02T21:45:34.495404",
     "status": "completed"
    },
    "tags": []
   },
   "outputs": [
    {
     "name": "stdout",
     "output_type": "stream",
     "text": [
      "This version of the API is not optimized and should not be used to estimate the runtime of your code on the hidden test set.\n"
     ]
    },
    {
     "data": {
      "text/html": [
       "<div>\n",
       "<style scoped>\n",
       "    .dataframe tbody tr th:only-of-type {\n",
       "        vertical-align: middle;\n",
       "    }\n",
       "\n",
       "    .dataframe tbody tr th {\n",
       "        vertical-align: top;\n",
       "    }\n",
       "\n",
       "    .dataframe thead th {\n",
       "        text-align: right;\n",
       "    }\n",
       "</style>\n",
       "<table border=\"1\" class=\"dataframe\">\n",
       "  <thead>\n",
       "    <tr style=\"text-align: right;\">\n",
       "      <th></th>\n",
       "      <th>row_id</th>\n",
       "      <th>target</th>\n",
       "    </tr>\n",
       "  </thead>\n",
       "  <tbody>\n",
       "    <tr>\n",
       "      <th>0</th>\n",
       "      <td>1220_1</td>\n",
       "      <td>-0.127611</td>\n",
       "    </tr>\n",
       "    <tr>\n",
       "      <th>1</th>\n",
       "      <td>1220_2</td>\n",
       "      <td>-0.085014</td>\n",
       "    </tr>\n",
       "  </tbody>\n",
       "</table>\n",
       "</div>"
      ],
      "text/plain": [
       "   row_id    target\n",
       "0  1220_1 -0.127611\n",
       "1  1220_2 -0.085014"
      ]
     },
     "metadata": {},
     "output_type": "display_data"
    },
    {
     "data": {
      "text/html": [
       "<div>\n",
       "<style scoped>\n",
       "    .dataframe tbody tr th:only-of-type {\n",
       "        vertical-align: middle;\n",
       "    }\n",
       "\n",
       "    .dataframe tbody tr th {\n",
       "        vertical-align: top;\n",
       "    }\n",
       "\n",
       "    .dataframe thead th {\n",
       "        text-align: right;\n",
       "    }\n",
       "</style>\n",
       "<table border=\"1\" class=\"dataframe\">\n",
       "  <thead>\n",
       "    <tr style=\"text-align: right;\">\n",
       "      <th></th>\n",
       "      <th>row_id</th>\n",
       "      <th>target</th>\n",
       "    </tr>\n",
       "  </thead>\n",
       "  <tbody>\n",
       "    <tr>\n",
       "      <th>0</th>\n",
       "      <td>1221_0</td>\n",
       "      <td>-0.083415</td>\n",
       "    </tr>\n",
       "    <tr>\n",
       "      <th>1</th>\n",
       "      <td>1221_1</td>\n",
       "      <td>-0.102460</td>\n",
       "    </tr>\n",
       "    <tr>\n",
       "      <th>2</th>\n",
       "      <td>1221_2</td>\n",
       "      <td>-0.145249</td>\n",
       "    </tr>\n",
       "  </tbody>\n",
       "</table>\n",
       "</div>"
      ],
      "text/plain": [
       "   row_id    target\n",
       "0  1221_0 -0.083415\n",
       "1  1221_1 -0.102460\n",
       "2  1221_2 -0.145249"
      ]
     },
     "metadata": {},
     "output_type": "display_data"
    },
    {
     "data": {
      "text/html": [
       "<div>\n",
       "<style scoped>\n",
       "    .dataframe tbody tr th:only-of-type {\n",
       "        vertical-align: middle;\n",
       "    }\n",
       "\n",
       "    .dataframe tbody tr th {\n",
       "        vertical-align: top;\n",
       "    }\n",
       "\n",
       "    .dataframe thead th {\n",
       "        text-align: right;\n",
       "    }\n",
       "</style>\n",
       "<table border=\"1\" class=\"dataframe\">\n",
       "  <thead>\n",
       "    <tr style=\"text-align: right;\">\n",
       "      <th></th>\n",
       "      <th>row_id</th>\n",
       "      <th>target</th>\n",
       "    </tr>\n",
       "  </thead>\n",
       "  <tbody>\n",
       "    <tr>\n",
       "      <th>0</th>\n",
       "      <td>1222_0</td>\n",
       "      <td>-0.058660</td>\n",
       "    </tr>\n",
       "    <tr>\n",
       "      <th>1</th>\n",
       "      <td>1222_1</td>\n",
       "      <td>-0.066398</td>\n",
       "    </tr>\n",
       "    <tr>\n",
       "      <th>2</th>\n",
       "      <td>1222_2</td>\n",
       "      <td>-0.058988</td>\n",
       "    </tr>\n",
       "  </tbody>\n",
       "</table>\n",
       "</div>"
      ],
      "text/plain": [
       "   row_id    target\n",
       "0  1222_0 -0.058660\n",
       "1  1222_1 -0.066398\n",
       "2  1222_2 -0.058988"
      ]
     },
     "metadata": {},
     "output_type": "display_data"
    },
    {
     "data": {
      "text/html": [
       "<div>\n",
       "<style scoped>\n",
       "    .dataframe tbody tr th:only-of-type {\n",
       "        vertical-align: middle;\n",
       "    }\n",
       "\n",
       "    .dataframe tbody tr th {\n",
       "        vertical-align: top;\n",
       "    }\n",
       "\n",
       "    .dataframe thead th {\n",
       "        text-align: right;\n",
       "    }\n",
       "</style>\n",
       "<table border=\"1\" class=\"dataframe\">\n",
       "  <thead>\n",
       "    <tr style=\"text-align: right;\">\n",
       "      <th></th>\n",
       "      <th>row_id</th>\n",
       "      <th>target</th>\n",
       "    </tr>\n",
       "  </thead>\n",
       "  <tbody>\n",
       "    <tr>\n",
       "      <th>0</th>\n",
       "      <td>1223_0</td>\n",
       "      <td>-0.065249</td>\n",
       "    </tr>\n",
       "  </tbody>\n",
       "</table>\n",
       "</div>"
      ],
      "text/plain": [
       "   row_id    target\n",
       "0  1223_0 -0.065249"
      ]
     },
     "metadata": {},
     "output_type": "display_data"
    }
   ],
   "source": [
    "for (test_df, sample_prediction_df) in iter_test:  \n",
    "    sample_prediction_df['target'] = predict(boosters_lgbm_gbrt, test_df)\n",
    "    env.predict(sample_prediction_df) \n",
    "    display(sample_prediction_df)"
   ]
  },
  {
   "cell_type": "markdown",
   "id": "84d5547f",
   "metadata": {
    "papermill": {
     "duration": 0.01272,
     "end_time": "2022-02-02T21:45:34.733742",
     "exception": false,
     "start_time": "2022-02-02T21:45:34.721022",
     "status": "completed"
    },
    "tags": []
   },
   "source": [
    "***"
   ]
  }
 ],
 "metadata": {
  "kernelspec": {
   "display_name": "Python 3",
   "language": "python",
   "name": "python3"
  },
  "language_info": {
   "codemirror_mode": {
    "name": "ipython",
    "version": 3
   },
   "file_extension": ".py",
   "mimetype": "text/x-python",
   "name": "python",
   "nbconvert_exporter": "python",
   "pygments_lexer": "ipython3",
   "version": "3.7.12"
  },
  "papermill": {
   "default_parameters": {},
   "duration": 14.150658,
   "end_time": "2022-02-02T21:45:35.457611",
   "environment_variables": {},
   "exception": null,
   "input_path": "__notebook__.ipynb",
   "output_path": "__notebook__.ipynb",
   "parameters": {},
   "start_time": "2022-02-02T21:45:21.306953",
   "version": "2.3.3"
  }
 },
 "nbformat": 4,
 "nbformat_minor": 5
}
