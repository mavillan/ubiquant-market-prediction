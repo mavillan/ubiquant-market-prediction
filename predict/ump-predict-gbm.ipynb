{
 "cells": [
  {
   "cell_type": "code",
   "execution_count": 1,
   "id": "16dffc86",
   "metadata": {
    "_cell_guid": "b1076dfc-b9ad-4769-8c92-a6c4dae69d19",
    "_uuid": "8f2839f25d086af736a60e9eeb907d3b93b6e0e5",
    "execution": {
     "iopub.execute_input": "2022-03-24T21:10:42.726732Z",
     "iopub.status.busy": "2022-03-24T21:10:42.725801Z",
     "iopub.status.idle": "2022-03-24T21:10:44.755149Z",
     "shell.execute_reply": "2022-03-24T21:10:44.754588Z",
     "shell.execute_reply.started": "2022-03-24T21:09:06.516224Z"
    },
    "papermill": {
     "duration": 2.042974,
     "end_time": "2022-03-24T21:10:44.755356",
     "exception": false,
     "start_time": "2022-03-24T21:10:42.712382",
     "status": "completed"
    },
    "tags": []
   },
   "outputs": [
    {
     "data": {
      "text/html": [
       "<style type='text/css'>\n",
       ".datatable table.frame { margin-bottom: 0; }\n",
       ".datatable table.frame thead { border-bottom: none; }\n",
       ".datatable table.frame tr.coltypes td {  color: #FFFFFF;  line-height: 6px;  padding: 0 0.5em;}\n",
       ".datatable .bool    { background: #DDDD99; }\n",
       ".datatable .object  { background: #565656; }\n",
       ".datatable .int     { background: #5D9E5D; }\n",
       ".datatable .float   { background: #4040CC; }\n",
       ".datatable .str     { background: #CC4040; }\n",
       ".datatable .time    { background: #40CC40; }\n",
       ".datatable .row_index {  background: var(--jp-border-color3);  border-right: 1px solid var(--jp-border-color0);  color: var(--jp-ui-font-color3);  font-size: 9px;}\n",
       ".datatable .frame tbody td { text-align: left; }\n",
       ".datatable .frame tr.coltypes .row_index {  background: var(--jp-border-color0);}\n",
       ".datatable th:nth-child(2) { padding-left: 12px; }\n",
       ".datatable .hellipsis {  color: var(--jp-cell-editor-border-color);}\n",
       ".datatable .vellipsis {  background: var(--jp-layout-color0);  color: var(--jp-cell-editor-border-color);}\n",
       ".datatable .na {  color: var(--jp-cell-editor-border-color);  font-size: 80%;}\n",
       ".datatable .sp {  opacity: 0.25;}\n",
       ".datatable .footer { font-size: 9px; }\n",
       ".datatable .frame_dimensions {  background: var(--jp-border-color3);  border-top: 1px solid var(--jp-border-color0);  color: var(--jp-ui-font-color3);  display: inline-block;  opacity: 0.6;  padding: 1px 10px 1px 5px;}\n",
       "</style>\n"
      ],
      "text/plain": [
       "<IPython.core.display.HTML object>"
      ]
     },
     "metadata": {},
     "output_type": "display_data"
    }
   ],
   "source": [
    "from glob import glob\n",
    "import numpy as np\n",
    "import pandas as pd\n",
    "from tqdm import tqdm\n",
    "from scipy import stats\n",
    "import lightgbm as lgb\n",
    "import xgboost as xgb\n",
    "\n",
    "import matplotlib.pyplot as plt\n",
    "import seaborn as sns\n",
    "\n",
    "np.random.seed(2)"
   ]
  },
  {
   "cell_type": "markdown",
   "id": "ad1810c2",
   "metadata": {
    "papermill": {
     "duration": 0.008976,
     "end_time": "2022-03-24T21:10:44.774425",
     "exception": false,
     "start_time": "2022-03-24T21:10:44.765449",
     "status": "completed"
    },
    "tags": []
   },
   "source": [
    "***\n",
    "## load models"
   ]
  },
  {
   "cell_type": "code",
   "execution_count": 2,
   "id": "2de20f5f",
   "metadata": {
    "execution": {
     "iopub.execute_input": "2022-03-24T21:10:44.797762Z",
     "iopub.status.busy": "2022-03-24T21:10:44.797236Z",
     "iopub.status.idle": "2022-03-24T21:10:45.700256Z",
     "shell.execute_reply": "2022-03-24T21:10:45.699739Z",
     "shell.execute_reply.started": "2022-03-24T21:09:08.672517Z"
    },
    "papermill": {
     "duration": 0.916403,
     "end_time": "2022-03-24T21:10:45.700390",
     "exception": false,
     "start_time": "2022-03-24T21:10:44.783987",
     "status": "completed"
    },
    "tags": []
   },
   "outputs": [
    {
     "data": {
      "text/plain": [
       "['../input/ump-artifacts/lgbm-gbrt/lgbm-seed2.txt',\n",
       " '../input/ump-artifacts/lgbm-gbrt/lgbm-seed19.txt',\n",
       " '../input/ump-artifacts/lgbm-gbrt/lgbm-seed23.txt',\n",
       " '../input/ump-artifacts/lgbm-gbrt/lgbm-seed7.txt',\n",
       " '../input/ump-artifacts/lgbm-gbrt/lgbm-seed11.txt']"
      ]
     },
     "metadata": {},
     "output_type": "display_data"
    },
    {
     "data": {
      "text/plain": [
       "[<lightgbm.basic.Booster at 0x7ff554a6b210>,\n",
       " <lightgbm.basic.Booster at 0x7ff50d490d50>,\n",
       " <lightgbm.basic.Booster at 0x7ff554a6b3d0>,\n",
       " <lightgbm.basic.Booster at 0x7ff554a6b510>,\n",
       " <lightgbm.basic.Booster at 0x7ff554a4b2d0>]"
      ]
     },
     "metadata": {},
     "output_type": "display_data"
    }
   ],
   "source": [
    "files = glob(\"../input/ump-artifacts/lgbm-gbrt/lgbm-seed*.txt\")\n",
    "display(files)\n",
    "\n",
    "boosters_lgbm_gbrt = [lgb.Booster(model_file=fn) for fn in files]\n",
    "display(boosters_lgbm_gbrt)"
   ]
  },
  {
   "cell_type": "code",
   "execution_count": 3,
   "id": "ffc87473",
   "metadata": {
    "execution": {
     "iopub.execute_input": "2022-03-24T21:10:45.725430Z",
     "iopub.status.busy": "2022-03-24T21:10:45.724748Z",
     "iopub.status.idle": "2022-03-24T21:10:46.120854Z",
     "shell.execute_reply": "2022-03-24T21:10:46.121494Z",
     "shell.execute_reply.started": "2022-03-24T21:09:09.594557Z"
    },
    "papermill": {
     "duration": 0.411113,
     "end_time": "2022-03-24T21:10:46.121659",
     "exception": false,
     "start_time": "2022-03-24T21:10:45.710546",
     "status": "completed"
    },
    "tags": []
   },
   "outputs": [
    {
     "data": {
      "text/plain": [
       "['../input/ump-train-lgbm-xtrees/lgbm-seed2.txt',\n",
       " '../input/ump-train-lgbm-xtrees/lgbm-seed19.txt',\n",
       " '../input/ump-train-lgbm-xtrees/lgbm-seed23.txt',\n",
       " '../input/ump-train-lgbm-xtrees/lgbm-seed7.txt',\n",
       " '../input/ump-train-lgbm-xtrees/lgbm-seed11.txt']"
      ]
     },
     "metadata": {},
     "output_type": "display_data"
    },
    {
     "data": {
      "text/plain": [
       "[<lightgbm.basic.Booster at 0x7ff554a4bc90>,\n",
       " <lightgbm.basic.Booster at 0x7ff554a6b9d0>,\n",
       " <lightgbm.basic.Booster at 0x7ff50d490850>,\n",
       " <lightgbm.basic.Booster at 0x7ff554a4b710>,\n",
       " <lightgbm.basic.Booster at 0x7ff554a4be90>]"
      ]
     },
     "metadata": {},
     "output_type": "display_data"
    }
   ],
   "source": [
    "files = glob(\"../input/ump-train-lgbm-xtrees/lgbm-seed*.txt\")\n",
    "display(files)\n",
    "\n",
    "boosters_lgbm_xtrees = [lgb.Booster(model_file=fn) for fn in files]\n",
    "display(boosters_lgbm_xtrees)"
   ]
  },
  {
   "cell_type": "code",
   "execution_count": 4,
   "id": "9b881a94",
   "metadata": {
    "execution": {
     "iopub.execute_input": "2022-03-24T21:10:46.149101Z",
     "iopub.status.busy": "2022-03-24T21:10:46.148391Z",
     "iopub.status.idle": "2022-03-24T21:10:47.741031Z",
     "shell.execute_reply": "2022-03-24T21:10:47.740484Z",
     "shell.execute_reply.started": "2022-03-24T21:09:09.993043Z"
    },
    "papermill": {
     "duration": 1.608443,
     "end_time": "2022-03-24T21:10:47.741156",
     "exception": false,
     "start_time": "2022-03-24T21:10:46.132713",
     "status": "completed"
    },
    "tags": []
   },
   "outputs": [
    {
     "data": {
      "text/plain": [
       "['../input/ump-artifacts/lgbm-dart/lgbm-seed2.txt',\n",
       " '../input/ump-artifacts/lgbm-dart/lgbm-seed5.txt',\n",
       " '../input/ump-artifacts/lgbm-dart/lgbm-seed3.txt',\n",
       " '../input/ump-artifacts/lgbm-dart/lgbm-seed7.txt',\n",
       " '../input/ump-artifacts/lgbm-dart/lgbm-seed11.txt']"
      ]
     },
     "metadata": {},
     "output_type": "display_data"
    },
    {
     "data": {
      "text/plain": [
       "[<lightgbm.basic.Booster at 0x7ff50d36bc90>,\n",
       " <lightgbm.basic.Booster at 0x7ff554a4b590>,\n",
       " <lightgbm.basic.Booster at 0x7ff50d2b6bd0>,\n",
       " <lightgbm.basic.Booster at 0x7ff50d36bcd0>,\n",
       " <lightgbm.basic.Booster at 0x7ff50d36b210>]"
      ]
     },
     "metadata": {},
     "output_type": "display_data"
    }
   ],
   "source": [
    "files = glob(\"../input/ump-artifacts/lgbm-dart/lgbm-seed*.txt\")\n",
    "display(files)\n",
    "\n",
    "boosters_lgbm_dart = [lgb.Booster(model_file=fn) for fn in files]\n",
    "display(boosters_lgbm_dart)"
   ]
  },
  {
   "cell_type": "code",
   "execution_count": 5,
   "id": "64833c5c",
   "metadata": {
    "execution": {
     "iopub.execute_input": "2022-03-24T21:10:47.768289Z",
     "iopub.status.busy": "2022-03-24T21:10:47.767502Z",
     "iopub.status.idle": "2022-03-24T21:10:48.298042Z",
     "shell.execute_reply": "2022-03-24T21:10:48.297581Z",
     "shell.execute_reply.started": "2022-03-24T21:09:11.830715Z"
    },
    "papermill": {
     "duration": 0.545424,
     "end_time": "2022-03-24T21:10:48.298192",
     "exception": false,
     "start_time": "2022-03-24T21:10:47.752768",
     "status": "completed"
    },
    "tags": []
   },
   "outputs": [
    {
     "data": {
      "text/plain": [
       "['../input/ump-artifacts/lgbm-linear/lgbm-seed2.txt',\n",
       " '../input/ump-artifacts/lgbm-linear/lgbm-seed19.txt',\n",
       " '../input/ump-artifacts/lgbm-linear/lgbm-seed23.txt',\n",
       " '../input/ump-artifacts/lgbm-linear/lgbm-seed7.txt',\n",
       " '../input/ump-artifacts/lgbm-linear/lgbm-seed11.txt']"
      ]
     },
     "metadata": {},
     "output_type": "display_data"
    },
    {
     "data": {
      "text/plain": [
       "[<lightgbm.basic.Booster at 0x7ff50d251350>,\n",
       " <lightgbm.basic.Booster at 0x7ff50d23eed0>,\n",
       " <lightgbm.basic.Booster at 0x7ff50d2513d0>,\n",
       " <lightgbm.basic.Booster at 0x7ff50d251790>,\n",
       " <lightgbm.basic.Booster at 0x7ff50d251690>]"
      ]
     },
     "metadata": {},
     "output_type": "display_data"
    }
   ],
   "source": [
    "files = glob(\"../input/ump-artifacts/lgbm-linear/lgbm-seed*.txt\")\n",
    "display(files)\n",
    "\n",
    "boosters_lgbm_linear = [lgb.Booster(model_file=fn) for fn in files]\n",
    "display(boosters_lgbm_linear)"
   ]
  },
  {
   "cell_type": "code",
   "execution_count": 6,
   "id": "ade30ece",
   "metadata": {
    "execution": {
     "iopub.execute_input": "2022-03-24T21:10:48.326776Z",
     "iopub.status.busy": "2022-03-24T21:10:48.326204Z",
     "iopub.status.idle": "2022-03-24T21:10:49.542252Z",
     "shell.execute_reply": "2022-03-24T21:10:49.542709Z",
     "shell.execute_reply.started": "2022-03-24T21:09:12.464040Z"
    },
    "papermill": {
     "duration": 1.232594,
     "end_time": "2022-03-24T21:10:49.542884",
     "exception": false,
     "start_time": "2022-03-24T21:10:48.310290",
     "status": "completed"
    },
    "tags": []
   },
   "outputs": [
    {
     "data": {
      "text/plain": [
       "['../input/ump-artifacts/lgbm-linear-dart/lgbm-seed2.txt',\n",
       " '../input/ump-artifacts/lgbm-linear-dart/lgbm-seed19.txt',\n",
       " '../input/ump-artifacts/lgbm-linear-dart/lgbm-seed23.txt',\n",
       " '../input/ump-artifacts/lgbm-linear-dart/lgbm-seed7.txt',\n",
       " '../input/ump-artifacts/lgbm-linear-dart/lgbm-seed11.txt']"
      ]
     },
     "metadata": {},
     "output_type": "display_data"
    },
    {
     "data": {
      "text/plain": [
       "[<lightgbm.basic.Booster at 0x7ff50d251350>,\n",
       " <lightgbm.basic.Booster at 0x7ff50d23eed0>,\n",
       " <lightgbm.basic.Booster at 0x7ff50d2513d0>,\n",
       " <lightgbm.basic.Booster at 0x7ff50d251790>,\n",
       " <lightgbm.basic.Booster at 0x7ff50d251690>]"
      ]
     },
     "metadata": {},
     "output_type": "display_data"
    }
   ],
   "source": [
    "files = glob(\"../input/ump-artifacts/lgbm-linear-dart/lgbm-seed*.txt\")\n",
    "display(files)\n",
    "\n",
    "boosters_lgbm_linear_dart = [lgb.Booster(model_file=fn) for fn in files]\n",
    "display(boosters_lgbm_linear)"
   ]
  },
  {
   "cell_type": "code",
   "execution_count": 7,
   "id": "e2f9354c",
   "metadata": {
    "execution": {
     "iopub.execute_input": "2022-03-24T21:10:49.574518Z",
     "iopub.status.busy": "2022-03-24T21:10:49.573887Z",
     "iopub.status.idle": "2022-03-24T21:10:52.145441Z",
     "shell.execute_reply": "2022-03-24T21:10:52.144826Z",
     "shell.execute_reply.started": "2022-03-24T21:09:16.101916Z"
    },
    "papermill": {
     "duration": 2.589468,
     "end_time": "2022-03-24T21:10:52.145566",
     "exception": false,
     "start_time": "2022-03-24T21:10:49.556098",
     "status": "completed"
    },
    "tags": []
   },
   "outputs": [
    {
     "data": {
      "text/plain": [
       "['../input/ump-artifacts/xgboost-gbrt/xgb-seed11.json',\n",
       " '../input/ump-artifacts/xgboost-gbrt/xgb-seed2.json',\n",
       " '../input/ump-artifacts/xgboost-gbrt/xgb-seed23.json',\n",
       " '../input/ump-artifacts/xgboost-gbrt/xgb-seed19.json',\n",
       " '../input/ump-artifacts/xgboost-gbrt/xgb-seed7.json']"
      ]
     },
     "metadata": {},
     "output_type": "display_data"
    },
    {
     "data": {
      "text/plain": [
       "[<xgboost.core.Booster at 0x7ff50d598e90>,\n",
       " <xgboost.core.Booster at 0x7ff50d23eb90>,\n",
       " <xgboost.core.Booster at 0x7ff50d23ed90>,\n",
       " <xgboost.core.Booster at 0x7ff50d251c10>,\n",
       " <xgboost.core.Booster at 0x7ff50d2518d0>]"
      ]
     },
     "metadata": {},
     "output_type": "display_data"
    }
   ],
   "source": [
    "files = glob(\"../input/ump-artifacts/xgboost-gbrt/xgb-seed*.json\")\n",
    "display(files)\n",
    "\n",
    "boosters_xgb_gbrt = list()\n",
    "for fn in files:\n",
    "    _model = xgb.Booster()\n",
    "    _model.load_model(fn)\n",
    "    boosters_xgb_gbrt.append(_model)\n",
    "display(boosters_xgb_gbrt)"
   ]
  },
  {
   "cell_type": "markdown",
   "id": "460b4964",
   "metadata": {
    "papermill": {
     "duration": 0.013421,
     "end_time": "2022-03-24T21:10:52.172809",
     "exception": false,
     "start_time": "2022-03-24T21:10:52.159388",
     "status": "completed"
    },
    "tags": []
   },
   "source": [
    "***\n",
    "## inference"
   ]
  },
  {
   "cell_type": "code",
   "execution_count": 8,
   "id": "6869ea51",
   "metadata": {
    "execution": {
     "iopub.execute_input": "2022-03-24T21:10:52.203891Z",
     "iopub.status.busy": "2022-03-24T21:10:52.203340Z",
     "iopub.status.idle": "2022-03-24T21:10:52.228677Z",
     "shell.execute_reply": "2022-03-24T21:10:52.228166Z",
     "shell.execute_reply.started": "2022-03-24T21:09:19.459539Z"
    },
    "papermill": {
     "duration": 0.041928,
     "end_time": "2022-03-24T21:10:52.228818",
     "exception": false,
     "start_time": "2022-03-24T21:10:52.186890",
     "status": "completed"
    },
    "tags": []
   },
   "outputs": [],
   "source": [
    "import ubiquant\n",
    "env = ubiquant.make_env()  \n",
    "iter_test = env.iter_test()"
   ]
  },
  {
   "cell_type": "code",
   "execution_count": 9,
   "id": "86970ed7",
   "metadata": {
    "execution": {
     "iopub.execute_input": "2022-03-24T21:10:52.264762Z",
     "iopub.status.busy": "2022-03-24T21:10:52.263805Z",
     "iopub.status.idle": "2022-03-24T21:10:52.267050Z",
     "shell.execute_reply": "2022-03-24T21:10:52.266481Z",
     "shell.execute_reply.started": "2022-03-24T21:09:20.318484Z"
    },
    "papermill": {
     "duration": 0.024557,
     "end_time": "2022-03-24T21:10:52.267256",
     "exception": false,
     "start_time": "2022-03-24T21:10:52.242699",
     "status": "completed"
    },
    "tags": []
   },
   "outputs": [],
   "source": [
    "def predict(boosters, dataframe, backend=\"lightgbm\"):\n",
    "    features = [f\"f_{i}\" for i in range(300)]\n",
    "    if backend == \"lightgbm\":\n",
    "        preds = [model.predict(dataframe[features]) for model in boosters]\n",
    "    elif backend == \"xgboost\":\n",
    "        dmatrix = xgb.DMatrix(data=dataframe[features])\n",
    "        preds = [model.predict(dmatrix) for model in boosters]\n",
    "    elif backend == \"catboost\":\n",
    "        pass\n",
    "    return np.mean(preds, axis=0)"
   ]
  },
  {
   "cell_type": "code",
   "execution_count": 10,
   "id": "882c9703",
   "metadata": {
    "execution": {
     "iopub.execute_input": "2022-03-24T21:10:52.315959Z",
     "iopub.status.busy": "2022-03-24T21:10:52.315299Z",
     "iopub.status.idle": "2022-03-24T21:10:52.500376Z",
     "shell.execute_reply": "2022-03-24T21:10:52.500791Z",
     "shell.execute_reply.started": "2022-03-24T21:10:00.392254Z"
    },
    "papermill": {
     "duration": 0.213086,
     "end_time": "2022-03-24T21:10:52.500945",
     "exception": false,
     "start_time": "2022-03-24T21:10:52.287859",
     "status": "completed"
    },
    "tags": []
   },
   "outputs": [
    {
     "name": "stdout",
     "output_type": "stream",
     "text": [
      "This version of the API is not optimized and should not be used to estimate the runtime of your code on the hidden test set.\n"
     ]
    },
    {
     "data": {
      "text/html": [
       "<div>\n",
       "<style scoped>\n",
       "    .dataframe tbody tr th:only-of-type {\n",
       "        vertical-align: middle;\n",
       "    }\n",
       "\n",
       "    .dataframe tbody tr th {\n",
       "        vertical-align: top;\n",
       "    }\n",
       "\n",
       "    .dataframe thead th {\n",
       "        text-align: right;\n",
       "    }\n",
       "</style>\n",
       "<table border=\"1\" class=\"dataframe\">\n",
       "  <thead>\n",
       "    <tr style=\"text-align: right;\">\n",
       "      <th></th>\n",
       "      <th>row_id</th>\n",
       "      <th>target</th>\n",
       "    </tr>\n",
       "  </thead>\n",
       "  <tbody>\n",
       "    <tr>\n",
       "      <th>0</th>\n",
       "      <td>1220_1</td>\n",
       "      <td>-0.150352</td>\n",
       "    </tr>\n",
       "    <tr>\n",
       "      <th>1</th>\n",
       "      <td>1220_2</td>\n",
       "      <td>-0.087205</td>\n",
       "    </tr>\n",
       "  </tbody>\n",
       "</table>\n",
       "</div>"
      ],
      "text/plain": [
       "   row_id    target\n",
       "0  1220_1 -0.150352\n",
       "1  1220_2 -0.087205"
      ]
     },
     "metadata": {},
     "output_type": "display_data"
    },
    {
     "data": {
      "text/html": [
       "<div>\n",
       "<style scoped>\n",
       "    .dataframe tbody tr th:only-of-type {\n",
       "        vertical-align: middle;\n",
       "    }\n",
       "\n",
       "    .dataframe tbody tr th {\n",
       "        vertical-align: top;\n",
       "    }\n",
       "\n",
       "    .dataframe thead th {\n",
       "        text-align: right;\n",
       "    }\n",
       "</style>\n",
       "<table border=\"1\" class=\"dataframe\">\n",
       "  <thead>\n",
       "    <tr style=\"text-align: right;\">\n",
       "      <th></th>\n",
       "      <th>row_id</th>\n",
       "      <th>target</th>\n",
       "    </tr>\n",
       "  </thead>\n",
       "  <tbody>\n",
       "    <tr>\n",
       "      <th>0</th>\n",
       "      <td>1221_0</td>\n",
       "      <td>-0.117456</td>\n",
       "    </tr>\n",
       "    <tr>\n",
       "      <th>1</th>\n",
       "      <td>1221_1</td>\n",
       "      <td>-0.135035</td>\n",
       "    </tr>\n",
       "    <tr>\n",
       "      <th>2</th>\n",
       "      <td>1221_2</td>\n",
       "      <td>-0.127813</td>\n",
       "    </tr>\n",
       "  </tbody>\n",
       "</table>\n",
       "</div>"
      ],
      "text/plain": [
       "   row_id    target\n",
       "0  1221_0 -0.117456\n",
       "1  1221_1 -0.135035\n",
       "2  1221_2 -0.127813"
      ]
     },
     "metadata": {},
     "output_type": "display_data"
    },
    {
     "data": {
      "text/html": [
       "<div>\n",
       "<style scoped>\n",
       "    .dataframe tbody tr th:only-of-type {\n",
       "        vertical-align: middle;\n",
       "    }\n",
       "\n",
       "    .dataframe tbody tr th {\n",
       "        vertical-align: top;\n",
       "    }\n",
       "\n",
       "    .dataframe thead th {\n",
       "        text-align: right;\n",
       "    }\n",
       "</style>\n",
       "<table border=\"1\" class=\"dataframe\">\n",
       "  <thead>\n",
       "    <tr style=\"text-align: right;\">\n",
       "      <th></th>\n",
       "      <th>row_id</th>\n",
       "      <th>target</th>\n",
       "    </tr>\n",
       "  </thead>\n",
       "  <tbody>\n",
       "    <tr>\n",
       "      <th>0</th>\n",
       "      <td>1222_0</td>\n",
       "      <td>-0.074970</td>\n",
       "    </tr>\n",
       "    <tr>\n",
       "      <th>1</th>\n",
       "      <td>1222_1</td>\n",
       "      <td>-0.105650</td>\n",
       "    </tr>\n",
       "    <tr>\n",
       "      <th>2</th>\n",
       "      <td>1222_2</td>\n",
       "      <td>-0.116976</td>\n",
       "    </tr>\n",
       "  </tbody>\n",
       "</table>\n",
       "</div>"
      ],
      "text/plain": [
       "   row_id    target\n",
       "0  1222_0 -0.074970\n",
       "1  1222_1 -0.105650\n",
       "2  1222_2 -0.116976"
      ]
     },
     "metadata": {},
     "output_type": "display_data"
    },
    {
     "data": {
      "text/html": [
       "<div>\n",
       "<style scoped>\n",
       "    .dataframe tbody tr th:only-of-type {\n",
       "        vertical-align: middle;\n",
       "    }\n",
       "\n",
       "    .dataframe tbody tr th {\n",
       "        vertical-align: top;\n",
       "    }\n",
       "\n",
       "    .dataframe thead th {\n",
       "        text-align: right;\n",
       "    }\n",
       "</style>\n",
       "<table border=\"1\" class=\"dataframe\">\n",
       "  <thead>\n",
       "    <tr style=\"text-align: right;\">\n",
       "      <th></th>\n",
       "      <th>row_id</th>\n",
       "      <th>target</th>\n",
       "    </tr>\n",
       "  </thead>\n",
       "  <tbody>\n",
       "    <tr>\n",
       "      <th>0</th>\n",
       "      <td>1223_0</td>\n",
       "      <td>-0.099613</td>\n",
       "    </tr>\n",
       "  </tbody>\n",
       "</table>\n",
       "</div>"
      ],
      "text/plain": [
       "   row_id    target\n",
       "0  1223_0 -0.099613"
      ]
     },
     "metadata": {},
     "output_type": "display_data"
    }
   ],
   "source": [
    "for (test_df, sample_prediction_df) in iter_test:  \n",
    "    preds = [\n",
    "        #predict([boosters_lgbm_gbrt[3],], test_df, backend=\"lightgbm\"),\n",
    "        #predict(boosters_lgbm_xtrees, test_df, backend=\"lightgbm\"),\n",
    "        #predict(boosters_lgbm_dart, test_df, backend=\"lightgbm\"),\n",
    "        #predict(boosters_lgbm_linear, test_df, backend=\"lightgbm\"),\n",
    "        predict(boosters_lgbm_linear_dart, test_df, backend=\"lightgbm\"),\n",
    "        #predict([boosters_xgb_gbrt], test_df, backend=\"xgboost\")\n",
    "    ]\n",
    "    \n",
    "    sample_prediction_df['target'] = np.mean(preds, axis=0)\n",
    "    env.predict(sample_prediction_df) \n",
    "    display(sample_prediction_df)"
   ]
  },
  {
   "cell_type": "markdown",
   "id": "52dcd24f",
   "metadata": {
    "papermill": {
     "duration": 0.016089,
     "end_time": "2022-03-24T21:10:52.532591",
     "exception": false,
     "start_time": "2022-03-24T21:10:52.516502",
     "status": "completed"
    },
    "tags": []
   },
   "source": [
    "***"
   ]
  }
 ],
 "metadata": {
  "kernelspec": {
   "display_name": "Python 3",
   "language": "python",
   "name": "python3"
  },
  "language_info": {
   "codemirror_mode": {
    "name": "ipython",
    "version": 3
   },
   "file_extension": ".py",
   "mimetype": "text/x-python",
   "name": "python",
   "nbconvert_exporter": "python",
   "pygments_lexer": "ipython3",
   "version": "3.7.12"
  },
  "papermill": {
   "default_parameters": {},
   "duration": 18.99507,
   "end_time": "2022-03-24T21:10:53.357831",
   "environment_variables": {},
   "exception": null,
   "input_path": "__notebook__.ipynb",
   "output_path": "__notebook__.ipynb",
   "parameters": {},
   "start_time": "2022-03-24T21:10:34.362761",
   "version": "2.3.3"
  }
 },
 "nbformat": 4,
 "nbformat_minor": 5
}
