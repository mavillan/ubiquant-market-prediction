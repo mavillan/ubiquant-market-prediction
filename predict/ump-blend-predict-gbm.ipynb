{
 "cells": [
  {
   "cell_type": "code",
   "execution_count": 1,
   "id": "22cfdba6",
   "metadata": {
    "_cell_guid": "b1076dfc-b9ad-4769-8c92-a6c4dae69d19",
    "_uuid": "8f2839f25d086af736a60e9eeb907d3b93b6e0e5",
    "execution": {
     "iopub.execute_input": "2022-04-20T21:15:21.842659Z",
     "iopub.status.busy": "2022-04-20T21:15:21.842030Z",
     "iopub.status.idle": "2022-04-20T21:15:24.136718Z",
     "shell.execute_reply": "2022-04-20T21:15:24.136044Z",
     "shell.execute_reply.started": "2022-04-20T21:14:15.636962Z"
    },
    "papermill": {
     "duration": 2.325997,
     "end_time": "2022-04-20T21:15:24.136861",
     "exception": false,
     "start_time": "2022-04-20T21:15:21.810864",
     "status": "completed"
    },
    "tags": []
   },
   "outputs": [
    {
     "data": {
      "text/html": [
       "<style type='text/css'>\n",
       ".datatable table.frame { margin-bottom: 0; }\n",
       ".datatable table.frame thead { border-bottom: none; }\n",
       ".datatable table.frame tr.coltypes td {  color: #FFFFFF;  line-height: 6px;  padding: 0 0.5em;}\n",
       ".datatable .bool    { background: #DDDD99; }\n",
       ".datatable .object  { background: #565656; }\n",
       ".datatable .int     { background: #5D9E5D; }\n",
       ".datatable .float   { background: #4040CC; }\n",
       ".datatable .str     { background: #CC4040; }\n",
       ".datatable .time    { background: #40CC40; }\n",
       ".datatable .row_index {  background: var(--jp-border-color3);  border-right: 1px solid var(--jp-border-color0);  color: var(--jp-ui-font-color3);  font-size: 9px;}\n",
       ".datatable .frame tbody td { text-align: left; }\n",
       ".datatable .frame tr.coltypes .row_index {  background: var(--jp-border-color0);}\n",
       ".datatable th:nth-child(2) { padding-left: 12px; }\n",
       ".datatable .hellipsis {  color: var(--jp-cell-editor-border-color);}\n",
       ".datatable .vellipsis {  background: var(--jp-layout-color0);  color: var(--jp-cell-editor-border-color);}\n",
       ".datatable .na {  color: var(--jp-cell-editor-border-color);  font-size: 80%;}\n",
       ".datatable .sp {  opacity: 0.25;}\n",
       ".datatable .footer { font-size: 9px; }\n",
       ".datatable .frame_dimensions {  background: var(--jp-border-color3);  border-top: 1px solid var(--jp-border-color0);  color: var(--jp-ui-font-color3);  display: inline-block;  opacity: 0.6;  padding: 1px 10px 1px 5px;}\n",
       "</style>\n"
      ],
      "text/plain": [
       "<IPython.core.display.HTML object>"
      ]
     },
     "metadata": {},
     "output_type": "display_data"
    }
   ],
   "source": [
    "import gc\n",
    "from glob import glob\n",
    "import numpy as np\n",
    "import pandas as pd\n",
    "from tqdm import tqdm\n",
    "import lightgbm as lgb\n",
    "import xgboost as xgb\n",
    "import optuna\n",
    "from scipy import stats\n",
    "\n",
    "np.random.seed(2112)"
   ]
  },
  {
   "cell_type": "code",
   "execution_count": 2,
   "id": "d81f437a",
   "metadata": {
    "execution": {
     "iopub.execute_input": "2022-04-20T21:15:24.184490Z",
     "iopub.status.busy": "2022-04-20T21:15:24.183844Z",
     "iopub.status.idle": "2022-04-20T21:15:24.186311Z",
     "shell.execute_reply": "2022-04-20T21:15:24.185801Z",
     "shell.execute_reply.started": "2022-04-20T20:33:27.313521Z"
    },
    "papermill": {
     "duration": 0.03086,
     "end_time": "2022-04-20T21:15:24.186435",
     "exception": false,
     "start_time": "2022-04-20T21:15:24.155575",
     "status": "completed"
    },
    "tags": []
   },
   "outputs": [],
   "source": [
    "def reduce_mem_usage(df, verbose=False):\n",
    "    \"\"\"\n",
    "    Utility function to reduce the memory usage of pandas dataframes\n",
    "    \n",
    "    Parameters\n",
    "    ----------\n",
    "    df: pandas.Dataframe\n",
    "    verbose: Boolean\n",
    "    \"\"\"\n",
    "    numerics = ['int16', 'int32', 'int64', 'float16', 'float32', 'float64']\n",
    "    start_mem = df.memory_usage().sum() / 1024**2    \n",
    "    for col in df.columns:\n",
    "        col_type = df[col].dtypes\n",
    "        if col_type in numerics:\n",
    "            c_min = df[col].min()\n",
    "            c_max = df[col].max()\n",
    "            if str(col_type)[:3] == 'int':\n",
    "                if c_min > np.iinfo(np.int8).min and c_max < np.iinfo(np.int8).max:\n",
    "                    df[col] = df[col].astype(np.int8)\n",
    "                elif c_min > np.iinfo(np.int16).min and c_max < np.iinfo(np.int16).max:\n",
    "                    df[col] = df[col].astype(np.int16)\n",
    "                elif c_min > np.iinfo(np.int32).min and c_max < np.iinfo(np.int32).max:\n",
    "                    df[col] = df[col].astype(np.int32)\n",
    "                elif c_min > np.iinfo(np.int64).min and c_max < np.iinfo(np.int64).max:\n",
    "                    df[col] = df[col].astype(np.int64)  \n",
    "            else:\n",
    "                if c_min > np.finfo(np.float32).min and c_max < np.finfo(np.float32).max:\n",
    "                    df[col] = df[col].astype(np.float32)\n",
    "                else:\n",
    "                    df[col] = df[col].astype(np.float64)    \n",
    "    end_mem = df.memory_usage().sum() / 1024**2\n",
    "    if verbose: \n",
    "        print('Mem. usage decreased to {:5.2f} Mb ({:.1f}% reduction)'.format(end_mem, 100 * (start_mem - end_mem) / start_mem))\n",
    "    return df"
   ]
  },
  {
   "cell_type": "markdown",
   "id": "fb9111c6",
   "metadata": {
    "papermill": {
     "duration": 0.017662,
     "end_time": "2022-04-20T21:15:24.222028",
     "exception": false,
     "start_time": "2022-04-20T21:15:24.204366",
     "status": "completed"
    },
    "tags": []
   },
   "source": [
    "***\n",
    "## load models"
   ]
  },
  {
   "cell_type": "code",
   "execution_count": 3,
   "id": "3b6acb9b",
   "metadata": {
    "execution": {
     "iopub.execute_input": "2022-04-20T21:15:24.263043Z",
     "iopub.status.busy": "2022-04-20T21:15:24.261035Z",
     "iopub.status.idle": "2022-04-20T21:15:26.062984Z",
     "shell.execute_reply": "2022-04-20T21:15:26.062450Z",
     "shell.execute_reply.started": "2022-04-20T20:33:27.329666Z"
    },
    "papermill": {
     "duration": 1.822961,
     "end_time": "2022-04-20T21:15:26.063139",
     "exception": false,
     "start_time": "2022-04-20T21:15:24.240178",
     "status": "completed"
    },
    "tags": []
   },
   "outputs": [
    {
     "data": {
      "text/plain": [
       "['../input/ump-artifacts/lgbm-dart/lgbm-seed2.txt',\n",
       " '../input/ump-artifacts/lgbm-dart/lgbm-seed5.txt',\n",
       " '../input/ump-artifacts/lgbm-dart/lgbm-seed3.txt',\n",
       " '../input/ump-artifacts/lgbm-dart/lgbm-seed7.txt',\n",
       " '../input/ump-artifacts/lgbm-dart/lgbm-seed11.txt']"
      ]
     },
     "metadata": {},
     "output_type": "display_data"
    },
    {
     "data": {
      "text/plain": [
       "[<lightgbm.basic.Booster at 0x7f4de3429c10>,\n",
       " <lightgbm.basic.Booster at 0x7f4e2e5cc4d0>,\n",
       " <lightgbm.basic.Booster at 0x7f4e2e5cc850>,\n",
       " <lightgbm.basic.Booster at 0x7f4de309c290>,\n",
       " <lightgbm.basic.Booster at 0x7f4de309c390>]"
      ]
     },
     "metadata": {},
     "output_type": "display_data"
    }
   ],
   "source": [
    "# 0.1409\n",
    "files = glob(\"../input/ump-artifacts/lgbm-dart/lgbm-seed*.txt\")\n",
    "display(files)\n",
    "\n",
    "boosters_lgbm_dart = [lgb.Booster(model_file=fn) for fn in files]\n",
    "display(boosters_lgbm_dart)"
   ]
  },
  {
   "cell_type": "code",
   "execution_count": 4,
   "id": "c8eea8ef",
   "metadata": {
    "execution": {
     "iopub.execute_input": "2022-04-20T21:15:26.104181Z",
     "iopub.status.busy": "2022-04-20T21:15:26.103714Z",
     "iopub.status.idle": "2022-04-20T21:15:27.563618Z",
     "shell.execute_reply": "2022-04-20T21:15:27.564187Z",
     "shell.execute_reply.started": "2022-04-20T20:33:29.780275Z"
    },
    "papermill": {
     "duration": 1.482285,
     "end_time": "2022-04-20T21:15:27.564315",
     "exception": false,
     "start_time": "2022-04-20T21:15:26.082030",
     "status": "completed"
    },
    "tags": []
   },
   "outputs": [
    {
     "data": {
      "text/plain": [
       "['../input/ump-artifacts/lgbm-linear-dart/lgbm-seed2.txt',\n",
       " '../input/ump-artifacts/lgbm-linear-dart/lgbm-seed19.txt',\n",
       " '../input/ump-artifacts/lgbm-linear-dart/lgbm-seed23.txt',\n",
       " '../input/ump-artifacts/lgbm-linear-dart/lgbm-seed7.txt',\n",
       " '../input/ump-artifacts/lgbm-linear-dart/lgbm-seed11.txt']"
      ]
     },
     "metadata": {},
     "output_type": "display_data"
    },
    {
     "data": {
      "text/plain": [
       "[<lightgbm.basic.Booster at 0x7f4e2e5e7ed0>,\n",
       " <lightgbm.basic.Booster at 0x7f4de306bd90>,\n",
       " <lightgbm.basic.Booster at 0x7f4de3429c50>,\n",
       " <lightgbm.basic.Booster at 0x7f4e2e5e7d90>,\n",
       " <lightgbm.basic.Booster at 0x7f4e2e5e7850>]"
      ]
     },
     "metadata": {},
     "output_type": "display_data"
    }
   ],
   "source": [
    "# 0.1419\n",
    "files = glob(\"../input/ump-artifacts/lgbm-linear-dart/lgbm-seed*.txt\")\n",
    "display(files)\n",
    "\n",
    "boosters_lgbm_linear_dart = [lgb.Booster(model_file=fn) for fn in files]\n",
    "display(boosters_lgbm_linear_dart)"
   ]
  },
  {
   "cell_type": "code",
   "execution_count": 5,
   "id": "a8a64090",
   "metadata": {
    "execution": {
     "iopub.execute_input": "2022-04-20T21:15:27.594696Z",
     "iopub.status.busy": "2022-04-20T21:15:27.594231Z",
     "iopub.status.idle": "2022-04-20T21:15:31.225282Z",
     "shell.execute_reply": "2022-04-20T21:15:31.224644Z",
     "shell.execute_reply.started": "2022-04-20T20:33:31.461924Z"
    },
    "papermill": {
     "duration": 3.647657,
     "end_time": "2022-04-20T21:15:31.225415",
     "exception": false,
     "start_time": "2022-04-20T21:15:27.577758",
     "status": "completed"
    },
    "tags": []
   },
   "outputs": [
    {
     "data": {
      "text/plain": [
       "['../input/ump-artifacts/xgboost-gbrt/xgb-seed11.json',\n",
       " '../input/ump-artifacts/xgboost-gbrt/xgb-seed2.json',\n",
       " '../input/ump-artifacts/xgboost-gbrt/xgb-seed23.json',\n",
       " '../input/ump-artifacts/xgboost-gbrt/xgb-seed19.json',\n",
       " '../input/ump-artifacts/xgboost-gbrt/xgb-seed7.json']"
      ]
     },
     "metadata": {},
     "output_type": "display_data"
    },
    {
     "data": {
      "text/plain": [
       "[<xgboost.core.Booster at 0x7f4de3073190>,\n",
       " <xgboost.core.Booster at 0x7f4de68ad290>,\n",
       " <xgboost.core.Booster at 0x7f4de309c450>,\n",
       " <xgboost.core.Booster at 0x7f4de3073510>,\n",
       " <xgboost.core.Booster at 0x7f4de3073550>]"
      ]
     },
     "metadata": {},
     "output_type": "display_data"
    }
   ],
   "source": [
    "# 0.1390\n",
    "files = glob(\"../input/ump-artifacts/xgboost-gbrt/xgb-seed*.json\")\n",
    "display(files)\n",
    "\n",
    "boosters_xgb_gbrt = list()\n",
    "for fn in files:\n",
    "    _model = xgb.Booster()\n",
    "    _model.load_model(fn)\n",
    "    boosters_xgb_gbrt.append(_model)\n",
    "display(boosters_xgb_gbrt)"
   ]
  },
  {
   "cell_type": "markdown",
   "id": "3d7238fe",
   "metadata": {
    "papermill": {
     "duration": 0.020578,
     "end_time": "2022-04-20T21:15:31.266872",
     "exception": false,
     "start_time": "2022-04-20T21:15:31.246294",
     "status": "completed"
    },
    "tags": []
   },
   "source": [
    "***\n",
    "## model blending on newest data"
   ]
  },
  {
   "cell_type": "code",
   "execution_count": 6,
   "id": "f1f44d54",
   "metadata": {
    "execution": {
     "iopub.execute_input": "2022-04-20T21:15:31.316038Z",
     "iopub.status.busy": "2022-04-20T21:15:31.315384Z",
     "iopub.status.idle": "2022-04-20T21:18:12.674352Z",
     "shell.execute_reply": "2022-04-20T21:18:12.673943Z",
     "shell.execute_reply.started": "2022-04-20T20:33:35.120355Z"
    },
    "papermill": {
     "duration": 161.386569,
     "end_time": "2022-04-20T21:18:12.674450",
     "exception": false,
     "start_time": "2022-04-20T21:15:31.287881",
     "status": "completed"
    },
    "tags": []
   },
   "outputs": [
    {
     "name": "stdout",
     "output_type": "stream",
     "text": [
      "Mem. usage decreased to 1082.73 Mb (50.0% reduction)\n"
     ]
    },
    {
     "data": {
      "text/plain": [
       "30"
      ]
     },
     "execution_count": 6,
     "metadata": {},
     "output_type": "execute_result"
    }
   ],
   "source": [
    "feat_names = [f\"f_{i}\" for i in range(300)]\n",
    "col_names = feat_names + [\"target\"]\n",
    "\n",
    "supp_data = pd.read_csv(\"../input/ubiquant-market-prediction/supplemental_train.csv\", usecols=col_names)\n",
    "supp_data = reduce_mem_usage(supp_data, verbose=True)\n",
    "gc.collect()"
   ]
  },
  {
   "cell_type": "code",
   "execution_count": 7,
   "id": "7d69b320",
   "metadata": {
    "execution": {
     "iopub.execute_input": "2022-04-20T21:18:12.705262Z",
     "iopub.status.busy": "2022-04-20T21:18:12.704802Z",
     "iopub.status.idle": "2022-04-20T21:18:12.711035Z",
     "shell.execute_reply": "2022-04-20T21:18:12.711407Z",
     "shell.execute_reply.started": "2022-04-20T20:37:21.845210Z"
    },
    "papermill": {
     "duration": 0.022821,
     "end_time": "2022-04-20T21:18:12.711524",
     "exception": false,
     "start_time": "2022-04-20T21:18:12.688703",
     "status": "completed"
    },
    "tags": []
   },
   "outputs": [],
   "source": [
    "def predict(boosters, dataframe, backend=\"lightgbm\"):\n",
    "    features = [f\"f_{i}\" for i in range(300)]\n",
    "    if backend == \"lightgbm\":\n",
    "        preds = [model.predict(dataframe[features]) for model in boosters]\n",
    "    elif backend == \"xgboost\":\n",
    "        dmatrix = xgb.DMatrix(data=dataframe[features])\n",
    "        preds = [model.predict(dmatrix) for model in boosters]\n",
    "    elif backend == \"catboost\":\n",
    "        pass\n",
    "    return np.mean(preds, axis=0)"
   ]
  },
  {
   "cell_type": "code",
   "execution_count": 8,
   "id": "f4d765c0",
   "metadata": {
    "execution": {
     "iopub.execute_input": "2022-04-20T21:18:12.750052Z",
     "iopub.status.busy": "2022-04-20T21:18:12.749390Z",
     "iopub.status.idle": "2022-04-20T21:34:19.318631Z",
     "shell.execute_reply": "2022-04-20T21:34:19.319217Z",
     "shell.execute_reply.started": "2022-04-20T20:37:21.856522Z"
    },
    "papermill": {
     "duration": 966.593848,
     "end_time": "2022-04-20T21:34:19.319540",
     "exception": false,
     "start_time": "2022-04-20T21:18:12.725692",
     "status": "completed"
    },
    "tags": []
   },
   "outputs": [
    {
     "name": "stdout",
     "output_type": "stream",
     "text": [
      "CPU times: user 1h 2min 38s, sys: 7.27 s, total: 1h 2min 45s\n",
      "Wall time: 16min 6s\n"
     ]
    }
   ],
   "source": [
    "%%time\n",
    "supp_data[\"lgbm_gbrt_dart\"] = predict(boosters_lgbm_dart, supp_data, backend=\"lightgbm\")\n",
    "supp_data[\"lgbm_linear_dart\"] = predict(boosters_lgbm_linear_dart, supp_data, backend=\"lightgbm\")\n",
    "supp_data[\"xgb_gbrt\"] = predict(boosters_xgb_gbrt, supp_data, backend=\"xgboost\")"
   ]
  },
  {
   "cell_type": "code",
   "execution_count": 9,
   "id": "edbde8e0",
   "metadata": {
    "execution": {
     "iopub.execute_input": "2022-04-20T21:34:19.368698Z",
     "iopub.status.busy": "2022-04-20T21:34:19.367878Z",
     "iopub.status.idle": "2022-04-20T21:34:19.760455Z",
     "shell.execute_reply": "2022-04-20T21:34:19.759809Z",
     "shell.execute_reply.started": "2022-04-20T20:58:40.489507Z"
    },
    "papermill": {
     "duration": 0.419457,
     "end_time": "2022-04-20T21:34:19.760603",
     "exception": false,
     "start_time": "2022-04-20T21:34:19.341146",
     "status": "completed"
    },
    "tags": []
   },
   "outputs": [],
   "source": [
    "X = supp_data[[\"lgbm_gbrt_dart\",\"lgbm_linear_dart\",\"xgb_gbrt\"]].values\n",
    "y = supp_data[\"target\"].values"
   ]
  },
  {
   "cell_type": "code",
   "execution_count": 10,
   "id": "c3e6ab22",
   "metadata": {
    "execution": {
     "iopub.execute_input": "2022-04-20T21:34:19.811014Z",
     "iopub.status.busy": "2022-04-20T21:34:19.810237Z",
     "iopub.status.idle": "2022-04-20T21:34:19.812779Z",
     "shell.execute_reply": "2022-04-20T21:34:19.812195Z",
     "shell.execute_reply.started": "2022-04-20T21:14:22.633657Z"
    },
    "papermill": {
     "duration": 0.030026,
     "end_time": "2022-04-20T21:34:19.812903",
     "exception": false,
     "start_time": "2022-04-20T21:34:19.782877",
     "status": "completed"
    },
    "tags": []
   },
   "outputs": [],
   "source": [
    "def objective(trial):\n",
    "    w1 = trial.suggest_uniform(\"w1\", 0, 1)\n",
    "    w2 = trial.suggest_uniform(\"w2\", 0, 1)\n",
    "    w3 = trial.suggest_uniform(\"w3\", 0, 1)\n",
    "    total_weight = w1+w2+w3\n",
    "    \n",
    "    blend_preds = (w1*X[:,0] + w2*X[:,1] + w3*X[:,2]) / total_weight\n",
    "    \n",
    "    # calculate person correlation\n",
    "    return stats.pearsonr(y, blend_preds)[0]"
   ]
  },
  {
   "cell_type": "code",
   "execution_count": 11,
   "id": "48bd4465",
   "metadata": {
    "execution": {
     "iopub.execute_input": "2022-04-20T21:34:19.859968Z",
     "iopub.status.busy": "2022-04-20T21:34:19.859328Z",
     "iopub.status.idle": "2022-04-20T22:12:34.743534Z",
     "shell.execute_reply": "2022-04-20T22:12:34.744060Z"
    },
    "papermill": {
     "duration": 2294.909394,
     "end_time": "2022-04-20T22:12:34.744250",
     "exception": false,
     "start_time": "2022-04-20T21:34:19.834856",
     "status": "completed"
    },
    "tags": []
   },
   "outputs": [
    {
     "name": "stderr",
     "output_type": "stream",
     "text": [
      "/opt/conda/lib/python3.7/site-packages/optuna/progress_bar.py:47: ExperimentalWarning: Progress bar is experimental (supported from v1.2.0). The interface can change in the future.\n",
      "  self._init_valid()\n"
     ]
    },
    {
     "data": {
      "application/vnd.jupyter.widget-view+json": {
       "model_id": "d6e6dfda7c2040c296a69ea8e3769f84",
       "version_major": 2,
       "version_minor": 0
      },
      "text/plain": [
       "  0%|          | 0/10000 [00:00<?, ?it/s]"
      ]
     },
     "metadata": {},
     "output_type": "display_data"
    }
   ],
   "source": [
    "optuna.logging.set_verbosity(optuna.logging.ERROR)\n",
    "\n",
    "study = optuna.create_study(\n",
    "    study_name=\"optimal_blend\",\n",
    "    direction='maximize',\n",
    ")\n",
    "study.optimize(\n",
    "    objective, \n",
    "    n_trials=10000, \n",
    "    timeout=3600,\n",
    "    n_jobs=1,\n",
    "    show_progress_bar=True\n",
    ") "
   ]
  },
  {
   "cell_type": "code",
   "execution_count": 12,
   "id": "0f118ac8",
   "metadata": {
    "execution": {
     "iopub.execute_input": "2022-04-20T22:12:34.796158Z",
     "iopub.status.busy": "2022-04-20T22:12:34.795534Z",
     "iopub.status.idle": "2022-04-20T22:12:35.035658Z",
     "shell.execute_reply": "2022-04-20T22:12:35.034815Z"
    },
    "papermill": {
     "duration": 0.270619,
     "end_time": "2022-04-20T22:12:35.035794",
     "exception": false,
     "start_time": "2022-04-20T22:12:34.765175",
     "status": "completed"
    },
    "tags": []
   },
   "outputs": [
    {
     "data": {
      "text/html": [
       "<div>\n",
       "<style scoped>\n",
       "    .dataframe tbody tr th:only-of-type {\n",
       "        vertical-align: middle;\n",
       "    }\n",
       "\n",
       "    .dataframe tbody tr th {\n",
       "        vertical-align: top;\n",
       "    }\n",
       "\n",
       "    .dataframe thead th {\n",
       "        text-align: right;\n",
       "    }\n",
       "</style>\n",
       "<table border=\"1\" class=\"dataframe\">\n",
       "  <thead>\n",
       "    <tr style=\"text-align: right;\">\n",
       "      <th></th>\n",
       "      <th>number</th>\n",
       "      <th>value</th>\n",
       "      <th>datetime_start</th>\n",
       "      <th>datetime_complete</th>\n",
       "      <th>duration</th>\n",
       "      <th>params_w1</th>\n",
       "      <th>params_w2</th>\n",
       "      <th>params_w3</th>\n",
       "      <th>state</th>\n",
       "    </tr>\n",
       "  </thead>\n",
       "  <tbody>\n",
       "    <tr>\n",
       "      <th>8557</th>\n",
       "      <td>8557</td>\n",
       "      <td>0.002175</td>\n",
       "      <td>2022-04-20 22:02:06.716803</td>\n",
       "      <td>2022-04-20 22:02:07.050718</td>\n",
       "      <td>0 days 00:00:00.333915</td>\n",
       "      <td>0.850704</td>\n",
       "      <td>0.239817</td>\n",
       "      <td>0.000003</td>\n",
       "      <td>COMPLETE</td>\n",
       "    </tr>\n",
       "    <tr>\n",
       "      <th>9110</th>\n",
       "      <td>9110</td>\n",
       "      <td>0.002175</td>\n",
       "      <td>2022-04-20 22:05:19.588474</td>\n",
       "      <td>2022-04-20 22:05:19.825146</td>\n",
       "      <td>0 days 00:00:00.236672</td>\n",
       "      <td>0.786069</td>\n",
       "      <td>0.221156</td>\n",
       "      <td>0.000007</td>\n",
       "      <td>COMPLETE</td>\n",
       "    </tr>\n",
       "    <tr>\n",
       "      <th>7162</th>\n",
       "      <td>7162</td>\n",
       "      <td>0.002175</td>\n",
       "      <td>2022-04-20 21:54:32.417771</td>\n",
       "      <td>2022-04-20 21:54:32.617799</td>\n",
       "      <td>0 days 00:00:00.200028</td>\n",
       "      <td>0.829492</td>\n",
       "      <td>0.232689</td>\n",
       "      <td>0.000011</td>\n",
       "      <td>COMPLETE</td>\n",
       "    </tr>\n",
       "    <tr>\n",
       "      <th>6986</th>\n",
       "      <td>6986</td>\n",
       "      <td>0.002175</td>\n",
       "      <td>2022-04-20 21:53:39.983419</td>\n",
       "      <td>2022-04-20 21:53:40.306079</td>\n",
       "      <td>0 days 00:00:00.322660</td>\n",
       "      <td>0.803509</td>\n",
       "      <td>0.227033</td>\n",
       "      <td>0.000012</td>\n",
       "      <td>COMPLETE</td>\n",
       "    </tr>\n",
       "    <tr>\n",
       "      <th>6674</th>\n",
       "      <td>6674</td>\n",
       "      <td>0.002175</td>\n",
       "      <td>2022-04-20 21:52:19.849352</td>\n",
       "      <td>2022-04-20 21:52:20.121198</td>\n",
       "      <td>0 days 00:00:00.271846</td>\n",
       "      <td>0.813491</td>\n",
       "      <td>0.222354</td>\n",
       "      <td>0.000016</td>\n",
       "      <td>COMPLETE</td>\n",
       "    </tr>\n",
       "    <tr>\n",
       "      <th>...</th>\n",
       "      <td>...</td>\n",
       "      <td>...</td>\n",
       "      <td>...</td>\n",
       "      <td>...</td>\n",
       "      <td>...</td>\n",
       "      <td>...</td>\n",
       "      <td>...</td>\n",
       "      <td>...</td>\n",
       "      <td>...</td>\n",
       "    </tr>\n",
       "    <tr>\n",
       "      <th>1</th>\n",
       "      <td>1</td>\n",
       "      <td>0.001755</td>\n",
       "      <td>2022-04-20 21:34:19.918417</td>\n",
       "      <td>2022-04-20 21:34:19.934258</td>\n",
       "      <td>0 days 00:00:00.015841</td>\n",
       "      <td>0.137078</td>\n",
       "      <td>0.357924</td>\n",
       "      <td>0.788384</td>\n",
       "      <td>COMPLETE</td>\n",
       "    </tr>\n",
       "    <tr>\n",
       "      <th>5066</th>\n",
       "      <td>5066</td>\n",
       "      <td>0.001719</td>\n",
       "      <td>2022-04-20 21:44:46.562808</td>\n",
       "      <td>2022-04-20 21:44:46.715894</td>\n",
       "      <td>0 days 00:00:00.153086</td>\n",
       "      <td>0.185114</td>\n",
       "      <td>0.157057</td>\n",
       "      <td>0.749482</td>\n",
       "      <td>COMPLETE</td>\n",
       "    </tr>\n",
       "    <tr>\n",
       "      <th>20</th>\n",
       "      <td>20</td>\n",
       "      <td>0.001709</td>\n",
       "      <td>2022-04-20 21:34:20.358992</td>\n",
       "      <td>2022-04-20 21:34:20.384989</td>\n",
       "      <td>0 days 00:00:00.025997</td>\n",
       "      <td>0.293225</td>\n",
       "      <td>0.116516</td>\n",
       "      <td>0.997201</td>\n",
       "      <td>COMPLETE</td>\n",
       "    </tr>\n",
       "    <tr>\n",
       "      <th>67</th>\n",
       "      <td>67</td>\n",
       "      <td>0.001709</td>\n",
       "      <td>2022-04-20 21:34:21.758835</td>\n",
       "      <td>2022-04-20 21:34:21.786935</td>\n",
       "      <td>0 days 00:00:00.028100</td>\n",
       "      <td>0.180725</td>\n",
       "      <td>0.234716</td>\n",
       "      <td>0.943356</td>\n",
       "      <td>COMPLETE</td>\n",
       "    </tr>\n",
       "    <tr>\n",
       "      <th>6383</th>\n",
       "      <td>6383</td>\n",
       "      <td>0.001690</td>\n",
       "      <td>2022-04-20 21:50:40.761060</td>\n",
       "      <td>2022-04-20 21:50:41.059772</td>\n",
       "      <td>0 days 00:00:00.298712</td>\n",
       "      <td>0.154265</td>\n",
       "      <td>0.188098</td>\n",
       "      <td>0.890194</td>\n",
       "      <td>COMPLETE</td>\n",
       "    </tr>\n",
       "  </tbody>\n",
       "</table>\n",
       "<p>10000 rows × 9 columns</p>\n",
       "</div>"
      ],
      "text/plain": [
       "      number     value             datetime_start          datetime_complete  \\\n",
       "8557    8557  0.002175 2022-04-20 22:02:06.716803 2022-04-20 22:02:07.050718   \n",
       "9110    9110  0.002175 2022-04-20 22:05:19.588474 2022-04-20 22:05:19.825146   \n",
       "7162    7162  0.002175 2022-04-20 21:54:32.417771 2022-04-20 21:54:32.617799   \n",
       "6986    6986  0.002175 2022-04-20 21:53:39.983419 2022-04-20 21:53:40.306079   \n",
       "6674    6674  0.002175 2022-04-20 21:52:19.849352 2022-04-20 21:52:20.121198   \n",
       "...      ...       ...                        ...                        ...   \n",
       "1          1  0.001755 2022-04-20 21:34:19.918417 2022-04-20 21:34:19.934258   \n",
       "5066    5066  0.001719 2022-04-20 21:44:46.562808 2022-04-20 21:44:46.715894   \n",
       "20        20  0.001709 2022-04-20 21:34:20.358992 2022-04-20 21:34:20.384989   \n",
       "67        67  0.001709 2022-04-20 21:34:21.758835 2022-04-20 21:34:21.786935   \n",
       "6383    6383  0.001690 2022-04-20 21:50:40.761060 2022-04-20 21:50:41.059772   \n",
       "\n",
       "                   duration  params_w1  params_w2  params_w3     state  \n",
       "8557 0 days 00:00:00.333915   0.850704   0.239817   0.000003  COMPLETE  \n",
       "9110 0 days 00:00:00.236672   0.786069   0.221156   0.000007  COMPLETE  \n",
       "7162 0 days 00:00:00.200028   0.829492   0.232689   0.000011  COMPLETE  \n",
       "6986 0 days 00:00:00.322660   0.803509   0.227033   0.000012  COMPLETE  \n",
       "6674 0 days 00:00:00.271846   0.813491   0.222354   0.000016  COMPLETE  \n",
       "...                     ...        ...        ...        ...       ...  \n",
       "1    0 days 00:00:00.015841   0.137078   0.357924   0.788384  COMPLETE  \n",
       "5066 0 days 00:00:00.153086   0.185114   0.157057   0.749482  COMPLETE  \n",
       "20   0 days 00:00:00.025997   0.293225   0.116516   0.997201  COMPLETE  \n",
       "67   0 days 00:00:00.028100   0.180725   0.234716   0.943356  COMPLETE  \n",
       "6383 0 days 00:00:00.298712   0.154265   0.188098   0.890194  COMPLETE  \n",
       "\n",
       "[10000 rows x 9 columns]"
      ]
     },
     "execution_count": 12,
     "metadata": {},
     "output_type": "execute_result"
    }
   ],
   "source": [
    "study.trials_dataframe().sort_values(\"value\", ascending=False)"
   ]
  },
  {
   "cell_type": "code",
   "execution_count": 13,
   "id": "aee3f1f7",
   "metadata": {
    "execution": {
     "iopub.execute_input": "2022-04-20T22:12:35.089539Z",
     "iopub.status.busy": "2022-04-20T22:12:35.089029Z",
     "iopub.status.idle": "2022-04-20T22:12:35.091994Z",
     "shell.execute_reply": "2022-04-20T22:12:35.092453Z"
    },
    "papermill": {
     "duration": 0.032383,
     "end_time": "2022-04-20T22:12:35.092594",
     "exception": false,
     "start_time": "2022-04-20T22:12:35.060211",
     "status": "completed"
    },
    "tags": []
   },
   "outputs": [
    {
     "data": {
      "text/plain": [
       "{'w1': 0.8507043739249086,\n",
       " 'w2': 0.2398174716309868,\n",
       " 'w3': 3.243916114959873e-06}"
      ]
     },
     "execution_count": 13,
     "metadata": {},
     "output_type": "execute_result"
    }
   ],
   "source": [
    "blend_params = dict(study.best_params)\n",
    "blend_params"
   ]
  },
  {
   "cell_type": "markdown",
   "id": "9b1779fc",
   "metadata": {
    "papermill": {
     "duration": 0.015755,
     "end_time": "2022-04-20T22:12:35.124559",
     "exception": false,
     "start_time": "2022-04-20T22:12:35.108804",
     "status": "completed"
    },
    "tags": []
   },
   "source": [
    "***\n",
    "## inference"
   ]
  },
  {
   "cell_type": "code",
   "execution_count": 14,
   "id": "046dea9d",
   "metadata": {
    "execution": {
     "iopub.execute_input": "2022-04-20T22:12:35.160139Z",
     "iopub.status.busy": "2022-04-20T22:12:35.159658Z",
     "iopub.status.idle": "2022-04-20T22:12:35.200410Z",
     "shell.execute_reply": "2022-04-20T22:12:35.200905Z"
    },
    "papermill": {
     "duration": 0.060543,
     "end_time": "2022-04-20T22:12:35.201081",
     "exception": false,
     "start_time": "2022-04-20T22:12:35.140538",
     "status": "completed"
    },
    "tags": []
   },
   "outputs": [],
   "source": [
    "import ubiquant\n",
    "env = ubiquant.make_env()  \n",
    "iter_test = env.iter_test()"
   ]
  },
  {
   "cell_type": "code",
   "execution_count": 15,
   "id": "7b4f58a0",
   "metadata": {
    "execution": {
     "iopub.execute_input": "2022-04-20T22:12:35.254922Z",
     "iopub.status.busy": "2022-04-20T22:12:35.254292Z",
     "iopub.status.idle": "2022-04-20T22:12:35.737016Z",
     "shell.execute_reply": "2022-04-20T22:12:35.737573Z"
    },
    "papermill": {
     "duration": 0.510997,
     "end_time": "2022-04-20T22:12:35.737759",
     "exception": false,
     "start_time": "2022-04-20T22:12:35.226762",
     "status": "completed"
    },
    "tags": []
   },
   "outputs": [
    {
     "name": "stdout",
     "output_type": "stream",
     "text": [
      "This version of the API is not optimized and should not be used to estimate the runtime of your code on the hidden test set.\n"
     ]
    },
    {
     "data": {
      "text/html": [
       "<div>\n",
       "<style scoped>\n",
       "    .dataframe tbody tr th:only-of-type {\n",
       "        vertical-align: middle;\n",
       "    }\n",
       "\n",
       "    .dataframe tbody tr th {\n",
       "        vertical-align: top;\n",
       "    }\n",
       "\n",
       "    .dataframe thead th {\n",
       "        text-align: right;\n",
       "    }\n",
       "</style>\n",
       "<table border=\"1\" class=\"dataframe\">\n",
       "  <thead>\n",
       "    <tr style=\"text-align: right;\">\n",
       "      <th></th>\n",
       "      <th>row_id</th>\n",
       "      <th>target</th>\n",
       "    </tr>\n",
       "  </thead>\n",
       "  <tbody>\n",
       "    <tr>\n",
       "      <th>0</th>\n",
       "      <td>1220_1</td>\n",
       "      <td>-0.141269</td>\n",
       "    </tr>\n",
       "    <tr>\n",
       "      <th>1</th>\n",
       "      <td>1220_2</td>\n",
       "      <td>-0.110443</td>\n",
       "    </tr>\n",
       "  </tbody>\n",
       "</table>\n",
       "</div>"
      ],
      "text/plain": [
       "   row_id    target\n",
       "0  1220_1 -0.141269\n",
       "1  1220_2 -0.110443"
      ]
     },
     "metadata": {},
     "output_type": "display_data"
    },
    {
     "data": {
      "text/html": [
       "<div>\n",
       "<style scoped>\n",
       "    .dataframe tbody tr th:only-of-type {\n",
       "        vertical-align: middle;\n",
       "    }\n",
       "\n",
       "    .dataframe tbody tr th {\n",
       "        vertical-align: top;\n",
       "    }\n",
       "\n",
       "    .dataframe thead th {\n",
       "        text-align: right;\n",
       "    }\n",
       "</style>\n",
       "<table border=\"1\" class=\"dataframe\">\n",
       "  <thead>\n",
       "    <tr style=\"text-align: right;\">\n",
       "      <th></th>\n",
       "      <th>row_id</th>\n",
       "      <th>target</th>\n",
       "    </tr>\n",
       "  </thead>\n",
       "  <tbody>\n",
       "    <tr>\n",
       "      <th>0</th>\n",
       "      <td>1221_0</td>\n",
       "      <td>-0.109540</td>\n",
       "    </tr>\n",
       "    <tr>\n",
       "      <th>1</th>\n",
       "      <td>1221_1</td>\n",
       "      <td>-0.140778</td>\n",
       "    </tr>\n",
       "    <tr>\n",
       "      <th>2</th>\n",
       "      <td>1221_2</td>\n",
       "      <td>-0.136296</td>\n",
       "    </tr>\n",
       "  </tbody>\n",
       "</table>\n",
       "</div>"
      ],
      "text/plain": [
       "   row_id    target\n",
       "0  1221_0 -0.109540\n",
       "1  1221_1 -0.140778\n",
       "2  1221_2 -0.136296"
      ]
     },
     "metadata": {},
     "output_type": "display_data"
    },
    {
     "data": {
      "text/html": [
       "<div>\n",
       "<style scoped>\n",
       "    .dataframe tbody tr th:only-of-type {\n",
       "        vertical-align: middle;\n",
       "    }\n",
       "\n",
       "    .dataframe tbody tr th {\n",
       "        vertical-align: top;\n",
       "    }\n",
       "\n",
       "    .dataframe thead th {\n",
       "        text-align: right;\n",
       "    }\n",
       "</style>\n",
       "<table border=\"1\" class=\"dataframe\">\n",
       "  <thead>\n",
       "    <tr style=\"text-align: right;\">\n",
       "      <th></th>\n",
       "      <th>row_id</th>\n",
       "      <th>target</th>\n",
       "    </tr>\n",
       "  </thead>\n",
       "  <tbody>\n",
       "    <tr>\n",
       "      <th>0</th>\n",
       "      <td>1222_0</td>\n",
       "      <td>-0.072620</td>\n",
       "    </tr>\n",
       "    <tr>\n",
       "      <th>1</th>\n",
       "      <td>1222_1</td>\n",
       "      <td>-0.140486</td>\n",
       "    </tr>\n",
       "    <tr>\n",
       "      <th>2</th>\n",
       "      <td>1222_2</td>\n",
       "      <td>-0.115629</td>\n",
       "    </tr>\n",
       "  </tbody>\n",
       "</table>\n",
       "</div>"
      ],
      "text/plain": [
       "   row_id    target\n",
       "0  1222_0 -0.072620\n",
       "1  1222_1 -0.140486\n",
       "2  1222_2 -0.115629"
      ]
     },
     "metadata": {},
     "output_type": "display_data"
    },
    {
     "data": {
      "text/html": [
       "<div>\n",
       "<style scoped>\n",
       "    .dataframe tbody tr th:only-of-type {\n",
       "        vertical-align: middle;\n",
       "    }\n",
       "\n",
       "    .dataframe tbody tr th {\n",
       "        vertical-align: top;\n",
       "    }\n",
       "\n",
       "    .dataframe thead th {\n",
       "        text-align: right;\n",
       "    }\n",
       "</style>\n",
       "<table border=\"1\" class=\"dataframe\">\n",
       "  <thead>\n",
       "    <tr style=\"text-align: right;\">\n",
       "      <th></th>\n",
       "      <th>row_id</th>\n",
       "      <th>target</th>\n",
       "    </tr>\n",
       "  </thead>\n",
       "  <tbody>\n",
       "    <tr>\n",
       "      <th>0</th>\n",
       "      <td>1223_0</td>\n",
       "      <td>-0.108669</td>\n",
       "    </tr>\n",
       "  </tbody>\n",
       "</table>\n",
       "</div>"
      ],
      "text/plain": [
       "   row_id    target\n",
       "0  1223_0 -0.108669"
      ]
     },
     "metadata": {},
     "output_type": "display_data"
    }
   ],
   "source": [
    "for (test_df, sample_prediction_df) in iter_test:\n",
    "    preds1 = predict(boosters_lgbm_dart, test_df, backend=\"lightgbm\")\n",
    "    preds2 = predict(boosters_lgbm_linear_dart, test_df, backend=\"lightgbm\")\n",
    "    preds3 = predict(boosters_xgb_gbrt, test_df, backend=\"xgboost\")\n",
    "    \n",
    "    blend_preds  = blend_params[\"w1\"]*preds1 + blend_params[\"w2\"]*preds2 + blend_params[\"w3\"]*preds3\n",
    "    blend_preds = blend_preds / sum(blend_params.values())\n",
    "    \n",
    "    sample_prediction_df['target'] = blend_preds\n",
    "    env.predict(sample_prediction_df) \n",
    "    display(sample_prediction_df)"
   ]
  },
  {
   "cell_type": "markdown",
   "id": "9314bad2",
   "metadata": {
    "papermill": {
     "duration": 0.028225,
     "end_time": "2022-04-20T22:12:35.793671",
     "exception": false,
     "start_time": "2022-04-20T22:12:35.765446",
     "status": "completed"
    },
    "tags": []
   },
   "source": [
    "***"
   ]
  }
 ],
 "metadata": {
  "kernelspec": {
   "display_name": "Python 3",
   "language": "python",
   "name": "python3"
  },
  "language_info": {
   "codemirror_mode": {
    "name": "ipython",
    "version": 3
   },
   "file_extension": ".py",
   "mimetype": "text/x-python",
   "name": "python",
   "nbconvert_exporter": "python",
   "pygments_lexer": "ipython3",
   "version": "3.7.12"
  },
  "papermill": {
   "default_parameters": {},
   "duration": 3442.514523,
   "end_time": "2022-04-20T22:12:36.943935",
   "environment_variables": {},
   "exception": null,
   "input_path": "__notebook__.ipynb",
   "output_path": "__notebook__.ipynb",
   "parameters": {},
   "start_time": "2022-04-20T21:15:14.429412",
   "version": "2.3.3"
  },
  "widgets": {
   "application/vnd.jupyter.widget-state+json": {
    "state": {
     "0c14b60e5ebc4f598e0c74eab15748c1": {
      "model_module": "@jupyter-widgets/base",
      "model_module_version": "1.2.0",
      "model_name": "LayoutModel",
      "state": {
       "_model_module": "@jupyter-widgets/base",
       "_model_module_version": "1.2.0",
       "_model_name": "LayoutModel",
       "_view_count": null,
       "_view_module": "@jupyter-widgets/base",
       "_view_module_version": "1.2.0",
       "_view_name": "LayoutView",
       "align_content": null,
       "align_items": null,
       "align_self": null,
       "border": null,
       "bottom": null,
       "display": null,
       "flex": null,
       "flex_flow": null,
       "grid_area": null,
       "grid_auto_columns": null,
       "grid_auto_flow": null,
       "grid_auto_rows": null,
       "grid_column": null,
       "grid_gap": null,
       "grid_row": null,
       "grid_template_areas": null,
       "grid_template_columns": null,
       "grid_template_rows": null,
       "height": null,
       "justify_content": null,
       "justify_items": null,
       "left": null,
       "margin": null,
       "max_height": null,
       "max_width": null,
       "min_height": null,
       "min_width": null,
       "object_fit": null,
       "object_position": null,
       "order": null,
       "overflow": null,
       "overflow_x": null,
       "overflow_y": null,
       "padding": null,
       "right": null,
       "top": null,
       "visibility": null,
       "width": null
      }
     },
     "1465613036d140609fe41d59c92cb68c": {
      "model_module": "@jupyter-widgets/controls",
      "model_module_version": "1.5.0",
      "model_name": "HTMLModel",
      "state": {
       "_dom_classes": [],
       "_model_module": "@jupyter-widgets/controls",
       "_model_module_version": "1.5.0",
       "_model_name": "HTMLModel",
       "_view_count": null,
       "_view_module": "@jupyter-widgets/controls",
       "_view_module_version": "1.5.0",
       "_view_name": "HTMLView",
       "description": "",
       "description_tooltip": null,
       "layout": "IPY_MODEL_ab27c938ea8f40bdb3b4274a002aba3e",
       "placeholder": "​",
       "style": "IPY_MODEL_e833e493b9b34ec5bd1f4d761e5ce516",
       "value": "100%"
      }
     },
     "4b0148ef0a0447519d8803cd6d494138": {
      "model_module": "@jupyter-widgets/controls",
      "model_module_version": "1.5.0",
      "model_name": "ProgressStyleModel",
      "state": {
       "_model_module": "@jupyter-widgets/controls",
       "_model_module_version": "1.5.0",
       "_model_name": "ProgressStyleModel",
       "_view_count": null,
       "_view_module": "@jupyter-widgets/base",
       "_view_module_version": "1.2.0",
       "_view_name": "StyleView",
       "bar_color": null,
       "description_width": ""
      }
     },
     "55f8161113ae4f388ece1abf5814ed90": {
      "model_module": "@jupyter-widgets/base",
      "model_module_version": "1.2.0",
      "model_name": "LayoutModel",
      "state": {
       "_model_module": "@jupyter-widgets/base",
       "_model_module_version": "1.2.0",
       "_model_name": "LayoutModel",
       "_view_count": null,
       "_view_module": "@jupyter-widgets/base",
       "_view_module_version": "1.2.0",
       "_view_name": "LayoutView",
       "align_content": null,
       "align_items": null,
       "align_self": null,
       "border": null,
       "bottom": null,
       "display": null,
       "flex": null,
       "flex_flow": null,
       "grid_area": null,
       "grid_auto_columns": null,
       "grid_auto_flow": null,
       "grid_auto_rows": null,
       "grid_column": null,
       "grid_gap": null,
       "grid_row": null,
       "grid_template_areas": null,
       "grid_template_columns": null,
       "grid_template_rows": null,
       "height": null,
       "justify_content": null,
       "justify_items": null,
       "left": null,
       "margin": null,
       "max_height": null,
       "max_width": null,
       "min_height": null,
       "min_width": null,
       "object_fit": null,
       "object_position": null,
       "order": null,
       "overflow": null,
       "overflow_x": null,
       "overflow_y": null,
       "padding": null,
       "right": null,
       "top": null,
       "visibility": null,
       "width": null
      }
     },
     "6fc2fc4c1be6403db54b81471b2bdc06": {
      "model_module": "@jupyter-widgets/controls",
      "model_module_version": "1.5.0",
      "model_name": "HTMLModel",
      "state": {
       "_dom_classes": [],
       "_model_module": "@jupyter-widgets/controls",
       "_model_module_version": "1.5.0",
       "_model_name": "HTMLModel",
       "_view_count": null,
       "_view_module": "@jupyter-widgets/controls",
       "_view_module_version": "1.5.0",
       "_view_name": "HTMLView",
       "description": "",
       "description_tooltip": null,
       "layout": "IPY_MODEL_d2b75c793eaa40db80b324bee3a6a445",
       "placeholder": "​",
       "style": "IPY_MODEL_eb0eb7e42a234365b3a099b182878f9a",
       "value": " 10000/10000 [38:14&lt;00:00,  2.84it/s, 2294.85/3600 seconds]"
      }
     },
     "ab27c938ea8f40bdb3b4274a002aba3e": {
      "model_module": "@jupyter-widgets/base",
      "model_module_version": "1.2.0",
      "model_name": "LayoutModel",
      "state": {
       "_model_module": "@jupyter-widgets/base",
       "_model_module_version": "1.2.0",
       "_model_name": "LayoutModel",
       "_view_count": null,
       "_view_module": "@jupyter-widgets/base",
       "_view_module_version": "1.2.0",
       "_view_name": "LayoutView",
       "align_content": null,
       "align_items": null,
       "align_self": null,
       "border": null,
       "bottom": null,
       "display": null,
       "flex": null,
       "flex_flow": null,
       "grid_area": null,
       "grid_auto_columns": null,
       "grid_auto_flow": null,
       "grid_auto_rows": null,
       "grid_column": null,
       "grid_gap": null,
       "grid_row": null,
       "grid_template_areas": null,
       "grid_template_columns": null,
       "grid_template_rows": null,
       "height": null,
       "justify_content": null,
       "justify_items": null,
       "left": null,
       "margin": null,
       "max_height": null,
       "max_width": null,
       "min_height": null,
       "min_width": null,
       "object_fit": null,
       "object_position": null,
       "order": null,
       "overflow": null,
       "overflow_x": null,
       "overflow_y": null,
       "padding": null,
       "right": null,
       "top": null,
       "visibility": null,
       "width": null
      }
     },
     "bc7b551ff2a84c349166ec8484fad490": {
      "model_module": "@jupyter-widgets/controls",
      "model_module_version": "1.5.0",
      "model_name": "FloatProgressModel",
      "state": {
       "_dom_classes": [],
       "_model_module": "@jupyter-widgets/controls",
       "_model_module_version": "1.5.0",
       "_model_name": "FloatProgressModel",
       "_view_count": null,
       "_view_module": "@jupyter-widgets/controls",
       "_view_module_version": "1.5.0",
       "_view_name": "ProgressView",
       "bar_style": "success",
       "description": "",
       "description_tooltip": null,
       "layout": "IPY_MODEL_0c14b60e5ebc4f598e0c74eab15748c1",
       "max": 10000.0,
       "min": 0.0,
       "orientation": "horizontal",
       "style": "IPY_MODEL_4b0148ef0a0447519d8803cd6d494138",
       "value": 10000.0
      }
     },
     "d2b75c793eaa40db80b324bee3a6a445": {
      "model_module": "@jupyter-widgets/base",
      "model_module_version": "1.2.0",
      "model_name": "LayoutModel",
      "state": {
       "_model_module": "@jupyter-widgets/base",
       "_model_module_version": "1.2.0",
       "_model_name": "LayoutModel",
       "_view_count": null,
       "_view_module": "@jupyter-widgets/base",
       "_view_module_version": "1.2.0",
       "_view_name": "LayoutView",
       "align_content": null,
       "align_items": null,
       "align_self": null,
       "border": null,
       "bottom": null,
       "display": null,
       "flex": null,
       "flex_flow": null,
       "grid_area": null,
       "grid_auto_columns": null,
       "grid_auto_flow": null,
       "grid_auto_rows": null,
       "grid_column": null,
       "grid_gap": null,
       "grid_row": null,
       "grid_template_areas": null,
       "grid_template_columns": null,
       "grid_template_rows": null,
       "height": null,
       "justify_content": null,
       "justify_items": null,
       "left": null,
       "margin": null,
       "max_height": null,
       "max_width": null,
       "min_height": null,
       "min_width": null,
       "object_fit": null,
       "object_position": null,
       "order": null,
       "overflow": null,
       "overflow_x": null,
       "overflow_y": null,
       "padding": null,
       "right": null,
       "top": null,
       "visibility": null,
       "width": null
      }
     },
     "d6e6dfda7c2040c296a69ea8e3769f84": {
      "model_module": "@jupyter-widgets/controls",
      "model_module_version": "1.5.0",
      "model_name": "HBoxModel",
      "state": {
       "_dom_classes": [],
       "_model_module": "@jupyter-widgets/controls",
       "_model_module_version": "1.5.0",
       "_model_name": "HBoxModel",
       "_view_count": null,
       "_view_module": "@jupyter-widgets/controls",
       "_view_module_version": "1.5.0",
       "_view_name": "HBoxView",
       "box_style": "",
       "children": [
        "IPY_MODEL_1465613036d140609fe41d59c92cb68c",
        "IPY_MODEL_bc7b551ff2a84c349166ec8484fad490",
        "IPY_MODEL_6fc2fc4c1be6403db54b81471b2bdc06"
       ],
       "layout": "IPY_MODEL_55f8161113ae4f388ece1abf5814ed90"
      }
     },
     "e833e493b9b34ec5bd1f4d761e5ce516": {
      "model_module": "@jupyter-widgets/controls",
      "model_module_version": "1.5.0",
      "model_name": "DescriptionStyleModel",
      "state": {
       "_model_module": "@jupyter-widgets/controls",
       "_model_module_version": "1.5.0",
       "_model_name": "DescriptionStyleModel",
       "_view_count": null,
       "_view_module": "@jupyter-widgets/base",
       "_view_module_version": "1.2.0",
       "_view_name": "StyleView",
       "description_width": ""
      }
     },
     "eb0eb7e42a234365b3a099b182878f9a": {
      "model_module": "@jupyter-widgets/controls",
      "model_module_version": "1.5.0",
      "model_name": "DescriptionStyleModel",
      "state": {
       "_model_module": "@jupyter-widgets/controls",
       "_model_module_version": "1.5.0",
       "_model_name": "DescriptionStyleModel",
       "_view_count": null,
       "_view_module": "@jupyter-widgets/base",
       "_view_module_version": "1.2.0",
       "_view_name": "StyleView",
       "description_width": ""
      }
     }
    },
    "version_major": 2,
    "version_minor": 0
   }
  }
 },
 "nbformat": 4,
 "nbformat_minor": 5
}
