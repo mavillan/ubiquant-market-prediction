{
 "cells": [
  {
   "cell_type": "code",
   "execution_count": null,
   "id": "72787bc5",
   "metadata": {
    "_cell_guid": "b1076dfc-b9ad-4769-8c92-a6c4dae69d19",
    "_uuid": "8f2839f25d086af736a60e9eeb907d3b93b6e0e5",
    "papermill": {
     "duration": 1.897103,
     "end_time": "2022-01-31T20:02:22.107321",
     "exception": false,
     "start_time": "2022-01-31T20:02:20.210218",
     "status": "completed"
    },
    "tags": []
   },
   "outputs": [],
   "source": [
    "import numpy as np\n",
    "import pandas as pd\n",
    "from tqdm import tqdm\n",
    "from scipy import stats\n",
    "import lightgbm as lgb\n",
    "\n",
    "import matplotlib.pyplot as plt\n",
    "import seaborn as sns"
   ]
  },
  {
   "cell_type": "code",
   "execution_count": null,
   "id": "a6a394d1-d80f-4c30-a540-251dd25b8848",
   "metadata": {},
   "outputs": [],
   "source": [
    "current_env = \"local\"\n",
    "\n",
    "if current_env == \"local\":\n",
    "    data_path = \"../ump-dataset\"\n",
    "\n",
    "elif current_env == \"kaggle\":\n",
    "    data_path = \"../input/ump-dataset\"\n",
    "    \n",
    "elif current_env == \"colab\":\n",
    "    pass\n",
    "\n",
    "print(\"data_path:\", data_path)"
   ]
  },
  {
   "cell_type": "markdown",
   "id": "93faa560",
   "metadata": {
    "papermill": {
     "duration": 0.018943,
     "end_time": "2022-01-31T20:02:22.146682",
     "exception": false,
     "start_time": "2022-01-31T20:02:22.127739",
     "status": "completed"
    },
    "tags": []
   },
   "source": [
    "***\n",
    "## loading data"
   ]
  },
  {
   "cell_type": "code",
   "execution_count": null,
   "id": "1ddc095b",
   "metadata": {
    "papermill": {
     "duration": 46.303391,
     "end_time": "2022-01-31T20:03:08.469979",
     "exception": false,
     "start_time": "2022-01-31T20:02:22.166588",
     "status": "completed"
    },
    "tags": []
   },
   "outputs": [],
   "source": [
    "features = [f\"f_{i}\" for i in range(300)]\n",
    "\n",
    "features = pd.read_parquet(f\"{data_path}/train.parquet\", columns=features)\n",
    "display(features)\n",
    "\n",
    "target = pd.read_parquet(f\"{data_path}/train.parquet\", columns=[\"target\",])\n",
    "display(target)\n",
    "\n",
    "time = pd.read_parquet(f\"{data_path}/train.parquet\", columns=[\"time_id\",])\n",
    "display(time)"
   ]
  },
  {
   "cell_type": "code",
   "execution_count": null,
   "id": "5e601a01",
   "metadata": {
    "papermill": {
     "duration": 0.040795,
     "end_time": "2022-01-31T20:03:08.525834",
     "exception": false,
     "start_time": "2022-01-31T20:03:08.485039",
     "status": "completed"
    },
    "tags": []
   },
   "outputs": [],
   "source": [
    "time_ids = np.sort(time.time_id.unique())\n",
    "len(time_ids)"
   ]
  },
  {
   "cell_type": "code",
   "execution_count": null,
   "id": "20242950",
   "metadata": {
    "papermill": {
     "duration": 0.023073,
     "end_time": "2022-01-31T20:03:08.563421",
     "exception": false,
     "start_time": "2022-01-31T20:03:08.540348",
     "status": "completed"
    },
    "tags": []
   },
   "outputs": [],
   "source": [
    "n_time_steps = len(time_ids)\n",
    "print(\"time steps:\", n_time_steps)\n",
    "\n",
    "valid_prop = 0.1\n",
    "valid_size = int(0.1 * n_time_steps)\n",
    "print(\"valid size:\", valid_size)"
   ]
  },
  {
   "cell_type": "code",
   "execution_count": null,
   "id": "f98bfd31",
   "metadata": {
    "papermill": {
     "duration": 0.261763,
     "end_time": "2022-01-31T20:03:08.841001",
     "exception": false,
     "start_time": "2022-01-31T20:03:08.579238",
     "status": "completed"
    },
    "tags": []
   },
   "outputs": [],
   "source": [
    "# train-valid splits\n",
    "n_splits = 3\n",
    "end_idx = n_time_steps \n",
    "\n",
    "splits = list()\n",
    "\n",
    "for start_idx in np.arange(1211, 0, -valid_size)[1:n_splits+1]:\n",
    "    valid_time_ids = time_ids[start_idx:end_idx]\n",
    "    train_time_end = time_ids[start_idx]-1\n",
    "    end_idx = start_idx\n",
    "    \n",
    "    train_idx = time.query(\"time_id <= @train_time_end\").index\n",
    "    valid_idx = time.query(\"time_id in @valid_time_ids\").index\n",
    "    splits.append((train_idx,valid_idx))"
   ]
  },
  {
   "cell_type": "code",
   "execution_count": null,
   "id": "c24f9baf",
   "metadata": {
    "papermill": {
     "duration": 0.129984,
     "end_time": "2022-01-31T20:03:08.986735",
     "exception": false,
     "start_time": "2022-01-31T20:03:08.856751",
     "status": "completed"
    },
    "tags": []
   },
   "outputs": [],
   "source": [
    "import gc\n",
    "gc.collect()"
   ]
  },
  {
   "cell_type": "markdown",
   "id": "cee50da6",
   "metadata": {
    "papermill": {
     "duration": 0.015524,
     "end_time": "2022-01-31T20:03:09.017755",
     "exception": false,
     "start_time": "2022-01-31T20:03:09.002231",
     "status": "completed"
    },
    "tags": []
   },
   "source": [
    "***\n",
    "## model training: evaluation"
   ]
  },
  {
   "cell_type": "code",
   "execution_count": null,
   "id": "b15cbf92",
   "metadata": {
    "papermill": {
     "duration": 0.022946,
     "end_time": "2022-01-31T20:03:09.056008",
     "exception": false,
     "start_time": "2022-01-31T20:03:09.033062",
     "status": "completed"
    },
    "tags": []
   },
   "outputs": [],
   "source": [
    "def pearsonr(preds: np.array, dset: lgb.Dataset):\n",
    "    \"\"\"\n",
    "    Helper function to compute Pearson correlation \n",
    "    on validation dataset for LightGBM as tracking metric.\n",
    "    Args:\n",
    "        preds: 1d-array with the model predictions\n",
    "        dset: LightGBM dataset with the labels\n",
    "    Returs:\n",
    "        Tuple with the corresponding output\n",
    "    \"\"\"\n",
    "    labels = dset.get_label()\n",
    "    return 'pearsonr', stats.pearsonr(preds, labels)[0], True"
   ]
  },
  {
   "cell_type": "code",
   "execution_count": null,
   "id": "abf71097",
   "metadata": {
    "papermill": {
     "duration": 0.024869,
     "end_time": "2022-01-31T20:03:09.133658",
     "exception": false,
     "start_time": "2022-01-31T20:03:09.108789",
     "status": "completed"
    },
    "tags": []
   },
   "outputs": [],
   "source": [
    "model_params = {\n",
    "    'boosting': 'dart',\n",
    "    'objective': 'mse',\n",
    "    'metric': 'rmse',\n",
    "    'learning_rate': 0.05,\n",
    "    'num_leaves': 128,\n",
    "    'max_bin': 511,\n",
    "    'force_col_wise': True,\n",
    "    'bagging_freq': 1,\n",
    "    'seed': 19,\n",
    "    'verbosity': -1,\n",
    "    'first_metric_only': False,\n",
    "    'bin_construct_sample_cnt': 100000000,\n",
    "    'feature_pre_filter': False,\n",
    "    'bagging_fraction': 0.9,\n",
    "    'drop_rate': 0.09,\n",
    "    'feature_fraction': 0.35,\n",
    "    'lambda_l1': 1.1127423904283282,\n",
    "    'lambda_l2': 0.0017447397071228327,\n",
    "    'max_drop': 90,\n",
    "    'min_data_in_leaf': 2200,\n",
    "    'num_iterations': 1900,\n",
    "    'path_smooth': 7.961233039539337,\n",
    "    'skip_drop': 0.55\n",
    "}"
   ]
  },
  {
   "cell_type": "code",
   "execution_count": null,
   "id": "055aee99",
   "metadata": {
    "papermill": {
     "duration": 2084.905404,
     "end_time": "2022-01-31T20:37:54.092017",
     "exception": false,
     "start_time": "2022-01-31T20:03:09.186613",
     "status": "completed"
    },
    "tags": []
   },
   "outputs": [],
   "source": [
    "evaluate = True\n",
    "metrics = {\"corr_mean\":list(), \"corr_std\":list(), \"error_mean\":list(), \"error_std\":list(),}\n",
    "\n",
    "if evaluate:\n",
    "    \n",
    "    models = list()\n",
    "\n",
    "    for train_idx,valid_idx in splits:\n",
    "\n",
    "        train_dset = lgb.Dataset(\n",
    "            data=features.loc[train_idx,:],\n",
    "            label=target.loc[train_idx,\"target\"].values,\n",
    "            free_raw_data=True\n",
    "        )\n",
    "        valid_dset = lgb.Dataset(\n",
    "            data=features.loc[valid_idx,:],\n",
    "            label=target.loc[valid_idx,\"target\"].values,\n",
    "            free_raw_data=True\n",
    "        )\n",
    "        log_callback = lgb.log_evaluation(period=50,)\n",
    "\n",
    "        model = lgb.train(\n",
    "            params=model_params,\n",
    "            train_set=train_dset,\n",
    "            valid_sets=[valid_dset,],\n",
    "            feval=pearsonr,\n",
    "            callbacks=[log_callback],\n",
    "        )\n",
    "        models.append(model)\n",
    "\n",
    "        lgb.plot_importance(model, figsize=(8,15), importance_type=\"split\", max_num_features=30)\n",
    "        lgb.plot_importance(model, figsize=(8,15), importance_type=\"gain\", max_num_features=30)\n",
    "        plt.show()\n",
    "        \n",
    "        # residual analysis on oof predictions\n",
    "        oof = target.loc[valid_idx,:].copy()\n",
    "        oof[\"time_id\"] = time.loc[valid_idx,\"time_id\"]\n",
    "        oof[\"pred\"] = model.predict(features.loc[valid_idx,:])\n",
    "        oof[\"target_abs\"] = oof.eval(\"abs(target)\")\n",
    "        oof[\"dev\"] = oof.eval(\"abs(target-pred)\")\n",
    "\n",
    "        corrs = oof.groupby(\"time_id\").apply(lambda x: stats.pearsonr(x.target, x.pred)[0])\n",
    "        corr_mean = corrs.mean()\n",
    "        corr_std = corrs.std()\n",
    "        error = oof.groupby(\"time_id\").apply(lambda x: np.sqrt(np.mean((x.target-x.pred)**2)))\n",
    "        error_mean = error.mean()\n",
    "        error_std = error.std()\n",
    "        \n",
    "        metrics[\"corr_mean\"].append(corr_mean)\n",
    "        metrics[\"corr_std\"].append(corr_std)\n",
    "        metrics[\"error_mean\"].append(error_mean)\n",
    "        metrics[\"error_std\"].append(error_std)\n",
    "\n",
    "        plt.figure(figsize=(18,8))\n",
    "        plt.subplot(1,2,1)\n",
    "        corrs.plot()\n",
    "        plt.axhline(\n",
    "            y=corr_mean, \n",
    "            color='r', \n",
    "            linestyle='-', \n",
    "            label=f\"corr_mean={corr_mean:.5f} & corr_std={corr_std:.5f}\"\n",
    "        )\n",
    "        plt.grid()\n",
    "        plt.ylabel(\"corr\")\n",
    "        plt.legend(loc=\"best\")\n",
    "        ##\n",
    "        plt.subplot(1,2,2)\n",
    "        error.plot()\n",
    "        plt.axhline(\n",
    "            y=error_mean, \n",
    "            color='r', \n",
    "            linestyle='-', \n",
    "            label=f\"rmse_mean={error_mean:.5f} & error_std={error_std:.5f}\"\n",
    "        )\n",
    "        plt.grid()\n",
    "        plt.ylabel(\"rmse\")\n",
    "        plt.legend(loc=\"best\")\n",
    "        plt.show()\n",
    "\n",
    "        plt.figure(figsize=(22,8))\n",
    "        ##\n",
    "        plt.subplot(1,3,1)\n",
    "        plt.plot(oof.sort_values(\"target_abs\").target_abs.values, oof.sort_values(\"target_abs\").dev.values)\n",
    "        plt.xlabel(\"target_abs\")\n",
    "        plt.ylabel(\"deviance (abs)\")\n",
    "        plt.grid()\n",
    "        ##\n",
    "        plt.subplot(1,3,2)\n",
    "        plt.plot(oof.sort_values(\"target\").target.values, oof.sort_values(\"target\").dev.values)\n",
    "        plt.xlabel(\"target\")\n",
    "        plt.ylabel(\"deviance (abs)\")\n",
    "        plt.grid()\n",
    "        ##\n",
    "        plt.subplot(1,3,3)\n",
    "        plt.plot(oof.sort_values(\"target\").target.values, oof.sort_values(\"target\").pred.values)\n",
    "        plt.xlabel(\"target\")\n",
    "        plt.ylabel(\"pred\")\n",
    "        plt.grid()\n",
    "        plt.show()\n"
   ]
  },
  {
   "cell_type": "code",
   "execution_count": null,
   "id": "79a7d90a-635a-4425-9650-290bc91d825c",
   "metadata": {},
   "outputs": [],
   "source": [
    "metrics"
   ]
  },
  {
   "cell_type": "code",
   "execution_count": null,
   "id": "bc6e2331-7049-4100-a984-e050fd230a13",
   "metadata": {},
   "outputs": [],
   "source": [
    "# mean corr on validation\n",
    "np.mean(metrics[\"corr_mean\"])"
   ]
  },
  {
   "cell_type": "code",
   "execution_count": null,
   "id": "526fb9ce-304b-4815-8f4f-6e6ea7d1b177",
   "metadata": {},
   "outputs": [],
   "source": [
    "# mean rmse on validation\n",
    "np.mean(metrics[\"error_mean\"])"
   ]
  },
  {
   "cell_type": "markdown",
   "id": "943ff7a2",
   "metadata": {
    "papermill": {
     "duration": 0.076737,
     "end_time": "2022-01-31T20:37:54.225802",
     "exception": false,
     "start_time": "2022-01-31T20:37:54.149065",
     "status": "completed"
    },
    "tags": []
   },
   "source": [
    "***\n",
    "## model training"
   ]
  },
  {
   "cell_type": "code",
   "execution_count": null,
   "id": "ee8edcbc",
   "metadata": {
    "papermill": {
     "duration": 4447.344492,
     "end_time": "2022-01-31T21:52:01.649514",
     "exception": false,
     "start_time": "2022-01-31T20:37:54.305022",
     "status": "completed"
    },
    "tags": []
   },
   "outputs": [],
   "source": [
    "seeds = [\n",
    "    2, 3, 5, 7, 11, \n",
    "    #13, 17, 19, 23, 29, \n",
    "    #31, 37, 41, 43, 47, \n",
    "    #53, 59, 61, 67, 71, \n",
    "    #73, 79, 83, 89, 97,\n",
    "]\n",
    "models = list()\n",
    "\n",
    "for seed in seeds:\n",
    "    _model_params = dict(model_params)\n",
    "    _model_params[\"seed\"] = seed\n",
    "    _model_params[\"drop_seed\"] = seed\n",
    "    \n",
    "    train_dset = lgb.Dataset(\n",
    "        data=features,\n",
    "        label=target.target.values,\n",
    "        free_raw_data=True\n",
    "    )\n",
    "    model = lgb.train(\n",
    "        params=_model_params,\n",
    "        train_set=train_dset,\n",
    "        valid_sets=[train_dset,],\n",
    "        feval=pearsonr,\n",
    "        callbacks=[lgb.log_evaluation(period=50)],\n",
    "    )\n",
    "    models.append(model)\n",
    "\n",
    "    lgb.plot_importance(model, figsize=(8,15), importance_type=\"split\", max_num_features=30)\n",
    "    lgb.plot_importance(model, figsize=(8,15), importance_type=\"gain\", max_num_features=30)\n",
    "    plt.show()"
   ]
  },
  {
   "cell_type": "code",
   "execution_count": null,
   "id": "92166201",
   "metadata": {
    "papermill": {
     "duration": 0.367321,
     "end_time": "2022-01-31T21:52:02.158174",
     "exception": false,
     "start_time": "2022-01-31T21:52:01.790853",
     "status": "completed"
    },
    "tags": []
   },
   "outputs": [],
   "source": [
    "for seed,model in zip(seeds,models): \n",
    "    model.save_model(f\"../ump-artifacts/lgbm-dart/lgbm-seed{seed}.txt\")"
   ]
  },
  {
   "cell_type": "markdown",
   "id": "9c477dde",
   "metadata": {
    "papermill": {
     "duration": 0.142155,
     "end_time": "2022-01-31T21:52:02.441822",
     "exception": false,
     "start_time": "2022-01-31T21:52:02.299667",
     "status": "completed"
    },
    "tags": []
   },
   "source": [
    "***\n",
    "## inference"
   ]
  },
  {
   "cell_type": "code",
   "execution_count": null,
   "id": "987418f2",
   "metadata": {
    "papermill": {
     "duration": 0.177656,
     "end_time": "2022-01-31T21:52:02.761456",
     "exception": false,
     "start_time": "2022-01-31T21:52:02.583800",
     "status": "completed"
    },
    "tags": []
   },
   "outputs": [],
   "source": [
    "if current_env == \"kaggle\":\n",
    "\n",
    "    import ubiquant\n",
    "    env = ubiquant.make_env()  \n",
    "    iter_test = env.iter_test()\n",
    "    \n",
    "    features = [f\"f_{i}\" for i in range(300)]\n",
    "    for (test_df, sample_prediction_df) in iter_test:  \n",
    "        preds = [model.predict(test_df[features]) for model in models]\n",
    "        sample_prediction_df['target'] = np.mean(preds, axis=0)\n",
    "        env.predict(sample_prediction_df) \n",
    "        display(sample_prediction_df)"
   ]
  },
  {
   "cell_type": "markdown",
   "id": "0320aa60",
   "metadata": {
    "papermill": {
     "duration": 0.148934,
     "end_time": "2022-01-31T21:52:03.627875",
     "exception": false,
     "start_time": "2022-01-31T21:52:03.478941",
     "status": "completed"
    },
    "tags": []
   },
   "source": [
    "***"
   ]
  }
 ],
 "metadata": {
  "kernelspec": {
   "display_name": "Python 3 (ipykernel)",
   "language": "python",
   "name": "python3"
  },
  "language_info": {
   "codemirror_mode": {
    "name": "ipython",
    "version": 3
   },
   "file_extension": ".py",
   "mimetype": "text/x-python",
   "name": "python",
   "nbconvert_exporter": "python",
   "pygments_lexer": "ipython3",
   "version": "3.7.12"
  },
  "papermill": {
   "default_parameters": {},
   "duration": 6592.637995,
   "end_time": "2022-01-31T21:52:04.791396",
   "environment_variables": {},
   "exception": null,
   "input_path": "__notebook__.ipynb",
   "output_path": "__notebook__.ipynb",
   "parameters": {},
   "start_time": "2022-01-31T20:02:12.153401",
   "version": "2.3.3"
  }
 },
 "nbformat": 4,
 "nbformat_minor": 5
}
