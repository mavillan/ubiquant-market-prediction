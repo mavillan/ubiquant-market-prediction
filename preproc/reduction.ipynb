{
 "cells": [
  {
   "cell_type": "code",
   "execution_count": 1,
   "id": "74f721bb-47a1-4f36-937c-3a00b6eab8fe",
   "metadata": {},
   "outputs": [],
   "source": [
    "import numpy as np\n",
    "import pandas as pd\n",
    "\n",
    "import sys\n",
    "sys.path.append(\"../utils\")\n",
    "from memory import reduce_mem_usage"
   ]
  },
  {
   "cell_type": "markdown",
   "id": "6934ff2b-16ea-4bc4-9e74-1377f5612e47",
   "metadata": {},
   "source": [
    "***"
   ]
  },
  {
   "cell_type": "code",
   "execution_count": 2,
   "id": "86802397-9741-4123-a159-bb89dfb5ab19",
   "metadata": {},
   "outputs": [
    {
     "name": "stdout",
     "output_type": "stream",
     "text": [
      "example_sample_submission.csv\n",
      "example_test.csv\n",
      "train.csv\n"
     ]
    }
   ],
   "source": [
    "!ls ../data | grep csv"
   ]
  },
  {
   "cell_type": "code",
   "execution_count": 3,
   "id": "eb123e01-09a0-4284-91c1-37311f9705c6",
   "metadata": {},
   "outputs": [],
   "source": [
    "train = pd.read_csv(\"../data/train.csv\")"
   ]
  },
  {
   "cell_type": "code",
   "execution_count": 4,
   "id": "4b08317f-5998-4ad6-b8f5-df0fe25970a8",
   "metadata": {},
   "outputs": [
    {
     "name": "stdout",
     "output_type": "stream",
     "text": [
      "Mem. usage decreased to 3642.99 Mb (50.0% reduction)\n"
     ]
    }
   ],
   "source": [
    "train_reduced = reduce_mem_usage(train, verbose=True)"
   ]
  },
  {
   "cell_type": "code",
   "execution_count": 6,
   "id": "017b845b-d7b4-45c8-9d50-00ae32d56b5f",
   "metadata": {},
   "outputs": [
    {
     "name": "stdout",
     "output_type": "stream",
     "text": [
      "<class 'pandas.core.frame.DataFrame'>\n",
      "RangeIndex: 3141410 entries, 0 to 3141409\n",
      "Columns: 304 entries, row_id to f_299\n",
      "dtypes: float32(301), int16(2), object(1)\n",
      "memory usage: 3.6+ GB\n"
     ]
    }
   ],
   "source": [
    "train_reduced.info()"
   ]
  },
  {
   "cell_type": "code",
   "execution_count": 7,
   "id": "cce006f7-6a88-4bd6-a360-23a5c92a1512",
   "metadata": {},
   "outputs": [],
   "source": [
    "train_reduced.to_parquet(\"../ump-dataset/train.parquet\", index=False)"
   ]
  },
  {
   "cell_type": "markdown",
   "id": "f934588c-521c-4f12-98ab-3e6bbaf07d37",
   "metadata": {},
   "source": [
    "***"
   ]
  }
 ],
 "metadata": {
  "kernelspec": {
   "display_name": "Python 3 (ipykernel)",
   "language": "python",
   "name": "python3"
  },
  "language_info": {
   "codemirror_mode": {
    "name": "ipython",
    "version": 3
   },
   "file_extension": ".py",
   "mimetype": "text/x-python",
   "name": "python",
   "nbconvert_exporter": "python",
   "pygments_lexer": "ipython3",
   "version": "3.7.12"
  }
 },
 "nbformat": 4,
 "nbformat_minor": 5
}
