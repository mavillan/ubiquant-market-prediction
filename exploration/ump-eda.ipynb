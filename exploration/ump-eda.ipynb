{
 "cells": [
  {
   "cell_type": "code",
   "execution_count": 1,
   "id": "ce73add6",
   "metadata": {
    "_cell_guid": "b1076dfc-b9ad-4769-8c92-a6c4dae69d19",
    "_uuid": "8f2839f25d086af736a60e9eeb907d3b93b6e0e5",
    "execution": {
     "iopub.execute_input": "2022-01-26T00:01:47.007219Z",
     "iopub.status.busy": "2022-01-26T00:01:46.998443Z",
     "iopub.status.idle": "2022-01-26T00:01:48.203932Z",
     "shell.execute_reply": "2022-01-26T00:01:48.202912Z",
     "shell.execute_reply.started": "2022-01-25T23:43:40.900336Z"
    },
    "papermill": {
     "duration": 1.229422,
     "end_time": "2022-01-26T00:01:48.204130",
     "exception": false,
     "start_time": "2022-01-26T00:01:46.974708",
     "status": "completed"
    },
    "tags": []
   },
   "outputs": [],
   "source": [
    "import numpy as np\n",
    "import pandas as pd\n",
    "\n",
    "import matplotlib.pyplot as plt\n",
    "import seaborn as sns"
   ]
  },
  {
   "cell_type": "code",
   "execution_count": 2,
   "id": "d4f66704",
   "metadata": {
    "execution": {
     "iopub.execute_input": "2022-01-26T00:01:48.245728Z",
     "iopub.status.busy": "2022-01-26T00:01:48.244979Z",
     "iopub.status.idle": "2022-01-26T00:01:49.013151Z",
     "shell.execute_reply": "2022-01-26T00:01:49.012506Z",
     "shell.execute_reply.started": "2022-01-25T23:43:40.913030Z"
    },
    "papermill": {
     "duration": 0.790253,
     "end_time": "2022-01-26T00:01:49.013301",
     "exception": false,
     "start_time": "2022-01-26T00:01:48.223048",
     "status": "completed"
    },
    "tags": []
   },
   "outputs": [
    {
     "name": "stdout",
     "output_type": "stream",
     "text": [
      "example_sample_submission.csv  example_test.csv  train.csv  ubiquant\r\n"
     ]
    }
   ],
   "source": [
    "!ls ../input/ubiquant-market-prediction"
   ]
  },
  {
   "cell_type": "code",
   "execution_count": 3,
   "id": "5b636904",
   "metadata": {
    "execution": {
     "iopub.execute_input": "2022-01-26T00:01:49.054104Z",
     "iopub.status.busy": "2022-01-26T00:01:49.053409Z",
     "iopub.status.idle": "2022-01-26T00:01:49.826739Z",
     "shell.execute_reply": "2022-01-26T00:01:49.825915Z",
     "shell.execute_reply.started": "2022-01-25T23:43:41.673453Z"
    },
    "papermill": {
     "duration": 0.79607,
     "end_time": "2022-01-26T00:01:49.826919",
     "exception": false,
     "start_time": "2022-01-26T00:01:49.030849",
     "status": "completed"
    },
    "tags": []
   },
   "outputs": [
    {
     "name": "stdout",
     "output_type": "stream",
     "text": [
      "train.parquet\r\n"
     ]
    }
   ],
   "source": [
    "!ls ../input/ump-dataset"
   ]
  },
  {
   "cell_type": "markdown",
   "id": "2504edd0",
   "metadata": {
    "execution": {
     "iopub.execute_input": "2022-01-21T15:23:22.957925Z",
     "iopub.status.busy": "2022-01-21T15:23:22.957051Z",
     "iopub.status.idle": "2022-01-21T15:23:22.963861Z",
     "shell.execute_reply": "2022-01-21T15:23:22.962768Z",
     "shell.execute_reply.started": "2022-01-21T15:23:22.957883Z"
    },
    "papermill": {
     "duration": 0.017269,
     "end_time": "2022-01-26T00:01:49.861981",
     "exception": false,
     "start_time": "2022-01-26T00:01:49.844712",
     "status": "completed"
    },
    "tags": []
   },
   "source": [
    "***\n",
    "## target analysis"
   ]
  },
  {
   "cell_type": "code",
   "execution_count": 4,
   "id": "44d02791",
   "metadata": {
    "execution": {
     "iopub.execute_input": "2022-01-26T00:01:49.903158Z",
     "iopub.status.busy": "2022-01-26T00:01:49.902426Z",
     "iopub.status.idle": "2022-01-26T00:02:32.856014Z",
     "shell.execute_reply": "2022-01-26T00:02:32.856818Z",
     "shell.execute_reply.started": "2022-01-25T23:43:42.435345Z"
    },
    "papermill": {
     "duration": 42.977827,
     "end_time": "2022-01-26T00:02:32.857080",
     "exception": false,
     "start_time": "2022-01-26T00:01:49.879253",
     "status": "completed"
    },
    "tags": []
   },
   "outputs": [
    {
     "name": "stdout",
     "output_type": "stream",
     "text": [
      "<class 'pandas.core.frame.DataFrame'>\n",
      "RangeIndex: 3141410 entries, 0 to 3141409\n",
      "Columns: 304 entries, row_id to f_299\n",
      "dtypes: float32(301), int16(2), object(1)\n",
      "memory usage: 3.6+ GB\n"
     ]
    }
   ],
   "source": [
    "train = pd.read_parquet(\"../input/ump-dataset/train.parquet\")\n",
    "train.info()"
   ]
  },
  {
   "cell_type": "code",
   "execution_count": 5,
   "id": "e289bdcf",
   "metadata": {
    "execution": {
     "iopub.execute_input": "2022-01-26T00:02:32.896648Z",
     "iopub.status.busy": "2022-01-26T00:02:32.895969Z",
     "iopub.status.idle": "2022-01-26T00:02:33.414528Z",
     "shell.execute_reply": "2022-01-26T00:02:33.415082Z",
     "shell.execute_reply.started": "2022-01-25T23:44:16.587045Z"
    },
    "papermill": {
     "duration": 0.539863,
     "end_time": "2022-01-26T00:02:33.415308",
     "exception": false,
     "start_time": "2022-01-26T00:02:32.875445",
     "status": "completed"
    },
    "tags": []
   },
   "outputs": [
    {
     "data": {
      "text/plain": [
       "3066513"
      ]
     },
     "execution_count": 5,
     "metadata": {},
     "output_type": "execute_result"
    }
   ],
   "source": [
    "train.target.nunique()"
   ]
  },
  {
   "cell_type": "code",
   "execution_count": 6,
   "id": "8dafdc8e",
   "metadata": {
    "execution": {
     "iopub.execute_input": "2022-01-26T00:02:33.455420Z",
     "iopub.status.busy": "2022-01-26T00:02:33.454629Z",
     "iopub.status.idle": "2022-01-26T00:02:33.619016Z",
     "shell.execute_reply": "2022-01-26T00:02:33.618335Z",
     "shell.execute_reply.started": "2022-01-25T23:44:18.277355Z"
    },
    "papermill": {
     "duration": 0.185444,
     "end_time": "2022-01-26T00:02:33.619182",
     "exception": false,
     "start_time": "2022-01-26T00:02:33.433738",
     "status": "completed"
    },
    "tags": []
   },
   "outputs": [
    {
     "data": {
      "text/plain": [
       "count    3.141410e+06\n",
       "mean    -2.109159e-02\n",
       "std      9.176629e-01\n",
       "min     -9.419646e+00\n",
       "10%     -9.353218e-01\n",
       "20%     -6.089074e-01\n",
       "30%     -4.078313e-01\n",
       "40%     -2.474232e-01\n",
       "50%     -9.717009e-02\n",
       "60%      5.539829e-02\n",
       "70%      2.411850e-01\n",
       "80%      5.008606e-01\n",
       "90%      9.782519e-01\n",
       "max      1.203861e+01\n",
       "Name: target, dtype: float64"
      ]
     },
     "execution_count": 6,
     "metadata": {},
     "output_type": "execute_result"
    }
   ],
   "source": [
    "train.target.describe(percentiles=np.arange(0.1,1.0,0.1))"
   ]
  },
  {
   "cell_type": "code",
   "execution_count": 7,
   "id": "a0c279af",
   "metadata": {
    "execution": {
     "iopub.execute_input": "2022-01-26T00:02:33.675618Z",
     "iopub.status.busy": "2022-01-26T00:02:33.674813Z",
     "iopub.status.idle": "2022-01-26T00:02:34.154247Z",
     "shell.execute_reply": "2022-01-26T00:02:34.154787Z",
     "shell.execute_reply.started": "2022-01-25T23:44:18.409372Z"
    },
    "papermill": {
     "duration": 0.509962,
     "end_time": "2022-01-26T00:02:34.154990",
     "exception": false,
     "start_time": "2022-01-26T00:02:33.645028",
     "status": "completed"
    },
    "tags": []
   },
   "outputs": [
    {
     "data": {
      "image/png": "[encoded data removed]",
      "text/plain": [
       "<Figure size 720x576 with 1 Axes>"
      ]
     },
     "metadata": {
      "needs_background": "light"
     },
     "output_type": "display_data"
    }
   ],
   "source": [
    "plt.figure(figsize=(10,8))\n",
    "plt.hist(train.target, bins=100);\n",
    "plt.grid()\n",
    "plt.show()"
   ]
  },
  {
   "cell_type": "code",
   "execution_count": 8,
   "id": "35b1856b",
   "metadata": {
    "execution": {
     "iopub.execute_input": "2022-01-26T00:02:34.201450Z",
     "iopub.status.busy": "2022-01-26T00:02:34.200746Z",
     "iopub.status.idle": "2022-01-26T00:02:34.234090Z",
     "shell.execute_reply": "2022-01-26T00:02:34.233347Z",
     "shell.execute_reply.started": "2022-01-25T23:44:18.935157Z"
    },
    "papermill": {
     "duration": 0.057502,
     "end_time": "2022-01-26T00:02:34.234245",
     "exception": false,
     "start_time": "2022-01-26T00:02:34.176743",
     "status": "completed"
    },
    "tags": []
   },
   "outputs": [
    {
     "data": {
      "text/plain": [
       "1211"
      ]
     },
     "execution_count": 8,
     "metadata": {},
     "output_type": "execute_result"
    }
   ],
   "source": [
    "train.time_id.nunique()"
   ]
  },
  {
   "cell_type": "code",
   "execution_count": 9,
   "id": "4c7be469",
   "metadata": {
    "execution": {
     "iopub.execute_input": "2022-01-26T00:02:34.282557Z",
     "iopub.status.busy": "2022-01-26T00:02:34.281391Z",
     "iopub.status.idle": "2022-01-26T00:02:34.286073Z",
     "shell.execute_reply": "2022-01-26T00:02:34.285377Z",
     "shell.execute_reply.started": "2022-01-25T23:44:18.963254Z"
    },
    "papermill": {
     "duration": 0.032601,
     "end_time": "2022-01-26T00:02:34.286231",
     "exception": false,
     "start_time": "2022-01-26T00:02:34.253630",
     "status": "completed"
    },
    "tags": []
   },
   "outputs": [
    {
     "data": {
      "text/plain": [
       "300"
      ]
     },
     "execution_count": 9,
     "metadata": {},
     "output_type": "execute_result"
    }
   ],
   "source": [
    "feats = [col for col in train.columns if \"f_\" in col]\n",
    "len(feats)"
   ]
  },
  {
   "cell_type": "code",
   "execution_count": 10,
   "id": "3bd4c039",
   "metadata": {
    "execution": {
     "iopub.execute_input": "2022-01-26T00:02:34.335596Z",
     "iopub.status.busy": "2022-01-26T00:02:34.334882Z",
     "iopub.status.idle": "2022-01-26T00:04:28.651360Z",
     "shell.execute_reply": "2022-01-26T00:04:28.652651Z",
     "shell.execute_reply.started": "2022-01-25T23:44:18.974597Z"
    },
    "papermill": {
     "duration": 114.34716,
     "end_time": "2022-01-26T00:04:28.652940",
     "exception": false,
     "start_time": "2022-01-26T00:02:34.305780",
     "status": "completed"
    },
    "tags": []
   },
   "outputs": [
    {
     "data": {
      "text/plain": [
       "f_62     1556838\n",
       "f_142    1562321\n",
       "f_153    1573610\n",
       "f_229    1585060\n",
       "f_108    1590892\n",
       "          ...   \n",
       "f_201    3080210\n",
       "f_127    3080593\n",
       "f_11     3081426\n",
       "f_19     3081954\n",
       "f_126    3082479\n",
       "Length: 300, dtype: int64"
      ]
     },
     "execution_count": 10,
     "metadata": {},
     "output_type": "execute_result"
    }
   ],
   "source": [
    "r = train[feats].nunique(axis=0)\n",
    "r.sort_values()"
   ]
  },
  {
   "cell_type": "markdown",
   "id": "d5c9f2d4",
   "metadata": {
    "papermill": {
     "duration": 0.020469,
     "end_time": "2022-01-26T00:04:28.694554",
     "exception": false,
     "start_time": "2022-01-26T00:04:28.674085",
     "status": "completed"
    },
    "tags": []
   },
   "source": [
    "***\n",
    "## Investment & Time ids"
   ]
  },
  {
   "cell_type": "code",
   "execution_count": 11,
   "id": "e966cdc2",
   "metadata": {
    "execution": {
     "iopub.execute_input": "2022-01-26T00:04:28.741160Z",
     "iopub.status.busy": "2022-01-26T00:04:28.740168Z",
     "iopub.status.idle": "2022-01-26T00:04:28.767759Z",
     "shell.execute_reply": "2022-01-26T00:04:28.768288Z",
     "shell.execute_reply.started": "2022-01-25T23:46:32.390358Z"
    },
    "papermill": {
     "duration": 0.053295,
     "end_time": "2022-01-26T00:04:28.768471",
     "exception": false,
     "start_time": "2022-01-26T00:04:28.715176",
     "status": "completed"
    },
    "tags": []
   },
   "outputs": [
    {
     "data": {
      "text/plain": [
       "1211"
      ]
     },
     "execution_count": 11,
     "metadata": {},
     "output_type": "execute_result"
    }
   ],
   "source": [
    "train.time_id.nunique()"
   ]
  },
  {
   "cell_type": "code",
   "execution_count": 12,
   "id": "3bf4daf4",
   "metadata": {
    "execution": {
     "iopub.execute_input": "2022-01-26T00:04:28.812077Z",
     "iopub.status.busy": "2022-01-26T00:04:28.811403Z",
     "iopub.status.idle": "2022-01-26T00:04:28.839356Z",
     "shell.execute_reply": "2022-01-26T00:04:28.839926Z",
     "shell.execute_reply.started": "2022-01-25T23:47:04.021089Z"
    },
    "papermill": {
     "duration": 0.051423,
     "end_time": "2022-01-26T00:04:28.840120",
     "exception": false,
     "start_time": "2022-01-26T00:04:28.788697",
     "status": "completed"
    },
    "tags": []
   },
   "outputs": [
    {
     "data": {
      "text/plain": [
       "3579"
      ]
     },
     "execution_count": 12,
     "metadata": {},
     "output_type": "execute_result"
    }
   ],
   "source": [
    "train.investment_id.nunique()"
   ]
  },
  {
   "cell_type": "code",
   "execution_count": 13,
   "id": "ab955c5a",
   "metadata": {
    "execution": {
     "iopub.execute_input": "2022-01-26T00:04:28.884887Z",
     "iopub.status.busy": "2022-01-26T00:04:28.884228Z",
     "iopub.status.idle": "2022-01-26T00:04:29.007468Z",
     "shell.execute_reply": "2022-01-26T00:04:29.008069Z",
     "shell.execute_reply.started": "2022-01-25T23:56:50.000470Z"
    },
    "papermill": {
     "duration": 0.14756,
     "end_time": "2022-01-26T00:04:29.008256",
     "exception": false,
     "start_time": "2022-01-26T00:04:28.860696",
     "status": "completed"
    },
    "tags": []
   },
   "outputs": [
    {
     "data": {
      "text/plain": [
       "investment_id\n",
       "1415       2\n",
       "2800       3\n",
       "3662       7\n",
       "85         8\n",
       "2558       8\n",
       "        ... \n",
       "2727    1209\n",
       "1062    1209\n",
       "2385    1209\n",
       "1144    1209\n",
       "2140    1211\n",
       "Name: time_id, Length: 3579, dtype: int64"
      ]
     },
     "execution_count": 13,
     "metadata": {},
     "output_type": "execute_result"
    }
   ],
   "source": [
    "# time-observations by investment_id\n",
    "result1 = train.groupby(\"investment_id\")[\"time_id\"].count()\n",
    "result1.sort_values()"
   ]
  },
  {
   "cell_type": "code",
   "execution_count": 14,
   "id": "c52904f7",
   "metadata": {
    "execution": {
     "iopub.execute_input": "2022-01-26T00:04:29.054225Z",
     "iopub.status.busy": "2022-01-26T00:04:29.053460Z",
     "iopub.status.idle": "2022-01-26T00:04:29.306042Z",
     "shell.execute_reply": "2022-01-26T00:04:29.306580Z",
     "shell.execute_reply.started": "2022-01-25T23:56:56.972978Z"
    },
    "papermill": {
     "duration": 0.27718,
     "end_time": "2022-01-26T00:04:29.306780",
     "exception": false,
     "start_time": "2022-01-26T00:04:29.029600",
     "status": "completed"
    },
    "tags": []
   },
   "outputs": [
    {
     "data": {
      "image/png": "[encoded data removed]",
      "text/plain": [
       "<Figure size 864x360 with 1 Axes>"
      ]
     },
     "metadata": {
      "needs_background": "light"
     },
     "output_type": "display_data"
    }
   ],
   "source": [
    "plt.figure(figsize=(12,5))\n",
    "result1.quantile(np.arange(0.0,1.01,0.01)).plot()\n",
    "plt.grid()\n",
    "plt.xlabel(\"quantile\")\n",
    "plt.ylabel(\"time-observations\")\n",
    "plt.show()"
   ]
  },
  {
   "cell_type": "code",
   "execution_count": 15,
   "id": "9d4a3e7d",
   "metadata": {
    "execution": {
     "iopub.execute_input": "2022-01-26T00:04:29.367675Z",
     "iopub.status.busy": "2022-01-26T00:04:29.366638Z",
     "iopub.status.idle": "2022-01-26T00:04:29.476170Z",
     "shell.execute_reply": "2022-01-26T00:04:29.475607Z",
     "shell.execute_reply.started": "2022-01-25T23:56:59.270487Z"
    },
    "papermill": {
     "duration": 0.144353,
     "end_time": "2022-01-26T00:04:29.476323",
     "exception": false,
     "start_time": "2022-01-26T00:04:29.331970",
     "status": "completed"
    },
    "tags": []
   },
   "outputs": [
    {
     "data": {
      "text/plain": [
       "time_id\n",
       "0       2272\n",
       "1       2275\n",
       "2       2275\n",
       "3       2285\n",
       "4       2273\n",
       "        ... \n",
       "1215    3432\n",
       "1216    3418\n",
       "1217    3420\n",
       "1218    3432\n",
       "1219    3438\n",
       "Name: investment_id, Length: 1211, dtype: int64"
      ]
     },
     "execution_count": 15,
     "metadata": {},
     "output_type": "execute_result"
    }
   ],
   "source": [
    "# investment-observations by time_id\n",
    "result2 = train.groupby(\"time_id\")[\"investment_id\"].count()\n",
    "result2"
   ]
  },
  {
   "cell_type": "code",
   "execution_count": 16,
   "id": "9b4ba31e",
   "metadata": {
    "execution": {
     "iopub.execute_input": "2022-01-26T00:04:29.543857Z",
     "iopub.status.busy": "2022-01-26T00:04:29.543113Z",
     "iopub.status.idle": "2022-01-26T00:04:29.755253Z",
     "shell.execute_reply": "2022-01-26T00:04:29.754524Z",
     "shell.execute_reply.started": "2022-01-25T23:57:00.651936Z"
    },
    "papermill": {
     "duration": 0.256714,
     "end_time": "2022-01-26T00:04:29.755413",
     "exception": false,
     "start_time": "2022-01-26T00:04:29.498699",
     "status": "completed"
    },
    "tags": []
   },
   "outputs": [
    {
     "data": {
      "image/png": "[encoded data removed]",
      "text/plain": [
       "<Figure size 864x360 with 1 Axes>"
      ]
     },
     "metadata": {
      "needs_background": "light"
     },
     "output_type": "display_data"
    }
   ],
   "source": [
    "plt.figure(figsize=(12,5))\n",
    "plt.plot(result2.index, result2.values)\n",
    "plt.grid()\n",
    "plt.xlabel(\"time_id\")\n",
    "plt.ylabel(\"number of investment ids\")\n",
    "plt.show()"
   ]
  },
  {
   "cell_type": "markdown",
   "id": "86ac3cb9",
   "metadata": {
    "papermill": {
     "duration": 0.024073,
     "end_time": "2022-01-26T00:04:29.804019",
     "exception": false,
     "start_time": "2022-01-26T00:04:29.779946",
     "status": "completed"
    },
    "tags": []
   },
   "source": [
    "***\n",
    "## Target-Feats correlation"
   ]
  },
  {
   "cell_type": "code",
   "execution_count": null,
   "id": "e12da076",
   "metadata": {
    "papermill": {
     "duration": 0.023729,
     "end_time": "2022-01-26T00:04:29.853717",
     "exception": false,
     "start_time": "2022-01-26T00:04:29.829988",
     "status": "completed"
    },
    "tags": []
   },
   "outputs": [],
   "source": []
  },
  {
   "cell_type": "markdown",
   "id": "0333a43a",
   "metadata": {
    "papermill": {
     "duration": 0.025416,
     "end_time": "2022-01-26T00:04:29.904034",
     "exception": false,
     "start_time": "2022-01-26T00:04:29.878618",
     "status": "completed"
    },
    "tags": []
   },
   "source": [
    "***"
   ]
  }
 ],
 "metadata": {
  "kernelspec": {
   "display_name": "Python 3",
   "language": "python",
   "name": "python3"
  },
  "language_info": {
   "codemirror_mode": {
    "name": "ipython",
    "version": 3
   },
   "file_extension": ".py",
   "mimetype": "text/x-python",
   "name": "python",
   "nbconvert_exporter": "python",
   "pygments_lexer": "ipython3",
   "version": "3.7.12"
  },
  "papermill": {
   "default_parameters": {},
   "duration": 178.033562,
   "end_time": "2022-01-26T00:04:33.152471",
   "environment_variables": {},
   "exception": null,
   "input_path": "__notebook__.ipynb",
   "output_path": "__notebook__.ipynb",
   "parameters": {},
   "start_time": "2022-01-26T00:01:35.118909",
   "version": "2.3.3"
  }
 },
 "nbformat": 4,
 "nbformat_minor": 5
}
