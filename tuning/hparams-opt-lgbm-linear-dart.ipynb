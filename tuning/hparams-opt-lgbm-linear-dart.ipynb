{
 "cells": [
  {
   "cell_type": "code",
   "execution_count": null,
   "id": "6fc57720-af91-4f34-b095-f7471ed11e78",
   "metadata": {},
   "outputs": [],
   "source": [
    "import numpy as np\n",
    "import pandas as pd\n",
    "from tqdm import tqdm\n",
    "from scipy import stats\n",
    "import lightgbm as lgb\n",
    "\n",
    "import optuna\n",
    "from optuna.visualization import (\n",
    "    plot_contour\n",
    "    , plot_edf\n",
    "    , plot_intermediate_values\n",
    "    , plot_optimization_history\n",
    "    , plot_parallel_coordinate\n",
    "    , plot_param_importances\n",
    "    , plot_slice\n",
    ")\n",
    "\n",
    "import matplotlib.pyplot as plt\n",
    "import seaborn as sns\n",
    "import plotly.express as px\n",
    "import plotly.io as pio\n",
    "\n",
    "pio.renderers.default = \"jupyterlab\""
   ]
  },
  {
   "cell_type": "markdown",
   "id": "ff6ecffc-64af-45c8-91d9-46ccb4b23fc5",
   "metadata": {},
   "source": [
    "***\n",
    "## loading data"
   ]
  },
  {
   "cell_type": "code",
   "execution_count": null,
   "id": "e0c43e41-3f1e-4791-9eb1-61c9aaaf1ea4",
   "metadata": {},
   "outputs": [],
   "source": [
    "features = [f\"f_{i}\" for i in range(300)]\n",
    "\n",
    "features = pd.read_parquet(\"../ump-dataset/train.parquet\", columns=features)\n",
    "target = pd.read_parquet(\"../ump-dataset/train.parquet\", columns=[\"target\",])\n",
    "time = pd.read_parquet(\"../ump-dataset/train.parquet\", columns=[\"time_id\",])"
   ]
  },
  {
   "cell_type": "code",
   "execution_count": null,
   "id": "b5f74807-0400-498f-b13e-ef9f31350f43",
   "metadata": {},
   "outputs": [],
   "source": [
    "time_ids = np.sort(time.time_id.unique())\n",
    "len(time_ids)"
   ]
  },
  {
   "cell_type": "code",
   "execution_count": null,
   "id": "1b32639b-0fd2-413d-85ab-3625263ad3d1",
   "metadata": {},
   "outputs": [],
   "source": [
    "n_time_steps = len(time_ids)\n",
    "print(\"time steps:\", n_time_steps)\n",
    "\n",
    "valid_prop = 0.3\n",
    "valid_size = int(valid_prop * n_time_steps)\n",
    "print(\"valid size:\", valid_size)"
   ]
  },
  {
   "cell_type": "code",
   "execution_count": null,
   "id": "91ea263b-39e7-447f-aec7-83434aa97642",
   "metadata": {},
   "outputs": [],
   "source": [
    "valid_time_ids = time_ids[-valid_size:]"
   ]
  },
  {
   "cell_type": "code",
   "execution_count": null,
   "id": "69ec1825-2a47-41e4-8df5-f106fa28930a",
   "metadata": {},
   "outputs": [],
   "source": [
    "train_idx = time.query(\"time_id not in @valid_time_ids\").index\n",
    "valid_idx = time.query(\"time_id in @valid_time_ids\").index\n",
    "\n",
    "# dataframes for metric calculation\n",
    "oof = target.loc[valid_idx,:].copy()\n",
    "oof[\"time_id\"] = time.loc[valid_idx,\"time_id\"]\n",
    "features_valid = features.loc[valid_idx,:]\n",
    "\n",
    "# input dataset for lgbm\n",
    "train_dset = lgb.Dataset(\n",
    "    data=features.loc[train_idx,:],\n",
    "    label=target.loc[train_idx,\"target\"].values,\n",
    "    free_raw_data=True\n",
    ")\n",
    "valid_dset = lgb.Dataset(\n",
    "    data=features.loc[valid_idx,:],\n",
    "    label=target.loc[valid_idx,\"target\"].values,\n",
    "    free_raw_data=True\n",
    ")"
   ]
  },
  {
   "cell_type": "code",
   "execution_count": null,
   "id": "d6c17cfc-024a-4b0e-9ce7-6489afb5cc10",
   "metadata": {},
   "outputs": [],
   "source": [
    "import gc\n",
    "gc.collect()"
   ]
  },
  {
   "cell_type": "markdown",
   "id": "c490dd11-7daf-4edf-ae91-f3c5b9ef067b",
   "metadata": {
    "tags": []
   },
   "source": [
    "***\n",
    "## Bayesian Optimization"
   ]
  },
  {
   "cell_type": "code",
   "execution_count": null,
   "id": "6163bd46-a5bf-4188-911c-3980e8d8abac",
   "metadata": {},
   "outputs": [],
   "source": [
    "default_params = {\n",
    "    'boosting': 'dart',\n",
    "    'linear_tree':True,\n",
    "    'objective': 'mse',\n",
    "    'metric': 'rmse',\n",
    "    'learning_rate': 0.05,\n",
    "    'num_leaves': 32,\n",
    "    'max_bin':511,\n",
    "    'force_col_wise': True,\n",
    "    'bagging_freq': 1,\n",
    "    'seed': 19,\n",
    "    'verbosity': -1,\n",
    "    'first_metric_only': False,\n",
    "    'bin_construct_sample_cnt': int(1e8),\n",
    "    'feature_pre_filter' : False,\n",
    "}"
   ]
  },
  {
   "cell_type": "code",
   "execution_count": null,
   "id": "78284f80-d571-4d8d-ab46-7788366648bd",
   "metadata": {},
   "outputs": [],
   "source": [
    "def pearsonr(preds: np.array, dset: lgb.Dataset):\n",
    "    \"\"\"\n",
    "    Helper function to compute Pearson correlation \n",
    "    on validation dataset for LightGBM as tracking metric.\n",
    "    Args:\n",
    "        preds: 1d-array with the model predictions\n",
    "        dset: LightGBM dataset with the labels\n",
    "    Returs:\n",
    "        Tuple with the corresponding output\n",
    "    \"\"\"\n",
    "    labels = dset.get_label()\n",
    "    return 'pearsonr', stats.pearsonr(preds, labels)[0], True"
   ]
  },
  {
   "cell_type": "code",
   "execution_count": null,
   "id": "15a9486c-4a3a-4d88-9513-b17f2e52afe0",
   "metadata": {},
   "outputs": [],
   "source": [
    "def objective(trial):    \n",
    "    sampled_params = dict(\n",
    "        feature_fraction = trial.suggest_discrete_uniform(\"feature_fraction\", 0.1, 0.4, 0.05),\n",
    "        bagging_fraction = trial.suggest_discrete_uniform(\"bagging_fraction\", 0.8, 1.0, 0.05),\n",
    "        lambda_l1 = trial.suggest_loguniform(\"lambda_l1\", 1e-4, 1e1),\n",
    "        lambda_l2 = trial.suggest_loguniform(\"lambda_l2\", 1e-4, 1e1),\n",
    "        linear_lambda = trial.suggest_float(\"linear_lambda\", 0., 500.),\n",
    "        path_smooth = trial.suggest_float(\"path_smooth\", 0., 50.),\n",
    "        min_data_in_leaf = trial.suggest_int(\"min_data_in_leaf\", 1000, 5000, 100),\n",
    "        # dart params\n",
    "        drop_rate = trial.suggest_discrete_uniform(\"drop_rate\", 0.05, 0.2, 0.01),\n",
    "        max_drop = trial.suggest_int(\"max_drop\", 10, 100, 10),\n",
    "        skip_drop = trial.suggest_discrete_uniform(\"skip_drop\", 0.25, 0.75, 0.05),  \n",
    "    )\n",
    "    model_params = {**default_params, **sampled_params}\n",
    "        \n",
    "    model = lgb.train(\n",
    "        params=model_params,\n",
    "        train_set=train_dset,\n",
    "        num_boost_round=trial.suggest_int(\"num_iterations\", 500, 2000, 100),\n",
    "    )\n",
    "    \n",
    "    # metric calculation\n",
    "    _oof = oof.copy()\n",
    "    _oof[\"pred\"] = model.predict(features_valid)\n",
    "    corrs = _oof.groupby(\"time_id\").apply(lambda x: stats.pearsonr(x.target, x.pred)[0])\n",
    "    corr_mean = corrs.mean()\n",
    "    corr_std = corrs.std()\n",
    "    \n",
    "    return corr_mean            "
   ]
  },
  {
   "cell_type": "code",
   "execution_count": null,
   "id": "fb17093c-f7d5-41d5-b0f0-7237dd0481a1",
   "metadata": {
    "tags": []
   },
   "outputs": [],
   "source": [
    "do_optimize = False\n",
    "\n",
    "study = optuna.create_study(\n",
    "    study_name=\"lgbm-linear-dart\",\n",
    "    direction='maximize',\n",
    "    storage='sqlite:///lgbm-linear-dart.db',\n",
    "    load_if_exists=True,\n",
    ")\n",
    "\n",
    "if do_optimize:\n",
    "    study.optimize(\n",
    "        objective, \n",
    "        n_trials=1000, \n",
    "        timeout=172800, # 48-hrs\n",
    "        n_jobs=1, \n",
    "        gc_after_trial=True,\n",
    "    ) "
   ]
  },
  {
   "cell_type": "code",
   "execution_count": null,
   "id": "20c2b3d1-edc2-4f48-a129-a975013934b6",
   "metadata": {},
   "outputs": [],
   "source": [
    "study.trials_dataframe().sort_values(\"value\", ascending=False).head(20)"
   ]
  },
  {
   "cell_type": "code",
   "execution_count": null,
   "id": "de4d361a-1d7d-46da-8f20-fcd379f8b476",
   "metadata": {},
   "outputs": [],
   "source": [
    "plot_optimization_history(study)"
   ]
  },
  {
   "cell_type": "code",
   "execution_count": null,
   "id": "1dd878ce-7455-441f-8bc0-f3aa5ce98744",
   "metadata": {},
   "outputs": [],
   "source": [
    "plot_param_importances(study)"
   ]
  },
  {
   "cell_type": "code",
   "execution_count": null,
   "id": "f29ff4a4-3e2c-4b82-9c15-f67617a76122",
   "metadata": {},
   "outputs": [],
   "source": [
    "plot_slice(study)"
   ]
  },
  {
   "cell_type": "code",
   "execution_count": null,
   "id": "09e43f27-4c48-4a2f-ac8d-fc415c9b45b1",
   "metadata": {},
   "outputs": [],
   "source": [
    "plot_edf(study)"
   ]
  },
  {
   "cell_type": "code",
   "execution_count": null,
   "id": "bb491f04-2b3e-49ed-ac73-b09ad06a1b99",
   "metadata": {},
   "outputs": [],
   "source": [
    "plot_parallel_coordinate(study)"
   ]
  },
  {
   "cell_type": "code",
   "execution_count": null,
   "id": "53c546d3-cef7-4cb8-b80c-1657f0e3dcb2",
   "metadata": {},
   "outputs": [],
   "source": [
    "best_params = dict(study.best_params)\n",
    "best_params = {**default_params, **best_params}\n",
    "best_params"
   ]
  },
  {
   "cell_type": "markdown",
   "id": "3e18344d-c1f4-41fd-963a-af6f405add15",
   "metadata": {},
   "source": [
    "***"
   ]
  }
 ],
 "metadata": {
  "kernelspec": {
   "display_name": "Python 3 (ipykernel)",
   "language": "python",
   "name": "python3"
  },
  "language_info": {
   "codemirror_mode": {
    "name": "ipython",
    "version": 3
   },
   "file_extension": ".py",
   "mimetype": "text/x-python",
   "name": "python",
   "nbconvert_exporter": "python",
   "pygments_lexer": "ipython3",
   "version": "3.7.12"
  }
 },
 "nbformat": 4,
 "nbformat_minor": 5
}
