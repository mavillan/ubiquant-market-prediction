{
 "cells": [
  {
   "cell_type": "code",
   "execution_count": 1,
   "id": "6fc57720-af91-4f34-b095-f7471ed11e78",
   "metadata": {},
   "outputs": [
    {
     "data": {
      "text/html": [
       "<style type='text/css'>\n",
       ".datatable table.frame { margin-bottom: 0; }\n",
       ".datatable table.frame thead { border-bottom: none; }\n",
       ".datatable table.frame tr.coltypes td {  color: #FFFFFF;  line-height: 6px;  padding: 0 0.5em;}\n",
       ".datatable .bool    { background: #DDDD99; }\n",
       ".datatable .object  { background: #565656; }\n",
       ".datatable .int     { background: #5D9E5D; }\n",
       ".datatable .float   { background: #4040CC; }\n",
       ".datatable .str     { background: #CC4040; }\n",
       ".datatable .time    { background: #40CC40; }\n",
       ".datatable .row_index {  background: var(--jp-border-color3);  border-right: 1px solid var(--jp-border-color0);  color: var(--jp-ui-font-color3);  font-size: 9px;}\n",
       ".datatable .frame tbody td { text-align: left; }\n",
       ".datatable .frame tr.coltypes .row_index {  background: var(--jp-border-color0);}\n",
       ".datatable th:nth-child(2) { padding-left: 12px; }\n",
       ".datatable .hellipsis {  color: var(--jp-cell-editor-border-color);}\n",
       ".datatable .vellipsis {  background: var(--jp-layout-color0);  color: var(--jp-cell-editor-border-color);}\n",
       ".datatable .na {  color: var(--jp-cell-editor-border-color);  font-size: 80%;}\n",
       ".datatable .sp {  opacity: 0.25;}\n",
       ".datatable .footer { font-size: 9px; }\n",
       ".datatable .frame_dimensions {  background: var(--jp-border-color3);  border-top: 1px solid var(--jp-border-color0);  color: var(--jp-ui-font-color3);  display: inline-block;  opacity: 0.6;  padding: 1px 10px 1px 5px;}\n",
       "</style>\n"
      ],
      "text/plain": [
       "<IPython.core.display.HTML object>"
      ]
     },
     "metadata": {},
     "output_type": "display_data"
    }
   ],
   "source": [
    "import numpy as np\n",
    "import pandas as pd\n",
    "from tqdm import tqdm\n",
    "from scipy import stats\n",
    "import lightgbm as lgb\n",
    "\n",
    "import optuna\n",
    "from optuna.visualization import (\n",
    "    plot_contour\n",
    "    , plot_edf\n",
    "    , plot_intermediate_values\n",
    "    , plot_optimization_history\n",
    "    , plot_parallel_coordinate\n",
    "    , plot_param_importances\n",
    "    , plot_slice\n",
    ")\n",
    "\n",
    "import matplotlib.pyplot as plt\n",
    "import seaborn as sns\n",
    "import plotly.express as px\n",
    "import plotly.io as pio\n",
    "\n",
    "pio.renderers.default = \"jupyterlab\""
   ]
  },
  {
   "cell_type": "markdown",
   "id": "ff6ecffc-64af-45c8-91d9-46ccb4b23fc5",
   "metadata": {},
   "source": [
    "***\n",
    "## loading data"
   ]
  },
  {
   "cell_type": "code",
   "execution_count": 2,
   "id": "e0c43e41-3f1e-4791-9eb1-61c9aaaf1ea4",
   "metadata": {},
   "outputs": [
    {
     "data": {
      "text/html": [
       "<div>\n",
       "<style scoped>\n",
       "    .dataframe tbody tr th:only-of-type {\n",
       "        vertical-align: middle;\n",
       "    }\n",
       "\n",
       "    .dataframe tbody tr th {\n",
       "        vertical-align: top;\n",
       "    }\n",
       "\n",
       "    .dataframe thead th {\n",
       "        text-align: right;\n",
       "    }\n",
       "</style>\n",
       "<table border=\"1\" class=\"dataframe\">\n",
       "  <thead>\n",
       "    <tr style=\"text-align: right;\">\n",
       "      <th></th>\n",
       "      <th>f_0</th>\n",
       "      <th>f_1</th>\n",
       "      <th>f_2</th>\n",
       "      <th>f_3</th>\n",
       "      <th>f_4</th>\n",
       "      <th>f_5</th>\n",
       "      <th>f_6</th>\n",
       "      <th>f_7</th>\n",
       "      <th>f_8</th>\n",
       "      <th>f_9</th>\n",
       "      <th>...</th>\n",
       "      <th>f_290</th>\n",
       "      <th>f_291</th>\n",
       "      <th>f_292</th>\n",
       "      <th>f_293</th>\n",
       "      <th>f_294</th>\n",
       "      <th>f_295</th>\n",
       "      <th>f_296</th>\n",
       "      <th>f_297</th>\n",
       "      <th>f_298</th>\n",
       "      <th>f_299</th>\n",
       "    </tr>\n",
       "  </thead>\n",
       "  <tbody>\n",
       "    <tr>\n",
       "      <th>0</th>\n",
       "      <td>0.932573</td>\n",
       "      <td>0.113691</td>\n",
       "      <td>-0.402206</td>\n",
       "      <td>0.378386</td>\n",
       "      <td>-0.203938</td>\n",
       "      <td>-0.413469</td>\n",
       "      <td>0.965623</td>\n",
       "      <td>1.230508</td>\n",
       "      <td>0.114809</td>\n",
       "      <td>-2.012777</td>\n",
       "      <td>...</td>\n",
       "      <td>0.366028</td>\n",
       "      <td>-1.095620</td>\n",
       "      <td>0.200075</td>\n",
       "      <td>0.819155</td>\n",
       "      <td>0.941183</td>\n",
       "      <td>-0.086764</td>\n",
       "      <td>-1.087009</td>\n",
       "      <td>-1.044826</td>\n",
       "      <td>-0.287605</td>\n",
       "      <td>0.321566</td>\n",
       "    </tr>\n",
       "    <tr>\n",
       "      <th>1</th>\n",
       "      <td>0.810802</td>\n",
       "      <td>-0.514115</td>\n",
       "      <td>0.742368</td>\n",
       "      <td>-0.616673</td>\n",
       "      <td>-0.194255</td>\n",
       "      <td>1.771210</td>\n",
       "      <td>1.428127</td>\n",
       "      <td>1.134144</td>\n",
       "      <td>0.114809</td>\n",
       "      <td>-0.219201</td>\n",
       "      <td>...</td>\n",
       "      <td>-0.154193</td>\n",
       "      <td>0.912726</td>\n",
       "      <td>-0.734579</td>\n",
       "      <td>0.819155</td>\n",
       "      <td>0.941183</td>\n",
       "      <td>-0.387617</td>\n",
       "      <td>-1.087009</td>\n",
       "      <td>-0.929529</td>\n",
       "      <td>-0.974060</td>\n",
       "      <td>-0.343624</td>\n",
       "    </tr>\n",
       "    <tr>\n",
       "      <th>2</th>\n",
       "      <td>0.393974</td>\n",
       "      <td>0.615937</td>\n",
       "      <td>0.567806</td>\n",
       "      <td>-0.607963</td>\n",
       "      <td>0.068883</td>\n",
       "      <td>-1.083155</td>\n",
       "      <td>0.979656</td>\n",
       "      <td>-1.125681</td>\n",
       "      <td>0.114809</td>\n",
       "      <td>-1.035376</td>\n",
       "      <td>...</td>\n",
       "      <td>-0.138020</td>\n",
       "      <td>0.912726</td>\n",
       "      <td>-0.551904</td>\n",
       "      <td>-1.220772</td>\n",
       "      <td>-1.060166</td>\n",
       "      <td>-0.219097</td>\n",
       "      <td>-1.087009</td>\n",
       "      <td>-0.612428</td>\n",
       "      <td>-0.113944</td>\n",
       "      <td>0.243608</td>\n",
       "    </tr>\n",
       "    <tr>\n",
       "      <th>3</th>\n",
       "      <td>-2.343535</td>\n",
       "      <td>-0.011870</td>\n",
       "      <td>1.874606</td>\n",
       "      <td>-0.606346</td>\n",
       "      <td>-0.586827</td>\n",
       "      <td>-0.815737</td>\n",
       "      <td>0.778096</td>\n",
       "      <td>0.298990</td>\n",
       "      <td>0.114809</td>\n",
       "      <td>-1.176410</td>\n",
       "      <td>...</td>\n",
       "      <td>0.382201</td>\n",
       "      <td>0.912726</td>\n",
       "      <td>-0.266359</td>\n",
       "      <td>-1.220772</td>\n",
       "      <td>0.941183</td>\n",
       "      <td>-0.609113</td>\n",
       "      <td>0.104928</td>\n",
       "      <td>-0.783423</td>\n",
       "      <td>1.151730</td>\n",
       "      <td>-0.773309</td>\n",
       "    </tr>\n",
       "    <tr>\n",
       "      <th>4</th>\n",
       "      <td>0.842057</td>\n",
       "      <td>-0.262993</td>\n",
       "      <td>2.330030</td>\n",
       "      <td>-0.583422</td>\n",
       "      <td>-0.618392</td>\n",
       "      <td>-0.742814</td>\n",
       "      <td>-0.946789</td>\n",
       "      <td>1.230508</td>\n",
       "      <td>0.114809</td>\n",
       "      <td>-0.005858</td>\n",
       "      <td>...</td>\n",
       "      <td>-0.170365</td>\n",
       "      <td>0.912726</td>\n",
       "      <td>-0.741355</td>\n",
       "      <td>-1.220772</td>\n",
       "      <td>0.941183</td>\n",
       "      <td>-0.588445</td>\n",
       "      <td>0.104928</td>\n",
       "      <td>0.753279</td>\n",
       "      <td>1.345611</td>\n",
       "      <td>-0.737624</td>\n",
       "    </tr>\n",
       "    <tr>\n",
       "      <th>...</th>\n",
       "      <td>...</td>\n",
       "      <td>...</td>\n",
       "      <td>...</td>\n",
       "      <td>...</td>\n",
       "      <td>...</td>\n",
       "      <td>...</td>\n",
       "      <td>...</td>\n",
       "      <td>...</td>\n",
       "      <td>...</td>\n",
       "      <td>...</td>\n",
       "      <td>...</td>\n",
       "      <td>...</td>\n",
       "      <td>...</td>\n",
       "      <td>...</td>\n",
       "      <td>...</td>\n",
       "      <td>...</td>\n",
       "      <td>...</td>\n",
       "      <td>...</td>\n",
       "      <td>...</td>\n",
       "      <td>...</td>\n",
       "      <td>...</td>\n",
       "    </tr>\n",
       "    <tr>\n",
       "      <th>3141405</th>\n",
       "      <td>0.093530</td>\n",
       "      <td>-0.720275</td>\n",
       "      <td>-0.345497</td>\n",
       "      <td>-0.438781</td>\n",
       "      <td>-0.166972</td>\n",
       "      <td>-0.437182</td>\n",
       "      <td>1.475746</td>\n",
       "      <td>1.284423</td>\n",
       "      <td>0.056425</td>\n",
       "      <td>-1.433681</td>\n",
       "      <td>...</td>\n",
       "      <td>-0.285908</td>\n",
       "      <td>-1.232434</td>\n",
       "      <td>-0.660579</td>\n",
       "      <td>0.875537</td>\n",
       "      <td>0.421628</td>\n",
       "      <td>-0.428097</td>\n",
       "      <td>-0.075548</td>\n",
       "      <td>-0.533092</td>\n",
       "      <td>-0.193732</td>\n",
       "      <td>-0.581394</td>\n",
       "    </tr>\n",
       "    <tr>\n",
       "      <th>3141406</th>\n",
       "      <td>-1.344935</td>\n",
       "      <td>-0.199987</td>\n",
       "      <td>-0.107702</td>\n",
       "      <td>-0.454677</td>\n",
       "      <td>-0.221914</td>\n",
       "      <td>-0.141174</td>\n",
       "      <td>-1.498235</td>\n",
       "      <td>1.373834</td>\n",
       "      <td>0.056425</td>\n",
       "      <td>-1.211572</td>\n",
       "      <td>...</td>\n",
       "      <td>0.184517</td>\n",
       "      <td>-1.232434</td>\n",
       "      <td>-0.670493</td>\n",
       "      <td>0.875537</td>\n",
       "      <td>0.421628</td>\n",
       "      <td>-0.729949</td>\n",
       "      <td>-1.514277</td>\n",
       "      <td>0.013145</td>\n",
       "      <td>-0.890270</td>\n",
       "      <td>-0.589705</td>\n",
       "    </tr>\n",
       "    <tr>\n",
       "      <th>3141407</th>\n",
       "      <td>0.979489</td>\n",
       "      <td>-1.110491</td>\n",
       "      <td>1.006980</td>\n",
       "      <td>-0.467307</td>\n",
       "      <td>-0.159549</td>\n",
       "      <td>1.355671</td>\n",
       "      <td>0.150812</td>\n",
       "      <td>-0.088923</td>\n",
       "      <td>0.056425</td>\n",
       "      <td>0.996380</td>\n",
       "      <td>...</td>\n",
       "      <td>-0.756332</td>\n",
       "      <td>-1.232434</td>\n",
       "      <td>0.820784</td>\n",
       "      <td>-1.142157</td>\n",
       "      <td>0.421628</td>\n",
       "      <td>-0.363329</td>\n",
       "      <td>1.363181</td>\n",
       "      <td>-0.079106</td>\n",
       "      <td>-1.580124</td>\n",
       "      <td>-0.297625</td>\n",
       "    </tr>\n",
       "    <tr>\n",
       "      <th>3141408</th>\n",
       "      <td>-2.565332</td>\n",
       "      <td>0.320301</td>\n",
       "      <td>0.076600</td>\n",
       "      <td>1.380182</td>\n",
       "      <td>-0.155366</td>\n",
       "      <td>-0.689000</td>\n",
       "      <td>0.381069</td>\n",
       "      <td>-1.324759</td>\n",
       "      <td>0.056425</td>\n",
       "      <td>-1.111730</td>\n",
       "      <td>...</td>\n",
       "      <td>-0.756332</td>\n",
       "      <td>-1.232434</td>\n",
       "      <td>0.133074</td>\n",
       "      <td>-1.142157</td>\n",
       "      <td>0.421628</td>\n",
       "      <td>-0.375288</td>\n",
       "      <td>-1.514277</td>\n",
       "      <td>-0.973762</td>\n",
       "      <td>0.608647</td>\n",
       "      <td>-0.372040</td>\n",
       "    </tr>\n",
       "    <tr>\n",
       "      <th>3141409</th>\n",
       "      <td>-0.089557</td>\n",
       "      <td>0.190229</td>\n",
       "      <td>-0.548256</td>\n",
       "      <td>0.151205</td>\n",
       "      <td>0.079773</td>\n",
       "      <td>0.447962</td>\n",
       "      <td>1.014983</td>\n",
       "      <td>-1.324759</td>\n",
       "      <td>0.056425</td>\n",
       "      <td>-1.952123</td>\n",
       "      <td>...</td>\n",
       "      <td>-0.317095</td>\n",
       "      <td>0.811402</td>\n",
       "      <td>3.271590</td>\n",
       "      <td>0.875537</td>\n",
       "      <td>0.421628</td>\n",
       "      <td>-0.170709</td>\n",
       "      <td>1.363181</td>\n",
       "      <td>-0.563314</td>\n",
       "      <td>0.669586</td>\n",
       "      <td>0.456400</td>\n",
       "    </tr>\n",
       "  </tbody>\n",
       "</table>\n",
       "<p>3141410 rows × 300 columns</p>\n",
       "</div>"
      ],
      "text/plain": [
       "              f_0       f_1       f_2       f_3       f_4       f_5       f_6  \\\n",
       "0        0.932573  0.113691 -0.402206  0.378386 -0.203938 -0.413469  0.965623   \n",
       "1        0.810802 -0.514115  0.742368 -0.616673 -0.194255  1.771210  1.428127   \n",
       "2        0.393974  0.615937  0.567806 -0.607963  0.068883 -1.083155  0.979656   \n",
       "3       -2.343535 -0.011870  1.874606 -0.606346 -0.586827 -0.815737  0.778096   \n",
       "4        0.842057 -0.262993  2.330030 -0.583422 -0.618392 -0.742814 -0.946789   \n",
       "...           ...       ...       ...       ...       ...       ...       ...   \n",
       "3141405  0.093530 -0.720275 -0.345497 -0.438781 -0.166972 -0.437182  1.475746   \n",
       "3141406 -1.344935 -0.199987 -0.107702 -0.454677 -0.221914 -0.141174 -1.498235   \n",
       "3141407  0.979489 -1.110491  1.006980 -0.467307 -0.159549  1.355671  0.150812   \n",
       "3141408 -2.565332  0.320301  0.076600  1.380182 -0.155366 -0.689000  0.381069   \n",
       "3141409 -0.089557  0.190229 -0.548256  0.151205  0.079773  0.447962  1.014983   \n",
       "\n",
       "              f_7       f_8       f_9  ...     f_290     f_291     f_292  \\\n",
       "0        1.230508  0.114809 -2.012777  ...  0.366028 -1.095620  0.200075   \n",
       "1        1.134144  0.114809 -0.219201  ... -0.154193  0.912726 -0.734579   \n",
       "2       -1.125681  0.114809 -1.035376  ... -0.138020  0.912726 -0.551904   \n",
       "3        0.298990  0.114809 -1.176410  ...  0.382201  0.912726 -0.266359   \n",
       "4        1.230508  0.114809 -0.005858  ... -0.170365  0.912726 -0.741355   \n",
       "...           ...       ...       ...  ...       ...       ...       ...   \n",
       "3141405  1.284423  0.056425 -1.433681  ... -0.285908 -1.232434 -0.660579   \n",
       "3141406  1.373834  0.056425 -1.211572  ...  0.184517 -1.232434 -0.670493   \n",
       "3141407 -0.088923  0.056425  0.996380  ... -0.756332 -1.232434  0.820784   \n",
       "3141408 -1.324759  0.056425 -1.111730  ... -0.756332 -1.232434  0.133074   \n",
       "3141409 -1.324759  0.056425 -1.952123  ... -0.317095  0.811402  3.271590   \n",
       "\n",
       "            f_293     f_294     f_295     f_296     f_297     f_298     f_299  \n",
       "0        0.819155  0.941183 -0.086764 -1.087009 -1.044826 -0.287605  0.321566  \n",
       "1        0.819155  0.941183 -0.387617 -1.087009 -0.929529 -0.974060 -0.343624  \n",
       "2       -1.220772 -1.060166 -0.219097 -1.087009 -0.612428 -0.113944  0.243608  \n",
       "3       -1.220772  0.941183 -0.609113  0.104928 -0.783423  1.151730 -0.773309  \n",
       "4       -1.220772  0.941183 -0.588445  0.104928  0.753279  1.345611 -0.737624  \n",
       "...           ...       ...       ...       ...       ...       ...       ...  \n",
       "3141405  0.875537  0.421628 -0.428097 -0.075548 -0.533092 -0.193732 -0.581394  \n",
       "3141406  0.875537  0.421628 -0.729949 -1.514277  0.013145 -0.890270 -0.589705  \n",
       "3141407 -1.142157  0.421628 -0.363329  1.363181 -0.079106 -1.580124 -0.297625  \n",
       "3141408 -1.142157  0.421628 -0.375288 -1.514277 -0.973762  0.608647 -0.372040  \n",
       "3141409  0.875537  0.421628 -0.170709  1.363181 -0.563314  0.669586  0.456400  \n",
       "\n",
       "[3141410 rows x 300 columns]"
      ]
     },
     "metadata": {},
     "output_type": "display_data"
    },
    {
     "data": {
      "text/html": [
       "<div>\n",
       "<style scoped>\n",
       "    .dataframe tbody tr th:only-of-type {\n",
       "        vertical-align: middle;\n",
       "    }\n",
       "\n",
       "    .dataframe tbody tr th {\n",
       "        vertical-align: top;\n",
       "    }\n",
       "\n",
       "    .dataframe thead th {\n",
       "        text-align: right;\n",
       "    }\n",
       "</style>\n",
       "<table border=\"1\" class=\"dataframe\">\n",
       "  <thead>\n",
       "    <tr style=\"text-align: right;\">\n",
       "      <th></th>\n",
       "      <th>target</th>\n",
       "    </tr>\n",
       "  </thead>\n",
       "  <tbody>\n",
       "    <tr>\n",
       "      <th>0</th>\n",
       "      <td>-0.300875</td>\n",
       "    </tr>\n",
       "    <tr>\n",
       "      <th>1</th>\n",
       "      <td>-0.231040</td>\n",
       "    </tr>\n",
       "    <tr>\n",
       "      <th>2</th>\n",
       "      <td>0.568807</td>\n",
       "    </tr>\n",
       "    <tr>\n",
       "      <th>3</th>\n",
       "      <td>-1.064780</td>\n",
       "    </tr>\n",
       "    <tr>\n",
       "      <th>4</th>\n",
       "      <td>-0.531940</td>\n",
       "    </tr>\n",
       "    <tr>\n",
       "      <th>...</th>\n",
       "      <td>...</td>\n",
       "    </tr>\n",
       "    <tr>\n",
       "      <th>3141405</th>\n",
       "      <td>0.033600</td>\n",
       "    </tr>\n",
       "    <tr>\n",
       "      <th>3141406</th>\n",
       "      <td>-0.223264</td>\n",
       "    </tr>\n",
       "    <tr>\n",
       "      <th>3141407</th>\n",
       "      <td>-0.559415</td>\n",
       "    </tr>\n",
       "    <tr>\n",
       "      <th>3141408</th>\n",
       "      <td>0.009599</td>\n",
       "    </tr>\n",
       "    <tr>\n",
       "      <th>3141409</th>\n",
       "      <td>1.212112</td>\n",
       "    </tr>\n",
       "  </tbody>\n",
       "</table>\n",
       "<p>3141410 rows × 1 columns</p>\n",
       "</div>"
      ],
      "text/plain": [
       "           target\n",
       "0       -0.300875\n",
       "1       -0.231040\n",
       "2        0.568807\n",
       "3       -1.064780\n",
       "4       -0.531940\n",
       "...           ...\n",
       "3141405  0.033600\n",
       "3141406 -0.223264\n",
       "3141407 -0.559415\n",
       "3141408  0.009599\n",
       "3141409  1.212112\n",
       "\n",
       "[3141410 rows x 1 columns]"
      ]
     },
     "metadata": {},
     "output_type": "display_data"
    },
    {
     "data": {
      "text/html": [
       "<div>\n",
       "<style scoped>\n",
       "    .dataframe tbody tr th:only-of-type {\n",
       "        vertical-align: middle;\n",
       "    }\n",
       "\n",
       "    .dataframe tbody tr th {\n",
       "        vertical-align: top;\n",
       "    }\n",
       "\n",
       "    .dataframe thead th {\n",
       "        text-align: right;\n",
       "    }\n",
       "</style>\n",
       "<table border=\"1\" class=\"dataframe\">\n",
       "  <thead>\n",
       "    <tr style=\"text-align: right;\">\n",
       "      <th></th>\n",
       "      <th>time_id</th>\n",
       "    </tr>\n",
       "  </thead>\n",
       "  <tbody>\n",
       "    <tr>\n",
       "      <th>0</th>\n",
       "      <td>0</td>\n",
       "    </tr>\n",
       "    <tr>\n",
       "      <th>1</th>\n",
       "      <td>0</td>\n",
       "    </tr>\n",
       "    <tr>\n",
       "      <th>2</th>\n",
       "      <td>0</td>\n",
       "    </tr>\n",
       "    <tr>\n",
       "      <th>3</th>\n",
       "      <td>0</td>\n",
       "    </tr>\n",
       "    <tr>\n",
       "      <th>4</th>\n",
       "      <td>0</td>\n",
       "    </tr>\n",
       "    <tr>\n",
       "      <th>...</th>\n",
       "      <td>...</td>\n",
       "    </tr>\n",
       "    <tr>\n",
       "      <th>3141405</th>\n",
       "      <td>1219</td>\n",
       "    </tr>\n",
       "    <tr>\n",
       "      <th>3141406</th>\n",
       "      <td>1219</td>\n",
       "    </tr>\n",
       "    <tr>\n",
       "      <th>3141407</th>\n",
       "      <td>1219</td>\n",
       "    </tr>\n",
       "    <tr>\n",
       "      <th>3141408</th>\n",
       "      <td>1219</td>\n",
       "    </tr>\n",
       "    <tr>\n",
       "      <th>3141409</th>\n",
       "      <td>1219</td>\n",
       "    </tr>\n",
       "  </tbody>\n",
       "</table>\n",
       "<p>3141410 rows × 1 columns</p>\n",
       "</div>"
      ],
      "text/plain": [
       "         time_id\n",
       "0              0\n",
       "1              0\n",
       "2              0\n",
       "3              0\n",
       "4              0\n",
       "...          ...\n",
       "3141405     1219\n",
       "3141406     1219\n",
       "3141407     1219\n",
       "3141408     1219\n",
       "3141409     1219\n",
       "\n",
       "[3141410 rows x 1 columns]"
      ]
     },
     "metadata": {},
     "output_type": "display_data"
    }
   ],
   "source": [
    "features = [f\"f_{i}\" for i in range(300)]\n",
    "\n",
    "features = pd.read_parquet(\"../ump-dataset/train.parquet\", columns=features)\n",
    "display(features)\n",
    "\n",
    "target = pd.read_parquet(\"../ump-dataset/train.parquet\", columns=[\"target\",])\n",
    "display(target)\n",
    "\n",
    "time = pd.read_parquet(\"../ump-dataset/train.parquet\", columns=[\"time_id\",])\n",
    "display(time)"
   ]
  },
  {
   "cell_type": "code",
   "execution_count": 3,
   "id": "b5f74807-0400-498f-b13e-ef9f31350f43",
   "metadata": {},
   "outputs": [
    {
     "data": {
      "text/plain": [
       "1211"
      ]
     },
     "execution_count": 3,
     "metadata": {},
     "output_type": "execute_result"
    }
   ],
   "source": [
    "time_ids = np.sort(time.time_id.unique())\n",
    "len(time_ids)"
   ]
  },
  {
   "cell_type": "code",
   "execution_count": 4,
   "id": "1b32639b-0fd2-413d-85ab-3625263ad3d1",
   "metadata": {},
   "outputs": [
    {
     "name": "stdout",
     "output_type": "stream",
     "text": [
      "time steps: 1211\n",
      "valid size: 363\n"
     ]
    }
   ],
   "source": [
    "n_time_steps = len(time_ids)\n",
    "print(\"time steps:\", n_time_steps)\n",
    "\n",
    "valid_prop = 0.3\n",
    "valid_size = int(valid_prop * n_time_steps)\n",
    "print(\"valid size:\", valid_size)"
   ]
  },
  {
   "cell_type": "code",
   "execution_count": 5,
   "id": "91ea263b-39e7-447f-aec7-83434aa97642",
   "metadata": {},
   "outputs": [],
   "source": [
    "valid_time_ids = time_ids[-valid_size:]"
   ]
  },
  {
   "cell_type": "code",
   "execution_count": 6,
   "id": "69ec1825-2a47-41e4-8df5-f106fa28930a",
   "metadata": {},
   "outputs": [],
   "source": [
    "train_idx = time.query(\"time_id not in @valid_time_ids\").index\n",
    "valid_idx = time.query(\"time_id in @valid_time_ids\").index\n",
    "\n",
    "# dataframes for metric calculation\n",
    "oof = target.loc[valid_idx,:].copy()\n",
    "oof[\"time_id\"] = time.loc[valid_idx,\"time_id\"]\n",
    "features_valid = features.loc[valid_idx,:]\n",
    "\n",
    "# input dataset for lgbm\n",
    "train_dset = lgb.Dataset(\n",
    "    data=features.loc[train_idx,:],\n",
    "    label=target.loc[train_idx,\"target\"].values,\n",
    "    free_raw_data=True\n",
    ")\n",
    "valid_dset = lgb.Dataset(\n",
    "    data=features.loc[valid_idx,:],\n",
    "    label=target.loc[valid_idx,\"target\"].values,\n",
    "    free_raw_data=True\n",
    ")"
   ]
  },
  {
   "cell_type": "code",
   "execution_count": 7,
   "id": "d6c17cfc-024a-4b0e-9ce7-6489afb5cc10",
   "metadata": {},
   "outputs": [
    {
     "data": {
      "text/plain": [
       "23"
      ]
     },
     "execution_count": 7,
     "metadata": {},
     "output_type": "execute_result"
    }
   ],
   "source": [
    "import gc\n",
    "gc.collect()"
   ]
  },
  {
   "cell_type": "markdown",
   "id": "c490dd11-7daf-4edf-ae91-f3c5b9ef067b",
   "metadata": {
    "tags": []
   },
   "source": [
    "***\n",
    "## Bayesian Optimization"
   ]
  },
  {
   "cell_type": "code",
   "execution_count": 8,
   "id": "6163bd46-a5bf-4188-911c-3980e8d8abac",
   "metadata": {},
   "outputs": [],
   "source": [
    "default_params = {\n",
    "    'boosting': 'dart',\n",
    "    'objective': 'mse',\n",
    "    'metric': 'rmse',\n",
    "    'learning_rate': 0.05,\n",
    "    'force_col_wise': True,\n",
    "    'bagging_freq': 1,\n",
    "    'seed': 19,\n",
    "    'verbosity': -1,\n",
    "    'first_metric_only': False,\n",
    "    'bin_construct_sample_cnt': int(1e8),\n",
    "    'feature_pre_filter' : False,\n",
    "}"
   ]
  },
  {
   "cell_type": "code",
   "execution_count": 9,
   "id": "78284f80-d571-4d8d-ab46-7788366648bd",
   "metadata": {},
   "outputs": [],
   "source": [
    "def pearsonr(preds: np.array, dset: lgb.Dataset):\n",
    "    \"\"\"\n",
    "    Helper function to compute Pearson correlation \n",
    "    on validation dataset for LightGBM as tracking metric.\n",
    "    Args:\n",
    "        preds: 1d-array with the model predictions\n",
    "        dset: LightGBM dataset with the labels\n",
    "    Returs:\n",
    "        Tuple with the corresponding output\n",
    "    \"\"\"\n",
    "    labels = dset.get_label()\n",
    "    return 'pearsonr', stats.pearsonr(preds, labels)[0], True"
   ]
  },
  {
   "cell_type": "code",
   "execution_count": 10,
   "id": "15a9486c-4a3a-4d88-9513-b17f2e52afe0",
   "metadata": {},
   "outputs": [],
   "source": [
    "def objective(trial):    \n",
    "    sampled_params = dict(\n",
    "        num_leaves = 2 ** trial.suggest_int(\"num_leaves_exp\", 7, 7),\n",
    "        feature_fraction = trial.suggest_discrete_uniform(\"feature_fraction\", 0.1, 0.5, 0.05),\n",
    "        bagging_fraction = trial.suggest_discrete_uniform(\"bagging_fraction\", 0.7, 1.0, 0.05),\n",
    "        lambda_l1 = trial.suggest_loguniform(\"lambda_l1\", 1e-3, 1e1),\n",
    "        lambda_l2 = trial.suggest_loguniform(\"lambda_l2\", 1e-3, 1e1),\n",
    "        min_data_in_leaf = trial.suggest_int(\"min_data_in_leaf\", 500, 1000, 100),\n",
    "        path_smooth = trial.suggest_float(\"path_smooth\", 0., 20.),\n",
    "        drop_rate = trial.suggest_discrete_uniform(\"drop_rate\", 0.01, 0.2, 0.01),\n",
    "        max_drop = trial.suggest_int(\"max_drop\", 10, 50, 10),\n",
    "        skip_drop = trial.suggest_discrete_uniform(\"skip_drop\", 0.25, 0.75, 0.05),\n",
    "    )\n",
    "    model_params = {**default_params, **sampled_params}\n",
    "    \n",
    "    model = lgb.train(\n",
    "        params=model_params,\n",
    "        train_set=train_dset,\n",
    "        num_boost_round=trial.suggest_int(\"num_iterations\", 1000, 2000, 100),\n",
    "    )\n",
    "    \n",
    "    # metric calculation\n",
    "    _oof = oof.copy()\n",
    "    _oof[\"pred\"] = model.predict(features_valid)\n",
    "    corrs = _oof.groupby(\"time_id\").apply(lambda x: stats.pearsonr(x.target, x.pred)[0])\n",
    "    corr_mean = corrs.mean()\n",
    "    corr_std = corrs.std()\n",
    "    \n",
    "    return corr_mean            "
   ]
  },
  {
   "cell_type": "code",
   "execution_count": 11,
   "id": "fb17093c-f7d5-41d5-b0f0-7237dd0481a1",
   "metadata": {
    "tags": []
   },
   "outputs": [
    {
     "name": "stderr",
     "output_type": "stream",
     "text": [
      "\u001b[32m[I 2022-02-21 16:35:34,096]\u001b[0m Using an existing study with name 'lgbm-dart' instead of creating a new one.\u001b[0m\n"
     ]
    }
   ],
   "source": [
    "do_optimize = False\n",
    "\n",
    "study = optuna.create_study(\n",
    "    study_name=\"lgbm-dart\",\n",
    "    direction='maximize',\n",
    "    storage='sqlite:///lgbm-dart.db',\n",
    "    load_if_exists=True,\n",
    ")\n",
    "\n",
    "if do_optimize:\n",
    "    study.optimize(\n",
    "        objective, \n",
    "        n_trials=1000, \n",
    "        timeout=43200, # 12-hrs\n",
    "        n_jobs=1, \n",
    "        gc_after_trial=True,\n",
    "    ) "
   ]
  },
  {
   "cell_type": "code",
   "execution_count": 12,
   "id": "20c2b3d1-edc2-4f48-a129-a975013934b6",
   "metadata": {},
   "outputs": [
    {
     "data": {
      "text/html": [
       "<div>\n",
       "<style scoped>\n",
       "    .dataframe tbody tr th:only-of-type {\n",
       "        vertical-align: middle;\n",
       "    }\n",
       "\n",
       "    .dataframe tbody tr th {\n",
       "        vertical-align: top;\n",
       "    }\n",
       "\n",
       "    .dataframe thead th {\n",
       "        text-align: right;\n",
       "    }\n",
       "</style>\n",
       "<table border=\"1\" class=\"dataframe\">\n",
       "  <thead>\n",
       "    <tr style=\"text-align: right;\">\n",
       "      <th></th>\n",
       "      <th>number</th>\n",
       "      <th>value</th>\n",
       "      <th>datetime_start</th>\n",
       "      <th>datetime_complete</th>\n",
       "      <th>duration</th>\n",
       "      <th>params_bagging_fraction</th>\n",
       "      <th>params_drop_rate</th>\n",
       "      <th>params_feature_fraction</th>\n",
       "      <th>params_lambda_l1</th>\n",
       "      <th>params_lambda_l2</th>\n",
       "      <th>params_max_drop</th>\n",
       "      <th>params_min_data_in_leaf</th>\n",
       "      <th>params_num_iterations</th>\n",
       "      <th>params_num_leaves_exp</th>\n",
       "      <th>params_path_smooth</th>\n",
       "      <th>params_skip_drop</th>\n",
       "      <th>state</th>\n",
       "    </tr>\n",
       "  </thead>\n",
       "  <tbody>\n",
       "    <tr>\n",
       "      <th>28</th>\n",
       "      <td>28</td>\n",
       "      <td>0.135382</td>\n",
       "      <td>2022-02-19 22:17:19.294423</td>\n",
       "      <td>2022-02-19 23:01:04.030620</td>\n",
       "      <td>0 days 00:43:44.736197</td>\n",
       "      <td>1.00</td>\n",
       "      <td>0.06</td>\n",
       "      <td>0.15</td>\n",
       "      <td>0.951446</td>\n",
       "      <td>0.004194</td>\n",
       "      <td>50</td>\n",
       "      <td>1800</td>\n",
       "      <td>1900</td>\n",
       "      <td>7</td>\n",
       "      <td>0.301016</td>\n",
       "      <td>0.55</td>\n",
       "      <td>COMPLETE</td>\n",
       "    </tr>\n",
       "    <tr>\n",
       "      <th>53</th>\n",
       "      <td>53</td>\n",
       "      <td>0.135065</td>\n",
       "      <td>2022-02-20 10:50:09.290641</td>\n",
       "      <td>2022-02-20 11:31:17.322461</td>\n",
       "      <td>0 days 00:41:08.031820</td>\n",
       "      <td>1.00</td>\n",
       "      <td>0.05</td>\n",
       "      <td>0.15</td>\n",
       "      <td>0.288142</td>\n",
       "      <td>0.003235</td>\n",
       "      <td>50</td>\n",
       "      <td>2000</td>\n",
       "      <td>1900</td>\n",
       "      <td>7</td>\n",
       "      <td>1.682102</td>\n",
       "      <td>0.60</td>\n",
       "      <td>COMPLETE</td>\n",
       "    </tr>\n",
       "    <tr>\n",
       "      <th>52</th>\n",
       "      <td>52</td>\n",
       "      <td>0.134977</td>\n",
       "      <td>2022-02-20 10:08:52.183075</td>\n",
       "      <td>2022-02-20 10:50:09.161023</td>\n",
       "      <td>0 days 00:41:16.977948</td>\n",
       "      <td>0.95</td>\n",
       "      <td>0.05</td>\n",
       "      <td>0.15</td>\n",
       "      <td>0.276116</td>\n",
       "      <td>0.002986</td>\n",
       "      <td>50</td>\n",
       "      <td>1800</td>\n",
       "      <td>1900</td>\n",
       "      <td>7</td>\n",
       "      <td>9.470406</td>\n",
       "      <td>0.60</td>\n",
       "      <td>COMPLETE</td>\n",
       "    </tr>\n",
       "    <tr>\n",
       "      <th>92</th>\n",
       "      <td>92</td>\n",
       "      <td>0.134524</td>\n",
       "      <td>2022-02-21 10:56:19.939989</td>\n",
       "      <td>2022-02-21 11:37:23.981390</td>\n",
       "      <td>0 days 00:41:04.041401</td>\n",
       "      <td>0.95</td>\n",
       "      <td>0.05</td>\n",
       "      <td>0.15</td>\n",
       "      <td>0.267972</td>\n",
       "      <td>0.003620</td>\n",
       "      <td>50</td>\n",
       "      <td>1800</td>\n",
       "      <td>1900</td>\n",
       "      <td>7</td>\n",
       "      <td>9.449103</td>\n",
       "      <td>0.60</td>\n",
       "      <td>COMPLETE</td>\n",
       "    </tr>\n",
       "    <tr>\n",
       "      <th>93</th>\n",
       "      <td>93</td>\n",
       "      <td>0.134514</td>\n",
       "      <td>2022-02-21 11:37:24.112941</td>\n",
       "      <td>2022-02-21 12:22:26.824266</td>\n",
       "      <td>0 days 00:45:02.711325</td>\n",
       "      <td>0.95</td>\n",
       "      <td>0.05</td>\n",
       "      <td>0.15</td>\n",
       "      <td>0.277340</td>\n",
       "      <td>0.002570</td>\n",
       "      <td>50</td>\n",
       "      <td>1800</td>\n",
       "      <td>2000</td>\n",
       "      <td>7</td>\n",
       "      <td>12.160072</td>\n",
       "      <td>0.60</td>\n",
       "      <td>COMPLETE</td>\n",
       "    </tr>\n",
       "    <tr>\n",
       "      <th>54</th>\n",
       "      <td>54</td>\n",
       "      <td>0.134447</td>\n",
       "      <td>2022-02-20 11:31:17.451230</td>\n",
       "      <td>2022-02-20 12:16:47.721393</td>\n",
       "      <td>0 days 00:45:30.270163</td>\n",
       "      <td>0.90</td>\n",
       "      <td>0.05</td>\n",
       "      <td>0.20</td>\n",
       "      <td>0.271060</td>\n",
       "      <td>0.001398</td>\n",
       "      <td>50</td>\n",
       "      <td>2000</td>\n",
       "      <td>1900</td>\n",
       "      <td>7</td>\n",
       "      <td>10.303978</td>\n",
       "      <td>0.60</td>\n",
       "      <td>COMPLETE</td>\n",
       "    </tr>\n",
       "    <tr>\n",
       "      <th>30</th>\n",
       "      <td>30</td>\n",
       "      <td>0.134267</td>\n",
       "      <td>2022-02-19 23:34:40.722909</td>\n",
       "      <td>2022-02-20 00:00:23.989998</td>\n",
       "      <td>0 days 00:25:43.267089</td>\n",
       "      <td>1.00</td>\n",
       "      <td>0.06</td>\n",
       "      <td>0.15</td>\n",
       "      <td>0.866391</td>\n",
       "      <td>0.004008</td>\n",
       "      <td>50</td>\n",
       "      <td>1900</td>\n",
       "      <td>1400</td>\n",
       "      <td>7</td>\n",
       "      <td>4.605264</td>\n",
       "      <td>0.65</td>\n",
       "      <td>COMPLETE</td>\n",
       "    </tr>\n",
       "    <tr>\n",
       "      <th>17</th>\n",
       "      <td>17</td>\n",
       "      <td>0.134265</td>\n",
       "      <td>2022-02-19 14:29:27.160245</td>\n",
       "      <td>2022-02-19 15:19:56.542444</td>\n",
       "      <td>0 days 00:50:29.382199</td>\n",
       "      <td>0.95</td>\n",
       "      <td>0.06</td>\n",
       "      <td>0.35</td>\n",
       "      <td>1.361534</td>\n",
       "      <td>0.003632</td>\n",
       "      <td>40</td>\n",
       "      <td>2000</td>\n",
       "      <td>1800</td>\n",
       "      <td>7</td>\n",
       "      <td>22.136206</td>\n",
       "      <td>0.50</td>\n",
       "      <td>COMPLETE</td>\n",
       "    </tr>\n",
       "    <tr>\n",
       "      <th>94</th>\n",
       "      <td>94</td>\n",
       "      <td>0.134228</td>\n",
       "      <td>2022-02-21 12:22:26.960601</td>\n",
       "      <td>2022-02-21 13:03:35.354038</td>\n",
       "      <td>0 days 00:41:08.393437</td>\n",
       "      <td>0.90</td>\n",
       "      <td>0.05</td>\n",
       "      <td>0.15</td>\n",
       "      <td>0.260194</td>\n",
       "      <td>0.002593</td>\n",
       "      <td>50</td>\n",
       "      <td>1700</td>\n",
       "      <td>1900</td>\n",
       "      <td>7</td>\n",
       "      <td>11.646373</td>\n",
       "      <td>0.60</td>\n",
       "      <td>COMPLETE</td>\n",
       "    </tr>\n",
       "    <tr>\n",
       "      <th>64</th>\n",
       "      <td>64</td>\n",
       "      <td>0.134170</td>\n",
       "      <td>2022-02-20 18:30:45.272567</td>\n",
       "      <td>2022-02-20 19:11:14.131641</td>\n",
       "      <td>0 days 00:40:28.859074</td>\n",
       "      <td>1.00</td>\n",
       "      <td>0.06</td>\n",
       "      <td>0.20</td>\n",
       "      <td>0.145954</td>\n",
       "      <td>0.002484</td>\n",
       "      <td>50</td>\n",
       "      <td>1800</td>\n",
       "      <td>1900</td>\n",
       "      <td>7</td>\n",
       "      <td>1.793300</td>\n",
       "      <td>0.65</td>\n",
       "      <td>COMPLETE</td>\n",
       "    </tr>\n",
       "    <tr>\n",
       "      <th>32</th>\n",
       "      <td>32</td>\n",
       "      <td>0.134107</td>\n",
       "      <td>2022-02-20 00:18:22.914390</td>\n",
       "      <td>2022-02-20 00:44:00.800351</td>\n",
       "      <td>0 days 00:25:37.885961</td>\n",
       "      <td>1.00</td>\n",
       "      <td>0.06</td>\n",
       "      <td>0.15</td>\n",
       "      <td>1.011902</td>\n",
       "      <td>0.004219</td>\n",
       "      <td>50</td>\n",
       "      <td>1900</td>\n",
       "      <td>1400</td>\n",
       "      <td>7</td>\n",
       "      <td>0.120385</td>\n",
       "      <td>0.65</td>\n",
       "      <td>COMPLETE</td>\n",
       "    </tr>\n",
       "    <tr>\n",
       "      <th>29</th>\n",
       "      <td>29</td>\n",
       "      <td>0.134009</td>\n",
       "      <td>2022-02-19 23:01:04.156856</td>\n",
       "      <td>2022-02-19 23:34:40.596090</td>\n",
       "      <td>0 days 00:33:36.439234</td>\n",
       "      <td>1.00</td>\n",
       "      <td>0.07</td>\n",
       "      <td>0.15</td>\n",
       "      <td>0.928577</td>\n",
       "      <td>0.003629</td>\n",
       "      <td>50</td>\n",
       "      <td>1900</td>\n",
       "      <td>1500</td>\n",
       "      <td>7</td>\n",
       "      <td>0.320933</td>\n",
       "      <td>0.55</td>\n",
       "      <td>COMPLETE</td>\n",
       "    </tr>\n",
       "    <tr>\n",
       "      <th>45</th>\n",
       "      <td>45</td>\n",
       "      <td>0.133960</td>\n",
       "      <td>2022-02-20 05:59:49.156228</td>\n",
       "      <td>2022-02-20 06:41:03.795466</td>\n",
       "      <td>0 days 00:41:14.639238</td>\n",
       "      <td>0.95</td>\n",
       "      <td>0.05</td>\n",
       "      <td>0.15</td>\n",
       "      <td>0.278126</td>\n",
       "      <td>0.003916</td>\n",
       "      <td>50</td>\n",
       "      <td>1800</td>\n",
       "      <td>1900</td>\n",
       "      <td>7</td>\n",
       "      <td>9.276016</td>\n",
       "      <td>0.60</td>\n",
       "      <td>COMPLETE</td>\n",
       "    </tr>\n",
       "    <tr>\n",
       "      <th>83</th>\n",
       "      <td>83</td>\n",
       "      <td>0.133891</td>\n",
       "      <td>2022-02-21 06:03:41.295922</td>\n",
       "      <td>2022-02-21 06:36:04.616338</td>\n",
       "      <td>0 days 00:32:23.320416</td>\n",
       "      <td>1.00</td>\n",
       "      <td>0.05</td>\n",
       "      <td>0.15</td>\n",
       "      <td>1.674009</td>\n",
       "      <td>0.003706</td>\n",
       "      <td>50</td>\n",
       "      <td>1900</td>\n",
       "      <td>1500</td>\n",
       "      <td>7</td>\n",
       "      <td>4.690029</td>\n",
       "      <td>0.50</td>\n",
       "      <td>COMPLETE</td>\n",
       "    </tr>\n",
       "    <tr>\n",
       "      <th>62</th>\n",
       "      <td>62</td>\n",
       "      <td>0.133881</td>\n",
       "      <td>2022-02-20 17:26:23.394598</td>\n",
       "      <td>2022-02-20 17:58:58.752141</td>\n",
       "      <td>0 days 00:32:35.357543</td>\n",
       "      <td>1.00</td>\n",
       "      <td>0.06</td>\n",
       "      <td>0.15</td>\n",
       "      <td>0.605252</td>\n",
       "      <td>0.003599</td>\n",
       "      <td>50</td>\n",
       "      <td>1900</td>\n",
       "      <td>1700</td>\n",
       "      <td>7</td>\n",
       "      <td>3.225286</td>\n",
       "      <td>0.65</td>\n",
       "      <td>COMPLETE</td>\n",
       "    </tr>\n",
       "    <tr>\n",
       "      <th>89</th>\n",
       "      <td>89</td>\n",
       "      <td>0.133826</td>\n",
       "      <td>2022-02-21 09:16:17.340530</td>\n",
       "      <td>2022-02-21 10:00:43.968986</td>\n",
       "      <td>0 days 00:44:26.628456</td>\n",
       "      <td>1.00</td>\n",
       "      <td>0.06</td>\n",
       "      <td>0.15</td>\n",
       "      <td>0.337626</td>\n",
       "      <td>0.003214</td>\n",
       "      <td>50</td>\n",
       "      <td>2000</td>\n",
       "      <td>1900</td>\n",
       "      <td>7</td>\n",
       "      <td>9.780459</td>\n",
       "      <td>0.55</td>\n",
       "      <td>COMPLETE</td>\n",
       "    </tr>\n",
       "    <tr>\n",
       "      <th>82</th>\n",
       "      <td>82</td>\n",
       "      <td>0.133801</td>\n",
       "      <td>2022-02-21 05:33:04.062841</td>\n",
       "      <td>2022-02-21 06:03:41.163500</td>\n",
       "      <td>0 days 00:30:37.100659</td>\n",
       "      <td>1.00</td>\n",
       "      <td>0.07</td>\n",
       "      <td>0.15</td>\n",
       "      <td>0.936299</td>\n",
       "      <td>0.004184</td>\n",
       "      <td>50</td>\n",
       "      <td>1900</td>\n",
       "      <td>1400</td>\n",
       "      <td>7</td>\n",
       "      <td>0.025733</td>\n",
       "      <td>0.55</td>\n",
       "      <td>COMPLETE</td>\n",
       "    </tr>\n",
       "    <tr>\n",
       "      <th>72</th>\n",
       "      <td>72</td>\n",
       "      <td>0.133754</td>\n",
       "      <td>2022-02-21 00:07:07.412624</td>\n",
       "      <td>2022-02-21 00:37:37.647491</td>\n",
       "      <td>0 days 00:30:30.234867</td>\n",
       "      <td>1.00</td>\n",
       "      <td>0.06</td>\n",
       "      <td>0.15</td>\n",
       "      <td>0.494618</td>\n",
       "      <td>0.004466</td>\n",
       "      <td>50</td>\n",
       "      <td>1900</td>\n",
       "      <td>1600</td>\n",
       "      <td>7</td>\n",
       "      <td>1.384634</td>\n",
       "      <td>0.65</td>\n",
       "      <td>COMPLETE</td>\n",
       "    </tr>\n",
       "    <tr>\n",
       "      <th>33</th>\n",
       "      <td>33</td>\n",
       "      <td>0.133744</td>\n",
       "      <td>2022-02-20 00:44:00.933619</td>\n",
       "      <td>2022-02-20 01:03:17.060047</td>\n",
       "      <td>0 days 00:19:16.126428</td>\n",
       "      <td>1.00</td>\n",
       "      <td>0.05</td>\n",
       "      <td>0.15</td>\n",
       "      <td>3.218559</td>\n",
       "      <td>0.004758</td>\n",
       "      <td>50</td>\n",
       "      <td>1800</td>\n",
       "      <td>1200</td>\n",
       "      <td>7</td>\n",
       "      <td>6.848391</td>\n",
       "      <td>0.65</td>\n",
       "      <td>COMPLETE</td>\n",
       "    </tr>\n",
       "    <tr>\n",
       "      <th>96</th>\n",
       "      <td>96</td>\n",
       "      <td>0.133662</td>\n",
       "      <td>2022-02-21 13:45:02.036065</td>\n",
       "      <td>2022-02-21 14:46:15.701702</td>\n",
       "      <td>0 days 01:01:13.665637</td>\n",
       "      <td>0.90</td>\n",
       "      <td>0.05</td>\n",
       "      <td>0.45</td>\n",
       "      <td>0.270376</td>\n",
       "      <td>0.001585</td>\n",
       "      <td>50</td>\n",
       "      <td>1800</td>\n",
       "      <td>2000</td>\n",
       "      <td>7</td>\n",
       "      <td>13.876464</td>\n",
       "      <td>0.60</td>\n",
       "      <td>COMPLETE</td>\n",
       "    </tr>\n",
       "  </tbody>\n",
       "</table>\n",
       "</div>"
      ],
      "text/plain": [
       "    number     value             datetime_start          datetime_complete  \\\n",
       "28      28  0.135382 2022-02-19 22:17:19.294423 2022-02-19 23:01:04.030620   \n",
       "53      53  0.135065 2022-02-20 10:50:09.290641 2022-02-20 11:31:17.322461   \n",
       "52      52  0.134977 2022-02-20 10:08:52.183075 2022-02-20 10:50:09.161023   \n",
       "92      92  0.134524 2022-02-21 10:56:19.939989 2022-02-21 11:37:23.981390   \n",
       "93      93  0.134514 2022-02-21 11:37:24.112941 2022-02-21 12:22:26.824266   \n",
       "54      54  0.134447 2022-02-20 11:31:17.451230 2022-02-20 12:16:47.721393   \n",
       "30      30  0.134267 2022-02-19 23:34:40.722909 2022-02-20 00:00:23.989998   \n",
       "17      17  0.134265 2022-02-19 14:29:27.160245 2022-02-19 15:19:56.542444   \n",
       "94      94  0.134228 2022-02-21 12:22:26.960601 2022-02-21 13:03:35.354038   \n",
       "64      64  0.134170 2022-02-20 18:30:45.272567 2022-02-20 19:11:14.131641   \n",
       "32      32  0.134107 2022-02-20 00:18:22.914390 2022-02-20 00:44:00.800351   \n",
       "29      29  0.134009 2022-02-19 23:01:04.156856 2022-02-19 23:34:40.596090   \n",
       "45      45  0.133960 2022-02-20 05:59:49.156228 2022-02-20 06:41:03.795466   \n",
       "83      83  0.133891 2022-02-21 06:03:41.295922 2022-02-21 06:36:04.616338   \n",
       "62      62  0.133881 2022-02-20 17:26:23.394598 2022-02-20 17:58:58.752141   \n",
       "89      89  0.133826 2022-02-21 09:16:17.340530 2022-02-21 10:00:43.968986   \n",
       "82      82  0.133801 2022-02-21 05:33:04.062841 2022-02-21 06:03:41.163500   \n",
       "72      72  0.133754 2022-02-21 00:07:07.412624 2022-02-21 00:37:37.647491   \n",
       "33      33  0.133744 2022-02-20 00:44:00.933619 2022-02-20 01:03:17.060047   \n",
       "96      96  0.133662 2022-02-21 13:45:02.036065 2022-02-21 14:46:15.701702   \n",
       "\n",
       "                 duration  params_bagging_fraction  params_drop_rate  \\\n",
       "28 0 days 00:43:44.736197                     1.00              0.06   \n",
       "53 0 days 00:41:08.031820                     1.00              0.05   \n",
       "52 0 days 00:41:16.977948                     0.95              0.05   \n",
       "92 0 days 00:41:04.041401                     0.95              0.05   \n",
       "93 0 days 00:45:02.711325                     0.95              0.05   \n",
       "54 0 days 00:45:30.270163                     0.90              0.05   \n",
       "30 0 days 00:25:43.267089                     1.00              0.06   \n",
       "17 0 days 00:50:29.382199                     0.95              0.06   \n",
       "94 0 days 00:41:08.393437                     0.90              0.05   \n",
       "64 0 days 00:40:28.859074                     1.00              0.06   \n",
       "32 0 days 00:25:37.885961                     1.00              0.06   \n",
       "29 0 days 00:33:36.439234                     1.00              0.07   \n",
       "45 0 days 00:41:14.639238                     0.95              0.05   \n",
       "83 0 days 00:32:23.320416                     1.00              0.05   \n",
       "62 0 days 00:32:35.357543                     1.00              0.06   \n",
       "89 0 days 00:44:26.628456                     1.00              0.06   \n",
       "82 0 days 00:30:37.100659                     1.00              0.07   \n",
       "72 0 days 00:30:30.234867                     1.00              0.06   \n",
       "33 0 days 00:19:16.126428                     1.00              0.05   \n",
       "96 0 days 01:01:13.665637                     0.90              0.05   \n",
       "\n",
       "    params_feature_fraction  params_lambda_l1  params_lambda_l2  \\\n",
       "28                     0.15          0.951446          0.004194   \n",
       "53                     0.15          0.288142          0.003235   \n",
       "52                     0.15          0.276116          0.002986   \n",
       "92                     0.15          0.267972          0.003620   \n",
       "93                     0.15          0.277340          0.002570   \n",
       "54                     0.20          0.271060          0.001398   \n",
       "30                     0.15          0.866391          0.004008   \n",
       "17                     0.35          1.361534          0.003632   \n",
       "94                     0.15          0.260194          0.002593   \n",
       "64                     0.20          0.145954          0.002484   \n",
       "32                     0.15          1.011902          0.004219   \n",
       "29                     0.15          0.928577          0.003629   \n",
       "45                     0.15          0.278126          0.003916   \n",
       "83                     0.15          1.674009          0.003706   \n",
       "62                     0.15          0.605252          0.003599   \n",
       "89                     0.15          0.337626          0.003214   \n",
       "82                     0.15          0.936299          0.004184   \n",
       "72                     0.15          0.494618          0.004466   \n",
       "33                     0.15          3.218559          0.004758   \n",
       "96                     0.45          0.270376          0.001585   \n",
       "\n",
       "    params_max_drop  params_min_data_in_leaf  params_num_iterations  \\\n",
       "28               50                     1800                   1900   \n",
       "53               50                     2000                   1900   \n",
       "52               50                     1800                   1900   \n",
       "92               50                     1800                   1900   \n",
       "93               50                     1800                   2000   \n",
       "54               50                     2000                   1900   \n",
       "30               50                     1900                   1400   \n",
       "17               40                     2000                   1800   \n",
       "94               50                     1700                   1900   \n",
       "64               50                     1800                   1900   \n",
       "32               50                     1900                   1400   \n",
       "29               50                     1900                   1500   \n",
       "45               50                     1800                   1900   \n",
       "83               50                     1900                   1500   \n",
       "62               50                     1900                   1700   \n",
       "89               50                     2000                   1900   \n",
       "82               50                     1900                   1400   \n",
       "72               50                     1900                   1600   \n",
       "33               50                     1800                   1200   \n",
       "96               50                     1800                   2000   \n",
       "\n",
       "    params_num_leaves_exp  params_path_smooth  params_skip_drop     state  \n",
       "28                      7            0.301016              0.55  COMPLETE  \n",
       "53                      7            1.682102              0.60  COMPLETE  \n",
       "52                      7            9.470406              0.60  COMPLETE  \n",
       "92                      7            9.449103              0.60  COMPLETE  \n",
       "93                      7           12.160072              0.60  COMPLETE  \n",
       "54                      7           10.303978              0.60  COMPLETE  \n",
       "30                      7            4.605264              0.65  COMPLETE  \n",
       "17                      7           22.136206              0.50  COMPLETE  \n",
       "94                      7           11.646373              0.60  COMPLETE  \n",
       "64                      7            1.793300              0.65  COMPLETE  \n",
       "32                      7            0.120385              0.65  COMPLETE  \n",
       "29                      7            0.320933              0.55  COMPLETE  \n",
       "45                      7            9.276016              0.60  COMPLETE  \n",
       "83                      7            4.690029              0.50  COMPLETE  \n",
       "62                      7            3.225286              0.65  COMPLETE  \n",
       "89                      7            9.780459              0.55  COMPLETE  \n",
       "82                      7            0.025733              0.55  COMPLETE  \n",
       "72                      7            1.384634              0.65  COMPLETE  \n",
       "33                      7            6.848391              0.65  COMPLETE  \n",
       "96                      7           13.876464              0.60  COMPLETE  "
      ]
     },
     "execution_count": 12,
     "metadata": {},
     "output_type": "execute_result"
    }
   ],
   "source": [
    "study.trials_dataframe().sort_values(\"value\", ascending=False).head(20)"
   ]
  },
  {
   "cell_type": "code",
   "execution_count": 13,
   "id": "de4d361a-1d7d-46da-8f20-fcd379f8b476",
   "metadata": {},
   "outputs": [
    {
     "data": {
      "application/vnd.plotly.v1+json": {
       "config": {
        "plotlyServerURL": "https://plot.ly"
       },
       "data": [
        {
         "mode": "markers",
         "name": "Objective Value",
         "type": "scatter",
         "x": [
          1,
          2,
          3,
          4,
          5,
          6,
          7,
          8,
          9,
          10,
          11,
          12,
          13,
          14,
          15,
          16,
          17,
          18,
          19,
          20,
          21,
          22,
          23,
          24,
          25,
          26,
          27,
          28,
          29,
          30,
          31,
          32,
          33,
          34,
          35,
          36,
          37,
          38,
          39,
          40,
          41,
          42,
          43,
          44,
          45,
          46,
          47,
          48,
          49,
          50,
          51,
          52,
          53,
          54,
          55,
          56,
          57,
          58,
          59,
          60,
          61,
          62,
          63,
          64,
          65,
          66,
          67,
          68,
          69,
          70,
          71,
          72,
          73,
          74,
          75,
          76,
          77,
          78,
          79,
          80,
          81,
          82,
          83,
          84,
          85,
          86,
          87,
          88,
          89,
          90,
          91,
          92,
          93,
          94,
          95,
          96,
          97,
          98
         ],
         "y": [
          0.13256824012995438,
          0.13073575245267377,
          0.12552738416301393,
          0.12352042787716813,
          0.12264846734302746,
          0.13231125752822903,
          0.13091671771308194,
          0.13302804236795096,
          0.13093238402278642,
          0.1327233252821409,
          0.12782540482452984,
          0.13038488467777215,
          0.12945693670244754,
          0.13280197966163368,
          0.12886876229485938,
          0.12914363533648285,
          0.13426543312172848,
          0.13264635806859557,
          0.1315294303073725,
          0.13209808334108739,
          0.130525021597916,
          0.1326189053125227,
          0.13128442699799966,
          0.13107810520375962,
          0.13178874612315772,
          0.13343780449235557,
          0.13059845871492998,
          0.13538157631485997,
          0.13400855121640373,
          0.13426711247771245,
          0.1332151637531804,
          0.1341072133108866,
          0.13374373609160947,
          0.13179947711661574,
          0.13082860974276417,
          0.13253441977617536,
          0.12587166130943497,
          0.132937895573093,
          0.13290621153699467,
          0.13189012532384545,
          0.13295716275999986,
          0.13351205137826808,
          0.13205540534691404,
          0.13204572497479516,
          0.13395980214919503,
          0.13078770955910696,
          0.13019262785526634,
          0.13343160540747742,
          0.13022177382718594,
          0.13206767931843527,
          0.1305851678305324,
          0.13497727309870527,
          0.13506518166481998,
          0.1344474047387336,
          0.1333558180901191,
          0.13134647028468482,
          0.13291650654573525,
          0.13322799136584262,
          0.1328334970961906,
          0.13224962664993972,
          0.13195676665176373,
          0.1338807877993814,
          0.13311139861211735,
          0.13417014946217568,
          0.13214909551965953,
          0.13248910808488537,
          0.1324470546069716,
          0.1328541812074399,
          0.1336480519284877,
          0.13178959540756507,
          0.1328740436154364,
          0.13375447905315505,
          0.13303087603559338,
          0.12875772979081593,
          0.13237994995443936,
          0.13009832785409442,
          0.13217709602431948,
          0.13312649362127243,
          0.1334361345238109,
          0.12646847376722556,
          0.1327918591512628,
          0.13380056495185236,
          0.13389130457233359,
          0.13260689461053984,
          0.1308238857076492,
          0.1323543824661541,
          0.13113395223301014,
          0.13133351408633978,
          0.1338258360429198,
          0.13364538343330956,
          0.12802817430808566,
          0.13452363963538064,
          0.13451350872533943,
          0.13422784593545592,
          0.13330829637585173,
          0.1336615912867017,
          0.13273404833030847,
          0.1335662914232053
         ]
        },
        {
         "name": "Best Value",
         "type": "scatter",
         "x": [
          1,
          2,
          3,
          4,
          5,
          6,
          7,
          8,
          9,
          10,
          11,
          12,
          13,
          14,
          15,
          16,
          17,
          18,
          19,
          20,
          21,
          22,
          23,
          24,
          25,
          26,
          27,
          28,
          29,
          30,
          31,
          32,
          33,
          34,
          35,
          36,
          37,
          38,
          39,
          40,
          41,
          42,
          43,
          44,
          45,
          46,
          47,
          48,
          49,
          50,
          51,
          52,
          53,
          54,
          55,
          56,
          57,
          58,
          59,
          60,
          61,
          62,
          63,
          64,
          65,
          66,
          67,
          68,
          69,
          70,
          71,
          72,
          73,
          74,
          75,
          76,
          77,
          78,
          79,
          80,
          81,
          82,
          83,
          84,
          85,
          86,
          87,
          88,
          89,
          90,
          91,
          92,
          93,
          94,
          95,
          96,
          97,
          98
         ],
         "y": [
          0.13256824012995438,
          0.13256824012995438,
          0.13256824012995438,
          0.13256824012995438,
          0.13256824012995438,
          0.13256824012995438,
          0.13256824012995438,
          0.13302804236795096,
          0.13302804236795096,
          0.13302804236795096,
          0.13302804236795096,
          0.13302804236795096,
          0.13302804236795096,
          0.13302804236795096,
          0.13302804236795096,
          0.13302804236795096,
          0.13426543312172848,
          0.13426543312172848,
          0.13426543312172848,
          0.13426543312172848,
          0.13426543312172848,
          0.13426543312172848,
          0.13426543312172848,
          0.13426543312172848,
          0.13426543312172848,
          0.13426543312172848,
          0.13426543312172848,
          0.13538157631485997,
          0.13538157631485997,
          0.13538157631485997,
          0.13538157631485997,
          0.13538157631485997,
          0.13538157631485997,
          0.13538157631485997,
          0.13538157631485997,
          0.13538157631485997,
          0.13538157631485997,
          0.13538157631485997,
          0.13538157631485997,
          0.13538157631485997,
          0.13538157631485997,
          0.13538157631485997,
          0.13538157631485997,
          0.13538157631485997,
          0.13538157631485997,
          0.13538157631485997,
          0.13538157631485997,
          0.13538157631485997,
          0.13538157631485997,
          0.13538157631485997,
          0.13538157631485997,
          0.13538157631485997,
          0.13538157631485997,
          0.13538157631485997,
          0.13538157631485997,
          0.13538157631485997,
          0.13538157631485997,
          0.13538157631485997,
          0.13538157631485997,
          0.13538157631485997,
          0.13538157631485997,
          0.13538157631485997,
          0.13538157631485997,
          0.13538157631485997,
          0.13538157631485997,
          0.13538157631485997,
          0.13538157631485997,
          0.13538157631485997,
          0.13538157631485997,
          0.13538157631485997,
          0.13538157631485997,
          0.13538157631485997,
          0.13538157631485997,
          0.13538157631485997,
          0.13538157631485997,
          0.13538157631485997,
          0.13538157631485997,
          0.13538157631485997,
          0.13538157631485997,
          0.13538157631485997,
          0.13538157631485997,
          0.13538157631485997,
          0.13538157631485997,
          0.13538157631485997,
          0.13538157631485997,
          0.13538157631485997,
          0.13538157631485997,
          0.13538157631485997,
          0.13538157631485997,
          0.13538157631485997,
          0.13538157631485997,
          0.13538157631485997,
          0.13538157631485997,
          0.13538157631485997,
          0.13538157631485997,
          0.13538157631485997,
          0.13538157631485997,
          0.13538157631485997
         ]
        }
       ],
       "layout": {
        "autosize": true,
        "template": {
         "data": {
          "bar": [
           {
            "error_x": {
             "color": "#2a3f5f"
            },
            "error_y": {
             "color": "#2a3f5f"
            },
            "marker": {
             "line": {
              "color": "#E5ECF6",
              "width": 0.5
             },
             "pattern": {
              "fillmode": "overlay",
              "size": 10,
              "solidity": 0.2
             }
            },
            "type": "bar"
           }
          ],
          "barpolar": [
           {
            "marker": {
             "line": {
              "color": "#E5ECF6",
              "width": 0.5
             },
             "pattern": {
              "fillmode": "overlay",
              "size": 10,
              "solidity": 0.2
             }
            },
            "type": "barpolar"
           }
          ],
          "carpet": [
           {
            "aaxis": {
             "endlinecolor": "#2a3f5f",
             "gridcolor": "white",
             "linecolor": "white",
             "minorgridcolor": "white",
             "startlinecolor": "#2a3f5f"
            },
            "baxis": {
             "endlinecolor": "#2a3f5f",
             "gridcolor": "white",
             "linecolor": "white",
             "minorgridcolor": "white",
             "startlinecolor": "#2a3f5f"
            },
            "type": "carpet"
           }
          ],
          "choropleth": [
           {
            "colorbar": {
             "outlinewidth": 0,
             "ticks": ""
            },
            "type": "choropleth"
           }
          ],
          "contour": [
           {
            "colorbar": {
             "outlinewidth": 0,
             "ticks": ""
            },
            "colorscale": [
             [
              0,
              "#0d0887"
             ],
             [
              0.1111111111111111,
              "#46039f"
             ],
             [
              0.2222222222222222,
              "#7201a8"
             ],
             [
              0.3333333333333333,
              "#9c179e"
             ],
             [
              0.4444444444444444,
              "#bd3786"
             ],
             [
              0.5555555555555556,
              "#d8576b"
             ],
             [
              0.6666666666666666,
              "#ed7953"
             ],
             [
              0.7777777777777778,
              "#fb9f3a"
             ],
             [
              0.8888888888888888,
              "#fdca26"
             ],
             [
              1,
              "#f0f921"
             ]
            ],
            "type": "contour"
           }
          ],
          "contourcarpet": [
           {
            "colorbar": {
             "outlinewidth": 0,
             "ticks": ""
            },
            "type": "contourcarpet"
           }
          ],
          "heatmap": [
           {
            "colorbar": {
             "outlinewidth": 0,
             "ticks": ""
            },
            "colorscale": [
             [
              0,
              "#0d0887"
             ],
             [
              0.1111111111111111,
              "#46039f"
             ],
             [
              0.2222222222222222,
              "#7201a8"
             ],
             [
              0.3333333333333333,
              "#9c179e"
             ],
             [
              0.4444444444444444,
              "#bd3786"
             ],
             [
              0.5555555555555556,
              "#d8576b"
             ],
             [
              0.6666666666666666,
              "#ed7953"
             ],
             [
              0.7777777777777778,
              "#fb9f3a"
             ],
             [
              0.8888888888888888,
              "#fdca26"
             ],
             [
              1,
              "#f0f921"
             ]
            ],
            "type": "heatmap"
           }
          ],
          "heatmapgl": [
           {
            "colorbar": {
             "outlinewidth": 0,
             "ticks": ""
            },
            "colorscale": [
             [
              0,
              "#0d0887"
             ],
             [
              0.1111111111111111,
              "#46039f"
             ],
             [
              0.2222222222222222,
              "#7201a8"
             ],
             [
              0.3333333333333333,
              "#9c179e"
             ],
             [
              0.4444444444444444,
              "#bd3786"
             ],
             [
              0.5555555555555556,
              "#d8576b"
             ],
             [
              0.6666666666666666,
              "#ed7953"
             ],
             [
              0.7777777777777778,
              "#fb9f3a"
             ],
             [
              0.8888888888888888,
              "#fdca26"
             ],
             [
              1,
              "#f0f921"
             ]
            ],
            "type": "heatmapgl"
           }
          ],
          "histogram": [
           {
            "marker": {
             "pattern": {
              "fillmode": "overlay",
              "size": 10,
              "solidity": 0.2
             }
            },
            "type": "histogram"
           }
          ],
          "histogram2d": [
           {
            "colorbar": {
             "outlinewidth": 0,
             "ticks": ""
            },
            "colorscale": [
             [
              0,
              "#0d0887"
             ],
             [
              0.1111111111111111,
              "#46039f"
             ],
             [
              0.2222222222222222,
              "#7201a8"
             ],
             [
              0.3333333333333333,
              "#9c179e"
             ],
             [
              0.4444444444444444,
              "#bd3786"
             ],
             [
              0.5555555555555556,
              "#d8576b"
             ],
             [
              0.6666666666666666,
              "#ed7953"
             ],
             [
              0.7777777777777778,
              "#fb9f3a"
             ],
             [
              0.8888888888888888,
              "#fdca26"
             ],
             [
              1,
              "#f0f921"
             ]
            ],
            "type": "histogram2d"
           }
          ],
          "histogram2dcontour": [
           {
            "colorbar": {
             "outlinewidth": 0,
             "ticks": ""
            },
            "colorscale": [
             [
              0,
              "#0d0887"
             ],
             [
              0.1111111111111111,
              "#46039f"
             ],
             [
              0.2222222222222222,
              "#7201a8"
             ],
             [
              0.3333333333333333,
              "#9c179e"
             ],
             [
              0.4444444444444444,
              "#bd3786"
             ],
             [
              0.5555555555555556,
              "#d8576b"
             ],
             [
              0.6666666666666666,
              "#ed7953"
             ],
             [
              0.7777777777777778,
              "#fb9f3a"
             ],
             [
              0.8888888888888888,
              "#fdca26"
             ],
             [
              1,
              "#f0f921"
             ]
            ],
            "type": "histogram2dcontour"
           }
          ],
          "mesh3d": [
           {
            "colorbar": {
             "outlinewidth": 0,
             "ticks": ""
            },
            "type": "mesh3d"
           }
          ],
          "parcoords": [
           {
            "line": {
             "colorbar": {
              "outlinewidth": 0,
              "ticks": ""
             }
            },
            "type": "parcoords"
           }
          ],
          "pie": [
           {
            "automargin": true,
            "type": "pie"
           }
          ],
          "scatter": [
           {
            "marker": {
             "colorbar": {
              "outlinewidth": 0,
              "ticks": ""
             }
            },
            "type": "scatter"
           }
          ],
          "scatter3d": [
           {
            "line": {
             "colorbar": {
              "outlinewidth": 0,
              "ticks": ""
             }
            },
            "marker": {
             "colorbar": {
              "outlinewidth": 0,
              "ticks": ""
             }
            },
            "type": "scatter3d"
           }
          ],
          "scattercarpet": [
           {
            "marker": {
             "colorbar": {
              "outlinewidth": 0,
              "ticks": ""
             }
            },
            "type": "scattercarpet"
           }
          ],
          "scattergeo": [
           {
            "marker": {
             "colorbar": {
              "outlinewidth": 0,
              "ticks": ""
             }
            },
            "type": "scattergeo"
           }
          ],
          "scattergl": [
           {
            "marker": {
             "colorbar": {
              "outlinewidth": 0,
              "ticks": ""
             }
            },
            "type": "scattergl"
           }
          ],
          "scattermapbox": [
           {
            "marker": {
             "colorbar": {
              "outlinewidth": 0,
              "ticks": ""
             }
            },
            "type": "scattermapbox"
           }
          ],
          "scatterpolar": [
           {
            "marker": {
             "colorbar": {
              "outlinewidth": 0,
              "ticks": ""
             }
            },
            "type": "scatterpolar"
           }
          ],
          "scatterpolargl": [
           {
            "marker": {
             "colorbar": {
              "outlinewidth": 0,
              "ticks": ""
             }
            },
            "type": "scatterpolargl"
           }
          ],
          "scatterternary": [
           {
            "marker": {
             "colorbar": {
              "outlinewidth": 0,
              "ticks": ""
             }
            },
            "type": "scatterternary"
           }
          ],
          "surface": [
           {
            "colorbar": {
             "outlinewidth": 0,
             "ticks": ""
            },
            "colorscale": [
             [
              0,
              "#0d0887"
             ],
             [
              0.1111111111111111,
              "#46039f"
             ],
             [
              0.2222222222222222,
              "#7201a8"
             ],
             [
              0.3333333333333333,
              "#9c179e"
             ],
             [
              0.4444444444444444,
              "#bd3786"
             ],
             [
              0.5555555555555556,
              "#d8576b"
             ],
             [
              0.6666666666666666,
              "#ed7953"
             ],
             [
              0.7777777777777778,
              "#fb9f3a"
             ],
             [
              0.8888888888888888,
              "#fdca26"
             ],
             [
              1,
              "#f0f921"
             ]
            ],
            "type": "surface"
           }
          ],
          "table": [
           {
            "cells": {
             "fill": {
              "color": "#EBF0F8"
             },
             "line": {
              "color": "white"
             }
            },
            "header": {
             "fill": {
              "color": "#C8D4E3"
             },
             "line": {
              "color": "white"
             }
            },
            "type": "table"
           }
          ]
         },
         "layout": {
          "annotationdefaults": {
           "arrowcolor": "#2a3f5f",
           "arrowhead": 0,
           "arrowwidth": 1
          },
          "autotypenumbers": "strict",
          "coloraxis": {
           "colorbar": {
            "outlinewidth": 0,
            "ticks": ""
           }
          },
          "colorscale": {
           "diverging": [
            [
             0,
             "#8e0152"
            ],
            [
             0.1,
             "#c51b7d"
            ],
            [
             0.2,
             "#de77ae"
            ],
            [
             0.3,
             "#f1b6da"
            ],
            [
             0.4,
             "#fde0ef"
            ],
            [
             0.5,
             "#f7f7f7"
            ],
            [
             0.6,
             "#e6f5d0"
            ],
            [
             0.7,
             "#b8e186"
            ],
            [
             0.8,
             "#7fbc41"
            ],
            [
             0.9,
             "#4d9221"
            ],
            [
             1,
             "#276419"
            ]
           ],
           "sequential": [
            [
             0,
             "#0d0887"
            ],
            [
             0.1111111111111111,
             "#46039f"
            ],
            [
             0.2222222222222222,
             "#7201a8"
            ],
            [
             0.3333333333333333,
             "#9c179e"
            ],
            [
             0.4444444444444444,
             "#bd3786"
            ],
            [
             0.5555555555555556,
             "#d8576b"
            ],
            [
             0.6666666666666666,
             "#ed7953"
            ],
            [
             0.7777777777777778,
             "#fb9f3a"
            ],
            [
             0.8888888888888888,
             "#fdca26"
            ],
            [
             1,
             "#f0f921"
            ]
           ],
           "sequentialminus": [
            [
             0,
             "#0d0887"
            ],
            [
             0.1111111111111111,
             "#46039f"
            ],
            [
             0.2222222222222222,
             "#7201a8"
            ],
            [
             0.3333333333333333,
             "#9c179e"
            ],
            [
             0.4444444444444444,
             "#bd3786"
            ],
            [
             0.5555555555555556,
             "#d8576b"
            ],
            [
             0.6666666666666666,
             "#ed7953"
            ],
            [
             0.7777777777777778,
             "#fb9f3a"
            ],
            [
             0.8888888888888888,
             "#fdca26"
            ],
            [
             1,
             "#f0f921"
            ]
           ]
          },
          "colorway": [
           "#636efa",
           "#EF553B",
           "#00cc96",
           "#ab63fa",
           "#FFA15A",
           "#19d3f3",
           "#FF6692",
           "#B6E880",
           "#FF97FF",
           "#FECB52"
          ],
          "font": {
           "color": "#2a3f5f"
          },
          "geo": {
           "bgcolor": "white",
           "lakecolor": "white",
           "landcolor": "#E5ECF6",
           "showlakes": true,
           "showland": true,
           "subunitcolor": "white"
          },
          "hoverlabel": {
           "align": "left"
          },
          "hovermode": "closest",
          "mapbox": {
           "style": "light"
          },
          "paper_bgcolor": "white",
          "plot_bgcolor": "#E5ECF6",
          "polar": {
           "angularaxis": {
            "gridcolor": "white",
            "linecolor": "white",
            "ticks": ""
           },
           "bgcolor": "#E5ECF6",
           "radialaxis": {
            "gridcolor": "white",
            "linecolor": "white",
            "ticks": ""
           }
          },
          "scene": {
           "xaxis": {
            "backgroundcolor": "#E5ECF6",
            "gridcolor": "white",
            "gridwidth": 2,
            "linecolor": "white",
            "showbackground": true,
            "ticks": "",
            "zerolinecolor": "white"
           },
           "yaxis": {
            "backgroundcolor": "#E5ECF6",
            "gridcolor": "white",
            "gridwidth": 2,
            "linecolor": "white",
            "showbackground": true,
            "ticks": "",
            "zerolinecolor": "white"
           },
           "zaxis": {
            "backgroundcolor": "#E5ECF6",
            "gridcolor": "white",
            "gridwidth": 2,
            "linecolor": "white",
            "showbackground": true,
            "ticks": "",
            "zerolinecolor": "white"
           }
          },
          "shapedefaults": {
           "line": {
            "color": "#2a3f5f"
           }
          },
          "ternary": {
           "aaxis": {
            "gridcolor": "white",
            "linecolor": "white",
            "ticks": ""
           },
           "baxis": {
            "gridcolor": "white",
            "linecolor": "white",
            "ticks": ""
           },
           "bgcolor": "#E5ECF6",
           "caxis": {
            "gridcolor": "white",
            "linecolor": "white",
            "ticks": ""
           }
          },
          "title": {
           "x": 0.05
          },
          "xaxis": {
           "automargin": true,
           "gridcolor": "white",
           "linecolor": "white",
           "ticks": "",
           "title": {
            "standoff": 15
           },
           "zerolinecolor": "white",
           "zerolinewidth": 2
          },
          "yaxis": {
           "automargin": true,
           "gridcolor": "white",
           "linecolor": "white",
           "ticks": "",
           "title": {
            "standoff": 15
           },
           "zerolinecolor": "white",
           "zerolinewidth": 2
          }
         }
        },
        "title": {
         "text": "Optimization History Plot"
        },
        "xaxis": {
         "autorange": true,
         "range": [
          -4.9903273809523805,
          103.99032738095238
         ],
         "title": {
          "text": "#Trials"
         },
         "type": "linear"
        },
        "yaxis": {
         "autorange": true,
         "range": [
          0.12159767679680827,
          0.13643236686107915
         ],
         "title": {
          "text": "Objective Value"
         },
         "type": "linear"
        }
       }
      },
      "image/png": "[encoded data removed]"
     },
     "metadata": {},
     "output_type": "display_data"
    }
   ],
   "source": [
    "plot_optimization_history(study)"
   ]
  },
  {
   "cell_type": "code",
   "execution_count": 14,
   "id": "1dd878ce-7455-441f-8bc0-f3aa5ce98744",
   "metadata": {},
   "outputs": [],
   "source": [
    "try:\n",
    "    plot_param_importances(study)\n",
    "except:\n",
    "    pass"
   ]
  },
  {
   "cell_type": "code",
   "execution_count": 15,
   "id": "f29ff4a4-3e2c-4b82-9c15-f67617a76122",
   "metadata": {},
   "outputs": [
    {
     "data": {
      "application/vnd.plotly.v1+json": {
       "config": {
        "plotlyServerURL": "https://plot.ly"
       },
       "data": [
        {
         "marker": {
          "color": [
           1,
           2,
           3,
           4,
           5,
           6,
           7,
           8,
           9,
           10,
           11,
           12,
           13,
           14,
           15,
           16,
           17,
           18,
           19,
           20,
           21,
           22,
           23,
           24,
           25,
           26,
           27,
           28,
           29,
           30,
           31,
           32,
           33,
           34,
           35,
           36,
           37,
           38,
           39,
           40,
           41,
           42,
           43,
           44,
           45,
           46,
           47,
           48,
           49,
           50,
           51,
           52,
           53,
           54,
           55,
           56,
           57,
           58,
           59,
           60,
           61,
           62,
           63,
           64,
           65,
           66,
           67,
           68,
           69,
           70,
           71,
           72,
           73,
           74,
           75,
           76,
           77,
           78,
           79,
           80,
           81,
           82,
           83,
           84,
           85,
           86,
           87,
           88,
           89,
           90,
           91,
           92,
           93,
           94,
           95,
           96,
           97,
           98
          ],
          "colorbar": {
           "title": {
            "text": "#Trials"
           },
           "x": 1,
           "xpad": 40,
           "y": 0.5
          },
          "colorscale": [
           [
            0,
            "rgb(247,251,255)"
           ],
           [
            0.125,
            "rgb(222,235,247)"
           ],
           [
            0.25,
            "rgb(198,219,239)"
           ],
           [
            0.375,
            "rgb(158,202,225)"
           ],
           [
            0.5,
            "rgb(107,174,214)"
           ],
           [
            0.625,
            "rgb(66,146,198)"
           ],
           [
            0.75,
            "rgb(33,113,181)"
           ],
           [
            0.875,
            "rgb(8,81,156)"
           ],
           [
            1,
            "rgb(8,48,107)"
           ]
          ],
          "line": {
           "color": "Grey",
           "width": 0.5
          },
          "showscale": true
         },
         "mode": "markers",
         "showlegend": false,
         "type": "scatter",
         "x": [
          0.85,
          0.7,
          1,
          0.7999999999999999,
          0.8999999999999999,
          0.85,
          0.8999999999999999,
          0.8999999999999999,
          0.85,
          0.7,
          1,
          0.7,
          0.75,
          0.95,
          0.95,
          0.95,
          0.95,
          0.8999999999999999,
          0.7999999999999999,
          0.95,
          1,
          0.95,
          0.8999999999999999,
          0.95,
          0.8999999999999999,
          1,
          1,
          1,
          1,
          1,
          1,
          1,
          1,
          0.95,
          1,
          1,
          0.95,
          0.95,
          1,
          0.7999999999999999,
          1,
          1,
          1,
          1,
          0.95,
          1,
          0.85,
          0.95,
          0.75,
          0.8999999999999999,
          0.95,
          0.95,
          1,
          0.8999999999999999,
          0.8999999999999999,
          0.8999999999999999,
          0.85,
          0.95,
          0.95,
          0.8999999999999999,
          0.8999999999999999,
          1,
          0.95,
          1,
          1,
          0.95,
          0.95,
          1,
          1,
          1,
          0.95,
          1,
          1,
          1,
          1,
          0.95,
          1,
          0.95,
          1,
          1,
          0.8999999999999999,
          1,
          1,
          1,
          1,
          0.95,
          1,
          0.85,
          1,
          0.95,
          1,
          0.95,
          0.95,
          0.8999999999999999,
          0.8999999999999999,
          0.8999999999999999,
          0.85,
          0.95
         ],
         "xaxis": "x",
         "y": [
          0.13256824012995438,
          0.13073575245267377,
          0.12552738416301393,
          0.12352042787716813,
          0.12264846734302746,
          0.13231125752822903,
          0.13091671771308194,
          0.13302804236795096,
          0.13093238402278642,
          0.1327233252821409,
          0.12782540482452984,
          0.13038488467777215,
          0.12945693670244754,
          0.13280197966163368,
          0.12886876229485938,
          0.12914363533648285,
          0.13426543312172848,
          0.13264635806859557,
          0.1315294303073725,
          0.13209808334108739,
          0.130525021597916,
          0.1326189053125227,
          0.13128442699799966,
          0.13107810520375962,
          0.13178874612315772,
          0.13343780449235557,
          0.13059845871492998,
          0.13538157631485997,
          0.13400855121640373,
          0.13426711247771245,
          0.1332151637531804,
          0.1341072133108866,
          0.13374373609160947,
          0.13179947711661574,
          0.13082860974276417,
          0.13253441977617536,
          0.12587166130943497,
          0.132937895573093,
          0.13290621153699467,
          0.13189012532384545,
          0.13295716275999986,
          0.13351205137826808,
          0.13205540534691404,
          0.13204572497479516,
          0.13395980214919503,
          0.13078770955910696,
          0.13019262785526634,
          0.13343160540747742,
          0.13022177382718594,
          0.13206767931843527,
          0.1305851678305324,
          0.13497727309870527,
          0.13506518166481998,
          0.1344474047387336,
          0.1333558180901191,
          0.13134647028468482,
          0.13291650654573525,
          0.13322799136584262,
          0.1328334970961906,
          0.13224962664993972,
          0.13195676665176373,
          0.1338807877993814,
          0.13311139861211735,
          0.13417014946217568,
          0.13214909551965953,
          0.13248910808488537,
          0.1324470546069716,
          0.1328541812074399,
          0.1336480519284877,
          0.13178959540756507,
          0.1328740436154364,
          0.13375447905315505,
          0.13303087603559338,
          0.12875772979081593,
          0.13237994995443936,
          0.13009832785409442,
          0.13217709602431948,
          0.13312649362127243,
          0.1334361345238109,
          0.12646847376722556,
          0.1327918591512628,
          0.13380056495185236,
          0.13389130457233359,
          0.13260689461053984,
          0.1308238857076492,
          0.1323543824661541,
          0.13113395223301014,
          0.13133351408633978,
          0.1338258360429198,
          0.13364538343330956,
          0.12802817430808566,
          0.13452363963538064,
          0.13451350872533943,
          0.13422784593545592,
          0.13330829637585173,
          0.1336615912867017,
          0.13273404833030847,
          0.1335662914232053
         ],
         "yaxis": "y"
        },
        {
         "marker": {
          "color": [
           1,
           2,
           3,
           4,
           5,
           6,
           7,
           8,
           9,
           10,
           11,
           12,
           13,
           14,
           15,
           16,
           17,
           18,
           19,
           20,
           21,
           22,
           23,
           24,
           25,
           26,
           27,
           28,
           29,
           30,
           31,
           32,
           33,
           34,
           35,
           36,
           37,
           38,
           39,
           40,
           41,
           42,
           43,
           44,
           45,
           46,
           47,
           48,
           49,
           50,
           51,
           52,
           53,
           54,
           55,
           56,
           57,
           58,
           59,
           60,
           61,
           62,
           63,
           64,
           65,
           66,
           67,
           68,
           69,
           70,
           71,
           72,
           73,
           74,
           75,
           76,
           77,
           78,
           79,
           80,
           81,
           82,
           83,
           84,
           85,
           86,
           87,
           88,
           89,
           90,
           91,
           92,
           93,
           94,
           95,
           96,
           97,
           98
          ],
          "colorbar": {
           "title": {
            "text": "#Trials"
           },
           "x": 1,
           "xpad": 40
          },
          "colorscale": [
           [
            0,
            "rgb(247,251,255)"
           ],
           [
            0.125,
            "rgb(222,235,247)"
           ],
           [
            0.25,
            "rgb(198,219,239)"
           ],
           [
            0.375,
            "rgb(158,202,225)"
           ],
           [
            0.5,
            "rgb(107,174,214)"
           ],
           [
            0.625,
            "rgb(66,146,198)"
           ],
           [
            0.75,
            "rgb(33,113,181)"
           ],
           [
            0.875,
            "rgb(8,81,156)"
           ],
           [
            1,
            "rgb(8,48,107)"
           ]
          ],
          "line": {
           "color": "Grey",
           "width": 0.5
          },
          "showscale": false
         },
         "mode": "markers",
         "showlegend": false,
         "type": "scatter",
         "x": [
          0.05,
          0.19,
          0.14,
          0.16999999999999998,
          0.060000000000000005,
          0.11,
          0.11,
          0.05,
          0.16999999999999998,
          0.18,
          0.08,
          0.14,
          0.2,
          0.08,
          0.08,
          0.08,
          0.060000000000000005,
          0.05,
          0.1,
          0.07,
          0.1,
          0.060000000000000005,
          0.07,
          0.05,
          0.09,
          0.07,
          0.13,
          0.060000000000000005,
          0.07,
          0.060000000000000005,
          0.060000000000000005,
          0.060000000000000005,
          0.05,
          0.09,
          0.060000000000000005,
          0.15000000000000002,
          0.09,
          0.060000000000000005,
          0.12000000000000001,
          0.1,
          0.05,
          0.07,
          0.060000000000000005,
          0.07,
          0.05,
          0.07,
          0.08,
          0.060000000000000005,
          0.09,
          0.16,
          0.08,
          0.05,
          0.05,
          0.05,
          0.05,
          0.05,
          0.05,
          0.060000000000000005,
          0.05,
          0.060000000000000005,
          0.07,
          0.060000000000000005,
          0.05,
          0.060000000000000005,
          0.08,
          0.2,
          0.060000000000000005,
          0.07,
          0.05,
          0.19,
          0.07,
          0.060000000000000005,
          0.060000000000000005,
          0.05,
          0.07,
          0.060000000000000005,
          0.05,
          0.08,
          0.060000000000000005,
          0.12000000000000001,
          0.060000000000000005,
          0.07,
          0.05,
          0.05,
          0.07,
          0.060000000000000005,
          0.14,
          0.07,
          0.060000000000000005,
          0.05,
          0.060000000000000005,
          0.05,
          0.05,
          0.05,
          0.05,
          0.05,
          0.05,
          0.05
         ],
         "xaxis": "x2",
         "y": [
          0.13256824012995438,
          0.13073575245267377,
          0.12552738416301393,
          0.12352042787716813,
          0.12264846734302746,
          0.13231125752822903,
          0.13091671771308194,
          0.13302804236795096,
          0.13093238402278642,
          0.1327233252821409,
          0.12782540482452984,
          0.13038488467777215,
          0.12945693670244754,
          0.13280197966163368,
          0.12886876229485938,
          0.12914363533648285,
          0.13426543312172848,
          0.13264635806859557,
          0.1315294303073725,
          0.13209808334108739,
          0.130525021597916,
          0.1326189053125227,
          0.13128442699799966,
          0.13107810520375962,
          0.13178874612315772,
          0.13343780449235557,
          0.13059845871492998,
          0.13538157631485997,
          0.13400855121640373,
          0.13426711247771245,
          0.1332151637531804,
          0.1341072133108866,
          0.13374373609160947,
          0.13179947711661574,
          0.13082860974276417,
          0.13253441977617536,
          0.12587166130943497,
          0.132937895573093,
          0.13290621153699467,
          0.13189012532384545,
          0.13295716275999986,
          0.13351205137826808,
          0.13205540534691404,
          0.13204572497479516,
          0.13395980214919503,
          0.13078770955910696,
          0.13019262785526634,
          0.13343160540747742,
          0.13022177382718594,
          0.13206767931843527,
          0.1305851678305324,
          0.13497727309870527,
          0.13506518166481998,
          0.1344474047387336,
          0.1333558180901191,
          0.13134647028468482,
          0.13291650654573525,
          0.13322799136584262,
          0.1328334970961906,
          0.13224962664993972,
          0.13195676665176373,
          0.1338807877993814,
          0.13311139861211735,
          0.13417014946217568,
          0.13214909551965953,
          0.13248910808488537,
          0.1324470546069716,
          0.1328541812074399,
          0.1336480519284877,
          0.13178959540756507,
          0.1328740436154364,
          0.13375447905315505,
          0.13303087603559338,
          0.12875772979081593,
          0.13237994995443936,
          0.13009832785409442,
          0.13217709602431948,
          0.13312649362127243,
          0.1334361345238109,
          0.12646847376722556,
          0.1327918591512628,
          0.13380056495185236,
          0.13389130457233359,
          0.13260689461053984,
          0.1308238857076492,
          0.1323543824661541,
          0.13113395223301014,
          0.13133351408633978,
          0.1338258360429198,
          0.13364538343330956,
          0.12802817430808566,
          0.13452363963538064,
          0.13451350872533943,
          0.13422784593545592,
          0.13330829637585173,
          0.1336615912867017,
          0.13273404833030847,
          0.1335662914232053
         ],
         "yaxis": "y2"
        },
        {
         "marker": {
          "color": [
           1,
           2,
           3,
           4,
           5,
           6,
           7,
           8,
           9,
           10,
           11,
           12,
           13,
           14,
           15,
           16,
           17,
           18,
           19,
           20,
           21,
           22,
           23,
           24,
           25,
           26,
           27,
           28,
           29,
           30,
           31,
           32,
           33,
           34,
           35,
           36,
           37,
           38,
           39,
           40,
           41,
           42,
           43,
           44,
           45,
           46,
           47,
           48,
           49,
           50,
           51,
           52,
           53,
           54,
           55,
           56,
           57,
           58,
           59,
           60,
           61,
           62,
           63,
           64,
           65,
           66,
           67,
           68,
           69,
           70,
           71,
           72,
           73,
           74,
           75,
           76,
           77,
           78,
           79,
           80,
           81,
           82,
           83,
           84,
           85,
           86,
           87,
           88,
           89,
           90,
           91,
           92,
           93,
           94,
           95,
           96,
           97,
           98
          ],
          "colorbar": {
           "title": {
            "text": "#Trials"
           },
           "x": 1,
           "xpad": 40
          },
          "colorscale": [
           [
            0,
            "rgb(247,251,255)"
           ],
           [
            0.125,
            "rgb(222,235,247)"
           ],
           [
            0.25,
            "rgb(198,219,239)"
           ],
           [
            0.375,
            "rgb(158,202,225)"
           ],
           [
            0.5,
            "rgb(107,174,214)"
           ],
           [
            0.625,
            "rgb(66,146,198)"
           ],
           [
            0.75,
            "rgb(33,113,181)"
           ],
           [
            0.875,
            "rgb(8,81,156)"
           ],
           [
            1,
            "rgb(8,48,107)"
           ]
          ],
          "line": {
           "color": "Grey",
           "width": 0.5
          },
          "showscale": false
         },
         "mode": "markers",
         "showlegend": false,
         "type": "scatter",
         "x": [
          0.2,
          0.25,
          0.30000000000000004,
          0.35,
          0.1,
          0.2,
          0.1,
          0.25,
          0.1,
          0.2,
          0.5,
          0.4,
          0.2,
          0.30000000000000004,
          0.4,
          0.30000000000000004,
          0.35,
          0.5,
          0.4,
          0.35,
          0.45000000000000007,
          0.30000000000000004,
          0.35,
          0.25,
          0.25,
          0.15000000000000002,
          0.15000000000000002,
          0.15000000000000002,
          0.15000000000000002,
          0.15000000000000002,
          0.15000000000000002,
          0.15000000000000002,
          0.15000000000000002,
          0.2,
          0.1,
          0.25,
          0.1,
          0.15000000000000002,
          0.35,
          0.2,
          0.25,
          0.15000000000000002,
          0.1,
          0.2,
          0.15000000000000002,
          0.1,
          0.2,
          0.15000000000000002,
          0.1,
          0.2,
          0.45000000000000007,
          0.15000000000000002,
          0.15000000000000002,
          0.2,
          0.2,
          0.1,
          0.25,
          0.35,
          0.30000000000000004,
          0.15000000000000002,
          0.4,
          0.15000000000000002,
          0.15000000000000002,
          0.2,
          0.2,
          0.2,
          0.2,
          0.30000000000000004,
          0.15000000000000002,
          0.1,
          0.25,
          0.15000000000000002,
          0.35,
          0.15000000000000002,
          0.15000000000000002,
          0.1,
          0.2,
          0.15000000000000002,
          0.2,
          0.1,
          0.30000000000000004,
          0.15000000000000002,
          0.15000000000000002,
          0.15000000000000002,
          0.1,
          0.2,
          0.15000000000000002,
          0.4,
          0.15000000000000002,
          0.2,
          0.1,
          0.15000000000000002,
          0.15000000000000002,
          0.15000000000000002,
          0.15000000000000002,
          0.45000000000000007,
          0.25,
          0.15000000000000002
         ],
         "xaxis": "x3",
         "y": [
          0.13256824012995438,
          0.13073575245267377,
          0.12552738416301393,
          0.12352042787716813,
          0.12264846734302746,
          0.13231125752822903,
          0.13091671771308194,
          0.13302804236795096,
          0.13093238402278642,
          0.1327233252821409,
          0.12782540482452984,
          0.13038488467777215,
          0.12945693670244754,
          0.13280197966163368,
          0.12886876229485938,
          0.12914363533648285,
          0.13426543312172848,
          0.13264635806859557,
          0.1315294303073725,
          0.13209808334108739,
          0.130525021597916,
          0.1326189053125227,
          0.13128442699799966,
          0.13107810520375962,
          0.13178874612315772,
          0.13343780449235557,
          0.13059845871492998,
          0.13538157631485997,
          0.13400855121640373,
          0.13426711247771245,
          0.1332151637531804,
          0.1341072133108866,
          0.13374373609160947,
          0.13179947711661574,
          0.13082860974276417,
          0.13253441977617536,
          0.12587166130943497,
          0.132937895573093,
          0.13290621153699467,
          0.13189012532384545,
          0.13295716275999986,
          0.13351205137826808,
          0.13205540534691404,
          0.13204572497479516,
          0.13395980214919503,
          0.13078770955910696,
          0.13019262785526634,
          0.13343160540747742,
          0.13022177382718594,
          0.13206767931843527,
          0.1305851678305324,
          0.13497727309870527,
          0.13506518166481998,
          0.1344474047387336,
          0.1333558180901191,
          0.13134647028468482,
          0.13291650654573525,
          0.13322799136584262,
          0.1328334970961906,
          0.13224962664993972,
          0.13195676665176373,
          0.1338807877993814,
          0.13311139861211735,
          0.13417014946217568,
          0.13214909551965953,
          0.13248910808488537,
          0.1324470546069716,
          0.1328541812074399,
          0.1336480519284877,
          0.13178959540756507,
          0.1328740436154364,
          0.13375447905315505,
          0.13303087603559338,
          0.12875772979081593,
          0.13237994995443936,
          0.13009832785409442,
          0.13217709602431948,
          0.13312649362127243,
          0.1334361345238109,
          0.12646847376722556,
          0.1327918591512628,
          0.13380056495185236,
          0.13389130457233359,
          0.13260689461053984,
          0.1308238857076492,
          0.1323543824661541,
          0.13113395223301014,
          0.13133351408633978,
          0.1338258360429198,
          0.13364538343330956,
          0.12802817430808566,
          0.13452363963538064,
          0.13451350872533943,
          0.13422784593545592,
          0.13330829637585173,
          0.1336615912867017,
          0.13273404833030847,
          0.1335662914232053
         ],
         "yaxis": "y3"
        },
        {
         "marker": {
          "color": [
           1,
           2,
           3,
           4,
           5,
           6,
           7,
           8,
           9,
           10,
           11,
           12,
           13,
           14,
           15,
           16,
           17,
           18,
           19,
           20,
           21,
           22,
           23,
           24,
           25,
           26,
           27,
           28,
           29,
           30,
           31,
           32,
           33,
           34,
           35,
           36,
           37,
           38,
           39,
           40,
           41,
           42,
           43,
           44,
           45,
           46,
           47,
           48,
           49,
           50,
           51,
           52,
           53,
           54,
           55,
           56,
           57,
           58,
           59,
           60,
           61,
           62,
           63,
           64,
           65,
           66,
           67,
           68,
           69,
           70,
           71,
           72,
           73,
           74,
           75,
           76,
           77,
           78,
           79,
           80,
           81,
           82,
           83,
           84,
           85,
           86,
           87,
           88,
           89,
           90,
           91,
           92,
           93,
           94,
           95,
           96,
           97,
           98
          ],
          "colorbar": {
           "title": {
            "text": "#Trials"
           },
           "x": 1,
           "xpad": 40
          },
          "colorscale": [
           [
            0,
            "rgb(247,251,255)"
           ],
           [
            0.125,
            "rgb(222,235,247)"
           ],
           [
            0.25,
            "rgb(198,219,239)"
           ],
           [
            0.375,
            "rgb(158,202,225)"
           ],
           [
            0.5,
            "rgb(107,174,214)"
           ],
           [
            0.625,
            "rgb(66,146,198)"
           ],
           [
            0.75,
            "rgb(33,113,181)"
           ],
           [
            0.875,
            "rgb(8,81,156)"
           ],
           [
            1,
            "rgb(8,48,107)"
           ]
          ],
          "line": {
           "color": "Grey",
           "width": 0.5
          },
          "showscale": false
         },
         "mode": "markers",
         "showlegend": false,
         "type": "scatter",
         "x": [
          0.08514440664446411,
          0.031061356166538698,
          0.04274468457294767,
          0.04398545144594326,
          0.030763339394244783,
          0.0013951515103032557,
          0.16135697268915392,
          1.9981373731796583,
          0.002303493116395214,
          0.004510604788450944,
          4.690493873779785,
          3.921636763639183,
          0.8170602084243814,
          0.007501426375894198,
          0.4106743559853849,
          0.007413476636464435,
          1.3615337266945655,
          1.297723009983662,
          7.6366916846077855,
          1.7354003569958172,
          0.347898728972419,
          0.011929942972726926,
          2.4822111967276275,
          0.4377995604188525,
          9.625320867916178,
          0.17514272196598102,
          0.18086387839149506,
          0.951445511231881,
          0.9285768090828947,
          0.866390603844815,
          0.5927926844699006,
          1.011902213748744,
          3.2185589959186993,
          1.2281267886652616,
          0.07663473977367763,
          0.24907814305816442,
          0.8145245512437268,
          0.10552100839664948,
          5.991000982914521,
          2.236446802249048,
          1.4128973635003634,
          0.7384815280199275,
          1.021867534418535,
          0.5461927691026376,
          0.2781255204199441,
          2.857409417514965,
          4.462695776978839,
          1.722900737695,
          0.9518408865108497,
          0.09263861920107005,
          0.5581004888569873,
          0.2761159204984289,
          0.288141571185161,
          0.2710598521645888,
          0.060803618962292603,
          0.12806760896483782,
          0.2630156797248596,
          0.02751837899144315,
          0.31637372586730783,
          0.42049735957481016,
          0.21805617092544405,
          0.6052519011815797,
          0.3892625112453538,
          0.1459543942842801,
          0.13704109054899272,
          0.1958019905239913,
          0.034384046272923754,
          0.056647115006179236,
          0.0010447773564651063,
          0.1405795120013144,
          1.6408582509966645,
          0.4946180995110849,
          1.089243697499548,
          0.6857959681427158,
          0.3370602314006191,
          1.3028842018229294,
          0.21256065144977979,
          0.11133514114613723,
          3.492271334865343,
          2.1030362326854415,
          0.7476528535564919,
          0.9362990468744002,
          1.6740089757651506,
          2.593425992116698,
          0.4570883388499731,
          0.16278956363351516,
          0.07352528666856242,
          0.8172745800615371,
          0.33762584198769424,
          1.4342306647904703,
          1.1165195579822509,
          0.26797224036874095,
          0.27733994822193764,
          0.26019355357146245,
          0.22823335090656593,
          0.270376331274179,
          0.18555564917101877,
          0.2778111124870901
         ],
         "xaxis": "x4",
         "y": [
          0.13256824012995438,
          0.13073575245267377,
          0.12552738416301393,
          0.12352042787716813,
          0.12264846734302746,
          0.13231125752822903,
          0.13091671771308194,
          0.13302804236795096,
          0.13093238402278642,
          0.1327233252821409,
          0.12782540482452984,
          0.13038488467777215,
          0.12945693670244754,
          0.13280197966163368,
          0.12886876229485938,
          0.12914363533648285,
          0.13426543312172848,
          0.13264635806859557,
          0.1315294303073725,
          0.13209808334108739,
          0.130525021597916,
          0.1326189053125227,
          0.13128442699799966,
          0.13107810520375962,
          0.13178874612315772,
          0.13343780449235557,
          0.13059845871492998,
          0.13538157631485997,
          0.13400855121640373,
          0.13426711247771245,
          0.1332151637531804,
          0.1341072133108866,
          0.13374373609160947,
          0.13179947711661574,
          0.13082860974276417,
          0.13253441977617536,
          0.12587166130943497,
          0.132937895573093,
          0.13290621153699467,
          0.13189012532384545,
          0.13295716275999986,
          0.13351205137826808,
          0.13205540534691404,
          0.13204572497479516,
          0.13395980214919503,
          0.13078770955910696,
          0.13019262785526634,
          0.13343160540747742,
          0.13022177382718594,
          0.13206767931843527,
          0.1305851678305324,
          0.13497727309870527,
          0.13506518166481998,
          0.1344474047387336,
          0.1333558180901191,
          0.13134647028468482,
          0.13291650654573525,
          0.13322799136584262,
          0.1328334970961906,
          0.13224962664993972,
          0.13195676665176373,
          0.1338807877993814,
          0.13311139861211735,
          0.13417014946217568,
          0.13214909551965953,
          0.13248910808488537,
          0.1324470546069716,
          0.1328541812074399,
          0.1336480519284877,
          0.13178959540756507,
          0.1328740436154364,
          0.13375447905315505,
          0.13303087603559338,
          0.12875772979081593,
          0.13237994995443936,
          0.13009832785409442,
          0.13217709602431948,
          0.13312649362127243,
          0.1334361345238109,
          0.12646847376722556,
          0.1327918591512628,
          0.13380056495185236,
          0.13389130457233359,
          0.13260689461053984,
          0.1308238857076492,
          0.1323543824661541,
          0.13113395223301014,
          0.13133351408633978,
          0.1338258360429198,
          0.13364538343330956,
          0.12802817430808566,
          0.13452363963538064,
          0.13451350872533943,
          0.13422784593545592,
          0.13330829637585173,
          0.1336615912867017,
          0.13273404833030847,
          0.1335662914232053
         ],
         "yaxis": "y4"
        },
        {
         "marker": {
          "color": [
           1,
           2,
           3,
           4,
           5,
           6,
           7,
           8,
           9,
           10,
           11,
           12,
           13,
           14,
           15,
           16,
           17,
           18,
           19,
           20,
           21,
           22,
           23,
           24,
           25,
           26,
           27,
           28,
           29,
           30,
           31,
           32,
           33,
           34,
           35,
           36,
           37,
           38,
           39,
           40,
           41,
           42,
           43,
           44,
           45,
           46,
           47,
           48,
           49,
           50,
           51,
           52,
           53,
           54,
           55,
           56,
           57,
           58,
           59,
           60,
           61,
           62,
           63,
           64,
           65,
           66,
           67,
           68,
           69,
           70,
           71,
           72,
           73,
           74,
           75,
           76,
           77,
           78,
           79,
           80,
           81,
           82,
           83,
           84,
           85,
           86,
           87,
           88,
           89,
           90,
           91,
           92,
           93,
           94,
           95,
           96,
           97,
           98
          ],
          "colorbar": {
           "title": {
            "text": "#Trials"
           },
           "x": 1,
           "xpad": 40
          },
          "colorscale": [
           [
            0,
            "rgb(247,251,255)"
           ],
           [
            0.125,
            "rgb(222,235,247)"
           ],
           [
            0.25,
            "rgb(198,219,239)"
           ],
           [
            0.375,
            "rgb(158,202,225)"
           ],
           [
            0.5,
            "rgb(107,174,214)"
           ],
           [
            0.625,
            "rgb(66,146,198)"
           ],
           [
            0.75,
            "rgb(33,113,181)"
           ],
           [
            0.875,
            "rgb(8,81,156)"
           ],
           [
            1,
            "rgb(8,48,107)"
           ]
          ],
          "line": {
           "color": "Grey",
           "width": 0.5
          },
          "showscale": false
         },
         "mode": "markers",
         "showlegend": false,
         "type": "scatter",
         "x": [
          0.002981656752736594,
          0.9820523339836728,
          8.24209879265366,
          0.14635570408261184,
          1.1796073530243285,
          0.0052123272175255125,
          2.1867855535897918,
          0.010032726806472367,
          0.03121841893364542,
          0.0014468275451386572,
          0.02396336847032413,
          0.001041802223006553,
          0.009662081136741878,
          0.0013240144311752332,
          0.018672149236017413,
          0.10777919002725875,
          0.003632463572332854,
          0.00586651504148259,
          0.06341646798872265,
          0.013803023849363378,
          0.29525081469473385,
          0.0032851855636189657,
          0.001980192454989474,
          0.007185081126773921,
          0.0028103879388173894,
          0.0010051657806400649,
          0.042527842005741764,
          0.004194111352893253,
          0.0036285191854356367,
          0.004007773662555823,
          0.0025838817579328893,
          0.004219305762051769,
          0.0047583670986625,
          0.012944760998266377,
          0.0021366707186870376,
          0.008260686519668018,
          0.2254915864717752,
          5.001602891012208,
          0.0049153879847622945,
          0.06281730217004312,
          0.6254901579747315,
          0.003761371812656967,
          0.0017952812014700539,
          0.01723087228818046,
          0.003916255565659378,
          0.00821620042495667,
          0.02388376855027389,
          0.010832021829767228,
          0.0017179522500719348,
          0.005099909980874417,
          0.03654881533229613,
          0.0029861874338478057,
          0.003234862595150984,
          0.001397563756919426,
          0.0012754157527237126,
          0.0024208933177005377,
          0.006411941174493723,
          0.0014214449308315759,
          0.0028627560136031548,
          0.0010229480382448481,
          0.0017510128031211663,
          0.003599321354263044,
          0.00638734315759156,
          0.002483858049504671,
          0.002392929247882187,
          0.0015120739441324192,
          0.0028847000451092245,
          0.012393502898666031,
          0.0020315958643496437,
          0.0055673731415753465,
          0.008420966867933538,
          0.0044657839499134475,
          0.0030822234338981494,
          0.0013150644915397433,
          0.004254675018797837,
          0.0022674599923439547,
          0.015552558676856558,
          0.006861975990871443,
          0.002930852849078191,
          0.0096358945481649,
          0.023786563436807948,
          0.00418363512555103,
          0.003706256268544557,
          0.005347104229731488,
          0.0019880491752267983,
          1.555516156284484,
          0.5592803681059842,
          0.001222331305967351,
          0.0032144628699935637,
          7.903850114105822,
          0.0017747072198589235,
          0.0036199439594784342,
          0.0025697381596307,
          0.002593111502355819,
          0.0024092550024465784,
          0.001584852785041575,
          0.0024626890114902056,
          0.0011934349842317343
         ],
         "xaxis": "x5",
         "y": [
          0.13256824012995438,
          0.13073575245267377,
          0.12552738416301393,
          0.12352042787716813,
          0.12264846734302746,
          0.13231125752822903,
          0.13091671771308194,
          0.13302804236795096,
          0.13093238402278642,
          0.1327233252821409,
          0.12782540482452984,
          0.13038488467777215,
          0.12945693670244754,
          0.13280197966163368,
          0.12886876229485938,
          0.12914363533648285,
          0.13426543312172848,
          0.13264635806859557,
          0.1315294303073725,
          0.13209808334108739,
          0.130525021597916,
          0.1326189053125227,
          0.13128442699799966,
          0.13107810520375962,
          0.13178874612315772,
          0.13343780449235557,
          0.13059845871492998,
          0.13538157631485997,
          0.13400855121640373,
          0.13426711247771245,
          0.1332151637531804,
          0.1341072133108866,
          0.13374373609160947,
          0.13179947711661574,
          0.13082860974276417,
          0.13253441977617536,
          0.12587166130943497,
          0.132937895573093,
          0.13290621153699467,
          0.13189012532384545,
          0.13295716275999986,
          0.13351205137826808,
          0.13205540534691404,
          0.13204572497479516,
          0.13395980214919503,
          0.13078770955910696,
          0.13019262785526634,
          0.13343160540747742,
          0.13022177382718594,
          0.13206767931843527,
          0.1305851678305324,
          0.13497727309870527,
          0.13506518166481998,
          0.1344474047387336,
          0.1333558180901191,
          0.13134647028468482,
          0.13291650654573525,
          0.13322799136584262,
          0.1328334970961906,
          0.13224962664993972,
          0.13195676665176373,
          0.1338807877993814,
          0.13311139861211735,
          0.13417014946217568,
          0.13214909551965953,
          0.13248910808488537,
          0.1324470546069716,
          0.1328541812074399,
          0.1336480519284877,
          0.13178959540756507,
          0.1328740436154364,
          0.13375447905315505,
          0.13303087603559338,
          0.12875772979081593,
          0.13237994995443936,
          0.13009832785409442,
          0.13217709602431948,
          0.13312649362127243,
          0.1334361345238109,
          0.12646847376722556,
          0.1327918591512628,
          0.13380056495185236,
          0.13389130457233359,
          0.13260689461053984,
          0.1308238857076492,
          0.1323543824661541,
          0.13113395223301014,
          0.13133351408633978,
          0.1338258360429198,
          0.13364538343330956,
          0.12802817430808566,
          0.13452363963538064,
          0.13451350872533943,
          0.13422784593545592,
          0.13330829637585173,
          0.1336615912867017,
          0.13273404833030847,
          0.1335662914232053
         ],
         "yaxis": "y5"
        },
        {
         "marker": {
          "color": [
           1,
           2,
           3,
           4,
           5,
           6,
           7,
           8,
           9,
           10,
           11,
           12,
           13,
           14,
           15,
           16,
           17,
           18,
           19,
           20,
           21,
           22,
           23,
           24,
           25,
           26,
           27,
           28,
           29,
           30,
           31,
           32,
           33,
           34,
           35,
           36,
           37,
           38,
           39,
           40,
           41,
           42,
           43,
           44,
           45,
           46,
           47,
           48,
           49,
           50,
           51,
           52,
           53,
           54,
           55,
           56,
           57,
           58,
           59,
           60,
           61,
           62,
           63,
           64,
           65,
           66,
           67,
           68,
           69,
           70,
           71,
           72,
           73,
           74,
           75,
           76,
           77,
           78,
           79,
           80,
           81,
           82,
           83,
           84,
           85,
           86,
           87,
           88,
           89,
           90,
           91,
           92,
           93,
           94,
           95,
           96,
           97,
           98
          ],
          "colorbar": {
           "title": {
            "text": "#Trials"
           },
           "x": 1,
           "xpad": 40
          },
          "colorscale": [
           [
            0,
            "rgb(247,251,255)"
           ],
           [
            0.125,
            "rgb(222,235,247)"
           ],
           [
            0.25,
            "rgb(198,219,239)"
           ],
           [
            0.375,
            "rgb(158,202,225)"
           ],
           [
            0.5,
            "rgb(107,174,214)"
           ],
           [
            0.625,
            "rgb(66,146,198)"
           ],
           [
            0.75,
            "rgb(33,113,181)"
           ],
           [
            0.875,
            "rgb(8,81,156)"
           ],
           [
            1,
            "rgb(8,48,107)"
           ]
          ],
          "line": {
           "color": "Grey",
           "width": 0.5
          },
          "showscale": false
         },
         "mode": "markers",
         "showlegend": false,
         "type": "scatter",
         "x": [
          30,
          10,
          30,
          10,
          10,
          10,
          20,
          10,
          10,
          50,
          50,
          50,
          40,
          40,
          40,
          20,
          40,
          20,
          30,
          40,
          30,
          40,
          40,
          40,
          30,
          50,
          50,
          50,
          50,
          50,
          50,
          50,
          50,
          50,
          50,
          40,
          50,
          40,
          50,
          40,
          50,
          50,
          50,
          50,
          50,
          40,
          50,
          50,
          40,
          50,
          40,
          50,
          50,
          50,
          50,
          50,
          20,
          40,
          50,
          30,
          50,
          50,
          50,
          50,
          50,
          50,
          40,
          50,
          50,
          40,
          50,
          50,
          50,
          50,
          50,
          50,
          10,
          40,
          50,
          50,
          30,
          50,
          50,
          50,
          50,
          50,
          50,
          50,
          50,
          50,
          40,
          50,
          50,
          50,
          50,
          50,
          20,
          50
         ],
         "xaxis": "x6",
         "y": [
          0.13256824012995438,
          0.13073575245267377,
          0.12552738416301393,
          0.12352042787716813,
          0.12264846734302746,
          0.13231125752822903,
          0.13091671771308194,
          0.13302804236795096,
          0.13093238402278642,
          0.1327233252821409,
          0.12782540482452984,
          0.13038488467777215,
          0.12945693670244754,
          0.13280197966163368,
          0.12886876229485938,
          0.12914363533648285,
          0.13426543312172848,
          0.13264635806859557,
          0.1315294303073725,
          0.13209808334108739,
          0.130525021597916,
          0.1326189053125227,
          0.13128442699799966,
          0.13107810520375962,
          0.13178874612315772,
          0.13343780449235557,
          0.13059845871492998,
          0.13538157631485997,
          0.13400855121640373,
          0.13426711247771245,
          0.1332151637531804,
          0.1341072133108866,
          0.13374373609160947,
          0.13179947711661574,
          0.13082860974276417,
          0.13253441977617536,
          0.12587166130943497,
          0.132937895573093,
          0.13290621153699467,
          0.13189012532384545,
          0.13295716275999986,
          0.13351205137826808,
          0.13205540534691404,
          0.13204572497479516,
          0.13395980214919503,
          0.13078770955910696,
          0.13019262785526634,
          0.13343160540747742,
          0.13022177382718594,
          0.13206767931843527,
          0.1305851678305324,
          0.13497727309870527,
          0.13506518166481998,
          0.1344474047387336,
          0.1333558180901191,
          0.13134647028468482,
          0.13291650654573525,
          0.13322799136584262,
          0.1328334970961906,
          0.13224962664993972,
          0.13195676665176373,
          0.1338807877993814,
          0.13311139861211735,
          0.13417014946217568,
          0.13214909551965953,
          0.13248910808488537,
          0.1324470546069716,
          0.1328541812074399,
          0.1336480519284877,
          0.13178959540756507,
          0.1328740436154364,
          0.13375447905315505,
          0.13303087603559338,
          0.12875772979081593,
          0.13237994995443936,
          0.13009832785409442,
          0.13217709602431948,
          0.13312649362127243,
          0.1334361345238109,
          0.12646847376722556,
          0.1327918591512628,
          0.13380056495185236,
          0.13389130457233359,
          0.13260689461053984,
          0.1308238857076492,
          0.1323543824661541,
          0.13113395223301014,
          0.13133351408633978,
          0.1338258360429198,
          0.13364538343330956,
          0.12802817430808566,
          0.13452363963538064,
          0.13451350872533943,
          0.13422784593545592,
          0.13330829637585173,
          0.1336615912867017,
          0.13273404833030847,
          0.1335662914232053
         ],
         "yaxis": "y6"
        },
        {
         "marker": {
          "color": [
           1,
           2,
           3,
           4,
           5,
           6,
           7,
           8,
           9,
           10,
           11,
           12,
           13,
           14,
           15,
           16,
           17,
           18,
           19,
           20,
           21,
           22,
           23,
           24,
           25,
           26,
           27,
           28,
           29,
           30,
           31,
           32,
           33,
           34,
           35,
           36,
           37,
           38,
           39,
           40,
           41,
           42,
           43,
           44,
           45,
           46,
           47,
           48,
           49,
           50,
           51,
           52,
           53,
           54,
           55,
           56,
           57,
           58,
           59,
           60,
           61,
           62,
           63,
           64,
           65,
           66,
           67,
           68,
           69,
           70,
           71,
           72,
           73,
           74,
           75,
           76,
           77,
           78,
           79,
           80,
           81,
           82,
           83,
           84,
           85,
           86,
           87,
           88,
           89,
           90,
           91,
           92,
           93,
           94,
           95,
           96,
           97,
           98
          ],
          "colorbar": {
           "title": {
            "text": "#Trials"
           },
           "x": 1,
           "xpad": 40
          },
          "colorscale": [
           [
            0,
            "rgb(247,251,255)"
           ],
           [
            0.125,
            "rgb(222,235,247)"
           ],
           [
            0.25,
            "rgb(198,219,239)"
           ],
           [
            0.375,
            "rgb(158,202,225)"
           ],
           [
            0.5,
            "rgb(107,174,214)"
           ],
           [
            0.625,
            "rgb(66,146,198)"
           ],
           [
            0.75,
            "rgb(33,113,181)"
           ],
           [
            0.875,
            "rgb(8,81,156)"
           ],
           [
            1,
            "rgb(8,48,107)"
           ]
          ],
          "line": {
           "color": "Grey",
           "width": 0.5
          },
          "showscale": false
         },
         "mode": "markers",
         "showlegend": false,
         "type": "scatter",
         "x": [
          1900,
          1000,
          600,
          1500,
          600,
          1300,
          1700,
          1000,
          900,
          1300,
          1000,
          1300,
          1100,
          1500,
          1700,
          1500,
          2000,
          2000,
          800,
          800,
          500,
          1800,
          1500,
          2000,
          1200,
          1600,
          1700,
          1800,
          1900,
          1900,
          1900,
          1900,
          1800,
          2000,
          1800,
          1900,
          1900,
          1600,
          2000,
          1800,
          1600,
          1900,
          2000,
          1700,
          1800,
          1900,
          1400,
          1700,
          2000,
          1900,
          1800,
          1800,
          2000,
          2000,
          2000,
          2000,
          1800,
          2000,
          1600,
          1700,
          1400,
          1900,
          1900,
          1800,
          1700,
          1800,
          2000,
          1100,
          1800,
          2000,
          1700,
          1900,
          1900,
          1900,
          1800,
          700,
          2000,
          1900,
          1800,
          1600,
          2000,
          1900,
          1900,
          2000,
          1700,
          1800,
          1900,
          1800,
          2000,
          1900,
          2000,
          1800,
          1800,
          1700,
          1700,
          1800,
          1600,
          1700
         ],
         "xaxis": "x7",
         "y": [
          0.13256824012995438,
          0.13073575245267377,
          0.12552738416301393,
          0.12352042787716813,
          0.12264846734302746,
          0.13231125752822903,
          0.13091671771308194,
          0.13302804236795096,
          0.13093238402278642,
          0.1327233252821409,
          0.12782540482452984,
          0.13038488467777215,
          0.12945693670244754,
          0.13280197966163368,
          0.12886876229485938,
          0.12914363533648285,
          0.13426543312172848,
          0.13264635806859557,
          0.1315294303073725,
          0.13209808334108739,
          0.130525021597916,
          0.1326189053125227,
          0.13128442699799966,
          0.13107810520375962,
          0.13178874612315772,
          0.13343780449235557,
          0.13059845871492998,
          0.13538157631485997,
          0.13400855121640373,
          0.13426711247771245,
          0.1332151637531804,
          0.1341072133108866,
          0.13374373609160947,
          0.13179947711661574,
          0.13082860974276417,
          0.13253441977617536,
          0.12587166130943497,
          0.132937895573093,
          0.13290621153699467,
          0.13189012532384545,
          0.13295716275999986,
          0.13351205137826808,
          0.13205540534691404,
          0.13204572497479516,
          0.13395980214919503,
          0.13078770955910696,
          0.13019262785526634,
          0.13343160540747742,
          0.13022177382718594,
          0.13206767931843527,
          0.1305851678305324,
          0.13497727309870527,
          0.13506518166481998,
          0.1344474047387336,
          0.1333558180901191,
          0.13134647028468482,
          0.13291650654573525,
          0.13322799136584262,
          0.1328334970961906,
          0.13224962664993972,
          0.13195676665176373,
          0.1338807877993814,
          0.13311139861211735,
          0.13417014946217568,
          0.13214909551965953,
          0.13248910808488537,
          0.1324470546069716,
          0.1328541812074399,
          0.1336480519284877,
          0.13178959540756507,
          0.1328740436154364,
          0.13375447905315505,
          0.13303087603559338,
          0.12875772979081593,
          0.13237994995443936,
          0.13009832785409442,
          0.13217709602431948,
          0.13312649362127243,
          0.1334361345238109,
          0.12646847376722556,
          0.1327918591512628,
          0.13380056495185236,
          0.13389130457233359,
          0.13260689461053984,
          0.1308238857076492,
          0.1323543824661541,
          0.13113395223301014,
          0.13133351408633978,
          0.1338258360429198,
          0.13364538343330956,
          0.12802817430808566,
          0.13452363963538064,
          0.13451350872533943,
          0.13422784593545592,
          0.13330829637585173,
          0.1336615912867017,
          0.13273404833030847,
          0.1335662914232053
         ],
         "yaxis": "y7"
        },
        {
         "marker": {
          "color": [
           1,
           2,
           3,
           4,
           5,
           6,
           7,
           8,
           9,
           10,
           11,
           12,
           13,
           14,
           15,
           16,
           17,
           18,
           19,
           20,
           21,
           22,
           23,
           24,
           25,
           26,
           27,
           28,
           29,
           30,
           31,
           32,
           33,
           34,
           35,
           36,
           37,
           38,
           39,
           40,
           41,
           42,
           43,
           44,
           45,
           46,
           47,
           48,
           49,
           50,
           51,
           52,
           53,
           54,
           55,
           56,
           57,
           58,
           59,
           60,
           61,
           62,
           63,
           64,
           65,
           66,
           67,
           68,
           69,
           70,
           71,
           72,
           73,
           74,
           75,
           76,
           77,
           78,
           79,
           80,
           81,
           82,
           83,
           84,
           85,
           86,
           87,
           88,
           89,
           90,
           91,
           92,
           93,
           94,
           95,
           96,
           97,
           98
          ],
          "colorbar": {
           "title": {
            "text": "#Trials"
           },
           "x": 1,
           "xpad": 40
          },
          "colorscale": [
           [
            0,
            "rgb(247,251,255)"
           ],
           [
            0.125,
            "rgb(222,235,247)"
           ],
           [
            0.25,
            "rgb(198,219,239)"
           ],
           [
            0.375,
            "rgb(158,202,225)"
           ],
           [
            0.5,
            "rgb(107,174,214)"
           ],
           [
            0.625,
            "rgb(66,146,198)"
           ],
           [
            0.75,
            "rgb(33,113,181)"
           ],
           [
            0.875,
            "rgb(8,81,156)"
           ],
           [
            1,
            "rgb(8,48,107)"
           ]
          ],
          "line": {
           "color": "Grey",
           "width": 0.5
          },
          "showscale": false
         },
         "mode": "markers",
         "showlegend": false,
         "type": "scatter",
         "x": [
          1900,
          1300,
          500,
          500,
          500,
          1900,
          2000,
          2000,
          1300,
          1600,
          900,
          1600,
          1600,
          1600,
          1700,
          1000,
          1800,
          1800,
          2000,
          1400,
          1100,
          1800,
          1500,
          1800,
          2000,
          1700,
          1800,
          1900,
          1500,
          1400,
          1100,
          1400,
          1200,
          800,
          1400,
          1400,
          700,
          1900,
          1300,
          1200,
          1700,
          1500,
          1500,
          1400,
          1900,
          1300,
          1500,
          1700,
          1200,
          1600,
          1900,
          1900,
          1900,
          1900,
          2000,
          1900,
          1800,
          2000,
          1900,
          1800,
          2000,
          1700,
          1900,
          1900,
          1800,
          2000,
          1800,
          1700,
          2000,
          1900,
          1900,
          1600,
          1800,
          600,
          1000,
          1900,
          2000,
          1800,
          1700,
          2000,
          1600,
          1400,
          1500,
          1300,
          1400,
          1900,
          1300,
          1500,
          1900,
          1800,
          1100,
          1900,
          2000,
          1900,
          1900,
          2000,
          2000,
          1900
         ],
         "xaxis": "x8",
         "y": [
          0.13256824012995438,
          0.13073575245267377,
          0.12552738416301393,
          0.12352042787716813,
          0.12264846734302746,
          0.13231125752822903,
          0.13091671771308194,
          0.13302804236795096,
          0.13093238402278642,
          0.1327233252821409,
          0.12782540482452984,
          0.13038488467777215,
          0.12945693670244754,
          0.13280197966163368,
          0.12886876229485938,
          0.12914363533648285,
          0.13426543312172848,
          0.13264635806859557,
          0.1315294303073725,
          0.13209808334108739,
          0.130525021597916,
          0.1326189053125227,
          0.13128442699799966,
          0.13107810520375962,
          0.13178874612315772,
          0.13343780449235557,
          0.13059845871492998,
          0.13538157631485997,
          0.13400855121640373,
          0.13426711247771245,
          0.1332151637531804,
          0.1341072133108866,
          0.13374373609160947,
          0.13179947711661574,
          0.13082860974276417,
          0.13253441977617536,
          0.12587166130943497,
          0.132937895573093,
          0.13290621153699467,
          0.13189012532384545,
          0.13295716275999986,
          0.13351205137826808,
          0.13205540534691404,
          0.13204572497479516,
          0.13395980214919503,
          0.13078770955910696,
          0.13019262785526634,
          0.13343160540747742,
          0.13022177382718594,
          0.13206767931843527,
          0.1305851678305324,
          0.13497727309870527,
          0.13506518166481998,
          0.1344474047387336,
          0.1333558180901191,
          0.13134647028468482,
          0.13291650654573525,
          0.13322799136584262,
          0.1328334970961906,
          0.13224962664993972,
          0.13195676665176373,
          0.1338807877993814,
          0.13311139861211735,
          0.13417014946217568,
          0.13214909551965953,
          0.13248910808488537,
          0.1324470546069716,
          0.1328541812074399,
          0.1336480519284877,
          0.13178959540756507,
          0.1328740436154364,
          0.13375447905315505,
          0.13303087603559338,
          0.12875772979081593,
          0.13237994995443936,
          0.13009832785409442,
          0.13217709602431948,
          0.13312649362127243,
          0.1334361345238109,
          0.12646847376722556,
          0.1327918591512628,
          0.13380056495185236,
          0.13389130457233359,
          0.13260689461053984,
          0.1308238857076492,
          0.1323543824661541,
          0.13113395223301014,
          0.13133351408633978,
          0.1338258360429198,
          0.13364538343330956,
          0.12802817430808566,
          0.13452363963538064,
          0.13451350872533943,
          0.13422784593545592,
          0.13330829637585173,
          0.1336615912867017,
          0.13273404833030847,
          0.1335662914232053
         ],
         "yaxis": "y8"
        },
        {
         "marker": {
          "color": [
           1,
           2,
           3,
           4,
           5,
           6,
           7,
           8,
           9,
           10,
           11,
           12,
           13,
           14,
           15,
           16,
           17,
           18,
           19,
           20,
           21,
           22,
           23,
           24,
           25,
           26,
           27,
           28,
           29,
           30,
           31,
           32,
           33,
           34,
           35,
           36,
           37,
           38,
           39,
           40,
           41,
           42,
           43,
           44,
           45,
           46,
           47,
           48,
           49,
           50,
           51,
           52,
           53,
           54,
           55,
           56,
           57,
           58,
           59,
           60,
           61,
           62,
           63,
           64,
           65,
           66,
           67,
           68,
           69,
           70,
           71,
           72,
           73,
           74,
           75,
           76,
           77,
           78,
           79,
           80,
           81,
           82,
           83,
           84,
           85,
           86,
           87,
           88,
           89,
           90,
           91,
           92,
           93,
           94,
           95,
           96,
           97,
           98
          ],
          "colorbar": {
           "title": {
            "text": "#Trials"
           },
           "x": 1,
           "xpad": 40
          },
          "colorscale": [
           [
            0,
            "rgb(247,251,255)"
           ],
           [
            0.125,
            "rgb(222,235,247)"
           ],
           [
            0.25,
            "rgb(198,219,239)"
           ],
           [
            0.375,
            "rgb(158,202,225)"
           ],
           [
            0.5,
            "rgb(107,174,214)"
           ],
           [
            0.625,
            "rgb(66,146,198)"
           ],
           [
            0.75,
            "rgb(33,113,181)"
           ],
           [
            0.875,
            "rgb(8,81,156)"
           ],
           [
            1,
            "rgb(8,48,107)"
           ]
          ],
          "line": {
           "color": "Grey",
           "width": 0.5
          },
          "showscale": false
         },
         "mode": "markers",
         "showlegend": false,
         "type": "scatter",
         "x": [
          7,
          7,
          7,
          7,
          7,
          7,
          7,
          7,
          7,
          7,
          7,
          7,
          7,
          7,
          7,
          7,
          7,
          7,
          7,
          7,
          7,
          7,
          7,
          7,
          7,
          7,
          7,
          7,
          7,
          7,
          7,
          7,
          7,
          7,
          7,
          7,
          7,
          7,
          7,
          7,
          7,
          7,
          7,
          7,
          7,
          7,
          7,
          7,
          7,
          7,
          7,
          7,
          7,
          7,
          7,
          7,
          7,
          7,
          7,
          7,
          7,
          7,
          7,
          7,
          7,
          7,
          7,
          7,
          7,
          7,
          7,
          7,
          7,
          7,
          7,
          7,
          7,
          7,
          7,
          7,
          7,
          7,
          7,
          7,
          7,
          7,
          7,
          7,
          7,
          7,
          7,
          7,
          7,
          7,
          7,
          7,
          7,
          7
         ],
         "xaxis": "x9",
         "y": [
          0.13256824012995438,
          0.13073575245267377,
          0.12552738416301393,
          0.12352042787716813,
          0.12264846734302746,
          0.13231125752822903,
          0.13091671771308194,
          0.13302804236795096,
          0.13093238402278642,
          0.1327233252821409,
          0.12782540482452984,
          0.13038488467777215,
          0.12945693670244754,
          0.13280197966163368,
          0.12886876229485938,
          0.12914363533648285,
          0.13426543312172848,
          0.13264635806859557,
          0.1315294303073725,
          0.13209808334108739,
          0.130525021597916,
          0.1326189053125227,
          0.13128442699799966,
          0.13107810520375962,
          0.13178874612315772,
          0.13343780449235557,
          0.13059845871492998,
          0.13538157631485997,
          0.13400855121640373,
          0.13426711247771245,
          0.1332151637531804,
          0.1341072133108866,
          0.13374373609160947,
          0.13179947711661574,
          0.13082860974276417,
          0.13253441977617536,
          0.12587166130943497,
          0.132937895573093,
          0.13290621153699467,
          0.13189012532384545,
          0.13295716275999986,
          0.13351205137826808,
          0.13205540534691404,
          0.13204572497479516,
          0.13395980214919503,
          0.13078770955910696,
          0.13019262785526634,
          0.13343160540747742,
          0.13022177382718594,
          0.13206767931843527,
          0.1305851678305324,
          0.13497727309870527,
          0.13506518166481998,
          0.1344474047387336,
          0.1333558180901191,
          0.13134647028468482,
          0.13291650654573525,
          0.13322799136584262,
          0.1328334970961906,
          0.13224962664993972,
          0.13195676665176373,
          0.1338807877993814,
          0.13311139861211735,
          0.13417014946217568,
          0.13214909551965953,
          0.13248910808488537,
          0.1324470546069716,
          0.1328541812074399,
          0.1336480519284877,
          0.13178959540756507,
          0.1328740436154364,
          0.13375447905315505,
          0.13303087603559338,
          0.12875772979081593,
          0.13237994995443936,
          0.13009832785409442,
          0.13217709602431948,
          0.13312649362127243,
          0.1334361345238109,
          0.12646847376722556,
          0.1327918591512628,
          0.13380056495185236,
          0.13389130457233359,
          0.13260689461053984,
          0.1308238857076492,
          0.1323543824661541,
          0.13113395223301014,
          0.13133351408633978,
          0.1338258360429198,
          0.13364538343330956,
          0.12802817430808566,
          0.13452363963538064,
          0.13451350872533943,
          0.13422784593545592,
          0.13330829637585173,
          0.1336615912867017,
          0.13273404833030847,
          0.1335662914232053
         ],
         "yaxis": "y9"
        },
        {
         "marker": {
          "color": [
           1,
           2,
           3,
           4,
           5,
           6,
           7,
           8,
           9,
           10,
           11,
           12,
           13,
           14,
           15,
           16,
           17,
           18,
           19,
           20,
           21,
           22,
           23,
           24,
           25,
           26,
           27,
           28,
           29,
           30,
           31,
           32,
           33,
           34,
           35,
           36,
           37,
           38,
           39,
           40,
           41,
           42,
           43,
           44,
           45,
           46,
           47,
           48,
           49,
           50,
           51,
           52,
           53,
           54,
           55,
           56,
           57,
           58,
           59,
           60,
           61,
           62,
           63,
           64,
           65,
           66,
           67,
           68,
           69,
           70,
           71,
           72,
           73,
           74,
           75,
           76,
           77,
           78,
           79,
           80,
           81,
           82,
           83,
           84,
           85,
           86,
           87,
           88,
           89,
           90,
           91,
           92,
           93,
           94,
           95,
           96,
           97,
           98
          ],
          "colorbar": {
           "title": {
            "text": "#Trials"
           },
           "x": 1,
           "xpad": 40
          },
          "colorscale": [
           [
            0,
            "rgb(247,251,255)"
           ],
           [
            0.125,
            "rgb(222,235,247)"
           ],
           [
            0.25,
            "rgb(198,219,239)"
           ],
           [
            0.375,
            "rgb(158,202,225)"
           ],
           [
            0.5,
            "rgb(107,174,214)"
           ],
           [
            0.625,
            "rgb(66,146,198)"
           ],
           [
            0.75,
            "rgb(33,113,181)"
           ],
           [
            0.875,
            "rgb(8,81,156)"
           ],
           [
            1,
            "rgb(8,48,107)"
           ]
          ],
          "line": {
           "color": "Grey",
           "width": 0.5
          },
          "showscale": false
         },
         "mode": "markers",
         "showlegend": false,
         "type": "scatter",
         "x": [
          17.15699240679741,
          19.297162992997492,
          1.4531393265027615,
          25.41685591256914,
          36.65691977859051,
          30.635101155797056,
          30.227791218170847,
          18.821771129075206,
          48.52157901622936,
          8.494333811622951,
          11.607850037004464,
          4.481896922553748,
          11.328335070193416,
          9.821272773907996,
          19.80997724484819,
          14.88245301435462,
          22.136205618298774,
          25.11953953483492,
          37.808233071246875,
          32.11840721277612,
          23.043339416134422,
          5.553350613530317,
          11.860158947862654,
          14.845831293350237,
          21.913418583744285,
          0.301368562193165,
          46.12056490391471,
          0.3010160139207727,
          0.32093279950049564,
          4.605263750563613,
          4.568377162658161,
          0.12038506892281475,
          6.848390881100586,
          3.5201210094313695,
          1.9823578214331716,
          7.529598672188827,
          14.989559776003878,
          2.4540844768221777,
          40.86089808418717,
          0.3510413163875493,
          6.228199853207337,
          2.0283450417359186,
          28.70648874287243,
          0.17239030953996454,
          9.276016446059957,
          3.6620568365071744,
          4.855335833192589,
          8.334366861182737,
          27.614738019936944,
          12.778283874333006,
          33.154752114882676,
          9.470405778245144,
          1.6821022474070264,
          10.303977832196708,
          9.085541252662853,
          17.450299522729587,
          10.704516224995952,
          6.33270829887508,
          20.78419298011128,
          13.39316249100047,
          18.341445327151035,
          3.2252858554456107,
          4.835260202635267,
          1.7933000979524485,
          7.104257003110266,
          10.524894237781247,
          2.154094092058936,
          15.834248003101127,
          23.509058714389617,
          3.670621722251474,
          5.488091823400172,
          1.3846344712092207,
          8.189360086563749,
          1.0838743382092666,
          2.773880843685278,
          3.923074282256912,
          0.06902892223007467,
          6.026544881414195,
          12.974243795835626,
          2.27932844179881,
          1.3987851470986212,
          0.025733179672986495,
          4.690028952274701,
          7.26581025431536,
          1.352355187197974,
          3.166769593402633,
          5.564482895536731,
          26.693326827891173,
          9.780459254796039,
          4.228940358598112,
          38.803306683054046,
          9.449102741915585,
          12.16007181464714,
          11.646373372045284,
          11.726495180306038,
          13.876463573714863,
          10.754853798111313,
          15.930121178205246
         ],
         "xaxis": "x10",
         "y": [
          0.13256824012995438,
          0.13073575245267377,
          0.12552738416301393,
          0.12352042787716813,
          0.12264846734302746,
          0.13231125752822903,
          0.13091671771308194,
          0.13302804236795096,
          0.13093238402278642,
          0.1327233252821409,
          0.12782540482452984,
          0.13038488467777215,
          0.12945693670244754,
          0.13280197966163368,
          0.12886876229485938,
          0.12914363533648285,
          0.13426543312172848,
          0.13264635806859557,
          0.1315294303073725,
          0.13209808334108739,
          0.130525021597916,
          0.1326189053125227,
          0.13128442699799966,
          0.13107810520375962,
          0.13178874612315772,
          0.13343780449235557,
          0.13059845871492998,
          0.13538157631485997,
          0.13400855121640373,
          0.13426711247771245,
          0.1332151637531804,
          0.1341072133108866,
          0.13374373609160947,
          0.13179947711661574,
          0.13082860974276417,
          0.13253441977617536,
          0.12587166130943497,
          0.132937895573093,
          0.13290621153699467,
          0.13189012532384545,
          0.13295716275999986,
          0.13351205137826808,
          0.13205540534691404,
          0.13204572497479516,
          0.13395980214919503,
          0.13078770955910696,
          0.13019262785526634,
          0.13343160540747742,
          0.13022177382718594,
          0.13206767931843527,
          0.1305851678305324,
          0.13497727309870527,
          0.13506518166481998,
          0.1344474047387336,
          0.1333558180901191,
          0.13134647028468482,
          0.13291650654573525,
          0.13322799136584262,
          0.1328334970961906,
          0.13224962664993972,
          0.13195676665176373,
          0.1338807877993814,
          0.13311139861211735,
          0.13417014946217568,
          0.13214909551965953,
          0.13248910808488537,
          0.1324470546069716,
          0.1328541812074399,
          0.1336480519284877,
          0.13178959540756507,
          0.1328740436154364,
          0.13375447905315505,
          0.13303087603559338,
          0.12875772979081593,
          0.13237994995443936,
          0.13009832785409442,
          0.13217709602431948,
          0.13312649362127243,
          0.1334361345238109,
          0.12646847376722556,
          0.1327918591512628,
          0.13380056495185236,
          0.13389130457233359,
          0.13260689461053984,
          0.1308238857076492,
          0.1323543824661541,
          0.13113395223301014,
          0.13133351408633978,
          0.1338258360429198,
          0.13364538343330956,
          0.12802817430808566,
          0.13452363963538064,
          0.13451350872533943,
          0.13422784593545592,
          0.13330829637585173,
          0.1336615912867017,
          0.13273404833030847,
          0.1335662914232053
         ],
         "yaxis": "y10"
        },
        {
         "marker": {
          "color": [
           1,
           2,
           3,
           4,
           5,
           6,
           7,
           8,
           9,
           10,
           11,
           12,
           13,
           14,
           15,
           16,
           17,
           18,
           19,
           20,
           21,
           22,
           23,
           24,
           25,
           26,
           27,
           28,
           29,
           30,
           31,
           32,
           33,
           34,
           35,
           36,
           37,
           38,
           39,
           40,
           41,
           42,
           43,
           44,
           45,
           46,
           47,
           48,
           49,
           50,
           51,
           52,
           53,
           54,
           55,
           56,
           57,
           58,
           59,
           60,
           61,
           62,
           63,
           64,
           65,
           66,
           67,
           68,
           69,
           70,
           71,
           72,
           73,
           74,
           75,
           76,
           77,
           78,
           79,
           80,
           81,
           82,
           83,
           84,
           85,
           86,
           87,
           88,
           89,
           90,
           91,
           92,
           93,
           94,
           95,
           96,
           97,
           98
          ],
          "colorbar": {
           "title": {
            "text": "#Trials"
           },
           "x": 1,
           "xpad": 40
          },
          "colorscale": [
           [
            0,
            "rgb(247,251,255)"
           ],
           [
            0.125,
            "rgb(222,235,247)"
           ],
           [
            0.25,
            "rgb(198,219,239)"
           ],
           [
            0.375,
            "rgb(158,202,225)"
           ],
           [
            0.5,
            "rgb(107,174,214)"
           ],
           [
            0.625,
            "rgb(66,146,198)"
           ],
           [
            0.75,
            "rgb(33,113,181)"
           ],
           [
            0.875,
            "rgb(8,81,156)"
           ],
           [
            1,
            "rgb(8,48,107)"
           ]
          ],
          "line": {
           "color": "Grey",
           "width": 0.5
          },
          "showscale": false
         },
         "mode": "markers",
         "showlegend": false,
         "type": "scatter",
         "x": [
          0.6000000000000001,
          0.35,
          0.6000000000000001,
          0.35,
          0.6000000000000001,
          0.3,
          0.6000000000000001,
          0.4,
          0.65,
          0.5,
          0.45,
          0.45,
          0.75,
          0.5,
          0.25,
          0.4,
          0.5,
          0.4,
          0.7,
          0.55,
          0.5,
          0.5,
          0.45,
          0.4,
          0.55,
          0.55,
          0.35,
          0.55,
          0.55,
          0.65,
          0.65,
          0.65,
          0.65,
          0.7,
          0.7,
          0.75,
          0.6000000000000001,
          0.65,
          0.6000000000000001,
          0.6000000000000001,
          0.55,
          0.55,
          0.65,
          0.5,
          0.6000000000000001,
          0.7,
          0.45,
          0.55,
          0.65,
          0.5,
          0.75,
          0.6000000000000001,
          0.6000000000000001,
          0.6000000000000001,
          0.6000000000000001,
          0.6000000000000001,
          0.6000000000000001,
          0.55,
          0.6000000000000001,
          0.45,
          0.55,
          0.65,
          0.7,
          0.65,
          0.5,
          0.65,
          0.6000000000000001,
          0.65,
          0.6000000000000001,
          0.55,
          0.7,
          0.65,
          0.65,
          0.6000000000000001,
          0.65,
          0.55,
          0.7,
          0.5,
          0.6000000000000001,
          0.3,
          0.65,
          0.55,
          0.5,
          0.55,
          0.6000000000000001,
          0.6000000000000001,
          0.55,
          0.7,
          0.55,
          0.65,
          0.5,
          0.6000000000000001,
          0.6000000000000001,
          0.6000000000000001,
          0.6000000000000001,
          0.6000000000000001,
          0.6000000000000001,
          0.6000000000000001
         ],
         "xaxis": "x11",
         "y": [
          0.13256824012995438,
          0.13073575245267377,
          0.12552738416301393,
          0.12352042787716813,
          0.12264846734302746,
          0.13231125752822903,
          0.13091671771308194,
          0.13302804236795096,
          0.13093238402278642,
          0.1327233252821409,
          0.12782540482452984,
          0.13038488467777215,
          0.12945693670244754,
          0.13280197966163368,
          0.12886876229485938,
          0.12914363533648285,
          0.13426543312172848,
          0.13264635806859557,
          0.1315294303073725,
          0.13209808334108739,
          0.130525021597916,
          0.1326189053125227,
          0.13128442699799966,
          0.13107810520375962,
          0.13178874612315772,
          0.13343780449235557,
          0.13059845871492998,
          0.13538157631485997,
          0.13400855121640373,
          0.13426711247771245,
          0.1332151637531804,
          0.1341072133108866,
          0.13374373609160947,
          0.13179947711661574,
          0.13082860974276417,
          0.13253441977617536,
          0.12587166130943497,
          0.132937895573093,
          0.13290621153699467,
          0.13189012532384545,
          0.13295716275999986,
          0.13351205137826808,
          0.13205540534691404,
          0.13204572497479516,
          0.13395980214919503,
          0.13078770955910696,
          0.13019262785526634,
          0.13343160540747742,
          0.13022177382718594,
          0.13206767931843527,
          0.1305851678305324,
          0.13497727309870527,
          0.13506518166481998,
          0.1344474047387336,
          0.1333558180901191,
          0.13134647028468482,
          0.13291650654573525,
          0.13322799136584262,
          0.1328334970961906,
          0.13224962664993972,
          0.13195676665176373,
          0.1338807877993814,
          0.13311139861211735,
          0.13417014946217568,
          0.13214909551965953,
          0.13248910808488537,
          0.1324470546069716,
          0.1328541812074399,
          0.1336480519284877,
          0.13178959540756507,
          0.1328740436154364,
          0.13375447905315505,
          0.13303087603559338,
          0.12875772979081593,
          0.13237994995443936,
          0.13009832785409442,
          0.13217709602431948,
          0.13312649362127243,
          0.1334361345238109,
          0.12646847376722556,
          0.1327918591512628,
          0.13380056495185236,
          0.13389130457233359,
          0.13260689461053984,
          0.1308238857076492,
          0.1323543824661541,
          0.13113395223301014,
          0.13133351408633978,
          0.1338258360429198,
          0.13364538343330956,
          0.12802817430808566,
          0.13452363963538064,
          0.13451350872533943,
          0.13422784593545592,
          0.13330829637585173,
          0.1336615912867017,
          0.13273404833030847,
          0.1335662914232053
         ],
         "yaxis": "y11"
        }
       ],
       "layout": {
        "autosize": true,
        "template": {
         "data": {
          "bar": [
           {
            "error_x": {
             "color": "#2a3f5f"
            },
            "error_y": {
             "color": "#2a3f5f"
            },
            "marker": {
             "line": {
              "color": "#E5ECF6",
              "width": 0.5
             },
             "pattern": {
              "fillmode": "overlay",
              "size": 10,
              "solidity": 0.2
             }
            },
            "type": "bar"
           }
          ],
          "barpolar": [
           {
            "marker": {
             "line": {
              "color": "#E5ECF6",
              "width": 0.5
             },
             "pattern": {
              "fillmode": "overlay",
              "size": 10,
              "solidity": 0.2
             }
            },
            "type": "barpolar"
           }
          ],
          "carpet": [
           {
            "aaxis": {
             "endlinecolor": "#2a3f5f",
             "gridcolor": "white",
             "linecolor": "white",
             "minorgridcolor": "white",
             "startlinecolor": "#2a3f5f"
            },
            "baxis": {
             "endlinecolor": "#2a3f5f",
             "gridcolor": "white",
             "linecolor": "white",
             "minorgridcolor": "white",
             "startlinecolor": "#2a3f5f"
            },
            "type": "carpet"
           }
          ],
          "choropleth": [
           {
            "colorbar": {
             "outlinewidth": 0,
             "ticks": ""
            },
            "type": "choropleth"
           }
          ],
          "contour": [
           {
            "colorbar": {
             "outlinewidth": 0,
             "ticks": ""
            },
            "colorscale": [
             [
              0,
              "#0d0887"
             ],
             [
              0.1111111111111111,
              "#46039f"
             ],
             [
              0.2222222222222222,
              "#7201a8"
             ],
             [
              0.3333333333333333,
              "#9c179e"
             ],
             [
              0.4444444444444444,
              "#bd3786"
             ],
             [
              0.5555555555555556,
              "#d8576b"
             ],
             [
              0.6666666666666666,
              "#ed7953"
             ],
             [
              0.7777777777777778,
              "#fb9f3a"
             ],
             [
              0.8888888888888888,
              "#fdca26"
             ],
             [
              1,
              "#f0f921"
             ]
            ],
            "type": "contour"
           }
          ],
          "contourcarpet": [
           {
            "colorbar": {
             "outlinewidth": 0,
             "ticks": ""
            },
            "type": "contourcarpet"
           }
          ],
          "heatmap": [
           {
            "colorbar": {
             "outlinewidth": 0,
             "ticks": ""
            },
            "colorscale": [
             [
              0,
              "#0d0887"
             ],
             [
              0.1111111111111111,
              "#46039f"
             ],
             [
              0.2222222222222222,
              "#7201a8"
             ],
             [
              0.3333333333333333,
              "#9c179e"
             ],
             [
              0.4444444444444444,
              "#bd3786"
             ],
             [
              0.5555555555555556,
              "#d8576b"
             ],
             [
              0.6666666666666666,
              "#ed7953"
             ],
             [
              0.7777777777777778,
              "#fb9f3a"
             ],
             [
              0.8888888888888888,
              "#fdca26"
             ],
             [
              1,
              "#f0f921"
             ]
            ],
            "type": "heatmap"
           }
          ],
          "heatmapgl": [
           {
            "colorbar": {
             "outlinewidth": 0,
             "ticks": ""
            },
            "colorscale": [
             [
              0,
              "#0d0887"
             ],
             [
              0.1111111111111111,
              "#46039f"
             ],
             [
              0.2222222222222222,
              "#7201a8"
             ],
             [
              0.3333333333333333,
              "#9c179e"
             ],
             [
              0.4444444444444444,
              "#bd3786"
             ],
             [
              0.5555555555555556,
              "#d8576b"
             ],
             [
              0.6666666666666666,
              "#ed7953"
             ],
             [
              0.7777777777777778,
              "#fb9f3a"
             ],
             [
              0.8888888888888888,
              "#fdca26"
             ],
             [
              1,
              "#f0f921"
             ]
            ],
            "type": "heatmapgl"
           }
          ],
          "histogram": [
           {
            "marker": {
             "pattern": {
              "fillmode": "overlay",
              "size": 10,
              "solidity": 0.2
             }
            },
            "type": "histogram"
           }
          ],
          "histogram2d": [
           {
            "colorbar": {
             "outlinewidth": 0,
             "ticks": ""
            },
            "colorscale": [
             [
              0,
              "#0d0887"
             ],
             [
              0.1111111111111111,
              "#46039f"
             ],
             [
              0.2222222222222222,
              "#7201a8"
             ],
             [
              0.3333333333333333,
              "#9c179e"
             ],
             [
              0.4444444444444444,
              "#bd3786"
             ],
             [
              0.5555555555555556,
              "#d8576b"
             ],
             [
              0.6666666666666666,
              "#ed7953"
             ],
             [
              0.7777777777777778,
              "#fb9f3a"
             ],
             [
              0.8888888888888888,
              "#fdca26"
             ],
             [
              1,
              "#f0f921"
             ]
            ],
            "type": "histogram2d"
           }
          ],
          "histogram2dcontour": [
           {
            "colorbar": {
             "outlinewidth": 0,
             "ticks": ""
            },
            "colorscale": [
             [
              0,
              "#0d0887"
             ],
             [
              0.1111111111111111,
              "#46039f"
             ],
             [
              0.2222222222222222,
              "#7201a8"
             ],
             [
              0.3333333333333333,
              "#9c179e"
             ],
             [
              0.4444444444444444,
              "#bd3786"
             ],
             [
              0.5555555555555556,
              "#d8576b"
             ],
             [
              0.6666666666666666,
              "#ed7953"
             ],
             [
              0.7777777777777778,
              "#fb9f3a"
             ],
             [
              0.8888888888888888,
              "#fdca26"
             ],
             [
              1,
              "#f0f921"
             ]
            ],
            "type": "histogram2dcontour"
           }
          ],
          "mesh3d": [
           {
            "colorbar": {
             "outlinewidth": 0,
             "ticks": ""
            },
            "type": "mesh3d"
           }
          ],
          "parcoords": [
           {
            "line": {
             "colorbar": {
              "outlinewidth": 0,
              "ticks": ""
             }
            },
            "type": "parcoords"
           }
          ],
          "pie": [
           {
            "automargin": true,
            "type": "pie"
           }
          ],
          "scatter": [
           {
            "marker": {
             "colorbar": {
              "outlinewidth": 0,
              "ticks": ""
             }
            },
            "type": "scatter"
           }
          ],
          "scatter3d": [
           {
            "line": {
             "colorbar": {
              "outlinewidth": 0,
              "ticks": ""
             }
            },
            "marker": {
             "colorbar": {
              "outlinewidth": 0,
              "ticks": ""
             }
            },
            "type": "scatter3d"
           }
          ],
          "scattercarpet": [
           {
            "marker": {
             "colorbar": {
              "outlinewidth": 0,
              "ticks": ""
             }
            },
            "type": "scattercarpet"
           }
          ],
          "scattergeo": [
           {
            "marker": {
             "colorbar": {
              "outlinewidth": 0,
              "ticks": ""
             }
            },
            "type": "scattergeo"
           }
          ],
          "scattergl": [
           {
            "marker": {
             "colorbar": {
              "outlinewidth": 0,
              "ticks": ""
             }
            },
            "type": "scattergl"
           }
          ],
          "scattermapbox": [
           {
            "marker": {
             "colorbar": {
              "outlinewidth": 0,
              "ticks": ""
             }
            },
            "type": "scattermapbox"
           }
          ],
          "scatterpolar": [
           {
            "marker": {
             "colorbar": {
              "outlinewidth": 0,
              "ticks": ""
             }
            },
            "type": "scatterpolar"
           }
          ],
          "scatterpolargl": [
           {
            "marker": {
             "colorbar": {
              "outlinewidth": 0,
              "ticks": ""
             }
            },
            "type": "scatterpolargl"
           }
          ],
          "scatterternary": [
           {
            "marker": {
             "colorbar": {
              "outlinewidth": 0,
              "ticks": ""
             }
            },
            "type": "scatterternary"
           }
          ],
          "surface": [
           {
            "colorbar": {
             "outlinewidth": 0,
             "ticks": ""
            },
            "colorscale": [
             [
              0,
              "#0d0887"
             ],
             [
              0.1111111111111111,
              "#46039f"
             ],
             [
              0.2222222222222222,
              "#7201a8"
             ],
             [
              0.3333333333333333,
              "#9c179e"
             ],
             [
              0.4444444444444444,
              "#bd3786"
             ],
             [
              0.5555555555555556,
              "#d8576b"
             ],
             [
              0.6666666666666666,
              "#ed7953"
             ],
             [
              0.7777777777777778,
              "#fb9f3a"
             ],
             [
              0.8888888888888888,
              "#fdca26"
             ],
             [
              1,
              "#f0f921"
             ]
            ],
            "type": "surface"
           }
          ],
          "table": [
           {
            "cells": {
             "fill": {
              "color": "#EBF0F8"
             },
             "line": {
              "color": "white"
             }
            },
            "header": {
             "fill": {
              "color": "#C8D4E3"
             },
             "line": {
              "color": "white"
             }
            },
            "type": "table"
           }
          ]
         },
         "layout": {
          "annotationdefaults": {
           "arrowcolor": "#2a3f5f",
           "arrowhead": 0,
           "arrowwidth": 1
          },
          "autotypenumbers": "strict",
          "coloraxis": {
           "colorbar": {
            "outlinewidth": 0,
            "ticks": ""
           }
          },
          "colorscale": {
           "diverging": [
            [
             0,
             "#8e0152"
            ],
            [
             0.1,
             "#c51b7d"
            ],
            [
             0.2,
             "#de77ae"
            ],
            [
             0.3,
             "#f1b6da"
            ],
            [
             0.4,
             "#fde0ef"
            ],
            [
             0.5,
             "#f7f7f7"
            ],
            [
             0.6,
             "#e6f5d0"
            ],
            [
             0.7,
             "#b8e186"
            ],
            [
             0.8,
             "#7fbc41"
            ],
            [
             0.9,
             "#4d9221"
            ],
            [
             1,
             "#276419"
            ]
           ],
           "sequential": [
            [
             0,
             "#0d0887"
            ],
            [
             0.1111111111111111,
             "#46039f"
            ],
            [
             0.2222222222222222,
             "#7201a8"
            ],
            [
             0.3333333333333333,
             "#9c179e"
            ],
            [
             0.4444444444444444,
             "#bd3786"
            ],
            [
             0.5555555555555556,
             "#d8576b"
            ],
            [
             0.6666666666666666,
             "#ed7953"
            ],
            [
             0.7777777777777778,
             "#fb9f3a"
            ],
            [
             0.8888888888888888,
             "#fdca26"
            ],
            [
             1,
             "#f0f921"
            ]
           ],
           "sequentialminus": [
            [
             0,
             "#0d0887"
            ],
            [
             0.1111111111111111,
             "#46039f"
            ],
            [
             0.2222222222222222,
             "#7201a8"
            ],
            [
             0.3333333333333333,
             "#9c179e"
            ],
            [
             0.4444444444444444,
             "#bd3786"
            ],
            [
             0.5555555555555556,
             "#d8576b"
            ],
            [
             0.6666666666666666,
             "#ed7953"
            ],
            [
             0.7777777777777778,
             "#fb9f3a"
            ],
            [
             0.8888888888888888,
             "#fdca26"
            ],
            [
             1,
             "#f0f921"
            ]
           ]
          },
          "colorway": [
           "#636efa",
           "#EF553B",
           "#00cc96",
           "#ab63fa",
           "#FFA15A",
           "#19d3f3",
           "#FF6692",
           "#B6E880",
           "#FF97FF",
           "#FECB52"
          ],
          "font": {
           "color": "#2a3f5f"
          },
          "geo": {
           "bgcolor": "white",
           "lakecolor": "white",
           "landcolor": "#E5ECF6",
           "showlakes": true,
           "showland": true,
           "subunitcolor": "white"
          },
          "hoverlabel": {
           "align": "left"
          },
          "hovermode": "closest",
          "mapbox": {
           "style": "light"
          },
          "paper_bgcolor": "white",
          "plot_bgcolor": "#E5ECF6",
          "polar": {
           "angularaxis": {
            "gridcolor": "white",
            "linecolor": "white",
            "ticks": ""
           },
           "bgcolor": "#E5ECF6",
           "radialaxis": {
            "gridcolor": "white",
            "linecolor": "white",
            "ticks": ""
           }
          },
          "scene": {
           "xaxis": {
            "backgroundcolor": "#E5ECF6",
            "gridcolor": "white",
            "gridwidth": 2,
            "linecolor": "white",
            "showbackground": true,
            "ticks": "",
            "zerolinecolor": "white"
           },
           "yaxis": {
            "backgroundcolor": "#E5ECF6",
            "gridcolor": "white",
            "gridwidth": 2,
            "linecolor": "white",
            "showbackground": true,
            "ticks": "",
            "zerolinecolor": "white"
           },
           "zaxis": {
            "backgroundcolor": "#E5ECF6",
            "gridcolor": "white",
            "gridwidth": 2,
            "linecolor": "white",
            "showbackground": true,
            "ticks": "",
            "zerolinecolor": "white"
           }
          },
          "shapedefaults": {
           "line": {
            "color": "#2a3f5f"
           }
          },
          "ternary": {
           "aaxis": {
            "gridcolor": "white",
            "linecolor": "white",
            "ticks": ""
           },
           "baxis": {
            "gridcolor": "white",
            "linecolor": "white",
            "ticks": ""
           },
           "bgcolor": "#E5ECF6",
           "caxis": {
            "gridcolor": "white",
            "linecolor": "white",
            "ticks": ""
           }
          },
          "title": {
           "x": 0.05
          },
          "xaxis": {
           "automargin": true,
           "gridcolor": "white",
           "linecolor": "white",
           "ticks": "",
           "title": {
            "standoff": 15
           },
           "zerolinecolor": "white",
           "zerolinewidth": 2
          },
          "yaxis": {
           "automargin": true,
           "gridcolor": "white",
           "linecolor": "white",
           "ticks": "",
           "title": {
            "standoff": 15
           },
           "zerolinecolor": "white",
           "zerolinewidth": 2
          }
         }
        },
        "title": {
         "text": "Slice Plot"
        },
        "xaxis": {
         "anchor": "y",
         "autorange": true,
         "domain": [
          0,
          0.07438016528925619
         ],
         "range": [
          0.6554202192448233,
          1.0445797807551767
         ],
         "title": {
          "text": "bagging_fraction"
         },
         "type": "linear"
        },
        "xaxis10": {
         "anchor": "y10",
         "autorange": true,
         "domain": [
          0.8330578512396694,
          0.9074380165289255
         ],
         "range": [
          -7.180714070095442,
          55.72802626599779
         ],
         "title": {
          "text": "path_smooth"
         },
         "type": "linear"
        },
        "xaxis11": {
         "anchor": "y11",
         "autorange": true,
         "domain": [
          0.9256198347107437,
          0.9999999999999999
         ],
         "range": [
          0.17570036540803896,
          0.8242996345919611
         ],
         "title": {
          "text": "skip_drop"
         },
         "type": "linear"
        },
        "xaxis2": {
         "anchor": "y2",
         "autorange": true,
         "domain": [
          0.09256198347107437,
          0.16694214876033056
         ],
         "range": [
          0.027710109622411685,
          0.22228989037758834
         ],
         "title": {
          "text": "drop_rate"
         },
         "type": "linear"
        },
        "xaxis3": {
         "anchor": "y3",
         "autorange": true,
         "domain": [
          0.18512396694214875,
          0.25950413223140495
         ],
         "range": [
          0.040560292326431185,
          0.5594397076735689
         ],
         "title": {
          "text": "feature_fraction"
         },
         "type": "linear"
        },
        "xaxis4": {
         "anchor": "y4",
         "autorange": true,
         "domain": [
          0.27768595041322314,
          0.3520661157024793
         ],
         "range": [
          -3.5700819228380896,
          1.5725208903578776
         ],
         "title": {
          "text": "lambda_l1"
         },
         "type": "log"
        },
        "xaxis5": {
         "anchor": "y5",
         "autorange": true,
         "domain": [
          0.3702479338842975,
          0.44462809917355367
         ],
         "range": [
          -3.5793501423779097,
          1.49762565347048
         ],
         "title": {
          "text": "lambda_l2"
         },
         "type": "log"
        },
        "xaxis6": {
         "anchor": "y6",
         "autorange": true,
         "domain": [
          0.46280991735537186,
          0.5371900826446281
         ],
         "range": [
          4.0560292326431195,
          55.94397076735688
         ],
         "title": {
          "text": "max_drop"
         },
         "type": "linear"
        },
        "xaxis7": {
         "anchor": "y7",
         "autorange": true,
         "domain": [
          0.5553719008264462,
          0.6297520661157023
         ],
         "range": [
          277.1010962241169,
          2222.8989037758834
         ],
         "title": {
          "text": "min_data_in_leaf"
         },
         "type": "linear"
        },
        "xaxis8": {
         "anchor": "y8",
         "autorange": true,
         "domain": [
          0.6479338842975206,
          0.7223140495867768
         ],
         "range": [
          277.1010962241169,
          2222.8989037758834
         ],
         "title": {
          "text": "num_iterations"
         },
         "type": "linear"
        },
        "xaxis9": {
         "anchor": "y9",
         "autorange": true,
         "domain": [
          0.740495867768595,
          0.8148760330578512
         ],
         "range": [
          6,
          8
         ],
         "title": {
          "text": "num_leaves_exp"
         },
         "type": "linear"
        },
        "yaxis": {
         "anchor": "x",
         "autorange": true,
         "domain": [
          0,
          1
         ],
         "range": [
          0.12159767679680827,
          0.13643236686107915
         ],
         "title": {
          "text": "Objective Value"
         },
         "type": "linear"
        },
        "yaxis10": {
         "anchor": "x10",
         "autorange": true,
         "domain": [
          0,
          1
         ],
         "matches": "y",
         "range": [
          0.12159767679680827,
          0.13643236686107915
         ],
         "showticklabels": false,
         "type": "linear"
        },
        "yaxis11": {
         "anchor": "x11",
         "autorange": true,
         "domain": [
          0,
          1
         ],
         "matches": "y",
         "range": [
          0.12159767679680827,
          0.13643236686107915
         ],
         "showticklabels": false,
         "type": "linear"
        },
        "yaxis2": {
         "anchor": "x2",
         "autorange": true,
         "domain": [
          0,
          1
         ],
         "matches": "y",
         "range": [
          0.12159767679680827,
          0.13643236686107915
         ],
         "showticklabels": false,
         "type": "linear"
        },
        "yaxis3": {
         "anchor": "x3",
         "autorange": true,
         "domain": [
          0,
          1
         ],
         "matches": "y",
         "range": [
          0.12159767679680827,
          0.13643236686107915
         ],
         "showticklabels": false,
         "type": "linear"
        },
        "yaxis4": {
         "anchor": "x4",
         "autorange": true,
         "domain": [
          0,
          1
         ],
         "matches": "y",
         "range": [
          0.12159767679680827,
          0.13643236686107915
         ],
         "showticklabels": false,
         "type": "linear"
        },
        "yaxis5": {
         "anchor": "x5",
         "autorange": true,
         "domain": [
          0,
          1
         ],
         "matches": "y",
         "range": [
          0.12159767679680827,
          0.13643236686107915
         ],
         "showticklabels": false,
         "type": "linear"
        },
        "yaxis6": {
         "anchor": "x6",
         "autorange": true,
         "domain": [
          0,
          1
         ],
         "matches": "y",
         "range": [
          0.12159767679680827,
          0.13643236686107915
         ],
         "showticklabels": false,
         "type": "linear"
        },
        "yaxis7": {
         "anchor": "x7",
         "autorange": true,
         "domain": [
          0,
          1
         ],
         "matches": "y",
         "range": [
          0.12159767679680827,
          0.13643236686107915
         ],
         "showticklabels": false,
         "type": "linear"
        },
        "yaxis8": {
         "anchor": "x8",
         "autorange": true,
         "domain": [
          0,
          1
         ],
         "matches": "y",
         "range": [
          0.12159767679680827,
          0.13643236686107915
         ],
         "showticklabels": false,
         "type": "linear"
        },
        "yaxis9": {
         "anchor": "x9",
         "autorange": true,
         "domain": [
          0,
          1
         ],
         "matches": "y",
         "range": [
          0.12159767679680827,
          0.13643236686107915
         ],
         "showticklabels": false,
         "type": "linear"
        }
       }
      },
      "image/png": "[encoded data removed]"
     },
     "metadata": {},
     "output_type": "display_data"
    }
   ],
   "source": [
    "plot_slice(study)"
   ]
  },
  {
   "cell_type": "code",
   "execution_count": 16,
   "id": "09e43f27-4c48-4a2f-ac8d-fc415c9b45b1",
   "metadata": {},
   "outputs": [
    {
     "data": {
      "application/vnd.plotly.v1+json": {
       "config": {
        "plotlyServerURL": "https://plot.ly"
       },
       "data": [
        {
         "mode": "lines",
         "name": "lgbm-dart",
         "type": "scatter",
         "x": [
          0.12264846734302746,
          0.12277708460536921,
          0.12290570186771095,
          0.1230343191300527,
          0.12316293639239444,
          0.12329155365473618,
          0.12342017091707792,
          0.12354878817941967,
          0.12367740544176141,
          0.12380602270410315,
          0.1239346399664449,
          0.12406325722878664,
          0.12419187449112837,
          0.12432049175347011,
          0.12444910901581185,
          0.1245777262781536,
          0.12470634354049534,
          0.12483496080283708,
          0.12496357806517883,
          0.12509219532752058,
          0.1252208125898623,
          0.12534942985220407,
          0.1254780471145458,
          0.12560666437688756,
          0.12573528163922928,
          0.12586389890157101,
          0.12599251616391277,
          0.1261211334262545,
          0.12624975068859626,
          0.126378367950938,
          0.12650698521327974,
          0.12663560247562147,
          0.12676421973796323,
          0.12689283700030496,
          0.12702145426264672,
          0.12715007152498845,
          0.1272786887873302,
          0.12740730604967193,
          0.1275359233120137,
          0.12766454057435542,
          0.12779315783669717,
          0.1279217750990389,
          0.12805039236138066,
          0.1281790096237224,
          0.12830762688606415,
          0.12843624414840588,
          0.12856486141074763,
          0.12869347867308936,
          0.1288220959354311,
          0.12895071319777285,
          0.12907933046011458,
          0.12920794772245633,
          0.12933656498479806,
          0.12946518224713982,
          0.12959379950948155,
          0.1297224167718233,
          0.12985103403416504,
          0.1299796512965068,
          0.13010826855884852,
          0.13023688582119028,
          0.130365503083532,
          0.13049412034587377,
          0.1306227376082155,
          0.13075135487055725,
          0.13087997213289898,
          0.13100858939524074,
          0.13113720665758247,
          0.13126582391992422,
          0.13139444118226595,
          0.1315230584446077,
          0.13165167570694944,
          0.1317802929692912,
          0.13190891023163293,
          0.13203752749397468,
          0.1321661447563164,
          0.13229476201865814,
          0.1324233792809999,
          0.13255199654334163,
          0.13268061380568338,
          0.1328092310680251,
          0.13293784833036687,
          0.1330664655927086,
          0.13319508285505036,
          0.13332370011739209,
          0.13345231737973384,
          0.13358093464207557,
          0.13370955190441733,
          0.13383816916675906,
          0.13396678642910081,
          0.13409540369144254,
          0.1342240209537843,
          0.13435263821612603,
          0.1344812554784678,
          0.13460987274080952,
          0.13473849000315127,
          0.134867107265493,
          0.13499572452783476,
          0.1351243417901765,
          0.13525295905251822,
          0.13538157631485997
         ],
         "y": [
          0.01020408163265306,
          0.01020408163265306,
          0.01020408163265306,
          0.01020408163265306,
          0.01020408163265306,
          0.01020408163265306,
          0.01020408163265306,
          0.02040816326530612,
          0.02040816326530612,
          0.02040816326530612,
          0.02040816326530612,
          0.02040816326530612,
          0.02040816326530612,
          0.02040816326530612,
          0.02040816326530612,
          0.02040816326530612,
          0.02040816326530612,
          0.02040816326530612,
          0.02040816326530612,
          0.02040816326530612,
          0.02040816326530612,
          0.02040816326530612,
          0.02040816326530612,
          0.030612244897959183,
          0.030612244897959183,
          0.030612244897959183,
          0.04081632653061224,
          0.04081632653061224,
          0.04081632653061224,
          0.04081632653061224,
          0.05102040816326531,
          0.05102040816326531,
          0.05102040816326531,
          0.05102040816326531,
          0.05102040816326531,
          0.05102040816326531,
          0.05102040816326531,
          0.05102040816326531,
          0.05102040816326531,
          0.05102040816326531,
          0.05102040816326531,
          0.061224489795918366,
          0.07142857142857142,
          0.07142857142857142,
          0.07142857142857142,
          0.07142857142857142,
          0.07142857142857142,
          0.07142857142857142,
          0.08163265306122448,
          0.09183673469387756,
          0.09183673469387756,
          0.10204081632653061,
          0.10204081632653061,
          0.11224489795918367,
          0.11224489795918367,
          0.11224489795918367,
          0.11224489795918367,
          0.11224489795918367,
          0.12244897959183673,
          0.14285714285714285,
          0.14285714285714285,
          0.15306122448979592,
          0.1836734693877551,
          0.19387755102040816,
          0.22448979591836735,
          0.24489795918367346,
          0.2653061224489796,
          0.2653061224489796,
          0.29591836734693877,
          0.29591836734693877,
          0.30612244897959184,
          0.30612244897959184,
          0.3469387755102041,
          0.35714285714285715,
          0.40816326530612246,
          0.42857142857142855,
          0.45918367346938777,
          0.4897959183673469,
          0.5306122448979592,
          0.5714285714285714,
          0.6224489795918368,
          0.6632653061224489,
          0.6836734693877551,
          0.7142857142857143,
          0.7551020408163265,
          0.7755102040816326,
          0.8061224489795918,
          0.8469387755102041,
          0.8775510204081632,
          0.8877551020408163,
          0.9081632653061225,
          0.9387755102040817,
          0.9489795918367347,
          0.9693877551020408,
          0.9693877551020408,
          0.9693877551020408,
          0.9795918367346939,
          0.9897959183673469,
          0.9897959183673469,
          1
         ]
        }
       ],
       "layout": {
        "autosize": true,
        "template": {
         "data": {
          "bar": [
           {
            "error_x": {
             "color": "#2a3f5f"
            },
            "error_y": {
             "color": "#2a3f5f"
            },
            "marker": {
             "line": {
              "color": "#E5ECF6",
              "width": 0.5
             },
             "pattern": {
              "fillmode": "overlay",
              "size": 10,
              "solidity": 0.2
             }
            },
            "type": "bar"
           }
          ],
          "barpolar": [
           {
            "marker": {
             "line": {
              "color": "#E5ECF6",
              "width": 0.5
             },
             "pattern": {
              "fillmode": "overlay",
              "size": 10,
              "solidity": 0.2
             }
            },
            "type": "barpolar"
           }
          ],
          "carpet": [
           {
            "aaxis": {
             "endlinecolor": "#2a3f5f",
             "gridcolor": "white",
             "linecolor": "white",
             "minorgridcolor": "white",
             "startlinecolor": "#2a3f5f"
            },
            "baxis": {
             "endlinecolor": "#2a3f5f",
             "gridcolor": "white",
             "linecolor": "white",
             "minorgridcolor": "white",
             "startlinecolor": "#2a3f5f"
            },
            "type": "carpet"
           }
          ],
          "choropleth": [
           {
            "colorbar": {
             "outlinewidth": 0,
             "ticks": ""
            },
            "type": "choropleth"
           }
          ],
          "contour": [
           {
            "colorbar": {
             "outlinewidth": 0,
             "ticks": ""
            },
            "colorscale": [
             [
              0,
              "#0d0887"
             ],
             [
              0.1111111111111111,
              "#46039f"
             ],
             [
              0.2222222222222222,
              "#7201a8"
             ],
             [
              0.3333333333333333,
              "#9c179e"
             ],
             [
              0.4444444444444444,
              "#bd3786"
             ],
             [
              0.5555555555555556,
              "#d8576b"
             ],
             [
              0.6666666666666666,
              "#ed7953"
             ],
             [
              0.7777777777777778,
              "#fb9f3a"
             ],
             [
              0.8888888888888888,
              "#fdca26"
             ],
             [
              1,
              "#f0f921"
             ]
            ],
            "type": "contour"
           }
          ],
          "contourcarpet": [
           {
            "colorbar": {
             "outlinewidth": 0,
             "ticks": ""
            },
            "type": "contourcarpet"
           }
          ],
          "heatmap": [
           {
            "colorbar": {
             "outlinewidth": 0,
             "ticks": ""
            },
            "colorscale": [
             [
              0,
              "#0d0887"
             ],
             [
              0.1111111111111111,
              "#46039f"
             ],
             [
              0.2222222222222222,
              "#7201a8"
             ],
             [
              0.3333333333333333,
              "#9c179e"
             ],
             [
              0.4444444444444444,
              "#bd3786"
             ],
             [
              0.5555555555555556,
              "#d8576b"
             ],
             [
              0.6666666666666666,
              "#ed7953"
             ],
             [
              0.7777777777777778,
              "#fb9f3a"
             ],
             [
              0.8888888888888888,
              "#fdca26"
             ],
             [
              1,
              "#f0f921"
             ]
            ],
            "type": "heatmap"
           }
          ],
          "heatmapgl": [
           {
            "colorbar": {
             "outlinewidth": 0,
             "ticks": ""
            },
            "colorscale": [
             [
              0,
              "#0d0887"
             ],
             [
              0.1111111111111111,
              "#46039f"
             ],
             [
              0.2222222222222222,
              "#7201a8"
             ],
             [
              0.3333333333333333,
              "#9c179e"
             ],
             [
              0.4444444444444444,
              "#bd3786"
             ],
             [
              0.5555555555555556,
              "#d8576b"
             ],
             [
              0.6666666666666666,
              "#ed7953"
             ],
             [
              0.7777777777777778,
              "#fb9f3a"
             ],
             [
              0.8888888888888888,
              "#fdca26"
             ],
             [
              1,
              "#f0f921"
             ]
            ],
            "type": "heatmapgl"
           }
          ],
          "histogram": [
           {
            "marker": {
             "pattern": {
              "fillmode": "overlay",
              "size": 10,
              "solidity": 0.2
             }
            },
            "type": "histogram"
           }
          ],
          "histogram2d": [
           {
            "colorbar": {
             "outlinewidth": 0,
             "ticks": ""
            },
            "colorscale": [
             [
              0,
              "#0d0887"
             ],
             [
              0.1111111111111111,
              "#46039f"
             ],
             [
              0.2222222222222222,
              "#7201a8"
             ],
             [
              0.3333333333333333,
              "#9c179e"
             ],
             [
              0.4444444444444444,
              "#bd3786"
             ],
             [
              0.5555555555555556,
              "#d8576b"
             ],
             [
              0.6666666666666666,
              "#ed7953"
             ],
             [
              0.7777777777777778,
              "#fb9f3a"
             ],
             [
              0.8888888888888888,
              "#fdca26"
             ],
             [
              1,
              "#f0f921"
             ]
            ],
            "type": "histogram2d"
           }
          ],
          "histogram2dcontour": [
           {
            "colorbar": {
             "outlinewidth": 0,
             "ticks": ""
            },
            "colorscale": [
             [
              0,
              "#0d0887"
             ],
             [
              0.1111111111111111,
              "#46039f"
             ],
             [
              0.2222222222222222,
              "#7201a8"
             ],
             [
              0.3333333333333333,
              "#9c179e"
             ],
             [
              0.4444444444444444,
              "#bd3786"
             ],
             [
              0.5555555555555556,
              "#d8576b"
             ],
             [
              0.6666666666666666,
              "#ed7953"
             ],
             [
              0.7777777777777778,
              "#fb9f3a"
             ],
             [
              0.8888888888888888,
              "#fdca26"
             ],
             [
              1,
              "#f0f921"
             ]
            ],
            "type": "histogram2dcontour"
           }
          ],
          "mesh3d": [
           {
            "colorbar": {
             "outlinewidth": 0,
             "ticks": ""
            },
            "type": "mesh3d"
           }
          ],
          "parcoords": [
           {
            "line": {
             "colorbar": {
              "outlinewidth": 0,
              "ticks": ""
             }
            },
            "type": "parcoords"
           }
          ],
          "pie": [
           {
            "automargin": true,
            "type": "pie"
           }
          ],
          "scatter": [
           {
            "marker": {
             "colorbar": {
              "outlinewidth": 0,
              "ticks": ""
             }
            },
            "type": "scatter"
           }
          ],
          "scatter3d": [
           {
            "line": {
             "colorbar": {
              "outlinewidth": 0,
              "ticks": ""
             }
            },
            "marker": {
             "colorbar": {
              "outlinewidth": 0,
              "ticks": ""
             }
            },
            "type": "scatter3d"
           }
          ],
          "scattercarpet": [
           {
            "marker": {
             "colorbar": {
              "outlinewidth": 0,
              "ticks": ""
             }
            },
            "type": "scattercarpet"
           }
          ],
          "scattergeo": [
           {
            "marker": {
             "colorbar": {
              "outlinewidth": 0,
              "ticks": ""
             }
            },
            "type": "scattergeo"
           }
          ],
          "scattergl": [
           {
            "marker": {
             "colorbar": {
              "outlinewidth": 0,
              "ticks": ""
             }
            },
            "type": "scattergl"
           }
          ],
          "scattermapbox": [
           {
            "marker": {
             "colorbar": {
              "outlinewidth": 0,
              "ticks": ""
             }
            },
            "type": "scattermapbox"
           }
          ],
          "scatterpolar": [
           {
            "marker": {
             "colorbar": {
              "outlinewidth": 0,
              "ticks": ""
             }
            },
            "type": "scatterpolar"
           }
          ],
          "scatterpolargl": [
           {
            "marker": {
             "colorbar": {
              "outlinewidth": 0,
              "ticks": ""
             }
            },
            "type": "scatterpolargl"
           }
          ],
          "scatterternary": [
           {
            "marker": {
             "colorbar": {
              "outlinewidth": 0,
              "ticks": ""
             }
            },
            "type": "scatterternary"
           }
          ],
          "surface": [
           {
            "colorbar": {
             "outlinewidth": 0,
             "ticks": ""
            },
            "colorscale": [
             [
              0,
              "#0d0887"
             ],
             [
              0.1111111111111111,
              "#46039f"
             ],
             [
              0.2222222222222222,
              "#7201a8"
             ],
             [
              0.3333333333333333,
              "#9c179e"
             ],
             [
              0.4444444444444444,
              "#bd3786"
             ],
             [
              0.5555555555555556,
              "#d8576b"
             ],
             [
              0.6666666666666666,
              "#ed7953"
             ],
             [
              0.7777777777777778,
              "#fb9f3a"
             ],
             [
              0.8888888888888888,
              "#fdca26"
             ],
             [
              1,
              "#f0f921"
             ]
            ],
            "type": "surface"
           }
          ],
          "table": [
           {
            "cells": {
             "fill": {
              "color": "#EBF0F8"
             },
             "line": {
              "color": "white"
             }
            },
            "header": {
             "fill": {
              "color": "#C8D4E3"
             },
             "line": {
              "color": "white"
             }
            },
            "type": "table"
           }
          ]
         },
         "layout": {
          "annotationdefaults": {
           "arrowcolor": "#2a3f5f",
           "arrowhead": 0,
           "arrowwidth": 1
          },
          "autotypenumbers": "strict",
          "coloraxis": {
           "colorbar": {
            "outlinewidth": 0,
            "ticks": ""
           }
          },
          "colorscale": {
           "diverging": [
            [
             0,
             "#8e0152"
            ],
            [
             0.1,
             "#c51b7d"
            ],
            [
             0.2,
             "#de77ae"
            ],
            [
             0.3,
             "#f1b6da"
            ],
            [
             0.4,
             "#fde0ef"
            ],
            [
             0.5,
             "#f7f7f7"
            ],
            [
             0.6,
             "#e6f5d0"
            ],
            [
             0.7,
             "#b8e186"
            ],
            [
             0.8,
             "#7fbc41"
            ],
            [
             0.9,
             "#4d9221"
            ],
            [
             1,
             "#276419"
            ]
           ],
           "sequential": [
            [
             0,
             "#0d0887"
            ],
            [
             0.1111111111111111,
             "#46039f"
            ],
            [
             0.2222222222222222,
             "#7201a8"
            ],
            [
             0.3333333333333333,
             "#9c179e"
            ],
            [
             0.4444444444444444,
             "#bd3786"
            ],
            [
             0.5555555555555556,
             "#d8576b"
            ],
            [
             0.6666666666666666,
             "#ed7953"
            ],
            [
             0.7777777777777778,
             "#fb9f3a"
            ],
            [
             0.8888888888888888,
             "#fdca26"
            ],
            [
             1,
             "#f0f921"
            ]
           ],
           "sequentialminus": [
            [
             0,
             "#0d0887"
            ],
            [
             0.1111111111111111,
             "#46039f"
            ],
            [
             0.2222222222222222,
             "#7201a8"
            ],
            [
             0.3333333333333333,
             "#9c179e"
            ],
            [
             0.4444444444444444,
             "#bd3786"
            ],
            [
             0.5555555555555556,
             "#d8576b"
            ],
            [
             0.6666666666666666,
             "#ed7953"
            ],
            [
             0.7777777777777778,
             "#fb9f3a"
            ],
            [
             0.8888888888888888,
             "#fdca26"
            ],
            [
             1,
             "#f0f921"
            ]
           ]
          },
          "colorway": [
           "#636efa",
           "#EF553B",
           "#00cc96",
           "#ab63fa",
           "#FFA15A",
           "#19d3f3",
           "#FF6692",
           "#B6E880",
           "#FF97FF",
           "#FECB52"
          ],
          "font": {
           "color": "#2a3f5f"
          },
          "geo": {
           "bgcolor": "white",
           "lakecolor": "white",
           "landcolor": "#E5ECF6",
           "showlakes": true,
           "showland": true,
           "subunitcolor": "white"
          },
          "hoverlabel": {
           "align": "left"
          },
          "hovermode": "closest",
          "mapbox": {
           "style": "light"
          },
          "paper_bgcolor": "white",
          "plot_bgcolor": "#E5ECF6",
          "polar": {
           "angularaxis": {
            "gridcolor": "white",
            "linecolor": "white",
            "ticks": ""
           },
           "bgcolor": "#E5ECF6",
           "radialaxis": {
            "gridcolor": "white",
            "linecolor": "white",
            "ticks": ""
           }
          },
          "scene": {
           "xaxis": {
            "backgroundcolor": "#E5ECF6",
            "gridcolor": "white",
            "gridwidth": 2,
            "linecolor": "white",
            "showbackground": true,
            "ticks": "",
            "zerolinecolor": "white"
           },
           "yaxis": {
            "backgroundcolor": "#E5ECF6",
            "gridcolor": "white",
            "gridwidth": 2,
            "linecolor": "white",
            "showbackground": true,
            "ticks": "",
            "zerolinecolor": "white"
           },
           "zaxis": {
            "backgroundcolor": "#E5ECF6",
            "gridcolor": "white",
            "gridwidth": 2,
            "linecolor": "white",
            "showbackground": true,
            "ticks": "",
            "zerolinecolor": "white"
           }
          },
          "shapedefaults": {
           "line": {
            "color": "#2a3f5f"
           }
          },
          "ternary": {
           "aaxis": {
            "gridcolor": "white",
            "linecolor": "white",
            "ticks": ""
           },
           "baxis": {
            "gridcolor": "white",
            "linecolor": "white",
            "ticks": ""
           },
           "bgcolor": "#E5ECF6",
           "caxis": {
            "gridcolor": "white",
            "linecolor": "white",
            "ticks": ""
           }
          },
          "title": {
           "x": 0.05
          },
          "xaxis": {
           "automargin": true,
           "gridcolor": "white",
           "linecolor": "white",
           "ticks": "",
           "title": {
            "standoff": 15
           },
           "zerolinecolor": "white",
           "zerolinewidth": 2
          },
          "yaxis": {
           "automargin": true,
           "gridcolor": "white",
           "linecolor": "white",
           "ticks": "",
           "title": {
            "standoff": 15
           },
           "zerolinecolor": "white",
           "zerolinewidth": 2
          }
         }
        },
        "title": {
         "text": "Empirical Distribution Function Plot"
        },
        "xaxis": {
         "autorange": true,
         "range": [
          0.12264846734302746,
          0.13538157631485997
         ],
         "title": {
          "text": "Objective Value"
         },
         "type": "linear"
        },
        "yaxis": {
         "range": [
          0,
          1
         ],
         "title": {
          "text": "Cumulative Probability"
         },
         "type": "linear"
        }
       }
      },
      "image/png": "[encoded data removed]"
     },
     "metadata": {},
     "output_type": "display_data"
    }
   ],
   "source": [
    "plot_edf(study)"
   ]
  },
  {
   "cell_type": "code",
   "execution_count": 17,
   "id": "bb491f04-2b3e-49ed-ac73-b09ad06a1b99",
   "metadata": {},
   "outputs": [
    {
     "data": {
      "application/vnd.plotly.v1+json": {
       "config": {
        "plotlyServerURL": "https://plot.ly"
       },
       "data": [
        {
         "dimensions": [
          {
           "label": "Objective Value",
           "range": [
            0.12264846734302746,
            0.13538157631485997
           ],
           "values": [
            0.13256824012995438,
            0.13073575245267377,
            0.12552738416301393,
            0.12352042787716813,
            0.12264846734302746,
            0.13231125752822903,
            0.13091671771308194,
            0.13302804236795096,
            0.13093238402278642,
            0.1327233252821409,
            0.12782540482452984,
            0.13038488467777215,
            0.12945693670244754,
            0.13280197966163368,
            0.12886876229485938,
            0.12914363533648285,
            0.13426543312172848,
            0.13264635806859557,
            0.1315294303073725,
            0.13209808334108739,
            0.130525021597916,
            0.1326189053125227,
            0.13128442699799966,
            0.13107810520375962,
            0.13178874612315772,
            0.13343780449235557,
            0.13059845871492998,
            0.13538157631485997,
            0.13400855121640373,
            0.13426711247771245,
            0.1332151637531804,
            0.1341072133108866,
            0.13374373609160947,
            0.13179947711661574,
            0.13082860974276417,
            0.13253441977617536,
            0.12587166130943497,
            0.132937895573093,
            0.13290621153699467,
            0.13189012532384545,
            0.13295716275999986,
            0.13351205137826808,
            0.13205540534691404,
            0.13204572497479516,
            0.13395980214919503,
            0.13078770955910696,
            0.13019262785526634,
            0.13343160540747742,
            0.13022177382718594,
            0.13206767931843527,
            0.1305851678305324,
            0.13497727309870527,
            0.13506518166481998,
            0.1344474047387336,
            0.1333558180901191,
            0.13134647028468482,
            0.13291650654573525,
            0.13322799136584262,
            0.1328334970961906,
            0.13224962664993972,
            0.13195676665176373,
            0.1338807877993814,
            0.13311139861211735,
            0.13417014946217568,
            0.13214909551965953,
            0.13248910808488537,
            0.1324470546069716,
            0.1328541812074399,
            0.1336480519284877,
            0.13178959540756507,
            0.1328740436154364,
            0.13375447905315505,
            0.13303087603559338,
            0.12875772979081593,
            0.13237994995443936,
            0.13009832785409442,
            0.13217709602431948,
            0.13312649362127243,
            0.1334361345238109,
            0.12646847376722556,
            0.1327918591512628,
            0.13380056495185236,
            0.13389130457233359,
            0.13260689461053984,
            0.1308238857076492,
            0.1323543824661541,
            0.13113395223301014,
            0.13133351408633978,
            0.1338258360429198,
            0.13364538343330956,
            0.12802817430808566,
            0.13452363963538064,
            0.13451350872533943,
            0.13422784593545592,
            0.13330829637585173,
            0.1336615912867017,
            0.13273404833030847,
            0.1335662914232053
           ]
          },
          {
           "label": "bagging_fraction",
           "range": [
            0.7,
            1
           ],
           "values": [
            0.85,
            0.7,
            1,
            0.7999999999999999,
            0.8999999999999999,
            0.85,
            0.8999999999999999,
            0.8999999999999999,
            0.85,
            0.7,
            1,
            0.7,
            0.75,
            0.95,
            0.95,
            0.95,
            0.95,
            0.8999999999999999,
            0.7999999999999999,
            0.95,
            1,
            0.95,
            0.8999999999999999,
            0.95,
            0.8999999999999999,
            1,
            1,
            1,
            1,
            1,
            1,
            1,
            1,
            0.95,
            1,
            1,
            0.95,
            0.95,
            1,
            0.7999999999999999,
            1,
            1,
            1,
            1,
            0.95,
            1,
            0.85,
            0.95,
            0.75,
            0.8999999999999999,
            0.95,
            0.95,
            1,
            0.8999999999999999,
            0.8999999999999999,
            0.8999999999999999,
            0.85,
            0.95,
            0.95,
            0.8999999999999999,
            0.8999999999999999,
            1,
            0.95,
            1,
            1,
            0.95,
            0.95,
            1,
            1,
            1,
            0.95,
            1,
            1,
            1,
            1,
            0.95,
            1,
            0.95,
            1,
            1,
            0.8999999999999999,
            1,
            1,
            1,
            1,
            0.95,
            1,
            0.85,
            1,
            0.95,
            1,
            0.95,
            0.95,
            0.8999999999999999,
            0.8999999999999999,
            0.8999999999999999,
            0.85,
            0.95
           ]
          },
          {
           "label": "drop_rate",
           "range": [
            0.05,
            0.2
           ],
           "values": [
            0.05,
            0.19,
            0.14,
            0.16999999999999998,
            0.060000000000000005,
            0.11,
            0.11,
            0.05,
            0.16999999999999998,
            0.18,
            0.08,
            0.14,
            0.2,
            0.08,
            0.08,
            0.08,
            0.060000000000000005,
            0.05,
            0.1,
            0.07,
            0.1,
            0.060000000000000005,
            0.07,
            0.05,
            0.09,
            0.07,
            0.13,
            0.060000000000000005,
            0.07,
            0.060000000000000005,
            0.060000000000000005,
            0.060000000000000005,
            0.05,
            0.09,
            0.060000000000000005,
            0.15000000000000002,
            0.09,
            0.060000000000000005,
            0.12000000000000001,
            0.1,
            0.05,
            0.07,
            0.060000000000000005,
            0.07,
            0.05,
            0.07,
            0.08,
            0.060000000000000005,
            0.09,
            0.16,
            0.08,
            0.05,
            0.05,
            0.05,
            0.05,
            0.05,
            0.05,
            0.060000000000000005,
            0.05,
            0.060000000000000005,
            0.07,
            0.060000000000000005,
            0.05,
            0.060000000000000005,
            0.08,
            0.2,
            0.060000000000000005,
            0.07,
            0.05,
            0.19,
            0.07,
            0.060000000000000005,
            0.060000000000000005,
            0.05,
            0.07,
            0.060000000000000005,
            0.05,
            0.08,
            0.060000000000000005,
            0.12000000000000001,
            0.060000000000000005,
            0.07,
            0.05,
            0.05,
            0.07,
            0.060000000000000005,
            0.14,
            0.07,
            0.060000000000000005,
            0.05,
            0.060000000000000005,
            0.05,
            0.05,
            0.05,
            0.05,
            0.05,
            0.05,
            0.05
           ]
          },
          {
           "label": "feature_fraction",
           "range": [
            0.1,
            0.5
           ],
           "values": [
            0.2,
            0.25,
            0.30000000000000004,
            0.35,
            0.1,
            0.2,
            0.1,
            0.25,
            0.1,
            0.2,
            0.5,
            0.4,
            0.2,
            0.30000000000000004,
            0.4,
            0.30000000000000004,
            0.35,
            0.5,
            0.4,
            0.35,
            0.45000000000000007,
            0.30000000000000004,
            0.35,
            0.25,
            0.25,
            0.15000000000000002,
            0.15000000000000002,
            0.15000000000000002,
            0.15000000000000002,
            0.15000000000000002,
            0.15000000000000002,
            0.15000000000000002,
            0.15000000000000002,
            0.2,
            0.1,
            0.25,
            0.1,
            0.15000000000000002,
            0.35,
            0.2,
            0.25,
            0.15000000000000002,
            0.1,
            0.2,
            0.15000000000000002,
            0.1,
            0.2,
            0.15000000000000002,
            0.1,
            0.2,
            0.45000000000000007,
            0.15000000000000002,
            0.15000000000000002,
            0.2,
            0.2,
            0.1,
            0.25,
            0.35,
            0.30000000000000004,
            0.15000000000000002,
            0.4,
            0.15000000000000002,
            0.15000000000000002,
            0.2,
            0.2,
            0.2,
            0.2,
            0.30000000000000004,
            0.15000000000000002,
            0.1,
            0.25,
            0.15000000000000002,
            0.35,
            0.15000000000000002,
            0.15000000000000002,
            0.1,
            0.2,
            0.15000000000000002,
            0.2,
            0.1,
            0.30000000000000004,
            0.15000000000000002,
            0.15000000000000002,
            0.15000000000000002,
            0.1,
            0.2,
            0.15000000000000002,
            0.4,
            0.15000000000000002,
            0.2,
            0.1,
            0.15000000000000002,
            0.15000000000000002,
            0.15000000000000002,
            0.15000000000000002,
            0.45000000000000007,
            0.25,
            0.15000000000000002
           ]
          },
          {
           "label": "lambda_l1",
           "range": [
            -2.9809762484625892,
            0.983415215982377
           ],
           "ticktext": [
            "0.00104",
            "0.01",
            "0.1",
            "1",
            "9.63"
           ],
           "tickvals": [
            -2.9809762484625892,
            -2,
            -1,
            0,
            0.983415215982377
           ],
           "values": [
            -1.0698438766882483,
            -1.5077795865087318,
            -1.3691178833723878,
            -1.3566909462764458,
            -1.511966523169183,
            -2.8553786264293404,
            -0.7922122627670852,
            0.3006253429305015,
            -2.637613081225949,
            -2.3457652233820157,
            0.6712185730700948,
            0.5934673652489842,
            -0.08774593952262584,
            -2.124856148837469,
            -0.3865024152416805,
            -2.129978076779396,
            0.13402840376333264,
            0.11318200519715606,
            0.8829052572287022,
            0.2393996824561687,
            -0.45854715791890466,
            -1.9233616323304301,
            0.3948387302937625,
            -0.35872467882967357,
            0.983415215982377,
            -0.7566079050244856,
            -0.7426481605125986,
            -0.02161607847409575,
            -0.03218216690406472,
            -0.06228626635558439,
            -0.2270971645327063,
            0.0051385460203493575,
            0.5076614741196792,
            0.08924320457003464,
            -1.1155743129804963,
            -0.6036643807160085,
            -0.08909582073671217,
            -0.9766610671678334,
            0.7774993908429635,
            0.34955857218698383,
            0.1501106147258433,
            -0.13166036342494566,
            0.00939460147415078,
            -0.2626540536646316,
            -0.5557591590357176,
            0.455972471754301,
            0.6495972818925879,
            0.23626025695288605,
            -0.021435643932441233,
            -1.0332079268228676,
            -0.25328759707158716,
            -0.5589085517624703,
            -0.5403940800261039,
            -0.5669348028716531,
            -1.216070571244038,
            -0.8925606987224324,
            -0.5800183601984474,
            -1.560377152406216,
            -0.4997995908654133,
            -0.3762367269188398,
            -0.6614316184106573,
            -0.2180638377038712,
            -0.40975741992233883,
            -0.8357828250700338,
            -0.8631491939893842,
            -0.7081828974706165,
            -1.4636430173929436,
            -1.246822203519943,
            -2.9809762484625892,
            -0.8520779685987376,
            0.2150710652280368,
            -0.30572999558902,
            0.03712505573279756,
            -0.1638050724705898,
            -0.47229248539689905,
            0.11490581805785072,
            -0.6725171275824842,
            -0.9533677359612348,
            0.543107979207885,
            0.32284675510182187,
            -0.12630000478307374,
            -0.028585418714117575,
            0.22375778228019533,
            0.41387385916440866,
            -0.33999985820686146,
            -0.7883734409803511,
            -1.1335632735419798,
            -0.08763200886376318,
            -0.4715643197385069,
            0.1566190037652807,
            0.0478663349751904,
            -0.5719101928335082,
            -0.556987569863942,
            -0.58470346750934,
            -0.6416208934130667,
            -0.5680313291761292,
            -0.7315258191839454,
            -0.5562503864050988
           ]
          },
          {
           "label": "lambda_l2",
           "range": [
            -2.9977623047314275,
            0.9160378158239976
           ],
           "ticktext": [
            "0.00101",
            "0.01",
            "0.1",
            "1",
            "8.24"
           ],
           "tickvals": [
            -2.9977623047314275,
            -2,
            -1,
            0,
            0.9160378158239976
           ],
           "values": [
            -2.5255423538315696,
            -0.007865367859982743,
            0.9160378158239976,
            -0.8345903466614999,
            0.07173747104145786,
            -2.282968328127336,
            0.3398061961793877,
            -1.998581013534217,
            -1.5055890956932292,
            -2.839583231602534,
            -1.620452134310658,
            -2.9822147202010285,
            -2.0149293198725453,
            -2.8781072812515944,
            -1.7288056902125943,
            -0.9674650844996315,
            -2.4397987322712775,
            -2.231619811479103,
            -1.1977979498794686,
            -1.860025761625194,
            -0.5298088953505553,
            -2.4834400942991244,
            -2.703292598587895,
            -2.1435683238816914,
            -2.5512337270490413,
            -2.9977623047314275,
            -1.3713266541723221,
            -2.377360043278137,
            -2.4402705762873302,
            -2.3970968130586368,
            -2.5877273641491767,
            -2.3747590012926287,
            -2.3225420560411933,
            -1.8879059636217153,
            -2.670262401596281,
            -2.0829838583316795,
            -0.6468696578527545,
            0.6991092073688207,
            -2.308442196450139,
            -1.2019207192877632,
            -0.20377951949716844,
            -2.424653734324483,
            -2.745867516622228,
            -1.7636927364605972,
            -2.4071289749041256,
            -2.0853289751567563,
            -1.621897146074495,
            -1.9652904734246348,
            -2.764988911411915,
            -2.2924374896186395,
            -1.437126695395172,
            -2.524882936419731,
            -2.490144161806738,
            -2.854628370456432,
            -2.894348223322784,
            -2.616024348333902,
            -2.193010470676901,
            -2.8472699609466248,
            -2.5432156643644066,
            -2.990146426186836,
            -2.7567106784142434,
            -2.443779376977877,
            -2.194679750908707,
            -2.604873227367586,
            -2.621070142050417,
            -2.820426970247874,
            -2.539899338669916,
            -1.9068059273162299,
            -2.692162679920993,
            -2.2543496700355483,
            -2.0746380413624337,
            -2.350102291481789,
            -2.5111358819732703,
            -2.8810529485939522,
            -2.371133606656451,
            -2.6444603670054807,
            -1.8081981514714238,
            -2.1635508058150084,
            -2.533005985873275,
            -2.0161079614134914,
            -1.6236682981156916,
            -2.378446199348651,
            -2.431064554750817,
            -2.2718813502261885,
            -2.70157287735042,
            0.19187452624431114,
            -0.2523704250359196,
            -2.912811065081876,
            -2.4928915863747374,
            0.8978386958465291,
            -2.750873283897643,
            -2.441298152747958,
            -2.5901111263266037,
            -2.5861788084073876,
            -2.6181172305976013,
            -2.8000110726345007,
            -2.6085904274305314,
            -2.9232012354410544
           ]
          },
          {
           "label": "max_drop",
           "range": [
            10,
            50
           ],
           "values": [
            30,
            10,
            30,
            10,
            10,
            10,
            20,
            10,
            10,
            50,
            50,
            50,
            40,
            40,
            40,
            20,
            40,
            20,
            30,
            40,
            30,
            40,
            40,
            40,
            30,
            50,
            50,
            50,
            50,
            50,
            50,
            50,
            50,
            50,
            50,
            40,
            50,
            40,
            50,
            40,
            50,
            50,
            50,
            50,
            50,
            40,
            50,
            50,
            40,
            50,
            40,
            50,
            50,
            50,
            50,
            50,
            20,
            40,
            50,
            30,
            50,
            50,
            50,
            50,
            50,
            50,
            40,
            50,
            50,
            40,
            50,
            50,
            50,
            50,
            50,
            50,
            10,
            40,
            50,
            50,
            30,
            50,
            50,
            50,
            50,
            50,
            50,
            50,
            50,
            50,
            40,
            50,
            50,
            50,
            50,
            50,
            20,
            50
           ]
          },
          {
           "label": "min_data_in_leaf",
           "range": [
            500,
            2000
           ],
           "values": [
            1900,
            1000,
            600,
            1500,
            600,
            1300,
            1700,
            1000,
            900,
            1300,
            1000,
            1300,
            1100,
            1500,
            1700,
            1500,
            2000,
            2000,
            800,
            800,
            500,
            1800,
            1500,
            2000,
            1200,
            1600,
            1700,
            1800,
            1900,
            1900,
            1900,
            1900,
            1800,
            2000,
            1800,
            1900,
            1900,
            1600,
            2000,
            1800,
            1600,
            1900,
            2000,
            1700,
            1800,
            1900,
            1400,
            1700,
            2000,
            1900,
            1800,
            1800,
            2000,
            2000,
            2000,
            2000,
            1800,
            2000,
            1600,
            1700,
            1400,
            1900,
            1900,
            1800,
            1700,
            1800,
            2000,
            1100,
            1800,
            2000,
            1700,
            1900,
            1900,
            1900,
            1800,
            700,
            2000,
            1900,
            1800,
            1600,
            2000,
            1900,
            1900,
            2000,
            1700,
            1800,
            1900,
            1800,
            2000,
            1900,
            2000,
            1800,
            1800,
            1700,
            1700,
            1800,
            1600,
            1700
           ]
          },
          {
           "label": "num_iterations",
           "range": [
            500,
            2000
           ],
           "values": [
            1900,
            1300,
            500,
            500,
            500,
            1900,
            2000,
            2000,
            1300,
            1600,
            900,
            1600,
            1600,
            1600,
            1700,
            1000,
            1800,
            1800,
            2000,
            1400,
            1100,
            1800,
            1500,
            1800,
            2000,
            1700,
            1800,
            1900,
            1500,
            1400,
            1100,
            1400,
            1200,
            800,
            1400,
            1400,
            700,
            1900,
            1300,
            1200,
            1700,
            1500,
            1500,
            1400,
            1900,
            1300,
            1500,
            1700,
            1200,
            1600,
            1900,
            1900,
            1900,
            1900,
            2000,
            1900,
            1800,
            2000,
            1900,
            1800,
            2000,
            1700,
            1900,
            1900,
            1800,
            2000,
            1800,
            1700,
            2000,
            1900,
            1900,
            1600,
            1800,
            600,
            1000,
            1900,
            2000,
            1800,
            1700,
            2000,
            1600,
            1400,
            1500,
            1300,
            1400,
            1900,
            1300,
            1500,
            1900,
            1800,
            1100,
            1900,
            2000,
            1900,
            1900,
            2000,
            2000,
            1900
           ]
          },
          {
           "label": "num_leaves_exp",
           "range": [
            7,
            7
           ],
           "values": [
            7,
            7,
            7,
            7,
            7,
            7,
            7,
            7,
            7,
            7,
            7,
            7,
            7,
            7,
            7,
            7,
            7,
            7,
            7,
            7,
            7,
            7,
            7,
            7,
            7,
            7,
            7,
            7,
            7,
            7,
            7,
            7,
            7,
            7,
            7,
            7,
            7,
            7,
            7,
            7,
            7,
            7,
            7,
            7,
            7,
            7,
            7,
            7,
            7,
            7,
            7,
            7,
            7,
            7,
            7,
            7,
            7,
            7,
            7,
            7,
            7,
            7,
            7,
            7,
            7,
            7,
            7,
            7,
            7,
            7,
            7,
            7,
            7,
            7,
            7,
            7,
            7,
            7,
            7,
            7,
            7,
            7,
            7,
            7,
            7,
            7,
            7,
            7,
            7,
            7,
            7,
            7,
            7,
            7,
            7,
            7,
            7,
            7
           ]
          },
          {
           "label": "path_smooth",
           "range": [
            0.025733179672986495,
            48.52157901622936
           ],
           "values": [
            17.15699240679741,
            19.297162992997492,
            1.4531393265027615,
            25.41685591256914,
            36.65691977859051,
            30.635101155797056,
            30.227791218170847,
            18.821771129075206,
            48.52157901622936,
            8.494333811622951,
            11.607850037004464,
            4.481896922553748,
            11.328335070193416,
            9.821272773907996,
            19.80997724484819,
            14.88245301435462,
            22.136205618298774,
            25.11953953483492,
            37.808233071246875,
            32.11840721277612,
            23.043339416134422,
            5.553350613530317,
            11.860158947862654,
            14.845831293350237,
            21.913418583744285,
            0.301368562193165,
            46.12056490391471,
            0.3010160139207727,
            0.32093279950049564,
            4.605263750563613,
            4.568377162658161,
            0.12038506892281475,
            6.848390881100586,
            3.5201210094313695,
            1.9823578214331716,
            7.529598672188827,
            14.989559776003878,
            2.4540844768221777,
            40.86089808418717,
            0.3510413163875493,
            6.228199853207337,
            2.0283450417359186,
            28.70648874287243,
            0.17239030953996454,
            9.276016446059957,
            3.6620568365071744,
            4.855335833192589,
            8.334366861182737,
            27.614738019936944,
            12.778283874333006,
            33.154752114882676,
            9.470405778245144,
            1.6821022474070264,
            10.303977832196708,
            9.085541252662853,
            17.450299522729587,
            10.704516224995952,
            6.33270829887508,
            20.78419298011128,
            13.39316249100047,
            18.341445327151035,
            3.2252858554456107,
            4.835260202635267,
            1.7933000979524485,
            7.104257003110266,
            10.524894237781247,
            2.154094092058936,
            15.834248003101127,
            23.509058714389617,
            3.670621722251474,
            5.488091823400172,
            1.3846344712092207,
            8.189360086563749,
            1.0838743382092666,
            2.773880843685278,
            3.923074282256912,
            0.06902892223007467,
            6.026544881414195,
            12.974243795835626,
            2.27932844179881,
            1.3987851470986212,
            0.025733179672986495,
            4.690028952274701,
            7.26581025431536,
            1.352355187197974,
            3.166769593402633,
            5.564482895536731,
            26.693326827891173,
            9.780459254796039,
            4.228940358598112,
            38.803306683054046,
            9.449102741915585,
            12.16007181464714,
            11.646373372045284,
            11.726495180306038,
            13.876463573714863,
            10.754853798111313,
            15.930121178205246
           ]
          },
          {
           "label": "skip_drop",
           "range": [
            0.25,
            0.75
           ],
           "values": [
            0.6000000000000001,
            0.35,
            0.6000000000000001,
            0.35,
            0.6000000000000001,
            0.3,
            0.6000000000000001,
            0.4,
            0.65,
            0.5,
            0.45,
            0.45,
            0.75,
            0.5,
            0.25,
            0.4,
            0.5,
            0.4,
            0.7,
            0.55,
            0.5,
            0.5,
            0.45,
            0.4,
            0.55,
            0.55,
            0.35,
            0.55,
            0.55,
            0.65,
            0.65,
            0.65,
            0.65,
            0.7,
            0.7,
            0.75,
            0.6000000000000001,
            0.65,
            0.6000000000000001,
            0.6000000000000001,
            0.55,
            0.55,
            0.65,
            0.5,
            0.6000000000000001,
            0.7,
            0.45,
            0.55,
            0.65,
            0.5,
            0.75,
            0.6000000000000001,
            0.6000000000000001,
            0.6000000000000001,
            0.6000000000000001,
            0.6000000000000001,
            0.6000000000000001,
            0.55,
            0.6000000000000001,
            0.45,
            0.55,
            0.65,
            0.7,
            0.65,
            0.5,
            0.65,
            0.6000000000000001,
            0.65,
            0.6000000000000001,
            0.55,
            0.7,
            0.65,
            0.65,
            0.6000000000000001,
            0.65,
            0.55,
            0.7,
            0.5,
            0.6000000000000001,
            0.3,
            0.65,
            0.55,
            0.5,
            0.55,
            0.6000000000000001,
            0.6000000000000001,
            0.55,
            0.7,
            0.55,
            0.65,
            0.5,
            0.6000000000000001,
            0.6000000000000001,
            0.6000000000000001,
            0.6000000000000001,
            0.6000000000000001,
            0.6000000000000001,
            0.6000000000000001
           ]
          }
         ],
         "labelangle": 30,
         "labelside": "bottom",
         "line": {
          "color": [
           0.13256824012995438,
           0.13073575245267377,
           0.12552738416301393,
           0.12352042787716813,
           0.12264846734302746,
           0.13231125752822903,
           0.13091671771308194,
           0.13302804236795096,
           0.13093238402278642,
           0.1327233252821409,
           0.12782540482452984,
           0.13038488467777215,
           0.12945693670244754,
           0.13280197966163368,
           0.12886876229485938,
           0.12914363533648285,
           0.13426543312172848,
           0.13264635806859557,
           0.1315294303073725,
           0.13209808334108739,
           0.130525021597916,
           0.1326189053125227,
           0.13128442699799966,
           0.13107810520375962,
           0.13178874612315772,
           0.13343780449235557,
           0.13059845871492998,
           0.13538157631485997,
           0.13400855121640373,
           0.13426711247771245,
           0.1332151637531804,
           0.1341072133108866,
           0.13374373609160947,
           0.13179947711661574,
           0.13082860974276417,
           0.13253441977617536,
           0.12587166130943497,
           0.132937895573093,
           0.13290621153699467,
           0.13189012532384545,
           0.13295716275999986,
           0.13351205137826808,
           0.13205540534691404,
           0.13204572497479516,
           0.13395980214919503,
           0.13078770955910696,
           0.13019262785526634,
           0.13343160540747742,
           0.13022177382718594,
           0.13206767931843527,
           0.1305851678305324,
           0.13497727309870527,
           0.13506518166481998,
           0.1344474047387336,
           0.1333558180901191,
           0.13134647028468482,
           0.13291650654573525,
           0.13322799136584262,
           0.1328334970961906,
           0.13224962664993972,
           0.13195676665176373,
           0.1338807877993814,
           0.13311139861211735,
           0.13417014946217568,
           0.13214909551965953,
           0.13248910808488537,
           0.1324470546069716,
           0.1328541812074399,
           0.1336480519284877,
           0.13178959540756507,
           0.1328740436154364,
           0.13375447905315505,
           0.13303087603559338,
           0.12875772979081593,
           0.13237994995443936,
           0.13009832785409442,
           0.13217709602431948,
           0.13312649362127243,
           0.1334361345238109,
           0.12646847376722556,
           0.1327918591512628,
           0.13380056495185236,
           0.13389130457233359,
           0.13260689461053984,
           0.1308238857076492,
           0.1323543824661541,
           0.13113395223301014,
           0.13133351408633978,
           0.1338258360429198,
           0.13364538343330956,
           0.12802817430808566,
           0.13452363963538064,
           0.13451350872533943,
           0.13422784593545592,
           0.13330829637585173,
           0.1336615912867017,
           0.13273404833030847,
           0.1335662914232053
          ],
          "colorbar": {
           "title": {
            "text": "Objective Value"
           }
          },
          "colorscale": [
           [
            0,
            "rgb(247,251,255)"
           ],
           [
            0.125,
            "rgb(222,235,247)"
           ],
           [
            0.25,
            "rgb(198,219,239)"
           ],
           [
            0.375,
            "rgb(158,202,225)"
           ],
           [
            0.5,
            "rgb(107,174,214)"
           ],
           [
            0.625,
            "rgb(66,146,198)"
           ],
           [
            0.75,
            "rgb(33,113,181)"
           ],
           [
            0.875,
            "rgb(8,81,156)"
           ],
           [
            1,
            "rgb(8,48,107)"
           ]
          ],
          "reversescale": false,
          "showscale": true
         },
         "type": "parcoords"
        }
       ],
       "layout": {
        "autosize": true,
        "template": {
         "data": {
          "bar": [
           {
            "error_x": {
             "color": "#2a3f5f"
            },
            "error_y": {
             "color": "#2a3f5f"
            },
            "marker": {
             "line": {
              "color": "#E5ECF6",
              "width": 0.5
             },
             "pattern": {
              "fillmode": "overlay",
              "size": 10,
              "solidity": 0.2
             }
            },
            "type": "bar"
           }
          ],
          "barpolar": [
           {
            "marker": {
             "line": {
              "color": "#E5ECF6",
              "width": 0.5
             },
             "pattern": {
              "fillmode": "overlay",
              "size": 10,
              "solidity": 0.2
             }
            },
            "type": "barpolar"
           }
          ],
          "carpet": [
           {
            "aaxis": {
             "endlinecolor": "#2a3f5f",
             "gridcolor": "white",
             "linecolor": "white",
             "minorgridcolor": "white",
             "startlinecolor": "#2a3f5f"
            },
            "baxis": {
             "endlinecolor": "#2a3f5f",
             "gridcolor": "white",
             "linecolor": "white",
             "minorgridcolor": "white",
             "startlinecolor": "#2a3f5f"
            },
            "type": "carpet"
           }
          ],
          "choropleth": [
           {
            "colorbar": {
             "outlinewidth": 0,
             "ticks": ""
            },
            "type": "choropleth"
           }
          ],
          "contour": [
           {
            "colorbar": {
             "outlinewidth": 0,
             "ticks": ""
            },
            "colorscale": [
             [
              0,
              "#0d0887"
             ],
             [
              0.1111111111111111,
              "#46039f"
             ],
             [
              0.2222222222222222,
              "#7201a8"
             ],
             [
              0.3333333333333333,
              "#9c179e"
             ],
             [
              0.4444444444444444,
              "#bd3786"
             ],
             [
              0.5555555555555556,
              "#d8576b"
             ],
             [
              0.6666666666666666,
              "#ed7953"
             ],
             [
              0.7777777777777778,
              "#fb9f3a"
             ],
             [
              0.8888888888888888,
              "#fdca26"
             ],
             [
              1,
              "#f0f921"
             ]
            ],
            "type": "contour"
           }
          ],
          "contourcarpet": [
           {
            "colorbar": {
             "outlinewidth": 0,
             "ticks": ""
            },
            "type": "contourcarpet"
           }
          ],
          "heatmap": [
           {
            "colorbar": {
             "outlinewidth": 0,
             "ticks": ""
            },
            "colorscale": [
             [
              0,
              "#0d0887"
             ],
             [
              0.1111111111111111,
              "#46039f"
             ],
             [
              0.2222222222222222,
              "#7201a8"
             ],
             [
              0.3333333333333333,
              "#9c179e"
             ],
             [
              0.4444444444444444,
              "#bd3786"
             ],
             [
              0.5555555555555556,
              "#d8576b"
             ],
             [
              0.6666666666666666,
              "#ed7953"
             ],
             [
              0.7777777777777778,
              "#fb9f3a"
             ],
             [
              0.8888888888888888,
              "#fdca26"
             ],
             [
              1,
              "#f0f921"
             ]
            ],
            "type": "heatmap"
           }
          ],
          "heatmapgl": [
           {
            "colorbar": {
             "outlinewidth": 0,
             "ticks": ""
            },
            "colorscale": [
             [
              0,
              "#0d0887"
             ],
             [
              0.1111111111111111,
              "#46039f"
             ],
             [
              0.2222222222222222,
              "#7201a8"
             ],
             [
              0.3333333333333333,
              "#9c179e"
             ],
             [
              0.4444444444444444,
              "#bd3786"
             ],
             [
              0.5555555555555556,
              "#d8576b"
             ],
             [
              0.6666666666666666,
              "#ed7953"
             ],
             [
              0.7777777777777778,
              "#fb9f3a"
             ],
             [
              0.8888888888888888,
              "#fdca26"
             ],
             [
              1,
              "#f0f921"
             ]
            ],
            "type": "heatmapgl"
           }
          ],
          "histogram": [
           {
            "marker": {
             "pattern": {
              "fillmode": "overlay",
              "size": 10,
              "solidity": 0.2
             }
            },
            "type": "histogram"
           }
          ],
          "histogram2d": [
           {
            "colorbar": {
             "outlinewidth": 0,
             "ticks": ""
            },
            "colorscale": [
             [
              0,
              "#0d0887"
             ],
             [
              0.1111111111111111,
              "#46039f"
             ],
             [
              0.2222222222222222,
              "#7201a8"
             ],
             [
              0.3333333333333333,
              "#9c179e"
             ],
             [
              0.4444444444444444,
              "#bd3786"
             ],
             [
              0.5555555555555556,
              "#d8576b"
             ],
             [
              0.6666666666666666,
              "#ed7953"
             ],
             [
              0.7777777777777778,
              "#fb9f3a"
             ],
             [
              0.8888888888888888,
              "#fdca26"
             ],
             [
              1,
              "#f0f921"
             ]
            ],
            "type": "histogram2d"
           }
          ],
          "histogram2dcontour": [
           {
            "colorbar": {
             "outlinewidth": 0,
             "ticks": ""
            },
            "colorscale": [
             [
              0,
              "#0d0887"
             ],
             [
              0.1111111111111111,
              "#46039f"
             ],
             [
              0.2222222222222222,
              "#7201a8"
             ],
             [
              0.3333333333333333,
              "#9c179e"
             ],
             [
              0.4444444444444444,
              "#bd3786"
             ],
             [
              0.5555555555555556,
              "#d8576b"
             ],
             [
              0.6666666666666666,
              "#ed7953"
             ],
             [
              0.7777777777777778,
              "#fb9f3a"
             ],
             [
              0.8888888888888888,
              "#fdca26"
             ],
             [
              1,
              "#f0f921"
             ]
            ],
            "type": "histogram2dcontour"
           }
          ],
          "mesh3d": [
           {
            "colorbar": {
             "outlinewidth": 0,
             "ticks": ""
            },
            "type": "mesh3d"
           }
          ],
          "parcoords": [
           {
            "line": {
             "colorbar": {
              "outlinewidth": 0,
              "ticks": ""
             }
            },
            "type": "parcoords"
           }
          ],
          "pie": [
           {
            "automargin": true,
            "type": "pie"
           }
          ],
          "scatter": [
           {
            "marker": {
             "colorbar": {
              "outlinewidth": 0,
              "ticks": ""
             }
            },
            "type": "scatter"
           }
          ],
          "scatter3d": [
           {
            "line": {
             "colorbar": {
              "outlinewidth": 0,
              "ticks": ""
             }
            },
            "marker": {
             "colorbar": {
              "outlinewidth": 0,
              "ticks": ""
             }
            },
            "type": "scatter3d"
           }
          ],
          "scattercarpet": [
           {
            "marker": {
             "colorbar": {
              "outlinewidth": 0,
              "ticks": ""
             }
            },
            "type": "scattercarpet"
           }
          ],
          "scattergeo": [
           {
            "marker": {
             "colorbar": {
              "outlinewidth": 0,
              "ticks": ""
             }
            },
            "type": "scattergeo"
           }
          ],
          "scattergl": [
           {
            "marker": {
             "colorbar": {
              "outlinewidth": 0,
              "ticks": ""
             }
            },
            "type": "scattergl"
           }
          ],
          "scattermapbox": [
           {
            "marker": {
             "colorbar": {
              "outlinewidth": 0,
              "ticks": ""
             }
            },
            "type": "scattermapbox"
           }
          ],
          "scatterpolar": [
           {
            "marker": {
             "colorbar": {
              "outlinewidth": 0,
              "ticks": ""
             }
            },
            "type": "scatterpolar"
           }
          ],
          "scatterpolargl": [
           {
            "marker": {
             "colorbar": {
              "outlinewidth": 0,
              "ticks": ""
             }
            },
            "type": "scatterpolargl"
           }
          ],
          "scatterternary": [
           {
            "marker": {
             "colorbar": {
              "outlinewidth": 0,
              "ticks": ""
             }
            },
            "type": "scatterternary"
           }
          ],
          "surface": [
           {
            "colorbar": {
             "outlinewidth": 0,
             "ticks": ""
            },
            "colorscale": [
             [
              0,
              "#0d0887"
             ],
             [
              0.1111111111111111,
              "#46039f"
             ],
             [
              0.2222222222222222,
              "#7201a8"
             ],
             [
              0.3333333333333333,
              "#9c179e"
             ],
             [
              0.4444444444444444,
              "#bd3786"
             ],
             [
              0.5555555555555556,
              "#d8576b"
             ],
             [
              0.6666666666666666,
              "#ed7953"
             ],
             [
              0.7777777777777778,
              "#fb9f3a"
             ],
             [
              0.8888888888888888,
              "#fdca26"
             ],
             [
              1,
              "#f0f921"
             ]
            ],
            "type": "surface"
           }
          ],
          "table": [
           {
            "cells": {
             "fill": {
              "color": "#EBF0F8"
             },
             "line": {
              "color": "white"
             }
            },
            "header": {
             "fill": {
              "color": "#C8D4E3"
             },
             "line": {
              "color": "white"
             }
            },
            "type": "table"
           }
          ]
         },
         "layout": {
          "annotationdefaults": {
           "arrowcolor": "#2a3f5f",
           "arrowhead": 0,
           "arrowwidth": 1
          },
          "autotypenumbers": "strict",
          "coloraxis": {
           "colorbar": {
            "outlinewidth": 0,
            "ticks": ""
           }
          },
          "colorscale": {
           "diverging": [
            [
             0,
             "#8e0152"
            ],
            [
             0.1,
             "#c51b7d"
            ],
            [
             0.2,
             "#de77ae"
            ],
            [
             0.3,
             "#f1b6da"
            ],
            [
             0.4,
             "#fde0ef"
            ],
            [
             0.5,
             "#f7f7f7"
            ],
            [
             0.6,
             "#e6f5d0"
            ],
            [
             0.7,
             "#b8e186"
            ],
            [
             0.8,
             "#7fbc41"
            ],
            [
             0.9,
             "#4d9221"
            ],
            [
             1,
             "#276419"
            ]
           ],
           "sequential": [
            [
             0,
             "#0d0887"
            ],
            [
             0.1111111111111111,
             "#46039f"
            ],
            [
             0.2222222222222222,
             "#7201a8"
            ],
            [
             0.3333333333333333,
             "#9c179e"
            ],
            [
             0.4444444444444444,
             "#bd3786"
            ],
            [
             0.5555555555555556,
             "#d8576b"
            ],
            [
             0.6666666666666666,
             "#ed7953"
            ],
            [
             0.7777777777777778,
             "#fb9f3a"
            ],
            [
             0.8888888888888888,
             "#fdca26"
            ],
            [
             1,
             "#f0f921"
            ]
           ],
           "sequentialminus": [
            [
             0,
             "#0d0887"
            ],
            [
             0.1111111111111111,
             "#46039f"
            ],
            [
             0.2222222222222222,
             "#7201a8"
            ],
            [
             0.3333333333333333,
             "#9c179e"
            ],
            [
             0.4444444444444444,
             "#bd3786"
            ],
            [
             0.5555555555555556,
             "#d8576b"
            ],
            [
             0.6666666666666666,
             "#ed7953"
            ],
            [
             0.7777777777777778,
             "#fb9f3a"
            ],
            [
             0.8888888888888888,
             "#fdca26"
            ],
            [
             1,
             "#f0f921"
            ]
           ]
          },
          "colorway": [
           "#636efa",
           "#EF553B",
           "#00cc96",
           "#ab63fa",
           "#FFA15A",
           "#19d3f3",
           "#FF6692",
           "#B6E880",
           "#FF97FF",
           "#FECB52"
          ],
          "font": {
           "color": "#2a3f5f"
          },
          "geo": {
           "bgcolor": "white",
           "lakecolor": "white",
           "landcolor": "#E5ECF6",
           "showlakes": true,
           "showland": true,
           "subunitcolor": "white"
          },
          "hoverlabel": {
           "align": "left"
          },
          "hovermode": "closest",
          "mapbox": {
           "style": "light"
          },
          "paper_bgcolor": "white",
          "plot_bgcolor": "#E5ECF6",
          "polar": {
           "angularaxis": {
            "gridcolor": "white",
            "linecolor": "white",
            "ticks": ""
           },
           "bgcolor": "#E5ECF6",
           "radialaxis": {
            "gridcolor": "white",
            "linecolor": "white",
            "ticks": ""
           }
          },
          "scene": {
           "xaxis": {
            "backgroundcolor": "#E5ECF6",
            "gridcolor": "white",
            "gridwidth": 2,
            "linecolor": "white",
            "showbackground": true,
            "ticks": "",
            "zerolinecolor": "white"
           },
           "yaxis": {
            "backgroundcolor": "#E5ECF6",
            "gridcolor": "white",
            "gridwidth": 2,
            "linecolor": "white",
            "showbackground": true,
            "ticks": "",
            "zerolinecolor": "white"
           },
           "zaxis": {
            "backgroundcolor": "#E5ECF6",
            "gridcolor": "white",
            "gridwidth": 2,
            "linecolor": "white",
            "showbackground": true,
            "ticks": "",
            "zerolinecolor": "white"
           }
          },
          "shapedefaults": {
           "line": {
            "color": "#2a3f5f"
           }
          },
          "ternary": {
           "aaxis": {
            "gridcolor": "white",
            "linecolor": "white",
            "ticks": ""
           },
           "baxis": {
            "gridcolor": "white",
            "linecolor": "white",
            "ticks": ""
           },
           "bgcolor": "#E5ECF6",
           "caxis": {
            "gridcolor": "white",
            "linecolor": "white",
            "ticks": ""
           }
          },
          "title": {
           "x": 0.05
          },
          "xaxis": {
           "automargin": true,
           "gridcolor": "white",
           "linecolor": "white",
           "ticks": "",
           "title": {
            "standoff": 15
           },
           "zerolinecolor": "white",
           "zerolinewidth": 2
          },
          "yaxis": {
           "automargin": true,
           "gridcolor": "white",
           "linecolor": "white",
           "ticks": "",
           "title": {
            "standoff": 15
           },
           "zerolinecolor": "white",
           "zerolinewidth": 2
          }
         }
        },
        "title": {
         "text": "Parallel Coordinate Plot"
        }
       }
      },
      "image/png": "[encoded data removed]"
     },
     "metadata": {},
     "output_type": "display_data"
    }
   ],
   "source": [
    "plot_parallel_coordinate(study)"
   ]
  },
  {
   "cell_type": "code",
   "execution_count": 18,
   "id": "53c546d3-cef7-4cb8-b80c-1657f0e3dcb2",
   "metadata": {},
   "outputs": [
    {
     "data": {
      "text/plain": [
       "{'boosting': 'dart',\n",
       " 'objective': 'mse',\n",
       " 'metric': 'rmse',\n",
       " 'learning_rate': 0.05,\n",
       " 'force_col_wise': True,\n",
       " 'bagging_freq': 1,\n",
       " 'seed': 19,\n",
       " 'verbosity': -1,\n",
       " 'first_metric_only': False,\n",
       " 'bin_construct_sample_cnt': 100000000,\n",
       " 'feature_pre_filter': False,\n",
       " 'bagging_fraction': 1.0,\n",
       " 'drop_rate': 0.060000000000000005,\n",
       " 'feature_fraction': 0.15000000000000002,\n",
       " 'lambda_l1': 0.951445511231881,\n",
       " 'lambda_l2': 0.004194111352893253,\n",
       " 'max_drop': 50,\n",
       " 'min_data_in_leaf': 1800,\n",
       " 'num_iterations': 1900,\n",
       " 'path_smooth': 0.3010160139207727,\n",
       " 'skip_drop': 0.55,\n",
       " 'num_leaves': 128}"
      ]
     },
     "execution_count": 18,
     "metadata": {},
     "output_type": "execute_result"
    }
   ],
   "source": [
    "best_params = dict(study.best_params)\n",
    "best_params[\"num_leaves\"] = 2**best_params.pop(\"num_leaves_exp\")\n",
    "best_params = {**default_params, **best_params}\n",
    "best_params"
   ]
  },
  {
   "cell_type": "markdown",
   "id": "3e18344d-c1f4-41fd-963a-af6f405add15",
   "metadata": {},
   "source": [
    "***"
   ]
  }
 ],
 "metadata": {
  "kernelspec": {
   "display_name": "Python 3 (ipykernel)",
   "language": "python",
   "name": "python3"
  },
  "language_info": {
   "codemirror_mode": {
    "name": "ipython",
    "version": 3
   },
   "file_extension": ".py",
   "mimetype": "text/x-python",
   "name": "python",
   "nbconvert_exporter": "python",
   "pygments_lexer": "ipython3",
   "version": "3.7.12"
  }
 },
 "nbformat": 4,
 "nbformat_minor": 5
}
