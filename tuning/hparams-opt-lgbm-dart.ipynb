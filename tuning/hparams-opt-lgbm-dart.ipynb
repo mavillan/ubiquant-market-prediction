{
 "cells": [
  {
   "cell_type": "code",
   "execution_count": 1,
   "id": "6fc57720-af91-4f34-b095-f7471ed11e78",
   "metadata": {},
   "outputs": [
    {
     "data": {
      "text/html": [
       "<style type='text/css'>\n",
       ".datatable table.frame { margin-bottom: 0; }\n",
       ".datatable table.frame thead { border-bottom: none; }\n",
       ".datatable table.frame tr.coltypes td {  color: #FFFFFF;  line-height: 6px;  padding: 0 0.5em;}\n",
       ".datatable .bool    { background: #DDDD99; }\n",
       ".datatable .object  { background: #565656; }\n",
       ".datatable .int     { background: #5D9E5D; }\n",
       ".datatable .float   { background: #4040CC; }\n",
       ".datatable .str     { background: #CC4040; }\n",
       ".datatable .time    { background: #40CC40; }\n",
       ".datatable .row_index {  background: var(--jp-border-color3);  border-right: 1px solid var(--jp-border-color0);  color: var(--jp-ui-font-color3);  font-size: 9px;}\n",
       ".datatable .frame tbody td { text-align: left; }\n",
       ".datatable .frame tr.coltypes .row_index {  background: var(--jp-border-color0);}\n",
       ".datatable th:nth-child(2) { padding-left: 12px; }\n",
       ".datatable .hellipsis {  color: var(--jp-cell-editor-border-color);}\n",
       ".datatable .vellipsis {  background: var(--jp-layout-color0);  color: var(--jp-cell-editor-border-color);}\n",
       ".datatable .na {  color: var(--jp-cell-editor-border-color);  font-size: 80%;}\n",
       ".datatable .sp {  opacity: 0.25;}\n",
       ".datatable .footer { font-size: 9px; }\n",
       ".datatable .frame_dimensions {  background: var(--jp-border-color3);  border-top: 1px solid var(--jp-border-color0);  color: var(--jp-ui-font-color3);  display: inline-block;  opacity: 0.6;  padding: 1px 10px 1px 5px;}\n",
       "</style>\n"
      ],
      "text/plain": [
       "<IPython.core.display.HTML object>"
      ]
     },
     "metadata": {},
     "output_type": "display_data"
    }
   ],
   "source": [
    "import numpy as np\n",
    "import pandas as pd\n",
    "from tqdm import tqdm\n",
    "from scipy import stats\n",
    "import lightgbm as lgb\n",
    "\n",
    "import optuna\n",
    "from optuna.visualization import (\n",
    "    plot_contour\n",
    "    , plot_edf\n",
    "    , plot_intermediate_values\n",
    "    , plot_optimization_history\n",
    "    , plot_parallel_coordinate\n",
    "    , plot_param_importances\n",
    "    , plot_slice\n",
    ")\n",
    "\n",
    "import matplotlib.pyplot as plt\n",
    "import seaborn as sns\n",
    "import plotly.express as px\n",
    "import plotly.io as pio\n",
    "\n",
    "pio.renderers.default = \"jupyterlab\""
   ]
  },
  {
   "cell_type": "markdown",
   "id": "ff6ecffc-64af-45c8-91d9-46ccb4b23fc5",
   "metadata": {},
   "source": [
    "***\n",
    "## loading data"
   ]
  },
  {
   "cell_type": "code",
   "execution_count": 2,
   "id": "e0c43e41-3f1e-4791-9eb1-61c9aaaf1ea4",
   "metadata": {},
   "outputs": [
    {
     "data": {
      "text/html": [
       "<div>\n",
       "<style scoped>\n",
       "    .dataframe tbody tr th:only-of-type {\n",
       "        vertical-align: middle;\n",
       "    }\n",
       "\n",
       "    .dataframe tbody tr th {\n",
       "        vertical-align: top;\n",
       "    }\n",
       "\n",
       "    .dataframe thead th {\n",
       "        text-align: right;\n",
       "    }\n",
       "</style>\n",
       "<table border=\"1\" class=\"dataframe\">\n",
       "  <thead>\n",
       "    <tr style=\"text-align: right;\">\n",
       "      <th></th>\n",
       "      <th>f_0</th>\n",
       "      <th>f_1</th>\n",
       "      <th>f_2</th>\n",
       "      <th>f_3</th>\n",
       "      <th>f_4</th>\n",
       "      <th>f_5</th>\n",
       "      <th>f_6</th>\n",
       "      <th>f_7</th>\n",
       "      <th>f_8</th>\n",
       "      <th>f_9</th>\n",
       "      <th>...</th>\n",
       "      <th>f_290</th>\n",
       "      <th>f_291</th>\n",
       "      <th>f_292</th>\n",
       "      <th>f_293</th>\n",
       "      <th>f_294</th>\n",
       "      <th>f_295</th>\n",
       "      <th>f_296</th>\n",
       "      <th>f_297</th>\n",
       "      <th>f_298</th>\n",
       "      <th>f_299</th>\n",
       "    </tr>\n",
       "  </thead>\n",
       "  <tbody>\n",
       "    <tr>\n",
       "      <th>0</th>\n",
       "      <td>0.932573</td>\n",
       "      <td>0.113691</td>\n",
       "      <td>-0.402206</td>\n",
       "      <td>0.378386</td>\n",
       "      <td>-0.203938</td>\n",
       "      <td>-0.413469</td>\n",
       "      <td>0.965623</td>\n",
       "      <td>1.230508</td>\n",
       "      <td>0.114809</td>\n",
       "      <td>-2.012777</td>\n",
       "      <td>...</td>\n",
       "      <td>0.366028</td>\n",
       "      <td>-1.095620</td>\n",
       "      <td>0.200075</td>\n",
       "      <td>0.819155</td>\n",
       "      <td>0.941183</td>\n",
       "      <td>-0.086764</td>\n",
       "      <td>-1.087009</td>\n",
       "      <td>-1.044826</td>\n",
       "      <td>-0.287605</td>\n",
       "      <td>0.321566</td>\n",
       "    </tr>\n",
       "    <tr>\n",
       "      <th>1</th>\n",
       "      <td>0.810802</td>\n",
       "      <td>-0.514115</td>\n",
       "      <td>0.742368</td>\n",
       "      <td>-0.616673</td>\n",
       "      <td>-0.194255</td>\n",
       "      <td>1.771210</td>\n",
       "      <td>1.428127</td>\n",
       "      <td>1.134144</td>\n",
       "      <td>0.114809</td>\n",
       "      <td>-0.219201</td>\n",
       "      <td>...</td>\n",
       "      <td>-0.154193</td>\n",
       "      <td>0.912726</td>\n",
       "      <td>-0.734579</td>\n",
       "      <td>0.819155</td>\n",
       "      <td>0.941183</td>\n",
       "      <td>-0.387617</td>\n",
       "      <td>-1.087009</td>\n",
       "      <td>-0.929529</td>\n",
       "      <td>-0.974060</td>\n",
       "      <td>-0.343624</td>\n",
       "    </tr>\n",
       "    <tr>\n",
       "      <th>2</th>\n",
       "      <td>0.393974</td>\n",
       "      <td>0.615937</td>\n",
       "      <td>0.567806</td>\n",
       "      <td>-0.607963</td>\n",
       "      <td>0.068883</td>\n",
       "      <td>-1.083155</td>\n",
       "      <td>0.979656</td>\n",
       "      <td>-1.125681</td>\n",
       "      <td>0.114809</td>\n",
       "      <td>-1.035376</td>\n",
       "      <td>...</td>\n",
       "      <td>-0.138020</td>\n",
       "      <td>0.912726</td>\n",
       "      <td>-0.551904</td>\n",
       "      <td>-1.220772</td>\n",
       "      <td>-1.060166</td>\n",
       "      <td>-0.219097</td>\n",
       "      <td>-1.087009</td>\n",
       "      <td>-0.612428</td>\n",
       "      <td>-0.113944</td>\n",
       "      <td>0.243608</td>\n",
       "    </tr>\n",
       "    <tr>\n",
       "      <th>3</th>\n",
       "      <td>-2.343535</td>\n",
       "      <td>-0.011870</td>\n",
       "      <td>1.874606</td>\n",
       "      <td>-0.606346</td>\n",
       "      <td>-0.586827</td>\n",
       "      <td>-0.815737</td>\n",
       "      <td>0.778096</td>\n",
       "      <td>0.298990</td>\n",
       "      <td>0.114809</td>\n",
       "      <td>-1.176410</td>\n",
       "      <td>...</td>\n",
       "      <td>0.382201</td>\n",
       "      <td>0.912726</td>\n",
       "      <td>-0.266359</td>\n",
       "      <td>-1.220772</td>\n",
       "      <td>0.941183</td>\n",
       "      <td>-0.609113</td>\n",
       "      <td>0.104928</td>\n",
       "      <td>-0.783423</td>\n",
       "      <td>1.151730</td>\n",
       "      <td>-0.773309</td>\n",
       "    </tr>\n",
       "    <tr>\n",
       "      <th>4</th>\n",
       "      <td>0.842057</td>\n",
       "      <td>-0.262993</td>\n",
       "      <td>2.330030</td>\n",
       "      <td>-0.583422</td>\n",
       "      <td>-0.618392</td>\n",
       "      <td>-0.742814</td>\n",
       "      <td>-0.946789</td>\n",
       "      <td>1.230508</td>\n",
       "      <td>0.114809</td>\n",
       "      <td>-0.005858</td>\n",
       "      <td>...</td>\n",
       "      <td>-0.170365</td>\n",
       "      <td>0.912726</td>\n",
       "      <td>-0.741355</td>\n",
       "      <td>-1.220772</td>\n",
       "      <td>0.941183</td>\n",
       "      <td>-0.588445</td>\n",
       "      <td>0.104928</td>\n",
       "      <td>0.753279</td>\n",
       "      <td>1.345611</td>\n",
       "      <td>-0.737624</td>\n",
       "    </tr>\n",
       "    <tr>\n",
       "      <th>...</th>\n",
       "      <td>...</td>\n",
       "      <td>...</td>\n",
       "      <td>...</td>\n",
       "      <td>...</td>\n",
       "      <td>...</td>\n",
       "      <td>...</td>\n",
       "      <td>...</td>\n",
       "      <td>...</td>\n",
       "      <td>...</td>\n",
       "      <td>...</td>\n",
       "      <td>...</td>\n",
       "      <td>...</td>\n",
       "      <td>...</td>\n",
       "      <td>...</td>\n",
       "      <td>...</td>\n",
       "      <td>...</td>\n",
       "      <td>...</td>\n",
       "      <td>...</td>\n",
       "      <td>...</td>\n",
       "      <td>...</td>\n",
       "      <td>...</td>\n",
       "    </tr>\n",
       "    <tr>\n",
       "      <th>3141405</th>\n",
       "      <td>0.093530</td>\n",
       "      <td>-0.720275</td>\n",
       "      <td>-0.345497</td>\n",
       "      <td>-0.438781</td>\n",
       "      <td>-0.166972</td>\n",
       "      <td>-0.437182</td>\n",
       "      <td>1.475746</td>\n",
       "      <td>1.284423</td>\n",
       "      <td>0.056425</td>\n",
       "      <td>-1.433681</td>\n",
       "      <td>...</td>\n",
       "      <td>-0.285908</td>\n",
       "      <td>-1.232434</td>\n",
       "      <td>-0.660579</td>\n",
       "      <td>0.875537</td>\n",
       "      <td>0.421628</td>\n",
       "      <td>-0.428097</td>\n",
       "      <td>-0.075548</td>\n",
       "      <td>-0.533092</td>\n",
       "      <td>-0.193732</td>\n",
       "      <td>-0.581394</td>\n",
       "    </tr>\n",
       "    <tr>\n",
       "      <th>3141406</th>\n",
       "      <td>-1.344935</td>\n",
       "      <td>-0.199987</td>\n",
       "      <td>-0.107702</td>\n",
       "      <td>-0.454677</td>\n",
       "      <td>-0.221914</td>\n",
       "      <td>-0.141174</td>\n",
       "      <td>-1.498235</td>\n",
       "      <td>1.373834</td>\n",
       "      <td>0.056425</td>\n",
       "      <td>-1.211572</td>\n",
       "      <td>...</td>\n",
       "      <td>0.184517</td>\n",
       "      <td>-1.232434</td>\n",
       "      <td>-0.670493</td>\n",
       "      <td>0.875537</td>\n",
       "      <td>0.421628</td>\n",
       "      <td>-0.729949</td>\n",
       "      <td>-1.514277</td>\n",
       "      <td>0.013145</td>\n",
       "      <td>-0.890270</td>\n",
       "      <td>-0.589705</td>\n",
       "    </tr>\n",
       "    <tr>\n",
       "      <th>3141407</th>\n",
       "      <td>0.979489</td>\n",
       "      <td>-1.110491</td>\n",
       "      <td>1.006980</td>\n",
       "      <td>-0.467307</td>\n",
       "      <td>-0.159549</td>\n",
       "      <td>1.355671</td>\n",
       "      <td>0.150812</td>\n",
       "      <td>-0.088923</td>\n",
       "      <td>0.056425</td>\n",
       "      <td>0.996380</td>\n",
       "      <td>...</td>\n",
       "      <td>-0.756332</td>\n",
       "      <td>-1.232434</td>\n",
       "      <td>0.820784</td>\n",
       "      <td>-1.142157</td>\n",
       "      <td>0.421628</td>\n",
       "      <td>-0.363329</td>\n",
       "      <td>1.363181</td>\n",
       "      <td>-0.079106</td>\n",
       "      <td>-1.580124</td>\n",
       "      <td>-0.297625</td>\n",
       "    </tr>\n",
       "    <tr>\n",
       "      <th>3141408</th>\n",
       "      <td>-2.565332</td>\n",
       "      <td>0.320301</td>\n",
       "      <td>0.076600</td>\n",
       "      <td>1.380182</td>\n",
       "      <td>-0.155366</td>\n",
       "      <td>-0.689000</td>\n",
       "      <td>0.381069</td>\n",
       "      <td>-1.324759</td>\n",
       "      <td>0.056425</td>\n",
       "      <td>-1.111730</td>\n",
       "      <td>...</td>\n",
       "      <td>-0.756332</td>\n",
       "      <td>-1.232434</td>\n",
       "      <td>0.133074</td>\n",
       "      <td>-1.142157</td>\n",
       "      <td>0.421628</td>\n",
       "      <td>-0.375288</td>\n",
       "      <td>-1.514277</td>\n",
       "      <td>-0.973762</td>\n",
       "      <td>0.608647</td>\n",
       "      <td>-0.372040</td>\n",
       "    </tr>\n",
       "    <tr>\n",
       "      <th>3141409</th>\n",
       "      <td>-0.089557</td>\n",
       "      <td>0.190229</td>\n",
       "      <td>-0.548256</td>\n",
       "      <td>0.151205</td>\n",
       "      <td>0.079773</td>\n",
       "      <td>0.447962</td>\n",
       "      <td>1.014983</td>\n",
       "      <td>-1.324759</td>\n",
       "      <td>0.056425</td>\n",
       "      <td>-1.952123</td>\n",
       "      <td>...</td>\n",
       "      <td>-0.317095</td>\n",
       "      <td>0.811402</td>\n",
       "      <td>3.271590</td>\n",
       "      <td>0.875537</td>\n",
       "      <td>0.421628</td>\n",
       "      <td>-0.170709</td>\n",
       "      <td>1.363181</td>\n",
       "      <td>-0.563314</td>\n",
       "      <td>0.669586</td>\n",
       "      <td>0.456400</td>\n",
       "    </tr>\n",
       "  </tbody>\n",
       "</table>\n",
       "<p>3141410 rows × 300 columns</p>\n",
       "</div>"
      ],
      "text/plain": [
       "              f_0       f_1       f_2       f_3       f_4       f_5       f_6  \\\n",
       "0        0.932573  0.113691 -0.402206  0.378386 -0.203938 -0.413469  0.965623   \n",
       "1        0.810802 -0.514115  0.742368 -0.616673 -0.194255  1.771210  1.428127   \n",
       "2        0.393974  0.615937  0.567806 -0.607963  0.068883 -1.083155  0.979656   \n",
       "3       -2.343535 -0.011870  1.874606 -0.606346 -0.586827 -0.815737  0.778096   \n",
       "4        0.842057 -0.262993  2.330030 -0.583422 -0.618392 -0.742814 -0.946789   \n",
       "...           ...       ...       ...       ...       ...       ...       ...   \n",
       "3141405  0.093530 -0.720275 -0.345497 -0.438781 -0.166972 -0.437182  1.475746   \n",
       "3141406 -1.344935 -0.199987 -0.107702 -0.454677 -0.221914 -0.141174 -1.498235   \n",
       "3141407  0.979489 -1.110491  1.006980 -0.467307 -0.159549  1.355671  0.150812   \n",
       "3141408 -2.565332  0.320301  0.076600  1.380182 -0.155366 -0.689000  0.381069   \n",
       "3141409 -0.089557  0.190229 -0.548256  0.151205  0.079773  0.447962  1.014983   \n",
       "\n",
       "              f_7       f_8       f_9  ...     f_290     f_291     f_292  \\\n",
       "0        1.230508  0.114809 -2.012777  ...  0.366028 -1.095620  0.200075   \n",
       "1        1.134144  0.114809 -0.219201  ... -0.154193  0.912726 -0.734579   \n",
       "2       -1.125681  0.114809 -1.035376  ... -0.138020  0.912726 -0.551904   \n",
       "3        0.298990  0.114809 -1.176410  ...  0.382201  0.912726 -0.266359   \n",
       "4        1.230508  0.114809 -0.005858  ... -0.170365  0.912726 -0.741355   \n",
       "...           ...       ...       ...  ...       ...       ...       ...   \n",
       "3141405  1.284423  0.056425 -1.433681  ... -0.285908 -1.232434 -0.660579   \n",
       "3141406  1.373834  0.056425 -1.211572  ...  0.184517 -1.232434 -0.670493   \n",
       "3141407 -0.088923  0.056425  0.996380  ... -0.756332 -1.232434  0.820784   \n",
       "3141408 -1.324759  0.056425 -1.111730  ... -0.756332 -1.232434  0.133074   \n",
       "3141409 -1.324759  0.056425 -1.952123  ... -0.317095  0.811402  3.271590   \n",
       "\n",
       "            f_293     f_294     f_295     f_296     f_297     f_298     f_299  \n",
       "0        0.819155  0.941183 -0.086764 -1.087009 -1.044826 -0.287605  0.321566  \n",
       "1        0.819155  0.941183 -0.387617 -1.087009 -0.929529 -0.974060 -0.343624  \n",
       "2       -1.220772 -1.060166 -0.219097 -1.087009 -0.612428 -0.113944  0.243608  \n",
       "3       -1.220772  0.941183 -0.609113  0.104928 -0.783423  1.151730 -0.773309  \n",
       "4       -1.220772  0.941183 -0.588445  0.104928  0.753279  1.345611 -0.737624  \n",
       "...           ...       ...       ...       ...       ...       ...       ...  \n",
       "3141405  0.875537  0.421628 -0.428097 -0.075548 -0.533092 -0.193732 -0.581394  \n",
       "3141406  0.875537  0.421628 -0.729949 -1.514277  0.013145 -0.890270 -0.589705  \n",
       "3141407 -1.142157  0.421628 -0.363329  1.363181 -0.079106 -1.580124 -0.297625  \n",
       "3141408 -1.142157  0.421628 -0.375288 -1.514277 -0.973762  0.608647 -0.372040  \n",
       "3141409  0.875537  0.421628 -0.170709  1.363181 -0.563314  0.669586  0.456400  \n",
       "\n",
       "[3141410 rows x 300 columns]"
      ]
     },
     "metadata": {},
     "output_type": "display_data"
    },
    {
     "data": {
      "text/html": [
       "<div>\n",
       "<style scoped>\n",
       "    .dataframe tbody tr th:only-of-type {\n",
       "        vertical-align: middle;\n",
       "    }\n",
       "\n",
       "    .dataframe tbody tr th {\n",
       "        vertical-align: top;\n",
       "    }\n",
       "\n",
       "    .dataframe thead th {\n",
       "        text-align: right;\n",
       "    }\n",
       "</style>\n",
       "<table border=\"1\" class=\"dataframe\">\n",
       "  <thead>\n",
       "    <tr style=\"text-align: right;\">\n",
       "      <th></th>\n",
       "      <th>target</th>\n",
       "    </tr>\n",
       "  </thead>\n",
       "  <tbody>\n",
       "    <tr>\n",
       "      <th>0</th>\n",
       "      <td>-0.300875</td>\n",
       "    </tr>\n",
       "    <tr>\n",
       "      <th>1</th>\n",
       "      <td>-0.231040</td>\n",
       "    </tr>\n",
       "    <tr>\n",
       "      <th>2</th>\n",
       "      <td>0.568807</td>\n",
       "    </tr>\n",
       "    <tr>\n",
       "      <th>3</th>\n",
       "      <td>-1.064780</td>\n",
       "    </tr>\n",
       "    <tr>\n",
       "      <th>4</th>\n",
       "      <td>-0.531940</td>\n",
       "    </tr>\n",
       "    <tr>\n",
       "      <th>...</th>\n",
       "      <td>...</td>\n",
       "    </tr>\n",
       "    <tr>\n",
       "      <th>3141405</th>\n",
       "      <td>0.033600</td>\n",
       "    </tr>\n",
       "    <tr>\n",
       "      <th>3141406</th>\n",
       "      <td>-0.223264</td>\n",
       "    </tr>\n",
       "    <tr>\n",
       "      <th>3141407</th>\n",
       "      <td>-0.559415</td>\n",
       "    </tr>\n",
       "    <tr>\n",
       "      <th>3141408</th>\n",
       "      <td>0.009599</td>\n",
       "    </tr>\n",
       "    <tr>\n",
       "      <th>3141409</th>\n",
       "      <td>1.212112</td>\n",
       "    </tr>\n",
       "  </tbody>\n",
       "</table>\n",
       "<p>3141410 rows × 1 columns</p>\n",
       "</div>"
      ],
      "text/plain": [
       "           target\n",
       "0       -0.300875\n",
       "1       -0.231040\n",
       "2        0.568807\n",
       "3       -1.064780\n",
       "4       -0.531940\n",
       "...           ...\n",
       "3141405  0.033600\n",
       "3141406 -0.223264\n",
       "3141407 -0.559415\n",
       "3141408  0.009599\n",
       "3141409  1.212112\n",
       "\n",
       "[3141410 rows x 1 columns]"
      ]
     },
     "metadata": {},
     "output_type": "display_data"
    },
    {
     "data": {
      "text/html": [
       "<div>\n",
       "<style scoped>\n",
       "    .dataframe tbody tr th:only-of-type {\n",
       "        vertical-align: middle;\n",
       "    }\n",
       "\n",
       "    .dataframe tbody tr th {\n",
       "        vertical-align: top;\n",
       "    }\n",
       "\n",
       "    .dataframe thead th {\n",
       "        text-align: right;\n",
       "    }\n",
       "</style>\n",
       "<table border=\"1\" class=\"dataframe\">\n",
       "  <thead>\n",
       "    <tr style=\"text-align: right;\">\n",
       "      <th></th>\n",
       "      <th>time_id</th>\n",
       "    </tr>\n",
       "  </thead>\n",
       "  <tbody>\n",
       "    <tr>\n",
       "      <th>0</th>\n",
       "      <td>0</td>\n",
       "    </tr>\n",
       "    <tr>\n",
       "      <th>1</th>\n",
       "      <td>0</td>\n",
       "    </tr>\n",
       "    <tr>\n",
       "      <th>2</th>\n",
       "      <td>0</td>\n",
       "    </tr>\n",
       "    <tr>\n",
       "      <th>3</th>\n",
       "      <td>0</td>\n",
       "    </tr>\n",
       "    <tr>\n",
       "      <th>4</th>\n",
       "      <td>0</td>\n",
       "    </tr>\n",
       "    <tr>\n",
       "      <th>...</th>\n",
       "      <td>...</td>\n",
       "    </tr>\n",
       "    <tr>\n",
       "      <th>3141405</th>\n",
       "      <td>1219</td>\n",
       "    </tr>\n",
       "    <tr>\n",
       "      <th>3141406</th>\n",
       "      <td>1219</td>\n",
       "    </tr>\n",
       "    <tr>\n",
       "      <th>3141407</th>\n",
       "      <td>1219</td>\n",
       "    </tr>\n",
       "    <tr>\n",
       "      <th>3141408</th>\n",
       "      <td>1219</td>\n",
       "    </tr>\n",
       "    <tr>\n",
       "      <th>3141409</th>\n",
       "      <td>1219</td>\n",
       "    </tr>\n",
       "  </tbody>\n",
       "</table>\n",
       "<p>3141410 rows × 1 columns</p>\n",
       "</div>"
      ],
      "text/plain": [
       "         time_id\n",
       "0              0\n",
       "1              0\n",
       "2              0\n",
       "3              0\n",
       "4              0\n",
       "...          ...\n",
       "3141405     1219\n",
       "3141406     1219\n",
       "3141407     1219\n",
       "3141408     1219\n",
       "3141409     1219\n",
       "\n",
       "[3141410 rows x 1 columns]"
      ]
     },
     "metadata": {},
     "output_type": "display_data"
    }
   ],
   "source": [
    "features = [f\"f_{i}\" for i in range(300)]\n",
    "\n",
    "features = pd.read_parquet(\"../ump-dataset/train.parquet\", columns=features)\n",
    "display(features)\n",
    "\n",
    "target = pd.read_parquet(\"../ump-dataset/train.parquet\", columns=[\"target\",])\n",
    "display(target)\n",
    "\n",
    "time = pd.read_parquet(\"../ump-dataset/train.parquet\", columns=[\"time_id\",])\n",
    "display(time)"
   ]
  },
  {
   "cell_type": "code",
   "execution_count": 3,
   "id": "b5f74807-0400-498f-b13e-ef9f31350f43",
   "metadata": {},
   "outputs": [
    {
     "data": {
      "text/plain": [
       "1211"
      ]
     },
     "execution_count": 3,
     "metadata": {},
     "output_type": "execute_result"
    }
   ],
   "source": [
    "time_ids = np.sort(time.time_id.unique())\n",
    "len(time_ids)"
   ]
  },
  {
   "cell_type": "code",
   "execution_count": 4,
   "id": "1b32639b-0fd2-413d-85ab-3625263ad3d1",
   "metadata": {},
   "outputs": [
    {
     "name": "stdout",
     "output_type": "stream",
     "text": [
      "time steps: 1211\n",
      "valid size: 363\n"
     ]
    }
   ],
   "source": [
    "n_time_steps = len(time_ids)\n",
    "print(\"time steps:\", n_time_steps)\n",
    "\n",
    "valid_prop = 0.3\n",
    "valid_size = int(valid_prop * n_time_steps)\n",
    "print(\"valid size:\", valid_size)"
   ]
  },
  {
   "cell_type": "code",
   "execution_count": 5,
   "id": "91ea263b-39e7-447f-aec7-83434aa97642",
   "metadata": {},
   "outputs": [],
   "source": [
    "valid_time_ids = time_ids[-valid_size:]"
   ]
  },
  {
   "cell_type": "code",
   "execution_count": 6,
   "id": "69ec1825-2a47-41e4-8df5-f106fa28930a",
   "metadata": {},
   "outputs": [],
   "source": [
    "train_idx = time.query(\"time_id not in @valid_time_ids\").index\n",
    "valid_idx = time.query(\"time_id in @valid_time_ids\").index\n",
    "\n",
    "# dataframes for metric calculation\n",
    "oof = target.loc[valid_idx,:].copy()\n",
    "oof[\"time_id\"] = time.loc[valid_idx,\"time_id\"]\n",
    "features_valid = features.loc[valid_idx,:]\n",
    "\n",
    "# input dataset for lgbm\n",
    "train_dset = lgb.Dataset(\n",
    "    data=features.loc[train_idx,:],\n",
    "    label=target.loc[train_idx,\"target\"].values,\n",
    "    free_raw_data=True\n",
    ")\n",
    "valid_dset = lgb.Dataset(\n",
    "    data=features.loc[valid_idx,:],\n",
    "    label=target.loc[valid_idx,\"target\"].values,\n",
    "    free_raw_data=True\n",
    ")"
   ]
  },
  {
   "cell_type": "code",
   "execution_count": 7,
   "id": "d6c17cfc-024a-4b0e-9ce7-6489afb5cc10",
   "metadata": {},
   "outputs": [
    {
     "data": {
      "text/plain": [
       "44"
      ]
     },
     "execution_count": 7,
     "metadata": {},
     "output_type": "execute_result"
    }
   ],
   "source": [
    "import gc\n",
    "gc.collect()"
   ]
  },
  {
   "cell_type": "markdown",
   "id": "c490dd11-7daf-4edf-ae91-f3c5b9ef067b",
   "metadata": {
    "tags": []
   },
   "source": [
    "***\n",
    "## Bayesian Optimization"
   ]
  },
  {
   "cell_type": "code",
   "execution_count": 8,
   "id": "6163bd46-a5bf-4188-911c-3980e8d8abac",
   "metadata": {},
   "outputs": [],
   "source": [
    "default_params = {\n",
    "    'boosting': 'dart',\n",
    "    'objective': 'mse',\n",
    "    'metric': 'rmse',\n",
    "    'learning_rate': 0.05,\n",
    "    'force_col_wise': True,\n",
    "    'bagging_freq': 1,\n",
    "    'seed': 19,\n",
    "    'verbosity': -1,\n",
    "    'first_metric_only': False,\n",
    "    'bin_construct_sample_cnt': int(1e8),\n",
    "    'feature_pre_filter' : False,\n",
    "}"
   ]
  },
  {
   "cell_type": "code",
   "execution_count": 9,
   "id": "78284f80-d571-4d8d-ab46-7788366648bd",
   "metadata": {},
   "outputs": [],
   "source": [
    "def pearsonr(preds: np.array, dset: lgb.Dataset):\n",
    "    \"\"\"\n",
    "    Helper function to compute Pearson correlation \n",
    "    on validation dataset for LightGBM as tracking metric.\n",
    "    Args:\n",
    "        preds: 1d-array with the model predictions\n",
    "        dset: LightGBM dataset with the labels\n",
    "    Returs:\n",
    "        Tuple with the corresponding output\n",
    "    \"\"\"\n",
    "    labels = dset.get_label()\n",
    "    return 'pearsonr', stats.pearsonr(preds, labels)[0], True"
   ]
  },
  {
   "cell_type": "code",
   "execution_count": 10,
   "id": "15a9486c-4a3a-4d88-9513-b17f2e52afe0",
   "metadata": {},
   "outputs": [],
   "source": [
    "def objective(trial):    \n",
    "    sampled_params = dict(\n",
    "        num_leaves = 2 ** trial.suggest_int(\"num_leaves_exp\", 6, 8),\n",
    "        feature_fraction = trial.suggest_discrete_uniform(\"feature_fraction\", 0.1, 0.4, 0.05),\n",
    "        bagging_fraction = trial.suggest_discrete_uniform(\"bagging_fraction\", 0.9, 1.0, 0.05),\n",
    "        lambda_l1 = trial.suggest_loguniform(\"lambda_l1\", 1e-3, 1e1),\n",
    "        lambda_l2 = trial.suggest_loguniform(\"lambda_l2\", 1e-3, 1e1),\n",
    "        min_data_in_leaf = trial.suggest_int(\"min_data_in_leaf\", 100, 1000, 100),\n",
    "        path_smooth = trial.suggest_float(\"path_smooth\", 0., 20.),\n",
    "        drop_rate = trial.suggest_discrete_uniform(\"drop_rate\", 0.05, 0.2, 0.05),\n",
    "        max_drop = trial.suggest_int(\"max_drop\", 10, 50, 10),\n",
    "        skip_drop = trial.suggest_discrete_uniform(\"skip_drop\", 0.5, 0.9, 0.05),\n",
    "    )\n",
    "    model_params = {**default_params, **sampled_params}\n",
    "    \n",
    "    model = lgb.train(\n",
    "        params=model_params,\n",
    "        train_set=train_dset,\n",
    "        num_boost_round=trial.suggest_int(\"num_iterations\", 1000, 2000, 100),\n",
    "    )\n",
    "    \n",
    "    # metric calculation\n",
    "    _oof = oof.copy()\n",
    "    _oof[\"pred\"] = model.predict(features_valid)\n",
    "    corrs = _oof.groupby(\"time_id\").apply(lambda x: stats.pearsonr(x.target, x.pred)[0])\n",
    "    corr_mean = corrs.mean()\n",
    "    corr_std = corrs.std()\n",
    "    \n",
    "    return corr_mean            "
   ]
  },
  {
   "cell_type": "code",
   "execution_count": 11,
   "id": "fb17093c-f7d5-41d5-b0f0-7237dd0481a1",
   "metadata": {
    "tags": []
   },
   "outputs": [
    {
     "name": "stderr",
     "output_type": "stream",
     "text": [
      "\u001b[32m[I 2022-02-11 16:41:37,788]\u001b[0m Using an existing study with name 'lgbm-dart' instead of creating a new one.\u001b[0m\n"
     ]
    }
   ],
   "source": [
    "do_optimize = False\n",
    "\n",
    "study = optuna.create_study(\n",
    "    study_name=\"lgbm-dart\",\n",
    "    direction='maximize',\n",
    "    storage='sqlite:///lgbm-dart.db',\n",
    "    load_if_exists=True,\n",
    ")\n",
    "\n",
    "if do_optimize:\n",
    "    study.optimize(\n",
    "        objective, \n",
    "        n_trials=1000, \n",
    "        timeout=43200, # 12-hrs\n",
    "        n_jobs=1, \n",
    "        gc_after_trial=True,\n",
    "    ) "
   ]
  },
  {
   "cell_type": "code",
   "execution_count": 12,
   "id": "20c2b3d1-edc2-4f48-a129-a975013934b6",
   "metadata": {},
   "outputs": [
    {
     "data": {
      "text/html": [
       "<div>\n",
       "<style scoped>\n",
       "    .dataframe tbody tr th:only-of-type {\n",
       "        vertical-align: middle;\n",
       "    }\n",
       "\n",
       "    .dataframe tbody tr th {\n",
       "        vertical-align: top;\n",
       "    }\n",
       "\n",
       "    .dataframe thead th {\n",
       "        text-align: right;\n",
       "    }\n",
       "</style>\n",
       "<table border=\"1\" class=\"dataframe\">\n",
       "  <thead>\n",
       "    <tr style=\"text-align: right;\">\n",
       "      <th></th>\n",
       "      <th>number</th>\n",
       "      <th>value</th>\n",
       "      <th>datetime_start</th>\n",
       "      <th>datetime_complete</th>\n",
       "      <th>duration</th>\n",
       "      <th>params_bagging_fraction</th>\n",
       "      <th>params_drop_rate</th>\n",
       "      <th>params_feature_fraction</th>\n",
       "      <th>params_lambda_l1</th>\n",
       "      <th>params_lambda_l2</th>\n",
       "      <th>params_max_drop</th>\n",
       "      <th>params_min_data_in_leaf</th>\n",
       "      <th>params_num_iterations</th>\n",
       "      <th>params_num_leaves_exp</th>\n",
       "      <th>params_path_smooth</th>\n",
       "      <th>params_skip_drop</th>\n",
       "      <th>state</th>\n",
       "    </tr>\n",
       "  </thead>\n",
       "  <tbody>\n",
       "    <tr>\n",
       "      <th>4</th>\n",
       "      <td>4</td>\n",
       "      <td>0.133164</td>\n",
       "      <td>2022-02-11 03:43:53.006805</td>\n",
       "      <td>2022-02-11 03:50:30.529200</td>\n",
       "      <td>0 days 00:06:37.522395</td>\n",
       "      <td>0.90</td>\n",
       "      <td>0.20</td>\n",
       "      <td>0.15</td>\n",
       "      <td>0.436768</td>\n",
       "      <td>0.032454</td>\n",
       "      <td>10</td>\n",
       "      <td>800</td>\n",
       "      <td>1400</td>\n",
       "      <td>7</td>\n",
       "      <td>0.473863</td>\n",
       "      <td>0.50</td>\n",
       "      <td>COMPLETE</td>\n",
       "    </tr>\n",
       "    <tr>\n",
       "      <th>12</th>\n",
       "      <td>12</td>\n",
       "      <td>0.133017</td>\n",
       "      <td>2022-02-11 05:35:20.966607</td>\n",
       "      <td>2022-02-11 06:26:47.290826</td>\n",
       "      <td>0 days 00:51:26.324219</td>\n",
       "      <td>0.95</td>\n",
       "      <td>0.20</td>\n",
       "      <td>0.20</td>\n",
       "      <td>6.791421</td>\n",
       "      <td>0.012429</td>\n",
       "      <td>50</td>\n",
       "      <td>600</td>\n",
       "      <td>1700</td>\n",
       "      <td>7</td>\n",
       "      <td>0.301407</td>\n",
       "      <td>0.50</td>\n",
       "      <td>COMPLETE</td>\n",
       "    </tr>\n",
       "    <tr>\n",
       "      <th>26</th>\n",
       "      <td>26</td>\n",
       "      <td>0.132966</td>\n",
       "      <td>2022-02-11 14:01:45.056339</td>\n",
       "      <td>2022-02-11 14:48:03.750095</td>\n",
       "      <td>0 days 00:46:18.693756</td>\n",
       "      <td>1.00</td>\n",
       "      <td>0.10</td>\n",
       "      <td>0.25</td>\n",
       "      <td>0.199113</td>\n",
       "      <td>0.001017</td>\n",
       "      <td>50</td>\n",
       "      <td>800</td>\n",
       "      <td>1700</td>\n",
       "      <td>7</td>\n",
       "      <td>2.358668</td>\n",
       "      <td>0.55</td>\n",
       "      <td>COMPLETE</td>\n",
       "    </tr>\n",
       "    <tr>\n",
       "      <th>19</th>\n",
       "      <td>19</td>\n",
       "      <td>0.132878</td>\n",
       "      <td>2022-02-11 10:14:22.035391</td>\n",
       "      <td>2022-02-11 10:50:29.586249</td>\n",
       "      <td>0 days 00:36:07.550858</td>\n",
       "      <td>1.00</td>\n",
       "      <td>0.15</td>\n",
       "      <td>0.30</td>\n",
       "      <td>0.081687</td>\n",
       "      <td>0.011472</td>\n",
       "      <td>40</td>\n",
       "      <td>500</td>\n",
       "      <td>1700</td>\n",
       "      <td>7</td>\n",
       "      <td>19.502371</td>\n",
       "      <td>0.60</td>\n",
       "      <td>COMPLETE</td>\n",
       "    </tr>\n",
       "    <tr>\n",
       "      <th>13</th>\n",
       "      <td>13</td>\n",
       "      <td>0.132855</td>\n",
       "      <td>2022-02-11 06:26:47.406522</td>\n",
       "      <td>2022-02-11 07:18:16.571507</td>\n",
       "      <td>0 days 00:51:29.164985</td>\n",
       "      <td>0.95</td>\n",
       "      <td>0.20</td>\n",
       "      <td>0.20</td>\n",
       "      <td>8.287525</td>\n",
       "      <td>0.014646</td>\n",
       "      <td>50</td>\n",
       "      <td>600</td>\n",
       "      <td>1700</td>\n",
       "      <td>7</td>\n",
       "      <td>0.836440</td>\n",
       "      <td>0.50</td>\n",
       "      <td>COMPLETE</td>\n",
       "    </tr>\n",
       "    <tr>\n",
       "      <th>29</th>\n",
       "      <td>29</td>\n",
       "      <td>0.132549</td>\n",
       "      <td>2022-02-11 15:55:32.267688</td>\n",
       "      <td>2022-02-11 16:40:18.070754</td>\n",
       "      <td>0 days 00:44:45.803066</td>\n",
       "      <td>1.00</td>\n",
       "      <td>0.10</td>\n",
       "      <td>0.20</td>\n",
       "      <td>3.329639</td>\n",
       "      <td>0.232261</td>\n",
       "      <td>50</td>\n",
       "      <td>900</td>\n",
       "      <td>1600</td>\n",
       "      <td>8</td>\n",
       "      <td>6.163226</td>\n",
       "      <td>0.65</td>\n",
       "      <td>COMPLETE</td>\n",
       "    </tr>\n",
       "    <tr>\n",
       "      <th>16</th>\n",
       "      <td>16</td>\n",
       "      <td>0.132166</td>\n",
       "      <td>2022-02-11 08:36:23.999258</td>\n",
       "      <td>2022-02-11 09:01:40.977456</td>\n",
       "      <td>0 days 00:25:16.978198</td>\n",
       "      <td>0.95</td>\n",
       "      <td>0.20</td>\n",
       "      <td>0.20</td>\n",
       "      <td>0.581130</td>\n",
       "      <td>0.005827</td>\n",
       "      <td>40</td>\n",
       "      <td>800</td>\n",
       "      <td>1300</td>\n",
       "      <td>7</td>\n",
       "      <td>0.397668</td>\n",
       "      <td>0.60</td>\n",
       "      <td>COMPLETE</td>\n",
       "    </tr>\n",
       "    <tr>\n",
       "      <th>2</th>\n",
       "      <td>2</td>\n",
       "      <td>0.132147</td>\n",
       "      <td>2022-02-11 03:30:38.393302</td>\n",
       "      <td>2022-02-11 03:34:16.496146</td>\n",
       "      <td>0 days 00:03:38.102844</td>\n",
       "      <td>0.90</td>\n",
       "      <td>0.10</td>\n",
       "      <td>0.15</td>\n",
       "      <td>0.008066</td>\n",
       "      <td>0.934542</td>\n",
       "      <td>10</td>\n",
       "      <td>1000</td>\n",
       "      <td>1100</td>\n",
       "      <td>7</td>\n",
       "      <td>2.093483</td>\n",
       "      <td>0.70</td>\n",
       "      <td>COMPLETE</td>\n",
       "    </tr>\n",
       "    <tr>\n",
       "      <th>27</th>\n",
       "      <td>27</td>\n",
       "      <td>0.131989</td>\n",
       "      <td>2022-02-11 14:48:03.868910</td>\n",
       "      <td>2022-02-11 15:27:15.497279</td>\n",
       "      <td>0 days 00:39:11.628369</td>\n",
       "      <td>0.95</td>\n",
       "      <td>0.10</td>\n",
       "      <td>0.25</td>\n",
       "      <td>1.122180</td>\n",
       "      <td>0.001464</td>\n",
       "      <td>50</td>\n",
       "      <td>800</td>\n",
       "      <td>1400</td>\n",
       "      <td>7</td>\n",
       "      <td>2.667116</td>\n",
       "      <td>0.50</td>\n",
       "      <td>COMPLETE</td>\n",
       "    </tr>\n",
       "    <tr>\n",
       "      <th>18</th>\n",
       "      <td>18</td>\n",
       "      <td>0.131752</td>\n",
       "      <td>2022-02-11 09:27:38.993784</td>\n",
       "      <td>2022-02-11 10:14:21.843862</td>\n",
       "      <td>0 days 00:46:42.850078</td>\n",
       "      <td>0.90</td>\n",
       "      <td>0.20</td>\n",
       "      <td>0.15</td>\n",
       "      <td>0.001020</td>\n",
       "      <td>0.224023</td>\n",
       "      <td>50</td>\n",
       "      <td>700</td>\n",
       "      <td>1300</td>\n",
       "      <td>8</td>\n",
       "      <td>11.344183</td>\n",
       "      <td>0.50</td>\n",
       "      <td>COMPLETE</td>\n",
       "    </tr>\n",
       "    <tr>\n",
       "      <th>3</th>\n",
       "      <td>3</td>\n",
       "      <td>0.131620</td>\n",
       "      <td>2022-02-11 03:34:16.646639</td>\n",
       "      <td>2022-02-11 03:43:52.861351</td>\n",
       "      <td>0 days 00:09:36.214712</td>\n",
       "      <td>0.90</td>\n",
       "      <td>0.15</td>\n",
       "      <td>0.30</td>\n",
       "      <td>0.013962</td>\n",
       "      <td>0.083049</td>\n",
       "      <td>50</td>\n",
       "      <td>900</td>\n",
       "      <td>1500</td>\n",
       "      <td>6</td>\n",
       "      <td>14.459547</td>\n",
       "      <td>0.80</td>\n",
       "      <td>COMPLETE</td>\n",
       "    </tr>\n",
       "    <tr>\n",
       "      <th>17</th>\n",
       "      <td>17</td>\n",
       "      <td>0.131581</td>\n",
       "      <td>2022-02-11 09:01:41.101552</td>\n",
       "      <td>2022-02-11 09:27:38.805623</td>\n",
       "      <td>0 days 00:25:57.704071</td>\n",
       "      <td>0.95</td>\n",
       "      <td>0.15</td>\n",
       "      <td>0.25</td>\n",
       "      <td>2.397456</td>\n",
       "      <td>0.045431</td>\n",
       "      <td>20</td>\n",
       "      <td>500</td>\n",
       "      <td>1800</td>\n",
       "      <td>7</td>\n",
       "      <td>3.475424</td>\n",
       "      <td>0.55</td>\n",
       "      <td>COMPLETE</td>\n",
       "    </tr>\n",
       "    <tr>\n",
       "      <th>22</th>\n",
       "      <td>22</td>\n",
       "      <td>0.131241</td>\n",
       "      <td>2022-02-11 11:21:39.598250</td>\n",
       "      <td>2022-02-11 12:00:58.299203</td>\n",
       "      <td>0 days 00:39:18.700953</td>\n",
       "      <td>0.95</td>\n",
       "      <td>0.20</td>\n",
       "      <td>0.25</td>\n",
       "      <td>0.054883</td>\n",
       "      <td>0.005619</td>\n",
       "      <td>30</td>\n",
       "      <td>400</td>\n",
       "      <td>1900</td>\n",
       "      <td>7</td>\n",
       "      <td>6.140798</td>\n",
       "      <td>0.50</td>\n",
       "      <td>COMPLETE</td>\n",
       "    </tr>\n",
       "    <tr>\n",
       "      <th>14</th>\n",
       "      <td>14</td>\n",
       "      <td>0.131165</td>\n",
       "      <td>2022-02-11 07:18:16.686039</td>\n",
       "      <td>2022-02-11 07:59:56.631052</td>\n",
       "      <td>0 days 00:41:39.945013</td>\n",
       "      <td>0.95</td>\n",
       "      <td>0.20</td>\n",
       "      <td>0.20</td>\n",
       "      <td>8.733000</td>\n",
       "      <td>0.001471</td>\n",
       "      <td>40</td>\n",
       "      <td>700</td>\n",
       "      <td>1800</td>\n",
       "      <td>7</td>\n",
       "      <td>4.388683</td>\n",
       "      <td>0.55</td>\n",
       "      <td>COMPLETE</td>\n",
       "    </tr>\n",
       "    <tr>\n",
       "      <th>25</th>\n",
       "      <td>25</td>\n",
       "      <td>0.131046</td>\n",
       "      <td>2022-02-11 13:21:36.491900</td>\n",
       "      <td>2022-02-11 14:01:44.938706</td>\n",
       "      <td>0 days 00:40:08.446806</td>\n",
       "      <td>1.00</td>\n",
       "      <td>0.20</td>\n",
       "      <td>0.35</td>\n",
       "      <td>0.049901</td>\n",
       "      <td>0.056640</td>\n",
       "      <td>40</td>\n",
       "      <td>600</td>\n",
       "      <td>1800</td>\n",
       "      <td>7</td>\n",
       "      <td>19.721944</td>\n",
       "      <td>0.60</td>\n",
       "      <td>COMPLETE</td>\n",
       "    </tr>\n",
       "    <tr>\n",
       "      <th>11</th>\n",
       "      <td>11</td>\n",
       "      <td>0.130964</td>\n",
       "      <td>2022-02-11 05:25:11.953682</td>\n",
       "      <td>2022-02-11 05:35:20.847688</td>\n",
       "      <td>0 days 00:10:08.894006</td>\n",
       "      <td>1.00</td>\n",
       "      <td>0.10</td>\n",
       "      <td>0.40</td>\n",
       "      <td>0.153536</td>\n",
       "      <td>0.002204</td>\n",
       "      <td>20</td>\n",
       "      <td>600</td>\n",
       "      <td>1100</td>\n",
       "      <td>6</td>\n",
       "      <td>16.852399</td>\n",
       "      <td>0.75</td>\n",
       "      <td>COMPLETE</td>\n",
       "    </tr>\n",
       "    <tr>\n",
       "      <th>23</th>\n",
       "      <td>23</td>\n",
       "      <td>0.130894</td>\n",
       "      <td>2022-02-11 12:00:58.418944</td>\n",
       "      <td>2022-02-11 12:37:12.089878</td>\n",
       "      <td>0 days 00:36:13.670934</td>\n",
       "      <td>1.00</td>\n",
       "      <td>0.15</td>\n",
       "      <td>0.30</td>\n",
       "      <td>0.065632</td>\n",
       "      <td>0.014757</td>\n",
       "      <td>40</td>\n",
       "      <td>500</td>\n",
       "      <td>1700</td>\n",
       "      <td>7</td>\n",
       "      <td>18.720490</td>\n",
       "      <td>0.60</td>\n",
       "      <td>COMPLETE</td>\n",
       "    </tr>\n",
       "    <tr>\n",
       "      <th>6</th>\n",
       "      <td>6</td>\n",
       "      <td>0.130866</td>\n",
       "      <td>2022-02-11 04:06:34.432605</td>\n",
       "      <td>2022-02-11 04:21:12.451969</td>\n",
       "      <td>0 days 00:14:38.019364</td>\n",
       "      <td>0.95</td>\n",
       "      <td>0.15</td>\n",
       "      <td>0.40</td>\n",
       "      <td>1.471813</td>\n",
       "      <td>0.123211</td>\n",
       "      <td>20</td>\n",
       "      <td>900</td>\n",
       "      <td>1200</td>\n",
       "      <td>6</td>\n",
       "      <td>8.313886</td>\n",
       "      <td>0.65</td>\n",
       "      <td>COMPLETE</td>\n",
       "    </tr>\n",
       "    <tr>\n",
       "      <th>21</th>\n",
       "      <td>21</td>\n",
       "      <td>0.130624</td>\n",
       "      <td>2022-02-11 11:10:49.227337</td>\n",
       "      <td>2022-02-11 11:21:39.477493</td>\n",
       "      <td>0 days 00:10:50.250156</td>\n",
       "      <td>0.90</td>\n",
       "      <td>0.15</td>\n",
       "      <td>0.20</td>\n",
       "      <td>4.369163</td>\n",
       "      <td>0.033972</td>\n",
       "      <td>10</td>\n",
       "      <td>700</td>\n",
       "      <td>1600</td>\n",
       "      <td>7</td>\n",
       "      <td>0.086222</td>\n",
       "      <td>0.70</td>\n",
       "      <td>COMPLETE</td>\n",
       "    </tr>\n",
       "    <tr>\n",
       "      <th>24</th>\n",
       "      <td>24</td>\n",
       "      <td>0.130622</td>\n",
       "      <td>2022-02-11 12:37:12.213021</td>\n",
       "      <td>2022-02-11 13:21:36.370412</td>\n",
       "      <td>0 days 00:44:24.157391</td>\n",
       "      <td>1.00</td>\n",
       "      <td>0.15</td>\n",
       "      <td>0.30</td>\n",
       "      <td>0.312833</td>\n",
       "      <td>0.014369</td>\n",
       "      <td>50</td>\n",
       "      <td>400</td>\n",
       "      <td>1600</td>\n",
       "      <td>7</td>\n",
       "      <td>11.425941</td>\n",
       "      <td>0.55</td>\n",
       "      <td>COMPLETE</td>\n",
       "    </tr>\n",
       "  </tbody>\n",
       "</table>\n",
       "</div>"
      ],
      "text/plain": [
       "    number     value             datetime_start          datetime_complete  \\\n",
       "4        4  0.133164 2022-02-11 03:43:53.006805 2022-02-11 03:50:30.529200   \n",
       "12      12  0.133017 2022-02-11 05:35:20.966607 2022-02-11 06:26:47.290826   \n",
       "26      26  0.132966 2022-02-11 14:01:45.056339 2022-02-11 14:48:03.750095   \n",
       "19      19  0.132878 2022-02-11 10:14:22.035391 2022-02-11 10:50:29.586249   \n",
       "13      13  0.132855 2022-02-11 06:26:47.406522 2022-02-11 07:18:16.571507   \n",
       "29      29  0.132549 2022-02-11 15:55:32.267688 2022-02-11 16:40:18.070754   \n",
       "16      16  0.132166 2022-02-11 08:36:23.999258 2022-02-11 09:01:40.977456   \n",
       "2        2  0.132147 2022-02-11 03:30:38.393302 2022-02-11 03:34:16.496146   \n",
       "27      27  0.131989 2022-02-11 14:48:03.868910 2022-02-11 15:27:15.497279   \n",
       "18      18  0.131752 2022-02-11 09:27:38.993784 2022-02-11 10:14:21.843862   \n",
       "3        3  0.131620 2022-02-11 03:34:16.646639 2022-02-11 03:43:52.861351   \n",
       "17      17  0.131581 2022-02-11 09:01:41.101552 2022-02-11 09:27:38.805623   \n",
       "22      22  0.131241 2022-02-11 11:21:39.598250 2022-02-11 12:00:58.299203   \n",
       "14      14  0.131165 2022-02-11 07:18:16.686039 2022-02-11 07:59:56.631052   \n",
       "25      25  0.131046 2022-02-11 13:21:36.491900 2022-02-11 14:01:44.938706   \n",
       "11      11  0.130964 2022-02-11 05:25:11.953682 2022-02-11 05:35:20.847688   \n",
       "23      23  0.130894 2022-02-11 12:00:58.418944 2022-02-11 12:37:12.089878   \n",
       "6        6  0.130866 2022-02-11 04:06:34.432605 2022-02-11 04:21:12.451969   \n",
       "21      21  0.130624 2022-02-11 11:10:49.227337 2022-02-11 11:21:39.477493   \n",
       "24      24  0.130622 2022-02-11 12:37:12.213021 2022-02-11 13:21:36.370412   \n",
       "\n",
       "                 duration  params_bagging_fraction  params_drop_rate  \\\n",
       "4  0 days 00:06:37.522395                     0.90              0.20   \n",
       "12 0 days 00:51:26.324219                     0.95              0.20   \n",
       "26 0 days 00:46:18.693756                     1.00              0.10   \n",
       "19 0 days 00:36:07.550858                     1.00              0.15   \n",
       "13 0 days 00:51:29.164985                     0.95              0.20   \n",
       "29 0 days 00:44:45.803066                     1.00              0.10   \n",
       "16 0 days 00:25:16.978198                     0.95              0.20   \n",
       "2  0 days 00:03:38.102844                     0.90              0.10   \n",
       "27 0 days 00:39:11.628369                     0.95              0.10   \n",
       "18 0 days 00:46:42.850078                     0.90              0.20   \n",
       "3  0 days 00:09:36.214712                     0.90              0.15   \n",
       "17 0 days 00:25:57.704071                     0.95              0.15   \n",
       "22 0 days 00:39:18.700953                     0.95              0.20   \n",
       "14 0 days 00:41:39.945013                     0.95              0.20   \n",
       "25 0 days 00:40:08.446806                     1.00              0.20   \n",
       "11 0 days 00:10:08.894006                     1.00              0.10   \n",
       "23 0 days 00:36:13.670934                     1.00              0.15   \n",
       "6  0 days 00:14:38.019364                     0.95              0.15   \n",
       "21 0 days 00:10:50.250156                     0.90              0.15   \n",
       "24 0 days 00:44:24.157391                     1.00              0.15   \n",
       "\n",
       "    params_feature_fraction  params_lambda_l1  params_lambda_l2  \\\n",
       "4                      0.15          0.436768          0.032454   \n",
       "12                     0.20          6.791421          0.012429   \n",
       "26                     0.25          0.199113          0.001017   \n",
       "19                     0.30          0.081687          0.011472   \n",
       "13                     0.20          8.287525          0.014646   \n",
       "29                     0.20          3.329639          0.232261   \n",
       "16                     0.20          0.581130          0.005827   \n",
       "2                      0.15          0.008066          0.934542   \n",
       "27                     0.25          1.122180          0.001464   \n",
       "18                     0.15          0.001020          0.224023   \n",
       "3                      0.30          0.013962          0.083049   \n",
       "17                     0.25          2.397456          0.045431   \n",
       "22                     0.25          0.054883          0.005619   \n",
       "14                     0.20          8.733000          0.001471   \n",
       "25                     0.35          0.049901          0.056640   \n",
       "11                     0.40          0.153536          0.002204   \n",
       "23                     0.30          0.065632          0.014757   \n",
       "6                      0.40          1.471813          0.123211   \n",
       "21                     0.20          4.369163          0.033972   \n",
       "24                     0.30          0.312833          0.014369   \n",
       "\n",
       "    params_max_drop  params_min_data_in_leaf  params_num_iterations  \\\n",
       "4                10                      800                   1400   \n",
       "12               50                      600                   1700   \n",
       "26               50                      800                   1700   \n",
       "19               40                      500                   1700   \n",
       "13               50                      600                   1700   \n",
       "29               50                      900                   1600   \n",
       "16               40                      800                   1300   \n",
       "2                10                     1000                   1100   \n",
       "27               50                      800                   1400   \n",
       "18               50                      700                   1300   \n",
       "3                50                      900                   1500   \n",
       "17               20                      500                   1800   \n",
       "22               30                      400                   1900   \n",
       "14               40                      700                   1800   \n",
       "25               40                      600                   1800   \n",
       "11               20                      600                   1100   \n",
       "23               40                      500                   1700   \n",
       "6                20                      900                   1200   \n",
       "21               10                      700                   1600   \n",
       "24               50                      400                   1600   \n",
       "\n",
       "    params_num_leaves_exp  params_path_smooth  params_skip_drop     state  \n",
       "4                       7            0.473863              0.50  COMPLETE  \n",
       "12                      7            0.301407              0.50  COMPLETE  \n",
       "26                      7            2.358668              0.55  COMPLETE  \n",
       "19                      7           19.502371              0.60  COMPLETE  \n",
       "13                      7            0.836440              0.50  COMPLETE  \n",
       "29                      8            6.163226              0.65  COMPLETE  \n",
       "16                      7            0.397668              0.60  COMPLETE  \n",
       "2                       7            2.093483              0.70  COMPLETE  \n",
       "27                      7            2.667116              0.50  COMPLETE  \n",
       "18                      8           11.344183              0.50  COMPLETE  \n",
       "3                       6           14.459547              0.80  COMPLETE  \n",
       "17                      7            3.475424              0.55  COMPLETE  \n",
       "22                      7            6.140798              0.50  COMPLETE  \n",
       "14                      7            4.388683              0.55  COMPLETE  \n",
       "25                      7           19.721944              0.60  COMPLETE  \n",
       "11                      6           16.852399              0.75  COMPLETE  \n",
       "23                      7           18.720490              0.60  COMPLETE  \n",
       "6                       6            8.313886              0.65  COMPLETE  \n",
       "21                      7            0.086222              0.70  COMPLETE  \n",
       "24                      7           11.425941              0.55  COMPLETE  "
      ]
     },
     "execution_count": 12,
     "metadata": {},
     "output_type": "execute_result"
    }
   ],
   "source": [
    "study.trials_dataframe().sort_values(\"value\", ascending=False).head(20)"
   ]
  },
  {
   "cell_type": "code",
   "execution_count": 13,
   "id": "de4d361a-1d7d-46da-8f20-fcd379f8b476",
   "metadata": {},
   "outputs": [
    {
     "data": {
      "application/vnd.plotly.v1+json": {
       "config": {
        "plotlyServerURL": "https://plot.ly"
       },
       "data": [
        {
         "mode": "markers",
         "name": "Objective Value",
         "type": "scatter",
         "x": [
          1,
          2,
          3,
          4,
          6,
          7,
          8,
          9,
          10,
          11,
          12,
          13,
          14,
          15,
          16,
          17,
          18,
          19,
          20,
          21,
          22,
          23,
          24,
          25,
          26,
          27,
          28,
          29
         ],
         "y": [
          0.12669725362252904,
          0.13214686195818323,
          0.1316201158867274,
          0.13316449495005198,
          0.13086643419398178,
          0.126653715862696,
          0.1283068584080613,
          0.12742393020730508,
          0.12873500441651653,
          0.1309640993849201,
          0.13301746467865602,
          0.13285545047923958,
          0.13116537927266694,
          0.1268758243107713,
          0.13216610407912452,
          0.13158051704530813,
          0.13175206007721052,
          0.13287815668406117,
          0.130458636149387,
          0.13062396926194014,
          0.13124102356992376,
          0.13089359874411796,
          0.13062227303749488,
          0.13104585471820188,
          0.1329659661964166,
          0.13198925967410546,
          0.12979221366278504,
          0.13254862367414352
         ]
        },
        {
         "name": "Best Value",
         "type": "scatter",
         "x": [
          1,
          2,
          3,
          4,
          6,
          7,
          8,
          9,
          10,
          11,
          12,
          13,
          14,
          15,
          16,
          17,
          18,
          19,
          20,
          21,
          22,
          23,
          24,
          25,
          26,
          27,
          28,
          29
         ],
         "y": [
          0.12669725362252904,
          0.13214686195818323,
          0.13214686195818323,
          0.13316449495005198,
          0.13316449495005198,
          0.13316449495005198,
          0.13316449495005198,
          0.13316449495005198,
          0.13316449495005198,
          0.13316449495005198,
          0.13316449495005198,
          0.13316449495005198,
          0.13316449495005198,
          0.13316449495005198,
          0.13316449495005198,
          0.13316449495005198,
          0.13316449495005198,
          0.13316449495005198,
          0.13316449495005198,
          0.13316449495005198,
          0.13316449495005198,
          0.13316449495005198,
          0.13316449495005198,
          0.13316449495005198,
          0.13316449495005198,
          0.13316449495005198,
          0.13316449495005198,
          0.13316449495005198
         ]
        }
       ],
       "layout": {
        "autosize": true,
        "template": {
         "data": {
          "bar": [
           {
            "error_x": {
             "color": "#2a3f5f"
            },
            "error_y": {
             "color": "#2a3f5f"
            },
            "marker": {
             "line": {
              "color": "#E5ECF6",
              "width": 0.5
             },
             "pattern": {
              "fillmode": "overlay",
              "size": 10,
              "solidity": 0.2
             }
            },
            "type": "bar"
           }
          ],
          "barpolar": [
           {
            "marker": {
             "line": {
              "color": "#E5ECF6",
              "width": 0.5
             },
             "pattern": {
              "fillmode": "overlay",
              "size": 10,
              "solidity": 0.2
             }
            },
            "type": "barpolar"
           }
          ],
          "carpet": [
           {
            "aaxis": {
             "endlinecolor": "#2a3f5f",
             "gridcolor": "white",
             "linecolor": "white",
             "minorgridcolor": "white",
             "startlinecolor": "#2a3f5f"
            },
            "baxis": {
             "endlinecolor": "#2a3f5f",
             "gridcolor": "white",
             "linecolor": "white",
             "minorgridcolor": "white",
             "startlinecolor": "#2a3f5f"
            },
            "type": "carpet"
           }
          ],
          "choropleth": [
           {
            "colorbar": {
             "outlinewidth": 0,
             "ticks": ""
            },
            "type": "choropleth"
           }
          ],
          "contour": [
           {
            "colorbar": {
             "outlinewidth": 0,
             "ticks": ""
            },
            "colorscale": [
             [
              0,
              "#0d0887"
             ],
             [
              0.1111111111111111,
              "#46039f"
             ],
             [
              0.2222222222222222,
              "#7201a8"
             ],
             [
              0.3333333333333333,
              "#9c179e"
             ],
             [
              0.4444444444444444,
              "#bd3786"
             ],
             [
              0.5555555555555556,
              "#d8576b"
             ],
             [
              0.6666666666666666,
              "#ed7953"
             ],
             [
              0.7777777777777778,
              "#fb9f3a"
             ],
             [
              0.8888888888888888,
              "#fdca26"
             ],
             [
              1,
              "#f0f921"
             ]
            ],
            "type": "contour"
           }
          ],
          "contourcarpet": [
           {
            "colorbar": {
             "outlinewidth": 0,
             "ticks": ""
            },
            "type": "contourcarpet"
           }
          ],
          "heatmap": [
           {
            "colorbar": {
             "outlinewidth": 0,
             "ticks": ""
            },
            "colorscale": [
             [
              0,
              "#0d0887"
             ],
             [
              0.1111111111111111,
              "#46039f"
             ],
             [
              0.2222222222222222,
              "#7201a8"
             ],
             [
              0.3333333333333333,
              "#9c179e"
             ],
             [
              0.4444444444444444,
              "#bd3786"
             ],
             [
              0.5555555555555556,
              "#d8576b"
             ],
             [
              0.6666666666666666,
              "#ed7953"
             ],
             [
              0.7777777777777778,
              "#fb9f3a"
             ],
             [
              0.8888888888888888,
              "#fdca26"
             ],
             [
              1,
              "#f0f921"
             ]
            ],
            "type": "heatmap"
           }
          ],
          "heatmapgl": [
           {
            "colorbar": {
             "outlinewidth": 0,
             "ticks": ""
            },
            "colorscale": [
             [
              0,
              "#0d0887"
             ],
             [
              0.1111111111111111,
              "#46039f"
             ],
             [
              0.2222222222222222,
              "#7201a8"
             ],
             [
              0.3333333333333333,
              "#9c179e"
             ],
             [
              0.4444444444444444,
              "#bd3786"
             ],
             [
              0.5555555555555556,
              "#d8576b"
             ],
             [
              0.6666666666666666,
              "#ed7953"
             ],
             [
              0.7777777777777778,
              "#fb9f3a"
             ],
             [
              0.8888888888888888,
              "#fdca26"
             ],
             [
              1,
              "#f0f921"
             ]
            ],
            "type": "heatmapgl"
           }
          ],
          "histogram": [
           {
            "marker": {
             "pattern": {
              "fillmode": "overlay",
              "size": 10,
              "solidity": 0.2
             }
            },
            "type": "histogram"
           }
          ],
          "histogram2d": [
           {
            "colorbar": {
             "outlinewidth": 0,
             "ticks": ""
            },
            "colorscale": [
             [
              0,
              "#0d0887"
             ],
             [
              0.1111111111111111,
              "#46039f"
             ],
             [
              0.2222222222222222,
              "#7201a8"
             ],
             [
              0.3333333333333333,
              "#9c179e"
             ],
             [
              0.4444444444444444,
              "#bd3786"
             ],
             [
              0.5555555555555556,
              "#d8576b"
             ],
             [
              0.6666666666666666,
              "#ed7953"
             ],
             [
              0.7777777777777778,
              "#fb9f3a"
             ],
             [
              0.8888888888888888,
              "#fdca26"
             ],
             [
              1,
              "#f0f921"
             ]
            ],
            "type": "histogram2d"
           }
          ],
          "histogram2dcontour": [
           {
            "colorbar": {
             "outlinewidth": 0,
             "ticks": ""
            },
            "colorscale": [
             [
              0,
              "#0d0887"
             ],
             [
              0.1111111111111111,
              "#46039f"
             ],
             [
              0.2222222222222222,
              "#7201a8"
             ],
             [
              0.3333333333333333,
              "#9c179e"
             ],
             [
              0.4444444444444444,
              "#bd3786"
             ],
             [
              0.5555555555555556,
              "#d8576b"
             ],
             [
              0.6666666666666666,
              "#ed7953"
             ],
             [
              0.7777777777777778,
              "#fb9f3a"
             ],
             [
              0.8888888888888888,
              "#fdca26"
             ],
             [
              1,
              "#f0f921"
             ]
            ],
            "type": "histogram2dcontour"
           }
          ],
          "mesh3d": [
           {
            "colorbar": {
             "outlinewidth": 0,
             "ticks": ""
            },
            "type": "mesh3d"
           }
          ],
          "parcoords": [
           {
            "line": {
             "colorbar": {
              "outlinewidth": 0,
              "ticks": ""
             }
            },
            "type": "parcoords"
           }
          ],
          "pie": [
           {
            "automargin": true,
            "type": "pie"
           }
          ],
          "scatter": [
           {
            "marker": {
             "colorbar": {
              "outlinewidth": 0,
              "ticks": ""
             }
            },
            "type": "scatter"
           }
          ],
          "scatter3d": [
           {
            "line": {
             "colorbar": {
              "outlinewidth": 0,
              "ticks": ""
             }
            },
            "marker": {
             "colorbar": {
              "outlinewidth": 0,
              "ticks": ""
             }
            },
            "type": "scatter3d"
           }
          ],
          "scattercarpet": [
           {
            "marker": {
             "colorbar": {
              "outlinewidth": 0,
              "ticks": ""
             }
            },
            "type": "scattercarpet"
           }
          ],
          "scattergeo": [
           {
            "marker": {
             "colorbar": {
              "outlinewidth": 0,
              "ticks": ""
             }
            },
            "type": "scattergeo"
           }
          ],
          "scattergl": [
           {
            "marker": {
             "colorbar": {
              "outlinewidth": 0,
              "ticks": ""
             }
            },
            "type": "scattergl"
           }
          ],
          "scattermapbox": [
           {
            "marker": {
             "colorbar": {
              "outlinewidth": 0,
              "ticks": ""
             }
            },
            "type": "scattermapbox"
           }
          ],
          "scatterpolar": [
           {
            "marker": {
             "colorbar": {
              "outlinewidth": 0,
              "ticks": ""
             }
            },
            "type": "scatterpolar"
           }
          ],
          "scatterpolargl": [
           {
            "marker": {
             "colorbar": {
              "outlinewidth": 0,
              "ticks": ""
             }
            },
            "type": "scatterpolargl"
           }
          ],
          "scatterternary": [
           {
            "marker": {
             "colorbar": {
              "outlinewidth": 0,
              "ticks": ""
             }
            },
            "type": "scatterternary"
           }
          ],
          "surface": [
           {
            "colorbar": {
             "outlinewidth": 0,
             "ticks": ""
            },
            "colorscale": [
             [
              0,
              "#0d0887"
             ],
             [
              0.1111111111111111,
              "#46039f"
             ],
             [
              0.2222222222222222,
              "#7201a8"
             ],
             [
              0.3333333333333333,
              "#9c179e"
             ],
             [
              0.4444444444444444,
              "#bd3786"
             ],
             [
              0.5555555555555556,
              "#d8576b"
             ],
             [
              0.6666666666666666,
              "#ed7953"
             ],
             [
              0.7777777777777778,
              "#fb9f3a"
             ],
             [
              0.8888888888888888,
              "#fdca26"
             ],
             [
              1,
              "#f0f921"
             ]
            ],
            "type": "surface"
           }
          ],
          "table": [
           {
            "cells": {
             "fill": {
              "color": "#EBF0F8"
             },
             "line": {
              "color": "white"
             }
            },
            "header": {
             "fill": {
              "color": "#C8D4E3"
             },
             "line": {
              "color": "white"
             }
            },
            "type": "table"
           }
          ]
         },
         "layout": {
          "annotationdefaults": {
           "arrowcolor": "#2a3f5f",
           "arrowhead": 0,
           "arrowwidth": 1
          },
          "autotypenumbers": "strict",
          "coloraxis": {
           "colorbar": {
            "outlinewidth": 0,
            "ticks": ""
           }
          },
          "colorscale": {
           "diverging": [
            [
             0,
             "#8e0152"
            ],
            [
             0.1,
             "#c51b7d"
            ],
            [
             0.2,
             "#de77ae"
            ],
            [
             0.3,
             "#f1b6da"
            ],
            [
             0.4,
             "#fde0ef"
            ],
            [
             0.5,
             "#f7f7f7"
            ],
            [
             0.6,
             "#e6f5d0"
            ],
            [
             0.7,
             "#b8e186"
            ],
            [
             0.8,
             "#7fbc41"
            ],
            [
             0.9,
             "#4d9221"
            ],
            [
             1,
             "#276419"
            ]
           ],
           "sequential": [
            [
             0,
             "#0d0887"
            ],
            [
             0.1111111111111111,
             "#46039f"
            ],
            [
             0.2222222222222222,
             "#7201a8"
            ],
            [
             0.3333333333333333,
             "#9c179e"
            ],
            [
             0.4444444444444444,
             "#bd3786"
            ],
            [
             0.5555555555555556,
             "#d8576b"
            ],
            [
             0.6666666666666666,
             "#ed7953"
            ],
            [
             0.7777777777777778,
             "#fb9f3a"
            ],
            [
             0.8888888888888888,
             "#fdca26"
            ],
            [
             1,
             "#f0f921"
            ]
           ],
           "sequentialminus": [
            [
             0,
             "#0d0887"
            ],
            [
             0.1111111111111111,
             "#46039f"
            ],
            [
             0.2222222222222222,
             "#7201a8"
            ],
            [
             0.3333333333333333,
             "#9c179e"
            ],
            [
             0.4444444444444444,
             "#bd3786"
            ],
            [
             0.5555555555555556,
             "#d8576b"
            ],
            [
             0.6666666666666666,
             "#ed7953"
            ],
            [
             0.7777777777777778,
             "#fb9f3a"
            ],
            [
             0.8888888888888888,
             "#fdca26"
            ],
            [
             1,
             "#f0f921"
            ]
           ]
          },
          "colorway": [
           "#636efa",
           "#EF553B",
           "#00cc96",
           "#ab63fa",
           "#FFA15A",
           "#19d3f3",
           "#FF6692",
           "#B6E880",
           "#FF97FF",
           "#FECB52"
          ],
          "font": {
           "color": "#2a3f5f"
          },
          "geo": {
           "bgcolor": "white",
           "lakecolor": "white",
           "landcolor": "#E5ECF6",
           "showlakes": true,
           "showland": true,
           "subunitcolor": "white"
          },
          "hoverlabel": {
           "align": "left"
          },
          "hovermode": "closest",
          "mapbox": {
           "style": "light"
          },
          "paper_bgcolor": "white",
          "plot_bgcolor": "#E5ECF6",
          "polar": {
           "angularaxis": {
            "gridcolor": "white",
            "linecolor": "white",
            "ticks": ""
           },
           "bgcolor": "#E5ECF6",
           "radialaxis": {
            "gridcolor": "white",
            "linecolor": "white",
            "ticks": ""
           }
          },
          "scene": {
           "xaxis": {
            "backgroundcolor": "#E5ECF6",
            "gridcolor": "white",
            "gridwidth": 2,
            "linecolor": "white",
            "showbackground": true,
            "ticks": "",
            "zerolinecolor": "white"
           },
           "yaxis": {
            "backgroundcolor": "#E5ECF6",
            "gridcolor": "white",
            "gridwidth": 2,
            "linecolor": "white",
            "showbackground": true,
            "ticks": "",
            "zerolinecolor": "white"
           },
           "zaxis": {
            "backgroundcolor": "#E5ECF6",
            "gridcolor": "white",
            "gridwidth": 2,
            "linecolor": "white",
            "showbackground": true,
            "ticks": "",
            "zerolinecolor": "white"
           }
          },
          "shapedefaults": {
           "line": {
            "color": "#2a3f5f"
           }
          },
          "ternary": {
           "aaxis": {
            "gridcolor": "white",
            "linecolor": "white",
            "ticks": ""
           },
           "baxis": {
            "gridcolor": "white",
            "linecolor": "white",
            "ticks": ""
           },
           "bgcolor": "#E5ECF6",
           "caxis": {
            "gridcolor": "white",
            "linecolor": "white",
            "ticks": ""
           }
          },
          "title": {
           "x": 0.05
          },
          "xaxis": {
           "automargin": true,
           "gridcolor": "white",
           "linecolor": "white",
           "ticks": "",
           "title": {
            "standoff": 15
           },
           "zerolinecolor": "white",
           "zerolinewidth": 2
          },
          "yaxis": {
           "automargin": true,
           "gridcolor": "white",
           "linecolor": "white",
           "ticks": "",
           "title": {
            "standoff": 15
           },
           "zerolinecolor": "white",
           "zerolinewidth": 2
          }
         }
        },
        "title": {
         "text": "Optimization History Plot"
        },
        "xaxis": {
         "autorange": true,
         "range": [
          -0.7264206209724664,
          30.726420620972466
         ],
         "title": {
          "text": "#Trials"
         },
         "type": "linear"
        },
        "yaxis": {
         "autorange": true,
         "range": [
          0.1261164185593705,
          0.13370179225337747
         ],
         "title": {
          "text": "Objective Value"
         },
         "type": "linear"
        }
       }
      },
      "image/png": "[encoded data removed]"
     },
     "metadata": {},
     "output_type": "display_data"
    }
   ],
   "source": [
    "plot_optimization_history(study)"
   ]
  },
  {
   "cell_type": "code",
   "execution_count": 14,
   "id": "1dd878ce-7455-441f-8bc0-f3aa5ce98744",
   "metadata": {},
   "outputs": [
    {
     "data": {
      "application/vnd.plotly.v1+json": {
       "config": {
        "plotlyServerURL": "https://plot.ly"
       },
       "data": [
        {
         "cliponaxis": false,
         "hovertemplate": [
          "lambda_l2 (LogUniformDistribution): 0.0009880919092824971<extra></extra>",
          "bagging_fraction (DiscreteUniformDistribution): 0.001346066461506215<extra></extra>",
          "lambda_l1 (LogUniformDistribution): 0.004189353662151643<extra></extra>",
          "num_leaves_exp (IntUniformDistribution): 0.005099885136329692<extra></extra>",
          "skip_drop (DiscreteUniformDistribution): 0.005603484400821692<extra></extra>",
          "max_drop (IntUniformDistribution): 0.007841449964459544<extra></extra>",
          "num_iterations (IntUniformDistribution): 0.01095478729793834<extra></extra>",
          "drop_rate (DiscreteUniformDistribution): 0.012352893891493019<extra></extra>",
          "path_smooth (UniformDistribution): 0.031216791702976372<extra></extra>",
          "feature_fraction (DiscreteUniformDistribution): 0.04533507519309012<extra></extra>",
          "min_data_in_leaf (IntUniformDistribution): 0.8750721203799509<extra></extra>"
         ],
         "marker": {
          "color": "rgb(66,146,198)"
         },
         "orientation": "h",
         "text": [
          "0.0009880919092824971",
          "0.001346066461506215",
          "0.004189353662151643",
          "0.005099885136329692",
          "0.005603484400821692",
          "0.007841449964459544",
          "0.01095478729793834",
          "0.012352893891493019",
          "0.031216791702976372",
          "0.04533507519309012",
          "0.8750721203799509"
         ],
         "textposition": "outside",
         "texttemplate": "%{text:.2f}",
         "type": "bar",
         "x": [
          0.0009880919092824971,
          0.001346066461506215,
          0.004189353662151643,
          0.005099885136329692,
          0.005603484400821692,
          0.007841449964459544,
          0.01095478729793834,
          0.012352893891493019,
          0.031216791702976372,
          0.04533507519309012,
          0.8750721203799509
         ],
         "y": [
          "lambda_l2",
          "bagging_fraction",
          "lambda_l1",
          "num_leaves_exp",
          "skip_drop",
          "max_drop",
          "num_iterations",
          "drop_rate",
          "path_smooth",
          "feature_fraction",
          "min_data_in_leaf"
         ]
        }
       ],
       "layout": {
        "autosize": true,
        "showlegend": false,
        "template": {
         "data": {
          "bar": [
           {
            "error_x": {
             "color": "#2a3f5f"
            },
            "error_y": {
             "color": "#2a3f5f"
            },
            "marker": {
             "line": {
              "color": "#E5ECF6",
              "width": 0.5
             },
             "pattern": {
              "fillmode": "overlay",
              "size": 10,
              "solidity": 0.2
             }
            },
            "type": "bar"
           }
          ],
          "barpolar": [
           {
            "marker": {
             "line": {
              "color": "#E5ECF6",
              "width": 0.5
             },
             "pattern": {
              "fillmode": "overlay",
              "size": 10,
              "solidity": 0.2
             }
            },
            "type": "barpolar"
           }
          ],
          "carpet": [
           {
            "aaxis": {
             "endlinecolor": "#2a3f5f",
             "gridcolor": "white",
             "linecolor": "white",
             "minorgridcolor": "white",
             "startlinecolor": "#2a3f5f"
            },
            "baxis": {
             "endlinecolor": "#2a3f5f",
             "gridcolor": "white",
             "linecolor": "white",
             "minorgridcolor": "white",
             "startlinecolor": "#2a3f5f"
            },
            "type": "carpet"
           }
          ],
          "choropleth": [
           {
            "colorbar": {
             "outlinewidth": 0,
             "ticks": ""
            },
            "type": "choropleth"
           }
          ],
          "contour": [
           {
            "colorbar": {
             "outlinewidth": 0,
             "ticks": ""
            },
            "colorscale": [
             [
              0,
              "#0d0887"
             ],
             [
              0.1111111111111111,
              "#46039f"
             ],
             [
              0.2222222222222222,
              "#7201a8"
             ],
             [
              0.3333333333333333,
              "#9c179e"
             ],
             [
              0.4444444444444444,
              "#bd3786"
             ],
             [
              0.5555555555555556,
              "#d8576b"
             ],
             [
              0.6666666666666666,
              "#ed7953"
             ],
             [
              0.7777777777777778,
              "#fb9f3a"
             ],
             [
              0.8888888888888888,
              "#fdca26"
             ],
             [
              1,
              "#f0f921"
             ]
            ],
            "type": "contour"
           }
          ],
          "contourcarpet": [
           {
            "colorbar": {
             "outlinewidth": 0,
             "ticks": ""
            },
            "type": "contourcarpet"
           }
          ],
          "heatmap": [
           {
            "colorbar": {
             "outlinewidth": 0,
             "ticks": ""
            },
            "colorscale": [
             [
              0,
              "#0d0887"
             ],
             [
              0.1111111111111111,
              "#46039f"
             ],
             [
              0.2222222222222222,
              "#7201a8"
             ],
             [
              0.3333333333333333,
              "#9c179e"
             ],
             [
              0.4444444444444444,
              "#bd3786"
             ],
             [
              0.5555555555555556,
              "#d8576b"
             ],
             [
              0.6666666666666666,
              "#ed7953"
             ],
             [
              0.7777777777777778,
              "#fb9f3a"
             ],
             [
              0.8888888888888888,
              "#fdca26"
             ],
             [
              1,
              "#f0f921"
             ]
            ],
            "type": "heatmap"
           }
          ],
          "heatmapgl": [
           {
            "colorbar": {
             "outlinewidth": 0,
             "ticks": ""
            },
            "colorscale": [
             [
              0,
              "#0d0887"
             ],
             [
              0.1111111111111111,
              "#46039f"
             ],
             [
              0.2222222222222222,
              "#7201a8"
             ],
             [
              0.3333333333333333,
              "#9c179e"
             ],
             [
              0.4444444444444444,
              "#bd3786"
             ],
             [
              0.5555555555555556,
              "#d8576b"
             ],
             [
              0.6666666666666666,
              "#ed7953"
             ],
             [
              0.7777777777777778,
              "#fb9f3a"
             ],
             [
              0.8888888888888888,
              "#fdca26"
             ],
             [
              1,
              "#f0f921"
             ]
            ],
            "type": "heatmapgl"
           }
          ],
          "histogram": [
           {
            "marker": {
             "pattern": {
              "fillmode": "overlay",
              "size": 10,
              "solidity": 0.2
             }
            },
            "type": "histogram"
           }
          ],
          "histogram2d": [
           {
            "colorbar": {
             "outlinewidth": 0,
             "ticks": ""
            },
            "colorscale": [
             [
              0,
              "#0d0887"
             ],
             [
              0.1111111111111111,
              "#46039f"
             ],
             [
              0.2222222222222222,
              "#7201a8"
             ],
             [
              0.3333333333333333,
              "#9c179e"
             ],
             [
              0.4444444444444444,
              "#bd3786"
             ],
             [
              0.5555555555555556,
              "#d8576b"
             ],
             [
              0.6666666666666666,
              "#ed7953"
             ],
             [
              0.7777777777777778,
              "#fb9f3a"
             ],
             [
              0.8888888888888888,
              "#fdca26"
             ],
             [
              1,
              "#f0f921"
             ]
            ],
            "type": "histogram2d"
           }
          ],
          "histogram2dcontour": [
           {
            "colorbar": {
             "outlinewidth": 0,
             "ticks": ""
            },
            "colorscale": [
             [
              0,
              "#0d0887"
             ],
             [
              0.1111111111111111,
              "#46039f"
             ],
             [
              0.2222222222222222,
              "#7201a8"
             ],
             [
              0.3333333333333333,
              "#9c179e"
             ],
             [
              0.4444444444444444,
              "#bd3786"
             ],
             [
              0.5555555555555556,
              "#d8576b"
             ],
             [
              0.6666666666666666,
              "#ed7953"
             ],
             [
              0.7777777777777778,
              "#fb9f3a"
             ],
             [
              0.8888888888888888,
              "#fdca26"
             ],
             [
              1,
              "#f0f921"
             ]
            ],
            "type": "histogram2dcontour"
           }
          ],
          "mesh3d": [
           {
            "colorbar": {
             "outlinewidth": 0,
             "ticks": ""
            },
            "type": "mesh3d"
           }
          ],
          "parcoords": [
           {
            "line": {
             "colorbar": {
              "outlinewidth": 0,
              "ticks": ""
             }
            },
            "type": "parcoords"
           }
          ],
          "pie": [
           {
            "automargin": true,
            "type": "pie"
           }
          ],
          "scatter": [
           {
            "marker": {
             "colorbar": {
              "outlinewidth": 0,
              "ticks": ""
             }
            },
            "type": "scatter"
           }
          ],
          "scatter3d": [
           {
            "line": {
             "colorbar": {
              "outlinewidth": 0,
              "ticks": ""
             }
            },
            "marker": {
             "colorbar": {
              "outlinewidth": 0,
              "ticks": ""
             }
            },
            "type": "scatter3d"
           }
          ],
          "scattercarpet": [
           {
            "marker": {
             "colorbar": {
              "outlinewidth": 0,
              "ticks": ""
             }
            },
            "type": "scattercarpet"
           }
          ],
          "scattergeo": [
           {
            "marker": {
             "colorbar": {
              "outlinewidth": 0,
              "ticks": ""
             }
            },
            "type": "scattergeo"
           }
          ],
          "scattergl": [
           {
            "marker": {
             "colorbar": {
              "outlinewidth": 0,
              "ticks": ""
             }
            },
            "type": "scattergl"
           }
          ],
          "scattermapbox": [
           {
            "marker": {
             "colorbar": {
              "outlinewidth": 0,
              "ticks": ""
             }
            },
            "type": "scattermapbox"
           }
          ],
          "scatterpolar": [
           {
            "marker": {
             "colorbar": {
              "outlinewidth": 0,
              "ticks": ""
             }
            },
            "type": "scatterpolar"
           }
          ],
          "scatterpolargl": [
           {
            "marker": {
             "colorbar": {
              "outlinewidth": 0,
              "ticks": ""
             }
            },
            "type": "scatterpolargl"
           }
          ],
          "scatterternary": [
           {
            "marker": {
             "colorbar": {
              "outlinewidth": 0,
              "ticks": ""
             }
            },
            "type": "scatterternary"
           }
          ],
          "surface": [
           {
            "colorbar": {
             "outlinewidth": 0,
             "ticks": ""
            },
            "colorscale": [
             [
              0,
              "#0d0887"
             ],
             [
              0.1111111111111111,
              "#46039f"
             ],
             [
              0.2222222222222222,
              "#7201a8"
             ],
             [
              0.3333333333333333,
              "#9c179e"
             ],
             [
              0.4444444444444444,
              "#bd3786"
             ],
             [
              0.5555555555555556,
              "#d8576b"
             ],
             [
              0.6666666666666666,
              "#ed7953"
             ],
             [
              0.7777777777777778,
              "#fb9f3a"
             ],
             [
              0.8888888888888888,
              "#fdca26"
             ],
             [
              1,
              "#f0f921"
             ]
            ],
            "type": "surface"
           }
          ],
          "table": [
           {
            "cells": {
             "fill": {
              "color": "#EBF0F8"
             },
             "line": {
              "color": "white"
             }
            },
            "header": {
             "fill": {
              "color": "#C8D4E3"
             },
             "line": {
              "color": "white"
             }
            },
            "type": "table"
           }
          ]
         },
         "layout": {
          "annotationdefaults": {
           "arrowcolor": "#2a3f5f",
           "arrowhead": 0,
           "arrowwidth": 1
          },
          "autotypenumbers": "strict",
          "coloraxis": {
           "colorbar": {
            "outlinewidth": 0,
            "ticks": ""
           }
          },
          "colorscale": {
           "diverging": [
            [
             0,
             "#8e0152"
            ],
            [
             0.1,
             "#c51b7d"
            ],
            [
             0.2,
             "#de77ae"
            ],
            [
             0.3,
             "#f1b6da"
            ],
            [
             0.4,
             "#fde0ef"
            ],
            [
             0.5,
             "#f7f7f7"
            ],
            [
             0.6,
             "#e6f5d0"
            ],
            [
             0.7,
             "#b8e186"
            ],
            [
             0.8,
             "#7fbc41"
            ],
            [
             0.9,
             "#4d9221"
            ],
            [
             1,
             "#276419"
            ]
           ],
           "sequential": [
            [
             0,
             "#0d0887"
            ],
            [
             0.1111111111111111,
             "#46039f"
            ],
            [
             0.2222222222222222,
             "#7201a8"
            ],
            [
             0.3333333333333333,
             "#9c179e"
            ],
            [
             0.4444444444444444,
             "#bd3786"
            ],
            [
             0.5555555555555556,
             "#d8576b"
            ],
            [
             0.6666666666666666,
             "#ed7953"
            ],
            [
             0.7777777777777778,
             "#fb9f3a"
            ],
            [
             0.8888888888888888,
             "#fdca26"
            ],
            [
             1,
             "#f0f921"
            ]
           ],
           "sequentialminus": [
            [
             0,
             "#0d0887"
            ],
            [
             0.1111111111111111,
             "#46039f"
            ],
            [
             0.2222222222222222,
             "#7201a8"
            ],
            [
             0.3333333333333333,
             "#9c179e"
            ],
            [
             0.4444444444444444,
             "#bd3786"
            ],
            [
             0.5555555555555556,
             "#d8576b"
            ],
            [
             0.6666666666666666,
             "#ed7953"
            ],
            [
             0.7777777777777778,
             "#fb9f3a"
            ],
            [
             0.8888888888888888,
             "#fdca26"
            ],
            [
             1,
             "#f0f921"
            ]
           ]
          },
          "colorway": [
           "#636efa",
           "#EF553B",
           "#00cc96",
           "#ab63fa",
           "#FFA15A",
           "#19d3f3",
           "#FF6692",
           "#B6E880",
           "#FF97FF",
           "#FECB52"
          ],
          "font": {
           "color": "#2a3f5f"
          },
          "geo": {
           "bgcolor": "white",
           "lakecolor": "white",
           "landcolor": "#E5ECF6",
           "showlakes": true,
           "showland": true,
           "subunitcolor": "white"
          },
          "hoverlabel": {
           "align": "left"
          },
          "hovermode": "closest",
          "mapbox": {
           "style": "light"
          },
          "paper_bgcolor": "white",
          "plot_bgcolor": "#E5ECF6",
          "polar": {
           "angularaxis": {
            "gridcolor": "white",
            "linecolor": "white",
            "ticks": ""
           },
           "bgcolor": "#E5ECF6",
           "radialaxis": {
            "gridcolor": "white",
            "linecolor": "white",
            "ticks": ""
           }
          },
          "scene": {
           "xaxis": {
            "backgroundcolor": "#E5ECF6",
            "gridcolor": "white",
            "gridwidth": 2,
            "linecolor": "white",
            "showbackground": true,
            "ticks": "",
            "zerolinecolor": "white"
           },
           "yaxis": {
            "backgroundcolor": "#E5ECF6",
            "gridcolor": "white",
            "gridwidth": 2,
            "linecolor": "white",
            "showbackground": true,
            "ticks": "",
            "zerolinecolor": "white"
           },
           "zaxis": {
            "backgroundcolor": "#E5ECF6",
            "gridcolor": "white",
            "gridwidth": 2,
            "linecolor": "white",
            "showbackground": true,
            "ticks": "",
            "zerolinecolor": "white"
           }
          },
          "shapedefaults": {
           "line": {
            "color": "#2a3f5f"
           }
          },
          "ternary": {
           "aaxis": {
            "gridcolor": "white",
            "linecolor": "white",
            "ticks": ""
           },
           "baxis": {
            "gridcolor": "white",
            "linecolor": "white",
            "ticks": ""
           },
           "bgcolor": "#E5ECF6",
           "caxis": {
            "gridcolor": "white",
            "linecolor": "white",
            "ticks": ""
           }
          },
          "title": {
           "x": 0.05
          },
          "xaxis": {
           "automargin": true,
           "gridcolor": "white",
           "linecolor": "white",
           "ticks": "",
           "title": {
            "standoff": 15
           },
           "zerolinecolor": "white",
           "zerolinewidth": 2
          },
          "yaxis": {
           "automargin": true,
           "gridcolor": "white",
           "linecolor": "white",
           "ticks": "",
           "title": {
            "standoff": 15
           },
           "zerolinecolor": "white",
           "zerolinewidth": 2
          }
         }
        },
        "title": {
         "text": "Hyperparameter Importances"
        },
        "xaxis": {
         "autorange": true,
         "range": [
          0,
          0.9211285477683693
         ],
         "title": {
          "text": "Importance for Objective Value"
         },
         "type": "linear"
        },
        "yaxis": {
         "autorange": true,
         "range": [
          -0.5,
          10.5
         ],
         "title": {
          "text": "Hyperparameter"
         },
         "type": "category"
        }
       }
      },
      "image/png": "[encoded data removed]"
     },
     "metadata": {},
     "output_type": "display_data"
    }
   ],
   "source": [
    "plot_param_importances(study)"
   ]
  },
  {
   "cell_type": "code",
   "execution_count": 15,
   "id": "f29ff4a4-3e2c-4b82-9c15-f67617a76122",
   "metadata": {},
   "outputs": [
    {
     "data": {
      "application/vnd.plotly.v1+json": {
       "config": {
        "plotlyServerURL": "https://plot.ly"
       },
       "data": [
        {
         "marker": {
          "color": [
           1,
           2,
           3,
           4,
           6,
           7,
           8,
           9,
           10,
           11,
           12,
           13,
           14,
           15,
           16,
           17,
           18,
           19,
           20,
           21,
           22,
           23,
           24,
           25,
           26,
           27,
           28,
           29
          ],
          "colorbar": {
           "title": {
            "text": "#Trials"
           },
           "x": 1,
           "xpad": 40,
           "y": 0.5
          },
          "colorscale": [
           [
            0,
            "rgb(247,251,255)"
           ],
           [
            0.125,
            "rgb(222,235,247)"
           ],
           [
            0.25,
            "rgb(198,219,239)"
           ],
           [
            0.375,
            "rgb(158,202,225)"
           ],
           [
            0.5,
            "rgb(107,174,214)"
           ],
           [
            0.625,
            "rgb(66,146,198)"
           ],
           [
            0.75,
            "rgb(33,113,181)"
           ],
           [
            0.875,
            "rgb(8,81,156)"
           ],
           [
            1,
            "rgb(8,48,107)"
           ]
          ],
          "line": {
           "color": "Grey",
           "width": 0.5
          },
          "showscale": true
         },
         "mode": "markers",
         "showlegend": false,
         "type": "scatter",
         "x": [
          1,
          0.9,
          0.9,
          0.9,
          0.9500000000000001,
          0.9,
          0.9,
          0.9,
          1,
          1,
          0.9500000000000001,
          0.9500000000000001,
          0.9500000000000001,
          0.9500000000000001,
          0.9500000000000001,
          0.9500000000000001,
          0.9,
          1,
          0.9500000000000001,
          0.9,
          0.9500000000000001,
          1,
          1,
          1,
          1,
          0.9500000000000001,
          0.9,
          1
         ],
         "xaxis": "x",
         "y": [
          0.12669725362252904,
          0.13214686195818323,
          0.1316201158867274,
          0.13316449495005198,
          0.13086643419398178,
          0.126653715862696,
          0.1283068584080613,
          0.12742393020730508,
          0.12873500441651653,
          0.1309640993849201,
          0.13301746467865602,
          0.13285545047923958,
          0.13116537927266694,
          0.1268758243107713,
          0.13216610407912452,
          0.13158051704530813,
          0.13175206007721052,
          0.13287815668406117,
          0.130458636149387,
          0.13062396926194014,
          0.13124102356992376,
          0.13089359874411796,
          0.13062227303749488,
          0.13104585471820188,
          0.1329659661964166,
          0.13198925967410546,
          0.12979221366278504,
          0.13254862367414352
         ],
         "yaxis": "y"
        },
        {
         "marker": {
          "color": [
           1,
           2,
           3,
           4,
           6,
           7,
           8,
           9,
           10,
           11,
           12,
           13,
           14,
           15,
           16,
           17,
           18,
           19,
           20,
           21,
           22,
           23,
           24,
           25,
           26,
           27,
           28,
           29
          ],
          "colorbar": {
           "title": {
            "text": "#Trials"
           },
           "x": 1,
           "xpad": 40
          },
          "colorscale": [
           [
            0,
            "rgb(247,251,255)"
           ],
           [
            0.125,
            "rgb(222,235,247)"
           ],
           [
            0.25,
            "rgb(198,219,239)"
           ],
           [
            0.375,
            "rgb(158,202,225)"
           ],
           [
            0.5,
            "rgb(107,174,214)"
           ],
           [
            0.625,
            "rgb(66,146,198)"
           ],
           [
            0.75,
            "rgb(33,113,181)"
           ],
           [
            0.875,
            "rgb(8,81,156)"
           ],
           [
            1,
            "rgb(8,48,107)"
           ]
          ],
          "line": {
           "color": "Grey",
           "width": 0.5
          },
          "showscale": false
         },
         "mode": "markers",
         "showlegend": false,
         "type": "scatter",
         "x": [
          0.05,
          0.1,
          0.15000000000000002,
          0.2,
          0.15000000000000002,
          0.1,
          0.15000000000000002,
          0.05,
          0.2,
          0.1,
          0.2,
          0.2,
          0.2,
          0.2,
          0.2,
          0.15000000000000002,
          0.2,
          0.15000000000000002,
          0.2,
          0.15000000000000002,
          0.2,
          0.15000000000000002,
          0.15000000000000002,
          0.2,
          0.1,
          0.1,
          0.05,
          0.1
         ],
         "xaxis": "x2",
         "y": [
          0.12669725362252904,
          0.13214686195818323,
          0.1316201158867274,
          0.13316449495005198,
          0.13086643419398178,
          0.126653715862696,
          0.1283068584080613,
          0.12742393020730508,
          0.12873500441651653,
          0.1309640993849201,
          0.13301746467865602,
          0.13285545047923958,
          0.13116537927266694,
          0.1268758243107713,
          0.13216610407912452,
          0.13158051704530813,
          0.13175206007721052,
          0.13287815668406117,
          0.130458636149387,
          0.13062396926194014,
          0.13124102356992376,
          0.13089359874411796,
          0.13062227303749488,
          0.13104585471820188,
          0.1329659661964166,
          0.13198925967410546,
          0.12979221366278504,
          0.13254862367414352
         ],
         "yaxis": "y2"
        },
        {
         "marker": {
          "color": [
           1,
           2,
           3,
           4,
           6,
           7,
           8,
           9,
           10,
           11,
           12,
           13,
           14,
           15,
           16,
           17,
           18,
           19,
           20,
           21,
           22,
           23,
           24,
           25,
           26,
           27,
           28,
           29
          ],
          "colorbar": {
           "title": {
            "text": "#Trials"
           },
           "x": 1,
           "xpad": 40
          },
          "colorscale": [
           [
            0,
            "rgb(247,251,255)"
           ],
           [
            0.125,
            "rgb(222,235,247)"
           ],
           [
            0.25,
            "rgb(198,219,239)"
           ],
           [
            0.375,
            "rgb(158,202,225)"
           ],
           [
            0.5,
            "rgb(107,174,214)"
           ],
           [
            0.625,
            "rgb(66,146,198)"
           ],
           [
            0.75,
            "rgb(33,113,181)"
           ],
           [
            0.875,
            "rgb(8,81,156)"
           ],
           [
            1,
            "rgb(8,48,107)"
           ]
          ],
          "line": {
           "color": "Grey",
           "width": 0.5
          },
          "showscale": false
         },
         "mode": "markers",
         "showlegend": false,
         "type": "scatter",
         "x": [
          0.35,
          0.15000000000000002,
          0.30000000000000004,
          0.15000000000000002,
          0.4,
          0.1,
          0.25,
          0.15000000000000002,
          0.4,
          0.4,
          0.2,
          0.2,
          0.2,
          0.1,
          0.2,
          0.25,
          0.15000000000000002,
          0.30000000000000004,
          0.15000000000000002,
          0.2,
          0.25,
          0.30000000000000004,
          0.30000000000000004,
          0.35,
          0.25,
          0.25,
          0.1,
          0.2
         ],
         "xaxis": "x3",
         "y": [
          0.12669725362252904,
          0.13214686195818323,
          0.1316201158867274,
          0.13316449495005198,
          0.13086643419398178,
          0.126653715862696,
          0.1283068584080613,
          0.12742393020730508,
          0.12873500441651653,
          0.1309640993849201,
          0.13301746467865602,
          0.13285545047923958,
          0.13116537927266694,
          0.1268758243107713,
          0.13216610407912452,
          0.13158051704530813,
          0.13175206007721052,
          0.13287815668406117,
          0.130458636149387,
          0.13062396926194014,
          0.13124102356992376,
          0.13089359874411796,
          0.13062227303749488,
          0.13104585471820188,
          0.1329659661964166,
          0.13198925967410546,
          0.12979221366278504,
          0.13254862367414352
         ],
         "yaxis": "y3"
        },
        {
         "marker": {
          "color": [
           1,
           2,
           3,
           4,
           6,
           7,
           8,
           9,
           10,
           11,
           12,
           13,
           14,
           15,
           16,
           17,
           18,
           19,
           20,
           21,
           22,
           23,
           24,
           25,
           26,
           27,
           28,
           29
          ],
          "colorbar": {
           "title": {
            "text": "#Trials"
           },
           "x": 1,
           "xpad": 40
          },
          "colorscale": [
           [
            0,
            "rgb(247,251,255)"
           ],
           [
            0.125,
            "rgb(222,235,247)"
           ],
           [
            0.25,
            "rgb(198,219,239)"
           ],
           [
            0.375,
            "rgb(158,202,225)"
           ],
           [
            0.5,
            "rgb(107,174,214)"
           ],
           [
            0.625,
            "rgb(66,146,198)"
           ],
           [
            0.75,
            "rgb(33,113,181)"
           ],
           [
            0.875,
            "rgb(8,81,156)"
           ],
           [
            1,
            "rgb(8,48,107)"
           ]
          ],
          "line": {
           "color": "Grey",
           "width": 0.5
          },
          "showscale": false
         },
         "mode": "markers",
         "showlegend": false,
         "type": "scatter",
         "x": [
          0.02216582689132865,
          0.008066265828480426,
          0.013961912569927093,
          0.43676762370794986,
          1.4718127603786983,
          0.6293660570580869,
          1.4602283817949009,
          0.0032897990572817904,
          0.017548956098851168,
          0.1535359367202656,
          6.79142086023401,
          8.287525214529614,
          8.733000017661002,
          0.1504298242905135,
          0.5811301402006479,
          2.397455874751452,
          0.0010200596196872742,
          0.08168694708557585,
          0.45108354390436206,
          4.369163033344735,
          0.05488278385090364,
          0.06563217343876615,
          0.31283339892336615,
          0.04990063131147282,
          0.19911293463273666,
          1.122179642057723,
          0.21645244918548742,
          3.329638593636513
         ],
         "xaxis": "x4",
         "y": [
          0.12669725362252904,
          0.13214686195818323,
          0.1316201158867274,
          0.13316449495005198,
          0.13086643419398178,
          0.126653715862696,
          0.1283068584080613,
          0.12742393020730508,
          0.12873500441651653,
          0.1309640993849201,
          0.13301746467865602,
          0.13285545047923958,
          0.13116537927266694,
          0.1268758243107713,
          0.13216610407912452,
          0.13158051704530813,
          0.13175206007721052,
          0.13287815668406117,
          0.130458636149387,
          0.13062396926194014,
          0.13124102356992376,
          0.13089359874411796,
          0.13062227303749488,
          0.13104585471820188,
          0.1329659661964166,
          0.13198925967410546,
          0.12979221366278504,
          0.13254862367414352
         ],
         "yaxis": "y4"
        },
        {
         "marker": {
          "color": [
           1,
           2,
           3,
           4,
           6,
           7,
           8,
           9,
           10,
           11,
           12,
           13,
           14,
           15,
           16,
           17,
           18,
           19,
           20,
           21,
           22,
           23,
           24,
           25,
           26,
           27,
           28,
           29
          ],
          "colorbar": {
           "title": {
            "text": "#Trials"
           },
           "x": 1,
           "xpad": 40
          },
          "colorscale": [
           [
            0,
            "rgb(247,251,255)"
           ],
           [
            0.125,
            "rgb(222,235,247)"
           ],
           [
            0.25,
            "rgb(198,219,239)"
           ],
           [
            0.375,
            "rgb(158,202,225)"
           ],
           [
            0.5,
            "rgb(107,174,214)"
           ],
           [
            0.625,
            "rgb(66,146,198)"
           ],
           [
            0.75,
            "rgb(33,113,181)"
           ],
           [
            0.875,
            "rgb(8,81,156)"
           ],
           [
            1,
            "rgb(8,48,107)"
           ]
          ],
          "line": {
           "color": "Grey",
           "width": 0.5
          },
          "showscale": false
         },
         "mode": "markers",
         "showlegend": false,
         "type": "scatter",
         "x": [
          1.2756560276608504,
          0.9345419273134576,
          0.08304900863926508,
          0.03245387863155825,
          0.12321124397500921,
          0.005865151458556715,
          0.033989297680055514,
          4.9314474026006785,
          0.3184844470507947,
          0.0022035376057981705,
          0.012428942770525253,
          0.014646139876610818,
          0.0014714452971302159,
          0.015374649294473916,
          0.005826677767613097,
          0.045430559493520505,
          0.22402272264953335,
          0.011471611252369599,
          0.002677954525181147,
          0.03397220556804486,
          0.005618845649757024,
          0.014756958324456951,
          0.01436944220731618,
          0.05664046280755507,
          0.0010169526394952428,
          0.0014641858005562329,
          0.0034180835882537336,
          0.23226143999928742
         ],
         "xaxis": "x5",
         "y": [
          0.12669725362252904,
          0.13214686195818323,
          0.1316201158867274,
          0.13316449495005198,
          0.13086643419398178,
          0.126653715862696,
          0.1283068584080613,
          0.12742393020730508,
          0.12873500441651653,
          0.1309640993849201,
          0.13301746467865602,
          0.13285545047923958,
          0.13116537927266694,
          0.1268758243107713,
          0.13216610407912452,
          0.13158051704530813,
          0.13175206007721052,
          0.13287815668406117,
          0.130458636149387,
          0.13062396926194014,
          0.13124102356992376,
          0.13089359874411796,
          0.13062227303749488,
          0.13104585471820188,
          0.1329659661964166,
          0.13198925967410546,
          0.12979221366278504,
          0.13254862367414352
         ],
         "yaxis": "y5"
        },
        {
         "marker": {
          "color": [
           1,
           2,
           3,
           4,
           6,
           7,
           8,
           9,
           10,
           11,
           12,
           13,
           14,
           15,
           16,
           17,
           18,
           19,
           20,
           21,
           22,
           23,
           24,
           25,
           26,
           27,
           28,
           29
          ],
          "colorbar": {
           "title": {
            "text": "#Trials"
           },
           "x": 1,
           "xpad": 40
          },
          "colorscale": [
           [
            0,
            "rgb(247,251,255)"
           ],
           [
            0.125,
            "rgb(222,235,247)"
           ],
           [
            0.25,
            "rgb(198,219,239)"
           ],
           [
            0.375,
            "rgb(158,202,225)"
           ],
           [
            0.5,
            "rgb(107,174,214)"
           ],
           [
            0.625,
            "rgb(66,146,198)"
           ],
           [
            0.75,
            "rgb(33,113,181)"
           ],
           [
            0.875,
            "rgb(8,81,156)"
           ],
           [
            1,
            "rgb(8,48,107)"
           ]
          ],
          "line": {
           "color": "Grey",
           "width": 0.5
          },
          "showscale": false
         },
         "mode": "markers",
         "showlegend": false,
         "type": "scatter",
         "x": [
          30,
          10,
          50,
          10,
          20,
          10,
          10,
          30,
          30,
          20,
          50,
          50,
          40,
          40,
          40,
          20,
          50,
          40,
          20,
          10,
          30,
          40,
          50,
          40,
          50,
          50,
          50,
          50
         ],
         "xaxis": "x6",
         "y": [
          0.12669725362252904,
          0.13214686195818323,
          0.1316201158867274,
          0.13316449495005198,
          0.13086643419398178,
          0.126653715862696,
          0.1283068584080613,
          0.12742393020730508,
          0.12873500441651653,
          0.1309640993849201,
          0.13301746467865602,
          0.13285545047923958,
          0.13116537927266694,
          0.1268758243107713,
          0.13216610407912452,
          0.13158051704530813,
          0.13175206007721052,
          0.13287815668406117,
          0.130458636149387,
          0.13062396926194014,
          0.13124102356992376,
          0.13089359874411796,
          0.13062227303749488,
          0.13104585471820188,
          0.1329659661964166,
          0.13198925967410546,
          0.12979221366278504,
          0.13254862367414352
         ],
         "yaxis": "y6"
        },
        {
         "marker": {
          "color": [
           1,
           2,
           3,
           4,
           6,
           7,
           8,
           9,
           10,
           11,
           12,
           13,
           14,
           15,
           16,
           17,
           18,
           19,
           20,
           21,
           22,
           23,
           24,
           25,
           26,
           27,
           28,
           29
          ],
          "colorbar": {
           "title": {
            "text": "#Trials"
           },
           "x": 1,
           "xpad": 40
          },
          "colorscale": [
           [
            0,
            "rgb(247,251,255)"
           ],
           [
            0.125,
            "rgb(222,235,247)"
           ],
           [
            0.25,
            "rgb(198,219,239)"
           ],
           [
            0.375,
            "rgb(158,202,225)"
           ],
           [
            0.5,
            "rgb(107,174,214)"
           ],
           [
            0.625,
            "rgb(66,146,198)"
           ],
           [
            0.75,
            "rgb(33,113,181)"
           ],
           [
            0.875,
            "rgb(8,81,156)"
           ],
           [
            1,
            "rgb(8,48,107)"
           ]
          ],
          "line": {
           "color": "Grey",
           "width": 0.5
          },
          "showscale": false
         },
         "mode": "markers",
         "showlegend": false,
         "type": "scatter",
         "x": [
          100,
          1000,
          900,
          800,
          900,
          100,
          100,
          300,
          200,
          600,
          600,
          600,
          700,
          400,
          800,
          500,
          700,
          500,
          800,
          700,
          400,
          500,
          400,
          600,
          800,
          800,
          1000,
          900
         ],
         "xaxis": "x7",
         "y": [
          0.12669725362252904,
          0.13214686195818323,
          0.1316201158867274,
          0.13316449495005198,
          0.13086643419398178,
          0.126653715862696,
          0.1283068584080613,
          0.12742393020730508,
          0.12873500441651653,
          0.1309640993849201,
          0.13301746467865602,
          0.13285545047923958,
          0.13116537927266694,
          0.1268758243107713,
          0.13216610407912452,
          0.13158051704530813,
          0.13175206007721052,
          0.13287815668406117,
          0.130458636149387,
          0.13062396926194014,
          0.13124102356992376,
          0.13089359874411796,
          0.13062227303749488,
          0.13104585471820188,
          0.1329659661964166,
          0.13198925967410546,
          0.12979221366278504,
          0.13254862367414352
         ],
         "yaxis": "y7"
        },
        {
         "marker": {
          "color": [
           1,
           2,
           3,
           4,
           6,
           7,
           8,
           9,
           10,
           11,
           12,
           13,
           14,
           15,
           16,
           17,
           18,
           19,
           20,
           21,
           22,
           23,
           24,
           25,
           26,
           27,
           28,
           29
          ],
          "colorbar": {
           "title": {
            "text": "#Trials"
           },
           "x": 1,
           "xpad": 40
          },
          "colorscale": [
           [
            0,
            "rgb(247,251,255)"
           ],
           [
            0.125,
            "rgb(222,235,247)"
           ],
           [
            0.25,
            "rgb(198,219,239)"
           ],
           [
            0.375,
            "rgb(158,202,225)"
           ],
           [
            0.5,
            "rgb(107,174,214)"
           ],
           [
            0.625,
            "rgb(66,146,198)"
           ],
           [
            0.75,
            "rgb(33,113,181)"
           ],
           [
            0.875,
            "rgb(8,81,156)"
           ],
           [
            1,
            "rgb(8,48,107)"
           ]
          ],
          "line": {
           "color": "Grey",
           "width": 0.5
          },
          "showscale": false
         },
         "mode": "markers",
         "showlegend": false,
         "type": "scatter",
         "x": [
          2000,
          1100,
          1500,
          1400,
          1200,
          1100,
          2000,
          1600,
          1500,
          1100,
          1700,
          1700,
          1800,
          1400,
          1300,
          1800,
          1300,
          1700,
          1400,
          1600,
          1900,
          1700,
          1600,
          1800,
          1700,
          1400,
          1900,
          1600
         ],
         "xaxis": "x8",
         "y": [
          0.12669725362252904,
          0.13214686195818323,
          0.1316201158867274,
          0.13316449495005198,
          0.13086643419398178,
          0.126653715862696,
          0.1283068584080613,
          0.12742393020730508,
          0.12873500441651653,
          0.1309640993849201,
          0.13301746467865602,
          0.13285545047923958,
          0.13116537927266694,
          0.1268758243107713,
          0.13216610407912452,
          0.13158051704530813,
          0.13175206007721052,
          0.13287815668406117,
          0.130458636149387,
          0.13062396926194014,
          0.13124102356992376,
          0.13089359874411796,
          0.13062227303749488,
          0.13104585471820188,
          0.1329659661964166,
          0.13198925967410546,
          0.12979221366278504,
          0.13254862367414352
         ],
         "yaxis": "y8"
        },
        {
         "marker": {
          "color": [
           1,
           2,
           3,
           4,
           6,
           7,
           8,
           9,
           10,
           11,
           12,
           13,
           14,
           15,
           16,
           17,
           18,
           19,
           20,
           21,
           22,
           23,
           24,
           25,
           26,
           27,
           28,
           29
          ],
          "colorbar": {
           "title": {
            "text": "#Trials"
           },
           "x": 1,
           "xpad": 40
          },
          "colorscale": [
           [
            0,
            "rgb(247,251,255)"
           ],
           [
            0.125,
            "rgb(222,235,247)"
           ],
           [
            0.25,
            "rgb(198,219,239)"
           ],
           [
            0.375,
            "rgb(158,202,225)"
           ],
           [
            0.5,
            "rgb(107,174,214)"
           ],
           [
            0.625,
            "rgb(66,146,198)"
           ],
           [
            0.75,
            "rgb(33,113,181)"
           ],
           [
            0.875,
            "rgb(8,81,156)"
           ],
           [
            1,
            "rgb(8,48,107)"
           ]
          ],
          "line": {
           "color": "Grey",
           "width": 0.5
          },
          "showscale": false
         },
         "mode": "markers",
         "showlegend": false,
         "type": "scatter",
         "x": [
          7,
          7,
          6,
          7,
          6,
          6,
          6,
          8,
          8,
          6,
          7,
          7,
          7,
          8,
          7,
          7,
          8,
          7,
          8,
          7,
          7,
          7,
          7,
          7,
          7,
          7,
          6,
          8
         ],
         "xaxis": "x9",
         "y": [
          0.12669725362252904,
          0.13214686195818323,
          0.1316201158867274,
          0.13316449495005198,
          0.13086643419398178,
          0.126653715862696,
          0.1283068584080613,
          0.12742393020730508,
          0.12873500441651653,
          0.1309640993849201,
          0.13301746467865602,
          0.13285545047923958,
          0.13116537927266694,
          0.1268758243107713,
          0.13216610407912452,
          0.13158051704530813,
          0.13175206007721052,
          0.13287815668406117,
          0.130458636149387,
          0.13062396926194014,
          0.13124102356992376,
          0.13089359874411796,
          0.13062227303749488,
          0.13104585471820188,
          0.1329659661964166,
          0.13198925967410546,
          0.12979221366278504,
          0.13254862367414352
         ],
         "yaxis": "y9"
        },
        {
         "marker": {
          "color": [
           1,
           2,
           3,
           4,
           6,
           7,
           8,
           9,
           10,
           11,
           12,
           13,
           14,
           15,
           16,
           17,
           18,
           19,
           20,
           21,
           22,
           23,
           24,
           25,
           26,
           27,
           28,
           29
          ],
          "colorbar": {
           "title": {
            "text": "#Trials"
           },
           "x": 1,
           "xpad": 40
          },
          "colorscale": [
           [
            0,
            "rgb(247,251,255)"
           ],
           [
            0.125,
            "rgb(222,235,247)"
           ],
           [
            0.25,
            "rgb(198,219,239)"
           ],
           [
            0.375,
            "rgb(158,202,225)"
           ],
           [
            0.5,
            "rgb(107,174,214)"
           ],
           [
            0.625,
            "rgb(66,146,198)"
           ],
           [
            0.75,
            "rgb(33,113,181)"
           ],
           [
            0.875,
            "rgb(8,81,156)"
           ],
           [
            1,
            "rgb(8,48,107)"
           ]
          ],
          "line": {
           "color": "Grey",
           "width": 0.5
          },
          "showscale": false
         },
         "mode": "markers",
         "showlegend": false,
         "type": "scatter",
         "x": [
          7.855252949507565,
          2.093482723231732,
          14.45954650763239,
          0.47386345609006675,
          8.313886420706682,
          14.85281732152814,
          15.15998956699554,
          8.159460563877648,
          14.14512002941731,
          16.85239861460657,
          0.3014070015281656,
          0.8364404418149539,
          4.388683040187379,
          4.194077723233423,
          0.39766815954597484,
          3.4754241002671673,
          11.344183088331775,
          19.502371413995952,
          5.346290994947436,
          0.08622204990404475,
          6.140797765504027,
          18.720490136333286,
          11.42594059341089,
          19.721944462565247,
          2.3586680521432895,
          2.667115553118203,
          1.6401564091701428,
          6.163226282623695
         ],
         "xaxis": "x10",
         "y": [
          0.12669725362252904,
          0.13214686195818323,
          0.1316201158867274,
          0.13316449495005198,
          0.13086643419398178,
          0.126653715862696,
          0.1283068584080613,
          0.12742393020730508,
          0.12873500441651653,
          0.1309640993849201,
          0.13301746467865602,
          0.13285545047923958,
          0.13116537927266694,
          0.1268758243107713,
          0.13216610407912452,
          0.13158051704530813,
          0.13175206007721052,
          0.13287815668406117,
          0.130458636149387,
          0.13062396926194014,
          0.13124102356992376,
          0.13089359874411796,
          0.13062227303749488,
          0.13104585471820188,
          0.1329659661964166,
          0.13198925967410546,
          0.12979221366278504,
          0.13254862367414352
         ],
         "yaxis": "y10"
        },
        {
         "marker": {
          "color": [
           1,
           2,
           3,
           4,
           6,
           7,
           8,
           9,
           10,
           11,
           12,
           13,
           14,
           15,
           16,
           17,
           18,
           19,
           20,
           21,
           22,
           23,
           24,
           25,
           26,
           27,
           28,
           29
          ],
          "colorbar": {
           "title": {
            "text": "#Trials"
           },
           "x": 1,
           "xpad": 40
          },
          "colorscale": [
           [
            0,
            "rgb(247,251,255)"
           ],
           [
            0.125,
            "rgb(222,235,247)"
           ],
           [
            0.25,
            "rgb(198,219,239)"
           ],
           [
            0.375,
            "rgb(158,202,225)"
           ],
           [
            0.5,
            "rgb(107,174,214)"
           ],
           [
            0.625,
            "rgb(66,146,198)"
           ],
           [
            0.75,
            "rgb(33,113,181)"
           ],
           [
            0.875,
            "rgb(8,81,156)"
           ],
           [
            1,
            "rgb(8,48,107)"
           ]
          ],
          "line": {
           "color": "Grey",
           "width": 0.5
          },
          "showscale": false
         },
         "mode": "markers",
         "showlegend": false,
         "type": "scatter",
         "x": [
          0.8,
          0.7,
          0.8,
          0.5,
          0.65,
          0.65,
          0.9,
          0.8500000000000001,
          0.55,
          0.75,
          0.5,
          0.5,
          0.55,
          0.5,
          0.6,
          0.55,
          0.5,
          0.6,
          0.6,
          0.7,
          0.5,
          0.6,
          0.55,
          0.6,
          0.55,
          0.5,
          0.55,
          0.65
         ],
         "xaxis": "x11",
         "y": [
          0.12669725362252904,
          0.13214686195818323,
          0.1316201158867274,
          0.13316449495005198,
          0.13086643419398178,
          0.126653715862696,
          0.1283068584080613,
          0.12742393020730508,
          0.12873500441651653,
          0.1309640993849201,
          0.13301746467865602,
          0.13285545047923958,
          0.13116537927266694,
          0.1268758243107713,
          0.13216610407912452,
          0.13158051704530813,
          0.13175206007721052,
          0.13287815668406117,
          0.130458636149387,
          0.13062396926194014,
          0.13124102356992376,
          0.13089359874411796,
          0.13062227303749488,
          0.13104585471820188,
          0.1329659661964166,
          0.13198925967410546,
          0.12979221366278504,
          0.13254862367414352
         ],
         "yaxis": "y11"
        }
       ],
       "layout": {
        "autosize": true,
        "template": {
         "data": {
          "bar": [
           {
            "error_x": {
             "color": "#2a3f5f"
            },
            "error_y": {
             "color": "#2a3f5f"
            },
            "marker": {
             "line": {
              "color": "#E5ECF6",
              "width": 0.5
             },
             "pattern": {
              "fillmode": "overlay",
              "size": 10,
              "solidity": 0.2
             }
            },
            "type": "bar"
           }
          ],
          "barpolar": [
           {
            "marker": {
             "line": {
              "color": "#E5ECF6",
              "width": 0.5
             },
             "pattern": {
              "fillmode": "overlay",
              "size": 10,
              "solidity": 0.2
             }
            },
            "type": "barpolar"
           }
          ],
          "carpet": [
           {
            "aaxis": {
             "endlinecolor": "#2a3f5f",
             "gridcolor": "white",
             "linecolor": "white",
             "minorgridcolor": "white",
             "startlinecolor": "#2a3f5f"
            },
            "baxis": {
             "endlinecolor": "#2a3f5f",
             "gridcolor": "white",
             "linecolor": "white",
             "minorgridcolor": "white",
             "startlinecolor": "#2a3f5f"
            },
            "type": "carpet"
           }
          ],
          "choropleth": [
           {
            "colorbar": {
             "outlinewidth": 0,
             "ticks": ""
            },
            "type": "choropleth"
           }
          ],
          "contour": [
           {
            "colorbar": {
             "outlinewidth": 0,
             "ticks": ""
            },
            "colorscale": [
             [
              0,
              "#0d0887"
             ],
             [
              0.1111111111111111,
              "#46039f"
             ],
             [
              0.2222222222222222,
              "#7201a8"
             ],
             [
              0.3333333333333333,
              "#9c179e"
             ],
             [
              0.4444444444444444,
              "#bd3786"
             ],
             [
              0.5555555555555556,
              "#d8576b"
             ],
             [
              0.6666666666666666,
              "#ed7953"
             ],
             [
              0.7777777777777778,
              "#fb9f3a"
             ],
             [
              0.8888888888888888,
              "#fdca26"
             ],
             [
              1,
              "#f0f921"
             ]
            ],
            "type": "contour"
           }
          ],
          "contourcarpet": [
           {
            "colorbar": {
             "outlinewidth": 0,
             "ticks": ""
            },
            "type": "contourcarpet"
           }
          ],
          "heatmap": [
           {
            "colorbar": {
             "outlinewidth": 0,
             "ticks": ""
            },
            "colorscale": [
             [
              0,
              "#0d0887"
             ],
             [
              0.1111111111111111,
              "#46039f"
             ],
             [
              0.2222222222222222,
              "#7201a8"
             ],
             [
              0.3333333333333333,
              "#9c179e"
             ],
             [
              0.4444444444444444,
              "#bd3786"
             ],
             [
              0.5555555555555556,
              "#d8576b"
             ],
             [
              0.6666666666666666,
              "#ed7953"
             ],
             [
              0.7777777777777778,
              "#fb9f3a"
             ],
             [
              0.8888888888888888,
              "#fdca26"
             ],
             [
              1,
              "#f0f921"
             ]
            ],
            "type": "heatmap"
           }
          ],
          "heatmapgl": [
           {
            "colorbar": {
             "outlinewidth": 0,
             "ticks": ""
            },
            "colorscale": [
             [
              0,
              "#0d0887"
             ],
             [
              0.1111111111111111,
              "#46039f"
             ],
             [
              0.2222222222222222,
              "#7201a8"
             ],
             [
              0.3333333333333333,
              "#9c179e"
             ],
             [
              0.4444444444444444,
              "#bd3786"
             ],
             [
              0.5555555555555556,
              "#d8576b"
             ],
             [
              0.6666666666666666,
              "#ed7953"
             ],
             [
              0.7777777777777778,
              "#fb9f3a"
             ],
             [
              0.8888888888888888,
              "#fdca26"
             ],
             [
              1,
              "#f0f921"
             ]
            ],
            "type": "heatmapgl"
           }
          ],
          "histogram": [
           {
            "marker": {
             "pattern": {
              "fillmode": "overlay",
              "size": 10,
              "solidity": 0.2
             }
            },
            "type": "histogram"
           }
          ],
          "histogram2d": [
           {
            "colorbar": {
             "outlinewidth": 0,
             "ticks": ""
            },
            "colorscale": [
             [
              0,
              "#0d0887"
             ],
             [
              0.1111111111111111,
              "#46039f"
             ],
             [
              0.2222222222222222,
              "#7201a8"
             ],
             [
              0.3333333333333333,
              "#9c179e"
             ],
             [
              0.4444444444444444,
              "#bd3786"
             ],
             [
              0.5555555555555556,
              "#d8576b"
             ],
             [
              0.6666666666666666,
              "#ed7953"
             ],
             [
              0.7777777777777778,
              "#fb9f3a"
             ],
             [
              0.8888888888888888,
              "#fdca26"
             ],
             [
              1,
              "#f0f921"
             ]
            ],
            "type": "histogram2d"
           }
          ],
          "histogram2dcontour": [
           {
            "colorbar": {
             "outlinewidth": 0,
             "ticks": ""
            },
            "colorscale": [
             [
              0,
              "#0d0887"
             ],
             [
              0.1111111111111111,
              "#46039f"
             ],
             [
              0.2222222222222222,
              "#7201a8"
             ],
             [
              0.3333333333333333,
              "#9c179e"
             ],
             [
              0.4444444444444444,
              "#bd3786"
             ],
             [
              0.5555555555555556,
              "#d8576b"
             ],
             [
              0.6666666666666666,
              "#ed7953"
             ],
             [
              0.7777777777777778,
              "#fb9f3a"
             ],
             [
              0.8888888888888888,
              "#fdca26"
             ],
             [
              1,
              "#f0f921"
             ]
            ],
            "type": "histogram2dcontour"
           }
          ],
          "mesh3d": [
           {
            "colorbar": {
             "outlinewidth": 0,
             "ticks": ""
            },
            "type": "mesh3d"
           }
          ],
          "parcoords": [
           {
            "line": {
             "colorbar": {
              "outlinewidth": 0,
              "ticks": ""
             }
            },
            "type": "parcoords"
           }
          ],
          "pie": [
           {
            "automargin": true,
            "type": "pie"
           }
          ],
          "scatter": [
           {
            "marker": {
             "colorbar": {
              "outlinewidth": 0,
              "ticks": ""
             }
            },
            "type": "scatter"
           }
          ],
          "scatter3d": [
           {
            "line": {
             "colorbar": {
              "outlinewidth": 0,
              "ticks": ""
             }
            },
            "marker": {
             "colorbar": {
              "outlinewidth": 0,
              "ticks": ""
             }
            },
            "type": "scatter3d"
           }
          ],
          "scattercarpet": [
           {
            "marker": {
             "colorbar": {
              "outlinewidth": 0,
              "ticks": ""
             }
            },
            "type": "scattercarpet"
           }
          ],
          "scattergeo": [
           {
            "marker": {
             "colorbar": {
              "outlinewidth": 0,
              "ticks": ""
             }
            },
            "type": "scattergeo"
           }
          ],
          "scattergl": [
           {
            "marker": {
             "colorbar": {
              "outlinewidth": 0,
              "ticks": ""
             }
            },
            "type": "scattergl"
           }
          ],
          "scattermapbox": [
           {
            "marker": {
             "colorbar": {
              "outlinewidth": 0,
              "ticks": ""
             }
            },
            "type": "scattermapbox"
           }
          ],
          "scatterpolar": [
           {
            "marker": {
             "colorbar": {
              "outlinewidth": 0,
              "ticks": ""
             }
            },
            "type": "scatterpolar"
           }
          ],
          "scatterpolargl": [
           {
            "marker": {
             "colorbar": {
              "outlinewidth": 0,
              "ticks": ""
             }
            },
            "type": "scatterpolargl"
           }
          ],
          "scatterternary": [
           {
            "marker": {
             "colorbar": {
              "outlinewidth": 0,
              "ticks": ""
             }
            },
            "type": "scatterternary"
           }
          ],
          "surface": [
           {
            "colorbar": {
             "outlinewidth": 0,
             "ticks": ""
            },
            "colorscale": [
             [
              0,
              "#0d0887"
             ],
             [
              0.1111111111111111,
              "#46039f"
             ],
             [
              0.2222222222222222,
              "#7201a8"
             ],
             [
              0.3333333333333333,
              "#9c179e"
             ],
             [
              0.4444444444444444,
              "#bd3786"
             ],
             [
              0.5555555555555556,
              "#d8576b"
             ],
             [
              0.6666666666666666,
              "#ed7953"
             ],
             [
              0.7777777777777778,
              "#fb9f3a"
             ],
             [
              0.8888888888888888,
              "#fdca26"
             ],
             [
              1,
              "#f0f921"
             ]
            ],
            "type": "surface"
           }
          ],
          "table": [
           {
            "cells": {
             "fill": {
              "color": "#EBF0F8"
             },
             "line": {
              "color": "white"
             }
            },
            "header": {
             "fill": {
              "color": "#C8D4E3"
             },
             "line": {
              "color": "white"
             }
            },
            "type": "table"
           }
          ]
         },
         "layout": {
          "annotationdefaults": {
           "arrowcolor": "#2a3f5f",
           "arrowhead": 0,
           "arrowwidth": 1
          },
          "autotypenumbers": "strict",
          "coloraxis": {
           "colorbar": {
            "outlinewidth": 0,
            "ticks": ""
           }
          },
          "colorscale": {
           "diverging": [
            [
             0,
             "#8e0152"
            ],
            [
             0.1,
             "#c51b7d"
            ],
            [
             0.2,
             "#de77ae"
            ],
            [
             0.3,
             "#f1b6da"
            ],
            [
             0.4,
             "#fde0ef"
            ],
            [
             0.5,
             "#f7f7f7"
            ],
            [
             0.6,
             "#e6f5d0"
            ],
            [
             0.7,
             "#b8e186"
            ],
            [
             0.8,
             "#7fbc41"
            ],
            [
             0.9,
             "#4d9221"
            ],
            [
             1,
             "#276419"
            ]
           ],
           "sequential": [
            [
             0,
             "#0d0887"
            ],
            [
             0.1111111111111111,
             "#46039f"
            ],
            [
             0.2222222222222222,
             "#7201a8"
            ],
            [
             0.3333333333333333,
             "#9c179e"
            ],
            [
             0.4444444444444444,
             "#bd3786"
            ],
            [
             0.5555555555555556,
             "#d8576b"
            ],
            [
             0.6666666666666666,
             "#ed7953"
            ],
            [
             0.7777777777777778,
             "#fb9f3a"
            ],
            [
             0.8888888888888888,
             "#fdca26"
            ],
            [
             1,
             "#f0f921"
            ]
           ],
           "sequentialminus": [
            [
             0,
             "#0d0887"
            ],
            [
             0.1111111111111111,
             "#46039f"
            ],
            [
             0.2222222222222222,
             "#7201a8"
            ],
            [
             0.3333333333333333,
             "#9c179e"
            ],
            [
             0.4444444444444444,
             "#bd3786"
            ],
            [
             0.5555555555555556,
             "#d8576b"
            ],
            [
             0.6666666666666666,
             "#ed7953"
            ],
            [
             0.7777777777777778,
             "#fb9f3a"
            ],
            [
             0.8888888888888888,
             "#fdca26"
            ],
            [
             1,
             "#f0f921"
            ]
           ]
          },
          "colorway": [
           "#636efa",
           "#EF553B",
           "#00cc96",
           "#ab63fa",
           "#FFA15A",
           "#19d3f3",
           "#FF6692",
           "#B6E880",
           "#FF97FF",
           "#FECB52"
          ],
          "font": {
           "color": "#2a3f5f"
          },
          "geo": {
           "bgcolor": "white",
           "lakecolor": "white",
           "landcolor": "#E5ECF6",
           "showlakes": true,
           "showland": true,
           "subunitcolor": "white"
          },
          "hoverlabel": {
           "align": "left"
          },
          "hovermode": "closest",
          "mapbox": {
           "style": "light"
          },
          "paper_bgcolor": "white",
          "plot_bgcolor": "#E5ECF6",
          "polar": {
           "angularaxis": {
            "gridcolor": "white",
            "linecolor": "white",
            "ticks": ""
           },
           "bgcolor": "#E5ECF6",
           "radialaxis": {
            "gridcolor": "white",
            "linecolor": "white",
            "ticks": ""
           }
          },
          "scene": {
           "xaxis": {
            "backgroundcolor": "#E5ECF6",
            "gridcolor": "white",
            "gridwidth": 2,
            "linecolor": "white",
            "showbackground": true,
            "ticks": "",
            "zerolinecolor": "white"
           },
           "yaxis": {
            "backgroundcolor": "#E5ECF6",
            "gridcolor": "white",
            "gridwidth": 2,
            "linecolor": "white",
            "showbackground": true,
            "ticks": "",
            "zerolinecolor": "white"
           },
           "zaxis": {
            "backgroundcolor": "#E5ECF6",
            "gridcolor": "white",
            "gridwidth": 2,
            "linecolor": "white",
            "showbackground": true,
            "ticks": "",
            "zerolinecolor": "white"
           }
          },
          "shapedefaults": {
           "line": {
            "color": "#2a3f5f"
           }
          },
          "ternary": {
           "aaxis": {
            "gridcolor": "white",
            "linecolor": "white",
            "ticks": ""
           },
           "baxis": {
            "gridcolor": "white",
            "linecolor": "white",
            "ticks": ""
           },
           "bgcolor": "#E5ECF6",
           "caxis": {
            "gridcolor": "white",
            "linecolor": "white",
            "ticks": ""
           }
          },
          "title": {
           "x": 0.05
          },
          "xaxis": {
           "automargin": true,
           "gridcolor": "white",
           "linecolor": "white",
           "ticks": "",
           "title": {
            "standoff": 15
           },
           "zerolinecolor": "white",
           "zerolinewidth": 2
          },
          "yaxis": {
           "automargin": true,
           "gridcolor": "white",
           "linecolor": "white",
           "ticks": "",
           "title": {
            "standoff": 15
           },
           "zerolinecolor": "white",
           "zerolinewidth": 2
          }
         }
        },
        "title": {
         "text": "Slice Plot"
        },
        "xaxis": {
         "anchor": "y",
         "autorange": true,
         "domain": [
          0,
          0.07438016528925619
         ],
         "range": [
          0.8853040356793213,
          1.0146959643206788
         ],
         "title": {
          "text": "bagging_fraction"
         },
         "type": "linear"
        },
        "xaxis10": {
         "anchor": "y10",
         "autorange": true,
         "domain": [
          0.8330578512396694,
          0.9074380165289255
         ],
         "range": [
          -2.799436709968172,
          22.607603222437465
         ],
         "title": {
          "text": "path_smooth"
         },
         "type": "linear"
        },
        "xaxis11": {
         "anchor": "y11",
         "autorange": true,
         "domain": [
          0.9256198347107437,
          0.9999999999999999
         ],
         "range": [
          0.4412161427172849,
          0.9587838572827152
         ],
         "title": {
          "text": "skip_drop"
         },
         "type": "linear"
        },
        "xaxis2": {
         "anchor": "y2",
         "autorange": true,
         "domain": [
          0.09256198347107437,
          0.16694214876033056
         ],
         "range": [
          0.027956053518981828,
          0.2220439464810182
         ],
         "title": {
          "text": "drop_rate"
         },
         "type": "linear"
        },
        "xaxis3": {
         "anchor": "y3",
         "autorange": true,
         "domain": [
          0.18512396694214875,
          0.25950413223140495
         ],
         "range": [
          0.055912107037963676,
          0.4440878929620363
         ],
         "title": {
          "text": "feature_fraction"
         },
         "type": "linear"
        },
        "xaxis4": {
         "anchor": "y4",
         "autorange": true,
         "domain": [
          0.27768595041322314,
          0.3520661157024793
         ],
         "range": [
          -3.5692988116219038,
          1.5190878284838245
         ],
         "title": {
          "text": "lambda_l1"
         },
         "type": "log"
        },
        "xaxis5": {
         "anchor": "y5",
         "autorange": true,
         "domain": [
          0.3702479338842975,
          0.44462809917355367
         ],
         "range": [
          -3.534344560766995,
          1.2346196940552527
         ],
         "title": {
          "text": "lambda_l2"
         },
         "type": "log"
        },
        "xaxis6": {
         "anchor": "y6",
         "autorange": true,
         "domain": [
          0.46280991735537186,
          0.5371900826446281
         ],
         "range": [
          4.1216142717284905,
          55.87838572827151
         ],
         "title": {
          "text": "max_drop"
         },
         "type": "linear"
        },
        "xaxis7": {
         "anchor": "y7",
         "autorange": true,
         "domain": [
          0.5553719008264462,
          0.6297520661157023
         ],
         "range": [
          -32.263678886109034,
          1132.2636788861091
         ],
         "title": {
          "text": "min_data_in_leaf"
         },
         "type": "linear"
        },
        "xaxis8": {
         "anchor": "y8",
         "autorange": true,
         "domain": [
          0.6479338842975206,
          0.7223140495867768
         ],
         "range": [
          967.736321113891,
          2132.263678886109
         ],
         "title": {
          "text": "num_iterations"
         },
         "type": "linear"
        },
        "xaxis9": {
         "anchor": "y9",
         "autorange": true,
         "domain": [
          0.740495867768595,
          0.8148760330578512
         ],
         "range": [
          5.706080713586425,
          8.293919286413576
         ],
         "title": {
          "text": "num_leaves_exp"
         },
         "type": "linear"
        },
        "yaxis": {
         "anchor": "x",
         "autorange": true,
         "domain": [
          0,
          1
         ],
         "range": [
          0.1261164185593705,
          0.13370179225337747
         ],
         "title": {
          "text": "Objective Value"
         },
         "type": "linear"
        },
        "yaxis10": {
         "anchor": "x10",
         "autorange": true,
         "domain": [
          0,
          1
         ],
         "matches": "y",
         "range": [
          0.1261164185593705,
          0.13370179225337747
         ],
         "showticklabels": false,
         "type": "linear"
        },
        "yaxis11": {
         "anchor": "x11",
         "autorange": true,
         "domain": [
          0,
          1
         ],
         "matches": "y",
         "range": [
          0.1261164185593705,
          0.13370179225337747
         ],
         "showticklabels": false,
         "type": "linear"
        },
        "yaxis2": {
         "anchor": "x2",
         "autorange": true,
         "domain": [
          0,
          1
         ],
         "matches": "y",
         "range": [
          0.1261164185593705,
          0.13370179225337747
         ],
         "showticklabels": false,
         "type": "linear"
        },
        "yaxis3": {
         "anchor": "x3",
         "autorange": true,
         "domain": [
          0,
          1
         ],
         "matches": "y",
         "range": [
          0.1261164185593705,
          0.13370179225337747
         ],
         "showticklabels": false,
         "type": "linear"
        },
        "yaxis4": {
         "anchor": "x4",
         "autorange": true,
         "domain": [
          0,
          1
         ],
         "matches": "y",
         "range": [
          0.1261164185593705,
          0.13370179225337747
         ],
         "showticklabels": false,
         "type": "linear"
        },
        "yaxis5": {
         "anchor": "x5",
         "autorange": true,
         "domain": [
          0,
          1
         ],
         "matches": "y",
         "range": [
          0.1261164185593705,
          0.13370179225337747
         ],
         "showticklabels": false,
         "type": "linear"
        },
        "yaxis6": {
         "anchor": "x6",
         "autorange": true,
         "domain": [
          0,
          1
         ],
         "matches": "y",
         "range": [
          0.1261164185593705,
          0.13370179225337747
         ],
         "showticklabels": false,
         "type": "linear"
        },
        "yaxis7": {
         "anchor": "x7",
         "autorange": true,
         "domain": [
          0,
          1
         ],
         "matches": "y",
         "range": [
          0.1261164185593705,
          0.13370179225337747
         ],
         "showticklabels": false,
         "type": "linear"
        },
        "yaxis8": {
         "anchor": "x8",
         "autorange": true,
         "domain": [
          0,
          1
         ],
         "matches": "y",
         "range": [
          0.1261164185593705,
          0.13370179225337747
         ],
         "showticklabels": false,
         "type": "linear"
        },
        "yaxis9": {
         "anchor": "x9",
         "autorange": true,
         "domain": [
          0,
          1
         ],
         "matches": "y",
         "range": [
          0.1261164185593705,
          0.13370179225337747
         ],
         "showticklabels": false,
         "type": "linear"
        }
       }
      },
      "image/png": "[encoded data removed]"
     },
     "metadata": {},
     "output_type": "display_data"
    }
   ],
   "source": [
    "plot_slice(study)"
   ]
  },
  {
   "cell_type": "code",
   "execution_count": 16,
   "id": "09e43f27-4c48-4a2f-ac8d-fc415c9b45b1",
   "metadata": {},
   "outputs": [
    {
     "data": {
      "application/vnd.plotly.v1+json": {
       "config": {
        "plotlyServerURL": "https://plot.ly"
       },
       "data": [
        {
         "mode": "lines",
         "name": "lgbm-dart",
         "type": "scatter",
         "x": [
          0.126653715862696,
          0.12671948130802282,
          0.12678524675334965,
          0.12685101219867648,
          0.1269167776440033,
          0.12698254308933013,
          0.12704830853465696,
          0.12711407397998378,
          0.1271798394253106,
          0.12724560487063746,
          0.1273113703159643,
          0.12737713576129112,
          0.12744290120661794,
          0.12750866665194477,
          0.1275744320972716,
          0.12764019754259842,
          0.12770596298792525,
          0.12777172843325207,
          0.1278374938785789,
          0.12790325932390573,
          0.12796902476923255,
          0.12803479021455938,
          0.1281005556598862,
          0.12816632110521303,
          0.12823208655053986,
          0.1282978519958667,
          0.12836361744119354,
          0.12842938288652037,
          0.1284951483318472,
          0.12856091377717402,
          0.12862667922250084,
          0.12869244466782767,
          0.1287582101131545,
          0.12882397555848132,
          0.12888974100380815,
          0.12895550644913498,
          0.1290212718944618,
          0.12908703733978863,
          0.12915280278511546,
          0.12921856823044228,
          0.1292843336757691,
          0.12935009912109593,
          0.1294158645664228,
          0.12948163001174962,
          0.12954739545707644,
          0.12961316090240327,
          0.1296789263477301,
          0.12974469179305692,
          0.12981045723838375,
          0.12987622268371057,
          0.1299419881290374,
          0.13000775357436423,
          0.13007351901969105,
          0.13013928446501788,
          0.1302050499103447,
          0.13027081535567153,
          0.13033658080099836,
          0.13040234624632518,
          0.13046811169165204,
          0.13053387713697887,
          0.1305996425823057,
          0.13066540802763252,
          0.13073117347295934,
          0.13079693891828617,
          0.130862704363613,
          0.13092846980893982,
          0.13099423525426665,
          0.13106000069959348,
          0.1311257661449203,
          0.13119153159024713,
          0.13125729703557396,
          0.13132306248090078,
          0.1313888279262276,
          0.13145459337155443,
          0.13152035881688126,
          0.13158612426220812,
          0.13165188970753494,
          0.13171765515286177,
          0.1317834205981886,
          0.13184918604351542,
          0.13191495148884225,
          0.13198071693416907,
          0.1320464823794959,
          0.13211224782482273,
          0.13217801327014955,
          0.13224377871547638,
          0.1323095441608032,
          0.13237530960613003,
          0.13244107505145686,
          0.13250684049678368,
          0.1325726059421105,
          0.13263837138743734,
          0.1327041368327642,
          0.13276990227809102,
          0.13283566772341784,
          0.13290143316874467,
          0.1329671986140715,
          0.13303296405939832,
          0.13309872950472515,
          0.13316449495005198
         ],
         "y": [
          0.03571428571428571,
          0.07142857142857142,
          0.07142857142857142,
          0.07142857142857142,
          0.10714285714285714,
          0.10714285714285714,
          0.10714285714285714,
          0.10714285714285714,
          0.10714285714285714,
          0.10714285714285714,
          0.10714285714285714,
          0.10714285714285714,
          0.14285714285714285,
          0.14285714285714285,
          0.14285714285714285,
          0.14285714285714285,
          0.14285714285714285,
          0.14285714285714285,
          0.14285714285714285,
          0.14285714285714285,
          0.14285714285714285,
          0.14285714285714285,
          0.14285714285714285,
          0.14285714285714285,
          0.14285714285714285,
          0.14285714285714285,
          0.17857142857142858,
          0.17857142857142858,
          0.17857142857142858,
          0.17857142857142858,
          0.17857142857142858,
          0.17857142857142858,
          0.21428571428571427,
          0.21428571428571427,
          0.21428571428571427,
          0.21428571428571427,
          0.21428571428571427,
          0.21428571428571427,
          0.21428571428571427,
          0.21428571428571427,
          0.21428571428571427,
          0.21428571428571427,
          0.21428571428571427,
          0.21428571428571427,
          0.21428571428571427,
          0.21428571428571427,
          0.21428571428571427,
          0.21428571428571427,
          0.25,
          0.25,
          0.25,
          0.25,
          0.25,
          0.25,
          0.25,
          0.25,
          0.25,
          0.25,
          0.2857142857142857,
          0.2857142857142857,
          0.2857142857142857,
          0.35714285714285715,
          0.35714285714285715,
          0.35714285714285715,
          0.35714285714285715,
          0.42857142857142855,
          0.4642857142857143,
          0.5,
          0.5,
          0.5357142857142857,
          0.5714285714285714,
          0.5714285714285714,
          0.5714285714285714,
          0.5714285714285714,
          0.5714285714285714,
          0.6071428571428571,
          0.6428571428571429,
          0.6428571428571429,
          0.6785714285714286,
          0.6785714285714286,
          0.6785714285714286,
          0.6785714285714286,
          0.7142857142857143,
          0.7142857142857143,
          0.7857142857142857,
          0.7857142857142857,
          0.7857142857142857,
          0.7857142857142857,
          0.7857142857142857,
          0.7857142857142857,
          0.8214285714285714,
          0.8214285714285714,
          0.8214285714285714,
          0.8214285714285714,
          0.8214285714285714,
          0.8928571428571429,
          0.9285714285714286,
          0.9642857142857143,
          0.9642857142857143,
          1
         ]
        }
       ],
       "layout": {
        "autosize": true,
        "template": {
         "data": {
          "bar": [
           {
            "error_x": {
             "color": "#2a3f5f"
            },
            "error_y": {
             "color": "#2a3f5f"
            },
            "marker": {
             "line": {
              "color": "#E5ECF6",
              "width": 0.5
             },
             "pattern": {
              "fillmode": "overlay",
              "size": 10,
              "solidity": 0.2
             }
            },
            "type": "bar"
           }
          ],
          "barpolar": [
           {
            "marker": {
             "line": {
              "color": "#E5ECF6",
              "width": 0.5
             },
             "pattern": {
              "fillmode": "overlay",
              "size": 10,
              "solidity": 0.2
             }
            },
            "type": "barpolar"
           }
          ],
          "carpet": [
           {
            "aaxis": {
             "endlinecolor": "#2a3f5f",
             "gridcolor": "white",
             "linecolor": "white",
             "minorgridcolor": "white",
             "startlinecolor": "#2a3f5f"
            },
            "baxis": {
             "endlinecolor": "#2a3f5f",
             "gridcolor": "white",
             "linecolor": "white",
             "minorgridcolor": "white",
             "startlinecolor": "#2a3f5f"
            },
            "type": "carpet"
           }
          ],
          "choropleth": [
           {
            "colorbar": {
             "outlinewidth": 0,
             "ticks": ""
            },
            "type": "choropleth"
           }
          ],
          "contour": [
           {
            "colorbar": {
             "outlinewidth": 0,
             "ticks": ""
            },
            "colorscale": [
             [
              0,
              "#0d0887"
             ],
             [
              0.1111111111111111,
              "#46039f"
             ],
             [
              0.2222222222222222,
              "#7201a8"
             ],
             [
              0.3333333333333333,
              "#9c179e"
             ],
             [
              0.4444444444444444,
              "#bd3786"
             ],
             [
              0.5555555555555556,
              "#d8576b"
             ],
             [
              0.6666666666666666,
              "#ed7953"
             ],
             [
              0.7777777777777778,
              "#fb9f3a"
             ],
             [
              0.8888888888888888,
              "#fdca26"
             ],
             [
              1,
              "#f0f921"
             ]
            ],
            "type": "contour"
           }
          ],
          "contourcarpet": [
           {
            "colorbar": {
             "outlinewidth": 0,
             "ticks": ""
            },
            "type": "contourcarpet"
           }
          ],
          "heatmap": [
           {
            "colorbar": {
             "outlinewidth": 0,
             "ticks": ""
            },
            "colorscale": [
             [
              0,
              "#0d0887"
             ],
             [
              0.1111111111111111,
              "#46039f"
             ],
             [
              0.2222222222222222,
              "#7201a8"
             ],
             [
              0.3333333333333333,
              "#9c179e"
             ],
             [
              0.4444444444444444,
              "#bd3786"
             ],
             [
              0.5555555555555556,
              "#d8576b"
             ],
             [
              0.6666666666666666,
              "#ed7953"
             ],
             [
              0.7777777777777778,
              "#fb9f3a"
             ],
             [
              0.8888888888888888,
              "#fdca26"
             ],
             [
              1,
              "#f0f921"
             ]
            ],
            "type": "heatmap"
           }
          ],
          "heatmapgl": [
           {
            "colorbar": {
             "outlinewidth": 0,
             "ticks": ""
            },
            "colorscale": [
             [
              0,
              "#0d0887"
             ],
             [
              0.1111111111111111,
              "#46039f"
             ],
             [
              0.2222222222222222,
              "#7201a8"
             ],
             [
              0.3333333333333333,
              "#9c179e"
             ],
             [
              0.4444444444444444,
              "#bd3786"
             ],
             [
              0.5555555555555556,
              "#d8576b"
             ],
             [
              0.6666666666666666,
              "#ed7953"
             ],
             [
              0.7777777777777778,
              "#fb9f3a"
             ],
             [
              0.8888888888888888,
              "#fdca26"
             ],
             [
              1,
              "#f0f921"
             ]
            ],
            "type": "heatmapgl"
           }
          ],
          "histogram": [
           {
            "marker": {
             "pattern": {
              "fillmode": "overlay",
              "size": 10,
              "solidity": 0.2
             }
            },
            "type": "histogram"
           }
          ],
          "histogram2d": [
           {
            "colorbar": {
             "outlinewidth": 0,
             "ticks": ""
            },
            "colorscale": [
             [
              0,
              "#0d0887"
             ],
             [
              0.1111111111111111,
              "#46039f"
             ],
             [
              0.2222222222222222,
              "#7201a8"
             ],
             [
              0.3333333333333333,
              "#9c179e"
             ],
             [
              0.4444444444444444,
              "#bd3786"
             ],
             [
              0.5555555555555556,
              "#d8576b"
             ],
             [
              0.6666666666666666,
              "#ed7953"
             ],
             [
              0.7777777777777778,
              "#fb9f3a"
             ],
             [
              0.8888888888888888,
              "#fdca26"
             ],
             [
              1,
              "#f0f921"
             ]
            ],
            "type": "histogram2d"
           }
          ],
          "histogram2dcontour": [
           {
            "colorbar": {
             "outlinewidth": 0,
             "ticks": ""
            },
            "colorscale": [
             [
              0,
              "#0d0887"
             ],
             [
              0.1111111111111111,
              "#46039f"
             ],
             [
              0.2222222222222222,
              "#7201a8"
             ],
             [
              0.3333333333333333,
              "#9c179e"
             ],
             [
              0.4444444444444444,
              "#bd3786"
             ],
             [
              0.5555555555555556,
              "#d8576b"
             ],
             [
              0.6666666666666666,
              "#ed7953"
             ],
             [
              0.7777777777777778,
              "#fb9f3a"
             ],
             [
              0.8888888888888888,
              "#fdca26"
             ],
             [
              1,
              "#f0f921"
             ]
            ],
            "type": "histogram2dcontour"
           }
          ],
          "mesh3d": [
           {
            "colorbar": {
             "outlinewidth": 0,
             "ticks": ""
            },
            "type": "mesh3d"
           }
          ],
          "parcoords": [
           {
            "line": {
             "colorbar": {
              "outlinewidth": 0,
              "ticks": ""
             }
            },
            "type": "parcoords"
           }
          ],
          "pie": [
           {
            "automargin": true,
            "type": "pie"
           }
          ],
          "scatter": [
           {
            "marker": {
             "colorbar": {
              "outlinewidth": 0,
              "ticks": ""
             }
            },
            "type": "scatter"
           }
          ],
          "scatter3d": [
           {
            "line": {
             "colorbar": {
              "outlinewidth": 0,
              "ticks": ""
             }
            },
            "marker": {
             "colorbar": {
              "outlinewidth": 0,
              "ticks": ""
             }
            },
            "type": "scatter3d"
           }
          ],
          "scattercarpet": [
           {
            "marker": {
             "colorbar": {
              "outlinewidth": 0,
              "ticks": ""
             }
            },
            "type": "scattercarpet"
           }
          ],
          "scattergeo": [
           {
            "marker": {
             "colorbar": {
              "outlinewidth": 0,
              "ticks": ""
             }
            },
            "type": "scattergeo"
           }
          ],
          "scattergl": [
           {
            "marker": {
             "colorbar": {
              "outlinewidth": 0,
              "ticks": ""
             }
            },
            "type": "scattergl"
           }
          ],
          "scattermapbox": [
           {
            "marker": {
             "colorbar": {
              "outlinewidth": 0,
              "ticks": ""
             }
            },
            "type": "scattermapbox"
           }
          ],
          "scatterpolar": [
           {
            "marker": {
             "colorbar": {
              "outlinewidth": 0,
              "ticks": ""
             }
            },
            "type": "scatterpolar"
           }
          ],
          "scatterpolargl": [
           {
            "marker": {
             "colorbar": {
              "outlinewidth": 0,
              "ticks": ""
             }
            },
            "type": "scatterpolargl"
           }
          ],
          "scatterternary": [
           {
            "marker": {
             "colorbar": {
              "outlinewidth": 0,
              "ticks": ""
             }
            },
            "type": "scatterternary"
           }
          ],
          "surface": [
           {
            "colorbar": {
             "outlinewidth": 0,
             "ticks": ""
            },
            "colorscale": [
             [
              0,
              "#0d0887"
             ],
             [
              0.1111111111111111,
              "#46039f"
             ],
             [
              0.2222222222222222,
              "#7201a8"
             ],
             [
              0.3333333333333333,
              "#9c179e"
             ],
             [
              0.4444444444444444,
              "#bd3786"
             ],
             [
              0.5555555555555556,
              "#d8576b"
             ],
             [
              0.6666666666666666,
              "#ed7953"
             ],
             [
              0.7777777777777778,
              "#fb9f3a"
             ],
             [
              0.8888888888888888,
              "#fdca26"
             ],
             [
              1,
              "#f0f921"
             ]
            ],
            "type": "surface"
           }
          ],
          "table": [
           {
            "cells": {
             "fill": {
              "color": "#EBF0F8"
             },
             "line": {
              "color": "white"
             }
            },
            "header": {
             "fill": {
              "color": "#C8D4E3"
             },
             "line": {
              "color": "white"
             }
            },
            "type": "table"
           }
          ]
         },
         "layout": {
          "annotationdefaults": {
           "arrowcolor": "#2a3f5f",
           "arrowhead": 0,
           "arrowwidth": 1
          },
          "autotypenumbers": "strict",
          "coloraxis": {
           "colorbar": {
            "outlinewidth": 0,
            "ticks": ""
           }
          },
          "colorscale": {
           "diverging": [
            [
             0,
             "#8e0152"
            ],
            [
             0.1,
             "#c51b7d"
            ],
            [
             0.2,
             "#de77ae"
            ],
            [
             0.3,
             "#f1b6da"
            ],
            [
             0.4,
             "#fde0ef"
            ],
            [
             0.5,
             "#f7f7f7"
            ],
            [
             0.6,
             "#e6f5d0"
            ],
            [
             0.7,
             "#b8e186"
            ],
            [
             0.8,
             "#7fbc41"
            ],
            [
             0.9,
             "#4d9221"
            ],
            [
             1,
             "#276419"
            ]
           ],
           "sequential": [
            [
             0,
             "#0d0887"
            ],
            [
             0.1111111111111111,
             "#46039f"
            ],
            [
             0.2222222222222222,
             "#7201a8"
            ],
            [
             0.3333333333333333,
             "#9c179e"
            ],
            [
             0.4444444444444444,
             "#bd3786"
            ],
            [
             0.5555555555555556,
             "#d8576b"
            ],
            [
             0.6666666666666666,
             "#ed7953"
            ],
            [
             0.7777777777777778,
             "#fb9f3a"
            ],
            [
             0.8888888888888888,
             "#fdca26"
            ],
            [
             1,
             "#f0f921"
            ]
           ],
           "sequentialminus": [
            [
             0,
             "#0d0887"
            ],
            [
             0.1111111111111111,
             "#46039f"
            ],
            [
             0.2222222222222222,
             "#7201a8"
            ],
            [
             0.3333333333333333,
             "#9c179e"
            ],
            [
             0.4444444444444444,
             "#bd3786"
            ],
            [
             0.5555555555555556,
             "#d8576b"
            ],
            [
             0.6666666666666666,
             "#ed7953"
            ],
            [
             0.7777777777777778,
             "#fb9f3a"
            ],
            [
             0.8888888888888888,
             "#fdca26"
            ],
            [
             1,
             "#f0f921"
            ]
           ]
          },
          "colorway": [
           "#636efa",
           "#EF553B",
           "#00cc96",
           "#ab63fa",
           "#FFA15A",
           "#19d3f3",
           "#FF6692",
           "#B6E880",
           "#FF97FF",
           "#FECB52"
          ],
          "font": {
           "color": "#2a3f5f"
          },
          "geo": {
           "bgcolor": "white",
           "lakecolor": "white",
           "landcolor": "#E5ECF6",
           "showlakes": true,
           "showland": true,
           "subunitcolor": "white"
          },
          "hoverlabel": {
           "align": "left"
          },
          "hovermode": "closest",
          "mapbox": {
           "style": "light"
          },
          "paper_bgcolor": "white",
          "plot_bgcolor": "#E5ECF6",
          "polar": {
           "angularaxis": {
            "gridcolor": "white",
            "linecolor": "white",
            "ticks": ""
           },
           "bgcolor": "#E5ECF6",
           "radialaxis": {
            "gridcolor": "white",
            "linecolor": "white",
            "ticks": ""
           }
          },
          "scene": {
           "xaxis": {
            "backgroundcolor": "#E5ECF6",
            "gridcolor": "white",
            "gridwidth": 2,
            "linecolor": "white",
            "showbackground": true,
            "ticks": "",
            "zerolinecolor": "white"
           },
           "yaxis": {
            "backgroundcolor": "#E5ECF6",
            "gridcolor": "white",
            "gridwidth": 2,
            "linecolor": "white",
            "showbackground": true,
            "ticks": "",
            "zerolinecolor": "white"
           },
           "zaxis": {
            "backgroundcolor": "#E5ECF6",
            "gridcolor": "white",
            "gridwidth": 2,
            "linecolor": "white",
            "showbackground": true,
            "ticks": "",
            "zerolinecolor": "white"
           }
          },
          "shapedefaults": {
           "line": {
            "color": "#2a3f5f"
           }
          },
          "ternary": {
           "aaxis": {
            "gridcolor": "white",
            "linecolor": "white",
            "ticks": ""
           },
           "baxis": {
            "gridcolor": "white",
            "linecolor": "white",
            "ticks": ""
           },
           "bgcolor": "#E5ECF6",
           "caxis": {
            "gridcolor": "white",
            "linecolor": "white",
            "ticks": ""
           }
          },
          "title": {
           "x": 0.05
          },
          "xaxis": {
           "automargin": true,
           "gridcolor": "white",
           "linecolor": "white",
           "ticks": "",
           "title": {
            "standoff": 15
           },
           "zerolinecolor": "white",
           "zerolinewidth": 2
          },
          "yaxis": {
           "automargin": true,
           "gridcolor": "white",
           "linecolor": "white",
           "ticks": "",
           "title": {
            "standoff": 15
           },
           "zerolinecolor": "white",
           "zerolinewidth": 2
          }
         }
        },
        "title": {
         "text": "Empirical Distribution Function Plot"
        },
        "xaxis": {
         "autorange": true,
         "range": [
          0.126653715862696,
          0.13316449495005198
         ],
         "title": {
          "text": "Objective Value"
         },
         "type": "linear"
        },
        "yaxis": {
         "range": [
          0,
          1
         ],
         "title": {
          "text": "Cumulative Probability"
         },
         "type": "linear"
        }
       }
      },
      "image/png": "[encoded data removed]"
     },
     "metadata": {},
     "output_type": "display_data"
    }
   ],
   "source": [
    "plot_edf(study)"
   ]
  },
  {
   "cell_type": "code",
   "execution_count": 17,
   "id": "bb491f04-2b3e-49ed-ac73-b09ad06a1b99",
   "metadata": {},
   "outputs": [
    {
     "data": {
      "application/vnd.plotly.v1+json": {
       "config": {
        "plotlyServerURL": "https://plot.ly"
       },
       "data": [
        {
         "dimensions": [
          {
           "label": "Objective Value",
           "range": [
            0.126653715862696,
            0.13316449495005198
           ],
           "values": [
            0.12669725362252904,
            0.13214686195818323,
            0.1316201158867274,
            0.13316449495005198,
            0.13086643419398178,
            0.126653715862696,
            0.1283068584080613,
            0.12742393020730508,
            0.12873500441651653,
            0.1309640993849201,
            0.13301746467865602,
            0.13285545047923958,
            0.13116537927266694,
            0.1268758243107713,
            0.13216610407912452,
            0.13158051704530813,
            0.13175206007721052,
            0.13287815668406117,
            0.130458636149387,
            0.13062396926194014,
            0.13124102356992376,
            0.13089359874411796,
            0.13062227303749488,
            0.13104585471820188,
            0.1329659661964166,
            0.13198925967410546,
            0.12979221366278504,
            0.13254862367414352
           ]
          },
          {
           "label": "bagging_fraction",
           "range": [
            0.9,
            1
           ],
           "values": [
            1,
            0.9,
            0.9,
            0.9,
            0.9500000000000001,
            0.9,
            0.9,
            0.9,
            1,
            1,
            0.9500000000000001,
            0.9500000000000001,
            0.9500000000000001,
            0.9500000000000001,
            0.9500000000000001,
            0.9500000000000001,
            0.9,
            1,
            0.9500000000000001,
            0.9,
            0.9500000000000001,
            1,
            1,
            1,
            1,
            0.9500000000000001,
            0.9,
            1
           ]
          },
          {
           "label": "drop_rate",
           "range": [
            0.05,
            0.2
           ],
           "values": [
            0.05,
            0.1,
            0.15000000000000002,
            0.2,
            0.15000000000000002,
            0.1,
            0.15000000000000002,
            0.05,
            0.2,
            0.1,
            0.2,
            0.2,
            0.2,
            0.2,
            0.2,
            0.15000000000000002,
            0.2,
            0.15000000000000002,
            0.2,
            0.15000000000000002,
            0.2,
            0.15000000000000002,
            0.15000000000000002,
            0.2,
            0.1,
            0.1,
            0.05,
            0.1
           ]
          },
          {
           "label": "feature_fraction",
           "range": [
            0.1,
            0.4
           ],
           "values": [
            0.35,
            0.15000000000000002,
            0.30000000000000004,
            0.15000000000000002,
            0.4,
            0.1,
            0.25,
            0.15000000000000002,
            0.4,
            0.4,
            0.2,
            0.2,
            0.2,
            0.1,
            0.2,
            0.25,
            0.15000000000000002,
            0.30000000000000004,
            0.15000000000000002,
            0.2,
            0.25,
            0.30000000000000004,
            0.30000000000000004,
            0.35,
            0.25,
            0.25,
            0.1,
            0.2
           ]
          },
          {
           "label": "lambda_l1",
           "range": [
            -2.991374444174839,
            0.9411634610367596
           ],
           "ticktext": [
            "0.00102",
            "0.01",
            "0.1",
            "1",
            "8.73"
           ],
           "tickvals": [
            -2.991374444174839,
            -2,
            -1,
            0,
            0.9411634610367596
           ],
           "values": [
            -1.6543160628016986,
            -2.0933274696653905,
            -1.8550550858910861,
            -0.35974956207555686,
            0.16785256386930134,
            -0.20109668314170065,
            0.16442078537111815,
            -2.482830628183412,
            -1.7557487124740783,
            -0.8137899570424277,
            0.8319606442664609,
            0.9184248627418693,
            0.9411634610367596,
            -0.8226660517714718,
            -0.23572659937903606,
            0.37975062271306326,
            -2.991374444174839,
            -1.087847334674414,
            -0.3457430162228163,
            0.6403982505143178,
            -1.2605638677746522,
            -1.1828832136490088,
            -0.5046868867061876,
            -1.301893959920605,
            -0.7009005267271813,
            0.050062385716404166,
            -0.664637495728743,
            0.5223970967774015
           ]
          },
          {
           "label": "lambda_l2",
           "range": [
            -2.99269927213607,
            0.6929744054243275
           ],
           "ticktext": [
            "0.00102",
            "0.01",
            "0.1",
            "1",
            "4.93"
           ],
           "tickvals": [
            -2.99269927213607,
            -2,
            -1,
            0,
            0.6929744054243275
           ],
           "values": [
            0.10573358549220065,
            -0.029401209649076894,
            -1.0806655473795517,
            -1.4887333923113195,
            -0.9093496576465955,
            -2.231720768413566,
            -1.4686578091394364,
            0.6929744054243275,
            -0.49691177125623337,
            -2.6568795333767667,
            -1.90556581170063,
            -1.834276822489886,
            -2.8322558787197134,
            -1.8131947819728302,
            -2.2345789990056284,
            -1.3426519146612184,
            -0.6497079288943319,
            -1.9403755787100407,
            -2.572196802092709,
            -1.4688762566349165,
            -2.2503528978534013,
            -1.8310031492225942,
            -1.8425600899719903,
            -1.2468732066963562,
            -2.99269927213607,
            -2.8344038091817936,
            -2.4662173209384335,
            -0.6340228857037312
           ]
          },
          {
           "label": "max_drop",
           "range": [
            10,
            50
           ],
           "values": [
            30,
            10,
            50,
            10,
            20,
            10,
            10,
            30,
            30,
            20,
            50,
            50,
            40,
            40,
            40,
            20,
            50,
            40,
            20,
            10,
            30,
            40,
            50,
            40,
            50,
            50,
            50,
            50
           ]
          },
          {
           "label": "min_data_in_leaf",
           "range": [
            100,
            1000
           ],
           "values": [
            100,
            1000,
            900,
            800,
            900,
            100,
            100,
            300,
            200,
            600,
            600,
            600,
            700,
            400,
            800,
            500,
            700,
            500,
            800,
            700,
            400,
            500,
            400,
            600,
            800,
            800,
            1000,
            900
           ]
          },
          {
           "label": "num_iterations",
           "range": [
            1100,
            2000
           ],
           "values": [
            2000,
            1100,
            1500,
            1400,
            1200,
            1100,
            2000,
            1600,
            1500,
            1100,
            1700,
            1700,
            1800,
            1400,
            1300,
            1800,
            1300,
            1700,
            1400,
            1600,
            1900,
            1700,
            1600,
            1800,
            1700,
            1400,
            1900,
            1600
           ]
          },
          {
           "label": "num_leaves_exp",
           "range": [
            6,
            8
           ],
           "values": [
            7,
            7,
            6,
            7,
            6,
            6,
            6,
            8,
            8,
            6,
            7,
            7,
            7,
            8,
            7,
            7,
            8,
            7,
            8,
            7,
            7,
            7,
            7,
            7,
            7,
            7,
            6,
            8
           ]
          },
          {
           "label": "path_smooth",
           "range": [
            0.08622204990404475,
            19.721944462565247
           ],
           "values": [
            7.855252949507565,
            2.093482723231732,
            14.45954650763239,
            0.47386345609006675,
            8.313886420706682,
            14.85281732152814,
            15.15998956699554,
            8.159460563877648,
            14.14512002941731,
            16.85239861460657,
            0.3014070015281656,
            0.8364404418149539,
            4.388683040187379,
            4.194077723233423,
            0.39766815954597484,
            3.4754241002671673,
            11.344183088331775,
            19.502371413995952,
            5.346290994947436,
            0.08622204990404475,
            6.140797765504027,
            18.720490136333286,
            11.42594059341089,
            19.721944462565247,
            2.3586680521432895,
            2.667115553118203,
            1.6401564091701428,
            6.163226282623695
           ]
          },
          {
           "label": "skip_drop",
           "range": [
            0.5,
            0.9
           ],
           "values": [
            0.8,
            0.7,
            0.8,
            0.5,
            0.65,
            0.65,
            0.9,
            0.8500000000000001,
            0.55,
            0.75,
            0.5,
            0.5,
            0.55,
            0.5,
            0.6,
            0.55,
            0.5,
            0.6,
            0.6,
            0.7,
            0.5,
            0.6,
            0.55,
            0.6,
            0.55,
            0.5,
            0.55,
            0.65
           ]
          }
         ],
         "labelangle": 30,
         "labelside": "bottom",
         "line": {
          "color": [
           0.12669725362252904,
           0.13214686195818323,
           0.1316201158867274,
           0.13316449495005198,
           0.13086643419398178,
           0.126653715862696,
           0.1283068584080613,
           0.12742393020730508,
           0.12873500441651653,
           0.1309640993849201,
           0.13301746467865602,
           0.13285545047923958,
           0.13116537927266694,
           0.1268758243107713,
           0.13216610407912452,
           0.13158051704530813,
           0.13175206007721052,
           0.13287815668406117,
           0.130458636149387,
           0.13062396926194014,
           0.13124102356992376,
           0.13089359874411796,
           0.13062227303749488,
           0.13104585471820188,
           0.1329659661964166,
           0.13198925967410546,
           0.12979221366278504,
           0.13254862367414352
          ],
          "colorbar": {
           "title": {
            "text": "Objective Value"
           }
          },
          "colorscale": [
           [
            0,
            "rgb(247,251,255)"
           ],
           [
            0.125,
            "rgb(222,235,247)"
           ],
           [
            0.25,
            "rgb(198,219,239)"
           ],
           [
            0.375,
            "rgb(158,202,225)"
           ],
           [
            0.5,
            "rgb(107,174,214)"
           ],
           [
            0.625,
            "rgb(66,146,198)"
           ],
           [
            0.75,
            "rgb(33,113,181)"
           ],
           [
            0.875,
            "rgb(8,81,156)"
           ],
           [
            1,
            "rgb(8,48,107)"
           ]
          ],
          "reversescale": false,
          "showscale": true
         },
         "type": "parcoords"
        }
       ],
       "layout": {
        "autosize": true,
        "template": {
         "data": {
          "bar": [
           {
            "error_x": {
             "color": "#2a3f5f"
            },
            "error_y": {
             "color": "#2a3f5f"
            },
            "marker": {
             "line": {
              "color": "#E5ECF6",
              "width": 0.5
             },
             "pattern": {
              "fillmode": "overlay",
              "size": 10,
              "solidity": 0.2
             }
            },
            "type": "bar"
           }
          ],
          "barpolar": [
           {
            "marker": {
             "line": {
              "color": "#E5ECF6",
              "width": 0.5
             },
             "pattern": {
              "fillmode": "overlay",
              "size": 10,
              "solidity": 0.2
             }
            },
            "type": "barpolar"
           }
          ],
          "carpet": [
           {
            "aaxis": {
             "endlinecolor": "#2a3f5f",
             "gridcolor": "white",
             "linecolor": "white",
             "minorgridcolor": "white",
             "startlinecolor": "#2a3f5f"
            },
            "baxis": {
             "endlinecolor": "#2a3f5f",
             "gridcolor": "white",
             "linecolor": "white",
             "minorgridcolor": "white",
             "startlinecolor": "#2a3f5f"
            },
            "type": "carpet"
           }
          ],
          "choropleth": [
           {
            "colorbar": {
             "outlinewidth": 0,
             "ticks": ""
            },
            "type": "choropleth"
           }
          ],
          "contour": [
           {
            "colorbar": {
             "outlinewidth": 0,
             "ticks": ""
            },
            "colorscale": [
             [
              0,
              "#0d0887"
             ],
             [
              0.1111111111111111,
              "#46039f"
             ],
             [
              0.2222222222222222,
              "#7201a8"
             ],
             [
              0.3333333333333333,
              "#9c179e"
             ],
             [
              0.4444444444444444,
              "#bd3786"
             ],
             [
              0.5555555555555556,
              "#d8576b"
             ],
             [
              0.6666666666666666,
              "#ed7953"
             ],
             [
              0.7777777777777778,
              "#fb9f3a"
             ],
             [
              0.8888888888888888,
              "#fdca26"
             ],
             [
              1,
              "#f0f921"
             ]
            ],
            "type": "contour"
           }
          ],
          "contourcarpet": [
           {
            "colorbar": {
             "outlinewidth": 0,
             "ticks": ""
            },
            "type": "contourcarpet"
           }
          ],
          "heatmap": [
           {
            "colorbar": {
             "outlinewidth": 0,
             "ticks": ""
            },
            "colorscale": [
             [
              0,
              "#0d0887"
             ],
             [
              0.1111111111111111,
              "#46039f"
             ],
             [
              0.2222222222222222,
              "#7201a8"
             ],
             [
              0.3333333333333333,
              "#9c179e"
             ],
             [
              0.4444444444444444,
              "#bd3786"
             ],
             [
              0.5555555555555556,
              "#d8576b"
             ],
             [
              0.6666666666666666,
              "#ed7953"
             ],
             [
              0.7777777777777778,
              "#fb9f3a"
             ],
             [
              0.8888888888888888,
              "#fdca26"
             ],
             [
              1,
              "#f0f921"
             ]
            ],
            "type": "heatmap"
           }
          ],
          "heatmapgl": [
           {
            "colorbar": {
             "outlinewidth": 0,
             "ticks": ""
            },
            "colorscale": [
             [
              0,
              "#0d0887"
             ],
             [
              0.1111111111111111,
              "#46039f"
             ],
             [
              0.2222222222222222,
              "#7201a8"
             ],
             [
              0.3333333333333333,
              "#9c179e"
             ],
             [
              0.4444444444444444,
              "#bd3786"
             ],
             [
              0.5555555555555556,
              "#d8576b"
             ],
             [
              0.6666666666666666,
              "#ed7953"
             ],
             [
              0.7777777777777778,
              "#fb9f3a"
             ],
             [
              0.8888888888888888,
              "#fdca26"
             ],
             [
              1,
              "#f0f921"
             ]
            ],
            "type": "heatmapgl"
           }
          ],
          "histogram": [
           {
            "marker": {
             "pattern": {
              "fillmode": "overlay",
              "size": 10,
              "solidity": 0.2
             }
            },
            "type": "histogram"
           }
          ],
          "histogram2d": [
           {
            "colorbar": {
             "outlinewidth": 0,
             "ticks": ""
            },
            "colorscale": [
             [
              0,
              "#0d0887"
             ],
             [
              0.1111111111111111,
              "#46039f"
             ],
             [
              0.2222222222222222,
              "#7201a8"
             ],
             [
              0.3333333333333333,
              "#9c179e"
             ],
             [
              0.4444444444444444,
              "#bd3786"
             ],
             [
              0.5555555555555556,
              "#d8576b"
             ],
             [
              0.6666666666666666,
              "#ed7953"
             ],
             [
              0.7777777777777778,
              "#fb9f3a"
             ],
             [
              0.8888888888888888,
              "#fdca26"
             ],
             [
              1,
              "#f0f921"
             ]
            ],
            "type": "histogram2d"
           }
          ],
          "histogram2dcontour": [
           {
            "colorbar": {
             "outlinewidth": 0,
             "ticks": ""
            },
            "colorscale": [
             [
              0,
              "#0d0887"
             ],
             [
              0.1111111111111111,
              "#46039f"
             ],
             [
              0.2222222222222222,
              "#7201a8"
             ],
             [
              0.3333333333333333,
              "#9c179e"
             ],
             [
              0.4444444444444444,
              "#bd3786"
             ],
             [
              0.5555555555555556,
              "#d8576b"
             ],
             [
              0.6666666666666666,
              "#ed7953"
             ],
             [
              0.7777777777777778,
              "#fb9f3a"
             ],
             [
              0.8888888888888888,
              "#fdca26"
             ],
             [
              1,
              "#f0f921"
             ]
            ],
            "type": "histogram2dcontour"
           }
          ],
          "mesh3d": [
           {
            "colorbar": {
             "outlinewidth": 0,
             "ticks": ""
            },
            "type": "mesh3d"
           }
          ],
          "parcoords": [
           {
            "line": {
             "colorbar": {
              "outlinewidth": 0,
              "ticks": ""
             }
            },
            "type": "parcoords"
           }
          ],
          "pie": [
           {
            "automargin": true,
            "type": "pie"
           }
          ],
          "scatter": [
           {
            "marker": {
             "colorbar": {
              "outlinewidth": 0,
              "ticks": ""
             }
            },
            "type": "scatter"
           }
          ],
          "scatter3d": [
           {
            "line": {
             "colorbar": {
              "outlinewidth": 0,
              "ticks": ""
             }
            },
            "marker": {
             "colorbar": {
              "outlinewidth": 0,
              "ticks": ""
             }
            },
            "type": "scatter3d"
           }
          ],
          "scattercarpet": [
           {
            "marker": {
             "colorbar": {
              "outlinewidth": 0,
              "ticks": ""
             }
            },
            "type": "scattercarpet"
           }
          ],
          "scattergeo": [
           {
            "marker": {
             "colorbar": {
              "outlinewidth": 0,
              "ticks": ""
             }
            },
            "type": "scattergeo"
           }
          ],
          "scattergl": [
           {
            "marker": {
             "colorbar": {
              "outlinewidth": 0,
              "ticks": ""
             }
            },
            "type": "scattergl"
           }
          ],
          "scattermapbox": [
           {
            "marker": {
             "colorbar": {
              "outlinewidth": 0,
              "ticks": ""
             }
            },
            "type": "scattermapbox"
           }
          ],
          "scatterpolar": [
           {
            "marker": {
             "colorbar": {
              "outlinewidth": 0,
              "ticks": ""
             }
            },
            "type": "scatterpolar"
           }
          ],
          "scatterpolargl": [
           {
            "marker": {
             "colorbar": {
              "outlinewidth": 0,
              "ticks": ""
             }
            },
            "type": "scatterpolargl"
           }
          ],
          "scatterternary": [
           {
            "marker": {
             "colorbar": {
              "outlinewidth": 0,
              "ticks": ""
             }
            },
            "type": "scatterternary"
           }
          ],
          "surface": [
           {
            "colorbar": {
             "outlinewidth": 0,
             "ticks": ""
            },
            "colorscale": [
             [
              0,
              "#0d0887"
             ],
             [
              0.1111111111111111,
              "#46039f"
             ],
             [
              0.2222222222222222,
              "#7201a8"
             ],
             [
              0.3333333333333333,
              "#9c179e"
             ],
             [
              0.4444444444444444,
              "#bd3786"
             ],
             [
              0.5555555555555556,
              "#d8576b"
             ],
             [
              0.6666666666666666,
              "#ed7953"
             ],
             [
              0.7777777777777778,
              "#fb9f3a"
             ],
             [
              0.8888888888888888,
              "#fdca26"
             ],
             [
              1,
              "#f0f921"
             ]
            ],
            "type": "surface"
           }
          ],
          "table": [
           {
            "cells": {
             "fill": {
              "color": "#EBF0F8"
             },
             "line": {
              "color": "white"
             }
            },
            "header": {
             "fill": {
              "color": "#C8D4E3"
             },
             "line": {
              "color": "white"
             }
            },
            "type": "table"
           }
          ]
         },
         "layout": {
          "annotationdefaults": {
           "arrowcolor": "#2a3f5f",
           "arrowhead": 0,
           "arrowwidth": 1
          },
          "autotypenumbers": "strict",
          "coloraxis": {
           "colorbar": {
            "outlinewidth": 0,
            "ticks": ""
           }
          },
          "colorscale": {
           "diverging": [
            [
             0,
             "#8e0152"
            ],
            [
             0.1,
             "#c51b7d"
            ],
            [
             0.2,
             "#de77ae"
            ],
            [
             0.3,
             "#f1b6da"
            ],
            [
             0.4,
             "#fde0ef"
            ],
            [
             0.5,
             "#f7f7f7"
            ],
            [
             0.6,
             "#e6f5d0"
            ],
            [
             0.7,
             "#b8e186"
            ],
            [
             0.8,
             "#7fbc41"
            ],
            [
             0.9,
             "#4d9221"
            ],
            [
             1,
             "#276419"
            ]
           ],
           "sequential": [
            [
             0,
             "#0d0887"
            ],
            [
             0.1111111111111111,
             "#46039f"
            ],
            [
             0.2222222222222222,
             "#7201a8"
            ],
            [
             0.3333333333333333,
             "#9c179e"
            ],
            [
             0.4444444444444444,
             "#bd3786"
            ],
            [
             0.5555555555555556,
             "#d8576b"
            ],
            [
             0.6666666666666666,
             "#ed7953"
            ],
            [
             0.7777777777777778,
             "#fb9f3a"
            ],
            [
             0.8888888888888888,
             "#fdca26"
            ],
            [
             1,
             "#f0f921"
            ]
           ],
           "sequentialminus": [
            [
             0,
             "#0d0887"
            ],
            [
             0.1111111111111111,
             "#46039f"
            ],
            [
             0.2222222222222222,
             "#7201a8"
            ],
            [
             0.3333333333333333,
             "#9c179e"
            ],
            [
             0.4444444444444444,
             "#bd3786"
            ],
            [
             0.5555555555555556,
             "#d8576b"
            ],
            [
             0.6666666666666666,
             "#ed7953"
            ],
            [
             0.7777777777777778,
             "#fb9f3a"
            ],
            [
             0.8888888888888888,
             "#fdca26"
            ],
            [
             1,
             "#f0f921"
            ]
           ]
          },
          "colorway": [
           "#636efa",
           "#EF553B",
           "#00cc96",
           "#ab63fa",
           "#FFA15A",
           "#19d3f3",
           "#FF6692",
           "#B6E880",
           "#FF97FF",
           "#FECB52"
          ],
          "font": {
           "color": "#2a3f5f"
          },
          "geo": {
           "bgcolor": "white",
           "lakecolor": "white",
           "landcolor": "#E5ECF6",
           "showlakes": true,
           "showland": true,
           "subunitcolor": "white"
          },
          "hoverlabel": {
           "align": "left"
          },
          "hovermode": "closest",
          "mapbox": {
           "style": "light"
          },
          "paper_bgcolor": "white",
          "plot_bgcolor": "#E5ECF6",
          "polar": {
           "angularaxis": {
            "gridcolor": "white",
            "linecolor": "white",
            "ticks": ""
           },
           "bgcolor": "#E5ECF6",
           "radialaxis": {
            "gridcolor": "white",
            "linecolor": "white",
            "ticks": ""
           }
          },
          "scene": {
           "xaxis": {
            "backgroundcolor": "#E5ECF6",
            "gridcolor": "white",
            "gridwidth": 2,
            "linecolor": "white",
            "showbackground": true,
            "ticks": "",
            "zerolinecolor": "white"
           },
           "yaxis": {
            "backgroundcolor": "#E5ECF6",
            "gridcolor": "white",
            "gridwidth": 2,
            "linecolor": "white",
            "showbackground": true,
            "ticks": "",
            "zerolinecolor": "white"
           },
           "zaxis": {
            "backgroundcolor": "#E5ECF6",
            "gridcolor": "white",
            "gridwidth": 2,
            "linecolor": "white",
            "showbackground": true,
            "ticks": "",
            "zerolinecolor": "white"
           }
          },
          "shapedefaults": {
           "line": {
            "color": "#2a3f5f"
           }
          },
          "ternary": {
           "aaxis": {
            "gridcolor": "white",
            "linecolor": "white",
            "ticks": ""
           },
           "baxis": {
            "gridcolor": "white",
            "linecolor": "white",
            "ticks": ""
           },
           "bgcolor": "#E5ECF6",
           "caxis": {
            "gridcolor": "white",
            "linecolor": "white",
            "ticks": ""
           }
          },
          "title": {
           "x": 0.05
          },
          "xaxis": {
           "automargin": true,
           "gridcolor": "white",
           "linecolor": "white",
           "ticks": "",
           "title": {
            "standoff": 15
           },
           "zerolinecolor": "white",
           "zerolinewidth": 2
          },
          "yaxis": {
           "automargin": true,
           "gridcolor": "white",
           "linecolor": "white",
           "ticks": "",
           "title": {
            "standoff": 15
           },
           "zerolinecolor": "white",
           "zerolinewidth": 2
          }
         }
        },
        "title": {
         "text": "Parallel Coordinate Plot"
        }
       }
      },
      "image/png": "[encoded data removed]"
     },
     "metadata": {},
     "output_type": "display_data"
    }
   ],
   "source": [
    "plot_parallel_coordinate(study)"
   ]
  },
  {
   "cell_type": "code",
   "execution_count": 18,
   "id": "53c546d3-cef7-4cb8-b80c-1657f0e3dcb2",
   "metadata": {},
   "outputs": [
    {
     "data": {
      "text/plain": [
       "{'boosting': 'dart',\n",
       " 'objective': 'mse',\n",
       " 'metric': 'rmse',\n",
       " 'learning_rate': 0.05,\n",
       " 'force_col_wise': True,\n",
       " 'bagging_freq': 1,\n",
       " 'seed': 19,\n",
       " 'verbosity': -1,\n",
       " 'first_metric_only': False,\n",
       " 'bin_construct_sample_cnt': 100000000,\n",
       " 'feature_pre_filter': False,\n",
       " 'bagging_fraction': 0.9,\n",
       " 'drop_rate': 0.2,\n",
       " 'feature_fraction': 0.15000000000000002,\n",
       " 'lambda_l1': 0.43676762370794986,\n",
       " 'lambda_l2': 0.03245387863155825,\n",
       " 'max_drop': 10,\n",
       " 'min_data_in_leaf': 800,\n",
       " 'num_iterations': 1400,\n",
       " 'path_smooth': 0.47386345609006675,\n",
       " 'skip_drop': 0.5,\n",
       " 'num_leaves': 128}"
      ]
     },
     "execution_count": 18,
     "metadata": {},
     "output_type": "execute_result"
    }
   ],
   "source": [
    "best_params = dict(study.best_params)\n",
    "best_params[\"num_leaves\"] = 2**best_params.pop(\"num_leaves_exp\")\n",
    "best_params = {**default_params, **best_params}\n",
    "best_params"
   ]
  },
  {
   "cell_type": "markdown",
   "id": "3e18344d-c1f4-41fd-963a-af6f405add15",
   "metadata": {},
   "source": [
    "***"
   ]
  }
 ],
 "metadata": {
  "kernelspec": {
   "display_name": "Python 3 (ipykernel)",
   "language": "python",
   "name": "python3"
  },
  "language_info": {
   "codemirror_mode": {
    "name": "ipython",
    "version": 3
   },
   "file_extension": ".py",
   "mimetype": "text/x-python",
   "name": "python",
   "nbconvert_exporter": "python",
   "pygments_lexer": "ipython3",
   "version": "3.7.12"
  }
 },
 "nbformat": 4,
 "nbformat_minor": 5
}
