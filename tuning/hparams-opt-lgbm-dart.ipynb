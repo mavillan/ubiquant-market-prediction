{
 "cells": [
  {
   "cell_type": "code",
   "execution_count": 1,
   "id": "6fc57720-af91-4f34-b095-f7471ed11e78",
   "metadata": {},
   "outputs": [
    {
     "data": {
      "text/html": [
       "<style type='text/css'>\n",
       ".datatable table.frame { margin-bottom: 0; }\n",
       ".datatable table.frame thead { border-bottom: none; }\n",
       ".datatable table.frame tr.coltypes td {  color: #FFFFFF;  line-height: 6px;  padding: 0 0.5em;}\n",
       ".datatable .bool    { background: #DDDD99; }\n",
       ".datatable .object  { background: #565656; }\n",
       ".datatable .int     { background: #5D9E5D; }\n",
       ".datatable .float   { background: #4040CC; }\n",
       ".datatable .str     { background: #CC4040; }\n",
       ".datatable .time    { background: #40CC40; }\n",
       ".datatable .row_index {  background: var(--jp-border-color3);  border-right: 1px solid var(--jp-border-color0);  color: var(--jp-ui-font-color3);  font-size: 9px;}\n",
       ".datatable .frame tbody td { text-align: left; }\n",
       ".datatable .frame tr.coltypes .row_index {  background: var(--jp-border-color0);}\n",
       ".datatable th:nth-child(2) { padding-left: 12px; }\n",
       ".datatable .hellipsis {  color: var(--jp-cell-editor-border-color);}\n",
       ".datatable .vellipsis {  background: var(--jp-layout-color0);  color: var(--jp-cell-editor-border-color);}\n",
       ".datatable .na {  color: var(--jp-cell-editor-border-color);  font-size: 80%;}\n",
       ".datatable .sp {  opacity: 0.25;}\n",
       ".datatable .footer { font-size: 9px; }\n",
       ".datatable .frame_dimensions {  background: var(--jp-border-color3);  border-top: 1px solid var(--jp-border-color0);  color: var(--jp-ui-font-color3);  display: inline-block;  opacity: 0.6;  padding: 1px 10px 1px 5px;}\n",
       "</style>\n"
      ],
      "text/plain": [
       "<IPython.core.display.HTML object>"
      ]
     },
     "metadata": {},
     "output_type": "display_data"
    }
   ],
   "source": [
    "import numpy as np\n",
    "import pandas as pd\n",
    "from tqdm import tqdm\n",
    "from scipy import stats\n",
    "import lightgbm as lgb\n",
    "\n",
    "import optuna\n",
    "from optuna.visualization import (\n",
    "    plot_contour\n",
    "    , plot_edf\n",
    "    , plot_intermediate_values\n",
    "    , plot_optimization_history\n",
    "    , plot_parallel_coordinate\n",
    "    , plot_param_importances\n",
    "    , plot_slice\n",
    ")\n",
    "\n",
    "import matplotlib.pyplot as plt\n",
    "import seaborn as sns\n",
    "import plotly.express as px\n",
    "import plotly.io as pio\n",
    "\n",
    "pio.renderers.default = \"jupyterlab\""
   ]
  },
  {
   "cell_type": "markdown",
   "id": "ff6ecffc-64af-45c8-91d9-46ccb4b23fc5",
   "metadata": {},
   "source": [
    "***\n",
    "## loading data"
   ]
  },
  {
   "cell_type": "code",
   "execution_count": 2,
   "id": "e0c43e41-3f1e-4791-9eb1-61c9aaaf1ea4",
   "metadata": {},
   "outputs": [],
   "source": [
    "features = [f\"f_{i}\" for i in range(300)]\n",
    "\n",
    "features = pd.read_parquet(\"../ump-dataset/train.parquet\", columns=features)\n",
    "target = pd.read_parquet(\"../ump-dataset/train.parquet\", columns=[\"target\",])\n",
    "time = pd.read_parquet(\"../ump-dataset/train.parquet\", columns=[\"time_id\",])"
   ]
  },
  {
   "cell_type": "code",
   "execution_count": 3,
   "id": "b5f74807-0400-498f-b13e-ef9f31350f43",
   "metadata": {},
   "outputs": [
    {
     "data": {
      "text/plain": [
       "1211"
      ]
     },
     "execution_count": 3,
     "metadata": {},
     "output_type": "execute_result"
    }
   ],
   "source": [
    "time_ids = np.sort(time.time_id.unique())\n",
    "len(time_ids)"
   ]
  },
  {
   "cell_type": "code",
   "execution_count": 4,
   "id": "1b32639b-0fd2-413d-85ab-3625263ad3d1",
   "metadata": {},
   "outputs": [
    {
     "name": "stdout",
     "output_type": "stream",
     "text": [
      "time steps: 1211\n",
      "valid size: 363\n"
     ]
    }
   ],
   "source": [
    "n_time_steps = len(time_ids)\n",
    "print(\"time steps:\", n_time_steps)\n",
    "\n",
    "valid_prop = 0.3\n",
    "valid_size = int(valid_prop * n_time_steps)\n",
    "print(\"valid size:\", valid_size)"
   ]
  },
  {
   "cell_type": "code",
   "execution_count": 5,
   "id": "91ea263b-39e7-447f-aec7-83434aa97642",
   "metadata": {},
   "outputs": [],
   "source": [
    "valid_time_ids = time_ids[-valid_size:]"
   ]
  },
  {
   "cell_type": "code",
   "execution_count": 6,
   "id": "69ec1825-2a47-41e4-8df5-f106fa28930a",
   "metadata": {},
   "outputs": [],
   "source": [
    "train_idx = time.query(\"time_id not in @valid_time_ids\").index\n",
    "valid_idx = time.query(\"time_id in @valid_time_ids\").index\n",
    "\n",
    "# dataframes for metric calculation\n",
    "oof = target.loc[valid_idx,:].copy()\n",
    "oof[\"time_id\"] = time.loc[valid_idx,\"time_id\"]\n",
    "features_valid = features.loc[valid_idx,:]\n",
    "\n",
    "# input dataset for lgbm\n",
    "train_dset = lgb.Dataset(\n",
    "    data=features.loc[train_idx,:],\n",
    "    label=target.loc[train_idx,\"target\"].values,\n",
    "    free_raw_data=True\n",
    ")\n",
    "valid_dset = lgb.Dataset(\n",
    "    data=features.loc[valid_idx,:],\n",
    "    label=target.loc[valid_idx,\"target\"].values,\n",
    "    free_raw_data=True\n",
    ")"
   ]
  },
  {
   "cell_type": "code",
   "execution_count": 7,
   "id": "d6c17cfc-024a-4b0e-9ce7-6489afb5cc10",
   "metadata": {},
   "outputs": [
    {
     "data": {
      "text/plain": [
       "44"
      ]
     },
     "execution_count": 7,
     "metadata": {},
     "output_type": "execute_result"
    }
   ],
   "source": [
    "import gc\n",
    "gc.collect()"
   ]
  },
  {
   "cell_type": "markdown",
   "id": "c490dd11-7daf-4edf-ae91-f3c5b9ef067b",
   "metadata": {
    "tags": []
   },
   "source": [
    "***\n",
    "## Bayesian Optimization"
   ]
  },
  {
   "cell_type": "code",
   "execution_count": 8,
   "id": "6163bd46-a5bf-4188-911c-3980e8d8abac",
   "metadata": {},
   "outputs": [],
   "source": [
    "default_params = {\n",
    "    'boosting': 'dart',\n",
    "    'objective': 'mse',\n",
    "    'metric': 'rmse',\n",
    "    'learning_rate': 0.05,\n",
    "    'num_leaves': 128,\n",
    "    'max_bin':511,\n",
    "    'force_col_wise': True,\n",
    "    'bagging_freq': 1,\n",
    "    'seed': 19,\n",
    "    'verbosity': -1,\n",
    "    'first_metric_only': False,\n",
    "    'bin_construct_sample_cnt': int(1e8),\n",
    "    'feature_pre_filter' : False,\n",
    "}"
   ]
  },
  {
   "cell_type": "code",
   "execution_count": 9,
   "id": "78284f80-d571-4d8d-ab46-7788366648bd",
   "metadata": {},
   "outputs": [],
   "source": [
    "def pearsonr(preds: np.array, dset: lgb.Dataset):\n",
    "    \"\"\"\n",
    "    Helper function to compute Pearson correlation \n",
    "    on validation dataset for LightGBM as tracking metric.\n",
    "    Args:\n",
    "        preds: 1d-array with the model predictions\n",
    "        dset: LightGBM dataset with the labels\n",
    "    Returs:\n",
    "        Tuple with the corresponding output\n",
    "    \"\"\"\n",
    "    labels = dset.get_label()\n",
    "    return 'pearsonr', stats.pearsonr(preds, labels)[0], True"
   ]
  },
  {
   "cell_type": "code",
   "execution_count": 10,
   "id": "15a9486c-4a3a-4d88-9513-b17f2e52afe0",
   "metadata": {},
   "outputs": [],
   "source": [
    "def objective(trial):    \n",
    "    sampled_params = dict(\n",
    "        feature_fraction = trial.suggest_discrete_uniform(\"feature_fraction\", 0.1, 0.5, 0.05),\n",
    "        bagging_fraction = trial.suggest_discrete_uniform(\"bagging_fraction\", 0.8, 1.0, 0.05),\n",
    "        lambda_l1 = trial.suggest_loguniform(\"lambda_l1\", 1e-3, 1e1),\n",
    "        lambda_l2 = trial.suggest_loguniform(\"lambda_l2\", 1e-3, 1e1),\n",
    "        min_data_in_leaf = trial.suggest_int(\"min_data_in_leaf\", 1000, 3000, 100),\n",
    "        path_smooth = trial.suggest_float(\"path_smooth\", 0., 100.),\n",
    "        drop_rate = trial.suggest_discrete_uniform(\"drop_rate\", 0.05, 0.2, 0.01),\n",
    "        max_drop = trial.suggest_int(\"max_drop\", 10, 100, 10),\n",
    "        skip_drop = trial.suggest_discrete_uniform(\"skip_drop\", 0.25, 0.75, 0.05),\n",
    "    )\n",
    "    model_params = {**default_params, **sampled_params}\n",
    "    \n",
    "    model = lgb.train(\n",
    "        params=model_params,\n",
    "        train_set=train_dset,\n",
    "        num_boost_round=trial.suggest_int(\"num_iterations\", 800, 2000, 100),\n",
    "    )\n",
    "    \n",
    "    # metric calculation\n",
    "    _oof = oof.copy()\n",
    "    _oof[\"pred\"] = model.predict(features_valid)\n",
    "    corrs = _oof.groupby(\"time_id\").apply(lambda x: stats.pearsonr(x.target, x.pred)[0])\n",
    "    corr_mean = corrs.mean()\n",
    "    corr_std = corrs.std()\n",
    "    \n",
    "    return corr_mean            "
   ]
  },
  {
   "cell_type": "code",
   "execution_count": 11,
   "id": "fb17093c-f7d5-41d5-b0f0-7237dd0481a1",
   "metadata": {
    "tags": []
   },
   "outputs": [
    {
     "name": "stderr",
     "output_type": "stream",
     "text": [
      "\u001b[32m[I 2022-03-02 17:45:14,061]\u001b[0m Using an existing study with name 'lgbm-dart' instead of creating a new one.\u001b[0m\n"
     ]
    }
   ],
   "source": [
    "do_optimize = False\n",
    "\n",
    "study = optuna.create_study(\n",
    "    study_name=\"lgbm-dart\",\n",
    "    direction='maximize',\n",
    "    storage='sqlite:///lgbm-dart.db',\n",
    "    load_if_exists=True,\n",
    ")\n",
    "\n",
    "if do_optimize:\n",
    "    study.optimize(\n",
    "        objective, \n",
    "        n_trials=1000, \n",
    "        timeout=43200, # 12-hrs\n",
    "        n_jobs=1, \n",
    "        gc_after_trial=True,\n",
    "    ) "
   ]
  },
  {
   "cell_type": "code",
   "execution_count": 12,
   "id": "20c2b3d1-edc2-4f48-a129-a975013934b6",
   "metadata": {},
   "outputs": [
    {
     "data": {
      "text/html": [
       "<div>\n",
       "<style scoped>\n",
       "    .dataframe tbody tr th:only-of-type {\n",
       "        vertical-align: middle;\n",
       "    }\n",
       "\n",
       "    .dataframe tbody tr th {\n",
       "        vertical-align: top;\n",
       "    }\n",
       "\n",
       "    .dataframe thead th {\n",
       "        text-align: right;\n",
       "    }\n",
       "</style>\n",
       "<table border=\"1\" class=\"dataframe\">\n",
       "  <thead>\n",
       "    <tr style=\"text-align: right;\">\n",
       "      <th></th>\n",
       "      <th>number</th>\n",
       "      <th>value</th>\n",
       "      <th>datetime_start</th>\n",
       "      <th>datetime_complete</th>\n",
       "      <th>duration</th>\n",
       "      <th>params_bagging_fraction</th>\n",
       "      <th>params_drop_rate</th>\n",
       "      <th>params_feature_fraction</th>\n",
       "      <th>params_lambda_l1</th>\n",
       "      <th>params_lambda_l2</th>\n",
       "      <th>params_max_drop</th>\n",
       "      <th>params_min_data_in_leaf</th>\n",
       "      <th>params_num_iterations</th>\n",
       "      <th>params_path_smooth</th>\n",
       "      <th>params_skip_drop</th>\n",
       "      <th>state</th>\n",
       "    </tr>\n",
       "  </thead>\n",
       "  <tbody>\n",
       "    <tr>\n",
       "      <th>35</th>\n",
       "      <td>35</td>\n",
       "      <td>0.135104</td>\n",
       "      <td>2022-03-01 21:23:47.687516</td>\n",
       "      <td>2022-03-01 23:09:22.753601</td>\n",
       "      <td>0 days 01:45:35.066085</td>\n",
       "      <td>0.90</td>\n",
       "      <td>0.09</td>\n",
       "      <td>0.35</td>\n",
       "      <td>1.112742</td>\n",
       "      <td>0.001745</td>\n",
       "      <td>90</td>\n",
       "      <td>2200</td>\n",
       "      <td>1900</td>\n",
       "      <td>7.961233</td>\n",
       "      <td>0.55</td>\n",
       "      <td>COMPLETE</td>\n",
       "    </tr>\n",
       "    <tr>\n",
       "      <th>32</th>\n",
       "      <td>32</td>\n",
       "      <td>0.135010</td>\n",
       "      <td>2022-03-01 18:41:40.341100</td>\n",
       "      <td>2022-03-01 19:34:21.395818</td>\n",
       "      <td>0 days 00:52:41.054718</td>\n",
       "      <td>0.90</td>\n",
       "      <td>0.06</td>\n",
       "      <td>0.20</td>\n",
       "      <td>3.233071</td>\n",
       "      <td>0.002490</td>\n",
       "      <td>60</td>\n",
       "      <td>2400</td>\n",
       "      <td>1700</td>\n",
       "      <td>38.807106</td>\n",
       "      <td>0.60</td>\n",
       "      <td>COMPLETE</td>\n",
       "    </tr>\n",
       "    <tr>\n",
       "      <th>37</th>\n",
       "      <td>37</td>\n",
       "      <td>0.134554</td>\n",
       "      <td>2022-03-02 03:51:17.790463</td>\n",
       "      <td>2022-03-02 05:38:43.493053</td>\n",
       "      <td>0 days 01:47:25.702590</td>\n",
       "      <td>0.85</td>\n",
       "      <td>0.09</td>\n",
       "      <td>0.35</td>\n",
       "      <td>2.521982</td>\n",
       "      <td>0.001811</td>\n",
       "      <td>90</td>\n",
       "      <td>2200</td>\n",
       "      <td>1900</td>\n",
       "      <td>6.732627</td>\n",
       "      <td>0.55</td>\n",
       "      <td>COMPLETE</td>\n",
       "    </tr>\n",
       "    <tr>\n",
       "      <th>42</th>\n",
       "      <td>42</td>\n",
       "      <td>0.134193</td>\n",
       "      <td>2022-03-02 13:06:03.856813</td>\n",
       "      <td>2022-03-02 14:56:57.150020</td>\n",
       "      <td>0 days 01:50:53.293207</td>\n",
       "      <td>0.85</td>\n",
       "      <td>0.07</td>\n",
       "      <td>0.40</td>\n",
       "      <td>0.508152</td>\n",
       "      <td>0.006243</td>\n",
       "      <td>90</td>\n",
       "      <td>2400</td>\n",
       "      <td>2000</td>\n",
       "      <td>8.273905</td>\n",
       "      <td>0.55</td>\n",
       "      <td>COMPLETE</td>\n",
       "    </tr>\n",
       "    <tr>\n",
       "      <th>41</th>\n",
       "      <td>41</td>\n",
       "      <td>0.134125</td>\n",
       "      <td>2022-03-02 11:38:11.217367</td>\n",
       "      <td>2022-03-02 13:06:03.736833</td>\n",
       "      <td>0 days 01:27:52.519466</td>\n",
       "      <td>0.85</td>\n",
       "      <td>0.07</td>\n",
       "      <td>0.40</td>\n",
       "      <td>2.650939</td>\n",
       "      <td>0.002779</td>\n",
       "      <td>90</td>\n",
       "      <td>2400</td>\n",
       "      <td>1700</td>\n",
       "      <td>9.092071</td>\n",
       "      <td>0.55</td>\n",
       "      <td>COMPLETE</td>\n",
       "    </tr>\n",
       "    <tr>\n",
       "      <th>36</th>\n",
       "      <td>36</td>\n",
       "      <td>0.134080</td>\n",
       "      <td>2022-03-02 02:02:21.810575</td>\n",
       "      <td>2022-03-02 03:51:17.665945</td>\n",
       "      <td>0 days 01:48:55.855370</td>\n",
       "      <td>0.85</td>\n",
       "      <td>0.09</td>\n",
       "      <td>0.35</td>\n",
       "      <td>2.767042</td>\n",
       "      <td>0.002009</td>\n",
       "      <td>90</td>\n",
       "      <td>2200</td>\n",
       "      <td>1900</td>\n",
       "      <td>8.968306</td>\n",
       "      <td>0.55</td>\n",
       "      <td>COMPLETE</td>\n",
       "    </tr>\n",
       "    <tr>\n",
       "      <th>31</th>\n",
       "      <td>31</td>\n",
       "      <td>0.134075</td>\n",
       "      <td>2022-03-01 17:57:32.906389</td>\n",
       "      <td>2022-03-01 18:41:40.232690</td>\n",
       "      <td>0 days 00:44:07.326301</td>\n",
       "      <td>0.90</td>\n",
       "      <td>0.05</td>\n",
       "      <td>0.20</td>\n",
       "      <td>2.421860</td>\n",
       "      <td>0.002928</td>\n",
       "      <td>70</td>\n",
       "      <td>2500</td>\n",
       "      <td>1600</td>\n",
       "      <td>20.091225</td>\n",
       "      <td>0.65</td>\n",
       "      <td>COMPLETE</td>\n",
       "    </tr>\n",
       "    <tr>\n",
       "      <th>6</th>\n",
       "      <td>6</td>\n",
       "      <td>0.134067</td>\n",
       "      <td>2022-03-01 03:15:27.787455</td>\n",
       "      <td>2022-03-01 03:53:01.613463</td>\n",
       "      <td>0 days 00:37:33.826008</td>\n",
       "      <td>1.00</td>\n",
       "      <td>0.19</td>\n",
       "      <td>0.15</td>\n",
       "      <td>0.103959</td>\n",
       "      <td>0.025984</td>\n",
       "      <td>60</td>\n",
       "      <td>1700</td>\n",
       "      <td>1500</td>\n",
       "      <td>24.278093</td>\n",
       "      <td>0.70</td>\n",
       "      <td>COMPLETE</td>\n",
       "    </tr>\n",
       "    <tr>\n",
       "      <th>40</th>\n",
       "      <td>40</td>\n",
       "      <td>0.134054</td>\n",
       "      <td>2022-03-02 09:40:46.264955</td>\n",
       "      <td>2022-03-02 11:38:11.103274</td>\n",
       "      <td>0 days 01:57:24.838319</td>\n",
       "      <td>0.85</td>\n",
       "      <td>0.09</td>\n",
       "      <td>0.35</td>\n",
       "      <td>5.003803</td>\n",
       "      <td>0.001947</td>\n",
       "      <td>100</td>\n",
       "      <td>2200</td>\n",
       "      <td>1900</td>\n",
       "      <td>4.894997</td>\n",
       "      <td>0.55</td>\n",
       "      <td>COMPLETE</td>\n",
       "    </tr>\n",
       "    <tr>\n",
       "      <th>1</th>\n",
       "      <td>1</td>\n",
       "      <td>0.133776</td>\n",
       "      <td>2022-02-28 23:54:33.703370</td>\n",
       "      <td>2022-03-01 00:05:32.294606</td>\n",
       "      <td>0 days 00:10:58.591236</td>\n",
       "      <td>0.95</td>\n",
       "      <td>0.09</td>\n",
       "      <td>0.15</td>\n",
       "      <td>1.121625</td>\n",
       "      <td>0.002035</td>\n",
       "      <td>20</td>\n",
       "      <td>2500</td>\n",
       "      <td>1000</td>\n",
       "      <td>15.076167</td>\n",
       "      <td>0.70</td>\n",
       "      <td>COMPLETE</td>\n",
       "    </tr>\n",
       "    <tr>\n",
       "      <th>8</th>\n",
       "      <td>8</td>\n",
       "      <td>0.133736</td>\n",
       "      <td>2022-03-01 04:35:19.431191</td>\n",
       "      <td>2022-03-01 05:10:09.172439</td>\n",
       "      <td>0 days 00:34:49.741248</td>\n",
       "      <td>0.90</td>\n",
       "      <td>0.18</td>\n",
       "      <td>0.15</td>\n",
       "      <td>0.005179</td>\n",
       "      <td>0.009815</td>\n",
       "      <td>50</td>\n",
       "      <td>1000</td>\n",
       "      <td>1300</td>\n",
       "      <td>42.076916</td>\n",
       "      <td>0.60</td>\n",
       "      <td>COMPLETE</td>\n",
       "    </tr>\n",
       "    <tr>\n",
       "      <th>38</th>\n",
       "      <td>38</td>\n",
       "      <td>0.133667</td>\n",
       "      <td>2022-03-02 05:38:43.612140</td>\n",
       "      <td>2022-03-02 07:32:50.942081</td>\n",
       "      <td>0 days 01:54:07.329941</td>\n",
       "      <td>0.85</td>\n",
       "      <td>0.09</td>\n",
       "      <td>0.35</td>\n",
       "      <td>6.141361</td>\n",
       "      <td>0.001519</td>\n",
       "      <td>90</td>\n",
       "      <td>2200</td>\n",
       "      <td>1900</td>\n",
       "      <td>7.064084</td>\n",
       "      <td>0.50</td>\n",
       "      <td>COMPLETE</td>\n",
       "    </tr>\n",
       "    <tr>\n",
       "      <th>33</th>\n",
       "      <td>33</td>\n",
       "      <td>0.133651</td>\n",
       "      <td>2022-03-01 19:34:21.508359</td>\n",
       "      <td>2022-03-01 20:33:04.032887</td>\n",
       "      <td>0 days 00:58:42.524528</td>\n",
       "      <td>0.90</td>\n",
       "      <td>0.06</td>\n",
       "      <td>0.20</td>\n",
       "      <td>3.720199</td>\n",
       "      <td>0.001051</td>\n",
       "      <td>60</td>\n",
       "      <td>2300</td>\n",
       "      <td>2000</td>\n",
       "      <td>24.040420</td>\n",
       "      <td>0.65</td>\n",
       "      <td>COMPLETE</td>\n",
       "    </tr>\n",
       "    <tr>\n",
       "      <th>13</th>\n",
       "      <td>13</td>\n",
       "      <td>0.133607</td>\n",
       "      <td>2022-03-01 07:23:20.450151</td>\n",
       "      <td>2022-03-01 08:07:32.222725</td>\n",
       "      <td>0 days 00:44:11.772574</td>\n",
       "      <td>0.90</td>\n",
       "      <td>0.05</td>\n",
       "      <td>0.20</td>\n",
       "      <td>1.492277</td>\n",
       "      <td>0.004426</td>\n",
       "      <td>70</td>\n",
       "      <td>2500</td>\n",
       "      <td>1600</td>\n",
       "      <td>20.900075</td>\n",
       "      <td>0.65</td>\n",
       "      <td>COMPLETE</td>\n",
       "    </tr>\n",
       "    <tr>\n",
       "      <th>2</th>\n",
       "      <td>2</td>\n",
       "      <td>0.133529</td>\n",
       "      <td>2022-03-01 00:05:32.412116</td>\n",
       "      <td>2022-03-01 00:36:51.947029</td>\n",
       "      <td>0 days 00:31:19.534913</td>\n",
       "      <td>0.80</td>\n",
       "      <td>0.08</td>\n",
       "      <td>0.35</td>\n",
       "      <td>0.004508</td>\n",
       "      <td>3.660699</td>\n",
       "      <td>40</td>\n",
       "      <td>1400</td>\n",
       "      <td>1100</td>\n",
       "      <td>37.606120</td>\n",
       "      <td>0.55</td>\n",
       "      <td>COMPLETE</td>\n",
       "    </tr>\n",
       "    <tr>\n",
       "      <th>21</th>\n",
       "      <td>21</td>\n",
       "      <td>0.133474</td>\n",
       "      <td>2022-03-01 12:36:35.694234</td>\n",
       "      <td>2022-03-01 13:16:44.838056</td>\n",
       "      <td>0 days 00:40:09.143822</td>\n",
       "      <td>0.90</td>\n",
       "      <td>0.18</td>\n",
       "      <td>0.15</td>\n",
       "      <td>0.005804</td>\n",
       "      <td>0.011297</td>\n",
       "      <td>60</td>\n",
       "      <td>1100</td>\n",
       "      <td>1300</td>\n",
       "      <td>41.832812</td>\n",
       "      <td>0.60</td>\n",
       "      <td>COMPLETE</td>\n",
       "    </tr>\n",
       "    <tr>\n",
       "      <th>34</th>\n",
       "      <td>34</td>\n",
       "      <td>0.133422</td>\n",
       "      <td>2022-03-01 20:33:04.145822</td>\n",
       "      <td>2022-03-01 21:23:47.571995</td>\n",
       "      <td>0 days 00:50:43.426173</td>\n",
       "      <td>0.85</td>\n",
       "      <td>0.06</td>\n",
       "      <td>0.25</td>\n",
       "      <td>8.952971</td>\n",
       "      <td>0.003219</td>\n",
       "      <td>70</td>\n",
       "      <td>2500</td>\n",
       "      <td>1700</td>\n",
       "      <td>36.475792</td>\n",
       "      <td>0.70</td>\n",
       "      <td>COMPLETE</td>\n",
       "    </tr>\n",
       "    <tr>\n",
       "      <th>26</th>\n",
       "      <td>26</td>\n",
       "      <td>0.133367</td>\n",
       "      <td>2022-03-01 15:15:26.835709</td>\n",
       "      <td>2022-03-01 15:55:15.816105</td>\n",
       "      <td>0 days 00:39:48.980396</td>\n",
       "      <td>0.90</td>\n",
       "      <td>0.19</td>\n",
       "      <td>0.25</td>\n",
       "      <td>0.909309</td>\n",
       "      <td>0.066410</td>\n",
       "      <td>60</td>\n",
       "      <td>1000</td>\n",
       "      <td>1200</td>\n",
       "      <td>46.090991</td>\n",
       "      <td>0.60</td>\n",
       "      <td>COMPLETE</td>\n",
       "    </tr>\n",
       "    <tr>\n",
       "      <th>30</th>\n",
       "      <td>30</td>\n",
       "      <td>0.133179</td>\n",
       "      <td>2022-03-01 17:28:53.952067</td>\n",
       "      <td>2022-03-01 17:57:32.790505</td>\n",
       "      <td>0 days 00:28:38.838438</td>\n",
       "      <td>1.00</td>\n",
       "      <td>0.19</td>\n",
       "      <td>0.15</td>\n",
       "      <td>0.073879</td>\n",
       "      <td>0.007917</td>\n",
       "      <td>40</td>\n",
       "      <td>1900</td>\n",
       "      <td>1400</td>\n",
       "      <td>69.190181</td>\n",
       "      <td>0.65</td>\n",
       "      <td>COMPLETE</td>\n",
       "    </tr>\n",
       "    <tr>\n",
       "      <th>39</th>\n",
       "      <td>39</td>\n",
       "      <td>0.133151</td>\n",
       "      <td>2022-03-02 07:32:51.062008</td>\n",
       "      <td>2022-03-02 09:40:46.149584</td>\n",
       "      <td>0 days 02:07:55.087576</td>\n",
       "      <td>0.80</td>\n",
       "      <td>0.08</td>\n",
       "      <td>0.40</td>\n",
       "      <td>2.139916</td>\n",
       "      <td>1.524996</td>\n",
       "      <td>90</td>\n",
       "      <td>2100</td>\n",
       "      <td>1900</td>\n",
       "      <td>0.070986</td>\n",
       "      <td>0.45</td>\n",
       "      <td>COMPLETE</td>\n",
       "    </tr>\n",
       "  </tbody>\n",
       "</table>\n",
       "</div>"
      ],
      "text/plain": [
       "    number     value             datetime_start          datetime_complete  \\\n",
       "35      35  0.135104 2022-03-01 21:23:47.687516 2022-03-01 23:09:22.753601   \n",
       "32      32  0.135010 2022-03-01 18:41:40.341100 2022-03-01 19:34:21.395818   \n",
       "37      37  0.134554 2022-03-02 03:51:17.790463 2022-03-02 05:38:43.493053   \n",
       "42      42  0.134193 2022-03-02 13:06:03.856813 2022-03-02 14:56:57.150020   \n",
       "41      41  0.134125 2022-03-02 11:38:11.217367 2022-03-02 13:06:03.736833   \n",
       "36      36  0.134080 2022-03-02 02:02:21.810575 2022-03-02 03:51:17.665945   \n",
       "31      31  0.134075 2022-03-01 17:57:32.906389 2022-03-01 18:41:40.232690   \n",
       "6        6  0.134067 2022-03-01 03:15:27.787455 2022-03-01 03:53:01.613463   \n",
       "40      40  0.134054 2022-03-02 09:40:46.264955 2022-03-02 11:38:11.103274   \n",
       "1        1  0.133776 2022-02-28 23:54:33.703370 2022-03-01 00:05:32.294606   \n",
       "8        8  0.133736 2022-03-01 04:35:19.431191 2022-03-01 05:10:09.172439   \n",
       "38      38  0.133667 2022-03-02 05:38:43.612140 2022-03-02 07:32:50.942081   \n",
       "33      33  0.133651 2022-03-01 19:34:21.508359 2022-03-01 20:33:04.032887   \n",
       "13      13  0.133607 2022-03-01 07:23:20.450151 2022-03-01 08:07:32.222725   \n",
       "2        2  0.133529 2022-03-01 00:05:32.412116 2022-03-01 00:36:51.947029   \n",
       "21      21  0.133474 2022-03-01 12:36:35.694234 2022-03-01 13:16:44.838056   \n",
       "34      34  0.133422 2022-03-01 20:33:04.145822 2022-03-01 21:23:47.571995   \n",
       "26      26  0.133367 2022-03-01 15:15:26.835709 2022-03-01 15:55:15.816105   \n",
       "30      30  0.133179 2022-03-01 17:28:53.952067 2022-03-01 17:57:32.790505   \n",
       "39      39  0.133151 2022-03-02 07:32:51.062008 2022-03-02 09:40:46.149584   \n",
       "\n",
       "                 duration  params_bagging_fraction  params_drop_rate  \\\n",
       "35 0 days 01:45:35.066085                     0.90              0.09   \n",
       "32 0 days 00:52:41.054718                     0.90              0.06   \n",
       "37 0 days 01:47:25.702590                     0.85              0.09   \n",
       "42 0 days 01:50:53.293207                     0.85              0.07   \n",
       "41 0 days 01:27:52.519466                     0.85              0.07   \n",
       "36 0 days 01:48:55.855370                     0.85              0.09   \n",
       "31 0 days 00:44:07.326301                     0.90              0.05   \n",
       "6  0 days 00:37:33.826008                     1.00              0.19   \n",
       "40 0 days 01:57:24.838319                     0.85              0.09   \n",
       "1  0 days 00:10:58.591236                     0.95              0.09   \n",
       "8  0 days 00:34:49.741248                     0.90              0.18   \n",
       "38 0 days 01:54:07.329941                     0.85              0.09   \n",
       "33 0 days 00:58:42.524528                     0.90              0.06   \n",
       "13 0 days 00:44:11.772574                     0.90              0.05   \n",
       "2  0 days 00:31:19.534913                     0.80              0.08   \n",
       "21 0 days 00:40:09.143822                     0.90              0.18   \n",
       "34 0 days 00:50:43.426173                     0.85              0.06   \n",
       "26 0 days 00:39:48.980396                     0.90              0.19   \n",
       "30 0 days 00:28:38.838438                     1.00              0.19   \n",
       "39 0 days 02:07:55.087576                     0.80              0.08   \n",
       "\n",
       "    params_feature_fraction  params_lambda_l1  params_lambda_l2  \\\n",
       "35                     0.35          1.112742          0.001745   \n",
       "32                     0.20          3.233071          0.002490   \n",
       "37                     0.35          2.521982          0.001811   \n",
       "42                     0.40          0.508152          0.006243   \n",
       "41                     0.40          2.650939          0.002779   \n",
       "36                     0.35          2.767042          0.002009   \n",
       "31                     0.20          2.421860          0.002928   \n",
       "6                      0.15          0.103959          0.025984   \n",
       "40                     0.35          5.003803          0.001947   \n",
       "1                      0.15          1.121625          0.002035   \n",
       "8                      0.15          0.005179          0.009815   \n",
       "38                     0.35          6.141361          0.001519   \n",
       "33                     0.20          3.720199          0.001051   \n",
       "13                     0.20          1.492277          0.004426   \n",
       "2                      0.35          0.004508          3.660699   \n",
       "21                     0.15          0.005804          0.011297   \n",
       "34                     0.25          8.952971          0.003219   \n",
       "26                     0.25          0.909309          0.066410   \n",
       "30                     0.15          0.073879          0.007917   \n",
       "39                     0.40          2.139916          1.524996   \n",
       "\n",
       "    params_max_drop  params_min_data_in_leaf  params_num_iterations  \\\n",
       "35               90                     2200                   1900   \n",
       "32               60                     2400                   1700   \n",
       "37               90                     2200                   1900   \n",
       "42               90                     2400                   2000   \n",
       "41               90                     2400                   1700   \n",
       "36               90                     2200                   1900   \n",
       "31               70                     2500                   1600   \n",
       "6                60                     1700                   1500   \n",
       "40              100                     2200                   1900   \n",
       "1                20                     2500                   1000   \n",
       "8                50                     1000                   1300   \n",
       "38               90                     2200                   1900   \n",
       "33               60                     2300                   2000   \n",
       "13               70                     2500                   1600   \n",
       "2                40                     1400                   1100   \n",
       "21               60                     1100                   1300   \n",
       "34               70                     2500                   1700   \n",
       "26               60                     1000                   1200   \n",
       "30               40                     1900                   1400   \n",
       "39               90                     2100                   1900   \n",
       "\n",
       "    params_path_smooth  params_skip_drop     state  \n",
       "35            7.961233              0.55  COMPLETE  \n",
       "32           38.807106              0.60  COMPLETE  \n",
       "37            6.732627              0.55  COMPLETE  \n",
       "42            8.273905              0.55  COMPLETE  \n",
       "41            9.092071              0.55  COMPLETE  \n",
       "36            8.968306              0.55  COMPLETE  \n",
       "31           20.091225              0.65  COMPLETE  \n",
       "6            24.278093              0.70  COMPLETE  \n",
       "40            4.894997              0.55  COMPLETE  \n",
       "1            15.076167              0.70  COMPLETE  \n",
       "8            42.076916              0.60  COMPLETE  \n",
       "38            7.064084              0.50  COMPLETE  \n",
       "33           24.040420              0.65  COMPLETE  \n",
       "13           20.900075              0.65  COMPLETE  \n",
       "2            37.606120              0.55  COMPLETE  \n",
       "21           41.832812              0.60  COMPLETE  \n",
       "34           36.475792              0.70  COMPLETE  \n",
       "26           46.090991              0.60  COMPLETE  \n",
       "30           69.190181              0.65  COMPLETE  \n",
       "39            0.070986              0.45  COMPLETE  "
      ]
     },
     "execution_count": 12,
     "metadata": {},
     "output_type": "execute_result"
    }
   ],
   "source": [
    "study.trials_dataframe().sort_values(\"value\", ascending=False).head(20)"
   ]
  },
  {
   "cell_type": "code",
   "execution_count": 13,
   "id": "de4d361a-1d7d-46da-8f20-fcd379f8b476",
   "metadata": {},
   "outputs": [
    {
     "data": {
      "application/vnd.plotly.v1+json": {
       "config": {
        "plotlyServerURL": "https://plot.ly"
       },
       "data": [
        {
         "mode": "markers",
         "name": "Objective Value",
         "type": "scatter",
         "x": [
          0,
          1,
          2,
          3,
          4,
          5,
          6,
          7,
          8,
          9,
          10,
          11,
          12,
          13,
          14,
          15,
          16,
          17,
          18,
          19,
          20,
          21,
          22,
          23,
          24,
          25,
          26,
          27,
          28,
          29,
          30,
          31,
          32,
          33,
          34,
          35,
          36,
          37,
          38,
          39,
          40,
          41,
          42,
          43
         ],
         "y": [
          0.13183145594938714,
          0.1337759328680827,
          0.13352875898064875,
          0.13270900220738094,
          0.13042752558201606,
          0.11842981160156078,
          0.13406732991657636,
          0.13271920674698917,
          0.1337364020470085,
          0.13170139995617466,
          0.12163927786614784,
          0.1314041744410869,
          0.133085960209707,
          0.13360651892368258,
          0.13156260666449654,
          0.13312021071685098,
          0.13114409933499807,
          0.13099629934881651,
          0.1329412322305197,
          0.1331467796616585,
          0.13260720140844995,
          0.13347403469801916,
          0.1328551957893863,
          0.13225954852089938,
          0.1279890582550186,
          0.13287822375690217,
          0.1333668927187985,
          0.13200121699838335,
          0.12992069504071863,
          0.13089671133698497,
          0.13317913722034344,
          0.13407535319975797,
          0.1350101600631489,
          0.13365065260026193,
          0.1334218166636359,
          0.13510376393795892,
          0.13408015862069386,
          0.1345538486348868,
          0.13366690714845642,
          0.13315119383169857,
          0.13405448571078488,
          0.1341246100551234,
          0.13419319293496254,
          0.1317274780105789
         ]
        },
        {
         "name": "Best Value",
         "type": "scatter",
         "x": [
          0,
          1,
          2,
          3,
          4,
          5,
          6,
          7,
          8,
          9,
          10,
          11,
          12,
          13,
          14,
          15,
          16,
          17,
          18,
          19,
          20,
          21,
          22,
          23,
          24,
          25,
          26,
          27,
          28,
          29,
          30,
          31,
          32,
          33,
          34,
          35,
          36,
          37,
          38,
          39,
          40,
          41,
          42,
          43
         ],
         "y": [
          0.13183145594938714,
          0.1337759328680827,
          0.1337759328680827,
          0.1337759328680827,
          0.1337759328680827,
          0.1337759328680827,
          0.13406732991657636,
          0.13406732991657636,
          0.13406732991657636,
          0.13406732991657636,
          0.13406732991657636,
          0.13406732991657636,
          0.13406732991657636,
          0.13406732991657636,
          0.13406732991657636,
          0.13406732991657636,
          0.13406732991657636,
          0.13406732991657636,
          0.13406732991657636,
          0.13406732991657636,
          0.13406732991657636,
          0.13406732991657636,
          0.13406732991657636,
          0.13406732991657636,
          0.13406732991657636,
          0.13406732991657636,
          0.13406732991657636,
          0.13406732991657636,
          0.13406732991657636,
          0.13406732991657636,
          0.13406732991657636,
          0.13407535319975797,
          0.1350101600631489,
          0.1350101600631489,
          0.1350101600631489,
          0.13510376393795892,
          0.13510376393795892,
          0.13510376393795892,
          0.13510376393795892,
          0.13510376393795892,
          0.13510376393795892,
          0.13510376393795892,
          0.13510376393795892,
          0.13510376393795892
         ]
        }
       ],
       "layout": {
        "autosize": true,
        "template": {
         "data": {
          "bar": [
           {
            "error_x": {
             "color": "#2a3f5f"
            },
            "error_y": {
             "color": "#2a3f5f"
            },
            "marker": {
             "line": {
              "color": "#E5ECF6",
              "width": 0.5
             },
             "pattern": {
              "fillmode": "overlay",
              "size": 10,
              "solidity": 0.2
             }
            },
            "type": "bar"
           }
          ],
          "barpolar": [
           {
            "marker": {
             "line": {
              "color": "#E5ECF6",
              "width": 0.5
             },
             "pattern": {
              "fillmode": "overlay",
              "size": 10,
              "solidity": 0.2
             }
            },
            "type": "barpolar"
           }
          ],
          "carpet": [
           {
            "aaxis": {
             "endlinecolor": "#2a3f5f",
             "gridcolor": "white",
             "linecolor": "white",
             "minorgridcolor": "white",
             "startlinecolor": "#2a3f5f"
            },
            "baxis": {
             "endlinecolor": "#2a3f5f",
             "gridcolor": "white",
             "linecolor": "white",
             "minorgridcolor": "white",
             "startlinecolor": "#2a3f5f"
            },
            "type": "carpet"
           }
          ],
          "choropleth": [
           {
            "colorbar": {
             "outlinewidth": 0,
             "ticks": ""
            },
            "type": "choropleth"
           }
          ],
          "contour": [
           {
            "colorbar": {
             "outlinewidth": 0,
             "ticks": ""
            },
            "colorscale": [
             [
              0,
              "#0d0887"
             ],
             [
              0.1111111111111111,
              "#46039f"
             ],
             [
              0.2222222222222222,
              "#7201a8"
             ],
             [
              0.3333333333333333,
              "#9c179e"
             ],
             [
              0.4444444444444444,
              "#bd3786"
             ],
             [
              0.5555555555555556,
              "#d8576b"
             ],
             [
              0.6666666666666666,
              "#ed7953"
             ],
             [
              0.7777777777777778,
              "#fb9f3a"
             ],
             [
              0.8888888888888888,
              "#fdca26"
             ],
             [
              1,
              "#f0f921"
             ]
            ],
            "type": "contour"
           }
          ],
          "contourcarpet": [
           {
            "colorbar": {
             "outlinewidth": 0,
             "ticks": ""
            },
            "type": "contourcarpet"
           }
          ],
          "heatmap": [
           {
            "colorbar": {
             "outlinewidth": 0,
             "ticks": ""
            },
            "colorscale": [
             [
              0,
              "#0d0887"
             ],
             [
              0.1111111111111111,
              "#46039f"
             ],
             [
              0.2222222222222222,
              "#7201a8"
             ],
             [
              0.3333333333333333,
              "#9c179e"
             ],
             [
              0.4444444444444444,
              "#bd3786"
             ],
             [
              0.5555555555555556,
              "#d8576b"
             ],
             [
              0.6666666666666666,
              "#ed7953"
             ],
             [
              0.7777777777777778,
              "#fb9f3a"
             ],
             [
              0.8888888888888888,
              "#fdca26"
             ],
             [
              1,
              "#f0f921"
             ]
            ],
            "type": "heatmap"
           }
          ],
          "heatmapgl": [
           {
            "colorbar": {
             "outlinewidth": 0,
             "ticks": ""
            },
            "colorscale": [
             [
              0,
              "#0d0887"
             ],
             [
              0.1111111111111111,
              "#46039f"
             ],
             [
              0.2222222222222222,
              "#7201a8"
             ],
             [
              0.3333333333333333,
              "#9c179e"
             ],
             [
              0.4444444444444444,
              "#bd3786"
             ],
             [
              0.5555555555555556,
              "#d8576b"
             ],
             [
              0.6666666666666666,
              "#ed7953"
             ],
             [
              0.7777777777777778,
              "#fb9f3a"
             ],
             [
              0.8888888888888888,
              "#fdca26"
             ],
             [
              1,
              "#f0f921"
             ]
            ],
            "type": "heatmapgl"
           }
          ],
          "histogram": [
           {
            "marker": {
             "pattern": {
              "fillmode": "overlay",
              "size": 10,
              "solidity": 0.2
             }
            },
            "type": "histogram"
           }
          ],
          "histogram2d": [
           {
            "colorbar": {
             "outlinewidth": 0,
             "ticks": ""
            },
            "colorscale": [
             [
              0,
              "#0d0887"
             ],
             [
              0.1111111111111111,
              "#46039f"
             ],
             [
              0.2222222222222222,
              "#7201a8"
             ],
             [
              0.3333333333333333,
              "#9c179e"
             ],
             [
              0.4444444444444444,
              "#bd3786"
             ],
             [
              0.5555555555555556,
              "#d8576b"
             ],
             [
              0.6666666666666666,
              "#ed7953"
             ],
             [
              0.7777777777777778,
              "#fb9f3a"
             ],
             [
              0.8888888888888888,
              "#fdca26"
             ],
             [
              1,
              "#f0f921"
             ]
            ],
            "type": "histogram2d"
           }
          ],
          "histogram2dcontour": [
           {
            "colorbar": {
             "outlinewidth": 0,
             "ticks": ""
            },
            "colorscale": [
             [
              0,
              "#0d0887"
             ],
             [
              0.1111111111111111,
              "#46039f"
             ],
             [
              0.2222222222222222,
              "#7201a8"
             ],
             [
              0.3333333333333333,
              "#9c179e"
             ],
             [
              0.4444444444444444,
              "#bd3786"
             ],
             [
              0.5555555555555556,
              "#d8576b"
             ],
             [
              0.6666666666666666,
              "#ed7953"
             ],
             [
              0.7777777777777778,
              "#fb9f3a"
             ],
             [
              0.8888888888888888,
              "#fdca26"
             ],
             [
              1,
              "#f0f921"
             ]
            ],
            "type": "histogram2dcontour"
           }
          ],
          "mesh3d": [
           {
            "colorbar": {
             "outlinewidth": 0,
             "ticks": ""
            },
            "type": "mesh3d"
           }
          ],
          "parcoords": [
           {
            "line": {
             "colorbar": {
              "outlinewidth": 0,
              "ticks": ""
             }
            },
            "type": "parcoords"
           }
          ],
          "pie": [
           {
            "automargin": true,
            "type": "pie"
           }
          ],
          "scatter": [
           {
            "marker": {
             "colorbar": {
              "outlinewidth": 0,
              "ticks": ""
             }
            },
            "type": "scatter"
           }
          ],
          "scatter3d": [
           {
            "line": {
             "colorbar": {
              "outlinewidth": 0,
              "ticks": ""
             }
            },
            "marker": {
             "colorbar": {
              "outlinewidth": 0,
              "ticks": ""
             }
            },
            "type": "scatter3d"
           }
          ],
          "scattercarpet": [
           {
            "marker": {
             "colorbar": {
              "outlinewidth": 0,
              "ticks": ""
             }
            },
            "type": "scattercarpet"
           }
          ],
          "scattergeo": [
           {
            "marker": {
             "colorbar": {
              "outlinewidth": 0,
              "ticks": ""
             }
            },
            "type": "scattergeo"
           }
          ],
          "scattergl": [
           {
            "marker": {
             "colorbar": {
              "outlinewidth": 0,
              "ticks": ""
             }
            },
            "type": "scattergl"
           }
          ],
          "scattermapbox": [
           {
            "marker": {
             "colorbar": {
              "outlinewidth": 0,
              "ticks": ""
             }
            },
            "type": "scattermapbox"
           }
          ],
          "scatterpolar": [
           {
            "marker": {
             "colorbar": {
              "outlinewidth": 0,
              "ticks": ""
             }
            },
            "type": "scatterpolar"
           }
          ],
          "scatterpolargl": [
           {
            "marker": {
             "colorbar": {
              "outlinewidth": 0,
              "ticks": ""
             }
            },
            "type": "scatterpolargl"
           }
          ],
          "scatterternary": [
           {
            "marker": {
             "colorbar": {
              "outlinewidth": 0,
              "ticks": ""
             }
            },
            "type": "scatterternary"
           }
          ],
          "surface": [
           {
            "colorbar": {
             "outlinewidth": 0,
             "ticks": ""
            },
            "colorscale": [
             [
              0,
              "#0d0887"
             ],
             [
              0.1111111111111111,
              "#46039f"
             ],
             [
              0.2222222222222222,
              "#7201a8"
             ],
             [
              0.3333333333333333,
              "#9c179e"
             ],
             [
              0.4444444444444444,
              "#bd3786"
             ],
             [
              0.5555555555555556,
              "#d8576b"
             ],
             [
              0.6666666666666666,
              "#ed7953"
             ],
             [
              0.7777777777777778,
              "#fb9f3a"
             ],
             [
              0.8888888888888888,
              "#fdca26"
             ],
             [
              1,
              "#f0f921"
             ]
            ],
            "type": "surface"
           }
          ],
          "table": [
           {
            "cells": {
             "fill": {
              "color": "#EBF0F8"
             },
             "line": {
              "color": "white"
             }
            },
            "header": {
             "fill": {
              "color": "#C8D4E3"
             },
             "line": {
              "color": "white"
             }
            },
            "type": "table"
           }
          ]
         },
         "layout": {
          "annotationdefaults": {
           "arrowcolor": "#2a3f5f",
           "arrowhead": 0,
           "arrowwidth": 1
          },
          "autotypenumbers": "strict",
          "coloraxis": {
           "colorbar": {
            "outlinewidth": 0,
            "ticks": ""
           }
          },
          "colorscale": {
           "diverging": [
            [
             0,
             "#8e0152"
            ],
            [
             0.1,
             "#c51b7d"
            ],
            [
             0.2,
             "#de77ae"
            ],
            [
             0.3,
             "#f1b6da"
            ],
            [
             0.4,
             "#fde0ef"
            ],
            [
             0.5,
             "#f7f7f7"
            ],
            [
             0.6,
             "#e6f5d0"
            ],
            [
             0.7,
             "#b8e186"
            ],
            [
             0.8,
             "#7fbc41"
            ],
            [
             0.9,
             "#4d9221"
            ],
            [
             1,
             "#276419"
            ]
           ],
           "sequential": [
            [
             0,
             "#0d0887"
            ],
            [
             0.1111111111111111,
             "#46039f"
            ],
            [
             0.2222222222222222,
             "#7201a8"
            ],
            [
             0.3333333333333333,
             "#9c179e"
            ],
            [
             0.4444444444444444,
             "#bd3786"
            ],
            [
             0.5555555555555556,
             "#d8576b"
            ],
            [
             0.6666666666666666,
             "#ed7953"
            ],
            [
             0.7777777777777778,
             "#fb9f3a"
            ],
            [
             0.8888888888888888,
             "#fdca26"
            ],
            [
             1,
             "#f0f921"
            ]
           ],
           "sequentialminus": [
            [
             0,
             "#0d0887"
            ],
            [
             0.1111111111111111,
             "#46039f"
            ],
            [
             0.2222222222222222,
             "#7201a8"
            ],
            [
             0.3333333333333333,
             "#9c179e"
            ],
            [
             0.4444444444444444,
             "#bd3786"
            ],
            [
             0.5555555555555556,
             "#d8576b"
            ],
            [
             0.6666666666666666,
             "#ed7953"
            ],
            [
             0.7777777777777778,
             "#fb9f3a"
            ],
            [
             0.8888888888888888,
             "#fdca26"
            ],
            [
             1,
             "#f0f921"
            ]
           ]
          },
          "colorway": [
           "#636efa",
           "#EF553B",
           "#00cc96",
           "#ab63fa",
           "#FFA15A",
           "#19d3f3",
           "#FF6692",
           "#B6E880",
           "#FF97FF",
           "#FECB52"
          ],
          "font": {
           "color": "#2a3f5f"
          },
          "geo": {
           "bgcolor": "white",
           "lakecolor": "white",
           "landcolor": "#E5ECF6",
           "showlakes": true,
           "showland": true,
           "subunitcolor": "white"
          },
          "hoverlabel": {
           "align": "left"
          },
          "hovermode": "closest",
          "mapbox": {
           "style": "light"
          },
          "paper_bgcolor": "white",
          "plot_bgcolor": "#E5ECF6",
          "polar": {
           "angularaxis": {
            "gridcolor": "white",
            "linecolor": "white",
            "ticks": ""
           },
           "bgcolor": "#E5ECF6",
           "radialaxis": {
            "gridcolor": "white",
            "linecolor": "white",
            "ticks": ""
           }
          },
          "scene": {
           "xaxis": {
            "backgroundcolor": "#E5ECF6",
            "gridcolor": "white",
            "gridwidth": 2,
            "linecolor": "white",
            "showbackground": true,
            "ticks": "",
            "zerolinecolor": "white"
           },
           "yaxis": {
            "backgroundcolor": "#E5ECF6",
            "gridcolor": "white",
            "gridwidth": 2,
            "linecolor": "white",
            "showbackground": true,
            "ticks": "",
            "zerolinecolor": "white"
           },
           "zaxis": {
            "backgroundcolor": "#E5ECF6",
            "gridcolor": "white",
            "gridwidth": 2,
            "linecolor": "white",
            "showbackground": true,
            "ticks": "",
            "zerolinecolor": "white"
           }
          },
          "shapedefaults": {
           "line": {
            "color": "#2a3f5f"
           }
          },
          "ternary": {
           "aaxis": {
            "gridcolor": "white",
            "linecolor": "white",
            "ticks": ""
           },
           "baxis": {
            "gridcolor": "white",
            "linecolor": "white",
            "ticks": ""
           },
           "bgcolor": "#E5ECF6",
           "caxis": {
            "gridcolor": "white",
            "linecolor": "white",
            "ticks": ""
           }
          },
          "title": {
           "x": 0.05
          },
          "xaxis": {
           "automargin": true,
           "gridcolor": "white",
           "linecolor": "white",
           "ticks": "",
           "title": {
            "standoff": 15
           },
           "zerolinecolor": "white",
           "zerolinewidth": 2
          },
          "yaxis": {
           "automargin": true,
           "gridcolor": "white",
           "linecolor": "white",
           "ticks": "",
           "title": {
            "standoff": 15
           },
           "zerolinecolor": "white",
           "zerolinewidth": 2
          }
         }
        },
        "title": {
         "text": "Optimization History Plot"
        },
        "xaxis": {
         "autorange": true,
         "range": [
          -2.6526796230859833,
          45.65267962308598
         ],
         "title": {
          "text": "#Trials"
         },
         "type": "linear"
        },
        "yaxis": {
         "autorange": true,
         "range": [
          0.11705380582622696,
          0.13647976971329276
         ],
         "title": {
          "text": "Objective Value"
         },
         "type": "linear"
        }
       }
      },
      "image/png": "[encoded data removed]"
     },
     "metadata": {},
     "output_type": "display_data"
    }
   ],
   "source": [
    "plot_optimization_history(study)"
   ]
  },
  {
   "cell_type": "code",
   "execution_count": 14,
   "id": "03d28ef6-ce9e-4264-9b7b-d85991ad10a9",
   "metadata": {},
   "outputs": [
    {
     "data": {
      "application/vnd.plotly.v1+json": {
       "config": {
        "plotlyServerURL": "https://plot.ly"
       },
       "data": [
        {
         "cliponaxis": false,
         "hovertemplate": [
          "lambda_l2 (LogUniformDistribution): 0.0003289766338844118<extra></extra>",
          "lambda_l1 (LogUniformDistribution): 0.0009759162202709759<extra></extra>",
          "bagging_fraction (DiscreteUniformDistribution): 0.0009831679983730445<extra></extra>",
          "min_data_in_leaf (IntUniformDistribution): 0.0035700770173917357<extra></extra>",
          "drop_rate (DiscreteUniformDistribution): 0.010695966799870912<extra></extra>",
          "max_drop (IntUniformDistribution): 0.03331309695294688<extra></extra>",
          "path_smooth (UniformDistribution): 0.037150729991357746<extra></extra>",
          "num_iterations (IntUniformDistribution): 0.04095331515101523<extra></extra>",
          "feature_fraction (DiscreteUniformDistribution): 0.11446879803766032<extra></extra>",
          "skip_drop (DiscreteUniformDistribution): 0.7575599551972287<extra></extra>"
         ],
         "marker": {
          "color": "rgb(66,146,198)"
         },
         "orientation": "h",
         "text": [
          "0.0003289766338844118",
          "0.0009759162202709759",
          "0.0009831679983730445",
          "0.0035700770173917357",
          "0.010695966799870912",
          "0.03331309695294688",
          "0.037150729991357746",
          "0.04095331515101523",
          "0.11446879803766032",
          "0.7575599551972287"
         ],
         "textposition": "outside",
         "texttemplate": "%{text:.2f}",
         "type": "bar",
         "x": [
          0.0003289766338844118,
          0.0009759162202709759,
          0.0009831679983730445,
          0.0035700770173917357,
          0.010695966799870912,
          0.03331309695294688,
          0.037150729991357746,
          0.04095331515101523,
          0.11446879803766032,
          0.7575599551972287
         ],
         "y": [
          "lambda_l2",
          "lambda_l1",
          "bagging_fraction",
          "min_data_in_leaf",
          "drop_rate",
          "max_drop",
          "path_smooth",
          "num_iterations",
          "feature_fraction",
          "skip_drop"
         ]
        }
       ],
       "layout": {
        "autosize": true,
        "showlegend": false,
        "template": {
         "data": {
          "bar": [
           {
            "error_x": {
             "color": "#2a3f5f"
            },
            "error_y": {
             "color": "#2a3f5f"
            },
            "marker": {
             "line": {
              "color": "#E5ECF6",
              "width": 0.5
             },
             "pattern": {
              "fillmode": "overlay",
              "size": 10,
              "solidity": 0.2
             }
            },
            "type": "bar"
           }
          ],
          "barpolar": [
           {
            "marker": {
             "line": {
              "color": "#E5ECF6",
              "width": 0.5
             },
             "pattern": {
              "fillmode": "overlay",
              "size": 10,
              "solidity": 0.2
             }
            },
            "type": "barpolar"
           }
          ],
          "carpet": [
           {
            "aaxis": {
             "endlinecolor": "#2a3f5f",
             "gridcolor": "white",
             "linecolor": "white",
             "minorgridcolor": "white",
             "startlinecolor": "#2a3f5f"
            },
            "baxis": {
             "endlinecolor": "#2a3f5f",
             "gridcolor": "white",
             "linecolor": "white",
             "minorgridcolor": "white",
             "startlinecolor": "#2a3f5f"
            },
            "type": "carpet"
           }
          ],
          "choropleth": [
           {
            "colorbar": {
             "outlinewidth": 0,
             "ticks": ""
            },
            "type": "choropleth"
           }
          ],
          "contour": [
           {
            "colorbar": {
             "outlinewidth": 0,
             "ticks": ""
            },
            "colorscale": [
             [
              0,
              "#0d0887"
             ],
             [
              0.1111111111111111,
              "#46039f"
             ],
             [
              0.2222222222222222,
              "#7201a8"
             ],
             [
              0.3333333333333333,
              "#9c179e"
             ],
             [
              0.4444444444444444,
              "#bd3786"
             ],
             [
              0.5555555555555556,
              "#d8576b"
             ],
             [
              0.6666666666666666,
              "#ed7953"
             ],
             [
              0.7777777777777778,
              "#fb9f3a"
             ],
             [
              0.8888888888888888,
              "#fdca26"
             ],
             [
              1,
              "#f0f921"
             ]
            ],
            "type": "contour"
           }
          ],
          "contourcarpet": [
           {
            "colorbar": {
             "outlinewidth": 0,
             "ticks": ""
            },
            "type": "contourcarpet"
           }
          ],
          "heatmap": [
           {
            "colorbar": {
             "outlinewidth": 0,
             "ticks": ""
            },
            "colorscale": [
             [
              0,
              "#0d0887"
             ],
             [
              0.1111111111111111,
              "#46039f"
             ],
             [
              0.2222222222222222,
              "#7201a8"
             ],
             [
              0.3333333333333333,
              "#9c179e"
             ],
             [
              0.4444444444444444,
              "#bd3786"
             ],
             [
              0.5555555555555556,
              "#d8576b"
             ],
             [
              0.6666666666666666,
              "#ed7953"
             ],
             [
              0.7777777777777778,
              "#fb9f3a"
             ],
             [
              0.8888888888888888,
              "#fdca26"
             ],
             [
              1,
              "#f0f921"
             ]
            ],
            "type": "heatmap"
           }
          ],
          "heatmapgl": [
           {
            "colorbar": {
             "outlinewidth": 0,
             "ticks": ""
            },
            "colorscale": [
             [
              0,
              "#0d0887"
             ],
             [
              0.1111111111111111,
              "#46039f"
             ],
             [
              0.2222222222222222,
              "#7201a8"
             ],
             [
              0.3333333333333333,
              "#9c179e"
             ],
             [
              0.4444444444444444,
              "#bd3786"
             ],
             [
              0.5555555555555556,
              "#d8576b"
             ],
             [
              0.6666666666666666,
              "#ed7953"
             ],
             [
              0.7777777777777778,
              "#fb9f3a"
             ],
             [
              0.8888888888888888,
              "#fdca26"
             ],
             [
              1,
              "#f0f921"
             ]
            ],
            "type": "heatmapgl"
           }
          ],
          "histogram": [
           {
            "marker": {
             "pattern": {
              "fillmode": "overlay",
              "size": 10,
              "solidity": 0.2
             }
            },
            "type": "histogram"
           }
          ],
          "histogram2d": [
           {
            "colorbar": {
             "outlinewidth": 0,
             "ticks": ""
            },
            "colorscale": [
             [
              0,
              "#0d0887"
             ],
             [
              0.1111111111111111,
              "#46039f"
             ],
             [
              0.2222222222222222,
              "#7201a8"
             ],
             [
              0.3333333333333333,
              "#9c179e"
             ],
             [
              0.4444444444444444,
              "#bd3786"
             ],
             [
              0.5555555555555556,
              "#d8576b"
             ],
             [
              0.6666666666666666,
              "#ed7953"
             ],
             [
              0.7777777777777778,
              "#fb9f3a"
             ],
             [
              0.8888888888888888,
              "#fdca26"
             ],
             [
              1,
              "#f0f921"
             ]
            ],
            "type": "histogram2d"
           }
          ],
          "histogram2dcontour": [
           {
            "colorbar": {
             "outlinewidth": 0,
             "ticks": ""
            },
            "colorscale": [
             [
              0,
              "#0d0887"
             ],
             [
              0.1111111111111111,
              "#46039f"
             ],
             [
              0.2222222222222222,
              "#7201a8"
             ],
             [
              0.3333333333333333,
              "#9c179e"
             ],
             [
              0.4444444444444444,
              "#bd3786"
             ],
             [
              0.5555555555555556,
              "#d8576b"
             ],
             [
              0.6666666666666666,
              "#ed7953"
             ],
             [
              0.7777777777777778,
              "#fb9f3a"
             ],
             [
              0.8888888888888888,
              "#fdca26"
             ],
             [
              1,
              "#f0f921"
             ]
            ],
            "type": "histogram2dcontour"
           }
          ],
          "mesh3d": [
           {
            "colorbar": {
             "outlinewidth": 0,
             "ticks": ""
            },
            "type": "mesh3d"
           }
          ],
          "parcoords": [
           {
            "line": {
             "colorbar": {
              "outlinewidth": 0,
              "ticks": ""
             }
            },
            "type": "parcoords"
           }
          ],
          "pie": [
           {
            "automargin": true,
            "type": "pie"
           }
          ],
          "scatter": [
           {
            "marker": {
             "colorbar": {
              "outlinewidth": 0,
              "ticks": ""
             }
            },
            "type": "scatter"
           }
          ],
          "scatter3d": [
           {
            "line": {
             "colorbar": {
              "outlinewidth": 0,
              "ticks": ""
             }
            },
            "marker": {
             "colorbar": {
              "outlinewidth": 0,
              "ticks": ""
             }
            },
            "type": "scatter3d"
           }
          ],
          "scattercarpet": [
           {
            "marker": {
             "colorbar": {
              "outlinewidth": 0,
              "ticks": ""
             }
            },
            "type": "scattercarpet"
           }
          ],
          "scattergeo": [
           {
            "marker": {
             "colorbar": {
              "outlinewidth": 0,
              "ticks": ""
             }
            },
            "type": "scattergeo"
           }
          ],
          "scattergl": [
           {
            "marker": {
             "colorbar": {
              "outlinewidth": 0,
              "ticks": ""
             }
            },
            "type": "scattergl"
           }
          ],
          "scattermapbox": [
           {
            "marker": {
             "colorbar": {
              "outlinewidth": 0,
              "ticks": ""
             }
            },
            "type": "scattermapbox"
           }
          ],
          "scatterpolar": [
           {
            "marker": {
             "colorbar": {
              "outlinewidth": 0,
              "ticks": ""
             }
            },
            "type": "scatterpolar"
           }
          ],
          "scatterpolargl": [
           {
            "marker": {
             "colorbar": {
              "outlinewidth": 0,
              "ticks": ""
             }
            },
            "type": "scatterpolargl"
           }
          ],
          "scatterternary": [
           {
            "marker": {
             "colorbar": {
              "outlinewidth": 0,
              "ticks": ""
             }
            },
            "type": "scatterternary"
           }
          ],
          "surface": [
           {
            "colorbar": {
             "outlinewidth": 0,
             "ticks": ""
            },
            "colorscale": [
             [
              0,
              "#0d0887"
             ],
             [
              0.1111111111111111,
              "#46039f"
             ],
             [
              0.2222222222222222,
              "#7201a8"
             ],
             [
              0.3333333333333333,
              "#9c179e"
             ],
             [
              0.4444444444444444,
              "#bd3786"
             ],
             [
              0.5555555555555556,
              "#d8576b"
             ],
             [
              0.6666666666666666,
              "#ed7953"
             ],
             [
              0.7777777777777778,
              "#fb9f3a"
             ],
             [
              0.8888888888888888,
              "#fdca26"
             ],
             [
              1,
              "#f0f921"
             ]
            ],
            "type": "surface"
           }
          ],
          "table": [
           {
            "cells": {
             "fill": {
              "color": "#EBF0F8"
             },
             "line": {
              "color": "white"
             }
            },
            "header": {
             "fill": {
              "color": "#C8D4E3"
             },
             "line": {
              "color": "white"
             }
            },
            "type": "table"
           }
          ]
         },
         "layout": {
          "annotationdefaults": {
           "arrowcolor": "#2a3f5f",
           "arrowhead": 0,
           "arrowwidth": 1
          },
          "autotypenumbers": "strict",
          "coloraxis": {
           "colorbar": {
            "outlinewidth": 0,
            "ticks": ""
           }
          },
          "colorscale": {
           "diverging": [
            [
             0,
             "#8e0152"
            ],
            [
             0.1,
             "#c51b7d"
            ],
            [
             0.2,
             "#de77ae"
            ],
            [
             0.3,
             "#f1b6da"
            ],
            [
             0.4,
             "#fde0ef"
            ],
            [
             0.5,
             "#f7f7f7"
            ],
            [
             0.6,
             "#e6f5d0"
            ],
            [
             0.7,
             "#b8e186"
            ],
            [
             0.8,
             "#7fbc41"
            ],
            [
             0.9,
             "#4d9221"
            ],
            [
             1,
             "#276419"
            ]
           ],
           "sequential": [
            [
             0,
             "#0d0887"
            ],
            [
             0.1111111111111111,
             "#46039f"
            ],
            [
             0.2222222222222222,
             "#7201a8"
            ],
            [
             0.3333333333333333,
             "#9c179e"
            ],
            [
             0.4444444444444444,
             "#bd3786"
            ],
            [
             0.5555555555555556,
             "#d8576b"
            ],
            [
             0.6666666666666666,
             "#ed7953"
            ],
            [
             0.7777777777777778,
             "#fb9f3a"
            ],
            [
             0.8888888888888888,
             "#fdca26"
            ],
            [
             1,
             "#f0f921"
            ]
           ],
           "sequentialminus": [
            [
             0,
             "#0d0887"
            ],
            [
             0.1111111111111111,
             "#46039f"
            ],
            [
             0.2222222222222222,
             "#7201a8"
            ],
            [
             0.3333333333333333,
             "#9c179e"
            ],
            [
             0.4444444444444444,
             "#bd3786"
            ],
            [
             0.5555555555555556,
             "#d8576b"
            ],
            [
             0.6666666666666666,
             "#ed7953"
            ],
            [
             0.7777777777777778,
             "#fb9f3a"
            ],
            [
             0.8888888888888888,
             "#fdca26"
            ],
            [
             1,
             "#f0f921"
            ]
           ]
          },
          "colorway": [
           "#636efa",
           "#EF553B",
           "#00cc96",
           "#ab63fa",
           "#FFA15A",
           "#19d3f3",
           "#FF6692",
           "#B6E880",
           "#FF97FF",
           "#FECB52"
          ],
          "font": {
           "color": "#2a3f5f"
          },
          "geo": {
           "bgcolor": "white",
           "lakecolor": "white",
           "landcolor": "#E5ECF6",
           "showlakes": true,
           "showland": true,
           "subunitcolor": "white"
          },
          "hoverlabel": {
           "align": "left"
          },
          "hovermode": "closest",
          "mapbox": {
           "style": "light"
          },
          "paper_bgcolor": "white",
          "plot_bgcolor": "#E5ECF6",
          "polar": {
           "angularaxis": {
            "gridcolor": "white",
            "linecolor": "white",
            "ticks": ""
           },
           "bgcolor": "#E5ECF6",
           "radialaxis": {
            "gridcolor": "white",
            "linecolor": "white",
            "ticks": ""
           }
          },
          "scene": {
           "xaxis": {
            "backgroundcolor": "#E5ECF6",
            "gridcolor": "white",
            "gridwidth": 2,
            "linecolor": "white",
            "showbackground": true,
            "ticks": "",
            "zerolinecolor": "white"
           },
           "yaxis": {
            "backgroundcolor": "#E5ECF6",
            "gridcolor": "white",
            "gridwidth": 2,
            "linecolor": "white",
            "showbackground": true,
            "ticks": "",
            "zerolinecolor": "white"
           },
           "zaxis": {
            "backgroundcolor": "#E5ECF6",
            "gridcolor": "white",
            "gridwidth": 2,
            "linecolor": "white",
            "showbackground": true,
            "ticks": "",
            "zerolinecolor": "white"
           }
          },
          "shapedefaults": {
           "line": {
            "color": "#2a3f5f"
           }
          },
          "ternary": {
           "aaxis": {
            "gridcolor": "white",
            "linecolor": "white",
            "ticks": ""
           },
           "baxis": {
            "gridcolor": "white",
            "linecolor": "white",
            "ticks": ""
           },
           "bgcolor": "#E5ECF6",
           "caxis": {
            "gridcolor": "white",
            "linecolor": "white",
            "ticks": ""
           }
          },
          "title": {
           "x": 0.05
          },
          "xaxis": {
           "automargin": true,
           "gridcolor": "white",
           "linecolor": "white",
           "ticks": "",
           "title": {
            "standoff": 15
           },
           "zerolinecolor": "white",
           "zerolinewidth": 2
          },
          "yaxis": {
           "automargin": true,
           "gridcolor": "white",
           "linecolor": "white",
           "ticks": "",
           "title": {
            "standoff": 15
           },
           "zerolinecolor": "white",
           "zerolinewidth": 2
          }
         }
        },
        "title": {
         "text": "Hyperparameter Importances"
        },
        "xaxis": {
         "autorange": true,
         "range": [
          0,
          0.7974315317865566
         ],
         "title": {
          "text": "Importance for Objective Value"
         },
         "type": "linear"
        },
        "yaxis": {
         "autorange": true,
         "range": [
          -0.5,
          9.5
         ],
         "title": {
          "text": "Hyperparameter"
         },
         "type": "category"
        }
       }
      },
      "image/png": "[encoded data removed]"
     },
     "metadata": {},
     "output_type": "display_data"
    }
   ],
   "source": [
    "plot_param_importances(study)"
   ]
  },
  {
   "cell_type": "code",
   "execution_count": 15,
   "id": "f29ff4a4-3e2c-4b82-9c15-f67617a76122",
   "metadata": {},
   "outputs": [
    {
     "data": {
      "application/vnd.plotly.v1+json": {
       "config": {
        "plotlyServerURL": "https://plot.ly"
       },
       "data": [
        {
         "marker": {
          "color": [
           0,
           1,
           2,
           3,
           4,
           5,
           6,
           7,
           8,
           9,
           10,
           11,
           12,
           13,
           14,
           15,
           16,
           17,
           18,
           19,
           20,
           21,
           22,
           23,
           24,
           25,
           26,
           27,
           28,
           29,
           30,
           31,
           32,
           33,
           34,
           35,
           36,
           37,
           38,
           39,
           40,
           41,
           42,
           43
          ],
          "colorbar": {
           "title": {
            "text": "#Trials"
           },
           "x": 1,
           "xpad": 40,
           "y": 0.5
          },
          "colorscale": [
           [
            0,
            "rgb(247,251,255)"
           ],
           [
            0.125,
            "rgb(222,235,247)"
           ],
           [
            0.25,
            "rgb(198,219,239)"
           ],
           [
            0.375,
            "rgb(158,202,225)"
           ],
           [
            0.5,
            "rgb(107,174,214)"
           ],
           [
            0.625,
            "rgb(66,146,198)"
           ],
           [
            0.75,
            "rgb(33,113,181)"
           ],
           [
            0.875,
            "rgb(8,81,156)"
           ],
           [
            1,
            "rgb(8,48,107)"
           ]
          ],
          "line": {
           "color": "Grey",
           "width": 0.5
          },
          "showscale": true
         },
         "mode": "markers",
         "showlegend": false,
         "type": "scatter",
         "x": [
          0.9500000000000001,
          0.9500000000000001,
          0.8,
          1,
          0.8500000000000001,
          1,
          1,
          0.8,
          0.9,
          0.8,
          0.9500000000000001,
          0.9500000000000001,
          1,
          0.9,
          0.9500000000000001,
          1,
          0.9500000000000001,
          0.9,
          0.8500000000000001,
          1,
          0.9500000000000001,
          0.9,
          0.8500000000000001,
          0.9,
          0.9500000000000001,
          1,
          0.9,
          0.8500000000000001,
          0.9500000000000001,
          0.9500000000000001,
          1,
          0.9,
          0.9,
          0.9,
          0.8500000000000001,
          0.9,
          0.8500000000000001,
          0.8500000000000001,
          0.8500000000000001,
          0.8,
          0.8500000000000001,
          0.8500000000000001,
          0.8500000000000001,
          0.8
         ],
         "xaxis": "x",
         "y": [
          0.13183145594938714,
          0.1337759328680827,
          0.13352875898064875,
          0.13270900220738094,
          0.13042752558201606,
          0.11842981160156078,
          0.13406732991657636,
          0.13271920674698917,
          0.1337364020470085,
          0.13170139995617466,
          0.12163927786614784,
          0.1314041744410869,
          0.133085960209707,
          0.13360651892368258,
          0.13156260666449654,
          0.13312021071685098,
          0.13114409933499807,
          0.13099629934881651,
          0.1329412322305197,
          0.1331467796616585,
          0.13260720140844995,
          0.13347403469801916,
          0.1328551957893863,
          0.13225954852089938,
          0.1279890582550186,
          0.13287822375690217,
          0.1333668927187985,
          0.13200121699838335,
          0.12992069504071863,
          0.13089671133698497,
          0.13317913722034344,
          0.13407535319975797,
          0.1350101600631489,
          0.13365065260026193,
          0.1334218166636359,
          0.13510376393795892,
          0.13408015862069386,
          0.1345538486348868,
          0.13366690714845642,
          0.13315119383169857,
          0.13405448571078488,
          0.1341246100551234,
          0.13419319293496254,
          0.1317274780105789
         ],
         "yaxis": "y"
        },
        {
         "marker": {
          "color": [
           0,
           1,
           2,
           3,
           4,
           5,
           6,
           7,
           8,
           9,
           10,
           11,
           12,
           13,
           14,
           15,
           16,
           17,
           18,
           19,
           20,
           21,
           22,
           23,
           24,
           25,
           26,
           27,
           28,
           29,
           30,
           31,
           32,
           33,
           34,
           35,
           36,
           37,
           38,
           39,
           40,
           41,
           42,
           43
          ],
          "colorbar": {
           "title": {
            "text": "#Trials"
           },
           "x": 1,
           "xpad": 40
          },
          "colorscale": [
           [
            0,
            "rgb(247,251,255)"
           ],
           [
            0.125,
            "rgb(222,235,247)"
           ],
           [
            0.25,
            "rgb(198,219,239)"
           ],
           [
            0.375,
            "rgb(158,202,225)"
           ],
           [
            0.5,
            "rgb(107,174,214)"
           ],
           [
            0.625,
            "rgb(66,146,198)"
           ],
           [
            0.75,
            "rgb(33,113,181)"
           ],
           [
            0.875,
            "rgb(8,81,156)"
           ],
           [
            1,
            "rgb(8,48,107)"
           ]
          ],
          "line": {
           "color": "Grey",
           "width": 0.5
          },
          "showscale": false
         },
         "mode": "markers",
         "showlegend": false,
         "type": "scatter",
         "x": [
          0.13,
          0.09,
          0.08,
          0.09,
          0.2,
          0.08,
          0.19,
          0.14,
          0.18,
          0.14,
          0.16999999999999998,
          0.05,
          0.11,
          0.05,
          0.11,
          0.16999999999999998,
          0.2,
          0.15000000000000002,
          0.11,
          0.07,
          0.1,
          0.18,
          0.18,
          0.16,
          0.19,
          0.16,
          0.19,
          0.12000000000000001,
          0.07,
          0.13,
          0.19,
          0.05,
          0.060000000000000005,
          0.060000000000000005,
          0.060000000000000005,
          0.09,
          0.09,
          0.09,
          0.09,
          0.08,
          0.09,
          0.07,
          0.07,
          0.07
         ],
         "xaxis": "x2",
         "y": [
          0.13183145594938714,
          0.1337759328680827,
          0.13352875898064875,
          0.13270900220738094,
          0.13042752558201606,
          0.11842981160156078,
          0.13406732991657636,
          0.13271920674698917,
          0.1337364020470085,
          0.13170139995617466,
          0.12163927786614784,
          0.1314041744410869,
          0.133085960209707,
          0.13360651892368258,
          0.13156260666449654,
          0.13312021071685098,
          0.13114409933499807,
          0.13099629934881651,
          0.1329412322305197,
          0.1331467796616585,
          0.13260720140844995,
          0.13347403469801916,
          0.1328551957893863,
          0.13225954852089938,
          0.1279890582550186,
          0.13287822375690217,
          0.1333668927187985,
          0.13200121699838335,
          0.12992069504071863,
          0.13089671133698497,
          0.13317913722034344,
          0.13407535319975797,
          0.1350101600631489,
          0.13365065260026193,
          0.1334218166636359,
          0.13510376393795892,
          0.13408015862069386,
          0.1345538486348868,
          0.13366690714845642,
          0.13315119383169857,
          0.13405448571078488,
          0.1341246100551234,
          0.13419319293496254,
          0.1317274780105789
         ],
         "yaxis": "y2"
        },
        {
         "marker": {
          "color": [
           0,
           1,
           2,
           3,
           4,
           5,
           6,
           7,
           8,
           9,
           10,
           11,
           12,
           13,
           14,
           15,
           16,
           17,
           18,
           19,
           20,
           21,
           22,
           23,
           24,
           25,
           26,
           27,
           28,
           29,
           30,
           31,
           32,
           33,
           34,
           35,
           36,
           37,
           38,
           39,
           40,
           41,
           42,
           43
          ],
          "colorbar": {
           "title": {
            "text": "#Trials"
           },
           "x": 1,
           "xpad": 40
          },
          "colorscale": [
           [
            0,
            "rgb(247,251,255)"
           ],
           [
            0.125,
            "rgb(222,235,247)"
           ],
           [
            0.25,
            "rgb(198,219,239)"
           ],
           [
            0.375,
            "rgb(158,202,225)"
           ],
           [
            0.5,
            "rgb(107,174,214)"
           ],
           [
            0.625,
            "rgb(66,146,198)"
           ],
           [
            0.75,
            "rgb(33,113,181)"
           ],
           [
            0.875,
            "rgb(8,81,156)"
           ],
           [
            1,
            "rgb(8,48,107)"
           ]
          ],
          "line": {
           "color": "Grey",
           "width": 0.5
          },
          "showscale": false
         },
         "mode": "markers",
         "showlegend": false,
         "type": "scatter",
         "x": [
          0.1,
          0.15000000000000002,
          0.35,
          0.2,
          0.45000000000000007,
          0.35,
          0.15000000000000002,
          0.25,
          0.15000000000000002,
          0.30000000000000004,
          0.5,
          0.1,
          0.2,
          0.2,
          0.1,
          0.15000000000000002,
          0.25,
          0.15000000000000002,
          0.30000000000000004,
          0.4,
          0.25,
          0.15000000000000002,
          0.15000000000000002,
          0.2,
          0.1,
          0.15000000000000002,
          0.25,
          0.2,
          0.1,
          0.1,
          0.15000000000000002,
          0.2,
          0.2,
          0.2,
          0.25,
          0.35,
          0.35,
          0.35,
          0.35,
          0.4,
          0.35,
          0.4,
          0.4,
          0.4
         ],
         "xaxis": "x3",
         "y": [
          0.13183145594938714,
          0.1337759328680827,
          0.13352875898064875,
          0.13270900220738094,
          0.13042752558201606,
          0.11842981160156078,
          0.13406732991657636,
          0.13271920674698917,
          0.1337364020470085,
          0.13170139995617466,
          0.12163927786614784,
          0.1314041744410869,
          0.133085960209707,
          0.13360651892368258,
          0.13156260666449654,
          0.13312021071685098,
          0.13114409933499807,
          0.13099629934881651,
          0.1329412322305197,
          0.1331467796616585,
          0.13260720140844995,
          0.13347403469801916,
          0.1328551957893863,
          0.13225954852089938,
          0.1279890582550186,
          0.13287822375690217,
          0.1333668927187985,
          0.13200121699838335,
          0.12992069504071863,
          0.13089671133698497,
          0.13317913722034344,
          0.13407535319975797,
          0.1350101600631489,
          0.13365065260026193,
          0.1334218166636359,
          0.13510376393795892,
          0.13408015862069386,
          0.1345538486348868,
          0.13366690714845642,
          0.13315119383169857,
          0.13405448571078488,
          0.1341246100551234,
          0.13419319293496254,
          0.1317274780105789
         ],
         "yaxis": "y3"
        },
        {
         "marker": {
          "color": [
           0,
           1,
           2,
           3,
           4,
           5,
           6,
           7,
           8,
           9,
           10,
           11,
           12,
           13,
           14,
           15,
           16,
           17,
           18,
           19,
           20,
           21,
           22,
           23,
           24,
           25,
           26,
           27,
           28,
           29,
           30,
           31,
           32,
           33,
           34,
           35,
           36,
           37,
           38,
           39,
           40,
           41,
           42,
           43
          ],
          "colorbar": {
           "title": {
            "text": "#Trials"
           },
           "x": 1,
           "xpad": 40
          },
          "colorscale": [
           [
            0,
            "rgb(247,251,255)"
           ],
           [
            0.125,
            "rgb(222,235,247)"
           ],
           [
            0.25,
            "rgb(198,219,239)"
           ],
           [
            0.375,
            "rgb(158,202,225)"
           ],
           [
            0.5,
            "rgb(107,174,214)"
           ],
           [
            0.625,
            "rgb(66,146,198)"
           ],
           [
            0.75,
            "rgb(33,113,181)"
           ],
           [
            0.875,
            "rgb(8,81,156)"
           ],
           [
            1,
            "rgb(8,48,107)"
           ]
          ],
          "line": {
           "color": "Grey",
           "width": 0.5
          },
          "showscale": false
         },
         "mode": "markers",
         "showlegend": false,
         "type": "scatter",
         "x": [
          0.045236565966624925,
          1.1216251650614735,
          0.004508485382951965,
          9.659683412831777,
          5.746525388331852,
          0.01696939680737148,
          0.10395870000851061,
          0.027699228058537615,
          0.005178639606564016,
          0.0011490506327015621,
          0.8892326601771912,
          0.3290849278314408,
          0.3188048521709871,
          1.492276798729199,
          0.1356276864964163,
          1.5914260311541717,
          0.1236692162273076,
          3.211923250868772,
          0.5087359525727603,
          0.05784527398100071,
          0.2098811076392287,
          0.005804367641379062,
          0.010997261198027932,
          0.0011484488407451552,
          0.0038218800304423467,
          0.06000142756774901,
          0.9093089008146331,
          0.009374323909621276,
          0.030795816694393605,
          0.0023042110444496727,
          0.07387901519743152,
          2.4218604953788625,
          3.233070675203949,
          3.720199000612641,
          8.952971344031965,
          1.1127423904283282,
          2.767041764103277,
          2.521981914596633,
          6.141361166746721,
          2.139916316663558,
          5.003803369006516,
          2.650938761425155,
          0.5081523094868864,
          0.613836420082576
         ],
         "xaxis": "x4",
         "y": [
          0.13183145594938714,
          0.1337759328680827,
          0.13352875898064875,
          0.13270900220738094,
          0.13042752558201606,
          0.11842981160156078,
          0.13406732991657636,
          0.13271920674698917,
          0.1337364020470085,
          0.13170139995617466,
          0.12163927786614784,
          0.1314041744410869,
          0.133085960209707,
          0.13360651892368258,
          0.13156260666449654,
          0.13312021071685098,
          0.13114409933499807,
          0.13099629934881651,
          0.1329412322305197,
          0.1331467796616585,
          0.13260720140844995,
          0.13347403469801916,
          0.1328551957893863,
          0.13225954852089938,
          0.1279890582550186,
          0.13287822375690217,
          0.1333668927187985,
          0.13200121699838335,
          0.12992069504071863,
          0.13089671133698497,
          0.13317913722034344,
          0.13407535319975797,
          0.1350101600631489,
          0.13365065260026193,
          0.1334218166636359,
          0.13510376393795892,
          0.13408015862069386,
          0.1345538486348868,
          0.13366690714845642,
          0.13315119383169857,
          0.13405448571078488,
          0.1341246100551234,
          0.13419319293496254,
          0.1317274780105789
         ],
         "yaxis": "y4"
        },
        {
         "marker": {
          "color": [
           0,
           1,
           2,
           3,
           4,
           5,
           6,
           7,
           8,
           9,
           10,
           11,
           12,
           13,
           14,
           15,
           16,
           17,
           18,
           19,
           20,
           21,
           22,
           23,
           24,
           25,
           26,
           27,
           28,
           29,
           30,
           31,
           32,
           33,
           34,
           35,
           36,
           37,
           38,
           39,
           40,
           41,
           42,
           43
          ],
          "colorbar": {
           "title": {
            "text": "#Trials"
           },
           "x": 1,
           "xpad": 40
          },
          "colorscale": [
           [
            0,
            "rgb(247,251,255)"
           ],
           [
            0.125,
            "rgb(222,235,247)"
           ],
           [
            0.25,
            "rgb(198,219,239)"
           ],
           [
            0.375,
            "rgb(158,202,225)"
           ],
           [
            0.5,
            "rgb(107,174,214)"
           ],
           [
            0.625,
            "rgb(66,146,198)"
           ],
           [
            0.75,
            "rgb(33,113,181)"
           ],
           [
            0.875,
            "rgb(8,81,156)"
           ],
           [
            1,
            "rgb(8,48,107)"
           ]
          ],
          "line": {
           "color": "Grey",
           "width": 0.5
          },
          "showscale": false
         },
         "mode": "markers",
         "showlegend": false,
         "type": "scatter",
         "x": [
          0.002200517953546267,
          0.002035152274806022,
          3.6606993075850345,
          3.9200951878223793,
          0.11470063366421523,
          0.022916629356413833,
          0.02598358992153549,
          0.1360847997918518,
          0.00981537983555887,
          5.869656961752508,
          0.44821994910375385,
          0.0013471692025232938,
          0.011817836364385256,
          0.004426351755201331,
          0.038689467528358744,
          0.5311804958985342,
          0.004693309225477357,
          0.043289469427338835,
          0.0011984449068350286,
          0.3804265485846346,
          0.004247998801532859,
          0.011297102409625942,
          0.010800635462318135,
          0.025791292262993027,
          0.0034333181624885234,
          0.006599230346302821,
          0.06640957798809985,
          0.016906383939438493,
          0.0021748720414654795,
          0.002158179590460498,
          0.007917186674587191,
          0.002928132408617109,
          0.0024895729832590573,
          0.001051459390172959,
          0.003219195938728873,
          0.0017447397071228327,
          0.0020088958132754918,
          0.00181111519178674,
          0.0015185219478706263,
          1.5249955186984936,
          0.0019474255956304742,
          0.0027793058022900865,
          0.006242852454194214,
          0.006428341281237732
         ],
         "xaxis": "x5",
         "y": [
          0.13183145594938714,
          0.1337759328680827,
          0.13352875898064875,
          0.13270900220738094,
          0.13042752558201606,
          0.11842981160156078,
          0.13406732991657636,
          0.13271920674698917,
          0.1337364020470085,
          0.13170139995617466,
          0.12163927786614784,
          0.1314041744410869,
          0.133085960209707,
          0.13360651892368258,
          0.13156260666449654,
          0.13312021071685098,
          0.13114409933499807,
          0.13099629934881651,
          0.1329412322305197,
          0.1331467796616585,
          0.13260720140844995,
          0.13347403469801916,
          0.1328551957893863,
          0.13225954852089938,
          0.1279890582550186,
          0.13287822375690217,
          0.1333668927187985,
          0.13200121699838335,
          0.12992069504071863,
          0.13089671133698497,
          0.13317913722034344,
          0.13407535319975797,
          0.1350101600631489,
          0.13365065260026193,
          0.1334218166636359,
          0.13510376393795892,
          0.13408015862069386,
          0.1345538486348868,
          0.13366690714845642,
          0.13315119383169857,
          0.13405448571078488,
          0.1341246100551234,
          0.13419319293496254,
          0.1317274780105789
         ],
         "yaxis": "y5"
        },
        {
         "marker": {
          "color": [
           0,
           1,
           2,
           3,
           4,
           5,
           6,
           7,
           8,
           9,
           10,
           11,
           12,
           13,
           14,
           15,
           16,
           17,
           18,
           19,
           20,
           21,
           22,
           23,
           24,
           25,
           26,
           27,
           28,
           29,
           30,
           31,
           32,
           33,
           34,
           35,
           36,
           37,
           38,
           39,
           40,
           41,
           42,
           43
          ],
          "colorbar": {
           "title": {
            "text": "#Trials"
           },
           "x": 1,
           "xpad": 40
          },
          "colorscale": [
           [
            0,
            "rgb(247,251,255)"
           ],
           [
            0.125,
            "rgb(222,235,247)"
           ],
           [
            0.25,
            "rgb(198,219,239)"
           ],
           [
            0.375,
            "rgb(158,202,225)"
           ],
           [
            0.5,
            "rgb(107,174,214)"
           ],
           [
            0.625,
            "rgb(66,146,198)"
           ],
           [
            0.75,
            "rgb(33,113,181)"
           ],
           [
            0.875,
            "rgb(8,81,156)"
           ],
           [
            1,
            "rgb(8,48,107)"
           ]
          ],
          "line": {
           "color": "Grey",
           "width": 0.5
          },
          "showscale": false
         },
         "mode": "markers",
         "showlegend": false,
         "type": "scatter",
         "x": [
          70,
          20,
          40,
          30,
          70,
          100,
          60,
          50,
          50,
          50,
          100,
          10,
          10,
          70,
          20,
          80,
          30,
          30,
          60,
          90,
          40,
          60,
          40,
          20,
          80,
          50,
          60,
          20,
          80,
          70,
          40,
          70,
          60,
          60,
          70,
          90,
          90,
          90,
          90,
          90,
          100,
          90,
          90,
          100
         ],
         "xaxis": "x6",
         "y": [
          0.13183145594938714,
          0.1337759328680827,
          0.13352875898064875,
          0.13270900220738094,
          0.13042752558201606,
          0.11842981160156078,
          0.13406732991657636,
          0.13271920674698917,
          0.1337364020470085,
          0.13170139995617466,
          0.12163927786614784,
          0.1314041744410869,
          0.133085960209707,
          0.13360651892368258,
          0.13156260666449654,
          0.13312021071685098,
          0.13114409933499807,
          0.13099629934881651,
          0.1329412322305197,
          0.1331467796616585,
          0.13260720140844995,
          0.13347403469801916,
          0.1328551957893863,
          0.13225954852089938,
          0.1279890582550186,
          0.13287822375690217,
          0.1333668927187985,
          0.13200121699838335,
          0.12992069504071863,
          0.13089671133698497,
          0.13317913722034344,
          0.13407535319975797,
          0.1350101600631489,
          0.13365065260026193,
          0.1334218166636359,
          0.13510376393795892,
          0.13408015862069386,
          0.1345538486348868,
          0.13366690714845642,
          0.13315119383169857,
          0.13405448571078488,
          0.1341246100551234,
          0.13419319293496254,
          0.1317274780105789
         ],
         "yaxis": "y6"
        },
        {
         "marker": {
          "color": [
           0,
           1,
           2,
           3,
           4,
           5,
           6,
           7,
           8,
           9,
           10,
           11,
           12,
           13,
           14,
           15,
           16,
           17,
           18,
           19,
           20,
           21,
           22,
           23,
           24,
           25,
           26,
           27,
           28,
           29,
           30,
           31,
           32,
           33,
           34,
           35,
           36,
           37,
           38,
           39,
           40,
           41,
           42,
           43
          ],
          "colorbar": {
           "title": {
            "text": "#Trials"
           },
           "x": 1,
           "xpad": 40
          },
          "colorscale": [
           [
            0,
            "rgb(247,251,255)"
           ],
           [
            0.125,
            "rgb(222,235,247)"
           ],
           [
            0.25,
            "rgb(198,219,239)"
           ],
           [
            0.375,
            "rgb(158,202,225)"
           ],
           [
            0.5,
            "rgb(107,174,214)"
           ],
           [
            0.625,
            "rgb(66,146,198)"
           ],
           [
            0.75,
            "rgb(33,113,181)"
           ],
           [
            0.875,
            "rgb(8,81,156)"
           ],
           [
            1,
            "rgb(8,48,107)"
           ]
          ],
          "line": {
           "color": "Grey",
           "width": 0.5
          },
          "showscale": false
         },
         "mode": "markers",
         "showlegend": false,
         "type": "scatter",
         "x": [
          2300,
          2500,
          1400,
          2200,
          2100,
          1300,
          1700,
          2700,
          1000,
          1200,
          1700,
          3000,
          1800,
          2500,
          1800,
          2800,
          2400,
          1500,
          2000,
          2600,
          1700,
          1100,
          1500,
          1000,
          2900,
          2000,
          1000,
          1600,
          1300,
          2300,
          1900,
          2500,
          2400,
          2300,
          2500,
          2200,
          2200,
          2200,
          2200,
          2100,
          2200,
          2400,
          2400,
          2400
         ],
         "xaxis": "x7",
         "y": [
          0.13183145594938714,
          0.1337759328680827,
          0.13352875898064875,
          0.13270900220738094,
          0.13042752558201606,
          0.11842981160156078,
          0.13406732991657636,
          0.13271920674698917,
          0.1337364020470085,
          0.13170139995617466,
          0.12163927786614784,
          0.1314041744410869,
          0.133085960209707,
          0.13360651892368258,
          0.13156260666449654,
          0.13312021071685098,
          0.13114409933499807,
          0.13099629934881651,
          0.1329412322305197,
          0.1331467796616585,
          0.13260720140844995,
          0.13347403469801916,
          0.1328551957893863,
          0.13225954852089938,
          0.1279890582550186,
          0.13287822375690217,
          0.1333668927187985,
          0.13200121699838335,
          0.12992069504071863,
          0.13089671133698497,
          0.13317913722034344,
          0.13407535319975797,
          0.1350101600631489,
          0.13365065260026193,
          0.1334218166636359,
          0.13510376393795892,
          0.13408015862069386,
          0.1345538486348868,
          0.13366690714845642,
          0.13315119383169857,
          0.13405448571078488,
          0.1341246100551234,
          0.13419319293496254,
          0.1317274780105789
         ],
         "yaxis": "y7"
        },
        {
         "marker": {
          "color": [
           0,
           1,
           2,
           3,
           4,
           5,
           6,
           7,
           8,
           9,
           10,
           11,
           12,
           13,
           14,
           15,
           16,
           17,
           18,
           19,
           20,
           21,
           22,
           23,
           24,
           25,
           26,
           27,
           28,
           29,
           30,
           31,
           32,
           33,
           34,
           35,
           36,
           37,
           38,
           39,
           40,
           41,
           42,
           43
          ],
          "colorbar": {
           "title": {
            "text": "#Trials"
           },
           "x": 1,
           "xpad": 40
          },
          "colorscale": [
           [
            0,
            "rgb(247,251,255)"
           ],
           [
            0.125,
            "rgb(222,235,247)"
           ],
           [
            0.25,
            "rgb(198,219,239)"
           ],
           [
            0.375,
            "rgb(158,202,225)"
           ],
           [
            0.5,
            "rgb(107,174,214)"
           ],
           [
            0.625,
            "rgb(66,146,198)"
           ],
           [
            0.75,
            "rgb(33,113,181)"
           ],
           [
            0.875,
            "rgb(8,81,156)"
           ],
           [
            1,
            "rgb(8,48,107)"
           ]
          ],
          "line": {
           "color": "Grey",
           "width": 0.5
          },
          "showscale": false
         },
         "mode": "markers",
         "showlegend": false,
         "type": "scatter",
         "x": [
          1800,
          1000,
          1100,
          2000,
          1100,
          1100,
          1500,
          1500,
          1300,
          1400,
          800,
          1600,
          900,
          1600,
          1300,
          1800,
          900,
          1200,
          1600,
          1800,
          1000,
          1300,
          1400,
          1300,
          800,
          1500,
          1200,
          1200,
          1000,
          1700,
          1400,
          1600,
          1700,
          2000,
          1700,
          1900,
          1900,
          1900,
          1900,
          1900,
          1900,
          1700,
          2000,
          2000
         ],
         "xaxis": "x8",
         "y": [
          0.13183145594938714,
          0.1337759328680827,
          0.13352875898064875,
          0.13270900220738094,
          0.13042752558201606,
          0.11842981160156078,
          0.13406732991657636,
          0.13271920674698917,
          0.1337364020470085,
          0.13170139995617466,
          0.12163927786614784,
          0.1314041744410869,
          0.133085960209707,
          0.13360651892368258,
          0.13156260666449654,
          0.13312021071685098,
          0.13114409933499807,
          0.13099629934881651,
          0.1329412322305197,
          0.1331467796616585,
          0.13260720140844995,
          0.13347403469801916,
          0.1328551957893863,
          0.13225954852089938,
          0.1279890582550186,
          0.13287822375690217,
          0.1333668927187985,
          0.13200121699838335,
          0.12992069504071863,
          0.13089671133698497,
          0.13317913722034344,
          0.13407535319975797,
          0.1350101600631489,
          0.13365065260026193,
          0.1334218166636359,
          0.13510376393795892,
          0.13408015862069386,
          0.1345538486348868,
          0.13366690714845642,
          0.13315119383169857,
          0.13405448571078488,
          0.1341246100551234,
          0.13419319293496254,
          0.1317274780105789
         ],
         "yaxis": "y8"
        },
        {
         "marker": {
          "color": [
           0,
           1,
           2,
           3,
           4,
           5,
           6,
           7,
           8,
           9,
           10,
           11,
           12,
           13,
           14,
           15,
           16,
           17,
           18,
           19,
           20,
           21,
           22,
           23,
           24,
           25,
           26,
           27,
           28,
           29,
           30,
           31,
           32,
           33,
           34,
           35,
           36,
           37,
           38,
           39,
           40,
           41,
           42,
           43
          ],
          "colorbar": {
           "title": {
            "text": "#Trials"
           },
           "x": 1,
           "xpad": 40
          },
          "colorscale": [
           [
            0,
            "rgb(247,251,255)"
           ],
           [
            0.125,
            "rgb(222,235,247)"
           ],
           [
            0.25,
            "rgb(198,219,239)"
           ],
           [
            0.375,
            "rgb(158,202,225)"
           ],
           [
            0.5,
            "rgb(107,174,214)"
           ],
           [
            0.625,
            "rgb(66,146,198)"
           ],
           [
            0.75,
            "rgb(33,113,181)"
           ],
           [
            0.875,
            "rgb(8,81,156)"
           ],
           [
            1,
            "rgb(8,48,107)"
           ]
          ],
          "line": {
           "color": "Grey",
           "width": 0.5
          },
          "showscale": false
         },
         "mode": "markers",
         "showlegend": false,
         "type": "scatter",
         "x": [
          6.269415693677216,
          15.076166718253848,
          37.60612007794647,
          75.20668191030583,
          97.06271775199036,
          4.420420482988952,
          24.278092819684083,
          82.07057015604704,
          42.07691622068302,
          95.85929619681764,
          26.490089192430656,
          21.70095410630319,
          61.26414345101645,
          20.90007477170657,
          13.9376130595817,
          36.07308601451663,
          60.240072341930826,
          52.44003838740626,
          2.535991687602058,
          29.068137788591727,
          14.161033300819266,
          41.832812011743776,
          47.100876554185085,
          30.736709634849486,
          20.056073504196817,
          11.902066699518887,
          46.09099066920283,
          58.235029983839915,
          32.07838008368171,
          11.135734121027326,
          69.19018055388744,
          20.091224649173245,
          38.80710629739499,
          24.040419904247717,
          36.47579208414126,
          7.961233039539337,
          8.968306402299106,
          6.732627034430642,
          7.064083750085714,
          0.0709861384838657,
          4.894997365123521,
          9.092070857423856,
          8.273905162144507,
          17.105199276332375
         ],
         "xaxis": "x9",
         "y": [
          0.13183145594938714,
          0.1337759328680827,
          0.13352875898064875,
          0.13270900220738094,
          0.13042752558201606,
          0.11842981160156078,
          0.13406732991657636,
          0.13271920674698917,
          0.1337364020470085,
          0.13170139995617466,
          0.12163927786614784,
          0.1314041744410869,
          0.133085960209707,
          0.13360651892368258,
          0.13156260666449654,
          0.13312021071685098,
          0.13114409933499807,
          0.13099629934881651,
          0.1329412322305197,
          0.1331467796616585,
          0.13260720140844995,
          0.13347403469801916,
          0.1328551957893863,
          0.13225954852089938,
          0.1279890582550186,
          0.13287822375690217,
          0.1333668927187985,
          0.13200121699838335,
          0.12992069504071863,
          0.13089671133698497,
          0.13317913722034344,
          0.13407535319975797,
          0.1350101600631489,
          0.13365065260026193,
          0.1334218166636359,
          0.13510376393795892,
          0.13408015862069386,
          0.1345538486348868,
          0.13366690714845642,
          0.13315119383169857,
          0.13405448571078488,
          0.1341246100551234,
          0.13419319293496254,
          0.1317274780105789
         ],
         "yaxis": "y9"
        },
        {
         "marker": {
          "color": [
           0,
           1,
           2,
           3,
           4,
           5,
           6,
           7,
           8,
           9,
           10,
           11,
           12,
           13,
           14,
           15,
           16,
           17,
           18,
           19,
           20,
           21,
           22,
           23,
           24,
           25,
           26,
           27,
           28,
           29,
           30,
           31,
           32,
           33,
           34,
           35,
           36,
           37,
           38,
           39,
           40,
           41,
           42,
           43
          ],
          "colorbar": {
           "title": {
            "text": "#Trials"
           },
           "x": 1,
           "xpad": 40
          },
          "colorscale": [
           [
            0,
            "rgb(247,251,255)"
           ],
           [
            0.125,
            "rgb(222,235,247)"
           ],
           [
            0.25,
            "rgb(198,219,239)"
           ],
           [
            0.375,
            "rgb(158,202,225)"
           ],
           [
            0.5,
            "rgb(107,174,214)"
           ],
           [
            0.625,
            "rgb(66,146,198)"
           ],
           [
            0.75,
            "rgb(33,113,181)"
           ],
           [
            0.875,
            "rgb(8,81,156)"
           ],
           [
            1,
            "rgb(8,48,107)"
           ]
          ],
          "line": {
           "color": "Grey",
           "width": 0.5
          },
          "showscale": false
         },
         "mode": "markers",
         "showlegend": false,
         "type": "scatter",
         "x": [
          0.5,
          0.7,
          0.55,
          0.65,
          0.5,
          0.25,
          0.7,
          0.7,
          0.6000000000000001,
          0.45,
          0.35,
          0.75,
          0.75,
          0.65,
          0.65,
          0.75,
          0.6000000000000001,
          0.45,
          0.7,
          0.6000000000000001,
          0.7,
          0.6000000000000001,
          0.55,
          0.7,
          0.65,
          0.55,
          0.6000000000000001,
          0.75,
          0.7,
          0.5,
          0.65,
          0.65,
          0.6000000000000001,
          0.65,
          0.7,
          0.55,
          0.55,
          0.55,
          0.5,
          0.45,
          0.55,
          0.55,
          0.55,
          0.4
         ],
         "xaxis": "x10",
         "y": [
          0.13183145594938714,
          0.1337759328680827,
          0.13352875898064875,
          0.13270900220738094,
          0.13042752558201606,
          0.11842981160156078,
          0.13406732991657636,
          0.13271920674698917,
          0.1337364020470085,
          0.13170139995617466,
          0.12163927786614784,
          0.1314041744410869,
          0.133085960209707,
          0.13360651892368258,
          0.13156260666449654,
          0.13312021071685098,
          0.13114409933499807,
          0.13099629934881651,
          0.1329412322305197,
          0.1331467796616585,
          0.13260720140844995,
          0.13347403469801916,
          0.1328551957893863,
          0.13225954852089938,
          0.1279890582550186,
          0.13287822375690217,
          0.1333668927187985,
          0.13200121699838335,
          0.12992069504071863,
          0.13089671133698497,
          0.13317913722034344,
          0.13407535319975797,
          0.1350101600631489,
          0.13365065260026193,
          0.1334218166636359,
          0.13510376393795892,
          0.13408015862069386,
          0.1345538486348868,
          0.13366690714845642,
          0.13315119383169857,
          0.13405448571078488,
          0.1341246100551234,
          0.13419319293496254,
          0.1317274780105789
         ],
         "yaxis": "y10"
        }
       ],
       "layout": {
        "autosize": true,
        "template": {
         "data": {
          "bar": [
           {
            "error_x": {
             "color": "#2a3f5f"
            },
            "error_y": {
             "color": "#2a3f5f"
            },
            "marker": {
             "line": {
              "color": "#E5ECF6",
              "width": 0.5
             },
             "pattern": {
              "fillmode": "overlay",
              "size": 10,
              "solidity": 0.2
             }
            },
            "type": "bar"
           }
          ],
          "barpolar": [
           {
            "marker": {
             "line": {
              "color": "#E5ECF6",
              "width": 0.5
             },
             "pattern": {
              "fillmode": "overlay",
              "size": 10,
              "solidity": 0.2
             }
            },
            "type": "barpolar"
           }
          ],
          "carpet": [
           {
            "aaxis": {
             "endlinecolor": "#2a3f5f",
             "gridcolor": "white",
             "linecolor": "white",
             "minorgridcolor": "white",
             "startlinecolor": "#2a3f5f"
            },
            "baxis": {
             "endlinecolor": "#2a3f5f",
             "gridcolor": "white",
             "linecolor": "white",
             "minorgridcolor": "white",
             "startlinecolor": "#2a3f5f"
            },
            "type": "carpet"
           }
          ],
          "choropleth": [
           {
            "colorbar": {
             "outlinewidth": 0,
             "ticks": ""
            },
            "type": "choropleth"
           }
          ],
          "contour": [
           {
            "colorbar": {
             "outlinewidth": 0,
             "ticks": ""
            },
            "colorscale": [
             [
              0,
              "#0d0887"
             ],
             [
              0.1111111111111111,
              "#46039f"
             ],
             [
              0.2222222222222222,
              "#7201a8"
             ],
             [
              0.3333333333333333,
              "#9c179e"
             ],
             [
              0.4444444444444444,
              "#bd3786"
             ],
             [
              0.5555555555555556,
              "#d8576b"
             ],
             [
              0.6666666666666666,
              "#ed7953"
             ],
             [
              0.7777777777777778,
              "#fb9f3a"
             ],
             [
              0.8888888888888888,
              "#fdca26"
             ],
             [
              1,
              "#f0f921"
             ]
            ],
            "type": "contour"
           }
          ],
          "contourcarpet": [
           {
            "colorbar": {
             "outlinewidth": 0,
             "ticks": ""
            },
            "type": "contourcarpet"
           }
          ],
          "heatmap": [
           {
            "colorbar": {
             "outlinewidth": 0,
             "ticks": ""
            },
            "colorscale": [
             [
              0,
              "#0d0887"
             ],
             [
              0.1111111111111111,
              "#46039f"
             ],
             [
              0.2222222222222222,
              "#7201a8"
             ],
             [
              0.3333333333333333,
              "#9c179e"
             ],
             [
              0.4444444444444444,
              "#bd3786"
             ],
             [
              0.5555555555555556,
              "#d8576b"
             ],
             [
              0.6666666666666666,
              "#ed7953"
             ],
             [
              0.7777777777777778,
              "#fb9f3a"
             ],
             [
              0.8888888888888888,
              "#fdca26"
             ],
             [
              1,
              "#f0f921"
             ]
            ],
            "type": "heatmap"
           }
          ],
          "heatmapgl": [
           {
            "colorbar": {
             "outlinewidth": 0,
             "ticks": ""
            },
            "colorscale": [
             [
              0,
              "#0d0887"
             ],
             [
              0.1111111111111111,
              "#46039f"
             ],
             [
              0.2222222222222222,
              "#7201a8"
             ],
             [
              0.3333333333333333,
              "#9c179e"
             ],
             [
              0.4444444444444444,
              "#bd3786"
             ],
             [
              0.5555555555555556,
              "#d8576b"
             ],
             [
              0.6666666666666666,
              "#ed7953"
             ],
             [
              0.7777777777777778,
              "#fb9f3a"
             ],
             [
              0.8888888888888888,
              "#fdca26"
             ],
             [
              1,
              "#f0f921"
             ]
            ],
            "type": "heatmapgl"
           }
          ],
          "histogram": [
           {
            "marker": {
             "pattern": {
              "fillmode": "overlay",
              "size": 10,
              "solidity": 0.2
             }
            },
            "type": "histogram"
           }
          ],
          "histogram2d": [
           {
            "colorbar": {
             "outlinewidth": 0,
             "ticks": ""
            },
            "colorscale": [
             [
              0,
              "#0d0887"
             ],
             [
              0.1111111111111111,
              "#46039f"
             ],
             [
              0.2222222222222222,
              "#7201a8"
             ],
             [
              0.3333333333333333,
              "#9c179e"
             ],
             [
              0.4444444444444444,
              "#bd3786"
             ],
             [
              0.5555555555555556,
              "#d8576b"
             ],
             [
              0.6666666666666666,
              "#ed7953"
             ],
             [
              0.7777777777777778,
              "#fb9f3a"
             ],
             [
              0.8888888888888888,
              "#fdca26"
             ],
             [
              1,
              "#f0f921"
             ]
            ],
            "type": "histogram2d"
           }
          ],
          "histogram2dcontour": [
           {
            "colorbar": {
             "outlinewidth": 0,
             "ticks": ""
            },
            "colorscale": [
             [
              0,
              "#0d0887"
             ],
             [
              0.1111111111111111,
              "#46039f"
             ],
             [
              0.2222222222222222,
              "#7201a8"
             ],
             [
              0.3333333333333333,
              "#9c179e"
             ],
             [
              0.4444444444444444,
              "#bd3786"
             ],
             [
              0.5555555555555556,
              "#d8576b"
             ],
             [
              0.6666666666666666,
              "#ed7953"
             ],
             [
              0.7777777777777778,
              "#fb9f3a"
             ],
             [
              0.8888888888888888,
              "#fdca26"
             ],
             [
              1,
              "#f0f921"
             ]
            ],
            "type": "histogram2dcontour"
           }
          ],
          "mesh3d": [
           {
            "colorbar": {
             "outlinewidth": 0,
             "ticks": ""
            },
            "type": "mesh3d"
           }
          ],
          "parcoords": [
           {
            "line": {
             "colorbar": {
              "outlinewidth": 0,
              "ticks": ""
             }
            },
            "type": "parcoords"
           }
          ],
          "pie": [
           {
            "automargin": true,
            "type": "pie"
           }
          ],
          "scatter": [
           {
            "marker": {
             "colorbar": {
              "outlinewidth": 0,
              "ticks": ""
             }
            },
            "type": "scatter"
           }
          ],
          "scatter3d": [
           {
            "line": {
             "colorbar": {
              "outlinewidth": 0,
              "ticks": ""
             }
            },
            "marker": {
             "colorbar": {
              "outlinewidth": 0,
              "ticks": ""
             }
            },
            "type": "scatter3d"
           }
          ],
          "scattercarpet": [
           {
            "marker": {
             "colorbar": {
              "outlinewidth": 0,
              "ticks": ""
             }
            },
            "type": "scattercarpet"
           }
          ],
          "scattergeo": [
           {
            "marker": {
             "colorbar": {
              "outlinewidth": 0,
              "ticks": ""
             }
            },
            "type": "scattergeo"
           }
          ],
          "scattergl": [
           {
            "marker": {
             "colorbar": {
              "outlinewidth": 0,
              "ticks": ""
             }
            },
            "type": "scattergl"
           }
          ],
          "scattermapbox": [
           {
            "marker": {
             "colorbar": {
              "outlinewidth": 0,
              "ticks": ""
             }
            },
            "type": "scattermapbox"
           }
          ],
          "scatterpolar": [
           {
            "marker": {
             "colorbar": {
              "outlinewidth": 0,
              "ticks": ""
             }
            },
            "type": "scatterpolar"
           }
          ],
          "scatterpolargl": [
           {
            "marker": {
             "colorbar": {
              "outlinewidth": 0,
              "ticks": ""
             }
            },
            "type": "scatterpolargl"
           }
          ],
          "scatterternary": [
           {
            "marker": {
             "colorbar": {
              "outlinewidth": 0,
              "ticks": ""
             }
            },
            "type": "scatterternary"
           }
          ],
          "surface": [
           {
            "colorbar": {
             "outlinewidth": 0,
             "ticks": ""
            },
            "colorscale": [
             [
              0,
              "#0d0887"
             ],
             [
              0.1111111111111111,
              "#46039f"
             ],
             [
              0.2222222222222222,
              "#7201a8"
             ],
             [
              0.3333333333333333,
              "#9c179e"
             ],
             [
              0.4444444444444444,
              "#bd3786"
             ],
             [
              0.5555555555555556,
              "#d8576b"
             ],
             [
              0.6666666666666666,
              "#ed7953"
             ],
             [
              0.7777777777777778,
              "#fb9f3a"
             ],
             [
              0.8888888888888888,
              "#fdca26"
             ],
             [
              1,
              "#f0f921"
             ]
            ],
            "type": "surface"
           }
          ],
          "table": [
           {
            "cells": {
             "fill": {
              "color": "#EBF0F8"
             },
             "line": {
              "color": "white"
             }
            },
            "header": {
             "fill": {
              "color": "#C8D4E3"
             },
             "line": {
              "color": "white"
             }
            },
            "type": "table"
           }
          ]
         },
         "layout": {
          "annotationdefaults": {
           "arrowcolor": "#2a3f5f",
           "arrowhead": 0,
           "arrowwidth": 1
          },
          "autotypenumbers": "strict",
          "coloraxis": {
           "colorbar": {
            "outlinewidth": 0,
            "ticks": ""
           }
          },
          "colorscale": {
           "diverging": [
            [
             0,
             "#8e0152"
            ],
            [
             0.1,
             "#c51b7d"
            ],
            [
             0.2,
             "#de77ae"
            ],
            [
             0.3,
             "#f1b6da"
            ],
            [
             0.4,
             "#fde0ef"
            ],
            [
             0.5,
             "#f7f7f7"
            ],
            [
             0.6,
             "#e6f5d0"
            ],
            [
             0.7,
             "#b8e186"
            ],
            [
             0.8,
             "#7fbc41"
            ],
            [
             0.9,
             "#4d9221"
            ],
            [
             1,
             "#276419"
            ]
           ],
           "sequential": [
            [
             0,
             "#0d0887"
            ],
            [
             0.1111111111111111,
             "#46039f"
            ],
            [
             0.2222222222222222,
             "#7201a8"
            ],
            [
             0.3333333333333333,
             "#9c179e"
            ],
            [
             0.4444444444444444,
             "#bd3786"
            ],
            [
             0.5555555555555556,
             "#d8576b"
            ],
            [
             0.6666666666666666,
             "#ed7953"
            ],
            [
             0.7777777777777778,
             "#fb9f3a"
            ],
            [
             0.8888888888888888,
             "#fdca26"
            ],
            [
             1,
             "#f0f921"
            ]
           ],
           "sequentialminus": [
            [
             0,
             "#0d0887"
            ],
            [
             0.1111111111111111,
             "#46039f"
            ],
            [
             0.2222222222222222,
             "#7201a8"
            ],
            [
             0.3333333333333333,
             "#9c179e"
            ],
            [
             0.4444444444444444,
             "#bd3786"
            ],
            [
             0.5555555555555556,
             "#d8576b"
            ],
            [
             0.6666666666666666,
             "#ed7953"
            ],
            [
             0.7777777777777778,
             "#fb9f3a"
            ],
            [
             0.8888888888888888,
             "#fdca26"
            ],
            [
             1,
             "#f0f921"
            ]
           ]
          },
          "colorway": [
           "#636efa",
           "#EF553B",
           "#00cc96",
           "#ab63fa",
           "#FFA15A",
           "#19d3f3",
           "#FF6692",
           "#B6E880",
           "#FF97FF",
           "#FECB52"
          ],
          "font": {
           "color": "#2a3f5f"
          },
          "geo": {
           "bgcolor": "white",
           "lakecolor": "white",
           "landcolor": "#E5ECF6",
           "showlakes": true,
           "showland": true,
           "subunitcolor": "white"
          },
          "hoverlabel": {
           "align": "left"
          },
          "hovermode": "closest",
          "mapbox": {
           "style": "light"
          },
          "paper_bgcolor": "white",
          "plot_bgcolor": "#E5ECF6",
          "polar": {
           "angularaxis": {
            "gridcolor": "white",
            "linecolor": "white",
            "ticks": ""
           },
           "bgcolor": "#E5ECF6",
           "radialaxis": {
            "gridcolor": "white",
            "linecolor": "white",
            "ticks": ""
           }
          },
          "scene": {
           "xaxis": {
            "backgroundcolor": "#E5ECF6",
            "gridcolor": "white",
            "gridwidth": 2,
            "linecolor": "white",
            "showbackground": true,
            "ticks": "",
            "zerolinecolor": "white"
           },
           "yaxis": {
            "backgroundcolor": "#E5ECF6",
            "gridcolor": "white",
            "gridwidth": 2,
            "linecolor": "white",
            "showbackground": true,
            "ticks": "",
            "zerolinecolor": "white"
           },
           "zaxis": {
            "backgroundcolor": "#E5ECF6",
            "gridcolor": "white",
            "gridwidth": 2,
            "linecolor": "white",
            "showbackground": true,
            "ticks": "",
            "zerolinecolor": "white"
           }
          },
          "shapedefaults": {
           "line": {
            "color": "#2a3f5f"
           }
          },
          "ternary": {
           "aaxis": {
            "gridcolor": "white",
            "linecolor": "white",
            "ticks": ""
           },
           "baxis": {
            "gridcolor": "white",
            "linecolor": "white",
            "ticks": ""
           },
           "bgcolor": "#E5ECF6",
           "caxis": {
            "gridcolor": "white",
            "linecolor": "white",
            "ticks": ""
           }
          },
          "title": {
           "x": 0.05
          },
          "xaxis": {
           "automargin": true,
           "gridcolor": "white",
           "linecolor": "white",
           "ticks": "",
           "title": {
            "standoff": 15
           },
           "zerolinecolor": "white",
           "zerolinewidth": 2
          },
          "yaxis": {
           "automargin": true,
           "gridcolor": "white",
           "linecolor": "white",
           "ticks": "",
           "title": {
            "standoff": 15
           },
           "zerolinecolor": "white",
           "zerolinewidth": 2
          }
         }
        },
        "title": {
         "text": "Slice Plot"
        },
        "xaxis": {
         "anchor": "y",
         "autorange": true,
         "domain": [
          0,
          0.082
         ],
         "range": [
          0.7724614711343987,
          1.0275385288656014
         ],
         "title": {
          "text": "bagging_fraction"
         },
         "type": "linear"
        },
        "xaxis10": {
         "anchor": "y10",
         "autorange": true,
         "domain": [
          0.9179999999999999,
          0.9999999999999999
         ],
         "range": [
          0.18115367783599653,
          0.8188463221640034
         ],
         "title": {
          "text": "skip_drop"
         },
         "type": "linear"
        },
        "xaxis2": {
         "anchor": "y2",
         "autorange": true,
         "domain": [
          0.10200000000000001,
          0.184
         ],
         "range": [
          0.029346103350798965,
          0.22065389664920104
         ],
         "title": {
          "text": "drop_rate"
         },
         "type": "linear"
        },
        "xaxis3": {
         "anchor": "y3",
         "autorange": true,
         "domain": [
          0.20400000000000001,
          0.28600000000000003
         ],
         "range": [
          0.044922942268797235,
          0.5550770577312027
         ],
         "title": {
          "text": "feature_fraction"
         },
         "type": "linear"
        },
        "xaxis4": {
         "anchor": "y4",
         "autorange": true,
         "domain": [
          0.306,
          0.388
         ],
         "range": [
          -3.4803114920301983,
          1.5253860387886498
         ],
         "title": {
          "text": "lambda_l1"
         },
         "type": "log"
        },
        "xaxis5": {
         "anchor": "y5",
         "autorange": true,
         "domain": [
          0.40800000000000003,
          0.49000000000000005
         ],
         "range": [
          -3.494117079597535,
          1.2845223041458795
         ],
         "title": {
          "text": "lambda_l2"
         },
         "type": "log"
        },
        "xaxis6": {
         "anchor": "y6",
         "autorange": true,
         "domain": [
          0.51,
          0.592
         ],
         "range": [
          -2.392337989520625,
          112.39233798952063
         ],
         "title": {
          "text": "max_drop"
         },
         "type": "linear"
        },
        "xaxis7": {
         "anchor": "y7",
         "autorange": true,
         "domain": [
          0.6120000000000001,
          0.6940000000000001
         ],
         "range": [
          724.6147113439861,
          3275.385288656014
         ],
         "title": {
          "text": "min_data_in_leaf"
         },
         "type": "linear"
        },
        "xaxis8": {
         "anchor": "y8",
         "autorange": true,
         "domain": [
          0.7140000000000001,
          0.796
         ],
         "range": [
          634.7688268063916,
          2165.2311731936084
         ],
         "title": {
          "text": "num_iterations"
         },
         "type": "linear"
        },
        "xaxis9": {
         "anchor": "y9",
         "autorange": true,
         "domain": [
          0.8160000000000001,
          0.898
         ],
         "range": [
          -13.284061865332193,
          110.41776575580641
         ],
         "title": {
          "text": "path_smooth"
         },
         "type": "linear"
        },
        "yaxis": {
         "anchor": "x",
         "autorange": true,
         "domain": [
          0,
          1
         ],
         "range": [
          0.11705380582622696,
          0.13647976971329276
         ],
         "title": {
          "text": "Objective Value"
         },
         "type": "linear"
        },
        "yaxis10": {
         "anchor": "x10",
         "autorange": true,
         "domain": [
          0,
          1
         ],
         "matches": "y",
         "range": [
          0.11705380582622696,
          0.13647976971329276
         ],
         "showticklabels": false,
         "type": "linear"
        },
        "yaxis2": {
         "anchor": "x2",
         "autorange": true,
         "domain": [
          0,
          1
         ],
         "matches": "y",
         "range": [
          0.11705380582622696,
          0.13647976971329276
         ],
         "showticklabels": false,
         "type": "linear"
        },
        "yaxis3": {
         "anchor": "x3",
         "autorange": true,
         "domain": [
          0,
          1
         ],
         "matches": "y",
         "range": [
          0.11705380582622696,
          0.13647976971329276
         ],
         "showticklabels": false,
         "type": "linear"
        },
        "yaxis4": {
         "anchor": "x4",
         "autorange": true,
         "domain": [
          0,
          1
         ],
         "matches": "y",
         "range": [
          0.11705380582622696,
          0.13647976971329276
         ],
         "showticklabels": false,
         "type": "linear"
        },
        "yaxis5": {
         "anchor": "x5",
         "autorange": true,
         "domain": [
          0,
          1
         ],
         "matches": "y",
         "range": [
          0.11705380582622696,
          0.13647976971329276
         ],
         "showticklabels": false,
         "type": "linear"
        },
        "yaxis6": {
         "anchor": "x6",
         "autorange": true,
         "domain": [
          0,
          1
         ],
         "matches": "y",
         "range": [
          0.11705380582622696,
          0.13647976971329276
         ],
         "showticklabels": false,
         "type": "linear"
        },
        "yaxis7": {
         "anchor": "x7",
         "autorange": true,
         "domain": [
          0,
          1
         ],
         "matches": "y",
         "range": [
          0.11705380582622696,
          0.13647976971329276
         ],
         "showticklabels": false,
         "type": "linear"
        },
        "yaxis8": {
         "anchor": "x8",
         "autorange": true,
         "domain": [
          0,
          1
         ],
         "matches": "y",
         "range": [
          0.11705380582622696,
          0.13647976971329276
         ],
         "showticklabels": false,
         "type": "linear"
        },
        "yaxis9": {
         "anchor": "x9",
         "autorange": true,
         "domain": [
          0,
          1
         ],
         "matches": "y",
         "range": [
          0.11705380582622696,
          0.13647976971329276
         ],
         "showticklabels": false,
         "type": "linear"
        }
       }
      },
      "image/png": "[encoded data removed]"
     },
     "metadata": {},
     "output_type": "display_data"
    }
   ],
   "source": [
    "plot_slice(study)"
   ]
  },
  {
   "cell_type": "code",
   "execution_count": 16,
   "id": "09e43f27-4c48-4a2f-ac8d-fc415c9b45b1",
   "metadata": {},
   "outputs": [
    {
     "data": {
      "application/vnd.plotly.v1+json": {
       "config": {
        "plotlyServerURL": "https://plot.ly"
       },
       "data": [
        {
         "mode": "lines",
         "name": "lgbm-dart",
         "type": "scatter",
         "x": [
          0.11842981160156078,
          0.1185982353625345,
          0.11876665912350821,
          0.11893508288448194,
          0.11910350664545566,
          0.11927193040642937,
          0.11944035416740309,
          0.11960877792837682,
          0.11977720168935053,
          0.11994562545032425,
          0.12011404921129797,
          0.12028247297227168,
          0.12045089673324541,
          0.12061932049421913,
          0.12078774425519284,
          0.12095616801616656,
          0.12112459177714029,
          0.121293015538114,
          0.12146143929908772,
          0.12162986306006143,
          0.12179828682103515,
          0.12196671058200888,
          0.1221351343429826,
          0.12230355810395631,
          0.12247198186493002,
          0.12264040562590375,
          0.12280882938687747,
          0.12297725314785118,
          0.1231456769088249,
          0.12331410066979862,
          0.12348252443077234,
          0.12365094819174606,
          0.12381937195271978,
          0.12398779571369349,
          0.12415621947466722,
          0.12432464323564094,
          0.12449306699661465,
          0.12466149075758837,
          0.12482991451856208,
          0.12499833827953581,
          0.12516676204050953,
          0.12533518580148326,
          0.12550360956245696,
          0.1256720333234307,
          0.1258404570844044,
          0.12600888084537812,
          0.12617730460635185,
          0.12634572836732555,
          0.12651415212829928,
          0.12668257588927298,
          0.1268509996502467,
          0.12701942341122044,
          0.12718784717219414,
          0.12735627093316787,
          0.12752469469414157,
          0.1276931184551153,
          0.12786154221608903,
          0.12802996597706273,
          0.12819838973803646,
          0.1283668134990102,
          0.1285352372599839,
          0.12870366102095762,
          0.12887208478193132,
          0.12904050854290505,
          0.12920893230387878,
          0.12937735606485248,
          0.1295457798258262,
          0.12971420358679991,
          0.12988262734777364,
          0.13005105110874737,
          0.13021947486972107,
          0.1303878986306948,
          0.13055632239166853,
          0.13072474615264223,
          0.13089316991361596,
          0.13106159367458967,
          0.1312300174355634,
          0.13139844119653712,
          0.13156686495751083,
          0.13173528871848456,
          0.13190371247945826,
          0.132072136240432,
          0.13224056000140572,
          0.13240898376237942,
          0.13257740752335315,
          0.13274583128432685,
          0.13291425504530058,
          0.1330826788062743,
          0.133251102567248,
          0.13341952632822174,
          0.13358795008919544,
          0.13375637385016917,
          0.1339247976111429,
          0.1340932213721166,
          0.13426164513309033,
          0.13443006889406406,
          0.13459849265503776,
          0.1347669164160115,
          0.1349353401769852,
          0.13510376393795892
         ],
         "y": [
          0.022727272727272728,
          0.022727272727272728,
          0.022727272727272728,
          0.022727272727272728,
          0.022727272727272728,
          0.022727272727272728,
          0.022727272727272728,
          0.022727272727272728,
          0.022727272727272728,
          0.022727272727272728,
          0.022727272727272728,
          0.022727272727272728,
          0.022727272727272728,
          0.022727272727272728,
          0.022727272727272728,
          0.022727272727272728,
          0.022727272727272728,
          0.022727272727272728,
          0.022727272727272728,
          0.022727272727272728,
          0.045454545454545456,
          0.045454545454545456,
          0.045454545454545456,
          0.045454545454545456,
          0.045454545454545456,
          0.045454545454545456,
          0.045454545454545456,
          0.045454545454545456,
          0.045454545454545456,
          0.045454545454545456,
          0.045454545454545456,
          0.045454545454545456,
          0.045454545454545456,
          0.045454545454545456,
          0.045454545454545456,
          0.045454545454545456,
          0.045454545454545456,
          0.045454545454545456,
          0.045454545454545456,
          0.045454545454545456,
          0.045454545454545456,
          0.045454545454545456,
          0.045454545454545456,
          0.045454545454545456,
          0.045454545454545456,
          0.045454545454545456,
          0.045454545454545456,
          0.045454545454545456,
          0.045454545454545456,
          0.045454545454545456,
          0.045454545454545456,
          0.045454545454545456,
          0.045454545454545456,
          0.045454545454545456,
          0.045454545454545456,
          0.045454545454545456,
          0.045454545454545456,
          0.06818181818181818,
          0.06818181818181818,
          0.06818181818181818,
          0.06818181818181818,
          0.06818181818181818,
          0.06818181818181818,
          0.06818181818181818,
          0.06818181818181818,
          0.06818181818181818,
          0.06818181818181818,
          0.06818181818181818,
          0.06818181818181818,
          0.09090909090909091,
          0.09090909090909091,
          0.09090909090909091,
          0.11363636363636363,
          0.11363636363636363,
          0.11363636363636363,
          0.1590909090909091,
          0.18181818181818182,
          0.18181818181818182,
          0.22727272727272727,
          0.2727272727272727,
          0.29545454545454547,
          0.3181818181818182,
          0.3181818181818182,
          0.3409090909090909,
          0.3409090909090909,
          0.4090909090909091,
          0.45454545454545453,
          0.4772727272727273,
          0.5909090909090909,
          0.6136363636363636,
          0.6818181818181818,
          0.7727272727272727,
          0.7954545454545454,
          0.8863636363636364,
          0.9318181818181818,
          0.9318181818181818,
          0.9545454545454546,
          0.9545454545454546,
          0.9545454545454546,
          1
         ]
        }
       ],
       "layout": {
        "autosize": true,
        "template": {
         "data": {
          "bar": [
           {
            "error_x": {
             "color": "#2a3f5f"
            },
            "error_y": {
             "color": "#2a3f5f"
            },
            "marker": {
             "line": {
              "color": "#E5ECF6",
              "width": 0.5
             },
             "pattern": {
              "fillmode": "overlay",
              "size": 10,
              "solidity": 0.2
             }
            },
            "type": "bar"
           }
          ],
          "barpolar": [
           {
            "marker": {
             "line": {
              "color": "#E5ECF6",
              "width": 0.5
             },
             "pattern": {
              "fillmode": "overlay",
              "size": 10,
              "solidity": 0.2
             }
            },
            "type": "barpolar"
           }
          ],
          "carpet": [
           {
            "aaxis": {
             "endlinecolor": "#2a3f5f",
             "gridcolor": "white",
             "linecolor": "white",
             "minorgridcolor": "white",
             "startlinecolor": "#2a3f5f"
            },
            "baxis": {
             "endlinecolor": "#2a3f5f",
             "gridcolor": "white",
             "linecolor": "white",
             "minorgridcolor": "white",
             "startlinecolor": "#2a3f5f"
            },
            "type": "carpet"
           }
          ],
          "choropleth": [
           {
            "colorbar": {
             "outlinewidth": 0,
             "ticks": ""
            },
            "type": "choropleth"
           }
          ],
          "contour": [
           {
            "colorbar": {
             "outlinewidth": 0,
             "ticks": ""
            },
            "colorscale": [
             [
              0,
              "#0d0887"
             ],
             [
              0.1111111111111111,
              "#46039f"
             ],
             [
              0.2222222222222222,
              "#7201a8"
             ],
             [
              0.3333333333333333,
              "#9c179e"
             ],
             [
              0.4444444444444444,
              "#bd3786"
             ],
             [
              0.5555555555555556,
              "#d8576b"
             ],
             [
              0.6666666666666666,
              "#ed7953"
             ],
             [
              0.7777777777777778,
              "#fb9f3a"
             ],
             [
              0.8888888888888888,
              "#fdca26"
             ],
             [
              1,
              "#f0f921"
             ]
            ],
            "type": "contour"
           }
          ],
          "contourcarpet": [
           {
            "colorbar": {
             "outlinewidth": 0,
             "ticks": ""
            },
            "type": "contourcarpet"
           }
          ],
          "heatmap": [
           {
            "colorbar": {
             "outlinewidth": 0,
             "ticks": ""
            },
            "colorscale": [
             [
              0,
              "#0d0887"
             ],
             [
              0.1111111111111111,
              "#46039f"
             ],
             [
              0.2222222222222222,
              "#7201a8"
             ],
             [
              0.3333333333333333,
              "#9c179e"
             ],
             [
              0.4444444444444444,
              "#bd3786"
             ],
             [
              0.5555555555555556,
              "#d8576b"
             ],
             [
              0.6666666666666666,
              "#ed7953"
             ],
             [
              0.7777777777777778,
              "#fb9f3a"
             ],
             [
              0.8888888888888888,
              "#fdca26"
             ],
             [
              1,
              "#f0f921"
             ]
            ],
            "type": "heatmap"
           }
          ],
          "heatmapgl": [
           {
            "colorbar": {
             "outlinewidth": 0,
             "ticks": ""
            },
            "colorscale": [
             [
              0,
              "#0d0887"
             ],
             [
              0.1111111111111111,
              "#46039f"
             ],
             [
              0.2222222222222222,
              "#7201a8"
             ],
             [
              0.3333333333333333,
              "#9c179e"
             ],
             [
              0.4444444444444444,
              "#bd3786"
             ],
             [
              0.5555555555555556,
              "#d8576b"
             ],
             [
              0.6666666666666666,
              "#ed7953"
             ],
             [
              0.7777777777777778,
              "#fb9f3a"
             ],
             [
              0.8888888888888888,
              "#fdca26"
             ],
             [
              1,
              "#f0f921"
             ]
            ],
            "type": "heatmapgl"
           }
          ],
          "histogram": [
           {
            "marker": {
             "pattern": {
              "fillmode": "overlay",
              "size": 10,
              "solidity": 0.2
             }
            },
            "type": "histogram"
           }
          ],
          "histogram2d": [
           {
            "colorbar": {
             "outlinewidth": 0,
             "ticks": ""
            },
            "colorscale": [
             [
              0,
              "#0d0887"
             ],
             [
              0.1111111111111111,
              "#46039f"
             ],
             [
              0.2222222222222222,
              "#7201a8"
             ],
             [
              0.3333333333333333,
              "#9c179e"
             ],
             [
              0.4444444444444444,
              "#bd3786"
             ],
             [
              0.5555555555555556,
              "#d8576b"
             ],
             [
              0.6666666666666666,
              "#ed7953"
             ],
             [
              0.7777777777777778,
              "#fb9f3a"
             ],
             [
              0.8888888888888888,
              "#fdca26"
             ],
             [
              1,
              "#f0f921"
             ]
            ],
            "type": "histogram2d"
           }
          ],
          "histogram2dcontour": [
           {
            "colorbar": {
             "outlinewidth": 0,
             "ticks": ""
            },
            "colorscale": [
             [
              0,
              "#0d0887"
             ],
             [
              0.1111111111111111,
              "#46039f"
             ],
             [
              0.2222222222222222,
              "#7201a8"
             ],
             [
              0.3333333333333333,
              "#9c179e"
             ],
             [
              0.4444444444444444,
              "#bd3786"
             ],
             [
              0.5555555555555556,
              "#d8576b"
             ],
             [
              0.6666666666666666,
              "#ed7953"
             ],
             [
              0.7777777777777778,
              "#fb9f3a"
             ],
             [
              0.8888888888888888,
              "#fdca26"
             ],
             [
              1,
              "#f0f921"
             ]
            ],
            "type": "histogram2dcontour"
           }
          ],
          "mesh3d": [
           {
            "colorbar": {
             "outlinewidth": 0,
             "ticks": ""
            },
            "type": "mesh3d"
           }
          ],
          "parcoords": [
           {
            "line": {
             "colorbar": {
              "outlinewidth": 0,
              "ticks": ""
             }
            },
            "type": "parcoords"
           }
          ],
          "pie": [
           {
            "automargin": true,
            "type": "pie"
           }
          ],
          "scatter": [
           {
            "marker": {
             "colorbar": {
              "outlinewidth": 0,
              "ticks": ""
             }
            },
            "type": "scatter"
           }
          ],
          "scatter3d": [
           {
            "line": {
             "colorbar": {
              "outlinewidth": 0,
              "ticks": ""
             }
            },
            "marker": {
             "colorbar": {
              "outlinewidth": 0,
              "ticks": ""
             }
            },
            "type": "scatter3d"
           }
          ],
          "scattercarpet": [
           {
            "marker": {
             "colorbar": {
              "outlinewidth": 0,
              "ticks": ""
             }
            },
            "type": "scattercarpet"
           }
          ],
          "scattergeo": [
           {
            "marker": {
             "colorbar": {
              "outlinewidth": 0,
              "ticks": ""
             }
            },
            "type": "scattergeo"
           }
          ],
          "scattergl": [
           {
            "marker": {
             "colorbar": {
              "outlinewidth": 0,
              "ticks": ""
             }
            },
            "type": "scattergl"
           }
          ],
          "scattermapbox": [
           {
            "marker": {
             "colorbar": {
              "outlinewidth": 0,
              "ticks": ""
             }
            },
            "type": "scattermapbox"
           }
          ],
          "scatterpolar": [
           {
            "marker": {
             "colorbar": {
              "outlinewidth": 0,
              "ticks": ""
             }
            },
            "type": "scatterpolar"
           }
          ],
          "scatterpolargl": [
           {
            "marker": {
             "colorbar": {
              "outlinewidth": 0,
              "ticks": ""
             }
            },
            "type": "scatterpolargl"
           }
          ],
          "scatterternary": [
           {
            "marker": {
             "colorbar": {
              "outlinewidth": 0,
              "ticks": ""
             }
            },
            "type": "scatterternary"
           }
          ],
          "surface": [
           {
            "colorbar": {
             "outlinewidth": 0,
             "ticks": ""
            },
            "colorscale": [
             [
              0,
              "#0d0887"
             ],
             [
              0.1111111111111111,
              "#46039f"
             ],
             [
              0.2222222222222222,
              "#7201a8"
             ],
             [
              0.3333333333333333,
              "#9c179e"
             ],
             [
              0.4444444444444444,
              "#bd3786"
             ],
             [
              0.5555555555555556,
              "#d8576b"
             ],
             [
              0.6666666666666666,
              "#ed7953"
             ],
             [
              0.7777777777777778,
              "#fb9f3a"
             ],
             [
              0.8888888888888888,
              "#fdca26"
             ],
             [
              1,
              "#f0f921"
             ]
            ],
            "type": "surface"
           }
          ],
          "table": [
           {
            "cells": {
             "fill": {
              "color": "#EBF0F8"
             },
             "line": {
              "color": "white"
             }
            },
            "header": {
             "fill": {
              "color": "#C8D4E3"
             },
             "line": {
              "color": "white"
             }
            },
            "type": "table"
           }
          ]
         },
         "layout": {
          "annotationdefaults": {
           "arrowcolor": "#2a3f5f",
           "arrowhead": 0,
           "arrowwidth": 1
          },
          "autotypenumbers": "strict",
          "coloraxis": {
           "colorbar": {
            "outlinewidth": 0,
            "ticks": ""
           }
          },
          "colorscale": {
           "diverging": [
            [
             0,
             "#8e0152"
            ],
            [
             0.1,
             "#c51b7d"
            ],
            [
             0.2,
             "#de77ae"
            ],
            [
             0.3,
             "#f1b6da"
            ],
            [
             0.4,
             "#fde0ef"
            ],
            [
             0.5,
             "#f7f7f7"
            ],
            [
             0.6,
             "#e6f5d0"
            ],
            [
             0.7,
             "#b8e186"
            ],
            [
             0.8,
             "#7fbc41"
            ],
            [
             0.9,
             "#4d9221"
            ],
            [
             1,
             "#276419"
            ]
           ],
           "sequential": [
            [
             0,
             "#0d0887"
            ],
            [
             0.1111111111111111,
             "#46039f"
            ],
            [
             0.2222222222222222,
             "#7201a8"
            ],
            [
             0.3333333333333333,
             "#9c179e"
            ],
            [
             0.4444444444444444,
             "#bd3786"
            ],
            [
             0.5555555555555556,
             "#d8576b"
            ],
            [
             0.6666666666666666,
             "#ed7953"
            ],
            [
             0.7777777777777778,
             "#fb9f3a"
            ],
            [
             0.8888888888888888,
             "#fdca26"
            ],
            [
             1,
             "#f0f921"
            ]
           ],
           "sequentialminus": [
            [
             0,
             "#0d0887"
            ],
            [
             0.1111111111111111,
             "#46039f"
            ],
            [
             0.2222222222222222,
             "#7201a8"
            ],
            [
             0.3333333333333333,
             "#9c179e"
            ],
            [
             0.4444444444444444,
             "#bd3786"
            ],
            [
             0.5555555555555556,
             "#d8576b"
            ],
            [
             0.6666666666666666,
             "#ed7953"
            ],
            [
             0.7777777777777778,
             "#fb9f3a"
            ],
            [
             0.8888888888888888,
             "#fdca26"
            ],
            [
             1,
             "#f0f921"
            ]
           ]
          },
          "colorway": [
           "#636efa",
           "#EF553B",
           "#00cc96",
           "#ab63fa",
           "#FFA15A",
           "#19d3f3",
           "#FF6692",
           "#B6E880",
           "#FF97FF",
           "#FECB52"
          ],
          "font": {
           "color": "#2a3f5f"
          },
          "geo": {
           "bgcolor": "white",
           "lakecolor": "white",
           "landcolor": "#E5ECF6",
           "showlakes": true,
           "showland": true,
           "subunitcolor": "white"
          },
          "hoverlabel": {
           "align": "left"
          },
          "hovermode": "closest",
          "mapbox": {
           "style": "light"
          },
          "paper_bgcolor": "white",
          "plot_bgcolor": "#E5ECF6",
          "polar": {
           "angularaxis": {
            "gridcolor": "white",
            "linecolor": "white",
            "ticks": ""
           },
           "bgcolor": "#E5ECF6",
           "radialaxis": {
            "gridcolor": "white",
            "linecolor": "white",
            "ticks": ""
           }
          },
          "scene": {
           "xaxis": {
            "backgroundcolor": "#E5ECF6",
            "gridcolor": "white",
            "gridwidth": 2,
            "linecolor": "white",
            "showbackground": true,
            "ticks": "",
            "zerolinecolor": "white"
           },
           "yaxis": {
            "backgroundcolor": "#E5ECF6",
            "gridcolor": "white",
            "gridwidth": 2,
            "linecolor": "white",
            "showbackground": true,
            "ticks": "",
            "zerolinecolor": "white"
           },
           "zaxis": {
            "backgroundcolor": "#E5ECF6",
            "gridcolor": "white",
            "gridwidth": 2,
            "linecolor": "white",
            "showbackground": true,
            "ticks": "",
            "zerolinecolor": "white"
           }
          },
          "shapedefaults": {
           "line": {
            "color": "#2a3f5f"
           }
          },
          "ternary": {
           "aaxis": {
            "gridcolor": "white",
            "linecolor": "white",
            "ticks": ""
           },
           "baxis": {
            "gridcolor": "white",
            "linecolor": "white",
            "ticks": ""
           },
           "bgcolor": "#E5ECF6",
           "caxis": {
            "gridcolor": "white",
            "linecolor": "white",
            "ticks": ""
           }
          },
          "title": {
           "x": 0.05
          },
          "xaxis": {
           "automargin": true,
           "gridcolor": "white",
           "linecolor": "white",
           "ticks": "",
           "title": {
            "standoff": 15
           },
           "zerolinecolor": "white",
           "zerolinewidth": 2
          },
          "yaxis": {
           "automargin": true,
           "gridcolor": "white",
           "linecolor": "white",
           "ticks": "",
           "title": {
            "standoff": 15
           },
           "zerolinecolor": "white",
           "zerolinewidth": 2
          }
         }
        },
        "title": {
         "text": "Empirical Distribution Function Plot"
        },
        "xaxis": {
         "autorange": true,
         "range": [
          0.11842981160156078,
          0.13510376393795892
         ],
         "title": {
          "text": "Objective Value"
         },
         "type": "linear"
        },
        "yaxis": {
         "range": [
          0,
          1
         ],
         "title": {
          "text": "Cumulative Probability"
         },
         "type": "linear"
        }
       }
      },
      "image/png": "[encoded data removed]"
     },
     "metadata": {},
     "output_type": "display_data"
    }
   ],
   "source": [
    "plot_edf(study)"
   ]
  },
  {
   "cell_type": "code",
   "execution_count": 17,
   "id": "bb491f04-2b3e-49ed-ac73-b09ad06a1b99",
   "metadata": {},
   "outputs": [
    {
     "data": {
      "application/vnd.plotly.v1+json": {
       "config": {
        "plotlyServerURL": "https://plot.ly"
       },
       "data": [
        {
         "dimensions": [
          {
           "label": "Objective Value",
           "range": [
            0.11842981160156078,
            0.13510376393795892
           ],
           "values": [
            0.13183145594938714,
            0.1337759328680827,
            0.13352875898064875,
            0.13270900220738094,
            0.13042752558201606,
            0.11842981160156078,
            0.13406732991657636,
            0.13271920674698917,
            0.1337364020470085,
            0.13170139995617466,
            0.12163927786614784,
            0.1314041744410869,
            0.133085960209707,
            0.13360651892368258,
            0.13156260666449654,
            0.13312021071685098,
            0.13114409933499807,
            0.13099629934881651,
            0.1329412322305197,
            0.1331467796616585,
            0.13260720140844995,
            0.13347403469801916,
            0.1328551957893863,
            0.13225954852089938,
            0.1279890582550186,
            0.13287822375690217,
            0.1333668927187985,
            0.13200121699838335,
            0.12992069504071863,
            0.13089671133698497,
            0.13317913722034344,
            0.13407535319975797,
            0.1350101600631489,
            0.13365065260026193,
            0.1334218166636359,
            0.13510376393795892,
            0.13408015862069386,
            0.1345538486348868,
            0.13366690714845642,
            0.13315119383169857,
            0.13405448571078488,
            0.1341246100551234,
            0.13419319293496254,
            0.1317274780105789
           ]
          },
          {
           "label": "bagging_fraction",
           "range": [
            0.8,
            1
           ],
           "values": [
            0.9500000000000001,
            0.9500000000000001,
            0.8,
            1,
            0.8500000000000001,
            1,
            1,
            0.8,
            0.9,
            0.8,
            0.9500000000000001,
            0.9500000000000001,
            1,
            0.9,
            0.9500000000000001,
            1,
            0.9500000000000001,
            0.9,
            0.8500000000000001,
            1,
            0.9500000000000001,
            0.9,
            0.8500000000000001,
            0.9,
            0.9500000000000001,
            1,
            0.9,
            0.8500000000000001,
            0.9500000000000001,
            0.9500000000000001,
            1,
            0.9,
            0.9,
            0.9,
            0.8500000000000001,
            0.9,
            0.8500000000000001,
            0.8500000000000001,
            0.8500000000000001,
            0.8,
            0.8500000000000001,
            0.8500000000000001,
            0.8500000000000001,
            0.8
           ]
          },
          {
           "label": "drop_rate",
           "range": [
            0.05,
            0.2
           ],
           "values": [
            0.13,
            0.09,
            0.08,
            0.09,
            0.2,
            0.08,
            0.19,
            0.14,
            0.18,
            0.14,
            0.16999999999999998,
            0.05,
            0.11,
            0.05,
            0.11,
            0.16999999999999998,
            0.2,
            0.15000000000000002,
            0.11,
            0.07,
            0.1,
            0.18,
            0.18,
            0.16,
            0.19,
            0.16,
            0.19,
            0.12000000000000001,
            0.07,
            0.13,
            0.19,
            0.05,
            0.060000000000000005,
            0.060000000000000005,
            0.060000000000000005,
            0.09,
            0.09,
            0.09,
            0.09,
            0.08,
            0.09,
            0.07,
            0.07,
            0.07
           ]
          },
          {
           "label": "feature_fraction",
           "range": [
            0.1,
            0.5
           ],
           "values": [
            0.1,
            0.15000000000000002,
            0.35,
            0.2,
            0.45000000000000007,
            0.35,
            0.15000000000000002,
            0.25,
            0.15000000000000002,
            0.30000000000000004,
            0.5,
            0.1,
            0.2,
            0.2,
            0.1,
            0.15000000000000002,
            0.25,
            0.15000000000000002,
            0.30000000000000004,
            0.4,
            0.25,
            0.15000000000000002,
            0.15000000000000002,
            0.2,
            0.1,
            0.15000000000000002,
            0.25,
            0.2,
            0.1,
            0.1,
            0.15000000000000002,
            0.2,
            0.2,
            0.2,
            0.25,
            0.35,
            0.35,
            0.35,
            0.35,
            0.4,
            0.35,
            0.4,
            0.4,
            0.4
           ]
          },
          {
           "label": "lambda_l1",
           "range": [
            -2.93988834629128,
            0.9849628930497311
           ],
           "ticktext": [
            "0.00115",
            "0.01",
            "0.1",
            "1",
            "9.66"
           ],
           "tickvals": [
            -2.93988834629128,
            -2,
            -1,
            0,
            0.9849628930497311
           ],
           "values": [
            -1.3445103709957313,
            0.04984774467102348,
            -2.3459693340212424,
            0.9849628930497311,
            0.7594053297698251,
            -1.7703335947999375,
            -0.9831391599392084,
            -1.5575323339893028,
            -2.2857843114819363,
            -2.939660833784819,
            -0.05098459469746451,
            -0.4826920080414878,
            -0.49647507731655055,
            0.17384938681699283,
            -0.867651646270887,
            0.2017864575921926,
            -0.9077383916110537,
            0.5067651592335387,
            -0.2935075695197696,
            -1.237732117573347,
            -0.6780266524957321,
            -2.2362450876943876,
            -1.9587154598129997,
            -2.93988834629128,
            -2.417722949655319,
            -1.2218384166593486,
            -0.04128855777913962,
            -2.028060044443842,
            -1.51150827408175,
            -2.637477746063754,
            -1.1314789023110032,
            0.38414912318685424,
            0.5096151984301749,
            0.5705661717518996,
            0.9519671944394418,
            0.04639463300957095,
            0.4420157141762655,
            0.40174196787582267,
            0.7882646385176328,
            0.33039679020813867,
            0.6993002351873918,
            0.4233996953368955,
            -0.29400609626825525,
            -0.21194734762192777
           ]
          },
          {
           "label": "lambda_l2",
           "range": [
            -2.978207496124949,
            0.7686127206732936
           ],
           "ticktext": [
            "0.00105",
            "0.01",
            "0.1",
            "1",
            "5.87"
           ],
           "tickvals": [
            -2.978207496124949,
            -2,
            -1,
            0,
            0.7686127206732936
           ],
           "values": [
            -2.6574750837725802,
            -2.6914030903041923,
            0.5635640570924676,
            0.5932966126949715,
            -0.940434182830102,
            -1.6398492592857308,
            -1.5853008465114111,
            -0.866190381300588,
            -2.008092889411363,
            0.7686127206732936,
            -0.34850881805335593,
            -2.870577854086018,
            -1.9274620277711882,
            -2.353954076339003,
            -1.4124072473034868,
            -0.27475787994868206,
            -2.328520830723735,
            -1.36361773703718,
            -2.921381925925271,
            -0.41972918284533667,
            -2.3718156144519495,
            -1.947032934293638,
            -1.9665506917668096,
            -1.5885268971553204,
            -2.464285949032571,
            -2.180506712313388,
            -1.1777692795566967,
            -1.7719492725373365,
            -2.662566289661161,
            -2.6659124188279146,
            -2.101429114970942,
            -2.533409288600125,
            -2.6038751376102214,
            -2.978207496124949,
            -2.492252588856791,
            -2.7582693550613375,
            -2.697042586344262,
            -2.7420539265129005,
            -2.818578926649754,
            0.18326856748124692,
            -2.710539126222483,
            -2.556063665910452,
            -2.2046169292183984,
            -2.1919010745621095
           ]
          },
          {
           "label": "max_drop",
           "range": [
            10,
            100
           ],
           "values": [
            70,
            20,
            40,
            30,
            70,
            100,
            60,
            50,
            50,
            50,
            100,
            10,
            10,
            70,
            20,
            80,
            30,
            30,
            60,
            90,
            40,
            60,
            40,
            20,
            80,
            50,
            60,
            20,
            80,
            70,
            40,
            70,
            60,
            60,
            70,
            90,
            90,
            90,
            90,
            90,
            100,
            90,
            90,
            100
           ]
          },
          {
           "label": "min_data_in_leaf",
           "range": [
            1000,
            3000
           ],
           "values": [
            2300,
            2500,
            1400,
            2200,
            2100,
            1300,
            1700,
            2700,
            1000,
            1200,
            1700,
            3000,
            1800,
            2500,
            1800,
            2800,
            2400,
            1500,
            2000,
            2600,
            1700,
            1100,
            1500,
            1000,
            2900,
            2000,
            1000,
            1600,
            1300,
            2300,
            1900,
            2500,
            2400,
            2300,
            2500,
            2200,
            2200,
            2200,
            2200,
            2100,
            2200,
            2400,
            2400,
            2400
           ]
          },
          {
           "label": "num_iterations",
           "range": [
            800,
            2000
           ],
           "values": [
            1800,
            1000,
            1100,
            2000,
            1100,
            1100,
            1500,
            1500,
            1300,
            1400,
            800,
            1600,
            900,
            1600,
            1300,
            1800,
            900,
            1200,
            1600,
            1800,
            1000,
            1300,
            1400,
            1300,
            800,
            1500,
            1200,
            1200,
            1000,
            1700,
            1400,
            1600,
            1700,
            2000,
            1700,
            1900,
            1900,
            1900,
            1900,
            1900,
            1900,
            1700,
            2000,
            2000
           ]
          },
          {
           "label": "path_smooth",
           "range": [
            0.0709861384838657,
            97.06271775199036
           ],
           "values": [
            6.269415693677216,
            15.076166718253848,
            37.60612007794647,
            75.20668191030583,
            97.06271775199036,
            4.420420482988952,
            24.278092819684083,
            82.07057015604704,
            42.07691622068302,
            95.85929619681764,
            26.490089192430656,
            21.70095410630319,
            61.26414345101645,
            20.90007477170657,
            13.9376130595817,
            36.07308601451663,
            60.240072341930826,
            52.44003838740626,
            2.535991687602058,
            29.068137788591727,
            14.161033300819266,
            41.832812011743776,
            47.100876554185085,
            30.736709634849486,
            20.056073504196817,
            11.902066699518887,
            46.09099066920283,
            58.235029983839915,
            32.07838008368171,
            11.135734121027326,
            69.19018055388744,
            20.091224649173245,
            38.80710629739499,
            24.040419904247717,
            36.47579208414126,
            7.961233039539337,
            8.968306402299106,
            6.732627034430642,
            7.064083750085714,
            0.0709861384838657,
            4.894997365123521,
            9.092070857423856,
            8.273905162144507,
            17.105199276332375
           ]
          },
          {
           "label": "skip_drop",
           "range": [
            0.25,
            0.75
           ],
           "values": [
            0.5,
            0.7,
            0.55,
            0.65,
            0.5,
            0.25,
            0.7,
            0.7,
            0.6000000000000001,
            0.45,
            0.35,
            0.75,
            0.75,
            0.65,
            0.65,
            0.75,
            0.6000000000000001,
            0.45,
            0.7,
            0.6000000000000001,
            0.7,
            0.6000000000000001,
            0.55,
            0.7,
            0.65,
            0.55,
            0.6000000000000001,
            0.75,
            0.7,
            0.5,
            0.65,
            0.65,
            0.6000000000000001,
            0.65,
            0.7,
            0.55,
            0.55,
            0.55,
            0.5,
            0.45,
            0.55,
            0.55,
            0.55,
            0.4
           ]
          }
         ],
         "labelangle": 30,
         "labelside": "bottom",
         "line": {
          "color": [
           0.13183145594938714,
           0.1337759328680827,
           0.13352875898064875,
           0.13270900220738094,
           0.13042752558201606,
           0.11842981160156078,
           0.13406732991657636,
           0.13271920674698917,
           0.1337364020470085,
           0.13170139995617466,
           0.12163927786614784,
           0.1314041744410869,
           0.133085960209707,
           0.13360651892368258,
           0.13156260666449654,
           0.13312021071685098,
           0.13114409933499807,
           0.13099629934881651,
           0.1329412322305197,
           0.1331467796616585,
           0.13260720140844995,
           0.13347403469801916,
           0.1328551957893863,
           0.13225954852089938,
           0.1279890582550186,
           0.13287822375690217,
           0.1333668927187985,
           0.13200121699838335,
           0.12992069504071863,
           0.13089671133698497,
           0.13317913722034344,
           0.13407535319975797,
           0.1350101600631489,
           0.13365065260026193,
           0.1334218166636359,
           0.13510376393795892,
           0.13408015862069386,
           0.1345538486348868,
           0.13366690714845642,
           0.13315119383169857,
           0.13405448571078488,
           0.1341246100551234,
           0.13419319293496254,
           0.1317274780105789
          ],
          "colorbar": {
           "title": {
            "text": "Objective Value"
           }
          },
          "colorscale": [
           [
            0,
            "rgb(247,251,255)"
           ],
           [
            0.125,
            "rgb(222,235,247)"
           ],
           [
            0.25,
            "rgb(198,219,239)"
           ],
           [
            0.375,
            "rgb(158,202,225)"
           ],
           [
            0.5,
            "rgb(107,174,214)"
           ],
           [
            0.625,
            "rgb(66,146,198)"
           ],
           [
            0.75,
            "rgb(33,113,181)"
           ],
           [
            0.875,
            "rgb(8,81,156)"
           ],
           [
            1,
            "rgb(8,48,107)"
           ]
          ],
          "reversescale": false,
          "showscale": true
         },
         "type": "parcoords"
        }
       ],
       "layout": {
        "autosize": true,
        "template": {
         "data": {
          "bar": [
           {
            "error_x": {
             "color": "#2a3f5f"
            },
            "error_y": {
             "color": "#2a3f5f"
            },
            "marker": {
             "line": {
              "color": "#E5ECF6",
              "width": 0.5
             },
             "pattern": {
              "fillmode": "overlay",
              "size": 10,
              "solidity": 0.2
             }
            },
            "type": "bar"
           }
          ],
          "barpolar": [
           {
            "marker": {
             "line": {
              "color": "#E5ECF6",
              "width": 0.5
             },
             "pattern": {
              "fillmode": "overlay",
              "size": 10,
              "solidity": 0.2
             }
            },
            "type": "barpolar"
           }
          ],
          "carpet": [
           {
            "aaxis": {
             "endlinecolor": "#2a3f5f",
             "gridcolor": "white",
             "linecolor": "white",
             "minorgridcolor": "white",
             "startlinecolor": "#2a3f5f"
            },
            "baxis": {
             "endlinecolor": "#2a3f5f",
             "gridcolor": "white",
             "linecolor": "white",
             "minorgridcolor": "white",
             "startlinecolor": "#2a3f5f"
            },
            "type": "carpet"
           }
          ],
          "choropleth": [
           {
            "colorbar": {
             "outlinewidth": 0,
             "ticks": ""
            },
            "type": "choropleth"
           }
          ],
          "contour": [
           {
            "colorbar": {
             "outlinewidth": 0,
             "ticks": ""
            },
            "colorscale": [
             [
              0,
              "#0d0887"
             ],
             [
              0.1111111111111111,
              "#46039f"
             ],
             [
              0.2222222222222222,
              "#7201a8"
             ],
             [
              0.3333333333333333,
              "#9c179e"
             ],
             [
              0.4444444444444444,
              "#bd3786"
             ],
             [
              0.5555555555555556,
              "#d8576b"
             ],
             [
              0.6666666666666666,
              "#ed7953"
             ],
             [
              0.7777777777777778,
              "#fb9f3a"
             ],
             [
              0.8888888888888888,
              "#fdca26"
             ],
             [
              1,
              "#f0f921"
             ]
            ],
            "type": "contour"
           }
          ],
          "contourcarpet": [
           {
            "colorbar": {
             "outlinewidth": 0,
             "ticks": ""
            },
            "type": "contourcarpet"
           }
          ],
          "heatmap": [
           {
            "colorbar": {
             "outlinewidth": 0,
             "ticks": ""
            },
            "colorscale": [
             [
              0,
              "#0d0887"
             ],
             [
              0.1111111111111111,
              "#46039f"
             ],
             [
              0.2222222222222222,
              "#7201a8"
             ],
             [
              0.3333333333333333,
              "#9c179e"
             ],
             [
              0.4444444444444444,
              "#bd3786"
             ],
             [
              0.5555555555555556,
              "#d8576b"
             ],
             [
              0.6666666666666666,
              "#ed7953"
             ],
             [
              0.7777777777777778,
              "#fb9f3a"
             ],
             [
              0.8888888888888888,
              "#fdca26"
             ],
             [
              1,
              "#f0f921"
             ]
            ],
            "type": "heatmap"
           }
          ],
          "heatmapgl": [
           {
            "colorbar": {
             "outlinewidth": 0,
             "ticks": ""
            },
            "colorscale": [
             [
              0,
              "#0d0887"
             ],
             [
              0.1111111111111111,
              "#46039f"
             ],
             [
              0.2222222222222222,
              "#7201a8"
             ],
             [
              0.3333333333333333,
              "#9c179e"
             ],
             [
              0.4444444444444444,
              "#bd3786"
             ],
             [
              0.5555555555555556,
              "#d8576b"
             ],
             [
              0.6666666666666666,
              "#ed7953"
             ],
             [
              0.7777777777777778,
              "#fb9f3a"
             ],
             [
              0.8888888888888888,
              "#fdca26"
             ],
             [
              1,
              "#f0f921"
             ]
            ],
            "type": "heatmapgl"
           }
          ],
          "histogram": [
           {
            "marker": {
             "pattern": {
              "fillmode": "overlay",
              "size": 10,
              "solidity": 0.2
             }
            },
            "type": "histogram"
           }
          ],
          "histogram2d": [
           {
            "colorbar": {
             "outlinewidth": 0,
             "ticks": ""
            },
            "colorscale": [
             [
              0,
              "#0d0887"
             ],
             [
              0.1111111111111111,
              "#46039f"
             ],
             [
              0.2222222222222222,
              "#7201a8"
             ],
             [
              0.3333333333333333,
              "#9c179e"
             ],
             [
              0.4444444444444444,
              "#bd3786"
             ],
             [
              0.5555555555555556,
              "#d8576b"
             ],
             [
              0.6666666666666666,
              "#ed7953"
             ],
             [
              0.7777777777777778,
              "#fb9f3a"
             ],
             [
              0.8888888888888888,
              "#fdca26"
             ],
             [
              1,
              "#f0f921"
             ]
            ],
            "type": "histogram2d"
           }
          ],
          "histogram2dcontour": [
           {
            "colorbar": {
             "outlinewidth": 0,
             "ticks": ""
            },
            "colorscale": [
             [
              0,
              "#0d0887"
             ],
             [
              0.1111111111111111,
              "#46039f"
             ],
             [
              0.2222222222222222,
              "#7201a8"
             ],
             [
              0.3333333333333333,
              "#9c179e"
             ],
             [
              0.4444444444444444,
              "#bd3786"
             ],
             [
              0.5555555555555556,
              "#d8576b"
             ],
             [
              0.6666666666666666,
              "#ed7953"
             ],
             [
              0.7777777777777778,
              "#fb9f3a"
             ],
             [
              0.8888888888888888,
              "#fdca26"
             ],
             [
              1,
              "#f0f921"
             ]
            ],
            "type": "histogram2dcontour"
           }
          ],
          "mesh3d": [
           {
            "colorbar": {
             "outlinewidth": 0,
             "ticks": ""
            },
            "type": "mesh3d"
           }
          ],
          "parcoords": [
           {
            "line": {
             "colorbar": {
              "outlinewidth": 0,
              "ticks": ""
             }
            },
            "type": "parcoords"
           }
          ],
          "pie": [
           {
            "automargin": true,
            "type": "pie"
           }
          ],
          "scatter": [
           {
            "marker": {
             "colorbar": {
              "outlinewidth": 0,
              "ticks": ""
             }
            },
            "type": "scatter"
           }
          ],
          "scatter3d": [
           {
            "line": {
             "colorbar": {
              "outlinewidth": 0,
              "ticks": ""
             }
            },
            "marker": {
             "colorbar": {
              "outlinewidth": 0,
              "ticks": ""
             }
            },
            "type": "scatter3d"
           }
          ],
          "scattercarpet": [
           {
            "marker": {
             "colorbar": {
              "outlinewidth": 0,
              "ticks": ""
             }
            },
            "type": "scattercarpet"
           }
          ],
          "scattergeo": [
           {
            "marker": {
             "colorbar": {
              "outlinewidth": 0,
              "ticks": ""
             }
            },
            "type": "scattergeo"
           }
          ],
          "scattergl": [
           {
            "marker": {
             "colorbar": {
              "outlinewidth": 0,
              "ticks": ""
             }
            },
            "type": "scattergl"
           }
          ],
          "scattermapbox": [
           {
            "marker": {
             "colorbar": {
              "outlinewidth": 0,
              "ticks": ""
             }
            },
            "type": "scattermapbox"
           }
          ],
          "scatterpolar": [
           {
            "marker": {
             "colorbar": {
              "outlinewidth": 0,
              "ticks": ""
             }
            },
            "type": "scatterpolar"
           }
          ],
          "scatterpolargl": [
           {
            "marker": {
             "colorbar": {
              "outlinewidth": 0,
              "ticks": ""
             }
            },
            "type": "scatterpolargl"
           }
          ],
          "scatterternary": [
           {
            "marker": {
             "colorbar": {
              "outlinewidth": 0,
              "ticks": ""
             }
            },
            "type": "scatterternary"
           }
          ],
          "surface": [
           {
            "colorbar": {
             "outlinewidth": 0,
             "ticks": ""
            },
            "colorscale": [
             [
              0,
              "#0d0887"
             ],
             [
              0.1111111111111111,
              "#46039f"
             ],
             [
              0.2222222222222222,
              "#7201a8"
             ],
             [
              0.3333333333333333,
              "#9c179e"
             ],
             [
              0.4444444444444444,
              "#bd3786"
             ],
             [
              0.5555555555555556,
              "#d8576b"
             ],
             [
              0.6666666666666666,
              "#ed7953"
             ],
             [
              0.7777777777777778,
              "#fb9f3a"
             ],
             [
              0.8888888888888888,
              "#fdca26"
             ],
             [
              1,
              "#f0f921"
             ]
            ],
            "type": "surface"
           }
          ],
          "table": [
           {
            "cells": {
             "fill": {
              "color": "#EBF0F8"
             },
             "line": {
              "color": "white"
             }
            },
            "header": {
             "fill": {
              "color": "#C8D4E3"
             },
             "line": {
              "color": "white"
             }
            },
            "type": "table"
           }
          ]
         },
         "layout": {
          "annotationdefaults": {
           "arrowcolor": "#2a3f5f",
           "arrowhead": 0,
           "arrowwidth": 1
          },
          "autotypenumbers": "strict",
          "coloraxis": {
           "colorbar": {
            "outlinewidth": 0,
            "ticks": ""
           }
          },
          "colorscale": {
           "diverging": [
            [
             0,
             "#8e0152"
            ],
            [
             0.1,
             "#c51b7d"
            ],
            [
             0.2,
             "#de77ae"
            ],
            [
             0.3,
             "#f1b6da"
            ],
            [
             0.4,
             "#fde0ef"
            ],
            [
             0.5,
             "#f7f7f7"
            ],
            [
             0.6,
             "#e6f5d0"
            ],
            [
             0.7,
             "#b8e186"
            ],
            [
             0.8,
             "#7fbc41"
            ],
            [
             0.9,
             "#4d9221"
            ],
            [
             1,
             "#276419"
            ]
           ],
           "sequential": [
            [
             0,
             "#0d0887"
            ],
            [
             0.1111111111111111,
             "#46039f"
            ],
            [
             0.2222222222222222,
             "#7201a8"
            ],
            [
             0.3333333333333333,
             "#9c179e"
            ],
            [
             0.4444444444444444,
             "#bd3786"
            ],
            [
             0.5555555555555556,
             "#d8576b"
            ],
            [
             0.6666666666666666,
             "#ed7953"
            ],
            [
             0.7777777777777778,
             "#fb9f3a"
            ],
            [
             0.8888888888888888,
             "#fdca26"
            ],
            [
             1,
             "#f0f921"
            ]
           ],
           "sequentialminus": [
            [
             0,
             "#0d0887"
            ],
            [
             0.1111111111111111,
             "#46039f"
            ],
            [
             0.2222222222222222,
             "#7201a8"
            ],
            [
             0.3333333333333333,
             "#9c179e"
            ],
            [
             0.4444444444444444,
             "#bd3786"
            ],
            [
             0.5555555555555556,
             "#d8576b"
            ],
            [
             0.6666666666666666,
             "#ed7953"
            ],
            [
             0.7777777777777778,
             "#fb9f3a"
            ],
            [
             0.8888888888888888,
             "#fdca26"
            ],
            [
             1,
             "#f0f921"
            ]
           ]
          },
          "colorway": [
           "#636efa",
           "#EF553B",
           "#00cc96",
           "#ab63fa",
           "#FFA15A",
           "#19d3f3",
           "#FF6692",
           "#B6E880",
           "#FF97FF",
           "#FECB52"
          ],
          "font": {
           "color": "#2a3f5f"
          },
          "geo": {
           "bgcolor": "white",
           "lakecolor": "white",
           "landcolor": "#E5ECF6",
           "showlakes": true,
           "showland": true,
           "subunitcolor": "white"
          },
          "hoverlabel": {
           "align": "left"
          },
          "hovermode": "closest",
          "mapbox": {
           "style": "light"
          },
          "paper_bgcolor": "white",
          "plot_bgcolor": "#E5ECF6",
          "polar": {
           "angularaxis": {
            "gridcolor": "white",
            "linecolor": "white",
            "ticks": ""
           },
           "bgcolor": "#E5ECF6",
           "radialaxis": {
            "gridcolor": "white",
            "linecolor": "white",
            "ticks": ""
           }
          },
          "scene": {
           "xaxis": {
            "backgroundcolor": "#E5ECF6",
            "gridcolor": "white",
            "gridwidth": 2,
            "linecolor": "white",
            "showbackground": true,
            "ticks": "",
            "zerolinecolor": "white"
           },
           "yaxis": {
            "backgroundcolor": "#E5ECF6",
            "gridcolor": "white",
            "gridwidth": 2,
            "linecolor": "white",
            "showbackground": true,
            "ticks": "",
            "zerolinecolor": "white"
           },
           "zaxis": {
            "backgroundcolor": "#E5ECF6",
            "gridcolor": "white",
            "gridwidth": 2,
            "linecolor": "white",
            "showbackground": true,
            "ticks": "",
            "zerolinecolor": "white"
           }
          },
          "shapedefaults": {
           "line": {
            "color": "#2a3f5f"
           }
          },
          "ternary": {
           "aaxis": {
            "gridcolor": "white",
            "linecolor": "white",
            "ticks": ""
           },
           "baxis": {
            "gridcolor": "white",
            "linecolor": "white",
            "ticks": ""
           },
           "bgcolor": "#E5ECF6",
           "caxis": {
            "gridcolor": "white",
            "linecolor": "white",
            "ticks": ""
           }
          },
          "title": {
           "x": 0.05
          },
          "xaxis": {
           "automargin": true,
           "gridcolor": "white",
           "linecolor": "white",
           "ticks": "",
           "title": {
            "standoff": 15
           },
           "zerolinecolor": "white",
           "zerolinewidth": 2
          },
          "yaxis": {
           "automargin": true,
           "gridcolor": "white",
           "linecolor": "white",
           "ticks": "",
           "title": {
            "standoff": 15
           },
           "zerolinecolor": "white",
           "zerolinewidth": 2
          }
         }
        },
        "title": {
         "text": "Parallel Coordinate Plot"
        }
       }
      },
      "image/png": "[encoded data removed]"
     },
     "metadata": {},
     "output_type": "display_data"
    }
   ],
   "source": [
    "plot_parallel_coordinate(study)"
   ]
  },
  {
   "cell_type": "code",
   "execution_count": 18,
   "id": "f0ee2650-2fdb-409f-832b-6d127c950ea2",
   "metadata": {},
   "outputs": [
    {
     "data": {
      "text/plain": [
       "{'boosting': 'dart',\n",
       " 'objective': 'mse',\n",
       " 'metric': 'rmse',\n",
       " 'learning_rate': 0.05,\n",
       " 'num_leaves': 128,\n",
       " 'max_bin': 511,\n",
       " 'force_col_wise': True,\n",
       " 'bagging_freq': 1,\n",
       " 'seed': 19,\n",
       " 'verbosity': -1,\n",
       " 'first_metric_only': False,\n",
       " 'bin_construct_sample_cnt': 100000000,\n",
       " 'feature_pre_filter': False,\n",
       " 'bagging_fraction': 0.9,\n",
       " 'drop_rate': 0.09,\n",
       " 'feature_fraction': 0.35,\n",
       " 'lambda_l1': 1.1127423904283282,\n",
       " 'lambda_l2': 0.0017447397071228327,\n",
       " 'max_drop': 90,\n",
       " 'min_data_in_leaf': 2200,\n",
       " 'num_iterations': 1900,\n",
       " 'path_smooth': 7.961233039539337,\n",
       " 'skip_drop': 0.55}"
      ]
     },
     "execution_count": 18,
     "metadata": {},
     "output_type": "execute_result"
    }
   ],
   "source": [
    "best_params = dict(study.best_params)\n",
    "best_params = {**default_params, **best_params}\n",
    "best_params"
   ]
  },
  {
   "cell_type": "markdown",
   "id": "3e18344d-c1f4-41fd-963a-af6f405add15",
   "metadata": {},
   "source": [
    "***"
   ]
  }
 ],
 "metadata": {
  "kernelspec": {
   "display_name": "Python 3 (ipykernel)",
   "language": "python",
   "name": "python3"
  },
  "language_info": {
   "codemirror_mode": {
    "name": "ipython",
    "version": 3
   },
   "file_extension": ".py",
   "mimetype": "text/x-python",
   "name": "python",
   "nbconvert_exporter": "python",
   "pygments_lexer": "ipython3",
   "version": "3.7.12"
  }
 },
 "nbformat": 4,
 "nbformat_minor": 5
}
