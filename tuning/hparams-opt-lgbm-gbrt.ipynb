{
 "cells": [
  {
   "cell_type": "code",
   "execution_count": 1,
   "id": "6fc57720-af91-4f34-b095-f7471ed11e78",
   "metadata": {},
   "outputs": [
    {
     "data": {
      "text/html": [
       "<style type='text/css'>\n",
       ".datatable table.frame { margin-bottom: 0; }\n",
       ".datatable table.frame thead { border-bottom: none; }\n",
       ".datatable table.frame tr.coltypes td {  color: #FFFFFF;  line-height: 6px;  padding: 0 0.5em;}\n",
       ".datatable .bool    { background: #DDDD99; }\n",
       ".datatable .object  { background: #565656; }\n",
       ".datatable .int     { background: #5D9E5D; }\n",
       ".datatable .float   { background: #4040CC; }\n",
       ".datatable .str     { background: #CC4040; }\n",
       ".datatable .time    { background: #40CC40; }\n",
       ".datatable .row_index {  background: var(--jp-border-color3);  border-right: 1px solid var(--jp-border-color0);  color: var(--jp-ui-font-color3);  font-size: 9px;}\n",
       ".datatable .frame tbody td { text-align: left; }\n",
       ".datatable .frame tr.coltypes .row_index {  background: var(--jp-border-color0);}\n",
       ".datatable th:nth-child(2) { padding-left: 12px; }\n",
       ".datatable .hellipsis {  color: var(--jp-cell-editor-border-color);}\n",
       ".datatable .vellipsis {  background: var(--jp-layout-color0);  color: var(--jp-cell-editor-border-color);}\n",
       ".datatable .na {  color: var(--jp-cell-editor-border-color);  font-size: 80%;}\n",
       ".datatable .sp {  opacity: 0.25;}\n",
       ".datatable .footer { font-size: 9px; }\n",
       ".datatable .frame_dimensions {  background: var(--jp-border-color3);  border-top: 1px solid var(--jp-border-color0);  color: var(--jp-ui-font-color3);  display: inline-block;  opacity: 0.6;  padding: 1px 10px 1px 5px;}\n",
       "</style>\n"
      ],
      "text/plain": [
       "<IPython.core.display.HTML object>"
      ]
     },
     "metadata": {},
     "output_type": "display_data"
    }
   ],
   "source": [
    "import numpy as np\n",
    "import pandas as pd\n",
    "from tqdm import tqdm\n",
    "from scipy import stats\n",
    "import lightgbm as lgb\n",
    "\n",
    "import optuna\n",
    "from optuna.visualization import (\n",
    "    plot_contour\n",
    "    , plot_edf\n",
    "    , plot_intermediate_values\n",
    "    , plot_optimization_history\n",
    "    , plot_parallel_coordinate\n",
    "    , plot_param_importances\n",
    "    , plot_slice\n",
    ")\n",
    "\n",
    "import matplotlib.pyplot as plt\n",
    "import seaborn as sns\n",
    "import plotly.express as px\n",
    "import plotly.io as pio\n",
    "\n",
    "pio.renderers.default = \"jupyterlab\""
   ]
  },
  {
   "cell_type": "markdown",
   "id": "ff6ecffc-64af-45c8-91d9-46ccb4b23fc5",
   "metadata": {},
   "source": [
    "***\n",
    "## loading data"
   ]
  },
  {
   "cell_type": "code",
   "execution_count": 2,
   "id": "e0c43e41-3f1e-4791-9eb1-61c9aaaf1ea4",
   "metadata": {},
   "outputs": [],
   "source": [
    "features = [f\"f_{i}\" for i in range(300)]\n",
    "\n",
    "features = pd.read_parquet(\"../ump-dataset/train.parquet\", columns=features)\n",
    "target = pd.read_parquet(\"../ump-dataset/train.parquet\", columns=[\"target\",])\n",
    "time = pd.read_parquet(\"../ump-dataset/train.parquet\", columns=[\"time_id\",])"
   ]
  },
  {
   "cell_type": "code",
   "execution_count": 3,
   "id": "b5f74807-0400-498f-b13e-ef9f31350f43",
   "metadata": {},
   "outputs": [
    {
     "data": {
      "text/plain": [
       "1211"
      ]
     },
     "execution_count": 3,
     "metadata": {},
     "output_type": "execute_result"
    }
   ],
   "source": [
    "time_ids = np.sort(time.time_id.unique())\n",
    "len(time_ids)"
   ]
  },
  {
   "cell_type": "code",
   "execution_count": 4,
   "id": "1b32639b-0fd2-413d-85ab-3625263ad3d1",
   "metadata": {},
   "outputs": [
    {
     "name": "stdout",
     "output_type": "stream",
     "text": [
      "time steps: 1211\n",
      "valid size: 363\n"
     ]
    }
   ],
   "source": [
    "n_time_steps = len(time_ids)\n",
    "print(\"time steps:\", n_time_steps)\n",
    "\n",
    "valid_prop = 0.3\n",
    "valid_size = int(valid_prop * n_time_steps)\n",
    "print(\"valid size:\", valid_size)"
   ]
  },
  {
   "cell_type": "code",
   "execution_count": 5,
   "id": "91ea263b-39e7-447f-aec7-83434aa97642",
   "metadata": {},
   "outputs": [],
   "source": [
    "valid_time_ids = time_ids[-valid_size:]"
   ]
  },
  {
   "cell_type": "code",
   "execution_count": 6,
   "id": "69ec1825-2a47-41e4-8df5-f106fa28930a",
   "metadata": {},
   "outputs": [],
   "source": [
    "train_idx = time.query(\"time_id not in @valid_time_ids\").index\n",
    "valid_idx = time.query(\"time_id in @valid_time_ids\").index\n",
    "\n",
    "# dataframes for metric calculation\n",
    "oof = target.loc[valid_idx,:].copy()\n",
    "oof[\"time_id\"] = time.loc[valid_idx,\"time_id\"]\n",
    "features_valid = features.loc[valid_idx,:]\n",
    "\n",
    "# input dataset for lgbm\n",
    "train_dset = lgb.Dataset(\n",
    "    data=features.loc[train_idx,:],\n",
    "    label=target.loc[train_idx,\"target\"].values,\n",
    "    free_raw_data=True\n",
    ")\n",
    "valid_dset = lgb.Dataset(\n",
    "    data=features.loc[valid_idx,:],\n",
    "    label=target.loc[valid_idx,\"target\"].values,\n",
    "    free_raw_data=True\n",
    ")"
   ]
  },
  {
   "cell_type": "code",
   "execution_count": 7,
   "id": "d6c17cfc-024a-4b0e-9ce7-6489afb5cc10",
   "metadata": {},
   "outputs": [
    {
     "data": {
      "text/plain": [
       "44"
      ]
     },
     "execution_count": 7,
     "metadata": {},
     "output_type": "execute_result"
    }
   ],
   "source": [
    "import gc\n",
    "gc.collect()"
   ]
  },
  {
   "cell_type": "markdown",
   "id": "c490dd11-7daf-4edf-ae91-f3c5b9ef067b",
   "metadata": {
    "tags": []
   },
   "source": [
    "***\n",
    "## Bayesian Optimization"
   ]
  },
  {
   "cell_type": "code",
   "execution_count": 8,
   "id": "6163bd46-a5bf-4188-911c-3980e8d8abac",
   "metadata": {},
   "outputs": [],
   "source": [
    "default_params = {\n",
    "    'objective': 'mse',\n",
    "    'metric': 'rmse',\n",
    "    'learning_rate': 0.05,\n",
    "    'num_leaves': 128,\n",
    "    'force_col_wise': True,\n",
    "    'bagging_freq': 1,\n",
    "    'seed': 19,\n",
    "    'verbosity': -1,\n",
    "    'first_metric_only': False,\n",
    "    'bin_construct_sample_cnt': int(1e8),\n",
    "    'feature_pre_filter' : False,\n",
    "}"
   ]
  },
  {
   "cell_type": "code",
   "execution_count": 9,
   "id": "78284f80-d571-4d8d-ab46-7788366648bd",
   "metadata": {},
   "outputs": [],
   "source": [
    "def pearsonr(preds: np.array, dset: lgb.Dataset):\n",
    "    \"\"\"\n",
    "    Helper function to compute Pearson correlation \n",
    "    on validation dataset for LightGBM as tracking metric.\n",
    "    Args:\n",
    "        preds: 1d-array with the model predictions\n",
    "        dset: LightGBM dataset with the labels\n",
    "    Returs:\n",
    "        Tuple with the corresponding output\n",
    "    \"\"\"\n",
    "    labels = dset.get_label()\n",
    "    return 'pearsonr', stats.pearsonr(preds, labels)[0], True"
   ]
  },
  {
   "cell_type": "code",
   "execution_count": 10,
   "id": "15a9486c-4a3a-4d88-9513-b17f2e52afe0",
   "metadata": {},
   "outputs": [],
   "source": [
    "def objective(trial):    \n",
    "    sampled_params = dict(\n",
    "        max_bin = 2**trial.suggest_int(\"max_bin_exp\", 6, 10) - 1,\n",
    "        feature_fraction = trial.suggest_discrete_uniform(\"feature_fraction\", 0.1, 0.5, 0.05),\n",
    "        bagging_fraction = trial.suggest_discrete_uniform(\"bagging_fraction\", 0.7, 1.0, 0.05),\n",
    "        lambda_l1 = trial.suggest_loguniform(\"lambda_l1\", 1e-3, 1e1),\n",
    "        lambda_l2 = trial.suggest_loguniform(\"lambda_l2\", 1e-3, 1e1),\n",
    "        min_data_in_leaf = trial.suggest_int(\"min_data_in_leaf\", 500, 2000, 100),\n",
    "        path_smooth = trial.suggest_float(\"path_smooth\", 0., 50.),\n",
    "    )\n",
    "    model_params = {**default_params, **sampled_params}\n",
    "    \n",
    "    model = lgb.train(\n",
    "        params=model_params,\n",
    "        train_set=train_dset,\n",
    "        num_boost_round=trial.suggest_int(\"num_iterations\", 500, 2000, 100),\n",
    "    )\n",
    "    \n",
    "    # metric calculation\n",
    "    _oof = oof.copy()\n",
    "    _oof[\"pred\"] = model.predict(features_valid)\n",
    "    corrs = _oof.groupby(\"time_id\").apply(lambda x: stats.pearsonr(x.target, x.pred)[0])\n",
    "    corr_mean = corrs.mean()\n",
    "    corr_std = corrs.std()\n",
    "    \n",
    "    return corr_mean            "
   ]
  },
  {
   "cell_type": "code",
   "execution_count": 11,
   "id": "fb17093c-f7d5-41d5-b0f0-7237dd0481a1",
   "metadata": {
    "tags": []
   },
   "outputs": [
    {
     "name": "stderr",
     "output_type": "stream",
     "text": [
      "\u001b[32m[I 2022-02-28 15:44:50,648]\u001b[0m Using an existing study with name 'lgbm-gbrt' instead of creating a new one.\u001b[0m\n"
     ]
    }
   ],
   "source": [
    "do_optimize = False\n",
    "\n",
    "study = optuna.create_study(\n",
    "    study_name=\"lgbm-gbrt\",\n",
    "    direction='maximize',\n",
    "    storage='sqlite:///lgbm-gbrt.db',\n",
    "    load_if_exists=True,\n",
    ")\n",
    "\n",
    "if do_optimize:\n",
    "    study.optimize(\n",
    "        objective, \n",
    "        n_trials=1000, \n",
    "        timeout=43200, # 24-hrs\n",
    "        n_jobs=1, \n",
    "        gc_after_trial=True,\n",
    "    ) "
   ]
  },
  {
   "cell_type": "code",
   "execution_count": 12,
   "id": "20c2b3d1-edc2-4f48-a129-a975013934b6",
   "metadata": {
    "tags": []
   },
   "outputs": [
    {
     "data": {
      "text/html": [
       "<div>\n",
       "<style scoped>\n",
       "    .dataframe tbody tr th:only-of-type {\n",
       "        vertical-align: middle;\n",
       "    }\n",
       "\n",
       "    .dataframe tbody tr th {\n",
       "        vertical-align: top;\n",
       "    }\n",
       "\n",
       "    .dataframe thead th {\n",
       "        text-align: right;\n",
       "    }\n",
       "</style>\n",
       "<table border=\"1\" class=\"dataframe\">\n",
       "  <thead>\n",
       "    <tr style=\"text-align: right;\">\n",
       "      <th></th>\n",
       "      <th>number</th>\n",
       "      <th>value</th>\n",
       "      <th>datetime_start</th>\n",
       "      <th>datetime_complete</th>\n",
       "      <th>duration</th>\n",
       "      <th>params_bagging_fraction</th>\n",
       "      <th>params_feature_fraction</th>\n",
       "      <th>params_lambda_l1</th>\n",
       "      <th>params_lambda_l2</th>\n",
       "      <th>params_max_bin_exp</th>\n",
       "      <th>params_min_data_in_leaf</th>\n",
       "      <th>params_num_iterations</th>\n",
       "      <th>params_path_smooth</th>\n",
       "      <th>state</th>\n",
       "    </tr>\n",
       "  </thead>\n",
       "  <tbody>\n",
       "    <tr>\n",
       "      <th>123</th>\n",
       "      <td>123</td>\n",
       "      <td>0.131592</td>\n",
       "      <td>2022-02-27 03:19:49.090188</td>\n",
       "      <td>2022-02-27 03:23:11.670457</td>\n",
       "      <td>0 days 00:03:22.580269</td>\n",
       "      <td>1.00</td>\n",
       "      <td>0.15</td>\n",
       "      <td>0.340640</td>\n",
       "      <td>3.248109</td>\n",
       "      <td>9</td>\n",
       "      <td>1900</td>\n",
       "      <td>800</td>\n",
       "      <td>48.076545</td>\n",
       "      <td>COMPLETE</td>\n",
       "    </tr>\n",
       "    <tr>\n",
       "      <th>112</th>\n",
       "      <td>112</td>\n",
       "      <td>0.131392</td>\n",
       "      <td>2022-02-27 02:07:13.242301</td>\n",
       "      <td>2022-02-27 02:13:27.220912</td>\n",
       "      <td>0 days 00:06:13.978611</td>\n",
       "      <td>1.00</td>\n",
       "      <td>0.30</td>\n",
       "      <td>0.202673</td>\n",
       "      <td>7.909433</td>\n",
       "      <td>10</td>\n",
       "      <td>2000</td>\n",
       "      <td>900</td>\n",
       "      <td>46.811813</td>\n",
       "      <td>COMPLETE</td>\n",
       "    </tr>\n",
       "    <tr>\n",
       "      <th>126</th>\n",
       "      <td>126</td>\n",
       "      <td>0.131216</td>\n",
       "      <td>2022-02-27 03:29:14.989655</td>\n",
       "      <td>2022-02-27 03:32:22.528475</td>\n",
       "      <td>0 days 00:03:07.538820</td>\n",
       "      <td>1.00</td>\n",
       "      <td>0.15</td>\n",
       "      <td>0.322399</td>\n",
       "      <td>9.836679</td>\n",
       "      <td>9</td>\n",
       "      <td>2000</td>\n",
       "      <td>700</td>\n",
       "      <td>25.598002</td>\n",
       "      <td>COMPLETE</td>\n",
       "    </tr>\n",
       "    <tr>\n",
       "      <th>125</th>\n",
       "      <td>125</td>\n",
       "      <td>0.131127</td>\n",
       "      <td>2022-02-27 03:26:07.319518</td>\n",
       "      <td>2022-02-27 03:29:14.880138</td>\n",
       "      <td>0 days 00:03:07.560620</td>\n",
       "      <td>1.00</td>\n",
       "      <td>0.15</td>\n",
       "      <td>0.589366</td>\n",
       "      <td>9.435494</td>\n",
       "      <td>9</td>\n",
       "      <td>2000</td>\n",
       "      <td>700</td>\n",
       "      <td>47.419782</td>\n",
       "      <td>COMPLETE</td>\n",
       "    </tr>\n",
       "    <tr>\n",
       "      <th>52</th>\n",
       "      <td>52</td>\n",
       "      <td>0.131066</td>\n",
       "      <td>2022-02-26 20:43:25.401627</td>\n",
       "      <td>2022-02-26 20:47:02.822879</td>\n",
       "      <td>0 days 00:03:37.421252</td>\n",
       "      <td>1.00</td>\n",
       "      <td>0.15</td>\n",
       "      <td>0.310993</td>\n",
       "      <td>0.013955</td>\n",
       "      <td>9</td>\n",
       "      <td>1700</td>\n",
       "      <td>900</td>\n",
       "      <td>24.421441</td>\n",
       "      <td>COMPLETE</td>\n",
       "    </tr>\n",
       "    <tr>\n",
       "      <th>128</th>\n",
       "      <td>128</td>\n",
       "      <td>0.131033</td>\n",
       "      <td>2022-02-27 03:34:59.333663</td>\n",
       "      <td>2022-02-27 03:37:49.057889</td>\n",
       "      <td>0 days 00:02:49.724226</td>\n",
       "      <td>1.00</td>\n",
       "      <td>0.15</td>\n",
       "      <td>0.459174</td>\n",
       "      <td>9.439906</td>\n",
       "      <td>9</td>\n",
       "      <td>2000</td>\n",
       "      <td>600</td>\n",
       "      <td>21.689652</td>\n",
       "      <td>COMPLETE</td>\n",
       "    </tr>\n",
       "    <tr>\n",
       "      <th>44</th>\n",
       "      <td>44</td>\n",
       "      <td>0.131005</td>\n",
       "      <td>2022-02-26 19:54:56.778942</td>\n",
       "      <td>2022-02-26 20:01:36.561373</td>\n",
       "      <td>0 days 00:06:39.782431</td>\n",
       "      <td>1.00</td>\n",
       "      <td>0.30</td>\n",
       "      <td>0.267045</td>\n",
       "      <td>4.456596</td>\n",
       "      <td>10</td>\n",
       "      <td>1800</td>\n",
       "      <td>1000</td>\n",
       "      <td>21.340842</td>\n",
       "      <td>COMPLETE</td>\n",
       "    </tr>\n",
       "    <tr>\n",
       "      <th>55</th>\n",
       "      <td>55</td>\n",
       "      <td>0.130976</td>\n",
       "      <td>2022-02-26 20:56:54.697353</td>\n",
       "      <td>2022-02-26 21:02:11.979504</td>\n",
       "      <td>0 days 00:05:17.282151</td>\n",
       "      <td>1.00</td>\n",
       "      <td>0.20</td>\n",
       "      <td>0.249238</td>\n",
       "      <td>0.012544</td>\n",
       "      <td>10</td>\n",
       "      <td>1900</td>\n",
       "      <td>1100</td>\n",
       "      <td>24.900167</td>\n",
       "      <td>COMPLETE</td>\n",
       "    </tr>\n",
       "    <tr>\n",
       "      <th>33</th>\n",
       "      <td>33</td>\n",
       "      <td>0.130949</td>\n",
       "      <td>2022-02-26 18:44:57.688180</td>\n",
       "      <td>2022-02-26 18:51:12.469741</td>\n",
       "      <td>0 days 00:06:14.781561</td>\n",
       "      <td>1.00</td>\n",
       "      <td>0.25</td>\n",
       "      <td>0.328501</td>\n",
       "      <td>4.277573</td>\n",
       "      <td>10</td>\n",
       "      <td>1600</td>\n",
       "      <td>1100</td>\n",
       "      <td>31.074651</td>\n",
       "      <td>COMPLETE</td>\n",
       "    </tr>\n",
       "    <tr>\n",
       "      <th>36</th>\n",
       "      <td>36</td>\n",
       "      <td>0.130938</td>\n",
       "      <td>2022-02-26 19:04:06.648102</td>\n",
       "      <td>2022-02-26 19:09:16.054779</td>\n",
       "      <td>0 days 00:05:09.406677</td>\n",
       "      <td>1.00</td>\n",
       "      <td>0.30</td>\n",
       "      <td>0.117371</td>\n",
       "      <td>5.432002</td>\n",
       "      <td>10</td>\n",
       "      <td>1800</td>\n",
       "      <td>700</td>\n",
       "      <td>22.868190</td>\n",
       "      <td>COMPLETE</td>\n",
       "    </tr>\n",
       "    <tr>\n",
       "      <th>90</th>\n",
       "      <td>90</td>\n",
       "      <td>0.130909</td>\n",
       "      <td>2022-02-26 23:58:46.123805</td>\n",
       "      <td>2022-02-27 00:05:48.437026</td>\n",
       "      <td>0 days 00:07:02.313221</td>\n",
       "      <td>1.00</td>\n",
       "      <td>0.35</td>\n",
       "      <td>0.116216</td>\n",
       "      <td>0.567898</td>\n",
       "      <td>10</td>\n",
       "      <td>1500</td>\n",
       "      <td>1000</td>\n",
       "      <td>47.922028</td>\n",
       "      <td>COMPLETE</td>\n",
       "    </tr>\n",
       "    <tr>\n",
       "      <th>130</th>\n",
       "      <td>130</td>\n",
       "      <td>0.130908</td>\n",
       "      <td>2022-02-27 03:40:38.418172</td>\n",
       "      <td>2022-02-27 03:43:45.738269</td>\n",
       "      <td>0 days 00:03:07.320097</td>\n",
       "      <td>1.00</td>\n",
       "      <td>0.15</td>\n",
       "      <td>0.734256</td>\n",
       "      <td>9.571911</td>\n",
       "      <td>9</td>\n",
       "      <td>2000</td>\n",
       "      <td>700</td>\n",
       "      <td>20.149595</td>\n",
       "      <td>COMPLETE</td>\n",
       "    </tr>\n",
       "    <tr>\n",
       "      <th>28</th>\n",
       "      <td>28</td>\n",
       "      <td>0.130888</td>\n",
       "      <td>2022-02-26 18:15:29.660541</td>\n",
       "      <td>2022-02-26 18:20:51.056898</td>\n",
       "      <td>0 days 00:05:21.396357</td>\n",
       "      <td>1.00</td>\n",
       "      <td>0.15</td>\n",
       "      <td>0.056447</td>\n",
       "      <td>0.219099</td>\n",
       "      <td>10</td>\n",
       "      <td>1100</td>\n",
       "      <td>1400</td>\n",
       "      <td>49.750240</td>\n",
       "      <td>COMPLETE</td>\n",
       "    </tr>\n",
       "    <tr>\n",
       "      <th>56</th>\n",
       "      <td>56</td>\n",
       "      <td>0.130883</td>\n",
       "      <td>2022-02-26 21:02:12.091991</td>\n",
       "      <td>2022-02-26 21:07:28.406827</td>\n",
       "      <td>0 days 00:05:16.314836</td>\n",
       "      <td>1.00</td>\n",
       "      <td>0.20</td>\n",
       "      <td>0.292818</td>\n",
       "      <td>0.008081</td>\n",
       "      <td>10</td>\n",
       "      <td>1900</td>\n",
       "      <td>1100</td>\n",
       "      <td>24.805832</td>\n",
       "      <td>COMPLETE</td>\n",
       "    </tr>\n",
       "    <tr>\n",
       "      <th>74</th>\n",
       "      <td>74</td>\n",
       "      <td>0.130809</td>\n",
       "      <td>2022-02-26 22:36:42.933816</td>\n",
       "      <td>2022-02-26 22:41:15.703107</td>\n",
       "      <td>0 days 00:04:32.769291</td>\n",
       "      <td>1.00</td>\n",
       "      <td>0.15</td>\n",
       "      <td>0.299576</td>\n",
       "      <td>7.245825</td>\n",
       "      <td>10</td>\n",
       "      <td>1200</td>\n",
       "      <td>1200</td>\n",
       "      <td>47.217732</td>\n",
       "      <td>COMPLETE</td>\n",
       "    </tr>\n",
       "    <tr>\n",
       "      <th>24</th>\n",
       "      <td>24</td>\n",
       "      <td>0.130801</td>\n",
       "      <td>2022-02-26 17:56:13.115669</td>\n",
       "      <td>2022-02-26 18:00:46.324798</td>\n",
       "      <td>0 days 00:04:33.209129</td>\n",
       "      <td>1.00</td>\n",
       "      <td>0.15</td>\n",
       "      <td>0.018240</td>\n",
       "      <td>7.843068</td>\n",
       "      <td>10</td>\n",
       "      <td>1100</td>\n",
       "      <td>1200</td>\n",
       "      <td>42.528848</td>\n",
       "      <td>COMPLETE</td>\n",
       "    </tr>\n",
       "    <tr>\n",
       "      <th>79</th>\n",
       "      <td>79</td>\n",
       "      <td>0.130768</td>\n",
       "      <td>2022-02-26 23:00:26.336437</td>\n",
       "      <td>2022-02-26 23:06:23.342439</td>\n",
       "      <td>0 days 00:05:57.006002</td>\n",
       "      <td>0.95</td>\n",
       "      <td>0.20</td>\n",
       "      <td>0.622989</td>\n",
       "      <td>0.026804</td>\n",
       "      <td>10</td>\n",
       "      <td>1900</td>\n",
       "      <td>1100</td>\n",
       "      <td>49.699193</td>\n",
       "      <td>COMPLETE</td>\n",
       "    </tr>\n",
       "    <tr>\n",
       "      <th>116</th>\n",
       "      <td>116</td>\n",
       "      <td>0.130755</td>\n",
       "      <td>2022-02-27 02:31:29.445199</td>\n",
       "      <td>2022-02-27 02:37:40.213170</td>\n",
       "      <td>0 days 00:06:10.767971</td>\n",
       "      <td>1.00</td>\n",
       "      <td>0.35</td>\n",
       "      <td>0.164973</td>\n",
       "      <td>5.243233</td>\n",
       "      <td>10</td>\n",
       "      <td>1900</td>\n",
       "      <td>800</td>\n",
       "      <td>46.395089</td>\n",
       "      <td>COMPLETE</td>\n",
       "    </tr>\n",
       "    <tr>\n",
       "      <th>72</th>\n",
       "      <td>72</td>\n",
       "      <td>0.130743</td>\n",
       "      <td>2022-02-26 22:27:13.973535</td>\n",
       "      <td>2022-02-26 22:32:48.599899</td>\n",
       "      <td>0 days 00:05:34.626364</td>\n",
       "      <td>1.00</td>\n",
       "      <td>0.25</td>\n",
       "      <td>0.248865</td>\n",
       "      <td>0.057071</td>\n",
       "      <td>10</td>\n",
       "      <td>2000</td>\n",
       "      <td>900</td>\n",
       "      <td>30.023392</td>\n",
       "      <td>COMPLETE</td>\n",
       "    </tr>\n",
       "    <tr>\n",
       "      <th>129</th>\n",
       "      <td>129</td>\n",
       "      <td>0.130695</td>\n",
       "      <td>2022-02-27 03:37:49.232569</td>\n",
       "      <td>2022-02-27 03:40:38.298209</td>\n",
       "      <td>0 days 00:02:49.065640</td>\n",
       "      <td>1.00</td>\n",
       "      <td>0.15</td>\n",
       "      <td>0.450729</td>\n",
       "      <td>9.211209</td>\n",
       "      <td>9</td>\n",
       "      <td>2000</td>\n",
       "      <td>600</td>\n",
       "      <td>22.098554</td>\n",
       "      <td>COMPLETE</td>\n",
       "    </tr>\n",
       "  </tbody>\n",
       "</table>\n",
       "</div>"
      ],
      "text/plain": [
       "     number     value             datetime_start          datetime_complete  \\\n",
       "123     123  0.131592 2022-02-27 03:19:49.090188 2022-02-27 03:23:11.670457   \n",
       "112     112  0.131392 2022-02-27 02:07:13.242301 2022-02-27 02:13:27.220912   \n",
       "126     126  0.131216 2022-02-27 03:29:14.989655 2022-02-27 03:32:22.528475   \n",
       "125     125  0.131127 2022-02-27 03:26:07.319518 2022-02-27 03:29:14.880138   \n",
       "52       52  0.131066 2022-02-26 20:43:25.401627 2022-02-26 20:47:02.822879   \n",
       "128     128  0.131033 2022-02-27 03:34:59.333663 2022-02-27 03:37:49.057889   \n",
       "44       44  0.131005 2022-02-26 19:54:56.778942 2022-02-26 20:01:36.561373   \n",
       "55       55  0.130976 2022-02-26 20:56:54.697353 2022-02-26 21:02:11.979504   \n",
       "33       33  0.130949 2022-02-26 18:44:57.688180 2022-02-26 18:51:12.469741   \n",
       "36       36  0.130938 2022-02-26 19:04:06.648102 2022-02-26 19:09:16.054779   \n",
       "90       90  0.130909 2022-02-26 23:58:46.123805 2022-02-27 00:05:48.437026   \n",
       "130     130  0.130908 2022-02-27 03:40:38.418172 2022-02-27 03:43:45.738269   \n",
       "28       28  0.130888 2022-02-26 18:15:29.660541 2022-02-26 18:20:51.056898   \n",
       "56       56  0.130883 2022-02-26 21:02:12.091991 2022-02-26 21:07:28.406827   \n",
       "74       74  0.130809 2022-02-26 22:36:42.933816 2022-02-26 22:41:15.703107   \n",
       "24       24  0.130801 2022-02-26 17:56:13.115669 2022-02-26 18:00:46.324798   \n",
       "79       79  0.130768 2022-02-26 23:00:26.336437 2022-02-26 23:06:23.342439   \n",
       "116     116  0.130755 2022-02-27 02:31:29.445199 2022-02-27 02:37:40.213170   \n",
       "72       72  0.130743 2022-02-26 22:27:13.973535 2022-02-26 22:32:48.599899   \n",
       "129     129  0.130695 2022-02-27 03:37:49.232569 2022-02-27 03:40:38.298209   \n",
       "\n",
       "                  duration  params_bagging_fraction  params_feature_fraction  \\\n",
       "123 0 days 00:03:22.580269                     1.00                     0.15   \n",
       "112 0 days 00:06:13.978611                     1.00                     0.30   \n",
       "126 0 days 00:03:07.538820                     1.00                     0.15   \n",
       "125 0 days 00:03:07.560620                     1.00                     0.15   \n",
       "52  0 days 00:03:37.421252                     1.00                     0.15   \n",
       "128 0 days 00:02:49.724226                     1.00                     0.15   \n",
       "44  0 days 00:06:39.782431                     1.00                     0.30   \n",
       "55  0 days 00:05:17.282151                     1.00                     0.20   \n",
       "33  0 days 00:06:14.781561                     1.00                     0.25   \n",
       "36  0 days 00:05:09.406677                     1.00                     0.30   \n",
       "90  0 days 00:07:02.313221                     1.00                     0.35   \n",
       "130 0 days 00:03:07.320097                     1.00                     0.15   \n",
       "28  0 days 00:05:21.396357                     1.00                     0.15   \n",
       "56  0 days 00:05:16.314836                     1.00                     0.20   \n",
       "74  0 days 00:04:32.769291                     1.00                     0.15   \n",
       "24  0 days 00:04:33.209129                     1.00                     0.15   \n",
       "79  0 days 00:05:57.006002                     0.95                     0.20   \n",
       "116 0 days 00:06:10.767971                     1.00                     0.35   \n",
       "72  0 days 00:05:34.626364                     1.00                     0.25   \n",
       "129 0 days 00:02:49.065640                     1.00                     0.15   \n",
       "\n",
       "     params_lambda_l1  params_lambda_l2  params_max_bin_exp  \\\n",
       "123          0.340640          3.248109                   9   \n",
       "112          0.202673          7.909433                  10   \n",
       "126          0.322399          9.836679                   9   \n",
       "125          0.589366          9.435494                   9   \n",
       "52           0.310993          0.013955                   9   \n",
       "128          0.459174          9.439906                   9   \n",
       "44           0.267045          4.456596                  10   \n",
       "55           0.249238          0.012544                  10   \n",
       "33           0.328501          4.277573                  10   \n",
       "36           0.117371          5.432002                  10   \n",
       "90           0.116216          0.567898                  10   \n",
       "130          0.734256          9.571911                   9   \n",
       "28           0.056447          0.219099                  10   \n",
       "56           0.292818          0.008081                  10   \n",
       "74           0.299576          7.245825                  10   \n",
       "24           0.018240          7.843068                  10   \n",
       "79           0.622989          0.026804                  10   \n",
       "116          0.164973          5.243233                  10   \n",
       "72           0.248865          0.057071                  10   \n",
       "129          0.450729          9.211209                   9   \n",
       "\n",
       "     params_min_data_in_leaf  params_num_iterations  params_path_smooth  \\\n",
       "123                     1900                    800           48.076545   \n",
       "112                     2000                    900           46.811813   \n",
       "126                     2000                    700           25.598002   \n",
       "125                     2000                    700           47.419782   \n",
       "52                      1700                    900           24.421441   \n",
       "128                     2000                    600           21.689652   \n",
       "44                      1800                   1000           21.340842   \n",
       "55                      1900                   1100           24.900167   \n",
       "33                      1600                   1100           31.074651   \n",
       "36                      1800                    700           22.868190   \n",
       "90                      1500                   1000           47.922028   \n",
       "130                     2000                    700           20.149595   \n",
       "28                      1100                   1400           49.750240   \n",
       "56                      1900                   1100           24.805832   \n",
       "74                      1200                   1200           47.217732   \n",
       "24                      1100                   1200           42.528848   \n",
       "79                      1900                   1100           49.699193   \n",
       "116                     1900                    800           46.395089   \n",
       "72                      2000                    900           30.023392   \n",
       "129                     2000                    600           22.098554   \n",
       "\n",
       "        state  \n",
       "123  COMPLETE  \n",
       "112  COMPLETE  \n",
       "126  COMPLETE  \n",
       "125  COMPLETE  \n",
       "52   COMPLETE  \n",
       "128  COMPLETE  \n",
       "44   COMPLETE  \n",
       "55   COMPLETE  \n",
       "33   COMPLETE  \n",
       "36   COMPLETE  \n",
       "90   COMPLETE  \n",
       "130  COMPLETE  \n",
       "28   COMPLETE  \n",
       "56   COMPLETE  \n",
       "74   COMPLETE  \n",
       "24   COMPLETE  \n",
       "79   COMPLETE  \n",
       "116  COMPLETE  \n",
       "72   COMPLETE  \n",
       "129  COMPLETE  "
      ]
     },
     "execution_count": 12,
     "metadata": {},
     "output_type": "execute_result"
    }
   ],
   "source": [
    "study.trials_dataframe().sort_values(\"value\", ascending=False).head(20)"
   ]
  },
  {
   "cell_type": "code",
   "execution_count": 13,
   "id": "de4d361a-1d7d-46da-8f20-fcd379f8b476",
   "metadata": {
    "tags": []
   },
   "outputs": [
    {
     "data": {
      "application/vnd.plotly.v1+json": {
       "config": {
        "plotlyServerURL": "https://plot.ly"
       },
       "data": [
        {
         "mode": "markers",
         "name": "Objective Value",
         "type": "scatter",
         "x": [
          1,
          3,
          5,
          6,
          7,
          8,
          9,
          10,
          11,
          12,
          13,
          14,
          15,
          16,
          17,
          18,
          19,
          20,
          21,
          22,
          23,
          24,
          25,
          26,
          27,
          28,
          29,
          30,
          31,
          32,
          33,
          34,
          35,
          36,
          37,
          38,
          39,
          40,
          41,
          42,
          43,
          44,
          45,
          46,
          47,
          48,
          49,
          50,
          51,
          52,
          53,
          54,
          55,
          56,
          57,
          58,
          59,
          60,
          61,
          62,
          63,
          64,
          65,
          66,
          67,
          68,
          69,
          70,
          71,
          72,
          73,
          74,
          75,
          76,
          77,
          78,
          79,
          80,
          81,
          82,
          83,
          84,
          85,
          86,
          87,
          88,
          89,
          90,
          91,
          92,
          93,
          94,
          95,
          96,
          97,
          98,
          99,
          100,
          101,
          102,
          103,
          104,
          105,
          106,
          107,
          108,
          109,
          110,
          111,
          112,
          113,
          114,
          115,
          116,
          117,
          118,
          119,
          120,
          121,
          122,
          123,
          124,
          125,
          126,
          127,
          128,
          129,
          130
         ],
         "y": [
          0.1295254243272344,
          0.1283417614163213,
          0.12921525070872317,
          0.12660544236544494,
          0.129570030619593,
          0.12663289787296278,
          0.12792114433547705,
          0.12837824786513535,
          0.12854041473562297,
          0.1274708638299065,
          0.1270948302774449,
          0.12872616505683032,
          0.12807707043040834,
          0.12638627137967814,
          0.12838914882853916,
          0.12818060963313363,
          0.12755549185389953,
          0.12542032998214347,
          0.12979852116095536,
          0.12979436801228525,
          0.12819805951291524,
          0.1308014336200209,
          0.12939237407932644,
          0.12857099678815775,
          0.12921102486361138,
          0.13088776371107036,
          0.12973606782128444,
          0.12786020445311239,
          0.1284341570451598,
          0.12854950578610938,
          0.13094867969810384,
          0.1300689148823573,
          0.1306581165244635,
          0.13093813004634597,
          0.1293851811640757,
          0.12888318500849957,
          0.1299336001990346,
          0.1293757651014964,
          0.1283236545155534,
          0.1283610281987761,
          0.1303668958313886,
          0.13100483843632926,
          0.12951168965391802,
          0.1303429840366965,
          0.12989771047867635,
          0.12987643457217768,
          0.12905236933239184,
          0.12796383388420965,
          0.12735609697786715,
          0.13106607129637513,
          0.12788651907853732,
          0.13040810277090567,
          0.13097601235007514,
          0.13088297494349035,
          0.13004849827230439,
          0.13030555706611863,
          0.12995382139705136,
          0.12953984386657305,
          0.12905213760565223,
          0.13042456420516088,
          0.1306472188954556,
          0.13006575373022672,
          0.12999759310352765,
          0.12931328348554966,
          0.12985643936292798,
          0.12896697202294016,
          0.13026536876719608,
          0.12701336131704868,
          0.12861460180814444,
          0.1307428762218166,
          0.12978902937636647,
          0.13080857562048323,
          0.12957272025868627,
          0.1294182591841152,
          0.1291425972535696,
          0.12943304036505457,
          0.130768311179137,
          0.12848857930350624,
          0.12821940113774674,
          0.129074778241655,
          0.12793518758457229,
          0.1291919629308703,
          0.1306418937651706,
          0.12842040351870312,
          0.13002457769176742,
          0.13015113774717646,
          0.1292805732649052,
          0.1309086835693687,
          0.13063031145836276,
          0.12761263052747837,
          0.12786386046498302,
          0.12923818773906418,
          0.12992719880669726,
          0.12865816721311119,
          0.12932744763201554,
          0.13001772718725457,
          0.1301610688172244,
          0.1292956023158539,
          0.12943644568276752,
          0.1304551989066389,
          0.13045214927097273,
          0.12957197474005824,
          0.13002799504007173,
          0.12910903290871353,
          0.13013926576703236,
          0.12911525720673864,
          0.13054433966338547,
          0.12773737978706462,
          0.12883429301155264,
          0.13139171637315106,
          0.12930337256465232,
          0.13021657546417661,
          0.12959949173312418,
          0.130754728361682,
          0.13020214573155295,
          0.1300133086233428,
          0.13030673573098864,
          0.129552270907198,
          0.127858055312099,
          0.12966342632755798,
          0.13159248002565999,
          0.12993052735561605,
          0.1311267256113657,
          0.1312161855693037,
          0.12802550427368367,
          0.13103268185360364,
          0.13069529055095386,
          0.13090775337314503
         ]
        },
        {
         "name": "Best Value",
         "type": "scatter",
         "x": [
          1,
          3,
          5,
          6,
          7,
          8,
          9,
          10,
          11,
          12,
          13,
          14,
          15,
          16,
          17,
          18,
          19,
          20,
          21,
          22,
          23,
          24,
          25,
          26,
          27,
          28,
          29,
          30,
          31,
          32,
          33,
          34,
          35,
          36,
          37,
          38,
          39,
          40,
          41,
          42,
          43,
          44,
          45,
          46,
          47,
          48,
          49,
          50,
          51,
          52,
          53,
          54,
          55,
          56,
          57,
          58,
          59,
          60,
          61,
          62,
          63,
          64,
          65,
          66,
          67,
          68,
          69,
          70,
          71,
          72,
          73,
          74,
          75,
          76,
          77,
          78,
          79,
          80,
          81,
          82,
          83,
          84,
          85,
          86,
          87,
          88,
          89,
          90,
          91,
          92,
          93,
          94,
          95,
          96,
          97,
          98,
          99,
          100,
          101,
          102,
          103,
          104,
          105,
          106,
          107,
          108,
          109,
          110,
          111,
          112,
          113,
          114,
          115,
          116,
          117,
          118,
          119,
          120,
          121,
          122,
          123,
          124,
          125,
          126,
          127,
          128,
          129,
          130
         ],
         "y": [
          0.1295254243272344,
          0.1295254243272344,
          0.1295254243272344,
          0.1295254243272344,
          0.129570030619593,
          0.129570030619593,
          0.129570030619593,
          0.129570030619593,
          0.129570030619593,
          0.129570030619593,
          0.129570030619593,
          0.129570030619593,
          0.129570030619593,
          0.129570030619593,
          0.129570030619593,
          0.129570030619593,
          0.129570030619593,
          0.129570030619593,
          0.12979852116095536,
          0.12979852116095536,
          0.12979852116095536,
          0.1308014336200209,
          0.1308014336200209,
          0.1308014336200209,
          0.1308014336200209,
          0.13088776371107036,
          0.13088776371107036,
          0.13088776371107036,
          0.13088776371107036,
          0.13088776371107036,
          0.13094867969810384,
          0.13094867969810384,
          0.13094867969810384,
          0.13094867969810384,
          0.13094867969810384,
          0.13094867969810384,
          0.13094867969810384,
          0.13094867969810384,
          0.13094867969810384,
          0.13094867969810384,
          0.13094867969810384,
          0.13100483843632926,
          0.13100483843632926,
          0.13100483843632926,
          0.13100483843632926,
          0.13100483843632926,
          0.13100483843632926,
          0.13100483843632926,
          0.13100483843632926,
          0.13106607129637513,
          0.13106607129637513,
          0.13106607129637513,
          0.13106607129637513,
          0.13106607129637513,
          0.13106607129637513,
          0.13106607129637513,
          0.13106607129637513,
          0.13106607129637513,
          0.13106607129637513,
          0.13106607129637513,
          0.13106607129637513,
          0.13106607129637513,
          0.13106607129637513,
          0.13106607129637513,
          0.13106607129637513,
          0.13106607129637513,
          0.13106607129637513,
          0.13106607129637513,
          0.13106607129637513,
          0.13106607129637513,
          0.13106607129637513,
          0.13106607129637513,
          0.13106607129637513,
          0.13106607129637513,
          0.13106607129637513,
          0.13106607129637513,
          0.13106607129637513,
          0.13106607129637513,
          0.13106607129637513,
          0.13106607129637513,
          0.13106607129637513,
          0.13106607129637513,
          0.13106607129637513,
          0.13106607129637513,
          0.13106607129637513,
          0.13106607129637513,
          0.13106607129637513,
          0.13106607129637513,
          0.13106607129637513,
          0.13106607129637513,
          0.13106607129637513,
          0.13106607129637513,
          0.13106607129637513,
          0.13106607129637513,
          0.13106607129637513,
          0.13106607129637513,
          0.13106607129637513,
          0.13106607129637513,
          0.13106607129637513,
          0.13106607129637513,
          0.13106607129637513,
          0.13106607129637513,
          0.13106607129637513,
          0.13106607129637513,
          0.13106607129637513,
          0.13106607129637513,
          0.13106607129637513,
          0.13106607129637513,
          0.13106607129637513,
          0.13139171637315106,
          0.13139171637315106,
          0.13139171637315106,
          0.13139171637315106,
          0.13139171637315106,
          0.13139171637315106,
          0.13139171637315106,
          0.13139171637315106,
          0.13139171637315106,
          0.13139171637315106,
          0.13139171637315106,
          0.13159248002565999,
          0.13159248002565999,
          0.13159248002565999,
          0.13159248002565999,
          0.13159248002565999,
          0.13159248002565999,
          0.13159248002565999,
          0.13159248002565999
         ]
        }
       ],
       "layout": {
        "autosize": true,
        "template": {
         "data": {
          "bar": [
           {
            "error_x": {
             "color": "#2a3f5f"
            },
            "error_y": {
             "color": "#2a3f5f"
            },
            "marker": {
             "line": {
              "color": "#E5ECF6",
              "width": 0.5
             },
             "pattern": {
              "fillmode": "overlay",
              "size": 10,
              "solidity": 0.2
             }
            },
            "type": "bar"
           }
          ],
          "barpolar": [
           {
            "marker": {
             "line": {
              "color": "#E5ECF6",
              "width": 0.5
             },
             "pattern": {
              "fillmode": "overlay",
              "size": 10,
              "solidity": 0.2
             }
            },
            "type": "barpolar"
           }
          ],
          "carpet": [
           {
            "aaxis": {
             "endlinecolor": "#2a3f5f",
             "gridcolor": "white",
             "linecolor": "white",
             "minorgridcolor": "white",
             "startlinecolor": "#2a3f5f"
            },
            "baxis": {
             "endlinecolor": "#2a3f5f",
             "gridcolor": "white",
             "linecolor": "white",
             "minorgridcolor": "white",
             "startlinecolor": "#2a3f5f"
            },
            "type": "carpet"
           }
          ],
          "choropleth": [
           {
            "colorbar": {
             "outlinewidth": 0,
             "ticks": ""
            },
            "type": "choropleth"
           }
          ],
          "contour": [
           {
            "colorbar": {
             "outlinewidth": 0,
             "ticks": ""
            },
            "colorscale": [
             [
              0,
              "#0d0887"
             ],
             [
              0.1111111111111111,
              "#46039f"
             ],
             [
              0.2222222222222222,
              "#7201a8"
             ],
             [
              0.3333333333333333,
              "#9c179e"
             ],
             [
              0.4444444444444444,
              "#bd3786"
             ],
             [
              0.5555555555555556,
              "#d8576b"
             ],
             [
              0.6666666666666666,
              "#ed7953"
             ],
             [
              0.7777777777777778,
              "#fb9f3a"
             ],
             [
              0.8888888888888888,
              "#fdca26"
             ],
             [
              1,
              "#f0f921"
             ]
            ],
            "type": "contour"
           }
          ],
          "contourcarpet": [
           {
            "colorbar": {
             "outlinewidth": 0,
             "ticks": ""
            },
            "type": "contourcarpet"
           }
          ],
          "heatmap": [
           {
            "colorbar": {
             "outlinewidth": 0,
             "ticks": ""
            },
            "colorscale": [
             [
              0,
              "#0d0887"
             ],
             [
              0.1111111111111111,
              "#46039f"
             ],
             [
              0.2222222222222222,
              "#7201a8"
             ],
             [
              0.3333333333333333,
              "#9c179e"
             ],
             [
              0.4444444444444444,
              "#bd3786"
             ],
             [
              0.5555555555555556,
              "#d8576b"
             ],
             [
              0.6666666666666666,
              "#ed7953"
             ],
             [
              0.7777777777777778,
              "#fb9f3a"
             ],
             [
              0.8888888888888888,
              "#fdca26"
             ],
             [
              1,
              "#f0f921"
             ]
            ],
            "type": "heatmap"
           }
          ],
          "heatmapgl": [
           {
            "colorbar": {
             "outlinewidth": 0,
             "ticks": ""
            },
            "colorscale": [
             [
              0,
              "#0d0887"
             ],
             [
              0.1111111111111111,
              "#46039f"
             ],
             [
              0.2222222222222222,
              "#7201a8"
             ],
             [
              0.3333333333333333,
              "#9c179e"
             ],
             [
              0.4444444444444444,
              "#bd3786"
             ],
             [
              0.5555555555555556,
              "#d8576b"
             ],
             [
              0.6666666666666666,
              "#ed7953"
             ],
             [
              0.7777777777777778,
              "#fb9f3a"
             ],
             [
              0.8888888888888888,
              "#fdca26"
             ],
             [
              1,
              "#f0f921"
             ]
            ],
            "type": "heatmapgl"
           }
          ],
          "histogram": [
           {
            "marker": {
             "pattern": {
              "fillmode": "overlay",
              "size": 10,
              "solidity": 0.2
             }
            },
            "type": "histogram"
           }
          ],
          "histogram2d": [
           {
            "colorbar": {
             "outlinewidth": 0,
             "ticks": ""
            },
            "colorscale": [
             [
              0,
              "#0d0887"
             ],
             [
              0.1111111111111111,
              "#46039f"
             ],
             [
              0.2222222222222222,
              "#7201a8"
             ],
             [
              0.3333333333333333,
              "#9c179e"
             ],
             [
              0.4444444444444444,
              "#bd3786"
             ],
             [
              0.5555555555555556,
              "#d8576b"
             ],
             [
              0.6666666666666666,
              "#ed7953"
             ],
             [
              0.7777777777777778,
              "#fb9f3a"
             ],
             [
              0.8888888888888888,
              "#fdca26"
             ],
             [
              1,
              "#f0f921"
             ]
            ],
            "type": "histogram2d"
           }
          ],
          "histogram2dcontour": [
           {
            "colorbar": {
             "outlinewidth": 0,
             "ticks": ""
            },
            "colorscale": [
             [
              0,
              "#0d0887"
             ],
             [
              0.1111111111111111,
              "#46039f"
             ],
             [
              0.2222222222222222,
              "#7201a8"
             ],
             [
              0.3333333333333333,
              "#9c179e"
             ],
             [
              0.4444444444444444,
              "#bd3786"
             ],
             [
              0.5555555555555556,
              "#d8576b"
             ],
             [
              0.6666666666666666,
              "#ed7953"
             ],
             [
              0.7777777777777778,
              "#fb9f3a"
             ],
             [
              0.8888888888888888,
              "#fdca26"
             ],
             [
              1,
              "#f0f921"
             ]
            ],
            "type": "histogram2dcontour"
           }
          ],
          "mesh3d": [
           {
            "colorbar": {
             "outlinewidth": 0,
             "ticks": ""
            },
            "type": "mesh3d"
           }
          ],
          "parcoords": [
           {
            "line": {
             "colorbar": {
              "outlinewidth": 0,
              "ticks": ""
             }
            },
            "type": "parcoords"
           }
          ],
          "pie": [
           {
            "automargin": true,
            "type": "pie"
           }
          ],
          "scatter": [
           {
            "marker": {
             "colorbar": {
              "outlinewidth": 0,
              "ticks": ""
             }
            },
            "type": "scatter"
           }
          ],
          "scatter3d": [
           {
            "line": {
             "colorbar": {
              "outlinewidth": 0,
              "ticks": ""
             }
            },
            "marker": {
             "colorbar": {
              "outlinewidth": 0,
              "ticks": ""
             }
            },
            "type": "scatter3d"
           }
          ],
          "scattercarpet": [
           {
            "marker": {
             "colorbar": {
              "outlinewidth": 0,
              "ticks": ""
             }
            },
            "type": "scattercarpet"
           }
          ],
          "scattergeo": [
           {
            "marker": {
             "colorbar": {
              "outlinewidth": 0,
              "ticks": ""
             }
            },
            "type": "scattergeo"
           }
          ],
          "scattergl": [
           {
            "marker": {
             "colorbar": {
              "outlinewidth": 0,
              "ticks": ""
             }
            },
            "type": "scattergl"
           }
          ],
          "scattermapbox": [
           {
            "marker": {
             "colorbar": {
              "outlinewidth": 0,
              "ticks": ""
             }
            },
            "type": "scattermapbox"
           }
          ],
          "scatterpolar": [
           {
            "marker": {
             "colorbar": {
              "outlinewidth": 0,
              "ticks": ""
             }
            },
            "type": "scatterpolar"
           }
          ],
          "scatterpolargl": [
           {
            "marker": {
             "colorbar": {
              "outlinewidth": 0,
              "ticks": ""
             }
            },
            "type": "scatterpolargl"
           }
          ],
          "scatterternary": [
           {
            "marker": {
             "colorbar": {
              "outlinewidth": 0,
              "ticks": ""
             }
            },
            "type": "scatterternary"
           }
          ],
          "surface": [
           {
            "colorbar": {
             "outlinewidth": 0,
             "ticks": ""
            },
            "colorscale": [
             [
              0,
              "#0d0887"
             ],
             [
              0.1111111111111111,
              "#46039f"
             ],
             [
              0.2222222222222222,
              "#7201a8"
             ],
             [
              0.3333333333333333,
              "#9c179e"
             ],
             [
              0.4444444444444444,
              "#bd3786"
             ],
             [
              0.5555555555555556,
              "#d8576b"
             ],
             [
              0.6666666666666666,
              "#ed7953"
             ],
             [
              0.7777777777777778,
              "#fb9f3a"
             ],
             [
              0.8888888888888888,
              "#fdca26"
             ],
             [
              1,
              "#f0f921"
             ]
            ],
            "type": "surface"
           }
          ],
          "table": [
           {
            "cells": {
             "fill": {
              "color": "#EBF0F8"
             },
             "line": {
              "color": "white"
             }
            },
            "header": {
             "fill": {
              "color": "#C8D4E3"
             },
             "line": {
              "color": "white"
             }
            },
            "type": "table"
           }
          ]
         },
         "layout": {
          "annotationdefaults": {
           "arrowcolor": "#2a3f5f",
           "arrowhead": 0,
           "arrowwidth": 1
          },
          "autotypenumbers": "strict",
          "coloraxis": {
           "colorbar": {
            "outlinewidth": 0,
            "ticks": ""
           }
          },
          "colorscale": {
           "diverging": [
            [
             0,
             "#8e0152"
            ],
            [
             0.1,
             "#c51b7d"
            ],
            [
             0.2,
             "#de77ae"
            ],
            [
             0.3,
             "#f1b6da"
            ],
            [
             0.4,
             "#fde0ef"
            ],
            [
             0.5,
             "#f7f7f7"
            ],
            [
             0.6,
             "#e6f5d0"
            ],
            [
             0.7,
             "#b8e186"
            ],
            [
             0.8,
             "#7fbc41"
            ],
            [
             0.9,
             "#4d9221"
            ],
            [
             1,
             "#276419"
            ]
           ],
           "sequential": [
            [
             0,
             "#0d0887"
            ],
            [
             0.1111111111111111,
             "#46039f"
            ],
            [
             0.2222222222222222,
             "#7201a8"
            ],
            [
             0.3333333333333333,
             "#9c179e"
            ],
            [
             0.4444444444444444,
             "#bd3786"
            ],
            [
             0.5555555555555556,
             "#d8576b"
            ],
            [
             0.6666666666666666,
             "#ed7953"
            ],
            [
             0.7777777777777778,
             "#fb9f3a"
            ],
            [
             0.8888888888888888,
             "#fdca26"
            ],
            [
             1,
             "#f0f921"
            ]
           ],
           "sequentialminus": [
            [
             0,
             "#0d0887"
            ],
            [
             0.1111111111111111,
             "#46039f"
            ],
            [
             0.2222222222222222,
             "#7201a8"
            ],
            [
             0.3333333333333333,
             "#9c179e"
            ],
            [
             0.4444444444444444,
             "#bd3786"
            ],
            [
             0.5555555555555556,
             "#d8576b"
            ],
            [
             0.6666666666666666,
             "#ed7953"
            ],
            [
             0.7777777777777778,
             "#fb9f3a"
            ],
            [
             0.8888888888888888,
             "#fdca26"
            ],
            [
             1,
             "#f0f921"
            ]
           ]
          },
          "colorway": [
           "#636efa",
           "#EF553B",
           "#00cc96",
           "#ab63fa",
           "#FFA15A",
           "#19d3f3",
           "#FF6692",
           "#B6E880",
           "#FF97FF",
           "#FECB52"
          ],
          "font": {
           "color": "#2a3f5f"
          },
          "geo": {
           "bgcolor": "white",
           "lakecolor": "white",
           "landcolor": "#E5ECF6",
           "showlakes": true,
           "showland": true,
           "subunitcolor": "white"
          },
          "hoverlabel": {
           "align": "left"
          },
          "hovermode": "closest",
          "mapbox": {
           "style": "light"
          },
          "paper_bgcolor": "white",
          "plot_bgcolor": "#E5ECF6",
          "polar": {
           "angularaxis": {
            "gridcolor": "white",
            "linecolor": "white",
            "ticks": ""
           },
           "bgcolor": "#E5ECF6",
           "radialaxis": {
            "gridcolor": "white",
            "linecolor": "white",
            "ticks": ""
           }
          },
          "scene": {
           "xaxis": {
            "backgroundcolor": "#E5ECF6",
            "gridcolor": "white",
            "gridwidth": 2,
            "linecolor": "white",
            "showbackground": true,
            "ticks": "",
            "zerolinecolor": "white"
           },
           "yaxis": {
            "backgroundcolor": "#E5ECF6",
            "gridcolor": "white",
            "gridwidth": 2,
            "linecolor": "white",
            "showbackground": true,
            "ticks": "",
            "zerolinecolor": "white"
           },
           "zaxis": {
            "backgroundcolor": "#E5ECF6",
            "gridcolor": "white",
            "gridwidth": 2,
            "linecolor": "white",
            "showbackground": true,
            "ticks": "",
            "zerolinecolor": "white"
           }
          },
          "shapedefaults": {
           "line": {
            "color": "#2a3f5f"
           }
          },
          "ternary": {
           "aaxis": {
            "gridcolor": "white",
            "linecolor": "white",
            "ticks": ""
           },
           "baxis": {
            "gridcolor": "white",
            "linecolor": "white",
            "ticks": ""
           },
           "bgcolor": "#E5ECF6",
           "caxis": {
            "gridcolor": "white",
            "linecolor": "white",
            "ticks": ""
           }
          },
          "title": {
           "x": 0.05
          },
          "xaxis": {
           "automargin": true,
           "gridcolor": "white",
           "linecolor": "white",
           "ticks": "",
           "title": {
            "standoff": 15
           },
           "zerolinecolor": "white",
           "zerolinewidth": 2
          },
          "yaxis": {
           "automargin": true,
           "gridcolor": "white",
           "linecolor": "white",
           "ticks": "",
           "title": {
            "standoff": 15
           },
           "zerolinecolor": "white",
           "zerolinewidth": 2
          }
         }
        },
        "title": {
         "text": "Optimization History Plot"
        },
        "xaxis": {
         "autorange": true,
         "range": [
          -6.95803886925795,
          137.95803886925796
         ],
         "title": {
          "text": "#Trials"
         },
         "type": "linear"
        },
        "yaxis": {
         "autorange": true,
         "range": [
          0.12491097779408629,
          0.13210183221371719
         ],
         "title": {
          "text": "Objective Value"
         },
         "type": "linear"
        }
       }
      },
      "image/png": "[encoded data removed]"
     },
     "metadata": {},
     "output_type": "display_data"
    }
   ],
   "source": [
    "plot_optimization_history(study)"
   ]
  },
  {
   "cell_type": "code",
   "execution_count": 14,
   "id": "1dd878ce-7455-441f-8bc0-f3aa5ce98744",
   "metadata": {
    "tags": []
   },
   "outputs": [
    {
     "data": {
      "application/vnd.plotly.v1+json": {
       "config": {
        "plotlyServerURL": "https://plot.ly"
       },
       "data": [
        {
         "cliponaxis": false,
         "hovertemplate": [
          "max_bin_exp (IntUniformDistribution): 0.01759286569010379<extra></extra>",
          "path_smooth (UniformDistribution): 0.018334789553197558<extra></extra>",
          "lambda_l2 (LogUniformDistribution): 0.04109133092491081<extra></extra>",
          "feature_fraction (DiscreteUniformDistribution): 0.05004025836502425<extra></extra>",
          "min_data_in_leaf (IntUniformDistribution): 0.10826618522046193<extra></extra>",
          "lambda_l1 (LogUniformDistribution): 0.14009506232925667<extra></extra>",
          "num_iterations (IntUniformDistribution): 0.27634991729624964<extra></extra>",
          "bagging_fraction (DiscreteUniformDistribution): 0.3482295906207954<extra></extra>"
         ],
         "marker": {
          "color": "rgb(66,146,198)"
         },
         "orientation": "h",
         "text": [
          "0.01759286569010379",
          "0.018334789553197558",
          "0.04109133092491081",
          "0.05004025836502425",
          "0.10826618522046193",
          "0.14009506232925667",
          "0.27634991729624964",
          "0.3482295906207954"
         ],
         "textposition": "outside",
         "texttemplate": "%{text:.2f}",
         "type": "bar",
         "x": [
          0.01759286569010379,
          0.018334789553197558,
          0.04109133092491081,
          0.05004025836502425,
          0.10826618522046193,
          0.14009506232925667,
          0.27634991729624964,
          0.3482295906207954
         ],
         "y": [
          "max_bin_exp",
          "path_smooth",
          "lambda_l2",
          "feature_fraction",
          "min_data_in_leaf",
          "lambda_l1",
          "num_iterations",
          "bagging_fraction"
         ]
        }
       ],
       "layout": {
        "autosize": true,
        "showlegend": false,
        "template": {
         "data": {
          "bar": [
           {
            "error_x": {
             "color": "#2a3f5f"
            },
            "error_y": {
             "color": "#2a3f5f"
            },
            "marker": {
             "line": {
              "color": "#E5ECF6",
              "width": 0.5
             },
             "pattern": {
              "fillmode": "overlay",
              "size": 10,
              "solidity": 0.2
             }
            },
            "type": "bar"
           }
          ],
          "barpolar": [
           {
            "marker": {
             "line": {
              "color": "#E5ECF6",
              "width": 0.5
             },
             "pattern": {
              "fillmode": "overlay",
              "size": 10,
              "solidity": 0.2
             }
            },
            "type": "barpolar"
           }
          ],
          "carpet": [
           {
            "aaxis": {
             "endlinecolor": "#2a3f5f",
             "gridcolor": "white",
             "linecolor": "white",
             "minorgridcolor": "white",
             "startlinecolor": "#2a3f5f"
            },
            "baxis": {
             "endlinecolor": "#2a3f5f",
             "gridcolor": "white",
             "linecolor": "white",
             "minorgridcolor": "white",
             "startlinecolor": "#2a3f5f"
            },
            "type": "carpet"
           }
          ],
          "choropleth": [
           {
            "colorbar": {
             "outlinewidth": 0,
             "ticks": ""
            },
            "type": "choropleth"
           }
          ],
          "contour": [
           {
            "colorbar": {
             "outlinewidth": 0,
             "ticks": ""
            },
            "colorscale": [
             [
              0,
              "#0d0887"
             ],
             [
              0.1111111111111111,
              "#46039f"
             ],
             [
              0.2222222222222222,
              "#7201a8"
             ],
             [
              0.3333333333333333,
              "#9c179e"
             ],
             [
              0.4444444444444444,
              "#bd3786"
             ],
             [
              0.5555555555555556,
              "#d8576b"
             ],
             [
              0.6666666666666666,
              "#ed7953"
             ],
             [
              0.7777777777777778,
              "#fb9f3a"
             ],
             [
              0.8888888888888888,
              "#fdca26"
             ],
             [
              1,
              "#f0f921"
             ]
            ],
            "type": "contour"
           }
          ],
          "contourcarpet": [
           {
            "colorbar": {
             "outlinewidth": 0,
             "ticks": ""
            },
            "type": "contourcarpet"
           }
          ],
          "heatmap": [
           {
            "colorbar": {
             "outlinewidth": 0,
             "ticks": ""
            },
            "colorscale": [
             [
              0,
              "#0d0887"
             ],
             [
              0.1111111111111111,
              "#46039f"
             ],
             [
              0.2222222222222222,
              "#7201a8"
             ],
             [
              0.3333333333333333,
              "#9c179e"
             ],
             [
              0.4444444444444444,
              "#bd3786"
             ],
             [
              0.5555555555555556,
              "#d8576b"
             ],
             [
              0.6666666666666666,
              "#ed7953"
             ],
             [
              0.7777777777777778,
              "#fb9f3a"
             ],
             [
              0.8888888888888888,
              "#fdca26"
             ],
             [
              1,
              "#f0f921"
             ]
            ],
            "type": "heatmap"
           }
          ],
          "heatmapgl": [
           {
            "colorbar": {
             "outlinewidth": 0,
             "ticks": ""
            },
            "colorscale": [
             [
              0,
              "#0d0887"
             ],
             [
              0.1111111111111111,
              "#46039f"
             ],
             [
              0.2222222222222222,
              "#7201a8"
             ],
             [
              0.3333333333333333,
              "#9c179e"
             ],
             [
              0.4444444444444444,
              "#bd3786"
             ],
             [
              0.5555555555555556,
              "#d8576b"
             ],
             [
              0.6666666666666666,
              "#ed7953"
             ],
             [
              0.7777777777777778,
              "#fb9f3a"
             ],
             [
              0.8888888888888888,
              "#fdca26"
             ],
             [
              1,
              "#f0f921"
             ]
            ],
            "type": "heatmapgl"
           }
          ],
          "histogram": [
           {
            "marker": {
             "pattern": {
              "fillmode": "overlay",
              "size": 10,
              "solidity": 0.2
             }
            },
            "type": "histogram"
           }
          ],
          "histogram2d": [
           {
            "colorbar": {
             "outlinewidth": 0,
             "ticks": ""
            },
            "colorscale": [
             [
              0,
              "#0d0887"
             ],
             [
              0.1111111111111111,
              "#46039f"
             ],
             [
              0.2222222222222222,
              "#7201a8"
             ],
             [
              0.3333333333333333,
              "#9c179e"
             ],
             [
              0.4444444444444444,
              "#bd3786"
             ],
             [
              0.5555555555555556,
              "#d8576b"
             ],
             [
              0.6666666666666666,
              "#ed7953"
             ],
             [
              0.7777777777777778,
              "#fb9f3a"
             ],
             [
              0.8888888888888888,
              "#fdca26"
             ],
             [
              1,
              "#f0f921"
             ]
            ],
            "type": "histogram2d"
           }
          ],
          "histogram2dcontour": [
           {
            "colorbar": {
             "outlinewidth": 0,
             "ticks": ""
            },
            "colorscale": [
             [
              0,
              "#0d0887"
             ],
             [
              0.1111111111111111,
              "#46039f"
             ],
             [
              0.2222222222222222,
              "#7201a8"
             ],
             [
              0.3333333333333333,
              "#9c179e"
             ],
             [
              0.4444444444444444,
              "#bd3786"
             ],
             [
              0.5555555555555556,
              "#d8576b"
             ],
             [
              0.6666666666666666,
              "#ed7953"
             ],
             [
              0.7777777777777778,
              "#fb9f3a"
             ],
             [
              0.8888888888888888,
              "#fdca26"
             ],
             [
              1,
              "#f0f921"
             ]
            ],
            "type": "histogram2dcontour"
           }
          ],
          "mesh3d": [
           {
            "colorbar": {
             "outlinewidth": 0,
             "ticks": ""
            },
            "type": "mesh3d"
           }
          ],
          "parcoords": [
           {
            "line": {
             "colorbar": {
              "outlinewidth": 0,
              "ticks": ""
             }
            },
            "type": "parcoords"
           }
          ],
          "pie": [
           {
            "automargin": true,
            "type": "pie"
           }
          ],
          "scatter": [
           {
            "marker": {
             "colorbar": {
              "outlinewidth": 0,
              "ticks": ""
             }
            },
            "type": "scatter"
           }
          ],
          "scatter3d": [
           {
            "line": {
             "colorbar": {
              "outlinewidth": 0,
              "ticks": ""
             }
            },
            "marker": {
             "colorbar": {
              "outlinewidth": 0,
              "ticks": ""
             }
            },
            "type": "scatter3d"
           }
          ],
          "scattercarpet": [
           {
            "marker": {
             "colorbar": {
              "outlinewidth": 0,
              "ticks": ""
             }
            },
            "type": "scattercarpet"
           }
          ],
          "scattergeo": [
           {
            "marker": {
             "colorbar": {
              "outlinewidth": 0,
              "ticks": ""
             }
            },
            "type": "scattergeo"
           }
          ],
          "scattergl": [
           {
            "marker": {
             "colorbar": {
              "outlinewidth": 0,
              "ticks": ""
             }
            },
            "type": "scattergl"
           }
          ],
          "scattermapbox": [
           {
            "marker": {
             "colorbar": {
              "outlinewidth": 0,
              "ticks": ""
             }
            },
            "type": "scattermapbox"
           }
          ],
          "scatterpolar": [
           {
            "marker": {
             "colorbar": {
              "outlinewidth": 0,
              "ticks": ""
             }
            },
            "type": "scatterpolar"
           }
          ],
          "scatterpolargl": [
           {
            "marker": {
             "colorbar": {
              "outlinewidth": 0,
              "ticks": ""
             }
            },
            "type": "scatterpolargl"
           }
          ],
          "scatterternary": [
           {
            "marker": {
             "colorbar": {
              "outlinewidth": 0,
              "ticks": ""
             }
            },
            "type": "scatterternary"
           }
          ],
          "surface": [
           {
            "colorbar": {
             "outlinewidth": 0,
             "ticks": ""
            },
            "colorscale": [
             [
              0,
              "#0d0887"
             ],
             [
              0.1111111111111111,
              "#46039f"
             ],
             [
              0.2222222222222222,
              "#7201a8"
             ],
             [
              0.3333333333333333,
              "#9c179e"
             ],
             [
              0.4444444444444444,
              "#bd3786"
             ],
             [
              0.5555555555555556,
              "#d8576b"
             ],
             [
              0.6666666666666666,
              "#ed7953"
             ],
             [
              0.7777777777777778,
              "#fb9f3a"
             ],
             [
              0.8888888888888888,
              "#fdca26"
             ],
             [
              1,
              "#f0f921"
             ]
            ],
            "type": "surface"
           }
          ],
          "table": [
           {
            "cells": {
             "fill": {
              "color": "#EBF0F8"
             },
             "line": {
              "color": "white"
             }
            },
            "header": {
             "fill": {
              "color": "#C8D4E3"
             },
             "line": {
              "color": "white"
             }
            },
            "type": "table"
           }
          ]
         },
         "layout": {
          "annotationdefaults": {
           "arrowcolor": "#2a3f5f",
           "arrowhead": 0,
           "arrowwidth": 1
          },
          "autotypenumbers": "strict",
          "coloraxis": {
           "colorbar": {
            "outlinewidth": 0,
            "ticks": ""
           }
          },
          "colorscale": {
           "diverging": [
            [
             0,
             "#8e0152"
            ],
            [
             0.1,
             "#c51b7d"
            ],
            [
             0.2,
             "#de77ae"
            ],
            [
             0.3,
             "#f1b6da"
            ],
            [
             0.4,
             "#fde0ef"
            ],
            [
             0.5,
             "#f7f7f7"
            ],
            [
             0.6,
             "#e6f5d0"
            ],
            [
             0.7,
             "#b8e186"
            ],
            [
             0.8,
             "#7fbc41"
            ],
            [
             0.9,
             "#4d9221"
            ],
            [
             1,
             "#276419"
            ]
           ],
           "sequential": [
            [
             0,
             "#0d0887"
            ],
            [
             0.1111111111111111,
             "#46039f"
            ],
            [
             0.2222222222222222,
             "#7201a8"
            ],
            [
             0.3333333333333333,
             "#9c179e"
            ],
            [
             0.4444444444444444,
             "#bd3786"
            ],
            [
             0.5555555555555556,
             "#d8576b"
            ],
            [
             0.6666666666666666,
             "#ed7953"
            ],
            [
             0.7777777777777778,
             "#fb9f3a"
            ],
            [
             0.8888888888888888,
             "#fdca26"
            ],
            [
             1,
             "#f0f921"
            ]
           ],
           "sequentialminus": [
            [
             0,
             "#0d0887"
            ],
            [
             0.1111111111111111,
             "#46039f"
            ],
            [
             0.2222222222222222,
             "#7201a8"
            ],
            [
             0.3333333333333333,
             "#9c179e"
            ],
            [
             0.4444444444444444,
             "#bd3786"
            ],
            [
             0.5555555555555556,
             "#d8576b"
            ],
            [
             0.6666666666666666,
             "#ed7953"
            ],
            [
             0.7777777777777778,
             "#fb9f3a"
            ],
            [
             0.8888888888888888,
             "#fdca26"
            ],
            [
             1,
             "#f0f921"
            ]
           ]
          },
          "colorway": [
           "#636efa",
           "#EF553B",
           "#00cc96",
           "#ab63fa",
           "#FFA15A",
           "#19d3f3",
           "#FF6692",
           "#B6E880",
           "#FF97FF",
           "#FECB52"
          ],
          "font": {
           "color": "#2a3f5f"
          },
          "geo": {
           "bgcolor": "white",
           "lakecolor": "white",
           "landcolor": "#E5ECF6",
           "showlakes": true,
           "showland": true,
           "subunitcolor": "white"
          },
          "hoverlabel": {
           "align": "left"
          },
          "hovermode": "closest",
          "mapbox": {
           "style": "light"
          },
          "paper_bgcolor": "white",
          "plot_bgcolor": "#E5ECF6",
          "polar": {
           "angularaxis": {
            "gridcolor": "white",
            "linecolor": "white",
            "ticks": ""
           },
           "bgcolor": "#E5ECF6",
           "radialaxis": {
            "gridcolor": "white",
            "linecolor": "white",
            "ticks": ""
           }
          },
          "scene": {
           "xaxis": {
            "backgroundcolor": "#E5ECF6",
            "gridcolor": "white",
            "gridwidth": 2,
            "linecolor": "white",
            "showbackground": true,
            "ticks": "",
            "zerolinecolor": "white"
           },
           "yaxis": {
            "backgroundcolor": "#E5ECF6",
            "gridcolor": "white",
            "gridwidth": 2,
            "linecolor": "white",
            "showbackground": true,
            "ticks": "",
            "zerolinecolor": "white"
           },
           "zaxis": {
            "backgroundcolor": "#E5ECF6",
            "gridcolor": "white",
            "gridwidth": 2,
            "linecolor": "white",
            "showbackground": true,
            "ticks": "",
            "zerolinecolor": "white"
           }
          },
          "shapedefaults": {
           "line": {
            "color": "#2a3f5f"
           }
          },
          "ternary": {
           "aaxis": {
            "gridcolor": "white",
            "linecolor": "white",
            "ticks": ""
           },
           "baxis": {
            "gridcolor": "white",
            "linecolor": "white",
            "ticks": ""
           },
           "bgcolor": "#E5ECF6",
           "caxis": {
            "gridcolor": "white",
            "linecolor": "white",
            "ticks": ""
           }
          },
          "title": {
           "x": 0.05
          },
          "xaxis": {
           "automargin": true,
           "gridcolor": "white",
           "linecolor": "white",
           "ticks": "",
           "title": {
            "standoff": 15
           },
           "zerolinecolor": "white",
           "zerolinewidth": 2
          },
          "yaxis": {
           "automargin": true,
           "gridcolor": "white",
           "linecolor": "white",
           "ticks": "",
           "title": {
            "standoff": 15
           },
           "zerolinecolor": "white",
           "zerolinewidth": 2
          }
         }
        },
        "title": {
         "text": "Hyperparameter Importances"
        },
        "xaxis": {
         "autorange": true,
         "range": [
          0,
          0.36655746381136356
         ],
         "title": {
          "text": "Importance for Objective Value"
         },
         "type": "linear"
        },
        "yaxis": {
         "autorange": true,
         "range": [
          -0.5,
          7.5
         ],
         "title": {
          "text": "Hyperparameter"
         },
         "type": "category"
        }
       }
      },
      "image/png": "[encoded data removed]"
     },
     "metadata": {},
     "output_type": "display_data"
    }
   ],
   "source": [
    "plot_param_importances(study)"
   ]
  },
  {
   "cell_type": "code",
   "execution_count": 15,
   "id": "f29ff4a4-3e2c-4b82-9c15-f67617a76122",
   "metadata": {
    "tags": []
   },
   "outputs": [
    {
     "data": {
      "application/vnd.plotly.v1+json": {
       "config": {
        "plotlyServerURL": "https://plot.ly"
       },
       "data": [
        {
         "marker": {
          "color": [
           1,
           3,
           5,
           6,
           7,
           8,
           9,
           10,
           11,
           12,
           13,
           14,
           15,
           16,
           17,
           18,
           19,
           20,
           21,
           22,
           23,
           24,
           25,
           26,
           27,
           28,
           29,
           30,
           31,
           32,
           33,
           34,
           35,
           36,
           37,
           38,
           39,
           40,
           41,
           42,
           43,
           44,
           45,
           46,
           47,
           48,
           49,
           50,
           51,
           52,
           53,
           54,
           55,
           56,
           57,
           58,
           59,
           60,
           61,
           62,
           63,
           64,
           65,
           66,
           67,
           68,
           69,
           70,
           71,
           72,
           73,
           74,
           75,
           76,
           77,
           78,
           79,
           80,
           81,
           82,
           83,
           84,
           85,
           86,
           87,
           88,
           89,
           90,
           91,
           92,
           93,
           94,
           95,
           96,
           97,
           98,
           99,
           100,
           101,
           102,
           103,
           104,
           105,
           106,
           107,
           108,
           109,
           110,
           111,
           112,
           113,
           114,
           115,
           116,
           117,
           118,
           119,
           120,
           121,
           122,
           123,
           124,
           125,
           126,
           127,
           128,
           129,
           130
          ],
          "colorbar": {
           "title": {
            "text": "#Trials"
           },
           "x": 1,
           "xpad": 40,
           "y": 0.5
          },
          "colorscale": [
           [
            0,
            "rgb(247,251,255)"
           ],
           [
            0.125,
            "rgb(222,235,247)"
           ],
           [
            0.25,
            "rgb(198,219,239)"
           ],
           [
            0.375,
            "rgb(158,202,225)"
           ],
           [
            0.5,
            "rgb(107,174,214)"
           ],
           [
            0.625,
            "rgb(66,146,198)"
           ],
           [
            0.75,
            "rgb(33,113,181)"
           ],
           [
            0.875,
            "rgb(8,81,156)"
           ],
           [
            1,
            "rgb(8,48,107)"
           ]
          ],
          "line": {
           "color": "Grey",
           "width": 0.5
          },
          "showscale": true
         },
         "mode": "markers",
         "showlegend": false,
         "type": "scatter",
         "x": [
          0.8999999999999999,
          0.95,
          1,
          0.7999999999999999,
          1,
          0.8999999999999999,
          0.8999999999999999,
          0.7999999999999999,
          0.7,
          0.85,
          1,
          0.95,
          0.95,
          0.85,
          1,
          0.7,
          0.8999999999999999,
          0.7999999999999999,
          0.95,
          0.95,
          0.95,
          1,
          0.95,
          1,
          0.95,
          1,
          1,
          1,
          0.8999999999999999,
          0.75,
          1,
          1,
          1,
          1,
          1,
          0.95,
          1,
          0.8999999999999999,
          1,
          0.95,
          1,
          1,
          1,
          1,
          0.95,
          1,
          0.95,
          0.75,
          0.8999999999999999,
          1,
          0.85,
          1,
          1,
          1,
          0.95,
          1,
          1,
          0.95,
          0.95,
          1,
          1,
          1,
          1,
          1,
          0.95,
          1,
          1,
          0.95,
          0.7999999999999999,
          1,
          1,
          1,
          1,
          1,
          1,
          1,
          0.95,
          1,
          0.95,
          1,
          1,
          1,
          1,
          1,
          1,
          1,
          0.95,
          1,
          1,
          0.7,
          0.95,
          1,
          1,
          1,
          1,
          1,
          1,
          0.95,
          0.75,
          1,
          1,
          0.8999999999999999,
          0.95,
          0.85,
          1,
          1,
          1,
          1,
          0.95,
          1,
          1,
          1,
          1,
          1,
          1,
          1,
          1,
          1,
          0.95,
          1,
          1,
          1,
          1,
          1,
          1,
          1,
          1,
          1
         ],
         "xaxis": "x",
         "y": [
          0.1295254243272344,
          0.1283417614163213,
          0.12921525070872317,
          0.12660544236544494,
          0.129570030619593,
          0.12663289787296278,
          0.12792114433547705,
          0.12837824786513535,
          0.12854041473562297,
          0.1274708638299065,
          0.1270948302774449,
          0.12872616505683032,
          0.12807707043040834,
          0.12638627137967814,
          0.12838914882853916,
          0.12818060963313363,
          0.12755549185389953,
          0.12542032998214347,
          0.12979852116095536,
          0.12979436801228525,
          0.12819805951291524,
          0.1308014336200209,
          0.12939237407932644,
          0.12857099678815775,
          0.12921102486361138,
          0.13088776371107036,
          0.12973606782128444,
          0.12786020445311239,
          0.1284341570451598,
          0.12854950578610938,
          0.13094867969810384,
          0.1300689148823573,
          0.1306581165244635,
          0.13093813004634597,
          0.1293851811640757,
          0.12888318500849957,
          0.1299336001990346,
          0.1293757651014964,
          0.1283236545155534,
          0.1283610281987761,
          0.1303668958313886,
          0.13100483843632926,
          0.12951168965391802,
          0.1303429840366965,
          0.12989771047867635,
          0.12987643457217768,
          0.12905236933239184,
          0.12796383388420965,
          0.12735609697786715,
          0.13106607129637513,
          0.12788651907853732,
          0.13040810277090567,
          0.13097601235007514,
          0.13088297494349035,
          0.13004849827230439,
          0.13030555706611863,
          0.12995382139705136,
          0.12953984386657305,
          0.12905213760565223,
          0.13042456420516088,
          0.1306472188954556,
          0.13006575373022672,
          0.12999759310352765,
          0.12931328348554966,
          0.12985643936292798,
          0.12896697202294016,
          0.13026536876719608,
          0.12701336131704868,
          0.12861460180814444,
          0.1307428762218166,
          0.12978902937636647,
          0.13080857562048323,
          0.12957272025868627,
          0.1294182591841152,
          0.1291425972535696,
          0.12943304036505457,
          0.130768311179137,
          0.12848857930350624,
          0.12821940113774674,
          0.129074778241655,
          0.12793518758457229,
          0.1291919629308703,
          0.1306418937651706,
          0.12842040351870312,
          0.13002457769176742,
          0.13015113774717646,
          0.1292805732649052,
          0.1309086835693687,
          0.13063031145836276,
          0.12761263052747837,
          0.12786386046498302,
          0.12923818773906418,
          0.12992719880669726,
          0.12865816721311119,
          0.12932744763201554,
          0.13001772718725457,
          0.1301610688172244,
          0.1292956023158539,
          0.12943644568276752,
          0.1304551989066389,
          0.13045214927097273,
          0.12957197474005824,
          0.13002799504007173,
          0.12910903290871353,
          0.13013926576703236,
          0.12911525720673864,
          0.13054433966338547,
          0.12773737978706462,
          0.12883429301155264,
          0.13139171637315106,
          0.12930337256465232,
          0.13021657546417661,
          0.12959949173312418,
          0.130754728361682,
          0.13020214573155295,
          0.1300133086233428,
          0.13030673573098864,
          0.129552270907198,
          0.127858055312099,
          0.12966342632755798,
          0.13159248002565999,
          0.12993052735561605,
          0.1311267256113657,
          0.1312161855693037,
          0.12802550427368367,
          0.13103268185360364,
          0.13069529055095386,
          0.13090775337314503
         ],
         "yaxis": "y"
        },
        {
         "marker": {
          "color": [
           1,
           3,
           5,
           6,
           7,
           8,
           9,
           10,
           11,
           12,
           13,
           14,
           15,
           16,
           17,
           18,
           19,
           20,
           21,
           22,
           23,
           24,
           25,
           26,
           27,
           28,
           29,
           30,
           31,
           32,
           33,
           34,
           35,
           36,
           37,
           38,
           39,
           40,
           41,
           42,
           43,
           44,
           45,
           46,
           47,
           48,
           49,
           50,
           51,
           52,
           53,
           54,
           55,
           56,
           57,
           58,
           59,
           60,
           61,
           62,
           63,
           64,
           65,
           66,
           67,
           68,
           69,
           70,
           71,
           72,
           73,
           74,
           75,
           76,
           77,
           78,
           79,
           80,
           81,
           82,
           83,
           84,
           85,
           86,
           87,
           88,
           89,
           90,
           91,
           92,
           93,
           94,
           95,
           96,
           97,
           98,
           99,
           100,
           101,
           102,
           103,
           104,
           105,
           106,
           107,
           108,
           109,
           110,
           111,
           112,
           113,
           114,
           115,
           116,
           117,
           118,
           119,
           120,
           121,
           122,
           123,
           124,
           125,
           126,
           127,
           128,
           129,
           130
          ],
          "colorbar": {
           "title": {
            "text": "#Trials"
           },
           "x": 1,
           "xpad": 40
          },
          "colorscale": [
           [
            0,
            "rgb(247,251,255)"
           ],
           [
            0.125,
            "rgb(222,235,247)"
           ],
           [
            0.25,
            "rgb(198,219,239)"
           ],
           [
            0.375,
            "rgb(158,202,225)"
           ],
           [
            0.5,
            "rgb(107,174,214)"
           ],
           [
            0.625,
            "rgb(66,146,198)"
           ],
           [
            0.75,
            "rgb(33,113,181)"
           ],
           [
            0.875,
            "rgb(8,81,156)"
           ],
           [
            1,
            "rgb(8,48,107)"
           ]
          ],
          "line": {
           "color": "Grey",
           "width": 0.5
          },
          "showscale": false
         },
         "mode": "markers",
         "showlegend": false,
         "type": "scatter",
         "x": [
          0.45000000000000007,
          0.4,
          0.35,
          0.35,
          0.15000000000000002,
          0.45000000000000007,
          0.45000000000000007,
          0.25,
          0.25,
          0.15000000000000002,
          0.1,
          0.5,
          0.2,
          0.1,
          0.30000000000000004,
          0.2,
          0.5,
          0.35,
          0.15000000000000002,
          0.15000000000000002,
          0.15000000000000002,
          0.15000000000000002,
          0.2,
          0.1,
          0.25,
          0.15000000000000002,
          0.2,
          0.1,
          0.15000000000000002,
          0.30000000000000004,
          0.25,
          0.25,
          0.30000000000000004,
          0.30000000000000004,
          0.35,
          0.4,
          0.2,
          0.4,
          0.25,
          0.30000000000000004,
          0.30000000000000004,
          0.30000000000000004,
          0.35,
          0.25,
          0.35,
          0.30000000000000004,
          0.25,
          0.2,
          0.1,
          0.15000000000000002,
          0.4,
          0.15000000000000002,
          0.2,
          0.2,
          0.25,
          0.2,
          0.30000000000000004,
          0.15000000000000002,
          0.25,
          0.2,
          0.15000000000000002,
          0.2,
          0.2,
          0.25,
          0.15000000000000002,
          0.30000000000000004,
          0.2,
          0.1,
          0.35,
          0.25,
          0.15000000000000002,
          0.15000000000000002,
          0.15000000000000002,
          0.2,
          0.1,
          0.15000000000000002,
          0.2,
          0.1,
          0.30000000000000004,
          0.15000000000000002,
          0.25,
          0.15000000000000002,
          0.15000000000000002,
          0.1,
          0.2,
          0.15000000000000002,
          0.30000000000000004,
          0.35,
          0.35,
          0.45000000000000007,
          0.35,
          0.4,
          0.30000000000000004,
          0.25,
          0.15000000000000002,
          0.2,
          0.30000000000000004,
          0.15000000000000002,
          0.35,
          0.2,
          0.25,
          0.2,
          0.2,
          0.15000000000000002,
          0.2,
          0.15000000000000002,
          0.25,
          0.1,
          0.2,
          0.30000000000000004,
          0.30000000000000004,
          0.30000000000000004,
          0.30000000000000004,
          0.35,
          0.25,
          0.15000000000000002,
          0.30000000000000004,
          0.25,
          0.5,
          0.2,
          0.15000000000000002,
          0.15000000000000002,
          0.15000000000000002,
          0.15000000000000002,
          0.1,
          0.15000000000000002,
          0.15000000000000002,
          0.15000000000000002
         ],
         "xaxis": "x2",
         "y": [
          0.1295254243272344,
          0.1283417614163213,
          0.12921525070872317,
          0.12660544236544494,
          0.129570030619593,
          0.12663289787296278,
          0.12792114433547705,
          0.12837824786513535,
          0.12854041473562297,
          0.1274708638299065,
          0.1270948302774449,
          0.12872616505683032,
          0.12807707043040834,
          0.12638627137967814,
          0.12838914882853916,
          0.12818060963313363,
          0.12755549185389953,
          0.12542032998214347,
          0.12979852116095536,
          0.12979436801228525,
          0.12819805951291524,
          0.1308014336200209,
          0.12939237407932644,
          0.12857099678815775,
          0.12921102486361138,
          0.13088776371107036,
          0.12973606782128444,
          0.12786020445311239,
          0.1284341570451598,
          0.12854950578610938,
          0.13094867969810384,
          0.1300689148823573,
          0.1306581165244635,
          0.13093813004634597,
          0.1293851811640757,
          0.12888318500849957,
          0.1299336001990346,
          0.1293757651014964,
          0.1283236545155534,
          0.1283610281987761,
          0.1303668958313886,
          0.13100483843632926,
          0.12951168965391802,
          0.1303429840366965,
          0.12989771047867635,
          0.12987643457217768,
          0.12905236933239184,
          0.12796383388420965,
          0.12735609697786715,
          0.13106607129637513,
          0.12788651907853732,
          0.13040810277090567,
          0.13097601235007514,
          0.13088297494349035,
          0.13004849827230439,
          0.13030555706611863,
          0.12995382139705136,
          0.12953984386657305,
          0.12905213760565223,
          0.13042456420516088,
          0.1306472188954556,
          0.13006575373022672,
          0.12999759310352765,
          0.12931328348554966,
          0.12985643936292798,
          0.12896697202294016,
          0.13026536876719608,
          0.12701336131704868,
          0.12861460180814444,
          0.1307428762218166,
          0.12978902937636647,
          0.13080857562048323,
          0.12957272025868627,
          0.1294182591841152,
          0.1291425972535696,
          0.12943304036505457,
          0.130768311179137,
          0.12848857930350624,
          0.12821940113774674,
          0.129074778241655,
          0.12793518758457229,
          0.1291919629308703,
          0.1306418937651706,
          0.12842040351870312,
          0.13002457769176742,
          0.13015113774717646,
          0.1292805732649052,
          0.1309086835693687,
          0.13063031145836276,
          0.12761263052747837,
          0.12786386046498302,
          0.12923818773906418,
          0.12992719880669726,
          0.12865816721311119,
          0.12932744763201554,
          0.13001772718725457,
          0.1301610688172244,
          0.1292956023158539,
          0.12943644568276752,
          0.1304551989066389,
          0.13045214927097273,
          0.12957197474005824,
          0.13002799504007173,
          0.12910903290871353,
          0.13013926576703236,
          0.12911525720673864,
          0.13054433966338547,
          0.12773737978706462,
          0.12883429301155264,
          0.13139171637315106,
          0.12930337256465232,
          0.13021657546417661,
          0.12959949173312418,
          0.130754728361682,
          0.13020214573155295,
          0.1300133086233428,
          0.13030673573098864,
          0.129552270907198,
          0.127858055312099,
          0.12966342632755798,
          0.13159248002565999,
          0.12993052735561605,
          0.1311267256113657,
          0.1312161855693037,
          0.12802550427368367,
          0.13103268185360364,
          0.13069529055095386,
          0.13090775337314503
         ],
         "yaxis": "y2"
        },
        {
         "marker": {
          "color": [
           1,
           3,
           5,
           6,
           7,
           8,
           9,
           10,
           11,
           12,
           13,
           14,
           15,
           16,
           17,
           18,
           19,
           20,
           21,
           22,
           23,
           24,
           25,
           26,
           27,
           28,
           29,
           30,
           31,
           32,
           33,
           34,
           35,
           36,
           37,
           38,
           39,
           40,
           41,
           42,
           43,
           44,
           45,
           46,
           47,
           48,
           49,
           50,
           51,
           52,
           53,
           54,
           55,
           56,
           57,
           58,
           59,
           60,
           61,
           62,
           63,
           64,
           65,
           66,
           67,
           68,
           69,
           70,
           71,
           72,
           73,
           74,
           75,
           76,
           77,
           78,
           79,
           80,
           81,
           82,
           83,
           84,
           85,
           86,
           87,
           88,
           89,
           90,
           91,
           92,
           93,
           94,
           95,
           96,
           97,
           98,
           99,
           100,
           101,
           102,
           103,
           104,
           105,
           106,
           107,
           108,
           109,
           110,
           111,
           112,
           113,
           114,
           115,
           116,
           117,
           118,
           119,
           120,
           121,
           122,
           123,
           124,
           125,
           126,
           127,
           128,
           129,
           130
          ],
          "colorbar": {
           "title": {
            "text": "#Trials"
           },
           "x": 1,
           "xpad": 40
          },
          "colorscale": [
           [
            0,
            "rgb(247,251,255)"
           ],
           [
            0.125,
            "rgb(222,235,247)"
           ],
           [
            0.25,
            "rgb(198,219,239)"
           ],
           [
            0.375,
            "rgb(158,202,225)"
           ],
           [
            0.5,
            "rgb(107,174,214)"
           ],
           [
            0.625,
            "rgb(66,146,198)"
           ],
           [
            0.75,
            "rgb(33,113,181)"
           ],
           [
            0.875,
            "rgb(8,81,156)"
           ],
           [
            1,
            "rgb(8,48,107)"
           ]
          ],
          "line": {
           "color": "Grey",
           "width": 0.5
          },
          "showscale": false
         },
         "mode": "markers",
         "showlegend": false,
         "type": "scatter",
         "x": [
          0.12403943728377241,
          0.10242284094604151,
          4.9533458398268335,
          0.2309433600443073,
          2.638029093600826,
          2.148073139715523,
          0.0013462470437413997,
          0.003957897888997658,
          0.009451379076418851,
          0.008045656011043734,
          1.0722173146868461,
          0.43868171445450066,
          0.03988758203198402,
          9.846994383952907,
          0.052415885433162696,
          0.841091221281446,
          0.15998980529669482,
          2.699696538641557,
          0.029382725955823207,
          0.02118359096441228,
          0.0284492624272257,
          0.01823951647227023,
          0.01680809651239094,
          0.0038590920984382287,
          0.017949066058360566,
          0.05644677434063784,
          0.06643550946086671,
          0.007274495021938009,
          0.001143814809471769,
          0.07551610996093978,
          0.328500609039094,
          0.3006969854505853,
          0.29036387338588615,
          0.11737056223922603,
          0.10866464895529811,
          0.1550438427213701,
          0.4030524526409928,
          0.6614510366868869,
          0.1890085026599439,
          0.0951509504327085,
          0.002879169112481236,
          0.2670450233898784,
          0.052016485415388315,
          0.5193064367161041,
          1.5323912667767625,
          0.11277852283779885,
          0.21342824201605823,
          0.03558771716853963,
          0.012251944832063278,
          0.3109934070355788,
          1.2117730336119161,
          0.548048111387308,
          0.24923844881128854,
          0.29281823460235534,
          0.14175696302353805,
          0.3651656984994374,
          0.8331003835180006,
          0.22680019248448022,
          0.07690469948528035,
          0.05067666237114994,
          0.7282006671475799,
          0.3244928455409785,
          0.24725314618464972,
          0.18510668215906456,
          0.12979038447805913,
          0.4183194344066382,
          2.0563595983784357,
          0.5240257067411384,
          0.09129362481849493,
          0.24886471240493876,
          0.17707908128419236,
          0.29957644717349263,
          0.3055798439547765,
          0.9899183870951609,
          0.1328446598943714,
          0.0616119625291116,
          0.6229893281656053,
          0.43531236025684233,
          0.0941464589148288,
          0.2632119936808804,
          0.2020734126551877,
          0.022979290144860894,
          0.01094367644082659,
          0.006382295565057875,
          0.36899271964083746,
          0.1740676673690563,
          0.014483514633632372,
          0.11621577309663578,
          0.11353037725146771,
          0.03860331313043878,
          0.07715825912267715,
          0.34219617631333893,
          0.15182650312407261,
          0.2197564071527388,
          0.515680245758216,
          6.018036399962611,
          0.2673396059600101,
          0.04450229768382498,
          0.026649890425342635,
          0.15099976569388515,
          0.06436597497835521,
          0.6008642644912517,
          0.002086749026015636,
          0.7984808943211967,
          0.477898807773494,
          1.23338475552753,
          0.6555773601460755,
          0.2966270922320494,
          0.3806032740402676,
          0.20267346869612965,
          0.20431906910934133,
          0.12629158594171835,
          0.24654390639472792,
          0.16497289067488013,
          0.08951510142895615,
          0.3092592257136877,
          0.42377415570906224,
          0.11462827056384287,
          0.9720808084346501,
          0.20839711147372317,
          0.3406400464644552,
          0.2738278966600306,
          0.589365775768532,
          0.32239935734046754,
          0.3419082413115438,
          0.45917394123817173,
          0.450729165657903,
          0.7342556712620507
         ],
         "xaxis": "x3",
         "y": [
          0.1295254243272344,
          0.1283417614163213,
          0.12921525070872317,
          0.12660544236544494,
          0.129570030619593,
          0.12663289787296278,
          0.12792114433547705,
          0.12837824786513535,
          0.12854041473562297,
          0.1274708638299065,
          0.1270948302774449,
          0.12872616505683032,
          0.12807707043040834,
          0.12638627137967814,
          0.12838914882853916,
          0.12818060963313363,
          0.12755549185389953,
          0.12542032998214347,
          0.12979852116095536,
          0.12979436801228525,
          0.12819805951291524,
          0.1308014336200209,
          0.12939237407932644,
          0.12857099678815775,
          0.12921102486361138,
          0.13088776371107036,
          0.12973606782128444,
          0.12786020445311239,
          0.1284341570451598,
          0.12854950578610938,
          0.13094867969810384,
          0.1300689148823573,
          0.1306581165244635,
          0.13093813004634597,
          0.1293851811640757,
          0.12888318500849957,
          0.1299336001990346,
          0.1293757651014964,
          0.1283236545155534,
          0.1283610281987761,
          0.1303668958313886,
          0.13100483843632926,
          0.12951168965391802,
          0.1303429840366965,
          0.12989771047867635,
          0.12987643457217768,
          0.12905236933239184,
          0.12796383388420965,
          0.12735609697786715,
          0.13106607129637513,
          0.12788651907853732,
          0.13040810277090567,
          0.13097601235007514,
          0.13088297494349035,
          0.13004849827230439,
          0.13030555706611863,
          0.12995382139705136,
          0.12953984386657305,
          0.12905213760565223,
          0.13042456420516088,
          0.1306472188954556,
          0.13006575373022672,
          0.12999759310352765,
          0.12931328348554966,
          0.12985643936292798,
          0.12896697202294016,
          0.13026536876719608,
          0.12701336131704868,
          0.12861460180814444,
          0.1307428762218166,
          0.12978902937636647,
          0.13080857562048323,
          0.12957272025868627,
          0.1294182591841152,
          0.1291425972535696,
          0.12943304036505457,
          0.130768311179137,
          0.12848857930350624,
          0.12821940113774674,
          0.129074778241655,
          0.12793518758457229,
          0.1291919629308703,
          0.1306418937651706,
          0.12842040351870312,
          0.13002457769176742,
          0.13015113774717646,
          0.1292805732649052,
          0.1309086835693687,
          0.13063031145836276,
          0.12761263052747837,
          0.12786386046498302,
          0.12923818773906418,
          0.12992719880669726,
          0.12865816721311119,
          0.12932744763201554,
          0.13001772718725457,
          0.1301610688172244,
          0.1292956023158539,
          0.12943644568276752,
          0.1304551989066389,
          0.13045214927097273,
          0.12957197474005824,
          0.13002799504007173,
          0.12910903290871353,
          0.13013926576703236,
          0.12911525720673864,
          0.13054433966338547,
          0.12773737978706462,
          0.12883429301155264,
          0.13139171637315106,
          0.12930337256465232,
          0.13021657546417661,
          0.12959949173312418,
          0.130754728361682,
          0.13020214573155295,
          0.1300133086233428,
          0.13030673573098864,
          0.129552270907198,
          0.127858055312099,
          0.12966342632755798,
          0.13159248002565999,
          0.12993052735561605,
          0.1311267256113657,
          0.1312161855693037,
          0.12802550427368367,
          0.13103268185360364,
          0.13069529055095386,
          0.13090775337314503
         ],
         "yaxis": "y3"
        },
        {
         "marker": {
          "color": [
           1,
           3,
           5,
           6,
           7,
           8,
           9,
           10,
           11,
           12,
           13,
           14,
           15,
           16,
           17,
           18,
           19,
           20,
           21,
           22,
           23,
           24,
           25,
           26,
           27,
           28,
           29,
           30,
           31,
           32,
           33,
           34,
           35,
           36,
           37,
           38,
           39,
           40,
           41,
           42,
           43,
           44,
           45,
           46,
           47,
           48,
           49,
           50,
           51,
           52,
           53,
           54,
           55,
           56,
           57,
           58,
           59,
           60,
           61,
           62,
           63,
           64,
           65,
           66,
           67,
           68,
           69,
           70,
           71,
           72,
           73,
           74,
           75,
           76,
           77,
           78,
           79,
           80,
           81,
           82,
           83,
           84,
           85,
           86,
           87,
           88,
           89,
           90,
           91,
           92,
           93,
           94,
           95,
           96,
           97,
           98,
           99,
           100,
           101,
           102,
           103,
           104,
           105,
           106,
           107,
           108,
           109,
           110,
           111,
           112,
           113,
           114,
           115,
           116,
           117,
           118,
           119,
           120,
           121,
           122,
           123,
           124,
           125,
           126,
           127,
           128,
           129,
           130
          ],
          "colorbar": {
           "title": {
            "text": "#Trials"
           },
           "x": 1,
           "xpad": 40
          },
          "colorscale": [
           [
            0,
            "rgb(247,251,255)"
           ],
           [
            0.125,
            "rgb(222,235,247)"
           ],
           [
            0.25,
            "rgb(198,219,239)"
           ],
           [
            0.375,
            "rgb(158,202,225)"
           ],
           [
            0.5,
            "rgb(107,174,214)"
           ],
           [
            0.625,
            "rgb(66,146,198)"
           ],
           [
            0.75,
            "rgb(33,113,181)"
           ],
           [
            0.875,
            "rgb(8,81,156)"
           ],
           [
            1,
            "rgb(8,48,107)"
           ]
          ],
          "line": {
           "color": "Grey",
           "width": 0.5
          },
          "showscale": false
         },
         "mode": "markers",
         "showlegend": false,
         "type": "scatter",
         "x": [
          0.0014942545744514584,
          3.645606554153765,
          0.0068423712766719266,
          1.7969743132541418,
          0.02349627456398127,
          0.24947127283975898,
          3.302635173731174,
          0.007754867039784719,
          0.01417174117297059,
          0.005023527728685843,
          0.10569085041517041,
          0.0011576752846067134,
          0.0012812775901053584,
          0.02930707470661782,
          0.42403948992920537,
          0.028269363447914347,
          0.0027459725874658856,
          0.05226738716362035,
          0.8790470841503832,
          0.7322762692049213,
          1.1412114524702555,
          7.843067777167664,
          7.238201672524464,
          0.5898133060544273,
          8.616694021907836,
          0.2190994266828406,
          0.16741372634214158,
          1.8940978688731516,
          0.2856152296718299,
          0.08331513456660966,
          4.277573192433382,
          4.194946494012622,
          4.828199736311451,
          5.432001538414876,
          2.2902238150501293,
          6.666943415708875,
          1.3426086536251225,
          2.795706912204868,
          9.001537012781101,
          5.620497514169558,
          1.4057145468068215,
          4.456595611242846,
          3.7317465351019066,
          2.785500191072945,
          9.582431238336909,
          5.210676709599524,
          2.03283721977145,
          3.4693158461485405,
          0.4226054130286439,
          0.013954819031130949,
          0.01283883324427389,
          0.0023418348149356373,
          0.01254365707394215,
          0.00808085481263543,
          0.04180310632288458,
          0.015921345793425332,
          0.0053863895499929315,
          0.01883182086038703,
          0.0780559910346024,
          0.010329780439803218,
          0.13342350874301734,
          0.0037252248137671965,
          0.0019017668768665516,
          0.008836156522599675,
          0.0062881300424837295,
          0.003981402866256071,
          0.021646316028032752,
          0.03535879041393842,
          0.011555514450625557,
          0.05707117340480861,
          0.9301846130984545,
          7.2458246301197775,
          6.734743535471971,
          4.473450417518406,
          0.0068853050392326896,
          0.22883623862956,
          0.026804170536595413,
          2.4130518210432834,
          3.177041414802751,
          5.9290321417264975,
          1.5155165209016206,
          8.000742304999756,
          4.026711318891311,
          7.134954468910381,
          9.841665105081278,
          5.331082376362008,
          0.018276167515615484,
          0.5678978706829325,
          0.38851704459470465,
          0.22162201893634012,
          0.6541150201470362,
          0.1388933118143853,
          0.34314763952357896,
          2.845657488558434,
          0.5242888533494711,
          0.009274421961503378,
          5.960186526663023,
          1.7689526639206772,
          4.4116255009591185,
          0.17778761634371623,
          1.0828186794235002,
          0.015617610002058064,
          0.030341139637927467,
          0.025404145871608184,
          0.013719623563691283,
          0.008454742002955094,
          0.004890682278047814,
          0.054506576050223375,
          3.6196807625800234,
          7.90943272350652,
          7.684544012890357,
          8.616996222787057,
          0.08551419151627063,
          5.243233049902277,
          6.455438494205286,
          4.605873234209786,
          2.340634777968917,
          7.622665659959938,
          0.011816135971331673,
          0.020562410743587237,
          3.2481088372420728,
          3.280759397414023,
          9.43549428365176,
          9.836678873614412,
          6.520029837294303,
          9.439906479810166,
          9.211209240805445,
          9.571910903433164
         ],
         "xaxis": "x4",
         "y": [
          0.1295254243272344,
          0.1283417614163213,
          0.12921525070872317,
          0.12660544236544494,
          0.129570030619593,
          0.12663289787296278,
          0.12792114433547705,
          0.12837824786513535,
          0.12854041473562297,
          0.1274708638299065,
          0.1270948302774449,
          0.12872616505683032,
          0.12807707043040834,
          0.12638627137967814,
          0.12838914882853916,
          0.12818060963313363,
          0.12755549185389953,
          0.12542032998214347,
          0.12979852116095536,
          0.12979436801228525,
          0.12819805951291524,
          0.1308014336200209,
          0.12939237407932644,
          0.12857099678815775,
          0.12921102486361138,
          0.13088776371107036,
          0.12973606782128444,
          0.12786020445311239,
          0.1284341570451598,
          0.12854950578610938,
          0.13094867969810384,
          0.1300689148823573,
          0.1306581165244635,
          0.13093813004634597,
          0.1293851811640757,
          0.12888318500849957,
          0.1299336001990346,
          0.1293757651014964,
          0.1283236545155534,
          0.1283610281987761,
          0.1303668958313886,
          0.13100483843632926,
          0.12951168965391802,
          0.1303429840366965,
          0.12989771047867635,
          0.12987643457217768,
          0.12905236933239184,
          0.12796383388420965,
          0.12735609697786715,
          0.13106607129637513,
          0.12788651907853732,
          0.13040810277090567,
          0.13097601235007514,
          0.13088297494349035,
          0.13004849827230439,
          0.13030555706611863,
          0.12995382139705136,
          0.12953984386657305,
          0.12905213760565223,
          0.13042456420516088,
          0.1306472188954556,
          0.13006575373022672,
          0.12999759310352765,
          0.12931328348554966,
          0.12985643936292798,
          0.12896697202294016,
          0.13026536876719608,
          0.12701336131704868,
          0.12861460180814444,
          0.1307428762218166,
          0.12978902937636647,
          0.13080857562048323,
          0.12957272025868627,
          0.1294182591841152,
          0.1291425972535696,
          0.12943304036505457,
          0.130768311179137,
          0.12848857930350624,
          0.12821940113774674,
          0.129074778241655,
          0.12793518758457229,
          0.1291919629308703,
          0.1306418937651706,
          0.12842040351870312,
          0.13002457769176742,
          0.13015113774717646,
          0.1292805732649052,
          0.1309086835693687,
          0.13063031145836276,
          0.12761263052747837,
          0.12786386046498302,
          0.12923818773906418,
          0.12992719880669726,
          0.12865816721311119,
          0.12932744763201554,
          0.13001772718725457,
          0.1301610688172244,
          0.1292956023158539,
          0.12943644568276752,
          0.1304551989066389,
          0.13045214927097273,
          0.12957197474005824,
          0.13002799504007173,
          0.12910903290871353,
          0.13013926576703236,
          0.12911525720673864,
          0.13054433966338547,
          0.12773737978706462,
          0.12883429301155264,
          0.13139171637315106,
          0.12930337256465232,
          0.13021657546417661,
          0.12959949173312418,
          0.130754728361682,
          0.13020214573155295,
          0.1300133086233428,
          0.13030673573098864,
          0.129552270907198,
          0.127858055312099,
          0.12966342632755798,
          0.13159248002565999,
          0.12993052735561605,
          0.1311267256113657,
          0.1312161855693037,
          0.12802550427368367,
          0.13103268185360364,
          0.13069529055095386,
          0.13090775337314503
         ],
         "yaxis": "y4"
        },
        {
         "marker": {
          "color": [
           1,
           3,
           5,
           6,
           7,
           8,
           9,
           10,
           11,
           12,
           13,
           14,
           15,
           16,
           17,
           18,
           19,
           20,
           21,
           22,
           23,
           24,
           25,
           26,
           27,
           28,
           29,
           30,
           31,
           32,
           33,
           34,
           35,
           36,
           37,
           38,
           39,
           40,
           41,
           42,
           43,
           44,
           45,
           46,
           47,
           48,
           49,
           50,
           51,
           52,
           53,
           54,
           55,
           56,
           57,
           58,
           59,
           60,
           61,
           62,
           63,
           64,
           65,
           66,
           67,
           68,
           69,
           70,
           71,
           72,
           73,
           74,
           75,
           76,
           77,
           78,
           79,
           80,
           81,
           82,
           83,
           84,
           85,
           86,
           87,
           88,
           89,
           90,
           91,
           92,
           93,
           94,
           95,
           96,
           97,
           98,
           99,
           100,
           101,
           102,
           103,
           104,
           105,
           106,
           107,
           108,
           109,
           110,
           111,
           112,
           113,
           114,
           115,
           116,
           117,
           118,
           119,
           120,
           121,
           122,
           123,
           124,
           125,
           126,
           127,
           128,
           129,
           130
          ],
          "colorbar": {
           "title": {
            "text": "#Trials"
           },
           "x": 1,
           "xpad": 40
          },
          "colorscale": [
           [
            0,
            "rgb(247,251,255)"
           ],
           [
            0.125,
            "rgb(222,235,247)"
           ],
           [
            0.25,
            "rgb(198,219,239)"
           ],
           [
            0.375,
            "rgb(158,202,225)"
           ],
           [
            0.5,
            "rgb(107,174,214)"
           ],
           [
            0.625,
            "rgb(66,146,198)"
           ],
           [
            0.75,
            "rgb(33,113,181)"
           ],
           [
            0.875,
            "rgb(8,81,156)"
           ],
           [
            1,
            "rgb(8,48,107)"
           ]
          ],
          "line": {
           "color": "Grey",
           "width": 0.5
          },
          "showscale": false
         },
         "mode": "markers",
         "showlegend": false,
         "type": "scatter",
         "x": [
          9,
          7,
          10,
          9,
          9,
          10,
          6,
          8,
          9,
          6,
          8,
          9,
          9,
          10,
          8,
          7,
          9,
          7,
          10,
          10,
          10,
          10,
          10,
          10,
          10,
          10,
          10,
          9,
          10,
          9,
          10,
          10,
          10,
          10,
          9,
          10,
          9,
          10,
          8,
          9,
          10,
          10,
          10,
          10,
          10,
          9,
          6,
          7,
          10,
          9,
          8,
          9,
          10,
          10,
          9,
          10,
          9,
          10,
          10,
          10,
          9,
          10,
          10,
          10,
          10,
          8,
          10,
          10,
          9,
          10,
          10,
          10,
          10,
          10,
          10,
          10,
          10,
          10,
          10,
          10,
          9,
          10,
          10,
          10,
          10,
          10,
          7,
          10,
          9,
          10,
          10,
          10,
          10,
          10,
          10,
          10,
          10,
          8,
          10,
          10,
          9,
          10,
          10,
          10,
          10,
          6,
          10,
          10,
          10,
          10,
          10,
          10,
          10,
          10,
          10,
          10,
          10,
          10,
          10,
          10,
          9,
          8,
          9,
          9,
          9,
          9,
          9,
          9
         ],
         "xaxis": "x5",
         "y": [
          0.1295254243272344,
          0.1283417614163213,
          0.12921525070872317,
          0.12660544236544494,
          0.129570030619593,
          0.12663289787296278,
          0.12792114433547705,
          0.12837824786513535,
          0.12854041473562297,
          0.1274708638299065,
          0.1270948302774449,
          0.12872616505683032,
          0.12807707043040834,
          0.12638627137967814,
          0.12838914882853916,
          0.12818060963313363,
          0.12755549185389953,
          0.12542032998214347,
          0.12979852116095536,
          0.12979436801228525,
          0.12819805951291524,
          0.1308014336200209,
          0.12939237407932644,
          0.12857099678815775,
          0.12921102486361138,
          0.13088776371107036,
          0.12973606782128444,
          0.12786020445311239,
          0.1284341570451598,
          0.12854950578610938,
          0.13094867969810384,
          0.1300689148823573,
          0.1306581165244635,
          0.13093813004634597,
          0.1293851811640757,
          0.12888318500849957,
          0.1299336001990346,
          0.1293757651014964,
          0.1283236545155534,
          0.1283610281987761,
          0.1303668958313886,
          0.13100483843632926,
          0.12951168965391802,
          0.1303429840366965,
          0.12989771047867635,
          0.12987643457217768,
          0.12905236933239184,
          0.12796383388420965,
          0.12735609697786715,
          0.13106607129637513,
          0.12788651907853732,
          0.13040810277090567,
          0.13097601235007514,
          0.13088297494349035,
          0.13004849827230439,
          0.13030555706611863,
          0.12995382139705136,
          0.12953984386657305,
          0.12905213760565223,
          0.13042456420516088,
          0.1306472188954556,
          0.13006575373022672,
          0.12999759310352765,
          0.12931328348554966,
          0.12985643936292798,
          0.12896697202294016,
          0.13026536876719608,
          0.12701336131704868,
          0.12861460180814444,
          0.1307428762218166,
          0.12978902937636647,
          0.13080857562048323,
          0.12957272025868627,
          0.1294182591841152,
          0.1291425972535696,
          0.12943304036505457,
          0.130768311179137,
          0.12848857930350624,
          0.12821940113774674,
          0.129074778241655,
          0.12793518758457229,
          0.1291919629308703,
          0.1306418937651706,
          0.12842040351870312,
          0.13002457769176742,
          0.13015113774717646,
          0.1292805732649052,
          0.1309086835693687,
          0.13063031145836276,
          0.12761263052747837,
          0.12786386046498302,
          0.12923818773906418,
          0.12992719880669726,
          0.12865816721311119,
          0.12932744763201554,
          0.13001772718725457,
          0.1301610688172244,
          0.1292956023158539,
          0.12943644568276752,
          0.1304551989066389,
          0.13045214927097273,
          0.12957197474005824,
          0.13002799504007173,
          0.12910903290871353,
          0.13013926576703236,
          0.12911525720673864,
          0.13054433966338547,
          0.12773737978706462,
          0.12883429301155264,
          0.13139171637315106,
          0.12930337256465232,
          0.13021657546417661,
          0.12959949173312418,
          0.130754728361682,
          0.13020214573155295,
          0.1300133086233428,
          0.13030673573098864,
          0.129552270907198,
          0.127858055312099,
          0.12966342632755798,
          0.13159248002565999,
          0.12993052735561605,
          0.1311267256113657,
          0.1312161855693037,
          0.12802550427368367,
          0.13103268185360364,
          0.13069529055095386,
          0.13090775337314503
         ],
         "yaxis": "y5"
        },
        {
         "marker": {
          "color": [
           1,
           3,
           5,
           6,
           7,
           8,
           9,
           10,
           11,
           12,
           13,
           14,
           15,
           16,
           17,
           18,
           19,
           20,
           21,
           22,
           23,
           24,
           25,
           26,
           27,
           28,
           29,
           30,
           31,
           32,
           33,
           34,
           35,
           36,
           37,
           38,
           39,
           40,
           41,
           42,
           43,
           44,
           45,
           46,
           47,
           48,
           49,
           50,
           51,
           52,
           53,
           54,
           55,
           56,
           57,
           58,
           59,
           60,
           61,
           62,
           63,
           64,
           65,
           66,
           67,
           68,
           69,
           70,
           71,
           72,
           73,
           74,
           75,
           76,
           77,
           78,
           79,
           80,
           81,
           82,
           83,
           84,
           85,
           86,
           87,
           88,
           89,
           90,
           91,
           92,
           93,
           94,
           95,
           96,
           97,
           98,
           99,
           100,
           101,
           102,
           103,
           104,
           105,
           106,
           107,
           108,
           109,
           110,
           111,
           112,
           113,
           114,
           115,
           116,
           117,
           118,
           119,
           120,
           121,
           122,
           123,
           124,
           125,
           126,
           127,
           128,
           129,
           130
          ],
          "colorbar": {
           "title": {
            "text": "#Trials"
           },
           "x": 1,
           "xpad": 40
          },
          "colorscale": [
           [
            0,
            "rgb(247,251,255)"
           ],
           [
            0.125,
            "rgb(222,235,247)"
           ],
           [
            0.25,
            "rgb(198,219,239)"
           ],
           [
            0.375,
            "rgb(158,202,225)"
           ],
           [
            0.5,
            "rgb(107,174,214)"
           ],
           [
            0.625,
            "rgb(66,146,198)"
           ],
           [
            0.75,
            "rgb(33,113,181)"
           ],
           [
            0.875,
            "rgb(8,81,156)"
           ],
           [
            1,
            "rgb(8,48,107)"
           ]
          ],
          "line": {
           "color": "Grey",
           "width": 0.5
          },
          "showscale": false
         },
         "mode": "markers",
         "showlegend": false,
         "type": "scatter",
         "x": [
          1500,
          700,
          600,
          500,
          1300,
          1000,
          1600,
          1300,
          1500,
          1400,
          2000,
          1800,
          1000,
          1000,
          1700,
          1200,
          1200,
          1900,
          1500,
          800,
          800,
          1100,
          800,
          900,
          1200,
          1100,
          1100,
          1400,
          1100,
          1500,
          1600,
          1700,
          1700,
          1800,
          2000,
          1800,
          1400,
          1100,
          600,
          1600,
          1300,
          1800,
          1800,
          1900,
          1900,
          1600,
          1800,
          2000,
          1000,
          1700,
          1700,
          1600,
          1900,
          1900,
          1800,
          1900,
          1700,
          2000,
          1600,
          1500,
          1800,
          1900,
          1900,
          1700,
          2000,
          1800,
          1900,
          1800,
          1700,
          2000,
          900,
          1200,
          1200,
          1300,
          1100,
          1400,
          1900,
          1200,
          1000,
          1800,
          900,
          1100,
          1100,
          1300,
          1200,
          1000,
          1700,
          1500,
          1500,
          1600,
          1500,
          1600,
          1200,
          1700,
          1100,
          1900,
          1800,
          500,
          1800,
          1700,
          1900,
          1900,
          2000,
          1400,
          1800,
          1900,
          1600,
          1300,
          1000,
          2000,
          2000,
          1900,
          2000,
          1900,
          1800,
          2000,
          1100,
          1700,
          1200,
          1800,
          1900,
          1900,
          2000,
          2000,
          2000,
          2000,
          2000,
          2000
         ],
         "xaxis": "x6",
         "y": [
          0.1295254243272344,
          0.1283417614163213,
          0.12921525070872317,
          0.12660544236544494,
          0.129570030619593,
          0.12663289787296278,
          0.12792114433547705,
          0.12837824786513535,
          0.12854041473562297,
          0.1274708638299065,
          0.1270948302774449,
          0.12872616505683032,
          0.12807707043040834,
          0.12638627137967814,
          0.12838914882853916,
          0.12818060963313363,
          0.12755549185389953,
          0.12542032998214347,
          0.12979852116095536,
          0.12979436801228525,
          0.12819805951291524,
          0.1308014336200209,
          0.12939237407932644,
          0.12857099678815775,
          0.12921102486361138,
          0.13088776371107036,
          0.12973606782128444,
          0.12786020445311239,
          0.1284341570451598,
          0.12854950578610938,
          0.13094867969810384,
          0.1300689148823573,
          0.1306581165244635,
          0.13093813004634597,
          0.1293851811640757,
          0.12888318500849957,
          0.1299336001990346,
          0.1293757651014964,
          0.1283236545155534,
          0.1283610281987761,
          0.1303668958313886,
          0.13100483843632926,
          0.12951168965391802,
          0.1303429840366965,
          0.12989771047867635,
          0.12987643457217768,
          0.12905236933239184,
          0.12796383388420965,
          0.12735609697786715,
          0.13106607129637513,
          0.12788651907853732,
          0.13040810277090567,
          0.13097601235007514,
          0.13088297494349035,
          0.13004849827230439,
          0.13030555706611863,
          0.12995382139705136,
          0.12953984386657305,
          0.12905213760565223,
          0.13042456420516088,
          0.1306472188954556,
          0.13006575373022672,
          0.12999759310352765,
          0.12931328348554966,
          0.12985643936292798,
          0.12896697202294016,
          0.13026536876719608,
          0.12701336131704868,
          0.12861460180814444,
          0.1307428762218166,
          0.12978902937636647,
          0.13080857562048323,
          0.12957272025868627,
          0.1294182591841152,
          0.1291425972535696,
          0.12943304036505457,
          0.130768311179137,
          0.12848857930350624,
          0.12821940113774674,
          0.129074778241655,
          0.12793518758457229,
          0.1291919629308703,
          0.1306418937651706,
          0.12842040351870312,
          0.13002457769176742,
          0.13015113774717646,
          0.1292805732649052,
          0.1309086835693687,
          0.13063031145836276,
          0.12761263052747837,
          0.12786386046498302,
          0.12923818773906418,
          0.12992719880669726,
          0.12865816721311119,
          0.12932744763201554,
          0.13001772718725457,
          0.1301610688172244,
          0.1292956023158539,
          0.12943644568276752,
          0.1304551989066389,
          0.13045214927097273,
          0.12957197474005824,
          0.13002799504007173,
          0.12910903290871353,
          0.13013926576703236,
          0.12911525720673864,
          0.13054433966338547,
          0.12773737978706462,
          0.12883429301155264,
          0.13139171637315106,
          0.12930337256465232,
          0.13021657546417661,
          0.12959949173312418,
          0.130754728361682,
          0.13020214573155295,
          0.1300133086233428,
          0.13030673573098864,
          0.129552270907198,
          0.127858055312099,
          0.12966342632755798,
          0.13159248002565999,
          0.12993052735561605,
          0.1311267256113657,
          0.1312161855693037,
          0.12802550427368367,
          0.13103268185360364,
          0.13069529055095386,
          0.13090775337314503
         ],
         "yaxis": "y6"
        },
        {
         "marker": {
          "color": [
           1,
           3,
           5,
           6,
           7,
           8,
           9,
           10,
           11,
           12,
           13,
           14,
           15,
           16,
           17,
           18,
           19,
           20,
           21,
           22,
           23,
           24,
           25,
           26,
           27,
           28,
           29,
           30,
           31,
           32,
           33,
           34,
           35,
           36,
           37,
           38,
           39,
           40,
           41,
           42,
           43,
           44,
           45,
           46,
           47,
           48,
           49,
           50,
           51,
           52,
           53,
           54,
           55,
           56,
           57,
           58,
           59,
           60,
           61,
           62,
           63,
           64,
           65,
           66,
           67,
           68,
           69,
           70,
           71,
           72,
           73,
           74,
           75,
           76,
           77,
           78,
           79,
           80,
           81,
           82,
           83,
           84,
           85,
           86,
           87,
           88,
           89,
           90,
           91,
           92,
           93,
           94,
           95,
           96,
           97,
           98,
           99,
           100,
           101,
           102,
           103,
           104,
           105,
           106,
           107,
           108,
           109,
           110,
           111,
           112,
           113,
           114,
           115,
           116,
           117,
           118,
           119,
           120,
           121,
           122,
           123,
           124,
           125,
           126,
           127,
           128,
           129,
           130
          ],
          "colorbar": {
           "title": {
            "text": "#Trials"
           },
           "x": 1,
           "xpad": 40
          },
          "colorscale": [
           [
            0,
            "rgb(247,251,255)"
           ],
           [
            0.125,
            "rgb(222,235,247)"
           ],
           [
            0.25,
            "rgb(198,219,239)"
           ],
           [
            0.375,
            "rgb(158,202,225)"
           ],
           [
            0.5,
            "rgb(107,174,214)"
           ],
           [
            0.625,
            "rgb(66,146,198)"
           ],
           [
            0.75,
            "rgb(33,113,181)"
           ],
           [
            0.875,
            "rgb(8,81,156)"
           ],
           [
            1,
            "rgb(8,48,107)"
           ]
          ],
          "line": {
           "color": "Grey",
           "width": 0.5
          },
          "showscale": false
         },
         "mode": "markers",
         "showlegend": false,
         "type": "scatter",
         "x": [
          500,
          1000,
          1200,
          1400,
          1900,
          2000,
          700,
          1300,
          500,
          1700,
          2000,
          900,
          1600,
          500,
          1700,
          900,
          1500,
          1800,
          1100,
          1100,
          1100,
          1200,
          1200,
          1000,
          800,
          1400,
          1400,
          1300,
          1500,
          1400,
          1100,
          1100,
          1000,
          700,
          600,
          700,
          1200,
          1300,
          900,
          1500,
          800,
          1000,
          1300,
          700,
          1200,
          1000,
          1400,
          600,
          800,
          900,
          900,
          900,
          1100,
          1100,
          1000,
          600,
          800,
          1000,
          1100,
          700,
          900,
          1100,
          1200,
          1000,
          1100,
          1100,
          1300,
          1600,
          800,
          900,
          1000,
          1200,
          1200,
          1400,
          1200,
          1300,
          1100,
          1000,
          1500,
          1300,
          1900,
          1200,
          1200,
          1100,
          500,
          1100,
          1300,
          1000,
          900,
          1000,
          900,
          1100,
          1200,
          1400,
          1000,
          1200,
          1000,
          1100,
          700,
          600,
          1000,
          1100,
          1100,
          1200,
          1200,
          1100,
          1000,
          1300,
          1100,
          900,
          800,
          900,
          900,
          800,
          1000,
          1100,
          1000,
          1600,
          1200,
          1100,
          800,
          800,
          700,
          700,
          700,
          600,
          600,
          700
         ],
         "xaxis": "x7",
         "y": [
          0.1295254243272344,
          0.1283417614163213,
          0.12921525070872317,
          0.12660544236544494,
          0.129570030619593,
          0.12663289787296278,
          0.12792114433547705,
          0.12837824786513535,
          0.12854041473562297,
          0.1274708638299065,
          0.1270948302774449,
          0.12872616505683032,
          0.12807707043040834,
          0.12638627137967814,
          0.12838914882853916,
          0.12818060963313363,
          0.12755549185389953,
          0.12542032998214347,
          0.12979852116095536,
          0.12979436801228525,
          0.12819805951291524,
          0.1308014336200209,
          0.12939237407932644,
          0.12857099678815775,
          0.12921102486361138,
          0.13088776371107036,
          0.12973606782128444,
          0.12786020445311239,
          0.1284341570451598,
          0.12854950578610938,
          0.13094867969810384,
          0.1300689148823573,
          0.1306581165244635,
          0.13093813004634597,
          0.1293851811640757,
          0.12888318500849957,
          0.1299336001990346,
          0.1293757651014964,
          0.1283236545155534,
          0.1283610281987761,
          0.1303668958313886,
          0.13100483843632926,
          0.12951168965391802,
          0.1303429840366965,
          0.12989771047867635,
          0.12987643457217768,
          0.12905236933239184,
          0.12796383388420965,
          0.12735609697786715,
          0.13106607129637513,
          0.12788651907853732,
          0.13040810277090567,
          0.13097601235007514,
          0.13088297494349035,
          0.13004849827230439,
          0.13030555706611863,
          0.12995382139705136,
          0.12953984386657305,
          0.12905213760565223,
          0.13042456420516088,
          0.1306472188954556,
          0.13006575373022672,
          0.12999759310352765,
          0.12931328348554966,
          0.12985643936292798,
          0.12896697202294016,
          0.13026536876719608,
          0.12701336131704868,
          0.12861460180814444,
          0.1307428762218166,
          0.12978902937636647,
          0.13080857562048323,
          0.12957272025868627,
          0.1294182591841152,
          0.1291425972535696,
          0.12943304036505457,
          0.130768311179137,
          0.12848857930350624,
          0.12821940113774674,
          0.129074778241655,
          0.12793518758457229,
          0.1291919629308703,
          0.1306418937651706,
          0.12842040351870312,
          0.13002457769176742,
          0.13015113774717646,
          0.1292805732649052,
          0.1309086835693687,
          0.13063031145836276,
          0.12761263052747837,
          0.12786386046498302,
          0.12923818773906418,
          0.12992719880669726,
          0.12865816721311119,
          0.12932744763201554,
          0.13001772718725457,
          0.1301610688172244,
          0.1292956023158539,
          0.12943644568276752,
          0.1304551989066389,
          0.13045214927097273,
          0.12957197474005824,
          0.13002799504007173,
          0.12910903290871353,
          0.13013926576703236,
          0.12911525720673864,
          0.13054433966338547,
          0.12773737978706462,
          0.12883429301155264,
          0.13139171637315106,
          0.12930337256465232,
          0.13021657546417661,
          0.12959949173312418,
          0.130754728361682,
          0.13020214573155295,
          0.1300133086233428,
          0.13030673573098864,
          0.129552270907198,
          0.127858055312099,
          0.12966342632755798,
          0.13159248002565999,
          0.12993052735561605,
          0.1311267256113657,
          0.1312161855693037,
          0.12802550427368367,
          0.13103268185360364,
          0.13069529055095386,
          0.13090775337314503
         ],
         "yaxis": "y7"
        },
        {
         "marker": {
          "color": [
           1,
           3,
           5,
           6,
           7,
           8,
           9,
           10,
           11,
           12,
           13,
           14,
           15,
           16,
           17,
           18,
           19,
           20,
           21,
           22,
           23,
           24,
           25,
           26,
           27,
           28,
           29,
           30,
           31,
           32,
           33,
           34,
           35,
           36,
           37,
           38,
           39,
           40,
           41,
           42,
           43,
           44,
           45,
           46,
           47,
           48,
           49,
           50,
           51,
           52,
           53,
           54,
           55,
           56,
           57,
           58,
           59,
           60,
           61,
           62,
           63,
           64,
           65,
           66,
           67,
           68,
           69,
           70,
           71,
           72,
           73,
           74,
           75,
           76,
           77,
           78,
           79,
           80,
           81,
           82,
           83,
           84,
           85,
           86,
           87,
           88,
           89,
           90,
           91,
           92,
           93,
           94,
           95,
           96,
           97,
           98,
           99,
           100,
           101,
           102,
           103,
           104,
           105,
           106,
           107,
           108,
           109,
           110,
           111,
           112,
           113,
           114,
           115,
           116,
           117,
           118,
           119,
           120,
           121,
           122,
           123,
           124,
           125,
           126,
           127,
           128,
           129,
           130
          ],
          "colorbar": {
           "title": {
            "text": "#Trials"
           },
           "x": 1,
           "xpad": 40
          },
          "colorscale": [
           [
            0,
            "rgb(247,251,255)"
           ],
           [
            0.125,
            "rgb(222,235,247)"
           ],
           [
            0.25,
            "rgb(198,219,239)"
           ],
           [
            0.375,
            "rgb(158,202,225)"
           ],
           [
            0.5,
            "rgb(107,174,214)"
           ],
           [
            0.625,
            "rgb(66,146,198)"
           ],
           [
            0.75,
            "rgb(33,113,181)"
           ],
           [
            0.875,
            "rgb(8,81,156)"
           ],
           [
            1,
            "rgb(8,48,107)"
           ]
          ],
          "line": {
           "color": "Grey",
           "width": 0.5
          },
          "showscale": false
         },
         "mode": "markers",
         "showlegend": false,
         "type": "scatter",
         "x": [
          5.927967438238213,
          4.137175246621511,
          32.668199135492486,
          39.73473145184178,
          40.64947556859111,
          18.322621445292192,
          19.20391418611321,
          37.07913611997434,
          35.48284817969735,
          38.16885461017571,
          48.11498157994564,
          8.388612428212866,
          0.19552821027386713,
          12.839016777514113,
          26.97747282036532,
          48.8463680026947,
          26.379133370323146,
          18.302969260283238,
          42.495900295855314,
          43.90499311016653,
          44.33173266930803,
          42.52884769828498,
          43.45670197496849,
          32.97654355519889,
          45.058463878030054,
          49.75023984887254,
          49.87399210897326,
          31.069441566117327,
          41.332202990560525,
          45.791982756653866,
          31.074650603232758,
          28.77377061172779,
          22.759243168686112,
          22.868189585062296,
          22.2017620482522,
          13.685765511573049,
          34.69602615559634,
          30.350663614570944,
          23.53214604460563,
          39.08739057262983,
          46.70942804408606,
          21.340841967370398,
          15.61673948849497,
          20.504953564897363,
          26.547338025193394,
          8.576235940163514,
          36.36651874181711,
          15.993396907978955,
          20.996350844296433,
          24.42144086916215,
          28.54268124052674,
          24.056979505146877,
          24.90016683645894,
          24.805832013647837,
          19.66944329782852,
          17.43985004137565,
          25.42252202014934,
          33.70666496311172,
          31.034240471721255,
          10.782801951671065,
          28.907182174316983,
          24.994235472149796,
          21.387467239276962,
          27.60468270741532,
          24.702490747666342,
          18.44119599980888,
          22.954314341692484,
          26.227057707700638,
          3.7645180926553543,
          30.023392173096173,
          16.82098350730586,
          47.21773218579267,
          47.03211960172861,
          48.82148972879849,
          19.71444717927975,
          21.89571856975117,
          49.69919334073549,
          27.61197545252511,
          31.852728094330022,
          14.554919244191332,
          41.03523257208147,
          47.36610875672754,
          43.40861807483626,
          45.74997710785835,
          23.583776304447774,
          37.70085080212685,
          42.819747986732644,
          47.922027909920764,
          44.46347767981055,
          48.21298375196237,
          20.39779102524637,
          46.06181353168409,
          40.005708025202466,
          49.83009945407643,
          42.10129328254194,
          25.90826384979421,
          47.71873743895715,
          22.38790792062324,
          24.524559050865918,
          44.81333498444432,
          38.81022374068351,
          49.87853690182893,
          48.66722272130444,
          45.98541034134582,
          27.101114319456613,
          48.86960191870646,
          18.838284528207655,
          23.199258280210657,
          29.499637596782947,
          46.8118127707661,
          46.946156888746586,
          49.17302024079634,
          47.713987752078246,
          46.39508939942214,
          43.79452413683093,
          45.31519901503256,
          20.95306140338726,
          49.97928968807615,
          28.192347784737585,
          24.24630404053996,
          48.076544759497345,
          48.207075229906906,
          47.41978240905329,
          25.598002482848678,
          25.65691668319679,
          21.68965216083695,
          22.09855424394359,
          20.149595110570022
         ],
         "xaxis": "x8",
         "y": [
          0.1295254243272344,
          0.1283417614163213,
          0.12921525070872317,
          0.12660544236544494,
          0.129570030619593,
          0.12663289787296278,
          0.12792114433547705,
          0.12837824786513535,
          0.12854041473562297,
          0.1274708638299065,
          0.1270948302774449,
          0.12872616505683032,
          0.12807707043040834,
          0.12638627137967814,
          0.12838914882853916,
          0.12818060963313363,
          0.12755549185389953,
          0.12542032998214347,
          0.12979852116095536,
          0.12979436801228525,
          0.12819805951291524,
          0.1308014336200209,
          0.12939237407932644,
          0.12857099678815775,
          0.12921102486361138,
          0.13088776371107036,
          0.12973606782128444,
          0.12786020445311239,
          0.1284341570451598,
          0.12854950578610938,
          0.13094867969810384,
          0.1300689148823573,
          0.1306581165244635,
          0.13093813004634597,
          0.1293851811640757,
          0.12888318500849957,
          0.1299336001990346,
          0.1293757651014964,
          0.1283236545155534,
          0.1283610281987761,
          0.1303668958313886,
          0.13100483843632926,
          0.12951168965391802,
          0.1303429840366965,
          0.12989771047867635,
          0.12987643457217768,
          0.12905236933239184,
          0.12796383388420965,
          0.12735609697786715,
          0.13106607129637513,
          0.12788651907853732,
          0.13040810277090567,
          0.13097601235007514,
          0.13088297494349035,
          0.13004849827230439,
          0.13030555706611863,
          0.12995382139705136,
          0.12953984386657305,
          0.12905213760565223,
          0.13042456420516088,
          0.1306472188954556,
          0.13006575373022672,
          0.12999759310352765,
          0.12931328348554966,
          0.12985643936292798,
          0.12896697202294016,
          0.13026536876719608,
          0.12701336131704868,
          0.12861460180814444,
          0.1307428762218166,
          0.12978902937636647,
          0.13080857562048323,
          0.12957272025868627,
          0.1294182591841152,
          0.1291425972535696,
          0.12943304036505457,
          0.130768311179137,
          0.12848857930350624,
          0.12821940113774674,
          0.129074778241655,
          0.12793518758457229,
          0.1291919629308703,
          0.1306418937651706,
          0.12842040351870312,
          0.13002457769176742,
          0.13015113774717646,
          0.1292805732649052,
          0.1309086835693687,
          0.13063031145836276,
          0.12761263052747837,
          0.12786386046498302,
          0.12923818773906418,
          0.12992719880669726,
          0.12865816721311119,
          0.12932744763201554,
          0.13001772718725457,
          0.1301610688172244,
          0.1292956023158539,
          0.12943644568276752,
          0.1304551989066389,
          0.13045214927097273,
          0.12957197474005824,
          0.13002799504007173,
          0.12910903290871353,
          0.13013926576703236,
          0.12911525720673864,
          0.13054433966338547,
          0.12773737978706462,
          0.12883429301155264,
          0.13139171637315106,
          0.12930337256465232,
          0.13021657546417661,
          0.12959949173312418,
          0.130754728361682,
          0.13020214573155295,
          0.1300133086233428,
          0.13030673573098864,
          0.129552270907198,
          0.127858055312099,
          0.12966342632755798,
          0.13159248002565999,
          0.12993052735561605,
          0.1311267256113657,
          0.1312161855693037,
          0.12802550427368367,
          0.13103268185360364,
          0.13069529055095386,
          0.13090775337314503
         ],
         "yaxis": "y8"
        }
       ],
       "layout": {
        "autosize": true,
        "template": {
         "data": {
          "bar": [
           {
            "error_x": {
             "color": "#2a3f5f"
            },
            "error_y": {
             "color": "#2a3f5f"
            },
            "marker": {
             "line": {
              "color": "#E5ECF6",
              "width": 0.5
             },
             "pattern": {
              "fillmode": "overlay",
              "size": 10,
              "solidity": 0.2
             }
            },
            "type": "bar"
           }
          ],
          "barpolar": [
           {
            "marker": {
             "line": {
              "color": "#E5ECF6",
              "width": 0.5
             },
             "pattern": {
              "fillmode": "overlay",
              "size": 10,
              "solidity": 0.2
             }
            },
            "type": "barpolar"
           }
          ],
          "carpet": [
           {
            "aaxis": {
             "endlinecolor": "#2a3f5f",
             "gridcolor": "white",
             "linecolor": "white",
             "minorgridcolor": "white",
             "startlinecolor": "#2a3f5f"
            },
            "baxis": {
             "endlinecolor": "#2a3f5f",
             "gridcolor": "white",
             "linecolor": "white",
             "minorgridcolor": "white",
             "startlinecolor": "#2a3f5f"
            },
            "type": "carpet"
           }
          ],
          "choropleth": [
           {
            "colorbar": {
             "outlinewidth": 0,
             "ticks": ""
            },
            "type": "choropleth"
           }
          ],
          "contour": [
           {
            "colorbar": {
             "outlinewidth": 0,
             "ticks": ""
            },
            "colorscale": [
             [
              0,
              "#0d0887"
             ],
             [
              0.1111111111111111,
              "#46039f"
             ],
             [
              0.2222222222222222,
              "#7201a8"
             ],
             [
              0.3333333333333333,
              "#9c179e"
             ],
             [
              0.4444444444444444,
              "#bd3786"
             ],
             [
              0.5555555555555556,
              "#d8576b"
             ],
             [
              0.6666666666666666,
              "#ed7953"
             ],
             [
              0.7777777777777778,
              "#fb9f3a"
             ],
             [
              0.8888888888888888,
              "#fdca26"
             ],
             [
              1,
              "#f0f921"
             ]
            ],
            "type": "contour"
           }
          ],
          "contourcarpet": [
           {
            "colorbar": {
             "outlinewidth": 0,
             "ticks": ""
            },
            "type": "contourcarpet"
           }
          ],
          "heatmap": [
           {
            "colorbar": {
             "outlinewidth": 0,
             "ticks": ""
            },
            "colorscale": [
             [
              0,
              "#0d0887"
             ],
             [
              0.1111111111111111,
              "#46039f"
             ],
             [
              0.2222222222222222,
              "#7201a8"
             ],
             [
              0.3333333333333333,
              "#9c179e"
             ],
             [
              0.4444444444444444,
              "#bd3786"
             ],
             [
              0.5555555555555556,
              "#d8576b"
             ],
             [
              0.6666666666666666,
              "#ed7953"
             ],
             [
              0.7777777777777778,
              "#fb9f3a"
             ],
             [
              0.8888888888888888,
              "#fdca26"
             ],
             [
              1,
              "#f0f921"
             ]
            ],
            "type": "heatmap"
           }
          ],
          "heatmapgl": [
           {
            "colorbar": {
             "outlinewidth": 0,
             "ticks": ""
            },
            "colorscale": [
             [
              0,
              "#0d0887"
             ],
             [
              0.1111111111111111,
              "#46039f"
             ],
             [
              0.2222222222222222,
              "#7201a8"
             ],
             [
              0.3333333333333333,
              "#9c179e"
             ],
             [
              0.4444444444444444,
              "#bd3786"
             ],
             [
              0.5555555555555556,
              "#d8576b"
             ],
             [
              0.6666666666666666,
              "#ed7953"
             ],
             [
              0.7777777777777778,
              "#fb9f3a"
             ],
             [
              0.8888888888888888,
              "#fdca26"
             ],
             [
              1,
              "#f0f921"
             ]
            ],
            "type": "heatmapgl"
           }
          ],
          "histogram": [
           {
            "marker": {
             "pattern": {
              "fillmode": "overlay",
              "size": 10,
              "solidity": 0.2
             }
            },
            "type": "histogram"
           }
          ],
          "histogram2d": [
           {
            "colorbar": {
             "outlinewidth": 0,
             "ticks": ""
            },
            "colorscale": [
             [
              0,
              "#0d0887"
             ],
             [
              0.1111111111111111,
              "#46039f"
             ],
             [
              0.2222222222222222,
              "#7201a8"
             ],
             [
              0.3333333333333333,
              "#9c179e"
             ],
             [
              0.4444444444444444,
              "#bd3786"
             ],
             [
              0.5555555555555556,
              "#d8576b"
             ],
             [
              0.6666666666666666,
              "#ed7953"
             ],
             [
              0.7777777777777778,
              "#fb9f3a"
             ],
             [
              0.8888888888888888,
              "#fdca26"
             ],
             [
              1,
              "#f0f921"
             ]
            ],
            "type": "histogram2d"
           }
          ],
          "histogram2dcontour": [
           {
            "colorbar": {
             "outlinewidth": 0,
             "ticks": ""
            },
            "colorscale": [
             [
              0,
              "#0d0887"
             ],
             [
              0.1111111111111111,
              "#46039f"
             ],
             [
              0.2222222222222222,
              "#7201a8"
             ],
             [
              0.3333333333333333,
              "#9c179e"
             ],
             [
              0.4444444444444444,
              "#bd3786"
             ],
             [
              0.5555555555555556,
              "#d8576b"
             ],
             [
              0.6666666666666666,
              "#ed7953"
             ],
             [
              0.7777777777777778,
              "#fb9f3a"
             ],
             [
              0.8888888888888888,
              "#fdca26"
             ],
             [
              1,
              "#f0f921"
             ]
            ],
            "type": "histogram2dcontour"
           }
          ],
          "mesh3d": [
           {
            "colorbar": {
             "outlinewidth": 0,
             "ticks": ""
            },
            "type": "mesh3d"
           }
          ],
          "parcoords": [
           {
            "line": {
             "colorbar": {
              "outlinewidth": 0,
              "ticks": ""
             }
            },
            "type": "parcoords"
           }
          ],
          "pie": [
           {
            "automargin": true,
            "type": "pie"
           }
          ],
          "scatter": [
           {
            "marker": {
             "colorbar": {
              "outlinewidth": 0,
              "ticks": ""
             }
            },
            "type": "scatter"
           }
          ],
          "scatter3d": [
           {
            "line": {
             "colorbar": {
              "outlinewidth": 0,
              "ticks": ""
             }
            },
            "marker": {
             "colorbar": {
              "outlinewidth": 0,
              "ticks": ""
             }
            },
            "type": "scatter3d"
           }
          ],
          "scattercarpet": [
           {
            "marker": {
             "colorbar": {
              "outlinewidth": 0,
              "ticks": ""
             }
            },
            "type": "scattercarpet"
           }
          ],
          "scattergeo": [
           {
            "marker": {
             "colorbar": {
              "outlinewidth": 0,
              "ticks": ""
             }
            },
            "type": "scattergeo"
           }
          ],
          "scattergl": [
           {
            "marker": {
             "colorbar": {
              "outlinewidth": 0,
              "ticks": ""
             }
            },
            "type": "scattergl"
           }
          ],
          "scattermapbox": [
           {
            "marker": {
             "colorbar": {
              "outlinewidth": 0,
              "ticks": ""
             }
            },
            "type": "scattermapbox"
           }
          ],
          "scatterpolar": [
           {
            "marker": {
             "colorbar": {
              "outlinewidth": 0,
              "ticks": ""
             }
            },
            "type": "scatterpolar"
           }
          ],
          "scatterpolargl": [
           {
            "marker": {
             "colorbar": {
              "outlinewidth": 0,
              "ticks": ""
             }
            },
            "type": "scatterpolargl"
           }
          ],
          "scatterternary": [
           {
            "marker": {
             "colorbar": {
              "outlinewidth": 0,
              "ticks": ""
             }
            },
            "type": "scatterternary"
           }
          ],
          "surface": [
           {
            "colorbar": {
             "outlinewidth": 0,
             "ticks": ""
            },
            "colorscale": [
             [
              0,
              "#0d0887"
             ],
             [
              0.1111111111111111,
              "#46039f"
             ],
             [
              0.2222222222222222,
              "#7201a8"
             ],
             [
              0.3333333333333333,
              "#9c179e"
             ],
             [
              0.4444444444444444,
              "#bd3786"
             ],
             [
              0.5555555555555556,
              "#d8576b"
             ],
             [
              0.6666666666666666,
              "#ed7953"
             ],
             [
              0.7777777777777778,
              "#fb9f3a"
             ],
             [
              0.8888888888888888,
              "#fdca26"
             ],
             [
              1,
              "#f0f921"
             ]
            ],
            "type": "surface"
           }
          ],
          "table": [
           {
            "cells": {
             "fill": {
              "color": "#EBF0F8"
             },
             "line": {
              "color": "white"
             }
            },
            "header": {
             "fill": {
              "color": "#C8D4E3"
             },
             "line": {
              "color": "white"
             }
            },
            "type": "table"
           }
          ]
         },
         "layout": {
          "annotationdefaults": {
           "arrowcolor": "#2a3f5f",
           "arrowhead": 0,
           "arrowwidth": 1
          },
          "autotypenumbers": "strict",
          "coloraxis": {
           "colorbar": {
            "outlinewidth": 0,
            "ticks": ""
           }
          },
          "colorscale": {
           "diverging": [
            [
             0,
             "#8e0152"
            ],
            [
             0.1,
             "#c51b7d"
            ],
            [
             0.2,
             "#de77ae"
            ],
            [
             0.3,
             "#f1b6da"
            ],
            [
             0.4,
             "#fde0ef"
            ],
            [
             0.5,
             "#f7f7f7"
            ],
            [
             0.6,
             "#e6f5d0"
            ],
            [
             0.7,
             "#b8e186"
            ],
            [
             0.8,
             "#7fbc41"
            ],
            [
             0.9,
             "#4d9221"
            ],
            [
             1,
             "#276419"
            ]
           ],
           "sequential": [
            [
             0,
             "#0d0887"
            ],
            [
             0.1111111111111111,
             "#46039f"
            ],
            [
             0.2222222222222222,
             "#7201a8"
            ],
            [
             0.3333333333333333,
             "#9c179e"
            ],
            [
             0.4444444444444444,
             "#bd3786"
            ],
            [
             0.5555555555555556,
             "#d8576b"
            ],
            [
             0.6666666666666666,
             "#ed7953"
            ],
            [
             0.7777777777777778,
             "#fb9f3a"
            ],
            [
             0.8888888888888888,
             "#fdca26"
            ],
            [
             1,
             "#f0f921"
            ]
           ],
           "sequentialminus": [
            [
             0,
             "#0d0887"
            ],
            [
             0.1111111111111111,
             "#46039f"
            ],
            [
             0.2222222222222222,
             "#7201a8"
            ],
            [
             0.3333333333333333,
             "#9c179e"
            ],
            [
             0.4444444444444444,
             "#bd3786"
            ],
            [
             0.5555555555555556,
             "#d8576b"
            ],
            [
             0.6666666666666666,
             "#ed7953"
            ],
            [
             0.7777777777777778,
             "#fb9f3a"
            ],
            [
             0.8888888888888888,
             "#fdca26"
            ],
            [
             1,
             "#f0f921"
            ]
           ]
          },
          "colorway": [
           "#636efa",
           "#EF553B",
           "#00cc96",
           "#ab63fa",
           "#FFA15A",
           "#19d3f3",
           "#FF6692",
           "#B6E880",
           "#FF97FF",
           "#FECB52"
          ],
          "font": {
           "color": "#2a3f5f"
          },
          "geo": {
           "bgcolor": "white",
           "lakecolor": "white",
           "landcolor": "#E5ECF6",
           "showlakes": true,
           "showland": true,
           "subunitcolor": "white"
          },
          "hoverlabel": {
           "align": "left"
          },
          "hovermode": "closest",
          "mapbox": {
           "style": "light"
          },
          "paper_bgcolor": "white",
          "plot_bgcolor": "#E5ECF6",
          "polar": {
           "angularaxis": {
            "gridcolor": "white",
            "linecolor": "white",
            "ticks": ""
           },
           "bgcolor": "#E5ECF6",
           "radialaxis": {
            "gridcolor": "white",
            "linecolor": "white",
            "ticks": ""
           }
          },
          "scene": {
           "xaxis": {
            "backgroundcolor": "#E5ECF6",
            "gridcolor": "white",
            "gridwidth": 2,
            "linecolor": "white",
            "showbackground": true,
            "ticks": "",
            "zerolinecolor": "white"
           },
           "yaxis": {
            "backgroundcolor": "#E5ECF6",
            "gridcolor": "white",
            "gridwidth": 2,
            "linecolor": "white",
            "showbackground": true,
            "ticks": "",
            "zerolinecolor": "white"
           },
           "zaxis": {
            "backgroundcolor": "#E5ECF6",
            "gridcolor": "white",
            "gridwidth": 2,
            "linecolor": "white",
            "showbackground": true,
            "ticks": "",
            "zerolinecolor": "white"
           }
          },
          "shapedefaults": {
           "line": {
            "color": "#2a3f5f"
           }
          },
          "ternary": {
           "aaxis": {
            "gridcolor": "white",
            "linecolor": "white",
            "ticks": ""
           },
           "baxis": {
            "gridcolor": "white",
            "linecolor": "white",
            "ticks": ""
           },
           "bgcolor": "#E5ECF6",
           "caxis": {
            "gridcolor": "white",
            "linecolor": "white",
            "ticks": ""
           }
          },
          "title": {
           "x": 0.05
          },
          "xaxis": {
           "automargin": true,
           "gridcolor": "white",
           "linecolor": "white",
           "ticks": "",
           "title": {
            "standoff": 15
           },
           "zerolinecolor": "white",
           "zerolinewidth": 2
          },
          "yaxis": {
           "automargin": true,
           "gridcolor": "white",
           "linecolor": "white",
           "ticks": "",
           "title": {
            "standoff": 15
           },
           "zerolinecolor": "white",
           "zerolinewidth": 2
          }
         }
        },
        "title": {
         "text": "Slice Plot"
        },
        "xaxis": {
         "anchor": "y",
         "autorange": true,
         "domain": [
          0,
          0.103125
         ],
         "range": [
          0.6641806481268673,
          1.0358193518731327
         ],
         "title": {
          "text": "bagging_fraction"
         },
         "type": "linear"
        },
        "xaxis2": {
         "anchor": "y2",
         "autorange": true,
         "domain": [
          0.128125,
          0.23124999999999998
         ],
         "range": [
          0.05224086416915651,
          0.5477591358308435
         ],
         "title": {
          "text": "feature_fraction"
         },
         "type": "linear"
        },
        "xaxis3": {
         "anchor": "y3",
         "autorange": true,
         "domain": [
          0.25625,
          0.359375
         ],
         "range": [
          -3.4114685718128057,
          1.4631279772888042
         ],
         "title": {
          "text": "lambda_l1"
         },
         "type": "log"
        },
        "xaxis4": {
         "anchor": "y4",
         "autorange": true,
         "domain": [
          0.38437499999999997,
          0.48749999999999993
         ],
         "range": [
          -3.405584878527156,
          1.4622402227514228
         ],
         "title": {
          "text": "lambda_l2"
         },
         "type": "log"
        },
        "xaxis5": {
         "anchor": "y5",
         "autorange": true,
         "domain": [
          0.5125,
          0.615625
         ],
         "range": [
          5.522408641691565,
          10.477591358308434
         ],
         "title": {
          "text": "max_bin_exp"
         },
         "type": "linear"
        },
        "xaxis6": {
         "anchor": "y6",
         "autorange": true,
         "domain": [
          0.640625,
          0.74375
         ],
         "range": [
          320.90324063433695,
          2179.0967593656633
         ],
         "title": {
          "text": "min_data_in_leaf"
         },
         "type": "linear"
        },
        "xaxis7": {
         "anchor": "y7",
         "autorange": true,
         "domain": [
          0.76875,
          0.8718750000000001
         ],
         "range": [
          320.90324063433695,
          2179.0967593656633
         ],
         "title": {
          "text": "num_iterations"
         },
         "type": "linear"
        },
        "xaxis8": {
         "anchor": "y8",
         "autorange": true,
         "domain": [
          0.8968750000000001,
          1
         ],
         "range": [
          -5.748545356197816,
          55.92336325454784
         ],
         "title": {
          "text": "path_smooth"
         },
         "type": "linear"
        },
        "yaxis": {
         "anchor": "x",
         "autorange": true,
         "domain": [
          0,
          1
         ],
         "range": [
          0.12491097779408629,
          0.13210183221371719
         ],
         "title": {
          "text": "Objective Value"
         },
         "type": "linear"
        },
        "yaxis2": {
         "anchor": "x2",
         "autorange": true,
         "domain": [
          0,
          1
         ],
         "matches": "y",
         "range": [
          0.12491097779408629,
          0.13210183221371719
         ],
         "showticklabels": false,
         "type": "linear"
        },
        "yaxis3": {
         "anchor": "x3",
         "autorange": true,
         "domain": [
          0,
          1
         ],
         "matches": "y",
         "range": [
          0.12491097779408629,
          0.13210183221371719
         ],
         "showticklabels": false,
         "type": "linear"
        },
        "yaxis4": {
         "anchor": "x4",
         "autorange": true,
         "domain": [
          0,
          1
         ],
         "matches": "y",
         "range": [
          0.12491097779408629,
          0.13210183221371719
         ],
         "showticklabels": false,
         "type": "linear"
        },
        "yaxis5": {
         "anchor": "x5",
         "autorange": true,
         "domain": [
          0,
          1
         ],
         "matches": "y",
         "range": [
          0.12491097779408629,
          0.13210183221371719
         ],
         "showticklabels": false,
         "type": "linear"
        },
        "yaxis6": {
         "anchor": "x6",
         "autorange": true,
         "domain": [
          0,
          1
         ],
         "matches": "y",
         "range": [
          0.12491097779408629,
          0.13210183221371719
         ],
         "showticklabels": false,
         "type": "linear"
        },
        "yaxis7": {
         "anchor": "x7",
         "autorange": true,
         "domain": [
          0,
          1
         ],
         "matches": "y",
         "range": [
          0.12491097779408629,
          0.13210183221371719
         ],
         "showticklabels": false,
         "type": "linear"
        },
        "yaxis8": {
         "anchor": "x8",
         "autorange": true,
         "domain": [
          0,
          1
         ],
         "matches": "y",
         "range": [
          0.12491097779408629,
          0.13210183221371719
         ],
         "showticklabels": false,
         "type": "linear"
        }
       }
      },
      "image/png": "[encoded data removed]"
     },
     "metadata": {},
     "output_type": "display_data"
    }
   ],
   "source": [
    "plot_slice(study)"
   ]
  },
  {
   "cell_type": "code",
   "execution_count": 16,
   "id": "09e43f27-4c48-4a2f-ac8d-fc415c9b45b1",
   "metadata": {
    "tags": []
   },
   "outputs": [
    {
     "data": {
      "application/vnd.plotly.v1+json": {
       "config": {
        "plotlyServerURL": "https://plot.ly"
       },
       "data": [
        {
         "mode": "lines",
         "name": "lgbm-gbrt",
         "type": "scatter",
         "x": [
          0.12542032998214347,
          0.125482674932078,
          0.1255450198820125,
          0.125607364831947,
          0.12566970978188152,
          0.12573205473181603,
          0.12579439968175055,
          0.12585674463168506,
          0.12591908958161957,
          0.12598143453155405,
          0.12604377948148857,
          0.12610612443142308,
          0.1261684693813576,
          0.1262308143312921,
          0.1262931592812266,
          0.12635550423116113,
          0.12641784918109564,
          0.12648019413103015,
          0.12654253908096466,
          0.12660488403089917,
          0.12666722898083368,
          0.1267295739307682,
          0.1267919188807027,
          0.12685426383063722,
          0.12691660878057173,
          0.12697895373050622,
          0.12704129868044073,
          0.12710364363037524,
          0.12716598858030975,
          0.12722833353024426,
          0.12729067848017878,
          0.1273530234301133,
          0.1274153683800478,
          0.1274777133299823,
          0.12754005827991682,
          0.12760240322985134,
          0.12766474817978585,
          0.12772709312972036,
          0.12778943807965487,
          0.12785178302958938,
          0.1279141279795239,
          0.1279764729294584,
          0.1280388178793929,
          0.1281011628293274,
          0.12816350777926191,
          0.12822585272919643,
          0.12828819767913094,
          0.12835054262906545,
          0.12841288757899996,
          0.12847523252893447,
          0.128537577478869,
          0.1285999224288035,
          0.128662267378738,
          0.12872461232867252,
          0.12878695727860703,
          0.12884930222854155,
          0.12891164717847606,
          0.12897399212841057,
          0.12903633707834505,
          0.12909868202827957,
          0.12916102697821408,
          0.1292233719281486,
          0.1292857168780831,
          0.1293480618280176,
          0.12941040677795212,
          0.12947275172788664,
          0.12953509667782115,
          0.12959744162775566,
          0.12965978657769017,
          0.12972213152762468,
          0.1297844764775592,
          0.1298468214274937,
          0.12990916637742822,
          0.12997151132736273,
          0.13003385627729724,
          0.13009620122723173,
          0.13015854617716624,
          0.13022089112710075,
          0.13028323607703526,
          0.13034558102696978,
          0.1304079259769043,
          0.1304702709268388,
          0.1305326158767733,
          0.13059496082670782,
          0.13065730577664234,
          0.13071965072657685,
          0.13078199567651136,
          0.13084434062644587,
          0.13090668557638038,
          0.1309690305263149,
          0.1310313754762494,
          0.1310937204261839,
          0.1311560653761184,
          0.13121841032605291,
          0.13128075527598743,
          0.13134310022592194,
          0.13140544517585645,
          0.13146779012579096,
          0.13153013507572547,
          0.13159248002565999
         ],
         "y": [
          0.0078125,
          0.0078125,
          0.0078125,
          0.0078125,
          0.0078125,
          0.0078125,
          0.0078125,
          0.0078125,
          0.0078125,
          0.0078125,
          0.0078125,
          0.0078125,
          0.0078125,
          0.0078125,
          0.0078125,
          0.0078125,
          0.015625,
          0.015625,
          0.015625,
          0.015625,
          0.03125,
          0.03125,
          0.03125,
          0.03125,
          0.03125,
          0.03125,
          0.0390625,
          0.046875,
          0.046875,
          0.046875,
          0.046875,
          0.046875,
          0.0546875,
          0.0625,
          0.0625,
          0.0703125,
          0.078125,
          0.078125,
          0.0859375,
          0.0859375,
          0.1171875,
          0.140625,
          0.1484375,
          0.15625,
          0.15625,
          0.1796875,
          0.1796875,
          0.1953125,
          0.21875,
          0.234375,
          0.2421875,
          0.265625,
          0.28125,
          0.28125,
          0.2890625,
          0.296875,
          0.3046875,
          0.3125,
          0.3125,
          0.3359375,
          0.359375,
          0.3828125,
          0.3984375,
          0.4296875,
          0.453125,
          0.4765625,
          0.4921875,
          0.53125,
          0.5390625,
          0.546875,
          0.5546875,
          0.578125,
          0.6015625,
          0.6328125,
          0.671875,
          0.6953125,
          0.7109375,
          0.734375,
          0.7421875,
          0.765625,
          0.7734375,
          0.8046875,
          0.8046875,
          0.8125,
          0.8359375,
          0.8515625,
          0.875,
          0.890625,
          0.90625,
          0.9375,
          0.953125,
          0.96875,
          0.9765625,
          0.984375,
          0.984375,
          0.984375,
          0.9921875,
          0.9921875,
          0.9921875,
          1
         ]
        }
       ],
       "layout": {
        "autosize": true,
        "template": {
         "data": {
          "bar": [
           {
            "error_x": {
             "color": "#2a3f5f"
            },
            "error_y": {
             "color": "#2a3f5f"
            },
            "marker": {
             "line": {
              "color": "#E5ECF6",
              "width": 0.5
             },
             "pattern": {
              "fillmode": "overlay",
              "size": 10,
              "solidity": 0.2
             }
            },
            "type": "bar"
           }
          ],
          "barpolar": [
           {
            "marker": {
             "line": {
              "color": "#E5ECF6",
              "width": 0.5
             },
             "pattern": {
              "fillmode": "overlay",
              "size": 10,
              "solidity": 0.2
             }
            },
            "type": "barpolar"
           }
          ],
          "carpet": [
           {
            "aaxis": {
             "endlinecolor": "#2a3f5f",
             "gridcolor": "white",
             "linecolor": "white",
             "minorgridcolor": "white",
             "startlinecolor": "#2a3f5f"
            },
            "baxis": {
             "endlinecolor": "#2a3f5f",
             "gridcolor": "white",
             "linecolor": "white",
             "minorgridcolor": "white",
             "startlinecolor": "#2a3f5f"
            },
            "type": "carpet"
           }
          ],
          "choropleth": [
           {
            "colorbar": {
             "outlinewidth": 0,
             "ticks": ""
            },
            "type": "choropleth"
           }
          ],
          "contour": [
           {
            "colorbar": {
             "outlinewidth": 0,
             "ticks": ""
            },
            "colorscale": [
             [
              0,
              "#0d0887"
             ],
             [
              0.1111111111111111,
              "#46039f"
             ],
             [
              0.2222222222222222,
              "#7201a8"
             ],
             [
              0.3333333333333333,
              "#9c179e"
             ],
             [
              0.4444444444444444,
              "#bd3786"
             ],
             [
              0.5555555555555556,
              "#d8576b"
             ],
             [
              0.6666666666666666,
              "#ed7953"
             ],
             [
              0.7777777777777778,
              "#fb9f3a"
             ],
             [
              0.8888888888888888,
              "#fdca26"
             ],
             [
              1,
              "#f0f921"
             ]
            ],
            "type": "contour"
           }
          ],
          "contourcarpet": [
           {
            "colorbar": {
             "outlinewidth": 0,
             "ticks": ""
            },
            "type": "contourcarpet"
           }
          ],
          "heatmap": [
           {
            "colorbar": {
             "outlinewidth": 0,
             "ticks": ""
            },
            "colorscale": [
             [
              0,
              "#0d0887"
             ],
             [
              0.1111111111111111,
              "#46039f"
             ],
             [
              0.2222222222222222,
              "#7201a8"
             ],
             [
              0.3333333333333333,
              "#9c179e"
             ],
             [
              0.4444444444444444,
              "#bd3786"
             ],
             [
              0.5555555555555556,
              "#d8576b"
             ],
             [
              0.6666666666666666,
              "#ed7953"
             ],
             [
              0.7777777777777778,
              "#fb9f3a"
             ],
             [
              0.8888888888888888,
              "#fdca26"
             ],
             [
              1,
              "#f0f921"
             ]
            ],
            "type": "heatmap"
           }
          ],
          "heatmapgl": [
           {
            "colorbar": {
             "outlinewidth": 0,
             "ticks": ""
            },
            "colorscale": [
             [
              0,
              "#0d0887"
             ],
             [
              0.1111111111111111,
              "#46039f"
             ],
             [
              0.2222222222222222,
              "#7201a8"
             ],
             [
              0.3333333333333333,
              "#9c179e"
             ],
             [
              0.4444444444444444,
              "#bd3786"
             ],
             [
              0.5555555555555556,
              "#d8576b"
             ],
             [
              0.6666666666666666,
              "#ed7953"
             ],
             [
              0.7777777777777778,
              "#fb9f3a"
             ],
             [
              0.8888888888888888,
              "#fdca26"
             ],
             [
              1,
              "#f0f921"
             ]
            ],
            "type": "heatmapgl"
           }
          ],
          "histogram": [
           {
            "marker": {
             "pattern": {
              "fillmode": "overlay",
              "size": 10,
              "solidity": 0.2
             }
            },
            "type": "histogram"
           }
          ],
          "histogram2d": [
           {
            "colorbar": {
             "outlinewidth": 0,
             "ticks": ""
            },
            "colorscale": [
             [
              0,
              "#0d0887"
             ],
             [
              0.1111111111111111,
              "#46039f"
             ],
             [
              0.2222222222222222,
              "#7201a8"
             ],
             [
              0.3333333333333333,
              "#9c179e"
             ],
             [
              0.4444444444444444,
              "#bd3786"
             ],
             [
              0.5555555555555556,
              "#d8576b"
             ],
             [
              0.6666666666666666,
              "#ed7953"
             ],
             [
              0.7777777777777778,
              "#fb9f3a"
             ],
             [
              0.8888888888888888,
              "#fdca26"
             ],
             [
              1,
              "#f0f921"
             ]
            ],
            "type": "histogram2d"
           }
          ],
          "histogram2dcontour": [
           {
            "colorbar": {
             "outlinewidth": 0,
             "ticks": ""
            },
            "colorscale": [
             [
              0,
              "#0d0887"
             ],
             [
              0.1111111111111111,
              "#46039f"
             ],
             [
              0.2222222222222222,
              "#7201a8"
             ],
             [
              0.3333333333333333,
              "#9c179e"
             ],
             [
              0.4444444444444444,
              "#bd3786"
             ],
             [
              0.5555555555555556,
              "#d8576b"
             ],
             [
              0.6666666666666666,
              "#ed7953"
             ],
             [
              0.7777777777777778,
              "#fb9f3a"
             ],
             [
              0.8888888888888888,
              "#fdca26"
             ],
             [
              1,
              "#f0f921"
             ]
            ],
            "type": "histogram2dcontour"
           }
          ],
          "mesh3d": [
           {
            "colorbar": {
             "outlinewidth": 0,
             "ticks": ""
            },
            "type": "mesh3d"
           }
          ],
          "parcoords": [
           {
            "line": {
             "colorbar": {
              "outlinewidth": 0,
              "ticks": ""
             }
            },
            "type": "parcoords"
           }
          ],
          "pie": [
           {
            "automargin": true,
            "type": "pie"
           }
          ],
          "scatter": [
           {
            "marker": {
             "colorbar": {
              "outlinewidth": 0,
              "ticks": ""
             }
            },
            "type": "scatter"
           }
          ],
          "scatter3d": [
           {
            "line": {
             "colorbar": {
              "outlinewidth": 0,
              "ticks": ""
             }
            },
            "marker": {
             "colorbar": {
              "outlinewidth": 0,
              "ticks": ""
             }
            },
            "type": "scatter3d"
           }
          ],
          "scattercarpet": [
           {
            "marker": {
             "colorbar": {
              "outlinewidth": 0,
              "ticks": ""
             }
            },
            "type": "scattercarpet"
           }
          ],
          "scattergeo": [
           {
            "marker": {
             "colorbar": {
              "outlinewidth": 0,
              "ticks": ""
             }
            },
            "type": "scattergeo"
           }
          ],
          "scattergl": [
           {
            "marker": {
             "colorbar": {
              "outlinewidth": 0,
              "ticks": ""
             }
            },
            "type": "scattergl"
           }
          ],
          "scattermapbox": [
           {
            "marker": {
             "colorbar": {
              "outlinewidth": 0,
              "ticks": ""
             }
            },
            "type": "scattermapbox"
           }
          ],
          "scatterpolar": [
           {
            "marker": {
             "colorbar": {
              "outlinewidth": 0,
              "ticks": ""
             }
            },
            "type": "scatterpolar"
           }
          ],
          "scatterpolargl": [
           {
            "marker": {
             "colorbar": {
              "outlinewidth": 0,
              "ticks": ""
             }
            },
            "type": "scatterpolargl"
           }
          ],
          "scatterternary": [
           {
            "marker": {
             "colorbar": {
              "outlinewidth": 0,
              "ticks": ""
             }
            },
            "type": "scatterternary"
           }
          ],
          "surface": [
           {
            "colorbar": {
             "outlinewidth": 0,
             "ticks": ""
            },
            "colorscale": [
             [
              0,
              "#0d0887"
             ],
             [
              0.1111111111111111,
              "#46039f"
             ],
             [
              0.2222222222222222,
              "#7201a8"
             ],
             [
              0.3333333333333333,
              "#9c179e"
             ],
             [
              0.4444444444444444,
              "#bd3786"
             ],
             [
              0.5555555555555556,
              "#d8576b"
             ],
             [
              0.6666666666666666,
              "#ed7953"
             ],
             [
              0.7777777777777778,
              "#fb9f3a"
             ],
             [
              0.8888888888888888,
              "#fdca26"
             ],
             [
              1,
              "#f0f921"
             ]
            ],
            "type": "surface"
           }
          ],
          "table": [
           {
            "cells": {
             "fill": {
              "color": "#EBF0F8"
             },
             "line": {
              "color": "white"
             }
            },
            "header": {
             "fill": {
              "color": "#C8D4E3"
             },
             "line": {
              "color": "white"
             }
            },
            "type": "table"
           }
          ]
         },
         "layout": {
          "annotationdefaults": {
           "arrowcolor": "#2a3f5f",
           "arrowhead": 0,
           "arrowwidth": 1
          },
          "autotypenumbers": "strict",
          "coloraxis": {
           "colorbar": {
            "outlinewidth": 0,
            "ticks": ""
           }
          },
          "colorscale": {
           "diverging": [
            [
             0,
             "#8e0152"
            ],
            [
             0.1,
             "#c51b7d"
            ],
            [
             0.2,
             "#de77ae"
            ],
            [
             0.3,
             "#f1b6da"
            ],
            [
             0.4,
             "#fde0ef"
            ],
            [
             0.5,
             "#f7f7f7"
            ],
            [
             0.6,
             "#e6f5d0"
            ],
            [
             0.7,
             "#b8e186"
            ],
            [
             0.8,
             "#7fbc41"
            ],
            [
             0.9,
             "#4d9221"
            ],
            [
             1,
             "#276419"
            ]
           ],
           "sequential": [
            [
             0,
             "#0d0887"
            ],
            [
             0.1111111111111111,
             "#46039f"
            ],
            [
             0.2222222222222222,
             "#7201a8"
            ],
            [
             0.3333333333333333,
             "#9c179e"
            ],
            [
             0.4444444444444444,
             "#bd3786"
            ],
            [
             0.5555555555555556,
             "#d8576b"
            ],
            [
             0.6666666666666666,
             "#ed7953"
            ],
            [
             0.7777777777777778,
             "#fb9f3a"
            ],
            [
             0.8888888888888888,
             "#fdca26"
            ],
            [
             1,
             "#f0f921"
            ]
           ],
           "sequentialminus": [
            [
             0,
             "#0d0887"
            ],
            [
             0.1111111111111111,
             "#46039f"
            ],
            [
             0.2222222222222222,
             "#7201a8"
            ],
            [
             0.3333333333333333,
             "#9c179e"
            ],
            [
             0.4444444444444444,
             "#bd3786"
            ],
            [
             0.5555555555555556,
             "#d8576b"
            ],
            [
             0.6666666666666666,
             "#ed7953"
            ],
            [
             0.7777777777777778,
             "#fb9f3a"
            ],
            [
             0.8888888888888888,
             "#fdca26"
            ],
            [
             1,
             "#f0f921"
            ]
           ]
          },
          "colorway": [
           "#636efa",
           "#EF553B",
           "#00cc96",
           "#ab63fa",
           "#FFA15A",
           "#19d3f3",
           "#FF6692",
           "#B6E880",
           "#FF97FF",
           "#FECB52"
          ],
          "font": {
           "color": "#2a3f5f"
          },
          "geo": {
           "bgcolor": "white",
           "lakecolor": "white",
           "landcolor": "#E5ECF6",
           "showlakes": true,
           "showland": true,
           "subunitcolor": "white"
          },
          "hoverlabel": {
           "align": "left"
          },
          "hovermode": "closest",
          "mapbox": {
           "style": "light"
          },
          "paper_bgcolor": "white",
          "plot_bgcolor": "#E5ECF6",
          "polar": {
           "angularaxis": {
            "gridcolor": "white",
            "linecolor": "white",
            "ticks": ""
           },
           "bgcolor": "#E5ECF6",
           "radialaxis": {
            "gridcolor": "white",
            "linecolor": "white",
            "ticks": ""
           }
          },
          "scene": {
           "xaxis": {
            "backgroundcolor": "#E5ECF6",
            "gridcolor": "white",
            "gridwidth": 2,
            "linecolor": "white",
            "showbackground": true,
            "ticks": "",
            "zerolinecolor": "white"
           },
           "yaxis": {
            "backgroundcolor": "#E5ECF6",
            "gridcolor": "white",
            "gridwidth": 2,
            "linecolor": "white",
            "showbackground": true,
            "ticks": "",
            "zerolinecolor": "white"
           },
           "zaxis": {
            "backgroundcolor": "#E5ECF6",
            "gridcolor": "white",
            "gridwidth": 2,
            "linecolor": "white",
            "showbackground": true,
            "ticks": "",
            "zerolinecolor": "white"
           }
          },
          "shapedefaults": {
           "line": {
            "color": "#2a3f5f"
           }
          },
          "ternary": {
           "aaxis": {
            "gridcolor": "white",
            "linecolor": "white",
            "ticks": ""
           },
           "baxis": {
            "gridcolor": "white",
            "linecolor": "white",
            "ticks": ""
           },
           "bgcolor": "#E5ECF6",
           "caxis": {
            "gridcolor": "white",
            "linecolor": "white",
            "ticks": ""
           }
          },
          "title": {
           "x": 0.05
          },
          "xaxis": {
           "automargin": true,
           "gridcolor": "white",
           "linecolor": "white",
           "ticks": "",
           "title": {
            "standoff": 15
           },
           "zerolinecolor": "white",
           "zerolinewidth": 2
          },
          "yaxis": {
           "automargin": true,
           "gridcolor": "white",
           "linecolor": "white",
           "ticks": "",
           "title": {
            "standoff": 15
           },
           "zerolinecolor": "white",
           "zerolinewidth": 2
          }
         }
        },
        "title": {
         "text": "Empirical Distribution Function Plot"
        },
        "xaxis": {
         "autorange": true,
         "range": [
          0.12542032998214347,
          0.13159248002565999
         ],
         "title": {
          "text": "Objective Value"
         },
         "type": "linear"
        },
        "yaxis": {
         "range": [
          0,
          1
         ],
         "title": {
          "text": "Cumulative Probability"
         },
         "type": "linear"
        }
       }
      },
      "image/png": "[encoded data removed]"
     },
     "metadata": {},
     "output_type": "display_data"
    }
   ],
   "source": [
    "plot_edf(study)"
   ]
  },
  {
   "cell_type": "code",
   "execution_count": 17,
   "id": "bb491f04-2b3e-49ed-ac73-b09ad06a1b99",
   "metadata": {
    "tags": []
   },
   "outputs": [
    {
     "data": {
      "application/vnd.plotly.v1+json": {
       "config": {
        "plotlyServerURL": "https://plot.ly"
       },
       "data": [
        {
         "dimensions": [
          {
           "label": "Objective Value",
           "range": [
            0.12542032998214347,
            0.13159248002565999
           ],
           "values": [
            0.1295254243272344,
            0.1283417614163213,
            0.12921525070872317,
            0.12660544236544494,
            0.129570030619593,
            0.12663289787296278,
            0.12792114433547705,
            0.12837824786513535,
            0.12854041473562297,
            0.1274708638299065,
            0.1270948302774449,
            0.12872616505683032,
            0.12807707043040834,
            0.12638627137967814,
            0.12838914882853916,
            0.12818060963313363,
            0.12755549185389953,
            0.12542032998214347,
            0.12979852116095536,
            0.12979436801228525,
            0.12819805951291524,
            0.1308014336200209,
            0.12939237407932644,
            0.12857099678815775,
            0.12921102486361138,
            0.13088776371107036,
            0.12973606782128444,
            0.12786020445311239,
            0.1284341570451598,
            0.12854950578610938,
            0.13094867969810384,
            0.1300689148823573,
            0.1306581165244635,
            0.13093813004634597,
            0.1293851811640757,
            0.12888318500849957,
            0.1299336001990346,
            0.1293757651014964,
            0.1283236545155534,
            0.1283610281987761,
            0.1303668958313886,
            0.13100483843632926,
            0.12951168965391802,
            0.1303429840366965,
            0.12989771047867635,
            0.12987643457217768,
            0.12905236933239184,
            0.12796383388420965,
            0.12735609697786715,
            0.13106607129637513,
            0.12788651907853732,
            0.13040810277090567,
            0.13097601235007514,
            0.13088297494349035,
            0.13004849827230439,
            0.13030555706611863,
            0.12995382139705136,
            0.12953984386657305,
            0.12905213760565223,
            0.13042456420516088,
            0.1306472188954556,
            0.13006575373022672,
            0.12999759310352765,
            0.12931328348554966,
            0.12985643936292798,
            0.12896697202294016,
            0.13026536876719608,
            0.12701336131704868,
            0.12861460180814444,
            0.1307428762218166,
            0.12978902937636647,
            0.13080857562048323,
            0.12957272025868627,
            0.1294182591841152,
            0.1291425972535696,
            0.12943304036505457,
            0.130768311179137,
            0.12848857930350624,
            0.12821940113774674,
            0.129074778241655,
            0.12793518758457229,
            0.1291919629308703,
            0.1306418937651706,
            0.12842040351870312,
            0.13002457769176742,
            0.13015113774717646,
            0.1292805732649052,
            0.1309086835693687,
            0.13063031145836276,
            0.12761263052747837,
            0.12786386046498302,
            0.12923818773906418,
            0.12992719880669726,
            0.12865816721311119,
            0.12932744763201554,
            0.13001772718725457,
            0.1301610688172244,
            0.1292956023158539,
            0.12943644568276752,
            0.1304551989066389,
            0.13045214927097273,
            0.12957197474005824,
            0.13002799504007173,
            0.12910903290871353,
            0.13013926576703236,
            0.12911525720673864,
            0.13054433966338547,
            0.12773737978706462,
            0.12883429301155264,
            0.13139171637315106,
            0.12930337256465232,
            0.13021657546417661,
            0.12959949173312418,
            0.130754728361682,
            0.13020214573155295,
            0.1300133086233428,
            0.13030673573098864,
            0.129552270907198,
            0.127858055312099,
            0.12966342632755798,
            0.13159248002565999,
            0.12993052735561605,
            0.1311267256113657,
            0.1312161855693037,
            0.12802550427368367,
            0.13103268185360364,
            0.13069529055095386,
            0.13090775337314503
           ]
          },
          {
           "label": "bagging_fraction",
           "range": [
            0.7,
            1
           ],
           "values": [
            0.8999999999999999,
            0.95,
            1,
            0.7999999999999999,
            1,
            0.8999999999999999,
            0.8999999999999999,
            0.7999999999999999,
            0.7,
            0.85,
            1,
            0.95,
            0.95,
            0.85,
            1,
            0.7,
            0.8999999999999999,
            0.7999999999999999,
            0.95,
            0.95,
            0.95,
            1,
            0.95,
            1,
            0.95,
            1,
            1,
            1,
            0.8999999999999999,
            0.75,
            1,
            1,
            1,
            1,
            1,
            0.95,
            1,
            0.8999999999999999,
            1,
            0.95,
            1,
            1,
            1,
            1,
            0.95,
            1,
            0.95,
            0.75,
            0.8999999999999999,
            1,
            0.85,
            1,
            1,
            1,
            0.95,
            1,
            1,
            0.95,
            0.95,
            1,
            1,
            1,
            1,
            1,
            0.95,
            1,
            1,
            0.95,
            0.7999999999999999,
            1,
            1,
            1,
            1,
            1,
            1,
            1,
            0.95,
            1,
            0.95,
            1,
            1,
            1,
            1,
            1,
            1,
            1,
            0.95,
            1,
            1,
            0.7,
            0.95,
            1,
            1,
            1,
            1,
            1,
            1,
            0.95,
            0.75,
            1,
            1,
            0.8999999999999999,
            0.95,
            0.85,
            1,
            1,
            1,
            1,
            0.95,
            1,
            1,
            1,
            1,
            1,
            1,
            1,
            1,
            1,
            0.95,
            1,
            1,
            1,
            1,
            1,
            1,
            1,
            1,
            1
           ]
          },
          {
           "label": "feature_fraction",
           "range": [
            0.1,
            0.5
           ],
           "values": [
            0.45000000000000007,
            0.4,
            0.35,
            0.35,
            0.15000000000000002,
            0.45000000000000007,
            0.45000000000000007,
            0.25,
            0.25,
            0.15000000000000002,
            0.1,
            0.5,
            0.2,
            0.1,
            0.30000000000000004,
            0.2,
            0.5,
            0.35,
            0.15000000000000002,
            0.15000000000000002,
            0.15000000000000002,
            0.15000000000000002,
            0.2,
            0.1,
            0.25,
            0.15000000000000002,
            0.2,
            0.1,
            0.15000000000000002,
            0.30000000000000004,
            0.25,
            0.25,
            0.30000000000000004,
            0.30000000000000004,
            0.35,
            0.4,
            0.2,
            0.4,
            0.25,
            0.30000000000000004,
            0.30000000000000004,
            0.30000000000000004,
            0.35,
            0.25,
            0.35,
            0.30000000000000004,
            0.25,
            0.2,
            0.1,
            0.15000000000000002,
            0.4,
            0.15000000000000002,
            0.2,
            0.2,
            0.25,
            0.2,
            0.30000000000000004,
            0.15000000000000002,
            0.25,
            0.2,
            0.15000000000000002,
            0.2,
            0.2,
            0.25,
            0.15000000000000002,
            0.30000000000000004,
            0.2,
            0.1,
            0.35,
            0.25,
            0.15000000000000002,
            0.15000000000000002,
            0.15000000000000002,
            0.2,
            0.1,
            0.15000000000000002,
            0.2,
            0.1,
            0.30000000000000004,
            0.15000000000000002,
            0.25,
            0.15000000000000002,
            0.15000000000000002,
            0.1,
            0.2,
            0.15000000000000002,
            0.30000000000000004,
            0.35,
            0.35,
            0.45000000000000007,
            0.35,
            0.4,
            0.30000000000000004,
            0.25,
            0.15000000000000002,
            0.2,
            0.30000000000000004,
            0.15000000000000002,
            0.35,
            0.2,
            0.25,
            0.2,
            0.2,
            0.15000000000000002,
            0.2,
            0.15000000000000002,
            0.25,
            0.1,
            0.2,
            0.30000000000000004,
            0.30000000000000004,
            0.30000000000000004,
            0.30000000000000004,
            0.35,
            0.25,
            0.15000000000000002,
            0.30000000000000004,
            0.25,
            0.5,
            0.2,
            0.15000000000000002,
            0.15000000000000002,
            0.15000000000000002,
            0.15000000000000002,
            0.1,
            0.15000000000000002,
            0.15000000000000002,
            0.15000000000000002
           ]
          },
          {
           "label": "lambda_l1",
           "range": [
            -2.941644284751899,
            0.9933036902278976
           ],
           "ticktext": [
            "0.00114",
            "0.01",
            "0.1",
            "1",
            "9.85"
           ],
           "tickvals": [
            -2.941644284751899,
            -2,
            -1,
            0,
            0.9933036902278976
           ],
           "values": [
            -0.9064402126467949,
            -0.9896031821232032,
            0.6948986512380552,
            -0.6364945198325557,
            0.42127958086941525,
            0.33204906456666344,
            -2.8708752373713673,
            -2.4025354144795226,
            -2.0245048177784306,
            -2.0944385394628817,
            0.030282816144498792,
            -0.35785046789050795,
            -1.3991622896363807,
            0.9933036902278976,
            -1.2805370735040082,
            -0.07515689986113205,
            -0.7959076901218843,
            0.4313149497144576,
            -1.531907915398924,
            -1.6740004179849979,
            -1.545928988598899,
            -1.7389866789576198,
            -1.774481466868258,
            -2.4135148567314717,
            -1.7459581440913812,
            -1.248360870853055,
            -1.1775997302584942,
            -2.138197148980899,
            -2.941644284751899,
            -1.1219603898171226,
            -0.4834638209228531,
            -0.5218709257695813,
            -0.5370574188436931,
            -0.9304408150150854,
            -0.9639117186613757,
            -0.8095454762839893,
            -0.3946384317491892,
            -0.1795022985418224,
            -0.7235186583916464,
            -1.0215868693252612,
            -2.5407328254100605,
            -0.5734155110648241,
            -1.2838589950134183,
            -0.28457629436438703,
            0.1853696682382987,
            -0.9477735980575975,
            -0.6707481128394486,
            -1.4486998696219993,
            -1.911794967397985,
            -0.5072488177847949,
            0.08342128362523209,
            -0.2611813145213485,
            -0.6033849603333175,
            -0.5334018820514782,
            -0.8484555996066251,
            -0.4375100242704306,
            -0.07930266560244457,
            -0.6443565811948624,
            -1.114047120560541,
            -1.2951919960286233,
            -0.13774892751910353,
            -0.48879487413734723,
            -0.6068581734944264,
            -0.7325779033841663,
            -0.886757481054941,
            -0.3784919583706031,
            0.31309906262659,
            -0.2806474076308147,
            -1.0395595488930631,
            -0.604036679503407,
            -0.7518327398795501,
            -0.5234923340455804,
            -0.514875295213844,
            -0.004400608933014591,
            -0.8766558987246857,
            -1.2103349573810884,
            -0.20551939276055053,
            -0.3611990013123204,
            -1.0261960102481777,
            -0.5796943252756019,
            -0.6944908240241559,
            -1.6386633912670314,
            -1.9608367557227215,
            -2.1950230874346746,
            -0.4329822025428428,
            -0.7592818904980954,
            -1.8391260375326781,
            -0.9347349244073976,
            -0.944887919021054,
            -1.4133754203924962,
            -1.1126175796536601,
            -0.465724847557324,
            -0.8186524105494866,
            -0.6580584539082766,
            -0.2876195048595648,
            0.7794548102327582,
            -0.5729366964036021,
            -1.3516175655214164,
            -1.5743045722947029,
            -0.821023726600418,
            -1.1913436479215869,
            -0.22122362423731015,
            -2.6805297805324266,
            -0.09773547099718984,
            -0.32066405292352196,
            0.09109857630109514,
            -0.1833760528645115,
            -0.5277891855074174,
            -0.4195274801280683,
            -0.6932030996198427,
            -0.6896910987494015,
            -0.8986255829427496,
            -0.6081057270685517,
            -0.782587415771516,
            -1.0481036919017617,
            -0.5096773357836188,
            -0.37286553270118095,
            -0.9407082598927727,
            -0.012297630960020161,
            -0.681108304948889,
            -0.4677042966665114,
            -0.5625223094950982,
            -0.22961508705823694,
            -0.4916058325734199,
            -0.4660904308998341,
            -0.3380227667285366,
            -0.34608433881282585,
            -0.13415269037778432
           ]
          },
          {
           "label": "lambda_l2",
           "range": [
            -2.9364132384317534,
            0.9930685826560199
           ],
           "ticktext": [
            "0.00116",
            "0.01",
            "0.1",
            "1",
            "9.84"
           ],
           "tickvals": [
            -2.9364132384317534,
            -2,
            -1,
            0,
            0.9930685826560199
           ],
           "values": [
            -2.825575405960411,
            0.5617697963595183,
            -2.164793364083264,
            0.2545418691558767,
            -1.629000991539508,
            -0.6029794571166147,
            0.5188606019123503,
            -2.110425643934558,
            -1.8485767880476605,
            -2.298991196194933,
            -0.9759626076423823,
            -2.9364132384317534,
            -2.8923567697160704,
            -1.5330275286163686,
            -0.37259369656826824,
            -1.5486839705755917,
            -2.561303802558741,
            -1.2817692096551487,
            -0.055987862310697745,
            -0.13532503976776078,
            0.05736612130932842,
            0.894485968053917,
            0.8596306793585793,
            -0.22928543408868057,
            0.9353406714582408,
            -0.6593587588555634,
            -0.7762089368430094,
            0.27740241543464794,
            -0.5442186386812538,
            -1.0792760998929263,
            0.631197449375729,
            0.6227264258314029,
            0.6837852279919279,
            0.7349598842704197,
            0.3598779263973142,
            0.82392676915741,
            0.12794944205158862,
            0.44649164021958865,
            0.9543166715701024,
            0.7497747600700053,
            0.1478971390814403,
            0.6490032282585944,
            0.5719121382510848,
            0.44490319258613575,
            0.9814757115248253,
            0.716894128704572,
            0.30810260373130294,
            0.5402438397657467,
            -0.37406494449758454,
            -1.855275791156062,
            -1.891474441890008,
            -2.630443741839231,
            -1.9015758275016639,
            -2.0925426960602436,
            -1.3787914452880432,
            -1.7980202251689683,
            -2.268702241103754,
            -1.7251076857514605,
            -1.1075937579005346,
            -1.9859089093414903,
            -0.8747676425494675,
            -2.428847512866725,
            -2.720842720992495,
            -2.0537365996929453,
            -2.201478485392773,
            -2.399963875231856,
            -1.6646160053075918,
            -1.451502600150398,
            -1.9372107149971238,
            -1.243583198101216,
            -0.031430848765272336,
            0.860087818645118,
            0.8283210620857242,
            0.6506426281066158,
            -2.1620768144599376,
            -0.6404751993255778,
            -1.571797627608726,
            0.38256664861889167,
            0.5020228761752974,
            0.7729838046941997,
            0.18056067504696152,
            0.9031302824931609,
            0.6049504954861246,
            0.8533912060471522,
            0.9930685826560199,
            0.7268153933340156,
            -1.7381148699436457,
            -0.24572975968841312,
            -0.4105899235527717,
            -0.6543870930975343,
            -0.18434587824598858,
            -0.8573186665160885,
            -0.46451898422897125,
            0.45418262597288306,
            -0.28042937551205654,
            -2.032713148748214,
            0.7752598513900489,
            0.2477162116134544,
            0.6445986384530934,
            -0.7500984927521437,
            0.03455573906427843,
            -1.806385426434057,
            -1.5179681107883125,
            -1.5950954021897488,
            -1.8626578045516045,
            -2.0728996403906024,
            -2.3106305500948072,
            -1.2635510982731284,
            0.5586702696592599,
            0.8981453363566578,
            0.8856181023418311,
            0.9353559025750152,
            -1.0679618059061833,
            0.7195991615545023,
            0.8099257476319914,
            0.6633119808620836,
            0.36933365364244963,
            0.8821068714663709,
            -1.927524520128463,
            -1.6869259698683416,
            0.5116305731004596,
            0.515974381496401,
            0.9747646558565084,
            0.9928484937237153,
            0.8142495831771075,
            0.9749676918082832,
            0.9643166478011751,
            0.9809986474918158
           ]
          },
          {
           "label": "max_bin_exp",
           "range": [
            6,
            10
           ],
           "values": [
            9,
            7,
            10,
            9,
            9,
            10,
            6,
            8,
            9,
            6,
            8,
            9,
            9,
            10,
            8,
            7,
            9,
            7,
            10,
            10,
            10,
            10,
            10,
            10,
            10,
            10,
            10,
            9,
            10,
            9,
            10,
            10,
            10,
            10,
            9,
            10,
            9,
            10,
            8,
            9,
            10,
            10,
            10,
            10,
            10,
            9,
            6,
            7,
            10,
            9,
            8,
            9,
            10,
            10,
            9,
            10,
            9,
            10,
            10,
            10,
            9,
            10,
            10,
            10,
            10,
            8,
            10,
            10,
            9,
            10,
            10,
            10,
            10,
            10,
            10,
            10,
            10,
            10,
            10,
            10,
            9,
            10,
            10,
            10,
            10,
            10,
            7,
            10,
            9,
            10,
            10,
            10,
            10,
            10,
            10,
            10,
            10,
            8,
            10,
            10,
            9,
            10,
            10,
            10,
            10,
            6,
            10,
            10,
            10,
            10,
            10,
            10,
            10,
            10,
            10,
            10,
            10,
            10,
            10,
            10,
            9,
            8,
            9,
            9,
            9,
            9,
            9,
            9
           ]
          },
          {
           "label": "min_data_in_leaf",
           "range": [
            500,
            2000
           ],
           "values": [
            1500,
            700,
            600,
            500,
            1300,
            1000,
            1600,
            1300,
            1500,
            1400,
            2000,
            1800,
            1000,
            1000,
            1700,
            1200,
            1200,
            1900,
            1500,
            800,
            800,
            1100,
            800,
            900,
            1200,
            1100,
            1100,
            1400,
            1100,
            1500,
            1600,
            1700,
            1700,
            1800,
            2000,
            1800,
            1400,
            1100,
            600,
            1600,
            1300,
            1800,
            1800,
            1900,
            1900,
            1600,
            1800,
            2000,
            1000,
            1700,
            1700,
            1600,
            1900,
            1900,
            1800,
            1900,
            1700,
            2000,
            1600,
            1500,
            1800,
            1900,
            1900,
            1700,
            2000,
            1800,
            1900,
            1800,
            1700,
            2000,
            900,
            1200,
            1200,
            1300,
            1100,
            1400,
            1900,
            1200,
            1000,
            1800,
            900,
            1100,
            1100,
            1300,
            1200,
            1000,
            1700,
            1500,
            1500,
            1600,
            1500,
            1600,
            1200,
            1700,
            1100,
            1900,
            1800,
            500,
            1800,
            1700,
            1900,
            1900,
            2000,
            1400,
            1800,
            1900,
            1600,
            1300,
            1000,
            2000,
            2000,
            1900,
            2000,
            1900,
            1800,
            2000,
            1100,
            1700,
            1200,
            1800,
            1900,
            1900,
            2000,
            2000,
            2000,
            2000,
            2000,
            2000
           ]
          },
          {
           "label": "num_iterations",
           "range": [
            500,
            2000
           ],
           "values": [
            500,
            1000,
            1200,
            1400,
            1900,
            2000,
            700,
            1300,
            500,
            1700,
            2000,
            900,
            1600,
            500,
            1700,
            900,
            1500,
            1800,
            1100,
            1100,
            1100,
            1200,
            1200,
            1000,
            800,
            1400,
            1400,
            1300,
            1500,
            1400,
            1100,
            1100,
            1000,
            700,
            600,
            700,
            1200,
            1300,
            900,
            1500,
            800,
            1000,
            1300,
            700,
            1200,
            1000,
            1400,
            600,
            800,
            900,
            900,
            900,
            1100,
            1100,
            1000,
            600,
            800,
            1000,
            1100,
            700,
            900,
            1100,
            1200,
            1000,
            1100,
            1100,
            1300,
            1600,
            800,
            900,
            1000,
            1200,
            1200,
            1400,
            1200,
            1300,
            1100,
            1000,
            1500,
            1300,
            1900,
            1200,
            1200,
            1100,
            500,
            1100,
            1300,
            1000,
            900,
            1000,
            900,
            1100,
            1200,
            1400,
            1000,
            1200,
            1000,
            1100,
            700,
            600,
            1000,
            1100,
            1100,
            1200,
            1200,
            1100,
            1000,
            1300,
            1100,
            900,
            800,
            900,
            900,
            800,
            1000,
            1100,
            1000,
            1600,
            1200,
            1100,
            800,
            800,
            700,
            700,
            700,
            600,
            600,
            700
           ]
          },
          {
           "label": "path_smooth",
           "range": [
            0.19552821027386713,
            49.97928968807615
           ],
           "values": [
            5.927967438238213,
            4.137175246621511,
            32.668199135492486,
            39.73473145184178,
            40.64947556859111,
            18.322621445292192,
            19.20391418611321,
            37.07913611997434,
            35.48284817969735,
            38.16885461017571,
            48.11498157994564,
            8.388612428212866,
            0.19552821027386713,
            12.839016777514113,
            26.97747282036532,
            48.8463680026947,
            26.379133370323146,
            18.302969260283238,
            42.495900295855314,
            43.90499311016653,
            44.33173266930803,
            42.52884769828498,
            43.45670197496849,
            32.97654355519889,
            45.058463878030054,
            49.75023984887254,
            49.87399210897326,
            31.069441566117327,
            41.332202990560525,
            45.791982756653866,
            31.074650603232758,
            28.77377061172779,
            22.759243168686112,
            22.868189585062296,
            22.2017620482522,
            13.685765511573049,
            34.69602615559634,
            30.350663614570944,
            23.53214604460563,
            39.08739057262983,
            46.70942804408606,
            21.340841967370398,
            15.61673948849497,
            20.504953564897363,
            26.547338025193394,
            8.576235940163514,
            36.36651874181711,
            15.993396907978955,
            20.996350844296433,
            24.42144086916215,
            28.54268124052674,
            24.056979505146877,
            24.90016683645894,
            24.805832013647837,
            19.66944329782852,
            17.43985004137565,
            25.42252202014934,
            33.70666496311172,
            31.034240471721255,
            10.782801951671065,
            28.907182174316983,
            24.994235472149796,
            21.387467239276962,
            27.60468270741532,
            24.702490747666342,
            18.44119599980888,
            22.954314341692484,
            26.227057707700638,
            3.7645180926553543,
            30.023392173096173,
            16.82098350730586,
            47.21773218579267,
            47.03211960172861,
            48.82148972879849,
            19.71444717927975,
            21.89571856975117,
            49.69919334073549,
            27.61197545252511,
            31.852728094330022,
            14.554919244191332,
            41.03523257208147,
            47.36610875672754,
            43.40861807483626,
            45.74997710785835,
            23.583776304447774,
            37.70085080212685,
            42.819747986732644,
            47.922027909920764,
            44.46347767981055,
            48.21298375196237,
            20.39779102524637,
            46.06181353168409,
            40.005708025202466,
            49.83009945407643,
            42.10129328254194,
            25.90826384979421,
            47.71873743895715,
            22.38790792062324,
            24.524559050865918,
            44.81333498444432,
            38.81022374068351,
            49.87853690182893,
            48.66722272130444,
            45.98541034134582,
            27.101114319456613,
            48.86960191870646,
            18.838284528207655,
            23.199258280210657,
            29.499637596782947,
            46.8118127707661,
            46.946156888746586,
            49.17302024079634,
            47.713987752078246,
            46.39508939942214,
            43.79452413683093,
            45.31519901503256,
            20.95306140338726,
            49.97928968807615,
            28.192347784737585,
            24.24630404053996,
            48.076544759497345,
            48.207075229906906,
            47.41978240905329,
            25.598002482848678,
            25.65691668319679,
            21.68965216083695,
            22.09855424394359,
            20.149595110570022
           ]
          }
         ],
         "labelangle": 30,
         "labelside": "bottom",
         "line": {
          "color": [
           0.1295254243272344,
           0.1283417614163213,
           0.12921525070872317,
           0.12660544236544494,
           0.129570030619593,
           0.12663289787296278,
           0.12792114433547705,
           0.12837824786513535,
           0.12854041473562297,
           0.1274708638299065,
           0.1270948302774449,
           0.12872616505683032,
           0.12807707043040834,
           0.12638627137967814,
           0.12838914882853916,
           0.12818060963313363,
           0.12755549185389953,
           0.12542032998214347,
           0.12979852116095536,
           0.12979436801228525,
           0.12819805951291524,
           0.1308014336200209,
           0.12939237407932644,
           0.12857099678815775,
           0.12921102486361138,
           0.13088776371107036,
           0.12973606782128444,
           0.12786020445311239,
           0.1284341570451598,
           0.12854950578610938,
           0.13094867969810384,
           0.1300689148823573,
           0.1306581165244635,
           0.13093813004634597,
           0.1293851811640757,
           0.12888318500849957,
           0.1299336001990346,
           0.1293757651014964,
           0.1283236545155534,
           0.1283610281987761,
           0.1303668958313886,
           0.13100483843632926,
           0.12951168965391802,
           0.1303429840366965,
           0.12989771047867635,
           0.12987643457217768,
           0.12905236933239184,
           0.12796383388420965,
           0.12735609697786715,
           0.13106607129637513,
           0.12788651907853732,
           0.13040810277090567,
           0.13097601235007514,
           0.13088297494349035,
           0.13004849827230439,
           0.13030555706611863,
           0.12995382139705136,
           0.12953984386657305,
           0.12905213760565223,
           0.13042456420516088,
           0.1306472188954556,
           0.13006575373022672,
           0.12999759310352765,
           0.12931328348554966,
           0.12985643936292798,
           0.12896697202294016,
           0.13026536876719608,
           0.12701336131704868,
           0.12861460180814444,
           0.1307428762218166,
           0.12978902937636647,
           0.13080857562048323,
           0.12957272025868627,
           0.1294182591841152,
           0.1291425972535696,
           0.12943304036505457,
           0.130768311179137,
           0.12848857930350624,
           0.12821940113774674,
           0.129074778241655,
           0.12793518758457229,
           0.1291919629308703,
           0.1306418937651706,
           0.12842040351870312,
           0.13002457769176742,
           0.13015113774717646,
           0.1292805732649052,
           0.1309086835693687,
           0.13063031145836276,
           0.12761263052747837,
           0.12786386046498302,
           0.12923818773906418,
           0.12992719880669726,
           0.12865816721311119,
           0.12932744763201554,
           0.13001772718725457,
           0.1301610688172244,
           0.1292956023158539,
           0.12943644568276752,
           0.1304551989066389,
           0.13045214927097273,
           0.12957197474005824,
           0.13002799504007173,
           0.12910903290871353,
           0.13013926576703236,
           0.12911525720673864,
           0.13054433966338547,
           0.12773737978706462,
           0.12883429301155264,
           0.13139171637315106,
           0.12930337256465232,
           0.13021657546417661,
           0.12959949173312418,
           0.130754728361682,
           0.13020214573155295,
           0.1300133086233428,
           0.13030673573098864,
           0.129552270907198,
           0.127858055312099,
           0.12966342632755798,
           0.13159248002565999,
           0.12993052735561605,
           0.1311267256113657,
           0.1312161855693037,
           0.12802550427368367,
           0.13103268185360364,
           0.13069529055095386,
           0.13090775337314503
          ],
          "colorbar": {
           "title": {
            "text": "Objective Value"
           }
          },
          "colorscale": [
           [
            0,
            "rgb(247,251,255)"
           ],
           [
            0.125,
            "rgb(222,235,247)"
           ],
           [
            0.25,
            "rgb(198,219,239)"
           ],
           [
            0.375,
            "rgb(158,202,225)"
           ],
           [
            0.5,
            "rgb(107,174,214)"
           ],
           [
            0.625,
            "rgb(66,146,198)"
           ],
           [
            0.75,
            "rgb(33,113,181)"
           ],
           [
            0.875,
            "rgb(8,81,156)"
           ],
           [
            1,
            "rgb(8,48,107)"
           ]
          ],
          "reversescale": false,
          "showscale": true
         },
         "type": "parcoords"
        }
       ],
       "layout": {
        "autosize": true,
        "template": {
         "data": {
          "bar": [
           {
            "error_x": {
             "color": "#2a3f5f"
            },
            "error_y": {
             "color": "#2a3f5f"
            },
            "marker": {
             "line": {
              "color": "#E5ECF6",
              "width": 0.5
             },
             "pattern": {
              "fillmode": "overlay",
              "size": 10,
              "solidity": 0.2
             }
            },
            "type": "bar"
           }
          ],
          "barpolar": [
           {
            "marker": {
             "line": {
              "color": "#E5ECF6",
              "width": 0.5
             },
             "pattern": {
              "fillmode": "overlay",
              "size": 10,
              "solidity": 0.2
             }
            },
            "type": "barpolar"
           }
          ],
          "carpet": [
           {
            "aaxis": {
             "endlinecolor": "#2a3f5f",
             "gridcolor": "white",
             "linecolor": "white",
             "minorgridcolor": "white",
             "startlinecolor": "#2a3f5f"
            },
            "baxis": {
             "endlinecolor": "#2a3f5f",
             "gridcolor": "white",
             "linecolor": "white",
             "minorgridcolor": "white",
             "startlinecolor": "#2a3f5f"
            },
            "type": "carpet"
           }
          ],
          "choropleth": [
           {
            "colorbar": {
             "outlinewidth": 0,
             "ticks": ""
            },
            "type": "choropleth"
           }
          ],
          "contour": [
           {
            "colorbar": {
             "outlinewidth": 0,
             "ticks": ""
            },
            "colorscale": [
             [
              0,
              "#0d0887"
             ],
             [
              0.1111111111111111,
              "#46039f"
             ],
             [
              0.2222222222222222,
              "#7201a8"
             ],
             [
              0.3333333333333333,
              "#9c179e"
             ],
             [
              0.4444444444444444,
              "#bd3786"
             ],
             [
              0.5555555555555556,
              "#d8576b"
             ],
             [
              0.6666666666666666,
              "#ed7953"
             ],
             [
              0.7777777777777778,
              "#fb9f3a"
             ],
             [
              0.8888888888888888,
              "#fdca26"
             ],
             [
              1,
              "#f0f921"
             ]
            ],
            "type": "contour"
           }
          ],
          "contourcarpet": [
           {
            "colorbar": {
             "outlinewidth": 0,
             "ticks": ""
            },
            "type": "contourcarpet"
           }
          ],
          "heatmap": [
           {
            "colorbar": {
             "outlinewidth": 0,
             "ticks": ""
            },
            "colorscale": [
             [
              0,
              "#0d0887"
             ],
             [
              0.1111111111111111,
              "#46039f"
             ],
             [
              0.2222222222222222,
              "#7201a8"
             ],
             [
              0.3333333333333333,
              "#9c179e"
             ],
             [
              0.4444444444444444,
              "#bd3786"
             ],
             [
              0.5555555555555556,
              "#d8576b"
             ],
             [
              0.6666666666666666,
              "#ed7953"
             ],
             [
              0.7777777777777778,
              "#fb9f3a"
             ],
             [
              0.8888888888888888,
              "#fdca26"
             ],
             [
              1,
              "#f0f921"
             ]
            ],
            "type": "heatmap"
           }
          ],
          "heatmapgl": [
           {
            "colorbar": {
             "outlinewidth": 0,
             "ticks": ""
            },
            "colorscale": [
             [
              0,
              "#0d0887"
             ],
             [
              0.1111111111111111,
              "#46039f"
             ],
             [
              0.2222222222222222,
              "#7201a8"
             ],
             [
              0.3333333333333333,
              "#9c179e"
             ],
             [
              0.4444444444444444,
              "#bd3786"
             ],
             [
              0.5555555555555556,
              "#d8576b"
             ],
             [
              0.6666666666666666,
              "#ed7953"
             ],
             [
              0.7777777777777778,
              "#fb9f3a"
             ],
             [
              0.8888888888888888,
              "#fdca26"
             ],
             [
              1,
              "#f0f921"
             ]
            ],
            "type": "heatmapgl"
           }
          ],
          "histogram": [
           {
            "marker": {
             "pattern": {
              "fillmode": "overlay",
              "size": 10,
              "solidity": 0.2
             }
            },
            "type": "histogram"
           }
          ],
          "histogram2d": [
           {
            "colorbar": {
             "outlinewidth": 0,
             "ticks": ""
            },
            "colorscale": [
             [
              0,
              "#0d0887"
             ],
             [
              0.1111111111111111,
              "#46039f"
             ],
             [
              0.2222222222222222,
              "#7201a8"
             ],
             [
              0.3333333333333333,
              "#9c179e"
             ],
             [
              0.4444444444444444,
              "#bd3786"
             ],
             [
              0.5555555555555556,
              "#d8576b"
             ],
             [
              0.6666666666666666,
              "#ed7953"
             ],
             [
              0.7777777777777778,
              "#fb9f3a"
             ],
             [
              0.8888888888888888,
              "#fdca26"
             ],
             [
              1,
              "#f0f921"
             ]
            ],
            "type": "histogram2d"
           }
          ],
          "histogram2dcontour": [
           {
            "colorbar": {
             "outlinewidth": 0,
             "ticks": ""
            },
            "colorscale": [
             [
              0,
              "#0d0887"
             ],
             [
              0.1111111111111111,
              "#46039f"
             ],
             [
              0.2222222222222222,
              "#7201a8"
             ],
             [
              0.3333333333333333,
              "#9c179e"
             ],
             [
              0.4444444444444444,
              "#bd3786"
             ],
             [
              0.5555555555555556,
              "#d8576b"
             ],
             [
              0.6666666666666666,
              "#ed7953"
             ],
             [
              0.7777777777777778,
              "#fb9f3a"
             ],
             [
              0.8888888888888888,
              "#fdca26"
             ],
             [
              1,
              "#f0f921"
             ]
            ],
            "type": "histogram2dcontour"
           }
          ],
          "mesh3d": [
           {
            "colorbar": {
             "outlinewidth": 0,
             "ticks": ""
            },
            "type": "mesh3d"
           }
          ],
          "parcoords": [
           {
            "line": {
             "colorbar": {
              "outlinewidth": 0,
              "ticks": ""
             }
            },
            "type": "parcoords"
           }
          ],
          "pie": [
           {
            "automargin": true,
            "type": "pie"
           }
          ],
          "scatter": [
           {
            "marker": {
             "colorbar": {
              "outlinewidth": 0,
              "ticks": ""
             }
            },
            "type": "scatter"
           }
          ],
          "scatter3d": [
           {
            "line": {
             "colorbar": {
              "outlinewidth": 0,
              "ticks": ""
             }
            },
            "marker": {
             "colorbar": {
              "outlinewidth": 0,
              "ticks": ""
             }
            },
            "type": "scatter3d"
           }
          ],
          "scattercarpet": [
           {
            "marker": {
             "colorbar": {
              "outlinewidth": 0,
              "ticks": ""
             }
            },
            "type": "scattercarpet"
           }
          ],
          "scattergeo": [
           {
            "marker": {
             "colorbar": {
              "outlinewidth": 0,
              "ticks": ""
             }
            },
            "type": "scattergeo"
           }
          ],
          "scattergl": [
           {
            "marker": {
             "colorbar": {
              "outlinewidth": 0,
              "ticks": ""
             }
            },
            "type": "scattergl"
           }
          ],
          "scattermapbox": [
           {
            "marker": {
             "colorbar": {
              "outlinewidth": 0,
              "ticks": ""
             }
            },
            "type": "scattermapbox"
           }
          ],
          "scatterpolar": [
           {
            "marker": {
             "colorbar": {
              "outlinewidth": 0,
              "ticks": ""
             }
            },
            "type": "scatterpolar"
           }
          ],
          "scatterpolargl": [
           {
            "marker": {
             "colorbar": {
              "outlinewidth": 0,
              "ticks": ""
             }
            },
            "type": "scatterpolargl"
           }
          ],
          "scatterternary": [
           {
            "marker": {
             "colorbar": {
              "outlinewidth": 0,
              "ticks": ""
             }
            },
            "type": "scatterternary"
           }
          ],
          "surface": [
           {
            "colorbar": {
             "outlinewidth": 0,
             "ticks": ""
            },
            "colorscale": [
             [
              0,
              "#0d0887"
             ],
             [
              0.1111111111111111,
              "#46039f"
             ],
             [
              0.2222222222222222,
              "#7201a8"
             ],
             [
              0.3333333333333333,
              "#9c179e"
             ],
             [
              0.4444444444444444,
              "#bd3786"
             ],
             [
              0.5555555555555556,
              "#d8576b"
             ],
             [
              0.6666666666666666,
              "#ed7953"
             ],
             [
              0.7777777777777778,
              "#fb9f3a"
             ],
             [
              0.8888888888888888,
              "#fdca26"
             ],
             [
              1,
              "#f0f921"
             ]
            ],
            "type": "surface"
           }
          ],
          "table": [
           {
            "cells": {
             "fill": {
              "color": "#EBF0F8"
             },
             "line": {
              "color": "white"
             }
            },
            "header": {
             "fill": {
              "color": "#C8D4E3"
             },
             "line": {
              "color": "white"
             }
            },
            "type": "table"
           }
          ]
         },
         "layout": {
          "annotationdefaults": {
           "arrowcolor": "#2a3f5f",
           "arrowhead": 0,
           "arrowwidth": 1
          },
          "autotypenumbers": "strict",
          "coloraxis": {
           "colorbar": {
            "outlinewidth": 0,
            "ticks": ""
           }
          },
          "colorscale": {
           "diverging": [
            [
             0,
             "#8e0152"
            ],
            [
             0.1,
             "#c51b7d"
            ],
            [
             0.2,
             "#de77ae"
            ],
            [
             0.3,
             "#f1b6da"
            ],
            [
             0.4,
             "#fde0ef"
            ],
            [
             0.5,
             "#f7f7f7"
            ],
            [
             0.6,
             "#e6f5d0"
            ],
            [
             0.7,
             "#b8e186"
            ],
            [
             0.8,
             "#7fbc41"
            ],
            [
             0.9,
             "#4d9221"
            ],
            [
             1,
             "#276419"
            ]
           ],
           "sequential": [
            [
             0,
             "#0d0887"
            ],
            [
             0.1111111111111111,
             "#46039f"
            ],
            [
             0.2222222222222222,
             "#7201a8"
            ],
            [
             0.3333333333333333,
             "#9c179e"
            ],
            [
             0.4444444444444444,
             "#bd3786"
            ],
            [
             0.5555555555555556,
             "#d8576b"
            ],
            [
             0.6666666666666666,
             "#ed7953"
            ],
            [
             0.7777777777777778,
             "#fb9f3a"
            ],
            [
             0.8888888888888888,
             "#fdca26"
            ],
            [
             1,
             "#f0f921"
            ]
           ],
           "sequentialminus": [
            [
             0,
             "#0d0887"
            ],
            [
             0.1111111111111111,
             "#46039f"
            ],
            [
             0.2222222222222222,
             "#7201a8"
            ],
            [
             0.3333333333333333,
             "#9c179e"
            ],
            [
             0.4444444444444444,
             "#bd3786"
            ],
            [
             0.5555555555555556,
             "#d8576b"
            ],
            [
             0.6666666666666666,
             "#ed7953"
            ],
            [
             0.7777777777777778,
             "#fb9f3a"
            ],
            [
             0.8888888888888888,
             "#fdca26"
            ],
            [
             1,
             "#f0f921"
            ]
           ]
          },
          "colorway": [
           "#636efa",
           "#EF553B",
           "#00cc96",
           "#ab63fa",
           "#FFA15A",
           "#19d3f3",
           "#FF6692",
           "#B6E880",
           "#FF97FF",
           "#FECB52"
          ],
          "font": {
           "color": "#2a3f5f"
          },
          "geo": {
           "bgcolor": "white",
           "lakecolor": "white",
           "landcolor": "#E5ECF6",
           "showlakes": true,
           "showland": true,
           "subunitcolor": "white"
          },
          "hoverlabel": {
           "align": "left"
          },
          "hovermode": "closest",
          "mapbox": {
           "style": "light"
          },
          "paper_bgcolor": "white",
          "plot_bgcolor": "#E5ECF6",
          "polar": {
           "angularaxis": {
            "gridcolor": "white",
            "linecolor": "white",
            "ticks": ""
           },
           "bgcolor": "#E5ECF6",
           "radialaxis": {
            "gridcolor": "white",
            "linecolor": "white",
            "ticks": ""
           }
          },
          "scene": {
           "xaxis": {
            "backgroundcolor": "#E5ECF6",
            "gridcolor": "white",
            "gridwidth": 2,
            "linecolor": "white",
            "showbackground": true,
            "ticks": "",
            "zerolinecolor": "white"
           },
           "yaxis": {
            "backgroundcolor": "#E5ECF6",
            "gridcolor": "white",
            "gridwidth": 2,
            "linecolor": "white",
            "showbackground": true,
            "ticks": "",
            "zerolinecolor": "white"
           },
           "zaxis": {
            "backgroundcolor": "#E5ECF6",
            "gridcolor": "white",
            "gridwidth": 2,
            "linecolor": "white",
            "showbackground": true,
            "ticks": "",
            "zerolinecolor": "white"
           }
          },
          "shapedefaults": {
           "line": {
            "color": "#2a3f5f"
           }
          },
          "ternary": {
           "aaxis": {
            "gridcolor": "white",
            "linecolor": "white",
            "ticks": ""
           },
           "baxis": {
            "gridcolor": "white",
            "linecolor": "white",
            "ticks": ""
           },
           "bgcolor": "#E5ECF6",
           "caxis": {
            "gridcolor": "white",
            "linecolor": "white",
            "ticks": ""
           }
          },
          "title": {
           "x": 0.05
          },
          "xaxis": {
           "automargin": true,
           "gridcolor": "white",
           "linecolor": "white",
           "ticks": "",
           "title": {
            "standoff": 15
           },
           "zerolinecolor": "white",
           "zerolinewidth": 2
          },
          "yaxis": {
           "automargin": true,
           "gridcolor": "white",
           "linecolor": "white",
           "ticks": "",
           "title": {
            "standoff": 15
           },
           "zerolinecolor": "white",
           "zerolinewidth": 2
          }
         }
        },
        "title": {
         "text": "Parallel Coordinate Plot"
        }
       }
      },
      "image/png": "[encoded data removed]"
     },
     "metadata": {},
     "output_type": "display_data"
    }
   ],
   "source": [
    "plot_parallel_coordinate(study)"
   ]
  },
  {
   "cell_type": "code",
   "execution_count": 18,
   "id": "53c546d3-cef7-4cb8-b80c-1657f0e3dcb2",
   "metadata": {},
   "outputs": [
    {
     "data": {
      "text/plain": [
       "{'objective': 'mse',\n",
       " 'metric': 'rmse',\n",
       " 'learning_rate': 0.05,\n",
       " 'num_leaves': 128,\n",
       " 'force_col_wise': True,\n",
       " 'bagging_freq': 1,\n",
       " 'seed': 19,\n",
       " 'verbosity': -1,\n",
       " 'first_metric_only': False,\n",
       " 'bin_construct_sample_cnt': 100000000,\n",
       " 'feature_pre_filter': False,\n",
       " 'bagging_fraction': 1.0,\n",
       " 'feature_fraction': 0.15000000000000002,\n",
       " 'lambda_l1': 0.3406400464644552,\n",
       " 'lambda_l2': 3.2481088372420728,\n",
       " 'min_data_in_leaf': 1900,\n",
       " 'num_iterations': 800,\n",
       " 'path_smooth': 48.076544759497345,\n",
       " 'max_bin': 511}"
      ]
     },
     "execution_count": 18,
     "metadata": {},
     "output_type": "execute_result"
    }
   ],
   "source": [
    "best_params = dict(study.best_params)\n",
    "best_params[\"max_bin\"] = 2**best_params.pop(\"max_bin_exp\")-1\n",
    "best_params = {**default_params, **best_params}\n",
    "best_params"
   ]
  },
  {
   "cell_type": "markdown",
   "id": "3e18344d-c1f4-41fd-963a-af6f405add15",
   "metadata": {},
   "source": [
    "***"
   ]
  }
 ],
 "metadata": {
  "kernelspec": {
   "display_name": "Python 3 (ipykernel)",
   "language": "python",
   "name": "python3"
  },
  "language_info": {
   "codemirror_mode": {
    "name": "ipython",
    "version": 3
   },
   "file_extension": ".py",
   "mimetype": "text/x-python",
   "name": "python",
   "nbconvert_exporter": "python",
   "pygments_lexer": "ipython3",
   "version": "3.7.12"
  }
 },
 "nbformat": 4,
 "nbformat_minor": 5
}
