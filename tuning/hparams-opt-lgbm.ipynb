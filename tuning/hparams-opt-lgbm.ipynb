{
 "cells": [
  {
   "cell_type": "code",
   "execution_count": 1,
   "id": "6fc57720-af91-4f34-b095-f7471ed11e78",
   "metadata": {},
   "outputs": [
    {
     "data": {
      "text/html": [
       "<style type='text/css'>\n",
       ".datatable table.frame { margin-bottom: 0; }\n",
       ".datatable table.frame thead { border-bottom: none; }\n",
       ".datatable table.frame tr.coltypes td {  color: #FFFFFF;  line-height: 6px;  padding: 0 0.5em;}\n",
       ".datatable .bool    { background: #DDDD99; }\n",
       ".datatable .object  { background: #565656; }\n",
       ".datatable .int     { background: #5D9E5D; }\n",
       ".datatable .float   { background: #4040CC; }\n",
       ".datatable .str     { background: #CC4040; }\n",
       ".datatable .time    { background: #40CC40; }\n",
       ".datatable .row_index {  background: var(--jp-border-color3);  border-right: 1px solid var(--jp-border-color0);  color: var(--jp-ui-font-color3);  font-size: 9px;}\n",
       ".datatable .frame tbody td { text-align: left; }\n",
       ".datatable .frame tr.coltypes .row_index {  background: var(--jp-border-color0);}\n",
       ".datatable th:nth-child(2) { padding-left: 12px; }\n",
       ".datatable .hellipsis {  color: var(--jp-cell-editor-border-color);}\n",
       ".datatable .vellipsis {  background: var(--jp-layout-color0);  color: var(--jp-cell-editor-border-color);}\n",
       ".datatable .na {  color: var(--jp-cell-editor-border-color);  font-size: 80%;}\n",
       ".datatable .sp {  opacity: 0.25;}\n",
       ".datatable .footer { font-size: 9px; }\n",
       ".datatable .frame_dimensions {  background: var(--jp-border-color3);  border-top: 1px solid var(--jp-border-color0);  color: var(--jp-ui-font-color3);  display: inline-block;  opacity: 0.6;  padding: 1px 10px 1px 5px;}\n",
       "</style>\n"
      ],
      "text/plain": [
       "<IPython.core.display.HTML object>"
      ]
     },
     "metadata": {},
     "output_type": "display_data"
    }
   ],
   "source": [
    "import numpy as np\n",
    "import pandas as pd\n",
    "from tqdm import tqdm\n",
    "from scipy import stats\n",
    "import lightgbm as lgb\n",
    "import optuna.integration.lightgbm as olgb\n",
    "\n",
    "import matplotlib.pyplot as plt\n",
    "import seaborn as sns"
   ]
  },
  {
   "cell_type": "markdown",
   "id": "ff6ecffc-64af-45c8-91d9-46ccb4b23fc5",
   "metadata": {},
   "source": [
    "***\n",
    "## loading data"
   ]
  },
  {
   "cell_type": "code",
   "execution_count": 2,
   "id": "e0c43e41-3f1e-4791-9eb1-61c9aaaf1ea4",
   "metadata": {},
   "outputs": [
    {
     "data": {
      "text/html": [
       "<div>\n",
       "<style scoped>\n",
       "    .dataframe tbody tr th:only-of-type {\n",
       "        vertical-align: middle;\n",
       "    }\n",
       "\n",
       "    .dataframe tbody tr th {\n",
       "        vertical-align: top;\n",
       "    }\n",
       "\n",
       "    .dataframe thead th {\n",
       "        text-align: right;\n",
       "    }\n",
       "</style>\n",
       "<table border=\"1\" class=\"dataframe\">\n",
       "  <thead>\n",
       "    <tr style=\"text-align: right;\">\n",
       "      <th></th>\n",
       "      <th>f_0</th>\n",
       "      <th>f_1</th>\n",
       "      <th>f_2</th>\n",
       "      <th>f_3</th>\n",
       "      <th>f_4</th>\n",
       "      <th>f_5</th>\n",
       "      <th>f_6</th>\n",
       "      <th>f_7</th>\n",
       "      <th>f_8</th>\n",
       "      <th>f_9</th>\n",
       "      <th>...</th>\n",
       "      <th>f_290</th>\n",
       "      <th>f_291</th>\n",
       "      <th>f_292</th>\n",
       "      <th>f_293</th>\n",
       "      <th>f_294</th>\n",
       "      <th>f_295</th>\n",
       "      <th>f_296</th>\n",
       "      <th>f_297</th>\n",
       "      <th>f_298</th>\n",
       "      <th>f_299</th>\n",
       "    </tr>\n",
       "  </thead>\n",
       "  <tbody>\n",
       "    <tr>\n",
       "      <th>0</th>\n",
       "      <td>0.932573</td>\n",
       "      <td>0.113691</td>\n",
       "      <td>-0.402206</td>\n",
       "      <td>0.378386</td>\n",
       "      <td>-0.203938</td>\n",
       "      <td>-0.413469</td>\n",
       "      <td>0.965623</td>\n",
       "      <td>1.230508</td>\n",
       "      <td>0.114809</td>\n",
       "      <td>-2.012777</td>\n",
       "      <td>...</td>\n",
       "      <td>0.366028</td>\n",
       "      <td>-1.095620</td>\n",
       "      <td>0.200075</td>\n",
       "      <td>0.819155</td>\n",
       "      <td>0.941183</td>\n",
       "      <td>-0.086764</td>\n",
       "      <td>-1.087009</td>\n",
       "      <td>-1.044826</td>\n",
       "      <td>-0.287605</td>\n",
       "      <td>0.321566</td>\n",
       "    </tr>\n",
       "    <tr>\n",
       "      <th>1</th>\n",
       "      <td>0.810802</td>\n",
       "      <td>-0.514115</td>\n",
       "      <td>0.742368</td>\n",
       "      <td>-0.616673</td>\n",
       "      <td>-0.194255</td>\n",
       "      <td>1.771210</td>\n",
       "      <td>1.428127</td>\n",
       "      <td>1.134144</td>\n",
       "      <td>0.114809</td>\n",
       "      <td>-0.219201</td>\n",
       "      <td>...</td>\n",
       "      <td>-0.154193</td>\n",
       "      <td>0.912726</td>\n",
       "      <td>-0.734579</td>\n",
       "      <td>0.819155</td>\n",
       "      <td>0.941183</td>\n",
       "      <td>-0.387617</td>\n",
       "      <td>-1.087009</td>\n",
       "      <td>-0.929529</td>\n",
       "      <td>-0.974060</td>\n",
       "      <td>-0.343624</td>\n",
       "    </tr>\n",
       "    <tr>\n",
       "      <th>2</th>\n",
       "      <td>0.393974</td>\n",
       "      <td>0.615937</td>\n",
       "      <td>0.567806</td>\n",
       "      <td>-0.607963</td>\n",
       "      <td>0.068883</td>\n",
       "      <td>-1.083155</td>\n",
       "      <td>0.979656</td>\n",
       "      <td>-1.125681</td>\n",
       "      <td>0.114809</td>\n",
       "      <td>-1.035376</td>\n",
       "      <td>...</td>\n",
       "      <td>-0.138020</td>\n",
       "      <td>0.912726</td>\n",
       "      <td>-0.551904</td>\n",
       "      <td>-1.220772</td>\n",
       "      <td>-1.060166</td>\n",
       "      <td>-0.219097</td>\n",
       "      <td>-1.087009</td>\n",
       "      <td>-0.612428</td>\n",
       "      <td>-0.113944</td>\n",
       "      <td>0.243608</td>\n",
       "    </tr>\n",
       "    <tr>\n",
       "      <th>3</th>\n",
       "      <td>-2.343535</td>\n",
       "      <td>-0.011870</td>\n",
       "      <td>1.874606</td>\n",
       "      <td>-0.606346</td>\n",
       "      <td>-0.586827</td>\n",
       "      <td>-0.815737</td>\n",
       "      <td>0.778096</td>\n",
       "      <td>0.298990</td>\n",
       "      <td>0.114809</td>\n",
       "      <td>-1.176410</td>\n",
       "      <td>...</td>\n",
       "      <td>0.382201</td>\n",
       "      <td>0.912726</td>\n",
       "      <td>-0.266359</td>\n",
       "      <td>-1.220772</td>\n",
       "      <td>0.941183</td>\n",
       "      <td>-0.609113</td>\n",
       "      <td>0.104928</td>\n",
       "      <td>-0.783423</td>\n",
       "      <td>1.151730</td>\n",
       "      <td>-0.773309</td>\n",
       "    </tr>\n",
       "    <tr>\n",
       "      <th>4</th>\n",
       "      <td>0.842057</td>\n",
       "      <td>-0.262993</td>\n",
       "      <td>2.330030</td>\n",
       "      <td>-0.583422</td>\n",
       "      <td>-0.618392</td>\n",
       "      <td>-0.742814</td>\n",
       "      <td>-0.946789</td>\n",
       "      <td>1.230508</td>\n",
       "      <td>0.114809</td>\n",
       "      <td>-0.005858</td>\n",
       "      <td>...</td>\n",
       "      <td>-0.170365</td>\n",
       "      <td>0.912726</td>\n",
       "      <td>-0.741355</td>\n",
       "      <td>-1.220772</td>\n",
       "      <td>0.941183</td>\n",
       "      <td>-0.588445</td>\n",
       "      <td>0.104928</td>\n",
       "      <td>0.753279</td>\n",
       "      <td>1.345611</td>\n",
       "      <td>-0.737624</td>\n",
       "    </tr>\n",
       "    <tr>\n",
       "      <th>...</th>\n",
       "      <td>...</td>\n",
       "      <td>...</td>\n",
       "      <td>...</td>\n",
       "      <td>...</td>\n",
       "      <td>...</td>\n",
       "      <td>...</td>\n",
       "      <td>...</td>\n",
       "      <td>...</td>\n",
       "      <td>...</td>\n",
       "      <td>...</td>\n",
       "      <td>...</td>\n",
       "      <td>...</td>\n",
       "      <td>...</td>\n",
       "      <td>...</td>\n",
       "      <td>...</td>\n",
       "      <td>...</td>\n",
       "      <td>...</td>\n",
       "      <td>...</td>\n",
       "      <td>...</td>\n",
       "      <td>...</td>\n",
       "      <td>...</td>\n",
       "    </tr>\n",
       "    <tr>\n",
       "      <th>3141405</th>\n",
       "      <td>0.093530</td>\n",
       "      <td>-0.720275</td>\n",
       "      <td>-0.345497</td>\n",
       "      <td>-0.438781</td>\n",
       "      <td>-0.166972</td>\n",
       "      <td>-0.437182</td>\n",
       "      <td>1.475746</td>\n",
       "      <td>1.284423</td>\n",
       "      <td>0.056425</td>\n",
       "      <td>-1.433681</td>\n",
       "      <td>...</td>\n",
       "      <td>-0.285908</td>\n",
       "      <td>-1.232434</td>\n",
       "      <td>-0.660579</td>\n",
       "      <td>0.875537</td>\n",
       "      <td>0.421628</td>\n",
       "      <td>-0.428097</td>\n",
       "      <td>-0.075548</td>\n",
       "      <td>-0.533092</td>\n",
       "      <td>-0.193732</td>\n",
       "      <td>-0.581394</td>\n",
       "    </tr>\n",
       "    <tr>\n",
       "      <th>3141406</th>\n",
       "      <td>-1.344935</td>\n",
       "      <td>-0.199987</td>\n",
       "      <td>-0.107702</td>\n",
       "      <td>-0.454677</td>\n",
       "      <td>-0.221914</td>\n",
       "      <td>-0.141174</td>\n",
       "      <td>-1.498235</td>\n",
       "      <td>1.373834</td>\n",
       "      <td>0.056425</td>\n",
       "      <td>-1.211572</td>\n",
       "      <td>...</td>\n",
       "      <td>0.184517</td>\n",
       "      <td>-1.232434</td>\n",
       "      <td>-0.670493</td>\n",
       "      <td>0.875537</td>\n",
       "      <td>0.421628</td>\n",
       "      <td>-0.729949</td>\n",
       "      <td>-1.514277</td>\n",
       "      <td>0.013145</td>\n",
       "      <td>-0.890270</td>\n",
       "      <td>-0.589705</td>\n",
       "    </tr>\n",
       "    <tr>\n",
       "      <th>3141407</th>\n",
       "      <td>0.979489</td>\n",
       "      <td>-1.110491</td>\n",
       "      <td>1.006980</td>\n",
       "      <td>-0.467307</td>\n",
       "      <td>-0.159549</td>\n",
       "      <td>1.355671</td>\n",
       "      <td>0.150812</td>\n",
       "      <td>-0.088923</td>\n",
       "      <td>0.056425</td>\n",
       "      <td>0.996380</td>\n",
       "      <td>...</td>\n",
       "      <td>-0.756332</td>\n",
       "      <td>-1.232434</td>\n",
       "      <td>0.820784</td>\n",
       "      <td>-1.142157</td>\n",
       "      <td>0.421628</td>\n",
       "      <td>-0.363329</td>\n",
       "      <td>1.363181</td>\n",
       "      <td>-0.079106</td>\n",
       "      <td>-1.580124</td>\n",
       "      <td>-0.297625</td>\n",
       "    </tr>\n",
       "    <tr>\n",
       "      <th>3141408</th>\n",
       "      <td>-2.565332</td>\n",
       "      <td>0.320301</td>\n",
       "      <td>0.076600</td>\n",
       "      <td>1.380182</td>\n",
       "      <td>-0.155366</td>\n",
       "      <td>-0.689000</td>\n",
       "      <td>0.381069</td>\n",
       "      <td>-1.324759</td>\n",
       "      <td>0.056425</td>\n",
       "      <td>-1.111730</td>\n",
       "      <td>...</td>\n",
       "      <td>-0.756332</td>\n",
       "      <td>-1.232434</td>\n",
       "      <td>0.133074</td>\n",
       "      <td>-1.142157</td>\n",
       "      <td>0.421628</td>\n",
       "      <td>-0.375288</td>\n",
       "      <td>-1.514277</td>\n",
       "      <td>-0.973762</td>\n",
       "      <td>0.608647</td>\n",
       "      <td>-0.372040</td>\n",
       "    </tr>\n",
       "    <tr>\n",
       "      <th>3141409</th>\n",
       "      <td>-0.089557</td>\n",
       "      <td>0.190229</td>\n",
       "      <td>-0.548256</td>\n",
       "      <td>0.151205</td>\n",
       "      <td>0.079773</td>\n",
       "      <td>0.447962</td>\n",
       "      <td>1.014983</td>\n",
       "      <td>-1.324759</td>\n",
       "      <td>0.056425</td>\n",
       "      <td>-1.952123</td>\n",
       "      <td>...</td>\n",
       "      <td>-0.317095</td>\n",
       "      <td>0.811402</td>\n",
       "      <td>3.271590</td>\n",
       "      <td>0.875537</td>\n",
       "      <td>0.421628</td>\n",
       "      <td>-0.170709</td>\n",
       "      <td>1.363181</td>\n",
       "      <td>-0.563314</td>\n",
       "      <td>0.669586</td>\n",
       "      <td>0.456400</td>\n",
       "    </tr>\n",
       "  </tbody>\n",
       "</table>\n",
       "<p>3141410 rows × 300 columns</p>\n",
       "</div>"
      ],
      "text/plain": [
       "              f_0       f_1       f_2       f_3       f_4       f_5       f_6  \\\n",
       "0        0.932573  0.113691 -0.402206  0.378386 -0.203938 -0.413469  0.965623   \n",
       "1        0.810802 -0.514115  0.742368 -0.616673 -0.194255  1.771210  1.428127   \n",
       "2        0.393974  0.615937  0.567806 -0.607963  0.068883 -1.083155  0.979656   \n",
       "3       -2.343535 -0.011870  1.874606 -0.606346 -0.586827 -0.815737  0.778096   \n",
       "4        0.842057 -0.262993  2.330030 -0.583422 -0.618392 -0.742814 -0.946789   \n",
       "...           ...       ...       ...       ...       ...       ...       ...   \n",
       "3141405  0.093530 -0.720275 -0.345497 -0.438781 -0.166972 -0.437182  1.475746   \n",
       "3141406 -1.344935 -0.199987 -0.107702 -0.454677 -0.221914 -0.141174 -1.498235   \n",
       "3141407  0.979489 -1.110491  1.006980 -0.467307 -0.159549  1.355671  0.150812   \n",
       "3141408 -2.565332  0.320301  0.076600  1.380182 -0.155366 -0.689000  0.381069   \n",
       "3141409 -0.089557  0.190229 -0.548256  0.151205  0.079773  0.447962  1.014983   \n",
       "\n",
       "              f_7       f_8       f_9  ...     f_290     f_291     f_292  \\\n",
       "0        1.230508  0.114809 -2.012777  ...  0.366028 -1.095620  0.200075   \n",
       "1        1.134144  0.114809 -0.219201  ... -0.154193  0.912726 -0.734579   \n",
       "2       -1.125681  0.114809 -1.035376  ... -0.138020  0.912726 -0.551904   \n",
       "3        0.298990  0.114809 -1.176410  ...  0.382201  0.912726 -0.266359   \n",
       "4        1.230508  0.114809 -0.005858  ... -0.170365  0.912726 -0.741355   \n",
       "...           ...       ...       ...  ...       ...       ...       ...   \n",
       "3141405  1.284423  0.056425 -1.433681  ... -0.285908 -1.232434 -0.660579   \n",
       "3141406  1.373834  0.056425 -1.211572  ...  0.184517 -1.232434 -0.670493   \n",
       "3141407 -0.088923  0.056425  0.996380  ... -0.756332 -1.232434  0.820784   \n",
       "3141408 -1.324759  0.056425 -1.111730  ... -0.756332 -1.232434  0.133074   \n",
       "3141409 -1.324759  0.056425 -1.952123  ... -0.317095  0.811402  3.271590   \n",
       "\n",
       "            f_293     f_294     f_295     f_296     f_297     f_298     f_299  \n",
       "0        0.819155  0.941183 -0.086764 -1.087009 -1.044826 -0.287605  0.321566  \n",
       "1        0.819155  0.941183 -0.387617 -1.087009 -0.929529 -0.974060 -0.343624  \n",
       "2       -1.220772 -1.060166 -0.219097 -1.087009 -0.612428 -0.113944  0.243608  \n",
       "3       -1.220772  0.941183 -0.609113  0.104928 -0.783423  1.151730 -0.773309  \n",
       "4       -1.220772  0.941183 -0.588445  0.104928  0.753279  1.345611 -0.737624  \n",
       "...           ...       ...       ...       ...       ...       ...       ...  \n",
       "3141405  0.875537  0.421628 -0.428097 -0.075548 -0.533092 -0.193732 -0.581394  \n",
       "3141406  0.875537  0.421628 -0.729949 -1.514277  0.013145 -0.890270 -0.589705  \n",
       "3141407 -1.142157  0.421628 -0.363329  1.363181 -0.079106 -1.580124 -0.297625  \n",
       "3141408 -1.142157  0.421628 -0.375288 -1.514277 -0.973762  0.608647 -0.372040  \n",
       "3141409  0.875537  0.421628 -0.170709  1.363181 -0.563314  0.669586  0.456400  \n",
       "\n",
       "[3141410 rows x 300 columns]"
      ]
     },
     "metadata": {},
     "output_type": "display_data"
    },
    {
     "data": {
      "text/html": [
       "<div>\n",
       "<style scoped>\n",
       "    .dataframe tbody tr th:only-of-type {\n",
       "        vertical-align: middle;\n",
       "    }\n",
       "\n",
       "    .dataframe tbody tr th {\n",
       "        vertical-align: top;\n",
       "    }\n",
       "\n",
       "    .dataframe thead th {\n",
       "        text-align: right;\n",
       "    }\n",
       "</style>\n",
       "<table border=\"1\" class=\"dataframe\">\n",
       "  <thead>\n",
       "    <tr style=\"text-align: right;\">\n",
       "      <th></th>\n",
       "      <th>target</th>\n",
       "    </tr>\n",
       "  </thead>\n",
       "  <tbody>\n",
       "    <tr>\n",
       "      <th>0</th>\n",
       "      <td>-0.300875</td>\n",
       "    </tr>\n",
       "    <tr>\n",
       "      <th>1</th>\n",
       "      <td>-0.231040</td>\n",
       "    </tr>\n",
       "    <tr>\n",
       "      <th>2</th>\n",
       "      <td>0.568807</td>\n",
       "    </tr>\n",
       "    <tr>\n",
       "      <th>3</th>\n",
       "      <td>-1.064780</td>\n",
       "    </tr>\n",
       "    <tr>\n",
       "      <th>4</th>\n",
       "      <td>-0.531940</td>\n",
       "    </tr>\n",
       "    <tr>\n",
       "      <th>...</th>\n",
       "      <td>...</td>\n",
       "    </tr>\n",
       "    <tr>\n",
       "      <th>3141405</th>\n",
       "      <td>0.033600</td>\n",
       "    </tr>\n",
       "    <tr>\n",
       "      <th>3141406</th>\n",
       "      <td>-0.223264</td>\n",
       "    </tr>\n",
       "    <tr>\n",
       "      <th>3141407</th>\n",
       "      <td>-0.559415</td>\n",
       "    </tr>\n",
       "    <tr>\n",
       "      <th>3141408</th>\n",
       "      <td>0.009599</td>\n",
       "    </tr>\n",
       "    <tr>\n",
       "      <th>3141409</th>\n",
       "      <td>1.212112</td>\n",
       "    </tr>\n",
       "  </tbody>\n",
       "</table>\n",
       "<p>3141410 rows × 1 columns</p>\n",
       "</div>"
      ],
      "text/plain": [
       "           target\n",
       "0       -0.300875\n",
       "1       -0.231040\n",
       "2        0.568807\n",
       "3       -1.064780\n",
       "4       -0.531940\n",
       "...           ...\n",
       "3141405  0.033600\n",
       "3141406 -0.223264\n",
       "3141407 -0.559415\n",
       "3141408  0.009599\n",
       "3141409  1.212112\n",
       "\n",
       "[3141410 rows x 1 columns]"
      ]
     },
     "metadata": {},
     "output_type": "display_data"
    },
    {
     "data": {
      "text/html": [
       "<div>\n",
       "<style scoped>\n",
       "    .dataframe tbody tr th:only-of-type {\n",
       "        vertical-align: middle;\n",
       "    }\n",
       "\n",
       "    .dataframe tbody tr th {\n",
       "        vertical-align: top;\n",
       "    }\n",
       "\n",
       "    .dataframe thead th {\n",
       "        text-align: right;\n",
       "    }\n",
       "</style>\n",
       "<table border=\"1\" class=\"dataframe\">\n",
       "  <thead>\n",
       "    <tr style=\"text-align: right;\">\n",
       "      <th></th>\n",
       "      <th>time_id</th>\n",
       "    </tr>\n",
       "  </thead>\n",
       "  <tbody>\n",
       "    <tr>\n",
       "      <th>0</th>\n",
       "      <td>0</td>\n",
       "    </tr>\n",
       "    <tr>\n",
       "      <th>1</th>\n",
       "      <td>0</td>\n",
       "    </tr>\n",
       "    <tr>\n",
       "      <th>2</th>\n",
       "      <td>0</td>\n",
       "    </tr>\n",
       "    <tr>\n",
       "      <th>3</th>\n",
       "      <td>0</td>\n",
       "    </tr>\n",
       "    <tr>\n",
       "      <th>4</th>\n",
       "      <td>0</td>\n",
       "    </tr>\n",
       "    <tr>\n",
       "      <th>...</th>\n",
       "      <td>...</td>\n",
       "    </tr>\n",
       "    <tr>\n",
       "      <th>3141405</th>\n",
       "      <td>1219</td>\n",
       "    </tr>\n",
       "    <tr>\n",
       "      <th>3141406</th>\n",
       "      <td>1219</td>\n",
       "    </tr>\n",
       "    <tr>\n",
       "      <th>3141407</th>\n",
       "      <td>1219</td>\n",
       "    </tr>\n",
       "    <tr>\n",
       "      <th>3141408</th>\n",
       "      <td>1219</td>\n",
       "    </tr>\n",
       "    <tr>\n",
       "      <th>3141409</th>\n",
       "      <td>1219</td>\n",
       "    </tr>\n",
       "  </tbody>\n",
       "</table>\n",
       "<p>3141410 rows × 1 columns</p>\n",
       "</div>"
      ],
      "text/plain": [
       "         time_id\n",
       "0              0\n",
       "1              0\n",
       "2              0\n",
       "3              0\n",
       "4              0\n",
       "...          ...\n",
       "3141405     1219\n",
       "3141406     1219\n",
       "3141407     1219\n",
       "3141408     1219\n",
       "3141409     1219\n",
       "\n",
       "[3141410 rows x 1 columns]"
      ]
     },
     "metadata": {},
     "output_type": "display_data"
    }
   ],
   "source": [
    "features = [f\"f_{i}\" for i in range(300)]\n",
    "\n",
    "features = pd.read_parquet(\"../ump-dataset/train.parquet\", columns=features)\n",
    "display(features)\n",
    "\n",
    "target = pd.read_parquet(\"../ump-dataset/train.parquet\", columns=[\"target\",])\n",
    "display(target)\n",
    "\n",
    "time = pd.read_parquet(\"../ump-dataset/train.parquet\", columns=[\"time_id\",])\n",
    "display(time)"
   ]
  },
  {
   "cell_type": "code",
   "execution_count": 3,
   "id": "b5f74807-0400-498f-b13e-ef9f31350f43",
   "metadata": {},
   "outputs": [
    {
     "data": {
      "text/plain": [
       "1211"
      ]
     },
     "execution_count": 3,
     "metadata": {},
     "output_type": "execute_result"
    }
   ],
   "source": [
    "time_ids = np.sort(time.time_id.unique())\n",
    "len(time_ids)"
   ]
  },
  {
   "cell_type": "code",
   "execution_count": 4,
   "id": "1b32639b-0fd2-413d-85ab-3625263ad3d1",
   "metadata": {},
   "outputs": [
    {
     "name": "stdout",
     "output_type": "stream",
     "text": [
      "time steps: 1211\n",
      "valid size: 242\n"
     ]
    }
   ],
   "source": [
    "n_time_steps = len(time_ids)\n",
    "print(\"time steps:\", n_time_steps)\n",
    "\n",
    "valid_prop = 0.2\n",
    "valid_size = int(valid_prop * n_time_steps)\n",
    "print(\"valid size:\", valid_size)"
   ]
  },
  {
   "cell_type": "code",
   "execution_count": 5,
   "id": "91ea263b-39e7-447f-aec7-83434aa97642",
   "metadata": {},
   "outputs": [],
   "source": [
    "valid_time_ids = time_ids[-valid_size:]"
   ]
  },
  {
   "cell_type": "code",
   "execution_count": 6,
   "id": "69ec1825-2a47-41e4-8df5-f106fa28930a",
   "metadata": {},
   "outputs": [],
   "source": [
    "train_idx = time.query(\"time_id not in @valid_time_ids\").index\n",
    "valid_idx = time.query(\"time_id in @valid_time_ids\").index"
   ]
  },
  {
   "cell_type": "code",
   "execution_count": 7,
   "id": "d6c17cfc-024a-4b0e-9ce7-6489afb5cc10",
   "metadata": {},
   "outputs": [
    {
     "data": {
      "text/plain": [
       "47"
      ]
     },
     "execution_count": 7,
     "metadata": {},
     "output_type": "execute_result"
    }
   ],
   "source": [
    "import gc\n",
    "gc.collect()"
   ]
  },
  {
   "cell_type": "markdown",
   "id": "c490dd11-7daf-4edf-ae91-f3c5b9ef067b",
   "metadata": {},
   "source": [
    "***\n",
    "## Bayesian Optimization"
   ]
  },
  {
   "cell_type": "code",
   "execution_count": 8,
   "id": "6163bd46-a5bf-4188-911c-3980e8d8abac",
   "metadata": {},
   "outputs": [],
   "source": [
    "model_params = dict(\n",
    "    objective=\"mse\",\n",
    "    metric=\"rmse\",\n",
    "    num_leaves=32,\n",
    "    learning_rate=0.05,\n",
    "    feature_fraction=0.8,\n",
    "    bagging_fraction=0.8,\n",
    "    force_col_wise=True,\n",
    ")"
   ]
  },
  {
   "cell_type": "code",
   "execution_count": 9,
   "id": "fce9262d-99d7-4595-8c62-d290960fac59",
   "metadata": {},
   "outputs": [
    {
     "name": "stderr",
     "output_type": "stream",
     "text": [
      "\u001b[32m[I 2022-01-31 15:49:52,678]\u001b[0m A new study created in memory with name: no-name-f6494c0f-d1c3-40b5-b419-2d320717fc97\u001b[0m\n",
      "feature_fraction, val_score: inf:   0% 0/7 [00:00<?, ?it/s]/opt/conda/lib/python3.7/site-packages/lightgbm/engine.py:181: UserWarning: 'early_stopping_rounds' argument is deprecated and will be removed in a future release of LightGBM. Pass 'early_stopping()' callback via 'callbacks' argument instead.\n",
      "  _log_warning(\"'early_stopping_rounds' argument is deprecated and will be removed in a future release of LightGBM. \"\n",
      "/opt/conda/lib/python3.7/site-packages/lightgbm/engine.py:239: UserWarning: 'verbose_eval' argument is deprecated and will be removed in a future release of LightGBM. Pass 'log_evaluation()' callback via 'callbacks' argument instead.\n",
      "  _log_warning(\"'verbose_eval' argument is deprecated and will be removed in a future release of LightGBM. \"\n"
     ]
    },
    {
     "name": "stdout",
     "output_type": "stream",
     "text": [
      "[LightGBM] [Info] Total Bins 76500\n",
      "[LightGBM] [Info] Number of data points in the train set: 2364296, number of used features: 300\n",
      "[LightGBM] [Info] Start training from score -0.024609\n",
      "Training until validation scores don't improve for 50 rounds\n",
      "[50]\tvalid_0's rmse: 0.901372\n",
      "[100]\tvalid_0's rmse: 0.900459\n",
      "[150]\tvalid_0's rmse: 0.899991\n",
      "[200]\tvalid_0's rmse: 0.899701\n",
      "[250]\tvalid_0's rmse: 0.899467\n",
      "[300]\tvalid_0's rmse: 0.899386\n",
      "[350]\tvalid_0's rmse: 0.899366\n",
      "[400]\tvalid_0's rmse: 0.899278\n",
      "[450]\tvalid_0's rmse: 0.899258\n"
     ]
    },
    {
     "name": "stderr",
     "output_type": "stream",
     "text": [
      "feature_fraction, val_score: 0.899245:  14% 1/7 [04:12<25:13, 252.20s/it]"
     ]
    },
    {
     "name": "stdout",
     "output_type": "stream",
     "text": [
      "Early stopping, best iteration is:\n",
      "[415]\tvalid_0's rmse: 0.899245\n"
     ]
    },
    {
     "name": "stderr",
     "output_type": "stream",
     "text": [
      "\u001b[32m[I 2022-01-31 15:54:05,068]\u001b[0m Trial 0 finished with value: 0.8992450838377253 and parameters: {'feature_fraction': 1.0}. Best is trial 0 with value: 0.8992450838377253.\u001b[0m\n",
      "feature_fraction, val_score: 0.899245:  14% 1/7 [04:12<25:13, 252.20s/it]/opt/conda/lib/python3.7/site-packages/lightgbm/engine.py:181: UserWarning: 'early_stopping_rounds' argument is deprecated and will be removed in a future release of LightGBM. Pass 'early_stopping()' callback via 'callbacks' argument instead.\n",
      "  _log_warning(\"'early_stopping_rounds' argument is deprecated and will be removed in a future release of LightGBM. \"\n",
      "/opt/conda/lib/python3.7/site-packages/lightgbm/engine.py:239: UserWarning: 'verbose_eval' argument is deprecated and will be removed in a future release of LightGBM. Pass 'log_evaluation()' callback via 'callbacks' argument instead.\n",
      "  _log_warning(\"'verbose_eval' argument is deprecated and will be removed in a future release of LightGBM. \"\n"
     ]
    },
    {
     "name": "stdout",
     "output_type": "stream",
     "text": [
      "[LightGBM] [Info] Total Bins 76500\n",
      "[LightGBM] [Info] Number of data points in the train set: 2364296, number of used features: 300\n",
      "[LightGBM] [Info] Start training from score -0.024609\n",
      "Training until validation scores don't improve for 50 rounds\n",
      "[50]\tvalid_0's rmse: 0.901348\n",
      "[100]\tvalid_0's rmse: 0.900391\n",
      "[150]\tvalid_0's rmse: 0.899921\n",
      "[200]\tvalid_0's rmse: 0.899643\n",
      "[250]\tvalid_0's rmse: 0.899423\n",
      "[300]\tvalid_0's rmse: 0.899309\n",
      "[350]\tvalid_0's rmse: 0.899207\n",
      "[400]\tvalid_0's rmse: 0.899181\n"
     ]
    },
    {
     "name": "stderr",
     "output_type": "stream",
     "text": [
      "feature_fraction, val_score: 0.899176:  29% 2/7 [07:58<19:44, 236.92s/it]\u001b[32m[I 2022-01-31 15:57:51,121]\u001b[0m Trial 1 finished with value: 0.899175562586935 and parameters: {'feature_fraction': 0.8999999999999999}. Best is trial 1 with value: 0.899175562586935.\u001b[0m\n",
      "feature_fraction, val_score: 0.899176:  29% 2/7 [07:58<19:44, 236.92s/it]"
     ]
    },
    {
     "name": "stdout",
     "output_type": "stream",
     "text": [
      "Early stopping, best iteration is:\n",
      "[396]\tvalid_0's rmse: 0.899176\n"
     ]
    },
    {
     "name": "stderr",
     "output_type": "stream",
     "text": [
      "/opt/conda/lib/python3.7/site-packages/lightgbm/engine.py:181: UserWarning: 'early_stopping_rounds' argument is deprecated and will be removed in a future release of LightGBM. Pass 'early_stopping()' callback via 'callbacks' argument instead.\n",
      "  _log_warning(\"'early_stopping_rounds' argument is deprecated and will be removed in a future release of LightGBM. \"\n",
      "/opt/conda/lib/python3.7/site-packages/lightgbm/engine.py:239: UserWarning: 'verbose_eval' argument is deprecated and will be removed in a future release of LightGBM. Pass 'log_evaluation()' callback via 'callbacks' argument instead.\n",
      "  _log_warning(\"'verbose_eval' argument is deprecated and will be removed in a future release of LightGBM. \"\n"
     ]
    },
    {
     "name": "stdout",
     "output_type": "stream",
     "text": [
      "[LightGBM] [Info] Total Bins 76500\n",
      "[LightGBM] [Info] Number of data points in the train set: 2364296, number of used features: 300\n",
      "[LightGBM] [Info] Start training from score -0.024609\n",
      "Training until validation scores don't improve for 50 rounds\n",
      "[50]\tvalid_0's rmse: 0.901372\n",
      "[100]\tvalid_0's rmse: 0.900446\n",
      "[150]\tvalid_0's rmse: 0.899914\n",
      "[200]\tvalid_0's rmse: 0.899572\n",
      "[250]\tvalid_0's rmse: 0.899331\n",
      "[300]\tvalid_0's rmse: 0.899234\n",
      "[350]\tvalid_0's rmse: 0.899198\n",
      "[400]\tvalid_0's rmse: 0.899214\n"
     ]
    },
    {
     "name": "stderr",
     "output_type": "stream",
     "text": [
      "feature_fraction, val_score: 0.899176:  43% 3/7 [11:16<14:36, 219.15s/it]\u001b[32m[I 2022-01-31 16:01:09,110]\u001b[0m Trial 2 finished with value: 0.8991766756479086 and parameters: {'feature_fraction': 0.8}. Best is trial 1 with value: 0.899175562586935.\u001b[0m\n",
      "feature_fraction, val_score: 0.899176:  43% 3/7 [11:16<14:36, 219.15s/it]"
     ]
    },
    {
     "name": "stdout",
     "output_type": "stream",
     "text": [
      "Early stopping, best iteration is:\n",
      "[375]\tvalid_0's rmse: 0.899177\n"
     ]
    },
    {
     "name": "stderr",
     "output_type": "stream",
     "text": [
      "/opt/conda/lib/python3.7/site-packages/lightgbm/engine.py:181: UserWarning: 'early_stopping_rounds' argument is deprecated and will be removed in a future release of LightGBM. Pass 'early_stopping()' callback via 'callbacks' argument instead.\n",
      "  _log_warning(\"'early_stopping_rounds' argument is deprecated and will be removed in a future release of LightGBM. \"\n",
      "/opt/conda/lib/python3.7/site-packages/lightgbm/engine.py:239: UserWarning: 'verbose_eval' argument is deprecated and will be removed in a future release of LightGBM. Pass 'log_evaluation()' callback via 'callbacks' argument instead.\n",
      "  _log_warning(\"'verbose_eval' argument is deprecated and will be removed in a future release of LightGBM. \"\n"
     ]
    },
    {
     "name": "stdout",
     "output_type": "stream",
     "text": [
      "[LightGBM] [Info] Total Bins 76500\n",
      "[LightGBM] [Info] Number of data points in the train set: 2364296, number of used features: 300\n",
      "[LightGBM] [Info] Start training from score -0.024609\n",
      "Training until validation scores don't improve for 50 rounds\n",
      "[50]\tvalid_0's rmse: 0.901386\n",
      "[100]\tvalid_0's rmse: 0.900346\n",
      "[150]\tvalid_0's rmse: 0.899808\n",
      "[200]\tvalid_0's rmse: 0.899481\n",
      "[250]\tvalid_0's rmse: 0.899339\n",
      "[300]\tvalid_0's rmse: 0.899205\n",
      "[350]\tvalid_0's rmse: 0.899167\n",
      "[400]\tvalid_0's rmse: 0.899109\n",
      "[450]\tvalid_0's rmse: 0.899045\n"
     ]
    },
    {
     "name": "stderr",
     "output_type": "stream",
     "text": [
      "feature_fraction, val_score: 0.899045:  57% 4/7 [14:12<10:06, 202.24s/it]\u001b[32m[I 2022-01-31 16:04:05,490]\u001b[0m Trial 3 finished with value: 0.899045379651241 and parameters: {'feature_fraction': 0.6}. Best is trial 3 with value: 0.899045379651241.\u001b[0m\n",
      "feature_fraction, val_score: 0.899045:  57% 4/7 [14:12<10:06, 202.24s/it]"
     ]
    },
    {
     "name": "stdout",
     "output_type": "stream",
     "text": [
      "[500]\tvalid_0's rmse: 0.899068\n",
      "Early stopping, best iteration is:\n",
      "[450]\tvalid_0's rmse: 0.899045\n"
     ]
    },
    {
     "name": "stderr",
     "output_type": "stream",
     "text": [
      "/opt/conda/lib/python3.7/site-packages/lightgbm/engine.py:181: UserWarning: 'early_stopping_rounds' argument is deprecated and will be removed in a future release of LightGBM. Pass 'early_stopping()' callback via 'callbacks' argument instead.\n",
      "  _log_warning(\"'early_stopping_rounds' argument is deprecated and will be removed in a future release of LightGBM. \"\n",
      "/opt/conda/lib/python3.7/site-packages/lightgbm/engine.py:239: UserWarning: 'verbose_eval' argument is deprecated and will be removed in a future release of LightGBM. Pass 'log_evaluation()' callback via 'callbacks' argument instead.\n",
      "  _log_warning(\"'verbose_eval' argument is deprecated and will be removed in a future release of LightGBM. \"\n"
     ]
    },
    {
     "name": "stdout",
     "output_type": "stream",
     "text": [
      "[LightGBM] [Info] Total Bins 76500\n",
      "[LightGBM] [Info] Number of data points in the train set: 2364296, number of used features: 300\n",
      "[LightGBM] [Info] Start training from score -0.024609\n",
      "Training until validation scores don't improve for 50 rounds\n",
      "[50]\tvalid_0's rmse: 0.901413\n",
      "[100]\tvalid_0's rmse: 0.900447\n",
      "[150]\tvalid_0's rmse: 0.899915\n",
      "[200]\tvalid_0's rmse: 0.899571\n",
      "[250]\tvalid_0's rmse: 0.89944\n",
      "[300]\tvalid_0's rmse: 0.899365\n",
      "[350]\tvalid_0's rmse: 0.899313\n",
      "[400]\tvalid_0's rmse: 0.899281\n"
     ]
    },
    {
     "name": "stderr",
     "output_type": "stream",
     "text": [
      "feature_fraction, val_score: 0.899045:  71% 5/7 [17:15<06:30, 195.15s/it]\u001b[32m[I 2022-01-31 16:07:08,036]\u001b[0m Trial 4 finished with value: 0.8992541417858375 and parameters: {'feature_fraction': 0.7}. Best is trial 3 with value: 0.899045379651241.\u001b[0m\n",
      "feature_fraction, val_score: 0.899045:  71% 5/7 [17:15<06:30, 195.15s/it]"
     ]
    },
    {
     "name": "stdout",
     "output_type": "stream",
     "text": [
      "Early stopping, best iteration is:\n",
      "[381]\tvalid_0's rmse: 0.899254\n"
     ]
    },
    {
     "name": "stderr",
     "output_type": "stream",
     "text": [
      "/opt/conda/lib/python3.7/site-packages/lightgbm/engine.py:181: UserWarning: 'early_stopping_rounds' argument is deprecated and will be removed in a future release of LightGBM. Pass 'early_stopping()' callback via 'callbacks' argument instead.\n",
      "  _log_warning(\"'early_stopping_rounds' argument is deprecated and will be removed in a future release of LightGBM. \"\n",
      "/opt/conda/lib/python3.7/site-packages/lightgbm/engine.py:239: UserWarning: 'verbose_eval' argument is deprecated and will be removed in a future release of LightGBM. Pass 'log_evaluation()' callback via 'callbacks' argument instead.\n",
      "  _log_warning(\"'verbose_eval' argument is deprecated and will be removed in a future release of LightGBM. \"\n"
     ]
    },
    {
     "name": "stdout",
     "output_type": "stream",
     "text": [
      "[LightGBM] [Info] Total Bins 76500\n",
      "[LightGBM] [Info] Number of data points in the train set: 2364296, number of used features: 300\n",
      "[LightGBM] [Info] Start training from score -0.024609\n",
      "Training until validation scores don't improve for 50 rounds\n",
      "[50]\tvalid_0's rmse: 0.901484\n",
      "[100]\tvalid_0's rmse: 0.900442\n",
      "[150]\tvalid_0's rmse: 0.899925\n",
      "[200]\tvalid_0's rmse: 0.899632\n",
      "[250]\tvalid_0's rmse: 0.899442\n",
      "[300]\tvalid_0's rmse: 0.899325\n",
      "[350]\tvalid_0's rmse: 0.8993\n"
     ]
    },
    {
     "name": "stderr",
     "output_type": "stream",
     "text": [
      "feature_fraction, val_score: 0.899045:  86% 6/7 [19:22<02:51, 171.87s/it]\u001b[32m[I 2022-01-31 16:09:14,721]\u001b[0m Trial 5 finished with value: 0.8992676523434048 and parameters: {'feature_fraction': 0.5}. Best is trial 3 with value: 0.899045379651241.\u001b[0m\n",
      "feature_fraction, val_score: 0.899045:  86% 6/7 [19:22<02:51, 171.87s/it]"
     ]
    },
    {
     "name": "stdout",
     "output_type": "stream",
     "text": [
      "Early stopping, best iteration is:\n",
      "[311]\tvalid_0's rmse: 0.899268\n"
     ]
    },
    {
     "name": "stderr",
     "output_type": "stream",
     "text": [
      "/opt/conda/lib/python3.7/site-packages/lightgbm/engine.py:181: UserWarning: 'early_stopping_rounds' argument is deprecated and will be removed in a future release of LightGBM. Pass 'early_stopping()' callback via 'callbacks' argument instead.\n",
      "  _log_warning(\"'early_stopping_rounds' argument is deprecated and will be removed in a future release of LightGBM. \"\n",
      "/opt/conda/lib/python3.7/site-packages/lightgbm/engine.py:239: UserWarning: 'verbose_eval' argument is deprecated and will be removed in a future release of LightGBM. Pass 'log_evaluation()' callback via 'callbacks' argument instead.\n",
      "  _log_warning(\"'verbose_eval' argument is deprecated and will be removed in a future release of LightGBM. \"\n"
     ]
    },
    {
     "name": "stdout",
     "output_type": "stream",
     "text": [
      "[LightGBM] [Info] Total Bins 76500\n",
      "[LightGBM] [Info] Number of data points in the train set: 2364296, number of used features: 300\n",
      "[LightGBM] [Info] Start training from score -0.024609\n",
      "Training until validation scores don't improve for 50 rounds\n",
      "[50]\tvalid_0's rmse: 0.901305\n",
      "[100]\tvalid_0's rmse: 0.900374\n",
      "[150]\tvalid_0's rmse: 0.899858\n",
      "[200]\tvalid_0's rmse: 0.899579\n",
      "[250]\tvalid_0's rmse: 0.899311\n",
      "[300]\tvalid_0's rmse: 0.89929\n",
      "[350]\tvalid_0's rmse: 0.899222\n",
      "[400]\tvalid_0's rmse: 0.899192\n",
      "[450]\tvalid_0's rmse: 0.899158\n",
      "[500]\tvalid_0's rmse: 0.899148\n"
     ]
    },
    {
     "name": "stderr",
     "output_type": "stream",
     "text": [
      "feature_fraction, val_score: 0.899045: 100% 7/7 [21:36<00:00, 159.77s/it]\u001b[32m[I 2022-01-31 16:11:29,587]\u001b[0m Trial 6 finished with value: 0.8991251990425734 and parameters: {'feature_fraction': 0.4}. Best is trial 3 with value: 0.899045379651241.\u001b[0m\n",
      "feature_fraction, val_score: 0.899045: 100% 7/7 [21:36<00:00, 185.27s/it]\n"
     ]
    },
    {
     "name": "stdout",
     "output_type": "stream",
     "text": [
      "Early stopping, best iteration is:\n",
      "[463]\tvalid_0's rmse: 0.899125\n"
     ]
    },
    {
     "name": "stderr",
     "output_type": "stream",
     "text": [
      "num_leaves, val_score: 0.899045:   0% 0/20 [00:00<?, ?it/s]/opt/conda/lib/python3.7/site-packages/lightgbm/engine.py:181: UserWarning: 'early_stopping_rounds' argument is deprecated and will be removed in a future release of LightGBM. Pass 'early_stopping()' callback via 'callbacks' argument instead.\n",
      "  _log_warning(\"'early_stopping_rounds' argument is deprecated and will be removed in a future release of LightGBM. \"\n",
      "/opt/conda/lib/python3.7/site-packages/lightgbm/engine.py:239: UserWarning: 'verbose_eval' argument is deprecated and will be removed in a future release of LightGBM. Pass 'log_evaluation()' callback via 'callbacks' argument instead.\n",
      "  _log_warning(\"'verbose_eval' argument is deprecated and will be removed in a future release of LightGBM. \"\n"
     ]
    },
    {
     "name": "stdout",
     "output_type": "stream",
     "text": [
      "[LightGBM] [Info] Total Bins 76500\n",
      "[LightGBM] [Info] Number of data points in the train set: 2364296, number of used features: 300\n",
      "[LightGBM] [Info] Start training from score -0.024609\n",
      "Training until validation scores don't improve for 50 rounds\n",
      "[50]\tvalid_0's rmse: 0.900678\n",
      "[100]\tvalid_0's rmse: 0.899701\n",
      "[150]\tvalid_0's rmse: 0.899277\n",
      "[200]\tvalid_0's rmse: 0.899078\n"
     ]
    },
    {
     "name": "stderr",
     "output_type": "stream",
     "text": [
      "num_leaves, val_score: 0.899045:   5% 1/20 [02:33<48:33, 153.34s/it]\u001b[32m[I 2022-01-31 16:14:02,974]\u001b[0m Trial 7 finished with value: 0.8990645579365901 and parameters: {'num_leaves': 139}. Best is trial 7 with value: 0.8990645579365901.\u001b[0m\n",
      "num_leaves, val_score: 0.899045:   5% 1/20 [02:33<48:33, 153.34s/it]"
     ]
    },
    {
     "name": "stdout",
     "output_type": "stream",
     "text": [
      "Early stopping, best iteration is:\n",
      "[197]\tvalid_0's rmse: 0.899065\n"
     ]
    },
    {
     "name": "stderr",
     "output_type": "stream",
     "text": [
      "/opt/conda/lib/python3.7/site-packages/lightgbm/engine.py:181: UserWarning: 'early_stopping_rounds' argument is deprecated and will be removed in a future release of LightGBM. Pass 'early_stopping()' callback via 'callbacks' argument instead.\n",
      "  _log_warning(\"'early_stopping_rounds' argument is deprecated and will be removed in a future release of LightGBM. \"\n",
      "/opt/conda/lib/python3.7/site-packages/lightgbm/engine.py:239: UserWarning: 'verbose_eval' argument is deprecated and will be removed in a future release of LightGBM. Pass 'log_evaluation()' callback via 'callbacks' argument instead.\n",
      "  _log_warning(\"'verbose_eval' argument is deprecated and will be removed in a future release of LightGBM. \"\n"
     ]
    },
    {
     "name": "stdout",
     "output_type": "stream",
     "text": [
      "[LightGBM] [Info] Total Bins 76500\n",
      "[LightGBM] [Info] Number of data points in the train set: 2364296, number of used features: 300\n",
      "[LightGBM] [Info] Start training from score -0.024609\n",
      "Training until validation scores don't improve for 50 rounds\n",
      "[50]\tvalid_0's rmse: 0.900707\n",
      "[100]\tvalid_0's rmse: 0.899796\n",
      "[150]\tvalid_0's rmse: 0.899371\n",
      "[200]\tvalid_0's rmse: 0.899168\n"
     ]
    },
    {
     "name": "stderr",
     "output_type": "stream",
     "text": [
      "num_leaves, val_score: 0.899045:  10% 2/20 [04:59<44:46, 149.28s/it]\u001b[32m[I 2022-01-31 16:16:29,401]\u001b[0m Trial 8 finished with value: 0.8991588791076119 and parameters: {'num_leaves': 125}. Best is trial 7 with value: 0.8990645579365901.\u001b[0m\n",
      "num_leaves, val_score: 0.899045:  10% 2/20 [04:59<44:46, 149.28s/it]"
     ]
    },
    {
     "name": "stdout",
     "output_type": "stream",
     "text": [
      "Early stopping, best iteration is:\n",
      "[188]\tvalid_0's rmse: 0.899159\n"
     ]
    },
    {
     "name": "stderr",
     "output_type": "stream",
     "text": [
      "/opt/conda/lib/python3.7/site-packages/lightgbm/engine.py:181: UserWarning: 'early_stopping_rounds' argument is deprecated and will be removed in a future release of LightGBM. Pass 'early_stopping()' callback via 'callbacks' argument instead.\n",
      "  _log_warning(\"'early_stopping_rounds' argument is deprecated and will be removed in a future release of LightGBM. \"\n",
      "/opt/conda/lib/python3.7/site-packages/lightgbm/engine.py:239: UserWarning: 'verbose_eval' argument is deprecated and will be removed in a future release of LightGBM. Pass 'log_evaluation()' callback via 'callbacks' argument instead.\n",
      "  _log_warning(\"'verbose_eval' argument is deprecated and will be removed in a future release of LightGBM. \"\n"
     ]
    },
    {
     "name": "stdout",
     "output_type": "stream",
     "text": [
      "[LightGBM] [Info] Total Bins 76500\n",
      "[LightGBM] [Info] Number of data points in the train set: 2364296, number of used features: 300\n",
      "[LightGBM] [Info] Start training from score -0.024609\n",
      "Training until validation scores don't improve for 50 rounds\n",
      "[50]\tvalid_0's rmse: 0.902532\n",
      "[100]\tvalid_0's rmse: 0.901646\n",
      "[150]\tvalid_0's rmse: 0.901141\n",
      "[200]\tvalid_0's rmse: 0.900716\n",
      "[250]\tvalid_0's rmse: 0.90045\n",
      "[300]\tvalid_0's rmse: 0.900217\n",
      "[350]\tvalid_0's rmse: 0.900071\n",
      "[400]\tvalid_0's rmse: 0.89994\n",
      "[450]\tvalid_0's rmse: 0.899836\n",
      "[500]\tvalid_0's rmse: 0.89972\n",
      "[550]\tvalid_0's rmse: 0.899686\n",
      "[600]\tvalid_0's rmse: 0.899592\n",
      "[650]\tvalid_0's rmse: 0.899529\n",
      "[700]\tvalid_0's rmse: 0.899465\n",
      "[750]\tvalid_0's rmse: 0.899457\n",
      "[800]\tvalid_0's rmse: 0.899403\n",
      "[850]\tvalid_0's rmse: 0.899367\n",
      "[900]\tvalid_0's rmse: 0.899317\n",
      "[950]\tvalid_0's rmse: 0.899304\n",
      "[1000]\tvalid_0's rmse: 0.899269\n",
      "[1050]\tvalid_0's rmse: 0.899226\n",
      "[1100]\tvalid_0's rmse: 0.89923\n"
     ]
    },
    {
     "name": "stderr",
     "output_type": "stream",
     "text": [
      "num_leaves, val_score: 0.899045:  15% 3/20 [09:02<54:21, 191.86s/it]\u001b[32m[I 2022-01-31 16:20:31,942]\u001b[0m Trial 9 finished with value: 0.8992093647570563 and parameters: {'num_leaves': 7}. Best is trial 7 with value: 0.8990645579365901.\u001b[0m\n",
      "num_leaves, val_score: 0.899045:  15% 3/20 [09:02<54:21, 191.86s/it]"
     ]
    },
    {
     "name": "stdout",
     "output_type": "stream",
     "text": [
      "Early stopping, best iteration is:\n",
      "[1084]\tvalid_0's rmse: 0.899209\n"
     ]
    },
    {
     "name": "stderr",
     "output_type": "stream",
     "text": [
      "/opt/conda/lib/python3.7/site-packages/lightgbm/engine.py:181: UserWarning: 'early_stopping_rounds' argument is deprecated and will be removed in a future release of LightGBM. Pass 'early_stopping()' callback via 'callbacks' argument instead.\n",
      "  _log_warning(\"'early_stopping_rounds' argument is deprecated and will be removed in a future release of LightGBM. \"\n",
      "/opt/conda/lib/python3.7/site-packages/lightgbm/engine.py:239: UserWarning: 'verbose_eval' argument is deprecated and will be removed in a future release of LightGBM. Pass 'log_evaluation()' callback via 'callbacks' argument instead.\n",
      "  _log_warning(\"'verbose_eval' argument is deprecated and will be removed in a future release of LightGBM. \"\n"
     ]
    },
    {
     "name": "stdout",
     "output_type": "stream",
     "text": [
      "[LightGBM] [Info] Total Bins 76500\n",
      "[LightGBM] [Info] Number of data points in the train set: 2364296, number of used features: 300\n",
      "[LightGBM] [Info] Start training from score -0.024609\n",
      "Training until validation scores don't improve for 50 rounds\n",
      "[50]\tvalid_0's rmse: 0.901119\n",
      "[100]\tvalid_0's rmse: 0.900193\n",
      "[150]\tvalid_0's rmse: 0.899666\n",
      "[200]\tvalid_0's rmse: 0.89939\n",
      "[250]\tvalid_0's rmse: 0.899227\n",
      "[300]\tvalid_0's rmse: 0.899121\n",
      "[350]\tvalid_0's rmse: 0.899082\n",
      "[400]\tvalid_0's rmse: 0.89906\n"
     ]
    },
    {
     "name": "stderr",
     "output_type": "stream",
     "text": [
      "num_leaves, val_score: 0.899045:  20% 4/20 [11:59<49:34, 185.89s/it]\u001b[32m[I 2022-01-31 16:23:28,675]\u001b[0m Trial 10 finished with value: 0.8990495374215897 and parameters: {'num_leaves': 47}. Best is trial 10 with value: 0.8990495374215897.\u001b[0m\n",
      "num_leaves, val_score: 0.899045:  20% 4/20 [11:59<49:34, 185.89s/it]"
     ]
    },
    {
     "name": "stdout",
     "output_type": "stream",
     "text": [
      "Early stopping, best iteration is:\n",
      "[383]\tvalid_0's rmse: 0.89905\n"
     ]
    },
    {
     "name": "stderr",
     "output_type": "stream",
     "text": [
      "/opt/conda/lib/python3.7/site-packages/lightgbm/engine.py:181: UserWarning: 'early_stopping_rounds' argument is deprecated and will be removed in a future release of LightGBM. Pass 'early_stopping()' callback via 'callbacks' argument instead.\n",
      "  _log_warning(\"'early_stopping_rounds' argument is deprecated and will be removed in a future release of LightGBM. \"\n",
      "/opt/conda/lib/python3.7/site-packages/lightgbm/engine.py:239: UserWarning: 'verbose_eval' argument is deprecated and will be removed in a future release of LightGBM. Pass 'log_evaluation()' callback via 'callbacks' argument instead.\n",
      "  _log_warning(\"'verbose_eval' argument is deprecated and will be removed in a future release of LightGBM. \"\n"
     ]
    },
    {
     "name": "stdout",
     "output_type": "stream",
     "text": [
      "[LightGBM] [Info] Total Bins 76500\n",
      "[LightGBM] [Info] Number of data points in the train set: 2364296, number of used features: 300\n",
      "[LightGBM] [Info] Start training from score -0.024609\n",
      "Training until validation scores don't improve for 50 rounds\n",
      "[50]\tvalid_0's rmse: 0.900745\n",
      "[100]\tvalid_0's rmse: 0.899796\n",
      "[150]\tvalid_0's rmse: 0.899509\n",
      "[200]\tvalid_0's rmse: 0.899355\n",
      "[250]\tvalid_0's rmse: 0.899298\n",
      "[300]\tvalid_0's rmse: 0.899309\n"
     ]
    },
    {
     "name": "stderr",
     "output_type": "stream",
     "text": [
      "num_leaves, val_score: 0.899045:  25% 5/20 [14:46<44:48, 179.24s/it]\u001b[32m[I 2022-01-31 16:26:16,138]\u001b[0m Trial 11 finished with value: 0.8992818621734109 and parameters: {'num_leaves': 88}. Best is trial 10 with value: 0.8990495374215897.\u001b[0m\n",
      "num_leaves, val_score: 0.899045:  25% 5/20 [14:46<44:48, 179.24s/it]"
     ]
    },
    {
     "name": "stdout",
     "output_type": "stream",
     "text": [
      "Early stopping, best iteration is:\n",
      "[276]\tvalid_0's rmse: 0.899282\n"
     ]
    },
    {
     "name": "stderr",
     "output_type": "stream",
     "text": [
      "/opt/conda/lib/python3.7/site-packages/lightgbm/engine.py:181: UserWarning: 'early_stopping_rounds' argument is deprecated and will be removed in a future release of LightGBM. Pass 'early_stopping()' callback via 'callbacks' argument instead.\n",
      "  _log_warning(\"'early_stopping_rounds' argument is deprecated and will be removed in a future release of LightGBM. \"\n",
      "/opt/conda/lib/python3.7/site-packages/lightgbm/engine.py:239: UserWarning: 'verbose_eval' argument is deprecated and will be removed in a future release of LightGBM. Pass 'log_evaluation()' callback via 'callbacks' argument instead.\n",
      "  _log_warning(\"'verbose_eval' argument is deprecated and will be removed in a future release of LightGBM. \"\n"
     ]
    },
    {
     "name": "stdout",
     "output_type": "stream",
     "text": [
      "[LightGBM] [Info] Total Bins 76500\n",
      "[LightGBM] [Info] Number of data points in the train set: 2364296, number of used features: 300\n",
      "[LightGBM] [Info] Start training from score -0.024609\n",
      "Training until validation scores don't improve for 50 rounds\n",
      "[50]\tvalid_0's rmse: 0.900516\n",
      "[100]\tvalid_0's rmse: 0.899629\n",
      "[150]\tvalid_0's rmse: 0.8994\n",
      "[200]\tvalid_0's rmse: 0.899321\n"
     ]
    },
    {
     "name": "stderr",
     "output_type": "stream",
     "text": [
      "num_leaves, val_score: 0.899045:  30% 6/20 [17:29<40:30, 173.58s/it]\u001b[32m[I 2022-01-31 16:28:58,721]\u001b[0m Trial 12 finished with value: 0.8992907184825493 and parameters: {'num_leaves': 204}. Best is trial 10 with value: 0.8990495374215897.\u001b[0m\n",
      "num_leaves, val_score: 0.899045:  30% 6/20 [17:29<40:30, 173.58s/it]"
     ]
    },
    {
     "name": "stdout",
     "output_type": "stream",
     "text": [
      "Early stopping, best iteration is:\n",
      "[183]\tvalid_0's rmse: 0.899291\n"
     ]
    },
    {
     "name": "stderr",
     "output_type": "stream",
     "text": [
      "/opt/conda/lib/python3.7/site-packages/lightgbm/engine.py:181: UserWarning: 'early_stopping_rounds' argument is deprecated and will be removed in a future release of LightGBM. Pass 'early_stopping()' callback via 'callbacks' argument instead.\n",
      "  _log_warning(\"'early_stopping_rounds' argument is deprecated and will be removed in a future release of LightGBM. \"\n",
      "/opt/conda/lib/python3.7/site-packages/lightgbm/engine.py:239: UserWarning: 'verbose_eval' argument is deprecated and will be removed in a future release of LightGBM. Pass 'log_evaluation()' callback via 'callbacks' argument instead.\n",
      "  _log_warning(\"'verbose_eval' argument is deprecated and will be removed in a future release of LightGBM. \"\n"
     ]
    },
    {
     "name": "stdout",
     "output_type": "stream",
     "text": [
      "[LightGBM] [Info] Total Bins 76500\n",
      "[LightGBM] [Info] Number of data points in the train set: 2364296, number of used features: 300\n",
      "[LightGBM] [Info] Start training from score -0.024609\n",
      "Training until validation scores don't improve for 50 rounds\n",
      "[50]\tvalid_0's rmse: 0.901197\n",
      "[100]\tvalid_0's rmse: 0.900158\n",
      "[150]\tvalid_0's rmse: 0.899666\n",
      "[200]\tvalid_0's rmse: 0.899323\n",
      "[250]\tvalid_0's rmse: 0.899251\n",
      "[300]\tvalid_0's rmse: 0.899138\n",
      "[350]\tvalid_0's rmse: 0.899148\n"
     ]
    },
    {
     "name": "stderr",
     "output_type": "stream",
     "text": [
      "num_leaves, val_score: 0.899045:  35% 7/20 [20:06<36:27, 168.24s/it]\u001b[32m[I 2022-01-31 16:31:35,954]\u001b[0m Trial 13 finished with value: 0.899129196904276 and parameters: {'num_leaves': 46}. Best is trial 10 with value: 0.8990495374215897.\u001b[0m\n",
      "num_leaves, val_score: 0.899045:  35% 7/20 [20:06<36:27, 168.24s/it]"
     ]
    },
    {
     "name": "stdout",
     "output_type": "stream",
     "text": [
      "Early stopping, best iteration is:\n",
      "[313]\tvalid_0's rmse: 0.899129\n"
     ]
    },
    {
     "name": "stderr",
     "output_type": "stream",
     "text": [
      "/opt/conda/lib/python3.7/site-packages/lightgbm/engine.py:181: UserWarning: 'early_stopping_rounds' argument is deprecated and will be removed in a future release of LightGBM. Pass 'early_stopping()' callback via 'callbacks' argument instead.\n",
      "  _log_warning(\"'early_stopping_rounds' argument is deprecated and will be removed in a future release of LightGBM. \"\n",
      "/opt/conda/lib/python3.7/site-packages/lightgbm/engine.py:239: UserWarning: 'verbose_eval' argument is deprecated and will be removed in a future release of LightGBM. Pass 'log_evaluation()' callback via 'callbacks' argument instead.\n",
      "  _log_warning(\"'verbose_eval' argument is deprecated and will be removed in a future release of LightGBM. \"\n"
     ]
    },
    {
     "name": "stdout",
     "output_type": "stream",
     "text": [
      "[LightGBM] [Info] Total Bins 76500\n",
      "[LightGBM] [Info] Number of data points in the train set: 2364296, number of used features: 300\n",
      "[LightGBM] [Info] Start training from score -0.024609\n",
      "Training until validation scores don't improve for 50 rounds\n",
      "[50]\tvalid_0's rmse: 0.900698\n",
      "[100]\tvalid_0's rmse: 0.899779\n",
      "[150]\tvalid_0's rmse: 0.899316\n",
      "[200]\tvalid_0's rmse: 0.899237\n",
      "[250]\tvalid_0's rmse: 0.899185\n"
     ]
    },
    {
     "name": "stderr",
     "output_type": "stream",
     "text": [
      "num_leaves, val_score: 0.899045:  40% 8/20 [22:48<33:15, 166.27s/it]\u001b[32m[I 2022-01-31 16:34:18,015]\u001b[0m Trial 14 finished with value: 0.8991672463146623 and parameters: {'num_leaves': 105}. Best is trial 10 with value: 0.8990495374215897.\u001b[0m\n",
      "num_leaves, val_score: 0.899045:  40% 8/20 [22:48<33:15, 166.27s/it]"
     ]
    },
    {
     "name": "stdout",
     "output_type": "stream",
     "text": [
      "Early stopping, best iteration is:\n",
      "[242]\tvalid_0's rmse: 0.899167\n"
     ]
    },
    {
     "name": "stderr",
     "output_type": "stream",
     "text": [
      "/opt/conda/lib/python3.7/site-packages/lightgbm/engine.py:181: UserWarning: 'early_stopping_rounds' argument is deprecated and will be removed in a future release of LightGBM. Pass 'early_stopping()' callback via 'callbacks' argument instead.\n",
      "  _log_warning(\"'early_stopping_rounds' argument is deprecated and will be removed in a future release of LightGBM. \"\n",
      "/opt/conda/lib/python3.7/site-packages/lightgbm/engine.py:239: UserWarning: 'verbose_eval' argument is deprecated and will be removed in a future release of LightGBM. Pass 'log_evaluation()' callback via 'callbacks' argument instead.\n",
      "  _log_warning(\"'verbose_eval' argument is deprecated and will be removed in a future release of LightGBM. \"\n"
     ]
    },
    {
     "name": "stdout",
     "output_type": "stream",
     "text": [
      "[LightGBM] [Info] Total Bins 76500\n",
      "[LightGBM] [Info] Number of data points in the train set: 2364296, number of used features: 300\n",
      "[LightGBM] [Info] Start training from score -0.024609\n",
      "Training until validation scores don't improve for 50 rounds\n",
      "[50]\tvalid_0's rmse: 0.900461\n",
      "[100]\tvalid_0's rmse: 0.899612\n",
      "[150]\tvalid_0's rmse: 0.899308\n",
      "[200]\tvalid_0's rmse: 0.899308\n"
     ]
    },
    {
     "name": "stderr",
     "output_type": "stream",
     "text": [
      "num_leaves, val_score: 0.899045:  45% 9/20 [25:34<30:28, 166.20s/it]\u001b[32m[I 2022-01-31 16:37:04,049]\u001b[0m Trial 15 finished with value: 0.8992444131569607 and parameters: {'num_leaves': 245}. Best is trial 10 with value: 0.8990495374215897.\u001b[0m\n",
      "num_leaves, val_score: 0.899045:  45% 9/20 [25:34<30:28, 166.20s/it]"
     ]
    },
    {
     "name": "stdout",
     "output_type": "stream",
     "text": [
      "Early stopping, best iteration is:\n",
      "[175]\tvalid_0's rmse: 0.899244\n"
     ]
    },
    {
     "name": "stderr",
     "output_type": "stream",
     "text": [
      "/opt/conda/lib/python3.7/site-packages/lightgbm/engine.py:181: UserWarning: 'early_stopping_rounds' argument is deprecated and will be removed in a future release of LightGBM. Pass 'early_stopping()' callback via 'callbacks' argument instead.\n",
      "  _log_warning(\"'early_stopping_rounds' argument is deprecated and will be removed in a future release of LightGBM. \"\n",
      "/opt/conda/lib/python3.7/site-packages/lightgbm/engine.py:239: UserWarning: 'verbose_eval' argument is deprecated and will be removed in a future release of LightGBM. Pass 'log_evaluation()' callback via 'callbacks' argument instead.\n",
      "  _log_warning(\"'verbose_eval' argument is deprecated and will be removed in a future release of LightGBM. \"\n"
     ]
    },
    {
     "name": "stdout",
     "output_type": "stream",
     "text": [
      "[LightGBM] [Info] Total Bins 76500\n",
      "[LightGBM] [Info] Number of data points in the train set: 2364296, number of used features: 300\n",
      "[LightGBM] [Info] Start training from score -0.024609\n",
      "Training until validation scores don't improve for 50 rounds\n",
      "[50]\tvalid_0's rmse: 0.900604\n",
      "[100]\tvalid_0's rmse: 0.899756\n",
      "[150]\tvalid_0's rmse: 0.899354\n",
      "[200]\tvalid_0's rmse: 0.899298\n"
     ]
    },
    {
     "name": "stderr",
     "output_type": "stream",
     "text": [
      "num_leaves, val_score: 0.899045:  50% 10/20 [28:04<26:52, 161.27s/it]\u001b[32m[I 2022-01-31 16:39:34,284]\u001b[0m Trial 16 finished with value: 0.8992605630114668 and parameters: {'num_leaves': 167}. Best is trial 10 with value: 0.8990495374215897.\u001b[0m\n",
      "num_leaves, val_score: 0.899045:  50% 10/20 [28:04<26:52, 161.27s/it]"
     ]
    },
    {
     "name": "stdout",
     "output_type": "stream",
     "text": [
      "Early stopping, best iteration is:\n",
      "[173]\tvalid_0's rmse: 0.899261\n"
     ]
    },
    {
     "name": "stderr",
     "output_type": "stream",
     "text": [
      "/opt/conda/lib/python3.7/site-packages/lightgbm/engine.py:181: UserWarning: 'early_stopping_rounds' argument is deprecated and will be removed in a future release of LightGBM. Pass 'early_stopping()' callback via 'callbacks' argument instead.\n",
      "  _log_warning(\"'early_stopping_rounds' argument is deprecated and will be removed in a future release of LightGBM. \"\n",
      "/opt/conda/lib/python3.7/site-packages/lightgbm/engine.py:239: UserWarning: 'verbose_eval' argument is deprecated and will be removed in a future release of LightGBM. Pass 'log_evaluation()' callback via 'callbacks' argument instead.\n",
      "  _log_warning(\"'verbose_eval' argument is deprecated and will be removed in a future release of LightGBM. \"\n"
     ]
    },
    {
     "name": "stdout",
     "output_type": "stream",
     "text": [
      "[LightGBM] [Info] Total Bins 76500\n",
      "[LightGBM] [Info] Number of data points in the train set: 2364296, number of used features: 300\n",
      "[LightGBM] [Info] Start training from score -0.024609\n",
      "Training until validation scores don't improve for 50 rounds\n",
      "[50]\tvalid_0's rmse: 0.901165\n",
      "[100]\tvalid_0's rmse: 0.900119\n",
      "[150]\tvalid_0's rmse: 0.899634\n",
      "[200]\tvalid_0's rmse: 0.899395\n",
      "[250]\tvalid_0's rmse: 0.899241\n",
      "[300]\tvalid_0's rmse: 0.899151\n",
      "[350]\tvalid_0's rmse: 0.89908\n",
      "[400]\tvalid_0's rmse: 0.899063\n"
     ]
    },
    {
     "name": "stderr",
     "output_type": "stream",
     "text": [
      "num_leaves, val_score: 0.899044:  55% 11/20 [31:05<25:05, 167.31s/it]\u001b[32m[I 2022-01-31 16:42:35,308]\u001b[0m Trial 17 finished with value: 0.8990440626209002 and parameters: {'num_leaves': 55}. Best is trial 17 with value: 0.8990440626209002.\u001b[0m\n",
      "num_leaves, val_score: 0.899044:  55% 11/20 [31:05<25:05, 167.31s/it]"
     ]
    },
    {
     "name": "stdout",
     "output_type": "stream",
     "text": [
      "Early stopping, best iteration is:\n",
      "[385]\tvalid_0's rmse: 0.899044\n"
     ]
    },
    {
     "name": "stderr",
     "output_type": "stream",
     "text": [
      "/opt/conda/lib/python3.7/site-packages/lightgbm/engine.py:181: UserWarning: 'early_stopping_rounds' argument is deprecated and will be removed in a future release of LightGBM. Pass 'early_stopping()' callback via 'callbacks' argument instead.\n",
      "  _log_warning(\"'early_stopping_rounds' argument is deprecated and will be removed in a future release of LightGBM. \"\n",
      "/opt/conda/lib/python3.7/site-packages/lightgbm/engine.py:239: UserWarning: 'verbose_eval' argument is deprecated and will be removed in a future release of LightGBM. Pass 'log_evaluation()' callback via 'callbacks' argument instead.\n",
      "  _log_warning(\"'verbose_eval' argument is deprecated and will be removed in a future release of LightGBM. \"\n"
     ]
    },
    {
     "name": "stdout",
     "output_type": "stream",
     "text": [
      "[LightGBM] [Info] Total Bins 76500\n",
      "[LightGBM] [Info] Number of data points in the train set: 2364296, number of used features: 300\n",
      "[LightGBM] [Info] Start training from score -0.024609\n",
      "Training until validation scores don't improve for 50 rounds\n",
      "[50]\tvalid_0's rmse: 0.901165\n",
      "[100]\tvalid_0's rmse: 0.900119\n",
      "[150]\tvalid_0's rmse: 0.899634\n",
      "[200]\tvalid_0's rmse: 0.899395\n",
      "[250]\tvalid_0's rmse: 0.899241\n",
      "[300]\tvalid_0's rmse: 0.899151\n",
      "[350]\tvalid_0's rmse: 0.89908\n",
      "[400]\tvalid_0's rmse: 0.899063\n"
     ]
    },
    {
     "name": "stderr",
     "output_type": "stream",
     "text": [
      "num_leaves, val_score: 0.899044:  60% 12/20 [34:07<22:53, 171.63s/it]\u001b[32m[I 2022-01-31 16:45:36,784]\u001b[0m Trial 18 finished with value: 0.8990440626209001 and parameters: {'num_leaves': 55}. Best is trial 18 with value: 0.8990440626209001.\u001b[0m\n",
      "num_leaves, val_score: 0.899044:  60% 12/20 [34:07<22:53, 171.63s/it]"
     ]
    },
    {
     "name": "stdout",
     "output_type": "stream",
     "text": [
      "Early stopping, best iteration is:\n",
      "[385]\tvalid_0's rmse: 0.899044\n"
     ]
    },
    {
     "name": "stderr",
     "output_type": "stream",
     "text": [
      "/opt/conda/lib/python3.7/site-packages/lightgbm/engine.py:181: UserWarning: 'early_stopping_rounds' argument is deprecated and will be removed in a future release of LightGBM. Pass 'early_stopping()' callback via 'callbacks' argument instead.\n",
      "  _log_warning(\"'early_stopping_rounds' argument is deprecated and will be removed in a future release of LightGBM. \"\n",
      "/opt/conda/lib/python3.7/site-packages/lightgbm/engine.py:239: UserWarning: 'verbose_eval' argument is deprecated and will be removed in a future release of LightGBM. Pass 'log_evaluation()' callback via 'callbacks' argument instead.\n",
      "  _log_warning(\"'verbose_eval' argument is deprecated and will be removed in a future release of LightGBM. \"\n"
     ]
    },
    {
     "name": "stdout",
     "output_type": "stream",
     "text": [
      "[LightGBM] [Info] Total Bins 76500\n",
      "[LightGBM] [Info] Number of data points in the train set: 2364296, number of used features: 300\n",
      "[LightGBM] [Info] Start training from score -0.024609\n",
      "Training until validation scores don't improve for 50 rounds\n",
      "[50]\tvalid_0's rmse: 0.901021\n",
      "[100]\tvalid_0's rmse: 0.899975\n",
      "[150]\tvalid_0's rmse: 0.899578\n",
      "[200]\tvalid_0's rmse: 0.899354\n",
      "[250]\tvalid_0's rmse: 0.899222\n",
      "[300]\tvalid_0's rmse: 0.89914\n",
      "[350]\tvalid_0's rmse: 0.899103\n"
     ]
    },
    {
     "name": "stderr",
     "output_type": "stream",
     "text": [
      "num_leaves, val_score: 0.899044:  65% 13/20 [37:00<20:05, 172.19s/it]\u001b[32m[I 2022-01-31 16:48:30,250]\u001b[0m Trial 19 finished with value: 0.899083243758934 and parameters: {'num_leaves': 65}. Best is trial 18 with value: 0.8990440626209001.\u001b[0m\n",
      "num_leaves, val_score: 0.899044:  65% 13/20 [37:00<20:05, 172.19s/it]"
     ]
    },
    {
     "name": "stdout",
     "output_type": "stream",
     "text": [
      "Early stopping, best iteration is:\n",
      "[335]\tvalid_0's rmse: 0.899083\n"
     ]
    },
    {
     "name": "stderr",
     "output_type": "stream",
     "text": [
      "/opt/conda/lib/python3.7/site-packages/lightgbm/engine.py:181: UserWarning: 'early_stopping_rounds' argument is deprecated and will be removed in a future release of LightGBM. Pass 'early_stopping()' callback via 'callbacks' argument instead.\n",
      "  _log_warning(\"'early_stopping_rounds' argument is deprecated and will be removed in a future release of LightGBM. \"\n",
      "/opt/conda/lib/python3.7/site-packages/lightgbm/engine.py:239: UserWarning: 'verbose_eval' argument is deprecated and will be removed in a future release of LightGBM. Pass 'log_evaluation()' callback via 'callbacks' argument instead.\n",
      "  _log_warning(\"'verbose_eval' argument is deprecated and will be removed in a future release of LightGBM. \"\n"
     ]
    },
    {
     "name": "stdout",
     "output_type": "stream",
     "text": [
      "[LightGBM] [Info] Total Bins 76500\n",
      "[LightGBM] [Info] Number of data points in the train set: 2364296, number of used features: 300\n",
      "[LightGBM] [Info] Start training from score -0.024609\n",
      "Training until validation scores don't improve for 50 rounds\n",
      "[50]\tvalid_0's rmse: 0.901879\n",
      "[100]\tvalid_0's rmse: 0.900894\n",
      "[150]\tvalid_0's rmse: 0.900416\n",
      "[200]\tvalid_0's rmse: 0.900064\n",
      "[250]\tvalid_0's rmse: 0.899796\n",
      "[300]\tvalid_0's rmse: 0.899647\n",
      "[350]\tvalid_0's rmse: 0.899552\n",
      "[400]\tvalid_0's rmse: 0.899462\n",
      "[450]\tvalid_0's rmse: 0.899473\n",
      "[500]\tvalid_0's rmse: 0.899416\n",
      "[550]\tvalid_0's rmse: 0.899367\n",
      "[600]\tvalid_0's rmse: 0.899329\n",
      "[650]\tvalid_0's rmse: 0.899286\n"
     ]
    },
    {
     "name": "stderr",
     "output_type": "stream",
     "text": [
      "num_leaves, val_score: 0.899044:  70% 14/20 [40:17<17:58, 179.75s/it]\u001b[32m[I 2022-01-31 16:51:47,461]\u001b[0m Trial 20 finished with value: 0.899281022998015 and parameters: {'num_leaves': 17}. Best is trial 18 with value: 0.8990440626209001.\u001b[0m\n",
      "num_leaves, val_score: 0.899044:  70% 14/20 [40:17<17:58, 179.75s/it]"
     ]
    },
    {
     "name": "stdout",
     "output_type": "stream",
     "text": [
      "Early stopping, best iteration is:\n",
      "[644]\tvalid_0's rmse: 0.899281\n"
     ]
    },
    {
     "name": "stderr",
     "output_type": "stream",
     "text": [
      "/opt/conda/lib/python3.7/site-packages/lightgbm/engine.py:181: UserWarning: 'early_stopping_rounds' argument is deprecated and will be removed in a future release of LightGBM. Pass 'early_stopping()' callback via 'callbacks' argument instead.\n",
      "  _log_warning(\"'early_stopping_rounds' argument is deprecated and will be removed in a future release of LightGBM. \"\n",
      "/opt/conda/lib/python3.7/site-packages/lightgbm/engine.py:239: UserWarning: 'verbose_eval' argument is deprecated and will be removed in a future release of LightGBM. Pass 'log_evaluation()' callback via 'callbacks' argument instead.\n",
      "  _log_warning(\"'verbose_eval' argument is deprecated and will be removed in a future release of LightGBM. \"\n"
     ]
    },
    {
     "name": "stdout",
     "output_type": "stream",
     "text": [
      "[LightGBM] [Info] Total Bins 76500\n",
      "[LightGBM] [Info] Number of data points in the train set: 2364296, number of used features: 300\n",
      "[LightGBM] [Info] Start training from score -0.024609\n",
      "Training until validation scores don't improve for 50 rounds\n",
      "[50]\tvalid_0's rmse: 0.90086\n",
      "[100]\tvalid_0's rmse: 0.899922\n",
      "[150]\tvalid_0's rmse: 0.899403\n",
      "[200]\tvalid_0's rmse: 0.899223\n",
      "[250]\tvalid_0's rmse: 0.899176\n"
     ]
    },
    {
     "name": "stderr",
     "output_type": "stream",
     "text": [
      "num_leaves, val_score: 0.899044:  75% 15/20 [42:43<14:06, 169.38s/it]\u001b[32m[I 2022-01-31 16:54:12,808]\u001b[0m Trial 21 finished with value: 0.8991612595964565 and parameters: {'num_leaves': 73}. Best is trial 18 with value: 0.8990440626209001.\u001b[0m\n",
      "num_leaves, val_score: 0.899044:  75% 15/20 [42:43<14:06, 169.38s/it]"
     ]
    },
    {
     "name": "stdout",
     "output_type": "stream",
     "text": [
      "Early stopping, best iteration is:\n",
      "[230]\tvalid_0's rmse: 0.899161\n"
     ]
    },
    {
     "name": "stderr",
     "output_type": "stream",
     "text": [
      "/opt/conda/lib/python3.7/site-packages/lightgbm/engine.py:181: UserWarning: 'early_stopping_rounds' argument is deprecated and will be removed in a future release of LightGBM. Pass 'early_stopping()' callback via 'callbacks' argument instead.\n",
      "  _log_warning(\"'early_stopping_rounds' argument is deprecated and will be removed in a future release of LightGBM. \"\n",
      "/opt/conda/lib/python3.7/site-packages/lightgbm/engine.py:239: UserWarning: 'verbose_eval' argument is deprecated and will be removed in a future release of LightGBM. Pass 'log_evaluation()' callback via 'callbacks' argument instead.\n",
      "  _log_warning(\"'verbose_eval' argument is deprecated and will be removed in a future release of LightGBM. \"\n"
     ]
    },
    {
     "name": "stdout",
     "output_type": "stream",
     "text": [
      "[LightGBM] [Info] Total Bins 76500\n",
      "[LightGBM] [Info] Number of data points in the train set: 2364296, number of used features: 300\n",
      "[LightGBM] [Info] Start training from score -0.024609\n",
      "Training until validation scores don't improve for 50 rounds\n",
      "[50]\tvalid_0's rmse: 0.901288\n",
      "[100]\tvalid_0's rmse: 0.900276\n",
      "[150]\tvalid_0's rmse: 0.899785\n",
      "[200]\tvalid_0's rmse: 0.899491\n",
      "[250]\tvalid_0's rmse: 0.899284\n",
      "[300]\tvalid_0's rmse: 0.899161\n",
      "[350]\tvalid_0's rmse: 0.899135\n"
     ]
    },
    {
     "name": "stderr",
     "output_type": "stream",
     "text": [
      "num_leaves, val_score: 0.899044:  80% 16/20 [45:20<11:02, 165.68s/it]\u001b[32m[I 2022-01-31 16:56:49,908]\u001b[0m Trial 22 finished with value: 0.8991277420281868 and parameters: {'num_leaves': 35}. Best is trial 18 with value: 0.8990440626209001.\u001b[0m\n",
      "num_leaves, val_score: 0.899044:  80% 16/20 [45:20<11:02, 165.68s/it]"
     ]
    },
    {
     "name": "stdout",
     "output_type": "stream",
     "text": [
      "Early stopping, best iteration is:\n",
      "[348]\tvalid_0's rmse: 0.899128\n"
     ]
    },
    {
     "name": "stderr",
     "output_type": "stream",
     "text": [
      "/opt/conda/lib/python3.7/site-packages/lightgbm/engine.py:181: UserWarning: 'early_stopping_rounds' argument is deprecated and will be removed in a future release of LightGBM. Pass 'early_stopping()' callback via 'callbacks' argument instead.\n",
      "  _log_warning(\"'early_stopping_rounds' argument is deprecated and will be removed in a future release of LightGBM. \"\n",
      "/opt/conda/lib/python3.7/site-packages/lightgbm/engine.py:239: UserWarning: 'verbose_eval' argument is deprecated and will be removed in a future release of LightGBM. Pass 'log_evaluation()' callback via 'callbacks' argument instead.\n",
      "  _log_warning(\"'verbose_eval' argument is deprecated and will be removed in a future release of LightGBM. \"\n"
     ]
    },
    {
     "name": "stdout",
     "output_type": "stream",
     "text": [
      "[LightGBM] [Info] Total Bins 76500\n",
      "[LightGBM] [Info] Number of data points in the train set: 2364296, number of used features: 300\n",
      "[LightGBM] [Info] Start training from score -0.024609\n",
      "Training until validation scores don't improve for 50 rounds\n",
      "[50]\tvalid_0's rmse: 0.900713\n",
      "[100]\tvalid_0's rmse: 0.899744\n",
      "[150]\tvalid_0's rmse: 0.899379\n",
      "[200]\tvalid_0's rmse: 0.899242\n",
      "[250]\tvalid_0's rmse: 0.899167\n",
      "[300]\tvalid_0's rmse: 0.89915\n"
     ]
    },
    {
     "name": "stderr",
     "output_type": "stream",
     "text": [
      "num_leaves, val_score: 0.899044:  85% 17/20 [48:10<08:20, 166.92s/it]\u001b[32m[I 2022-01-31 16:59:39,696]\u001b[0m Trial 23 finished with value: 0.8991134767591311 and parameters: {'num_leaves': 101}. Best is trial 18 with value: 0.8990440626209001.\u001b[0m\n",
      "num_leaves, val_score: 0.899044:  85% 17/20 [48:10<08:20, 166.92s/it]"
     ]
    },
    {
     "name": "stdout",
     "output_type": "stream",
     "text": [
      "Early stopping, best iteration is:\n",
      "[268]\tvalid_0's rmse: 0.899113\n"
     ]
    },
    {
     "name": "stderr",
     "output_type": "stream",
     "text": [
      "/opt/conda/lib/python3.7/site-packages/lightgbm/engine.py:181: UserWarning: 'early_stopping_rounds' argument is deprecated and will be removed in a future release of LightGBM. Pass 'early_stopping()' callback via 'callbacks' argument instead.\n",
      "  _log_warning(\"'early_stopping_rounds' argument is deprecated and will be removed in a future release of LightGBM. \"\n",
      "/opt/conda/lib/python3.7/site-packages/lightgbm/engine.py:239: UserWarning: 'verbose_eval' argument is deprecated and will be removed in a future release of LightGBM. Pass 'log_evaluation()' callback via 'callbacks' argument instead.\n",
      "  _log_warning(\"'verbose_eval' argument is deprecated and will be removed in a future release of LightGBM. \"\n"
     ]
    },
    {
     "name": "stdout",
     "output_type": "stream",
     "text": [
      "[LightGBM] [Info] Total Bins 76500\n",
      "[LightGBM] [Info] Number of data points in the train set: 2364296, number of used features: 300\n",
      "[LightGBM] [Info] Start training from score -0.024609\n",
      "Training until validation scores don't improve for 50 rounds\n",
      "[50]\tvalid_0's rmse: 0.900648\n",
      "[100]\tvalid_0's rmse: 0.89979\n",
      "[150]\tvalid_0's rmse: 0.899561\n",
      "[200]\tvalid_0's rmse: 0.899529\n",
      "[250]\tvalid_0's rmse: 0.899447\n",
      "[300]\tvalid_0's rmse: 0.899573\n"
     ]
    },
    {
     "name": "stderr",
     "output_type": "stream",
     "text": [
      "num_leaves, val_score: 0.899044:  90% 18/20 [51:11<05:42, 171.32s/it]\u001b[32m[I 2022-01-31 17:02:41,270]\u001b[0m Trial 24 finished with value: 0.89943312566676 and parameters: {'num_leaves': 155}. Best is trial 18 with value: 0.8990440626209001.\u001b[0m\n",
      "num_leaves, val_score: 0.899044:  90% 18/20 [51:11<05:42, 171.32s/it]"
     ]
    },
    {
     "name": "stdout",
     "output_type": "stream",
     "text": [
      "Early stopping, best iteration is:\n",
      "[253]\tvalid_0's rmse: 0.899433\n"
     ]
    },
    {
     "name": "stderr",
     "output_type": "stream",
     "text": [
      "/opt/conda/lib/python3.7/site-packages/lightgbm/engine.py:181: UserWarning: 'early_stopping_rounds' argument is deprecated and will be removed in a future release of LightGBM. Pass 'early_stopping()' callback via 'callbacks' argument instead.\n",
      "  _log_warning(\"'early_stopping_rounds' argument is deprecated and will be removed in a future release of LightGBM. \"\n",
      "/opt/conda/lib/python3.7/site-packages/lightgbm/engine.py:239: UserWarning: 'verbose_eval' argument is deprecated and will be removed in a future release of LightGBM. Pass 'log_evaluation()' callback via 'callbacks' argument instead.\n",
      "  _log_warning(\"'verbose_eval' argument is deprecated and will be removed in a future release of LightGBM. \"\n"
     ]
    },
    {
     "name": "stdout",
     "output_type": "stream",
     "text": [
      "[LightGBM] [Info] Total Bins 76500\n",
      "[LightGBM] [Info] Number of data points in the train set: 2364296, number of used features: 300\n",
      "[LightGBM] [Info] Start training from score -0.024609\n",
      "Training until validation scores don't improve for 50 rounds\n",
      "[50]\tvalid_0's rmse: 0.900983\n",
      "[100]\tvalid_0's rmse: 0.899967\n",
      "[150]\tvalid_0's rmse: 0.899513\n",
      "[200]\tvalid_0's rmse: 0.899306\n",
      "[250]\tvalid_0's rmse: 0.899172\n",
      "[300]\tvalid_0's rmse: 0.899154\n",
      "[350]\tvalid_0's rmse: 0.899124\n",
      "[400]\tvalid_0's rmse: 0.899201\n"
     ]
    },
    {
     "name": "stderr",
     "output_type": "stream",
     "text": [
      "num_leaves, val_score: 0.899044:  95% 19/20 [54:16<02:55, 175.25s/it]\u001b[32m[I 2022-01-31 17:05:45,668]\u001b[0m Trial 25 finished with value: 0.8991055553251185 and parameters: {'num_leaves': 67}. Best is trial 18 with value: 0.8990440626209001.\u001b[0m\n",
      "num_leaves, val_score: 0.899044:  95% 19/20 [54:16<02:55, 175.25s/it]"
     ]
    },
    {
     "name": "stdout",
     "output_type": "stream",
     "text": [
      "Early stopping, best iteration is:\n",
      "[366]\tvalid_0's rmse: 0.899106\n"
     ]
    },
    {
     "name": "stderr",
     "output_type": "stream",
     "text": [
      "/opt/conda/lib/python3.7/site-packages/lightgbm/engine.py:181: UserWarning: 'early_stopping_rounds' argument is deprecated and will be removed in a future release of LightGBM. Pass 'early_stopping()' callback via 'callbacks' argument instead.\n",
      "  _log_warning(\"'early_stopping_rounds' argument is deprecated and will be removed in a future release of LightGBM. \"\n",
      "/opt/conda/lib/python3.7/site-packages/lightgbm/engine.py:239: UserWarning: 'verbose_eval' argument is deprecated and will be removed in a future release of LightGBM. Pass 'log_evaluation()' callback via 'callbacks' argument instead.\n",
      "  _log_warning(\"'verbose_eval' argument is deprecated and will be removed in a future release of LightGBM. \"\n"
     ]
    },
    {
     "name": "stdout",
     "output_type": "stream",
     "text": [
      "[LightGBM] [Info] Total Bins 76500\n",
      "[LightGBM] [Info] Number of data points in the train set: 2364296, number of used features: 300\n",
      "[LightGBM] [Info] Start training from score -0.024609\n",
      "Training until validation scores don't improve for 50 rounds\n",
      "[50]\tvalid_0's rmse: 0.903309\n",
      "[100]\tvalid_0's rmse: 0.902386\n",
      "[150]\tvalid_0's rmse: 0.901921\n",
      "[200]\tvalid_0's rmse: 0.901596\n",
      "[250]\tvalid_0's rmse: 0.901258\n",
      "[300]\tvalid_0's rmse: 0.901069\n",
      "[350]\tvalid_0's rmse: 0.900818\n",
      "[400]\tvalid_0's rmse: 0.900668\n",
      "[450]\tvalid_0's rmse: 0.900572\n",
      "[500]\tvalid_0's rmse: 0.900465\n",
      "[550]\tvalid_0's rmse: 0.900358\n",
      "[600]\tvalid_0's rmse: 0.900223\n",
      "[650]\tvalid_0's rmse: 0.900161\n",
      "[700]\tvalid_0's rmse: 0.900087\n",
      "[750]\tvalid_0's rmse: 0.900028\n",
      "[800]\tvalid_0's rmse: 0.899961\n",
      "[850]\tvalid_0's rmse: 0.89993\n",
      "[900]\tvalid_0's rmse: 0.899861\n",
      "[950]\tvalid_0's rmse: 0.899849\n",
      "[1000]\tvalid_0's rmse: 0.899793\n",
      "[1050]\tvalid_0's rmse: 0.899777\n",
      "[1100]\tvalid_0's rmse: 0.899753\n",
      "[1150]\tvalid_0's rmse: 0.899726\n"
     ]
    },
    {
     "name": "stderr",
     "output_type": "stream",
     "text": [
      "num_leaves, val_score: 0.899044: 100% 20/20 [57:56<00:00, 188.88s/it]\u001b[32m[I 2022-01-31 17:09:26,302]\u001b[0m Trial 26 finished with value: 0.8997166844577371 and parameters: {'num_leaves': 4}. Best is trial 18 with value: 0.8990440626209001.\u001b[0m\n",
      "num_leaves, val_score: 0.899044: 100% 20/20 [57:56<00:00, 173.84s/it]\n"
     ]
    },
    {
     "name": "stdout",
     "output_type": "stream",
     "text": [
      "Early stopping, best iteration is:\n",
      "[1132]\tvalid_0's rmse: 0.899717\n"
     ]
    },
    {
     "name": "stderr",
     "output_type": "stream",
     "text": [
      "bagging, val_score: 0.899044:   0% 0/10 [00:00<?, ?it/s]/opt/conda/lib/python3.7/site-packages/lightgbm/engine.py:181: UserWarning: 'early_stopping_rounds' argument is deprecated and will be removed in a future release of LightGBM. Pass 'early_stopping()' callback via 'callbacks' argument instead.\n",
      "  _log_warning(\"'early_stopping_rounds' argument is deprecated and will be removed in a future release of LightGBM. \"\n",
      "/opt/conda/lib/python3.7/site-packages/lightgbm/engine.py:239: UserWarning: 'verbose_eval' argument is deprecated and will be removed in a future release of LightGBM. Pass 'log_evaluation()' callback via 'callbacks' argument instead.\n",
      "  _log_warning(\"'verbose_eval' argument is deprecated and will be removed in a future release of LightGBM. \"\n"
     ]
    },
    {
     "name": "stdout",
     "output_type": "stream",
     "text": [
      "[LightGBM] [Info] Total Bins 76500\n",
      "[LightGBM] [Info] Number of data points in the train set: 2364296, number of used features: 300\n",
      "[LightGBM] [Info] Start training from score -0.024609\n",
      "Training until validation scores don't improve for 50 rounds\n",
      "[50]\tvalid_0's rmse: 0.901028\n",
      "[100]\tvalid_0's rmse: 0.900055\n",
      "[150]\tvalid_0's rmse: 0.899623\n",
      "[200]\tvalid_0's rmse: 0.899313\n",
      "[250]\tvalid_0's rmse: 0.899216\n",
      "[300]\tvalid_0's rmse: 0.899159\n",
      "[350]\tvalid_0's rmse: 0.89921\n"
     ]
    },
    {
     "name": "stderr",
     "output_type": "stream",
     "text": [
      "bagging, val_score: 0.899044:  10% 1/10 [02:26<22:01, 146.79s/it]\u001b[32m[I 2022-01-31 17:11:53,101]\u001b[0m Trial 27 finished with value: 0.8991435365521879 and parameters: {'bagging_fraction': 0.7456259995710943, 'bagging_freq': 6}. Best is trial 27 with value: 0.8991435365521879.\u001b[0m\n",
      "bagging, val_score: 0.899044:  10% 1/10 [02:26<22:01, 146.79s/it]"
     ]
    },
    {
     "name": "stdout",
     "output_type": "stream",
     "text": [
      "Early stopping, best iteration is:\n",
      "[311]\tvalid_0's rmse: 0.899144\n"
     ]
    },
    {
     "name": "stderr",
     "output_type": "stream",
     "text": [
      "/opt/conda/lib/python3.7/site-packages/lightgbm/engine.py:181: UserWarning: 'early_stopping_rounds' argument is deprecated and will be removed in a future release of LightGBM. Pass 'early_stopping()' callback via 'callbacks' argument instead.\n",
      "  _log_warning(\"'early_stopping_rounds' argument is deprecated and will be removed in a future release of LightGBM. \"\n",
      "/opt/conda/lib/python3.7/site-packages/lightgbm/engine.py:239: UserWarning: 'verbose_eval' argument is deprecated and will be removed in a future release of LightGBM. Pass 'log_evaluation()' callback via 'callbacks' argument instead.\n",
      "  _log_warning(\"'verbose_eval' argument is deprecated and will be removed in a future release of LightGBM. \"\n"
     ]
    },
    {
     "name": "stdout",
     "output_type": "stream",
     "text": [
      "[LightGBM] [Info] Total Bins 76500\n",
      "[LightGBM] [Info] Number of data points in the train set: 2364296, number of used features: 300\n",
      "[LightGBM] [Info] Start training from score -0.024609\n",
      "Training until validation scores don't improve for 50 rounds\n",
      "[50]\tvalid_0's rmse: 0.901023\n",
      "[100]\tvalid_0's rmse: 0.900077\n",
      "[150]\tvalid_0's rmse: 0.899653\n",
      "[200]\tvalid_0's rmse: 0.899415\n",
      "[250]\tvalid_0's rmse: 0.899341\n",
      "[300]\tvalid_0's rmse: 0.899311\n",
      "[350]\tvalid_0's rmse: 0.899415\n"
     ]
    },
    {
     "name": "stderr",
     "output_type": "stream",
     "text": [
      "bagging, val_score: 0.899044:  20% 2/10 [04:45<18:57, 142.23s/it]\u001b[32m[I 2022-01-31 17:14:12,143]\u001b[0m Trial 28 finished with value: 0.8992913555776149 and parameters: {'bagging_fraction': 0.688017689083991, 'bagging_freq': 5}. Best is trial 27 with value: 0.8991435365521879.\u001b[0m\n",
      "bagging, val_score: 0.899044:  20% 2/10 [04:45<18:57, 142.23s/it]"
     ]
    },
    {
     "name": "stdout",
     "output_type": "stream",
     "text": [
      "Early stopping, best iteration is:\n",
      "[307]\tvalid_0's rmse: 0.899291\n"
     ]
    },
    {
     "name": "stderr",
     "output_type": "stream",
     "text": [
      "/opt/conda/lib/python3.7/site-packages/lightgbm/engine.py:181: UserWarning: 'early_stopping_rounds' argument is deprecated and will be removed in a future release of LightGBM. Pass 'early_stopping()' callback via 'callbacks' argument instead.\n",
      "  _log_warning(\"'early_stopping_rounds' argument is deprecated and will be removed in a future release of LightGBM. \"\n",
      "/opt/conda/lib/python3.7/site-packages/lightgbm/engine.py:239: UserWarning: 'verbose_eval' argument is deprecated and will be removed in a future release of LightGBM. Pass 'log_evaluation()' callback via 'callbacks' argument instead.\n",
      "  _log_warning(\"'verbose_eval' argument is deprecated and will be removed in a future release of LightGBM. \"\n"
     ]
    },
    {
     "name": "stdout",
     "output_type": "stream",
     "text": [
      "[LightGBM] [Info] Total Bins 76500\n",
      "[LightGBM] [Info] Number of data points in the train set: 2364296, number of used features: 300\n",
      "[LightGBM] [Info] Start training from score -0.024609\n",
      "Training until validation scores don't improve for 50 rounds\n",
      "[50]\tvalid_0's rmse: 0.90091\n",
      "[100]\tvalid_0's rmse: 0.900113\n",
      "[150]\tvalid_0's rmse: 0.89975\n",
      "[200]\tvalid_0's rmse: 0.899454\n",
      "[250]\tvalid_0's rmse: 0.89947\n"
     ]
    },
    {
     "name": "stderr",
     "output_type": "stream",
     "text": [
      "bagging, val_score: 0.899044:  30% 3/10 [06:22<14:09, 121.31s/it]\u001b[32m[I 2022-01-31 17:15:48,564]\u001b[0m Trial 29 finished with value: 0.8994529708036262 and parameters: {'bagging_fraction': 0.5020615250226276, 'bagging_freq': 7}. Best is trial 27 with value: 0.8991435365521879.\u001b[0m\n",
      "bagging, val_score: 0.899044:  30% 3/10 [06:22<14:09, 121.31s/it]"
     ]
    },
    {
     "name": "stdout",
     "output_type": "stream",
     "text": [
      "Early stopping, best iteration is:\n",
      "[215]\tvalid_0's rmse: 0.899453\n"
     ]
    },
    {
     "name": "stderr",
     "output_type": "stream",
     "text": [
      "/opt/conda/lib/python3.7/site-packages/lightgbm/engine.py:181: UserWarning: 'early_stopping_rounds' argument is deprecated and will be removed in a future release of LightGBM. Pass 'early_stopping()' callback via 'callbacks' argument instead.\n",
      "  _log_warning(\"'early_stopping_rounds' argument is deprecated and will be removed in a future release of LightGBM. \"\n",
      "/opt/conda/lib/python3.7/site-packages/lightgbm/engine.py:239: UserWarning: 'verbose_eval' argument is deprecated and will be removed in a future release of LightGBM. Pass 'log_evaluation()' callback via 'callbacks' argument instead.\n",
      "  _log_warning(\"'verbose_eval' argument is deprecated and will be removed in a future release of LightGBM. \"\n"
     ]
    },
    {
     "name": "stdout",
     "output_type": "stream",
     "text": [
      "[LightGBM] [Info] Total Bins 76500\n",
      "[LightGBM] [Info] Number of data points in the train set: 2364296, number of used features: 300\n",
      "[LightGBM] [Info] Start training from score -0.024609\n",
      "Training until validation scores don't improve for 50 rounds\n",
      "[50]\tvalid_0's rmse: 0.901074\n",
      "[100]\tvalid_0's rmse: 0.90007\n",
      "[150]\tvalid_0's rmse: 0.899562\n",
      "[200]\tvalid_0's rmse: 0.899335\n",
      "[250]\tvalid_0's rmse: 0.899251\n",
      "[300]\tvalid_0's rmse: 0.899183\n",
      "[350]\tvalid_0's rmse: 0.899185\n"
     ]
    },
    {
     "name": "stderr",
     "output_type": "stream",
     "text": [
      "bagging, val_score: 0.899044:  40% 4/10 [09:10<13:59, 139.89s/it]\u001b[32m[I 2022-01-31 17:18:36,943]\u001b[0m Trial 30 finished with value: 0.8991600880944005 and parameters: {'bagging_fraction': 0.8589491419421329, 'bagging_freq': 2}. Best is trial 27 with value: 0.8991435365521879.\u001b[0m\n",
      "bagging, val_score: 0.899044:  40% 4/10 [09:10<13:59, 139.89s/it]"
     ]
    },
    {
     "name": "stdout",
     "output_type": "stream",
     "text": [
      "Early stopping, best iteration is:\n",
      "[330]\tvalid_0's rmse: 0.89916\n"
     ]
    },
    {
     "name": "stderr",
     "output_type": "stream",
     "text": [
      "/opt/conda/lib/python3.7/site-packages/lightgbm/engine.py:181: UserWarning: 'early_stopping_rounds' argument is deprecated and will be removed in a future release of LightGBM. Pass 'early_stopping()' callback via 'callbacks' argument instead.\n",
      "  _log_warning(\"'early_stopping_rounds' argument is deprecated and will be removed in a future release of LightGBM. \"\n",
      "/opt/conda/lib/python3.7/site-packages/lightgbm/engine.py:239: UserWarning: 'verbose_eval' argument is deprecated and will be removed in a future release of LightGBM. Pass 'log_evaluation()' callback via 'callbacks' argument instead.\n",
      "  _log_warning(\"'verbose_eval' argument is deprecated and will be removed in a future release of LightGBM. \"\n"
     ]
    },
    {
     "name": "stdout",
     "output_type": "stream",
     "text": [
      "[LightGBM] [Info] Total Bins 76500\n",
      "[LightGBM] [Info] Number of data points in the train set: 2364296, number of used features: 300\n",
      "[LightGBM] [Info] Start training from score -0.024609\n",
      "Training until validation scores don't improve for 50 rounds\n",
      "[50]\tvalid_0's rmse: 0.901045\n",
      "[100]\tvalid_0's rmse: 0.900142\n",
      "[150]\tvalid_0's rmse: 0.899689\n",
      "[200]\tvalid_0's rmse: 0.899563\n",
      "[250]\tvalid_0's rmse: 0.899451\n",
      "[300]\tvalid_0's rmse: 0.89944\n"
     ]
    },
    {
     "name": "stderr",
     "output_type": "stream",
     "text": [
      "bagging, val_score: 0.899044:  50% 5/10 [11:16<11:14, 134.84s/it]\u001b[32m[I 2022-01-31 17:20:42,810]\u001b[0m Trial 31 finished with value: 0.8993985906995776 and parameters: {'bagging_fraction': 0.6530093292535819, 'bagging_freq': 5}. Best is trial 27 with value: 0.8991435365521879.\u001b[0m\n",
      "bagging, val_score: 0.899044:  50% 5/10 [11:16<11:14, 134.84s/it]"
     ]
    },
    {
     "name": "stdout",
     "output_type": "stream",
     "text": [
      "Early stopping, best iteration is:\n",
      "[267]\tvalid_0's rmse: 0.899399\n"
     ]
    },
    {
     "name": "stderr",
     "output_type": "stream",
     "text": [
      "/opt/conda/lib/python3.7/site-packages/lightgbm/engine.py:181: UserWarning: 'early_stopping_rounds' argument is deprecated and will be removed in a future release of LightGBM. Pass 'early_stopping()' callback via 'callbacks' argument instead.\n",
      "  _log_warning(\"'early_stopping_rounds' argument is deprecated and will be removed in a future release of LightGBM. \"\n",
      "/opt/conda/lib/python3.7/site-packages/lightgbm/engine.py:239: UserWarning: 'verbose_eval' argument is deprecated and will be removed in a future release of LightGBM. Pass 'log_evaluation()' callback via 'callbacks' argument instead.\n",
      "  _log_warning(\"'verbose_eval' argument is deprecated and will be removed in a future release of LightGBM. \"\n"
     ]
    },
    {
     "name": "stdout",
     "output_type": "stream",
     "text": [
      "[LightGBM] [Info] Total Bins 76500\n",
      "[LightGBM] [Info] Number of data points in the train set: 2364296, number of used features: 300\n",
      "[LightGBM] [Info] Start training from score -0.024609\n",
      "Training until validation scores don't improve for 50 rounds\n",
      "[50]\tvalid_0's rmse: 0.900893\n",
      "[100]\tvalid_0's rmse: 0.899893\n",
      "[150]\tvalid_0's rmse: 0.899511\n",
      "[200]\tvalid_0's rmse: 0.899256\n",
      "[250]\tvalid_0's rmse: 0.899222\n",
      "[300]\tvalid_0's rmse: 0.899185\n"
     ]
    },
    {
     "name": "stderr",
     "output_type": "stream",
     "text": [
      "bagging, val_score: 0.899044:  60% 6/10 [13:15<08:37, 129.35s/it]\u001b[32m[I 2022-01-31 17:22:41,523]\u001b[0m Trial 32 finished with value: 0.8991619909066788 and parameters: {'bagging_fraction': 0.5517347901504452, 'bagging_freq': 3}. Best is trial 27 with value: 0.8991435365521879.\u001b[0m\n",
      "bagging, val_score: 0.899044:  60% 6/10 [13:15<08:37, 129.35s/it]"
     ]
    },
    {
     "name": "stdout",
     "output_type": "stream",
     "text": [
      "Early stopping, best iteration is:\n",
      "[290]\tvalid_0's rmse: 0.899162\n"
     ]
    },
    {
     "name": "stderr",
     "output_type": "stream",
     "text": [
      "/opt/conda/lib/python3.7/site-packages/lightgbm/engine.py:181: UserWarning: 'early_stopping_rounds' argument is deprecated and will be removed in a future release of LightGBM. Pass 'early_stopping()' callback via 'callbacks' argument instead.\n",
      "  _log_warning(\"'early_stopping_rounds' argument is deprecated and will be removed in a future release of LightGBM. \"\n",
      "/opt/conda/lib/python3.7/site-packages/lightgbm/engine.py:239: UserWarning: 'verbose_eval' argument is deprecated and will be removed in a future release of LightGBM. Pass 'log_evaluation()' callback via 'callbacks' argument instead.\n",
      "  _log_warning(\"'verbose_eval' argument is deprecated and will be removed in a future release of LightGBM. \"\n"
     ]
    },
    {
     "name": "stdout",
     "output_type": "stream",
     "text": [
      "[LightGBM] [Info] Total Bins 76500\n",
      "[LightGBM] [Info] Number of data points in the train set: 2364296, number of used features: 300\n",
      "[LightGBM] [Info] Start training from score -0.024609\n",
      "Training until validation scores don't improve for 50 rounds\n",
      "[50]\tvalid_0's rmse: 0.901011\n",
      "[100]\tvalid_0's rmse: 0.900083\n",
      "[150]\tvalid_0's rmse: 0.899598\n",
      "[200]\tvalid_0's rmse: 0.899314\n",
      "[250]\tvalid_0's rmse: 0.899272\n"
     ]
    },
    {
     "name": "stderr",
     "output_type": "stream",
     "text": [
      "bagging, val_score: 0.899044:  70% 7/10 [15:20<06:24, 128.03s/it]\u001b[32m[I 2022-01-31 17:24:46,816]\u001b[0m Trial 33 finished with value: 0.8992451883393445 and parameters: {'bagging_fraction': 0.6988932324688839, 'bagging_freq': 2}. Best is trial 27 with value: 0.8991435365521879.\u001b[0m\n",
      "bagging, val_score: 0.899044:  70% 7/10 [15:20<06:24, 128.03s/it]"
     ]
    },
    {
     "name": "stdout",
     "output_type": "stream",
     "text": [
      "Early stopping, best iteration is:\n",
      "[242]\tvalid_0's rmse: 0.899245\n"
     ]
    },
    {
     "name": "stderr",
     "output_type": "stream",
     "text": [
      "/opt/conda/lib/python3.7/site-packages/lightgbm/engine.py:181: UserWarning: 'early_stopping_rounds' argument is deprecated and will be removed in a future release of LightGBM. Pass 'early_stopping()' callback via 'callbacks' argument instead.\n",
      "  _log_warning(\"'early_stopping_rounds' argument is deprecated and will be removed in a future release of LightGBM. \"\n",
      "/opt/conda/lib/python3.7/site-packages/lightgbm/engine.py:239: UserWarning: 'verbose_eval' argument is deprecated and will be removed in a future release of LightGBM. Pass 'log_evaluation()' callback via 'callbacks' argument instead.\n",
      "  _log_warning(\"'verbose_eval' argument is deprecated and will be removed in a future release of LightGBM. \"\n"
     ]
    },
    {
     "name": "stdout",
     "output_type": "stream",
     "text": [
      "[LightGBM] [Info] Total Bins 76500\n",
      "[LightGBM] [Info] Number of data points in the train set: 2364296, number of used features: 300\n",
      "[LightGBM] [Info] Start training from score -0.024609\n",
      "Training until validation scores don't improve for 50 rounds\n",
      "[50]\tvalid_0's rmse: 0.901014\n",
      "[100]\tvalid_0's rmse: 0.900032\n",
      "[150]\tvalid_0's rmse: 0.899578\n",
      "[200]\tvalid_0's rmse: 0.899433\n",
      "[250]\tvalid_0's rmse: 0.899375\n",
      "[300]\tvalid_0's rmse: 0.89939\n"
     ]
    },
    {
     "name": "stderr",
     "output_type": "stream",
     "text": [
      "bagging, val_score: 0.899044:  80% 8/10 [17:15<04:07, 123.83s/it]\u001b[32m[I 2022-01-31 17:26:41,660]\u001b[0m Trial 34 finished with value: 0.8993537128280973 and parameters: {'bagging_fraction': 0.5817767174383629, 'bagging_freq': 6}. Best is trial 27 with value: 0.8991435365521879.\u001b[0m\n",
      "bagging, val_score: 0.899044:  80% 8/10 [17:15<04:07, 123.83s/it]"
     ]
    },
    {
     "name": "stdout",
     "output_type": "stream",
     "text": [
      "Early stopping, best iteration is:\n",
      "[256]\tvalid_0's rmse: 0.899354\n"
     ]
    },
    {
     "name": "stderr",
     "output_type": "stream",
     "text": [
      "/opt/conda/lib/python3.7/site-packages/lightgbm/engine.py:181: UserWarning: 'early_stopping_rounds' argument is deprecated and will be removed in a future release of LightGBM. Pass 'early_stopping()' callback via 'callbacks' argument instead.\n",
      "  _log_warning(\"'early_stopping_rounds' argument is deprecated and will be removed in a future release of LightGBM. \"\n",
      "/opt/conda/lib/python3.7/site-packages/lightgbm/engine.py:239: UserWarning: 'verbose_eval' argument is deprecated and will be removed in a future release of LightGBM. Pass 'log_evaluation()' callback via 'callbacks' argument instead.\n",
      "  _log_warning(\"'verbose_eval' argument is deprecated and will be removed in a future release of LightGBM. \"\n"
     ]
    },
    {
     "name": "stdout",
     "output_type": "stream",
     "text": [
      "[LightGBM] [Info] Total Bins 76500\n",
      "[LightGBM] [Info] Number of data points in the train set: 2364296, number of used features: 300\n",
      "[LightGBM] [Info] Start training from score -0.024609\n",
      "Training until validation scores don't improve for 50 rounds\n",
      "[50]\tvalid_0's rmse: 0.901005\n",
      "[100]\tvalid_0's rmse: 0.900092\n",
      "[150]\tvalid_0's rmse: 0.899604\n",
      "[200]\tvalid_0's rmse: 0.899352\n",
      "[250]\tvalid_0's rmse: 0.899213\n",
      "[300]\tvalid_0's rmse: 0.899157\n",
      "[350]\tvalid_0's rmse: 0.89916\n"
     ]
    },
    {
     "name": "stderr",
     "output_type": "stream",
     "text": [
      "bagging, val_score: 0.899044:  90% 9/10 [20:08<02:19, 139.38s/it]\u001b[32m[I 2022-01-31 17:29:35,229]\u001b[0m Trial 35 finished with value: 0.8991159259911156 and parameters: {'bagging_fraction': 0.9082117702428808, 'bagging_freq': 7}. Best is trial 35 with value: 0.8991159259911156.\u001b[0m\n",
      "bagging, val_score: 0.899044:  90% 9/10 [20:08<02:19, 139.38s/it]"
     ]
    },
    {
     "name": "stdout",
     "output_type": "stream",
     "text": [
      "Early stopping, best iteration is:\n",
      "[318]\tvalid_0's rmse: 0.899116\n"
     ]
    },
    {
     "name": "stderr",
     "output_type": "stream",
     "text": [
      "/opt/conda/lib/python3.7/site-packages/lightgbm/engine.py:181: UserWarning: 'early_stopping_rounds' argument is deprecated and will be removed in a future release of LightGBM. Pass 'early_stopping()' callback via 'callbacks' argument instead.\n",
      "  _log_warning(\"'early_stopping_rounds' argument is deprecated and will be removed in a future release of LightGBM. \"\n",
      "/opt/conda/lib/python3.7/site-packages/lightgbm/engine.py:239: UserWarning: 'verbose_eval' argument is deprecated and will be removed in a future release of LightGBM. Pass 'log_evaluation()' callback via 'callbacks' argument instead.\n",
      "  _log_warning(\"'verbose_eval' argument is deprecated and will be removed in a future release of LightGBM. \"\n"
     ]
    },
    {
     "name": "stdout",
     "output_type": "stream",
     "text": [
      "[LightGBM] [Info] Total Bins 76500\n",
      "[LightGBM] [Info] Number of data points in the train set: 2364296, number of used features: 300\n",
      "[LightGBM] [Info] Start training from score -0.024609\n",
      "Training until validation scores don't improve for 50 rounds\n",
      "[50]\tvalid_0's rmse: 0.900942\n",
      "[100]\tvalid_0's rmse: 0.900081\n",
      "[150]\tvalid_0's rmse: 0.899629\n",
      "[200]\tvalid_0's rmse: 0.899361\n",
      "[250]\tvalid_0's rmse: 0.899196\n",
      "[300]\tvalid_0's rmse: 0.899106\n",
      "[350]\tvalid_0's rmse: 0.899099\n"
     ]
    },
    {
     "name": "stderr",
     "output_type": "stream",
     "text": [
      "bagging, val_score: 0.899044: 100% 10/10 [22:44<00:00, 144.25s/it]\u001b[32m[I 2022-01-31 17:32:10,376]\u001b[0m Trial 36 finished with value: 0.899082573653928 and parameters: {'bagging_fraction': 0.7563973978704, 'bagging_freq': 1}. Best is trial 36 with value: 0.899082573653928.\u001b[0m\n",
      "bagging, val_score: 0.899044: 100% 10/10 [22:44<00:00, 136.41s/it]\n"
     ]
    },
    {
     "name": "stdout",
     "output_type": "stream",
     "text": [
      "Early stopping, best iteration is:\n",
      "[317]\tvalid_0's rmse: 0.899083\n"
     ]
    },
    {
     "name": "stderr",
     "output_type": "stream",
     "text": [
      "feature_fraction_stage2, val_score: 0.899044:   0% 0/6 [00:00<?, ?it/s]/opt/conda/lib/python3.7/site-packages/lightgbm/engine.py:181: UserWarning: 'early_stopping_rounds' argument is deprecated and will be removed in a future release of LightGBM. Pass 'early_stopping()' callback via 'callbacks' argument instead.\n",
      "  _log_warning(\"'early_stopping_rounds' argument is deprecated and will be removed in a future release of LightGBM. \"\n",
      "/opt/conda/lib/python3.7/site-packages/lightgbm/engine.py:239: UserWarning: 'verbose_eval' argument is deprecated and will be removed in a future release of LightGBM. Pass 'log_evaluation()' callback via 'callbacks' argument instead.\n",
      "  _log_warning(\"'verbose_eval' argument is deprecated and will be removed in a future release of LightGBM. \"\n"
     ]
    },
    {
     "name": "stdout",
     "output_type": "stream",
     "text": [
      "[LightGBM] [Info] Total Bins 76500\n",
      "[LightGBM] [Info] Number of data points in the train set: 2364296, number of used features: 300\n",
      "[LightGBM] [Info] Start training from score -0.024609\n",
      "Training until validation scores don't improve for 50 rounds\n",
      "[50]\tvalid_0's rmse: 0.901032\n",
      "[100]\tvalid_0's rmse: 0.900039\n",
      "[150]\tvalid_0's rmse: 0.899559\n",
      "[200]\tvalid_0's rmse: 0.899316\n",
      "[250]\tvalid_0's rmse: 0.899247\n"
     ]
    },
    {
     "name": "stderr",
     "output_type": "stream",
     "text": [
      "feature_fraction_stage2, val_score: 0.899044:  17% 1/6 [02:10<10:54, 130.85s/it]\u001b[32m[I 2022-01-31 17:34:21,233]\u001b[0m Trial 37 finished with value: 0.8992384468960147 and parameters: {'feature_fraction': 0.52}. Best is trial 37 with value: 0.8992384468960147.\u001b[0m\n",
      "feature_fraction_stage2, val_score: 0.899044:  17% 1/6 [02:10<10:54, 130.85s/it]"
     ]
    },
    {
     "name": "stdout",
     "output_type": "stream",
     "text": [
      "Early stopping, best iteration is:\n",
      "[244]\tvalid_0's rmse: 0.899238\n"
     ]
    },
    {
     "name": "stderr",
     "output_type": "stream",
     "text": [
      "/opt/conda/lib/python3.7/site-packages/lightgbm/engine.py:181: UserWarning: 'early_stopping_rounds' argument is deprecated and will be removed in a future release of LightGBM. Pass 'early_stopping()' callback via 'callbacks' argument instead.\n",
      "  _log_warning(\"'early_stopping_rounds' argument is deprecated and will be removed in a future release of LightGBM. \"\n",
      "/opt/conda/lib/python3.7/site-packages/lightgbm/engine.py:239: UserWarning: 'verbose_eval' argument is deprecated and will be removed in a future release of LightGBM. Pass 'log_evaluation()' callback via 'callbacks' argument instead.\n",
      "  _log_warning(\"'verbose_eval' argument is deprecated and will be removed in a future release of LightGBM. \"\n"
     ]
    },
    {
     "name": "stdout",
     "output_type": "stream",
     "text": [
      "[LightGBM] [Info] Total Bins 76500\n",
      "[LightGBM] [Info] Number of data points in the train set: 2364296, number of used features: 300\n",
      "[LightGBM] [Info] Start training from score -0.024609\n",
      "Training until validation scores don't improve for 50 rounds\n",
      "[50]\tvalid_0's rmse: 0.901074\n",
      "[100]\tvalid_0's rmse: 0.900094\n",
      "[150]\tvalid_0's rmse: 0.899599\n",
      "[200]\tvalid_0's rmse: 0.899371\n",
      "[250]\tvalid_0's rmse: 0.899297\n",
      "[300]\tvalid_0's rmse: 0.899261\n"
     ]
    },
    {
     "name": "stderr",
     "output_type": "stream",
     "text": [
      "feature_fraction_stage2, val_score: 0.899044:  33% 2/6 [05:01<10:17, 154.49s/it]\u001b[32m[I 2022-01-31 17:37:12,265]\u001b[0m Trial 38 finished with value: 0.899244969225952 and parameters: {'feature_fraction': 0.6799999999999999}. Best is trial 37 with value: 0.8992384468960147.\u001b[0m\n",
      "feature_fraction_stage2, val_score: 0.899044:  33% 2/6 [05:01<10:17, 154.49s/it]"
     ]
    },
    {
     "name": "stdout",
     "output_type": "stream",
     "text": [
      "Early stopping, best iteration is:\n",
      "[283]\tvalid_0's rmse: 0.899245\n"
     ]
    },
    {
     "name": "stderr",
     "output_type": "stream",
     "text": [
      "/opt/conda/lib/python3.7/site-packages/lightgbm/engine.py:181: UserWarning: 'early_stopping_rounds' argument is deprecated and will be removed in a future release of LightGBM. Pass 'early_stopping()' callback via 'callbacks' argument instead.\n",
      "  _log_warning(\"'early_stopping_rounds' argument is deprecated and will be removed in a future release of LightGBM. \"\n",
      "/opt/conda/lib/python3.7/site-packages/lightgbm/engine.py:239: UserWarning: 'verbose_eval' argument is deprecated and will be removed in a future release of LightGBM. Pass 'log_evaluation()' callback via 'callbacks' argument instead.\n",
      "  _log_warning(\"'verbose_eval' argument is deprecated and will be removed in a future release of LightGBM. \"\n"
     ]
    },
    {
     "name": "stdout",
     "output_type": "stream",
     "text": [
      "[LightGBM] [Info] Total Bins 76500\n",
      "[LightGBM] [Info] Number of data points in the train set: 2364296, number of used features: 300\n",
      "[LightGBM] [Info] Start training from score -0.024609\n",
      "Training until validation scores don't improve for 50 rounds\n",
      "[50]\tvalid_0's rmse: 0.901147\n",
      "[100]\tvalid_0's rmse: 0.900116\n",
      "[150]\tvalid_0's rmse: 0.899574\n",
      "[200]\tvalid_0's rmse: 0.89931\n",
      "[250]\tvalid_0's rmse: 0.899162\n",
      "[300]\tvalid_0's rmse: 0.899102\n",
      "[350]\tvalid_0's rmse: 0.89901\n",
      "[400]\tvalid_0's rmse: 0.899035\n"
     ]
    },
    {
     "name": "stderr",
     "output_type": "stream",
     "text": [
      "feature_fraction_stage2, val_score: 0.898995:  50% 3/6 [07:55<08:09, 163.09s/it]\u001b[32m[I 2022-01-31 17:40:05,591]\u001b[0m Trial 39 finished with value: 0.8989952287432778 and parameters: {'feature_fraction': 0.584}. Best is trial 39 with value: 0.8989952287432778.\u001b[0m\n",
      "feature_fraction_stage2, val_score: 0.898995:  50% 3/6 [07:55<08:09, 163.09s/it]"
     ]
    },
    {
     "name": "stdout",
     "output_type": "stream",
     "text": [
      "Early stopping, best iteration is:\n",
      "[362]\tvalid_0's rmse: 0.898995\n"
     ]
    },
    {
     "name": "stderr",
     "output_type": "stream",
     "text": [
      "/opt/conda/lib/python3.7/site-packages/lightgbm/engine.py:181: UserWarning: 'early_stopping_rounds' argument is deprecated and will be removed in a future release of LightGBM. Pass 'early_stopping()' callback via 'callbacks' argument instead.\n",
      "  _log_warning(\"'early_stopping_rounds' argument is deprecated and will be removed in a future release of LightGBM. \"\n",
      "/opt/conda/lib/python3.7/site-packages/lightgbm/engine.py:239: UserWarning: 'verbose_eval' argument is deprecated and will be removed in a future release of LightGBM. Pass 'log_evaluation()' callback via 'callbacks' argument instead.\n",
      "  _log_warning(\"'verbose_eval' argument is deprecated and will be removed in a future release of LightGBM. \"\n"
     ]
    },
    {
     "name": "stdout",
     "output_type": "stream",
     "text": [
      "[LightGBM] [Info] Total Bins 76500\n",
      "[LightGBM] [Info] Number of data points in the train set: 2364296, number of used features: 300\n",
      "[LightGBM] [Info] Start training from score -0.024609\n",
      "Training until validation scores don't improve for 50 rounds\n",
      "[50]\tvalid_0's rmse: 0.901058\n",
      "[100]\tvalid_0's rmse: 0.900073\n",
      "[150]\tvalid_0's rmse: 0.899575\n",
      "[200]\tvalid_0's rmse: 0.899312\n",
      "[250]\tvalid_0's rmse: 0.899149\n",
      "[300]\tvalid_0's rmse: 0.899057\n",
      "[350]\tvalid_0's rmse: 0.898991\n",
      "[400]\tvalid_0's rmse: 0.898991\n"
     ]
    },
    {
     "name": "stderr",
     "output_type": "stream",
     "text": [
      "feature_fraction_stage2, val_score: 0.898972:  67% 4/6 [10:46<05:32, 166.39s/it]\u001b[32m[I 2022-01-31 17:42:57,049]\u001b[0m Trial 40 finished with value: 0.8989724437045039 and parameters: {'feature_fraction': 0.552}. Best is trial 40 with value: 0.8989724437045039.\u001b[0m\n",
      "feature_fraction_stage2, val_score: 0.898972:  67% 4/6 [10:46<05:32, 166.39s/it]"
     ]
    },
    {
     "name": "stdout",
     "output_type": "stream",
     "text": [
      "Early stopping, best iteration is:\n",
      "[377]\tvalid_0's rmse: 0.898972\n"
     ]
    },
    {
     "name": "stderr",
     "output_type": "stream",
     "text": [
      "/opt/conda/lib/python3.7/site-packages/lightgbm/engine.py:181: UserWarning: 'early_stopping_rounds' argument is deprecated and will be removed in a future release of LightGBM. Pass 'early_stopping()' callback via 'callbacks' argument instead.\n",
      "  _log_warning(\"'early_stopping_rounds' argument is deprecated and will be removed in a future release of LightGBM. \"\n",
      "/opt/conda/lib/python3.7/site-packages/lightgbm/engine.py:239: UserWarning: 'verbose_eval' argument is deprecated and will be removed in a future release of LightGBM. Pass 'log_evaluation()' callback via 'callbacks' argument instead.\n",
      "  _log_warning(\"'verbose_eval' argument is deprecated and will be removed in a future release of LightGBM. \"\n"
     ]
    },
    {
     "name": "stdout",
     "output_type": "stream",
     "text": [
      "[LightGBM] [Info] Total Bins 76500\n",
      "[LightGBM] [Info] Number of data points in the train set: 2364296, number of used features: 300\n",
      "[LightGBM] [Info] Start training from score -0.024609\n",
      "Training until validation scores don't improve for 50 rounds\n",
      "[50]\tvalid_0's rmse: 0.901017\n",
      "[100]\tvalid_0's rmse: 0.899993\n",
      "[150]\tvalid_0's rmse: 0.899577\n",
      "[200]\tvalid_0's rmse: 0.899264\n",
      "[250]\tvalid_0's rmse: 0.899159\n",
      "[300]\tvalid_0's rmse: 0.899026\n",
      "[350]\tvalid_0's rmse: 0.89898\n"
     ]
    },
    {
     "name": "stderr",
     "output_type": "stream",
     "text": [
      "feature_fraction_stage2, val_score: 0.898948:  83% 5/6 [13:43<02:50, 170.32s/it]\u001b[32m[I 2022-01-31 17:45:54,330]\u001b[0m Trial 41 finished with value: 0.8989478841009815 and parameters: {'feature_fraction': 0.616}. Best is trial 41 with value: 0.8989478841009815.\u001b[0m\n",
      "feature_fraction_stage2, val_score: 0.898948:  83% 5/6 [13:43<02:50, 170.32s/it]"
     ]
    },
    {
     "name": "stdout",
     "output_type": "stream",
     "text": [
      "Early stopping, best iteration is:\n",
      "[339]\tvalid_0's rmse: 0.898948\n"
     ]
    },
    {
     "name": "stderr",
     "output_type": "stream",
     "text": [
      "/opt/conda/lib/python3.7/site-packages/lightgbm/engine.py:181: UserWarning: 'early_stopping_rounds' argument is deprecated and will be removed in a future release of LightGBM. Pass 'early_stopping()' callback via 'callbacks' argument instead.\n",
      "  _log_warning(\"'early_stopping_rounds' argument is deprecated and will be removed in a future release of LightGBM. \"\n",
      "/opt/conda/lib/python3.7/site-packages/lightgbm/engine.py:239: UserWarning: 'verbose_eval' argument is deprecated and will be removed in a future release of LightGBM. Pass 'log_evaluation()' callback via 'callbacks' argument instead.\n",
      "  _log_warning(\"'verbose_eval' argument is deprecated and will be removed in a future release of LightGBM. \"\n"
     ]
    },
    {
     "name": "stdout",
     "output_type": "stream",
     "text": [
      "[LightGBM] [Info] Total Bins 76500\n",
      "[LightGBM] [Info] Number of data points in the train set: 2364296, number of used features: 300\n",
      "[LightGBM] [Info] Start training from score -0.024609\n",
      "Training until validation scores don't improve for 50 rounds\n",
      "[50]\tvalid_0's rmse: 0.901013\n",
      "[100]\tvalid_0's rmse: 0.900013\n",
      "[150]\tvalid_0's rmse: 0.899549\n",
      "[200]\tvalid_0's rmse: 0.899345\n",
      "[250]\tvalid_0's rmse: 0.899213\n",
      "[300]\tvalid_0's rmse: 0.899204\n",
      "[350]\tvalid_0's rmse: 0.899146\n",
      "[400]\tvalid_0's rmse: 0.899149\n"
     ]
    },
    {
     "name": "stderr",
     "output_type": "stream",
     "text": [
      "feature_fraction_stage2, val_score: 0.898948: 100% 6/6 [16:52<00:00, 176.48s/it]\u001b[32m[I 2022-01-31 17:49:02,780]\u001b[0m Trial 42 finished with value: 0.8991181359576043 and parameters: {'feature_fraction': 0.6479999999999999}. Best is trial 41 with value: 0.8989478841009815.\u001b[0m\n",
      "feature_fraction_stage2, val_score: 0.898948: 100% 6/6 [16:52<00:00, 168.73s/it]\n"
     ]
    },
    {
     "name": "stdout",
     "output_type": "stream",
     "text": [
      "Early stopping, best iteration is:\n",
      "[358]\tvalid_0's rmse: 0.899118\n"
     ]
    },
    {
     "name": "stderr",
     "output_type": "stream",
     "text": [
      "regularization_factors, val_score: 0.898948:   0% 0/20 [00:00<?, ?it/s]/opt/conda/lib/python3.7/site-packages/lightgbm/engine.py:181: UserWarning: 'early_stopping_rounds' argument is deprecated and will be removed in a future release of LightGBM. Pass 'early_stopping()' callback via 'callbacks' argument instead.\n",
      "  _log_warning(\"'early_stopping_rounds' argument is deprecated and will be removed in a future release of LightGBM. \"\n",
      "/opt/conda/lib/python3.7/site-packages/lightgbm/engine.py:239: UserWarning: 'verbose_eval' argument is deprecated and will be removed in a future release of LightGBM. Pass 'log_evaluation()' callback via 'callbacks' argument instead.\n",
      "  _log_warning(\"'verbose_eval' argument is deprecated and will be removed in a future release of LightGBM. \"\n"
     ]
    },
    {
     "name": "stdout",
     "output_type": "stream",
     "text": [
      "[LightGBM] [Info] Total Bins 76500\n",
      "[LightGBM] [Info] Number of data points in the train set: 2364296, number of used features: 300\n",
      "[LightGBM] [Info] Start training from score -0.024609\n",
      "Training until validation scores don't improve for 50 rounds\n",
      "[50]\tvalid_0's rmse: 0.901055\n",
      "[100]\tvalid_0's rmse: 0.90015\n",
      "[150]\tvalid_0's rmse: 0.899616\n",
      "[200]\tvalid_0's rmse: 0.89929\n",
      "[250]\tvalid_0's rmse: 0.899157\n",
      "[300]\tvalid_0's rmse: 0.899113\n",
      "[350]\tvalid_0's rmse: 0.899098\n"
     ]
    },
    {
     "name": "stderr",
     "output_type": "stream",
     "text": [
      "regularization_factors, val_score: 0.898948:   5% 1/20 [02:55<55:29, 175.25s/it]\u001b[32m[I 2022-01-31 17:51:58,175]\u001b[0m Trial 43 finished with value: 0.8990850407382397 and parameters: {'lambda_l1': 1.9176929838211676, 'lambda_l2': 0.6515436174482687}. Best is trial 43 with value: 0.8990850407382397.\u001b[0m\n",
      "regularization_factors, val_score: 0.898948:   5% 1/20 [02:55<55:29, 175.25s/it]"
     ]
    },
    {
     "name": "stdout",
     "output_type": "stream",
     "text": [
      "Early stopping, best iteration is:\n",
      "[320]\tvalid_0's rmse: 0.899085\n"
     ]
    },
    {
     "name": "stderr",
     "output_type": "stream",
     "text": [
      "/opt/conda/lib/python3.7/site-packages/lightgbm/engine.py:181: UserWarning: 'early_stopping_rounds' argument is deprecated and will be removed in a future release of LightGBM. Pass 'early_stopping()' callback via 'callbacks' argument instead.\n",
      "  _log_warning(\"'early_stopping_rounds' argument is deprecated and will be removed in a future release of LightGBM. \"\n",
      "/opt/conda/lib/python3.7/site-packages/lightgbm/engine.py:239: UserWarning: 'verbose_eval' argument is deprecated and will be removed in a future release of LightGBM. Pass 'log_evaluation()' callback via 'callbacks' argument instead.\n",
      "  _log_warning(\"'verbose_eval' argument is deprecated and will be removed in a future release of LightGBM. \"\n"
     ]
    },
    {
     "name": "stdout",
     "output_type": "stream",
     "text": [
      "[LightGBM] [Info] Total Bins 76500\n",
      "[LightGBM] [Info] Number of data points in the train set: 2364296, number of used features: 300\n",
      "[LightGBM] [Info] Start training from score -0.024609\n",
      "Training until validation scores don't improve for 50 rounds\n",
      "[50]\tvalid_0's rmse: 0.901017\n",
      "[100]\tvalid_0's rmse: 0.899993\n",
      "[150]\tvalid_0's rmse: 0.899577\n",
      "[200]\tvalid_0's rmse: 0.899264\n",
      "[250]\tvalid_0's rmse: 0.899159\n",
      "[300]\tvalid_0's rmse: 0.899026\n",
      "[350]\tvalid_0's rmse: 0.89898\n"
     ]
    },
    {
     "name": "stderr",
     "output_type": "stream",
     "text": [
      "regularization_factors, val_score: 0.898948:  10% 2/20 [05:53<53:03, 176.87s/it]\u001b[32m[I 2022-01-31 17:54:56,174]\u001b[0m Trial 44 finished with value: 0.8989478811483054 and parameters: {'lambda_l1': 0.0005686176074839865, 'lambda_l2': 1.858171530412314e-05}. Best is trial 44 with value: 0.8989478811483054.\u001b[0m\n",
      "regularization_factors, val_score: 0.898948:  10% 2/20 [05:53<53:03, 176.87s/it]"
     ]
    },
    {
     "name": "stdout",
     "output_type": "stream",
     "text": [
      "Early stopping, best iteration is:\n",
      "[339]\tvalid_0's rmse: 0.898948\n"
     ]
    },
    {
     "name": "stderr",
     "output_type": "stream",
     "text": [
      "/opt/conda/lib/python3.7/site-packages/lightgbm/engine.py:181: UserWarning: 'early_stopping_rounds' argument is deprecated and will be removed in a future release of LightGBM. Pass 'early_stopping()' callback via 'callbacks' argument instead.\n",
      "  _log_warning(\"'early_stopping_rounds' argument is deprecated and will be removed in a future release of LightGBM. \"\n",
      "/opt/conda/lib/python3.7/site-packages/lightgbm/engine.py:239: UserWarning: 'verbose_eval' argument is deprecated and will be removed in a future release of LightGBM. Pass 'log_evaluation()' callback via 'callbacks' argument instead.\n",
      "  _log_warning(\"'verbose_eval' argument is deprecated and will be removed in a future release of LightGBM. \"\n"
     ]
    },
    {
     "name": "stdout",
     "output_type": "stream",
     "text": [
      "[LightGBM] [Info] Total Bins 76500\n",
      "[LightGBM] [Info] Number of data points in the train set: 2364296, number of used features: 300\n",
      "[LightGBM] [Info] Start training from score -0.024609\n",
      "Training until validation scores don't improve for 50 rounds\n",
      "[50]\tvalid_0's rmse: 0.901017\n",
      "[100]\tvalid_0's rmse: 0.90003\n",
      "[150]\tvalid_0's rmse: 0.899474\n",
      "[200]\tvalid_0's rmse: 0.899202\n",
      "[250]\tvalid_0's rmse: 0.899041\n",
      "[300]\tvalid_0's rmse: 0.898996\n",
      "[350]\tvalid_0's rmse: 0.898949\n",
      "[400]\tvalid_0's rmse: 0.898926\n"
     ]
    },
    {
     "name": "stderr",
     "output_type": "stream",
     "text": [
      "regularization_factors, val_score: 0.898881:  15% 3/20 [09:03<51:49, 182.88s/it]\u001b[32m[I 2022-01-31 17:58:06,218]\u001b[0m Trial 45 finished with value: 0.8988805694802232 and parameters: {'lambda_l1': 1.1596219500895029e-06, 'lambda_l2': 0.02668698581805547}. Best is trial 45 with value: 0.8988805694802232.\u001b[0m\n",
      "regularization_factors, val_score: 0.898881:  15% 3/20 [09:03<51:49, 182.88s/it]"
     ]
    },
    {
     "name": "stdout",
     "output_type": "stream",
     "text": [
      "Early stopping, best iteration is:\n",
      "[380]\tvalid_0's rmse: 0.898881\n"
     ]
    },
    {
     "name": "stderr",
     "output_type": "stream",
     "text": [
      "/opt/conda/lib/python3.7/site-packages/lightgbm/engine.py:181: UserWarning: 'early_stopping_rounds' argument is deprecated and will be removed in a future release of LightGBM. Pass 'early_stopping()' callback via 'callbacks' argument instead.\n",
      "  _log_warning(\"'early_stopping_rounds' argument is deprecated and will be removed in a future release of LightGBM. \"\n",
      "/opt/conda/lib/python3.7/site-packages/lightgbm/engine.py:239: UserWarning: 'verbose_eval' argument is deprecated and will be removed in a future release of LightGBM. Pass 'log_evaluation()' callback via 'callbacks' argument instead.\n",
      "  _log_warning(\"'verbose_eval' argument is deprecated and will be removed in a future release of LightGBM. \"\n"
     ]
    },
    {
     "name": "stdout",
     "output_type": "stream",
     "text": [
      "[LightGBM] [Info] Total Bins 76500\n",
      "[LightGBM] [Info] Number of data points in the train set: 2364296, number of used features: 300\n",
      "[LightGBM] [Info] Start training from score -0.024609\n",
      "Training until validation scores don't improve for 50 rounds\n",
      "[50]\tvalid_0's rmse: 0.901017\n",
      "[100]\tvalid_0's rmse: 0.899993\n",
      "[150]\tvalid_0's rmse: 0.899566\n",
      "[200]\tvalid_0's rmse: 0.899322\n",
      "[250]\tvalid_0's rmse: 0.899252\n",
      "[300]\tvalid_0's rmse: 0.899182\n",
      "[350]\tvalid_0's rmse: 0.899103\n",
      "[400]\tvalid_0's rmse: 0.899076\n"
     ]
    },
    {
     "name": "stderr",
     "output_type": "stream",
     "text": [
      "regularization_factors, val_score: 0.898881:  20% 4/20 [12:10<49:11, 184.45s/it]\u001b[32m[I 2022-01-31 18:01:13,078]\u001b[0m Trial 46 finished with value: 0.8990504133528173 and parameters: {'lambda_l1': 2.4775958129944063e-05, 'lambda_l2': 0.0058019231428946124}. Best is trial 45 with value: 0.8988805694802232.\u001b[0m\n",
      "regularization_factors, val_score: 0.898881:  20% 4/20 [12:10<49:11, 184.45s/it]"
     ]
    },
    {
     "name": "stdout",
     "output_type": "stream",
     "text": [
      "Early stopping, best iteration is:\n",
      "[363]\tvalid_0's rmse: 0.89905\n"
     ]
    },
    {
     "name": "stderr",
     "output_type": "stream",
     "text": [
      "/opt/conda/lib/python3.7/site-packages/lightgbm/engine.py:181: UserWarning: 'early_stopping_rounds' argument is deprecated and will be removed in a future release of LightGBM. Pass 'early_stopping()' callback via 'callbacks' argument instead.\n",
      "  _log_warning(\"'early_stopping_rounds' argument is deprecated and will be removed in a future release of LightGBM. \"\n",
      "/opt/conda/lib/python3.7/site-packages/lightgbm/engine.py:239: UserWarning: 'verbose_eval' argument is deprecated and will be removed in a future release of LightGBM. Pass 'log_evaluation()' callback via 'callbacks' argument instead.\n",
      "  _log_warning(\"'verbose_eval' argument is deprecated and will be removed in a future release of LightGBM. \"\n"
     ]
    },
    {
     "name": "stdout",
     "output_type": "stream",
     "text": [
      "[LightGBM] [Info] Total Bins 76500\n",
      "[LightGBM] [Info] Number of data points in the train set: 2364296, number of used features: 300\n",
      "[LightGBM] [Info] Start training from score -0.024609\n",
      "Training until validation scores don't improve for 50 rounds\n",
      "[50]\tvalid_0's rmse: 0.901017\n",
      "[100]\tvalid_0's rmse: 0.899993\n",
      "[150]\tvalid_0's rmse: 0.899577\n",
      "[200]\tvalid_0's rmse: 0.899264\n",
      "[250]\tvalid_0's rmse: 0.899159\n",
      "[300]\tvalid_0's rmse: 0.899026\n",
      "[350]\tvalid_0's rmse: 0.89898\n"
     ]
    },
    {
     "name": "stderr",
     "output_type": "stream",
     "text": [
      "regularization_factors, val_score: 0.898881:  25% 5/20 [15:08<45:31, 182.12s/it]\u001b[32m[I 2022-01-31 18:04:11,066]\u001b[0m Trial 47 finished with value: 0.8989478832513516 and parameters: {'lambda_l1': 0.00017567346066037367, 'lambda_l2': 5.4299426485759636e-08}. Best is trial 45 with value: 0.8988805694802232.\u001b[0m\n",
      "regularization_factors, val_score: 0.898881:  25% 5/20 [15:08<45:31, 182.12s/it]"
     ]
    },
    {
     "name": "stdout",
     "output_type": "stream",
     "text": [
      "Early stopping, best iteration is:\n",
      "[339]\tvalid_0's rmse: 0.898948\n"
     ]
    },
    {
     "name": "stderr",
     "output_type": "stream",
     "text": [
      "/opt/conda/lib/python3.7/site-packages/lightgbm/engine.py:181: UserWarning: 'early_stopping_rounds' argument is deprecated and will be removed in a future release of LightGBM. Pass 'early_stopping()' callback via 'callbacks' argument instead.\n",
      "  _log_warning(\"'early_stopping_rounds' argument is deprecated and will be removed in a future release of LightGBM. \"\n",
      "/opt/conda/lib/python3.7/site-packages/lightgbm/engine.py:239: UserWarning: 'verbose_eval' argument is deprecated and will be removed in a future release of LightGBM. Pass 'log_evaluation()' callback via 'callbacks' argument instead.\n",
      "  _log_warning(\"'verbose_eval' argument is deprecated and will be removed in a future release of LightGBM. \"\n"
     ]
    },
    {
     "name": "stdout",
     "output_type": "stream",
     "text": [
      "[LightGBM] [Info] Total Bins 76500\n",
      "[LightGBM] [Info] Number of data points in the train set: 2364296, number of used features: 300\n",
      "[LightGBM] [Info] Start training from score -0.024609\n",
      "Training until validation scores don't improve for 50 rounds\n",
      "[50]\tvalid_0's rmse: 0.900963\n",
      "[100]\tvalid_0's rmse: 0.899941\n",
      "[150]\tvalid_0's rmse: 0.899401\n",
      "[200]\tvalid_0's rmse: 0.899147\n",
      "[250]\tvalid_0's rmse: 0.899112\n",
      "[300]\tvalid_0's rmse: 0.898996\n",
      "[350]\tvalid_0's rmse: 0.898967\n",
      "[400]\tvalid_0's rmse: 0.898923\n",
      "[450]\tvalid_0's rmse: 0.898905\n",
      "[500]\tvalid_0's rmse: 0.898934\n"
     ]
    },
    {
     "name": "stderr",
     "output_type": "stream",
     "text": [
      "regularization_factors, val_score: 0.898876:  30% 6/20 [18:41<44:58, 192.77s/it]\u001b[32m[I 2022-01-31 18:07:44,518]\u001b[0m Trial 48 finished with value: 0.898875777300394 and parameters: {'lambda_l1': 3.563444727371679, 'lambda_l2': 0.30026771722107604}. Best is trial 48 with value: 0.898875777300394.\u001b[0m\n",
      "regularization_factors, val_score: 0.898876:  30% 6/20 [18:41<44:58, 192.77s/it]"
     ]
    },
    {
     "name": "stdout",
     "output_type": "stream",
     "text": [
      "Early stopping, best iteration is:\n",
      "[455]\tvalid_0's rmse: 0.898876\n"
     ]
    },
    {
     "name": "stderr",
     "output_type": "stream",
     "text": [
      "/opt/conda/lib/python3.7/site-packages/lightgbm/engine.py:181: UserWarning: 'early_stopping_rounds' argument is deprecated and will be removed in a future release of LightGBM. Pass 'early_stopping()' callback via 'callbacks' argument instead.\n",
      "  _log_warning(\"'early_stopping_rounds' argument is deprecated and will be removed in a future release of LightGBM. \"\n",
      "/opt/conda/lib/python3.7/site-packages/lightgbm/engine.py:239: UserWarning: 'verbose_eval' argument is deprecated and will be removed in a future release of LightGBM. Pass 'log_evaluation()' callback via 'callbacks' argument instead.\n",
      "  _log_warning(\"'verbose_eval' argument is deprecated and will be removed in a future release of LightGBM. \"\n"
     ]
    },
    {
     "name": "stdout",
     "output_type": "stream",
     "text": [
      "[LightGBM] [Info] Total Bins 76500\n",
      "[LightGBM] [Info] Number of data points in the train set: 2364296, number of used features: 300\n",
      "[LightGBM] [Info] Start training from score -0.024609\n",
      "Training until validation scores don't improve for 50 rounds\n",
      "[50]\tvalid_0's rmse: 0.901017\n",
      "[100]\tvalid_0's rmse: 0.899993\n",
      "[150]\tvalid_0's rmse: 0.899577\n",
      "[200]\tvalid_0's rmse: 0.899264\n",
      "[250]\tvalid_0's rmse: 0.899159\n",
      "[300]\tvalid_0's rmse: 0.899026\n",
      "[350]\tvalid_0's rmse: 0.89898\n"
     ]
    },
    {
     "name": "stderr",
     "output_type": "stream",
     "text": [
      "regularization_factors, val_score: 0.898876:  35% 7/20 [21:38<40:37, 187.52s/it]\u001b[32m[I 2022-01-31 18:10:41,220]\u001b[0m Trial 49 finished with value: 0.8989478840079229 and parameters: {'lambda_l1': 1.912575651432658e-05, 'lambda_l2': 5.2870844534408837e-08}. Best is trial 48 with value: 0.898875777300394.\u001b[0m\n",
      "regularization_factors, val_score: 0.898876:  35% 7/20 [21:38<40:37, 187.52s/it]"
     ]
    },
    {
     "name": "stdout",
     "output_type": "stream",
     "text": [
      "Early stopping, best iteration is:\n",
      "[339]\tvalid_0's rmse: 0.898948\n"
     ]
    },
    {
     "name": "stderr",
     "output_type": "stream",
     "text": [
      "/opt/conda/lib/python3.7/site-packages/lightgbm/engine.py:181: UserWarning: 'early_stopping_rounds' argument is deprecated and will be removed in a future release of LightGBM. Pass 'early_stopping()' callback via 'callbacks' argument instead.\n",
      "  _log_warning(\"'early_stopping_rounds' argument is deprecated and will be removed in a future release of LightGBM. \"\n",
      "/opt/conda/lib/python3.7/site-packages/lightgbm/engine.py:239: UserWarning: 'verbose_eval' argument is deprecated and will be removed in a future release of LightGBM. Pass 'log_evaluation()' callback via 'callbacks' argument instead.\n",
      "  _log_warning(\"'verbose_eval' argument is deprecated and will be removed in a future release of LightGBM. \"\n"
     ]
    },
    {
     "name": "stdout",
     "output_type": "stream",
     "text": [
      "[LightGBM] [Info] Total Bins 76500\n",
      "[LightGBM] [Info] Number of data points in the train set: 2364296, number of used features: 300\n",
      "[LightGBM] [Info] Start training from score -0.024609\n",
      "Training until validation scores don't improve for 50 rounds\n",
      "[50]\tvalid_0's rmse: 0.901169\n",
      "[100]\tvalid_0's rmse: 0.900089\n",
      "[150]\tvalid_0's rmse: 0.899651\n",
      "[200]\tvalid_0's rmse: 0.89937\n",
      "[250]\tvalid_0's rmse: 0.899185\n",
      "[300]\tvalid_0's rmse: 0.899089\n",
      "[350]\tvalid_0's rmse: 0.899056\n",
      "[400]\tvalid_0's rmse: 0.899008\n",
      "[450]\tvalid_0's rmse: 0.89897\n",
      "[500]\tvalid_0's rmse: 0.898941\n"
     ]
    },
    {
     "name": "stderr",
     "output_type": "stream",
     "text": [
      "regularization_factors, val_score: 0.898876:  40% 8/20 [25:31<40:25, 202.09s/it]\u001b[32m[I 2022-01-31 18:14:34,500]\u001b[0m Trial 50 finished with value: 0.8989169011099624 and parameters: {'lambda_l1': 9.018885822272221, 'lambda_l2': 3.312040233497316}. Best is trial 48 with value: 0.898875777300394.\u001b[0m\n",
      "regularization_factors, val_score: 0.898876:  40% 8/20 [25:31<40:25, 202.09s/it]"
     ]
    },
    {
     "name": "stdout",
     "output_type": "stream",
     "text": [
      "Early stopping, best iteration is:\n",
      "[495]\tvalid_0's rmse: 0.898917\n"
     ]
    },
    {
     "name": "stderr",
     "output_type": "stream",
     "text": [
      "/opt/conda/lib/python3.7/site-packages/lightgbm/engine.py:181: UserWarning: 'early_stopping_rounds' argument is deprecated and will be removed in a future release of LightGBM. Pass 'early_stopping()' callback via 'callbacks' argument instead.\n",
      "  _log_warning(\"'early_stopping_rounds' argument is deprecated and will be removed in a future release of LightGBM. \"\n",
      "/opt/conda/lib/python3.7/site-packages/lightgbm/engine.py:239: UserWarning: 'verbose_eval' argument is deprecated and will be removed in a future release of LightGBM. Pass 'log_evaluation()' callback via 'callbacks' argument instead.\n",
      "  _log_warning(\"'verbose_eval' argument is deprecated and will be removed in a future release of LightGBM. \"\n"
     ]
    },
    {
     "name": "stdout",
     "output_type": "stream",
     "text": [
      "[LightGBM] [Info] Total Bins 76500\n",
      "[LightGBM] [Info] Number of data points in the train set: 2364296, number of used features: 300\n",
      "[LightGBM] [Info] Start training from score -0.024609\n",
      "Training until validation scores don't improve for 50 rounds\n",
      "[50]\tvalid_0's rmse: 0.901063\n",
      "[100]\tvalid_0's rmse: 0.900039\n",
      "[150]\tvalid_0's rmse: 0.899527\n",
      "[200]\tvalid_0's rmse: 0.899276\n",
      "[250]\tvalid_0's rmse: 0.899097\n",
      "[300]\tvalid_0's rmse: 0.898999\n",
      "[350]\tvalid_0's rmse: 0.89895\n"
     ]
    },
    {
     "name": "stderr",
     "output_type": "stream",
     "text": [
      "regularization_factors, val_score: 0.898876:  45% 9/20 [28:26<35:31, 193.75s/it]\u001b[32m[I 2022-01-31 18:17:29,910]\u001b[0m Trial 51 finished with value: 0.8989472749716575 and parameters: {'lambda_l1': 6.618488876037724, 'lambda_l2': 0.000482147253639762}. Best is trial 48 with value: 0.898875777300394.\u001b[0m\n",
      "regularization_factors, val_score: 0.898876:  45% 9/20 [28:27<35:31, 193.75s/it]"
     ]
    },
    {
     "name": "stdout",
     "output_type": "stream",
     "text": [
      "Early stopping, best iteration is:\n",
      "[314]\tvalid_0's rmse: 0.898947\n"
     ]
    },
    {
     "name": "stderr",
     "output_type": "stream",
     "text": [
      "/opt/conda/lib/python3.7/site-packages/lightgbm/engine.py:181: UserWarning: 'early_stopping_rounds' argument is deprecated and will be removed in a future release of LightGBM. Pass 'early_stopping()' callback via 'callbacks' argument instead.\n",
      "  _log_warning(\"'early_stopping_rounds' argument is deprecated and will be removed in a future release of LightGBM. \"\n",
      "/opt/conda/lib/python3.7/site-packages/lightgbm/engine.py:239: UserWarning: 'verbose_eval' argument is deprecated and will be removed in a future release of LightGBM. Pass 'log_evaluation()' callback via 'callbacks' argument instead.\n",
      "  _log_warning(\"'verbose_eval' argument is deprecated and will be removed in a future release of LightGBM. \"\n"
     ]
    },
    {
     "name": "stdout",
     "output_type": "stream",
     "text": [
      "[LightGBM] [Info] Total Bins 76500\n",
      "[LightGBM] [Info] Number of data points in the train set: 2364296, number of used features: 300\n",
      "[LightGBM] [Info] Start training from score -0.024609\n",
      "Training until validation scores don't improve for 50 rounds\n",
      "[50]\tvalid_0's rmse: 0.901026\n",
      "[100]\tvalid_0's rmse: 0.900044\n",
      "[150]\tvalid_0's rmse: 0.899596\n",
      "[200]\tvalid_0's rmse: 0.899343\n",
      "[250]\tvalid_0's rmse: 0.899217\n",
      "[300]\tvalid_0's rmse: 0.899151\n",
      "[350]\tvalid_0's rmse: 0.899149\n",
      "[400]\tvalid_0's rmse: 0.899113\n"
     ]
    },
    {
     "name": "stderr",
     "output_type": "stream",
     "text": [
      "regularization_factors, val_score: 0.898876:  50% 10/20 [31:40<32:16, 193.62s/it]\u001b[32m[I 2022-01-31 18:20:43,232]\u001b[0m Trial 52 finished with value: 0.8990737635203174 and parameters: {'lambda_l1': 2.1935029948726323, 'lambda_l2': 0.18654059942311083}. Best is trial 48 with value: 0.898875777300394.\u001b[0m\n",
      "regularization_factors, val_score: 0.898876:  50% 10/20 [31:40<32:16, 193.62s/it]"
     ]
    },
    {
     "name": "stdout",
     "output_type": "stream",
     "text": [
      "Early stopping, best iteration is:\n",
      "[381]\tvalid_0's rmse: 0.899074\n"
     ]
    },
    {
     "name": "stderr",
     "output_type": "stream",
     "text": [
      "/opt/conda/lib/python3.7/site-packages/lightgbm/engine.py:181: UserWarning: 'early_stopping_rounds' argument is deprecated and will be removed in a future release of LightGBM. Pass 'early_stopping()' callback via 'callbacks' argument instead.\n",
      "  _log_warning(\"'early_stopping_rounds' argument is deprecated and will be removed in a future release of LightGBM. \"\n",
      "/opt/conda/lib/python3.7/site-packages/lightgbm/engine.py:239: UserWarning: 'verbose_eval' argument is deprecated and will be removed in a future release of LightGBM. Pass 'log_evaluation()' callback via 'callbacks' argument instead.\n",
      "  _log_warning(\"'verbose_eval' argument is deprecated and will be removed in a future release of LightGBM. \"\n"
     ]
    },
    {
     "name": "stdout",
     "output_type": "stream",
     "text": [
      "[LightGBM] [Info] Total Bins 76500\n",
      "[LightGBM] [Info] Number of data points in the train set: 2364296, number of used features: 300\n",
      "[LightGBM] [Info] Start training from score -0.024609\n",
      "Training until validation scores don't improve for 50 rounds\n",
      "[50]\tvalid_0's rmse: 0.901017\n",
      "[100]\tvalid_0's rmse: 0.900014\n",
      "[150]\tvalid_0's rmse: 0.899604\n",
      "[200]\tvalid_0's rmse: 0.899365\n",
      "[250]\tvalid_0's rmse: 0.899204\n",
      "[300]\tvalid_0's rmse: 0.899161\n",
      "[350]\tvalid_0's rmse: 0.899128\n",
      "[400]\tvalid_0's rmse: 0.899136\n"
     ]
    },
    {
     "name": "stderr",
     "output_type": "stream",
     "text": [
      "regularization_factors, val_score: 0.898876:  55% 11/20 [34:44<28:36, 190.67s/it]\u001b[32m[I 2022-01-31 18:23:47,215]\u001b[0m Trial 53 finished with value: 0.8990938216850862 and parameters: {'lambda_l1': 0.012274600327910404, 'lambda_l2': 1.5702307935179762e-05}. Best is trial 48 with value: 0.898875777300394.\u001b[0m\n",
      "regularization_factors, val_score: 0.898876:  55% 11/20 [34:44<28:36, 190.67s/it]"
     ]
    },
    {
     "name": "stdout",
     "output_type": "stream",
     "text": [
      "Early stopping, best iteration is:\n",
      "[366]\tvalid_0's rmse: 0.899094\n"
     ]
    },
    {
     "name": "stderr",
     "output_type": "stream",
     "text": [
      "/opt/conda/lib/python3.7/site-packages/lightgbm/engine.py:181: UserWarning: 'early_stopping_rounds' argument is deprecated and will be removed in a future release of LightGBM. Pass 'early_stopping()' callback via 'callbacks' argument instead.\n",
      "  _log_warning(\"'early_stopping_rounds' argument is deprecated and will be removed in a future release of LightGBM. \"\n",
      "/opt/conda/lib/python3.7/site-packages/lightgbm/engine.py:239: UserWarning: 'verbose_eval' argument is deprecated and will be removed in a future release of LightGBM. Pass 'log_evaluation()' callback via 'callbacks' argument instead.\n",
      "  _log_warning(\"'verbose_eval' argument is deprecated and will be removed in a future release of LightGBM. \"\n"
     ]
    },
    {
     "name": "stdout",
     "output_type": "stream",
     "text": [
      "[LightGBM] [Info] Total Bins 76500\n",
      "[LightGBM] [Info] Number of data points in the train set: 2364296, number of used features: 300\n",
      "[LightGBM] [Info] Start training from score -0.024609\n",
      "Training until validation scores don't improve for 50 rounds\n",
      "[50]\tvalid_0's rmse: 0.901017\n",
      "[100]\tvalid_0's rmse: 0.900017\n",
      "[150]\tvalid_0's rmse: 0.899601\n",
      "[200]\tvalid_0's rmse: 0.899407\n",
      "[250]\tvalid_0's rmse: 0.899286\n",
      "[300]\tvalid_0's rmse: 0.899144\n",
      "[350]\tvalid_0's rmse: 0.899187\n"
     ]
    },
    {
     "name": "stderr",
     "output_type": "stream",
     "text": [
      "regularization_factors, val_score: 0.898876:  60% 12/20 [37:30<24:26, 183.35s/it]\u001b[32m[I 2022-01-31 18:26:33,831]\u001b[0m Trial 54 finished with value: 0.8991312660009126 and parameters: {'lambda_l1': 2.4535139721917776e-08, 'lambda_l2': 0.04420995922952899}. Best is trial 48 with value: 0.898875777300394.\u001b[0m\n",
      "regularization_factors, val_score: 0.898876:  60% 12/20 [37:30<24:26, 183.35s/it]"
     ]
    },
    {
     "name": "stdout",
     "output_type": "stream",
     "text": [
      "Early stopping, best iteration is:\n",
      "[301]\tvalid_0's rmse: 0.899131\n"
     ]
    },
    {
     "name": "stderr",
     "output_type": "stream",
     "text": [
      "/opt/conda/lib/python3.7/site-packages/lightgbm/engine.py:181: UserWarning: 'early_stopping_rounds' argument is deprecated and will be removed in a future release of LightGBM. Pass 'early_stopping()' callback via 'callbacks' argument instead.\n",
      "  _log_warning(\"'early_stopping_rounds' argument is deprecated and will be removed in a future release of LightGBM. \"\n",
      "/opt/conda/lib/python3.7/site-packages/lightgbm/engine.py:239: UserWarning: 'verbose_eval' argument is deprecated and will be removed in a future release of LightGBM. Pass 'log_evaluation()' callback via 'callbacks' argument instead.\n",
      "  _log_warning(\"'verbose_eval' argument is deprecated and will be removed in a future release of LightGBM. \"\n"
     ]
    },
    {
     "name": "stdout",
     "output_type": "stream",
     "text": [
      "[LightGBM] [Info] Total Bins 76500\n",
      "[LightGBM] [Info] Number of data points in the train set: 2364296, number of used features: 300\n",
      "[LightGBM] [Info] Start training from score -0.024609\n",
      "Training until validation scores don't improve for 50 rounds\n",
      "[50]\tvalid_0's rmse: 0.901017\n",
      "[100]\tvalid_0's rmse: 0.899993\n",
      "[150]\tvalid_0's rmse: 0.899566\n",
      "[200]\tvalid_0's rmse: 0.899322\n",
      "[250]\tvalid_0's rmse: 0.899252\n",
      "[300]\tvalid_0's rmse: 0.899179\n",
      "[350]\tvalid_0's rmse: 0.899159\n",
      "[400]\tvalid_0's rmse: 0.899112\n"
     ]
    },
    {
     "name": "stderr",
     "output_type": "stream",
     "text": [
      "regularization_factors, val_score: 0.898876:  65% 13/20 [40:43<21:42, 186.05s/it]\u001b[32m[I 2022-01-31 18:29:46,097]\u001b[0m Trial 55 finished with value: 0.8990952210076939 and parameters: {'lambda_l1': 8.930178782589549e-08, 'lambda_l2': 0.0038005538842371864}. Best is trial 48 with value: 0.898875777300394.\u001b[0m\n",
      "regularization_factors, val_score: 0.898876:  65% 13/20 [40:43<21:42, 186.05s/it]"
     ]
    },
    {
     "name": "stdout",
     "output_type": "stream",
     "text": [
      "Early stopping, best iteration is:\n",
      "[382]\tvalid_0's rmse: 0.899095\n"
     ]
    },
    {
     "name": "stderr",
     "output_type": "stream",
     "text": [
      "/opt/conda/lib/python3.7/site-packages/lightgbm/engine.py:181: UserWarning: 'early_stopping_rounds' argument is deprecated and will be removed in a future release of LightGBM. Pass 'early_stopping()' callback via 'callbacks' argument instead.\n",
      "  _log_warning(\"'early_stopping_rounds' argument is deprecated and will be removed in a future release of LightGBM. \"\n",
      "/opt/conda/lib/python3.7/site-packages/lightgbm/engine.py:239: UserWarning: 'verbose_eval' argument is deprecated and will be removed in a future release of LightGBM. Pass 'log_evaluation()' callback via 'callbacks' argument instead.\n",
      "  _log_warning(\"'verbose_eval' argument is deprecated and will be removed in a future release of LightGBM. \"\n"
     ]
    },
    {
     "name": "stdout",
     "output_type": "stream",
     "text": [
      "[LightGBM] [Info] Total Bins 76500\n",
      "[LightGBM] [Info] Number of data points in the train set: 2364296, number of used features: 300\n",
      "[LightGBM] [Info] Start training from score -0.024609\n",
      "Training until validation scores don't improve for 50 rounds\n",
      "[50]\tvalid_0's rmse: 0.90104\n",
      "[100]\tvalid_0's rmse: 0.900086\n",
      "[150]\tvalid_0's rmse: 0.899556\n",
      "[200]\tvalid_0's rmse: 0.899348\n",
      "[250]\tvalid_0's rmse: 0.89914\n",
      "[300]\tvalid_0's rmse: 0.899096\n",
      "[350]\tvalid_0's rmse: 0.899025\n"
     ]
    },
    {
     "name": "stderr",
     "output_type": "stream",
     "text": [
      "regularization_factors, val_score: 0.898876:  70% 14/20 [43:42<18:24, 184.10s/it]\u001b[32m[I 2022-01-31 18:32:45,702]\u001b[0m Trial 56 finished with value: 0.8990037659710913 and parameters: {'lambda_l1': 1.3893905617090876e-06, 'lambda_l2': 3.8085973649045837}. Best is trial 48 with value: 0.898875777300394.\u001b[0m\n",
      "regularization_factors, val_score: 0.898876:  70% 14/20 [43:42<18:24, 184.10s/it]"
     ]
    },
    {
     "name": "stdout",
     "output_type": "stream",
     "text": [
      "Early stopping, best iteration is:\n",
      "[340]\tvalid_0's rmse: 0.899004\n"
     ]
    },
    {
     "name": "stderr",
     "output_type": "stream",
     "text": [
      "/opt/conda/lib/python3.7/site-packages/lightgbm/engine.py:181: UserWarning: 'early_stopping_rounds' argument is deprecated and will be removed in a future release of LightGBM. Pass 'early_stopping()' callback via 'callbacks' argument instead.\n",
      "  _log_warning(\"'early_stopping_rounds' argument is deprecated and will be removed in a future release of LightGBM. \"\n",
      "/opt/conda/lib/python3.7/site-packages/lightgbm/engine.py:239: UserWarning: 'verbose_eval' argument is deprecated and will be removed in a future release of LightGBM. Pass 'log_evaluation()' callback via 'callbacks' argument instead.\n",
      "  _log_warning(\"'verbose_eval' argument is deprecated and will be removed in a future release of LightGBM. \"\n"
     ]
    },
    {
     "name": "stdout",
     "output_type": "stream",
     "text": [
      "[LightGBM] [Info] Total Bins 76500\n",
      "[LightGBM] [Info] Number of data points in the train set: 2364296, number of used features: 300\n",
      "[LightGBM] [Info] Start training from score -0.024609\n",
      "Training until validation scores don't improve for 50 rounds\n",
      "[50]\tvalid_0's rmse: 0.901038\n",
      "[100]\tvalid_0's rmse: 0.900053\n",
      "[150]\tvalid_0's rmse: 0.899562\n",
      "[200]\tvalid_0's rmse: 0.899336\n",
      "[250]\tvalid_0's rmse: 0.899177\n",
      "[300]\tvalid_0's rmse: 0.899056\n",
      "[350]\tvalid_0's rmse: 0.898955\n",
      "[400]\tvalid_0's rmse: 0.898966\n",
      "[450]\tvalid_0's rmse: 0.898964\n"
     ]
    },
    {
     "name": "stderr",
     "output_type": "stream",
     "text": [
      "regularization_factors, val_score: 0.898876:  75% 15/20 [47:00<15:41, 188.24s/it]\u001b[32m[I 2022-01-31 18:36:03,517]\u001b[0m Trial 57 finished with value: 0.8989333369396532 and parameters: {'lambda_l1': 0.029168111281070455, 'lambda_l2': 0.028702305451808404}. Best is trial 48 with value: 0.898875777300394.\u001b[0m\n",
      "regularization_factors, val_score: 0.898876:  75% 15/20 [47:00<15:41, 188.24s/it]"
     ]
    },
    {
     "name": "stdout",
     "output_type": "stream",
     "text": [
      "Early stopping, best iteration is:\n",
      "[413]\tvalid_0's rmse: 0.898933\n"
     ]
    },
    {
     "name": "stderr",
     "output_type": "stream",
     "text": [
      "/opt/conda/lib/python3.7/site-packages/lightgbm/engine.py:181: UserWarning: 'early_stopping_rounds' argument is deprecated and will be removed in a future release of LightGBM. Pass 'early_stopping()' callback via 'callbacks' argument instead.\n",
      "  _log_warning(\"'early_stopping_rounds' argument is deprecated and will be removed in a future release of LightGBM. \"\n",
      "/opt/conda/lib/python3.7/site-packages/lightgbm/engine.py:239: UserWarning: 'verbose_eval' argument is deprecated and will be removed in a future release of LightGBM. Pass 'log_evaluation()' callback via 'callbacks' argument instead.\n",
      "  _log_warning(\"'verbose_eval' argument is deprecated and will be removed in a future release of LightGBM. \"\n"
     ]
    },
    {
     "name": "stdout",
     "output_type": "stream",
     "text": [
      "[LightGBM] [Info] Total Bins 76500\n",
      "[LightGBM] [Info] Number of data points in the train set: 2364296, number of used features: 300\n",
      "[LightGBM] [Info] Start training from score -0.024609\n",
      "Training until validation scores don't improve for 50 rounds\n",
      "[50]\tvalid_0's rmse: 0.901017\n",
      "[100]\tvalid_0's rmse: 0.899993\n",
      "[150]\tvalid_0's rmse: 0.899577\n",
      "[200]\tvalid_0's rmse: 0.899264\n",
      "[250]\tvalid_0's rmse: 0.899159\n",
      "[300]\tvalid_0's rmse: 0.899026\n",
      "[350]\tvalid_0's rmse: 0.89898\n"
     ]
    },
    {
     "name": "stderr",
     "output_type": "stream",
     "text": [
      "regularization_factors, val_score: 0.898876:  80% 16/20 [50:00<12:22, 185.71s/it]\u001b[32m[I 2022-01-31 18:39:03,359]\u001b[0m Trial 58 finished with value: 0.8989478813449581 and parameters: {'lambda_l1': 1.1055043028548909e-06, 'lambda_l2': 0.00025345864792299035}. Best is trial 48 with value: 0.898875777300394.\u001b[0m\n",
      "regularization_factors, val_score: 0.898876:  80% 16/20 [50:00<12:22, 185.71s/it]"
     ]
    },
    {
     "name": "stdout",
     "output_type": "stream",
     "text": [
      "Early stopping, best iteration is:\n",
      "[339]\tvalid_0's rmse: 0.898948\n"
     ]
    },
    {
     "name": "stderr",
     "output_type": "stream",
     "text": [
      "/opt/conda/lib/python3.7/site-packages/lightgbm/engine.py:181: UserWarning: 'early_stopping_rounds' argument is deprecated and will be removed in a future release of LightGBM. Pass 'early_stopping()' callback via 'callbacks' argument instead.\n",
      "  _log_warning(\"'early_stopping_rounds' argument is deprecated and will be removed in a future release of LightGBM. \"\n",
      "/opt/conda/lib/python3.7/site-packages/lightgbm/engine.py:239: UserWarning: 'verbose_eval' argument is deprecated and will be removed in a future release of LightGBM. Pass 'log_evaluation()' callback via 'callbacks' argument instead.\n",
      "  _log_warning(\"'verbose_eval' argument is deprecated and will be removed in a future release of LightGBM. \"\n"
     ]
    },
    {
     "name": "stdout",
     "output_type": "stream",
     "text": [
      "[LightGBM] [Info] Total Bins 76500\n",
      "[LightGBM] [Info] Number of data points in the train set: 2364296, number of used features: 300\n",
      "[LightGBM] [Info] Start training from score -0.024609\n",
      "Training until validation scores don't improve for 50 rounds\n",
      "[50]\tvalid_0's rmse: 0.901002\n",
      "[100]\tvalid_0's rmse: 0.900008\n",
      "[150]\tvalid_0's rmse: 0.899473\n",
      "[200]\tvalid_0's rmse: 0.899184\n",
      "[250]\tvalid_0's rmse: 0.899083\n",
      "[300]\tvalid_0's rmse: 0.898978\n",
      "[350]\tvalid_0's rmse: 0.898958\n"
     ]
    },
    {
     "name": "stderr",
     "output_type": "stream",
     "text": [
      "regularization_factors, val_score: 0.898876:  85% 17/20 [53:01<09:12, 184.27s/it]\u001b[32m[I 2022-01-31 18:42:04,270]\u001b[0m Trial 59 finished with value: 0.8989556584931925 and parameters: {'lambda_l1': 0.0606870000155403, 'lambda_l2': 0.7619208393568762}. Best is trial 48 with value: 0.898875777300394.\u001b[0m\n",
      "regularization_factors, val_score: 0.898876:  85% 17/20 [53:01<09:12, 184.27s/it]"
     ]
    },
    {
     "name": "stdout",
     "output_type": "stream",
     "text": [
      "Early stopping, best iteration is:\n",
      "[344]\tvalid_0's rmse: 0.898956\n"
     ]
    },
    {
     "name": "stderr",
     "output_type": "stream",
     "text": [
      "/opt/conda/lib/python3.7/site-packages/lightgbm/engine.py:181: UserWarning: 'early_stopping_rounds' argument is deprecated and will be removed in a future release of LightGBM. Pass 'early_stopping()' callback via 'callbacks' argument instead.\n",
      "  _log_warning(\"'early_stopping_rounds' argument is deprecated and will be removed in a future release of LightGBM. \"\n",
      "/opt/conda/lib/python3.7/site-packages/lightgbm/engine.py:239: UserWarning: 'verbose_eval' argument is deprecated and will be removed in a future release of LightGBM. Pass 'log_evaluation()' callback via 'callbacks' argument instead.\n",
      "  _log_warning(\"'verbose_eval' argument is deprecated and will be removed in a future release of LightGBM. \"\n"
     ]
    },
    {
     "name": "stdout",
     "output_type": "stream",
     "text": [
      "[LightGBM] [Info] Total Bins 76500\n",
      "[LightGBM] [Info] Number of data points in the train set: 2364296, number of used features: 300\n",
      "[LightGBM] [Info] Start training from score -0.024609\n",
      "Training until validation scores don't improve for 50 rounds\n",
      "[50]\tvalid_0's rmse: 0.901017\n",
      "[100]\tvalid_0's rmse: 0.899993\n",
      "[150]\tvalid_0's rmse: 0.899566\n",
      "[200]\tvalid_0's rmse: 0.899322\n",
      "[250]\tvalid_0's rmse: 0.899252\n",
      "[300]\tvalid_0's rmse: 0.899179\n",
      "[350]\tvalid_0's rmse: 0.899159\n",
      "[400]\tvalid_0's rmse: 0.899113\n"
     ]
    },
    {
     "name": "stderr",
     "output_type": "stream",
     "text": [
      "regularization_factors, val_score: 0.898876:  90% 18/20 [56:14<06:13, 186.88s/it]\u001b[32m[I 2022-01-31 18:45:17,223]\u001b[0m Trial 60 finished with value: 0.8990970996818056 and parameters: {'lambda_l1': 0.0021206936413548363, 'lambda_l2': 0.0009550275336700371}. Best is trial 48 with value: 0.898875777300394.\u001b[0m\n",
      "regularization_factors, val_score: 0.898876:  90% 18/20 [56:14<06:13, 186.88s/it]"
     ]
    },
    {
     "name": "stdout",
     "output_type": "stream",
     "text": [
      "Early stopping, best iteration is:\n",
      "[382]\tvalid_0's rmse: 0.899097\n"
     ]
    },
    {
     "name": "stderr",
     "output_type": "stream",
     "text": [
      "/opt/conda/lib/python3.7/site-packages/lightgbm/engine.py:181: UserWarning: 'early_stopping_rounds' argument is deprecated and will be removed in a future release of LightGBM. Pass 'early_stopping()' callback via 'callbacks' argument instead.\n",
      "  _log_warning(\"'early_stopping_rounds' argument is deprecated and will be removed in a future release of LightGBM. \"\n",
      "/opt/conda/lib/python3.7/site-packages/lightgbm/engine.py:239: UserWarning: 'verbose_eval' argument is deprecated and will be removed in a future release of LightGBM. Pass 'log_evaluation()' callback via 'callbacks' argument instead.\n",
      "  _log_warning(\"'verbose_eval' argument is deprecated and will be removed in a future release of LightGBM. \"\n"
     ]
    },
    {
     "name": "stdout",
     "output_type": "stream",
     "text": [
      "[LightGBM] [Info] Total Bins 76500\n",
      "[LightGBM] [Info] Number of data points in the train set: 2364296, number of used features: 300\n",
      "[LightGBM] [Info] Start training from score -0.024609\n",
      "Training until validation scores don't improve for 50 rounds\n",
      "[50]\tvalid_0's rmse: 0.901012\n",
      "[100]\tvalid_0's rmse: 0.899969\n",
      "[150]\tvalid_0's rmse: 0.899484\n",
      "[200]\tvalid_0's rmse: 0.899324\n",
      "[250]\tvalid_0's rmse: 0.899174\n",
      "[300]\tvalid_0's rmse: 0.899075\n",
      "[350]\tvalid_0's rmse: 0.899084\n"
     ]
    },
    {
     "name": "stderr",
     "output_type": "stream",
     "text": [
      "regularization_factors, val_score: 0.898876:  95% 19/20 [59:15<03:05, 185.10s/it]\u001b[32m[I 2022-01-31 18:48:18,186]\u001b[0m Trial 61 finished with value: 0.8990349099371499 and parameters: {'lambda_l1': 0.2096492317521934, 'lambda_l2': 2.0177811695642015e-05}. Best is trial 48 with value: 0.898875777300394.\u001b[0m\n",
      "regularization_factors, val_score: 0.898876:  95% 19/20 [59:15<03:05, 185.10s/it]"
     ]
    },
    {
     "name": "stdout",
     "output_type": "stream",
     "text": [
      "Early stopping, best iteration is:\n",
      "[337]\tvalid_0's rmse: 0.899035\n"
     ]
    },
    {
     "name": "stderr",
     "output_type": "stream",
     "text": [
      "/opt/conda/lib/python3.7/site-packages/lightgbm/engine.py:181: UserWarning: 'early_stopping_rounds' argument is deprecated and will be removed in a future release of LightGBM. Pass 'early_stopping()' callback via 'callbacks' argument instead.\n",
      "  _log_warning(\"'early_stopping_rounds' argument is deprecated and will be removed in a future release of LightGBM. \"\n",
      "/opt/conda/lib/python3.7/site-packages/lightgbm/engine.py:239: UserWarning: 'verbose_eval' argument is deprecated and will be removed in a future release of LightGBM. Pass 'log_evaluation()' callback via 'callbacks' argument instead.\n",
      "  _log_warning(\"'verbose_eval' argument is deprecated and will be removed in a future release of LightGBM. \"\n"
     ]
    },
    {
     "name": "stdout",
     "output_type": "stream",
     "text": [
      "[LightGBM] [Info] Total Bins 76500\n",
      "[LightGBM] [Info] Number of data points in the train set: 2364296, number of used features: 300\n",
      "[LightGBM] [Info] Start training from score -0.024609\n",
      "Training until validation scores don't improve for 50 rounds\n",
      "[50]\tvalid_0's rmse: 0.901017\n",
      "[100]\tvalid_0's rmse: 0.90003\n",
      "[150]\tvalid_0's rmse: 0.899474\n",
      "[200]\tvalid_0's rmse: 0.899211\n",
      "[250]\tvalid_0's rmse: 0.899028\n",
      "[300]\tvalid_0's rmse: 0.899\n"
     ]
    },
    {
     "name": "stderr",
     "output_type": "stream",
     "text": [
      "regularization_factors, val_score: 0.898876: 100% 20/20 [1:02:02<00:00, 179.83s/it]\u001b[32m[I 2022-01-31 18:51:05,723]\u001b[0m Trial 62 finished with value: 0.8989956762495065 and parameters: {'lambda_l1': 4.854957673978168e-07, 'lambda_l2': 0.03934825749775968}. Best is trial 48 with value: 0.898875777300394.\u001b[0m\n",
      "regularization_factors, val_score: 0.898876: 100% 20/20 [1:02:02<00:00, 186.14s/it]\n"
     ]
    },
    {
     "name": "stdout",
     "output_type": "stream",
     "text": [
      "Early stopping, best iteration is:\n",
      "[299]\tvalid_0's rmse: 0.898996\n"
     ]
    },
    {
     "name": "stderr",
     "output_type": "stream",
     "text": [
      "min_data_in_leaf, val_score: 0.898876:   0% 0/5 [00:00<?, ?it/s]/opt/conda/lib/python3.7/site-packages/lightgbm/engine.py:181: UserWarning: 'early_stopping_rounds' argument is deprecated and will be removed in a future release of LightGBM. Pass 'early_stopping()' callback via 'callbacks' argument instead.\n",
      "  _log_warning(\"'early_stopping_rounds' argument is deprecated and will be removed in a future release of LightGBM. \"\n",
      "/opt/conda/lib/python3.7/site-packages/lightgbm/engine.py:239: UserWarning: 'verbose_eval' argument is deprecated and will be removed in a future release of LightGBM. Pass 'log_evaluation()' callback via 'callbacks' argument instead.\n",
      "  _log_warning(\"'verbose_eval' argument is deprecated and will be removed in a future release of LightGBM. \"\n"
     ]
    },
    {
     "name": "stdout",
     "output_type": "stream",
     "text": [
      "[LightGBM] [Info] Total Bins 76500\n",
      "[LightGBM] [Info] Number of data points in the train set: 2364296, number of used features: 300\n",
      "[LightGBM] [Info] Start training from score -0.024609\n",
      "Training until validation scores don't improve for 50 rounds\n",
      "[50]\tvalid_0's rmse: 0.900985\n",
      "[100]\tvalid_0's rmse: 0.899937\n",
      "[150]\tvalid_0's rmse: 0.899496\n",
      "[200]\tvalid_0's rmse: 0.899218\n",
      "[250]\tvalid_0's rmse: 0.899057\n",
      "[300]\tvalid_0's rmse: 0.898929\n",
      "[350]\tvalid_0's rmse: 0.898888\n",
      "[400]\tvalid_0's rmse: 0.898911\n"
     ]
    },
    {
     "name": "stderr",
     "output_type": "stream",
     "text": [
      "min_data_in_leaf, val_score: 0.898872:  20% 1/5 [03:11<12:47, 192.00s/it]\u001b[32m[I 2022-01-31 18:54:17,766]\u001b[0m Trial 63 finished with value: 0.8988720966666612 and parameters: {'min_child_samples': 100}. Best is trial 63 with value: 0.8988720966666612.\u001b[0m\n",
      "min_data_in_leaf, val_score: 0.898872:  20% 1/5 [03:12<12:47, 192.00s/it]"
     ]
    },
    {
     "name": "stdout",
     "output_type": "stream",
     "text": [
      "Early stopping, best iteration is:\n",
      "[360]\tvalid_0's rmse: 0.898872\n"
     ]
    },
    {
     "name": "stderr",
     "output_type": "stream",
     "text": [
      "/opt/conda/lib/python3.7/site-packages/lightgbm/engine.py:181: UserWarning: 'early_stopping_rounds' argument is deprecated and will be removed in a future release of LightGBM. Pass 'early_stopping()' callback via 'callbacks' argument instead.\n",
      "  _log_warning(\"'early_stopping_rounds' argument is deprecated and will be removed in a future release of LightGBM. \"\n",
      "/opt/conda/lib/python3.7/site-packages/lightgbm/engine.py:239: UserWarning: 'verbose_eval' argument is deprecated and will be removed in a future release of LightGBM. Pass 'log_evaluation()' callback via 'callbacks' argument instead.\n",
      "  _log_warning(\"'verbose_eval' argument is deprecated and will be removed in a future release of LightGBM. \"\n"
     ]
    },
    {
     "name": "stdout",
     "output_type": "stream",
     "text": [
      "[LightGBM] [Info] Total Bins 76500\n",
      "[LightGBM] [Info] Number of data points in the train set: 2364296, number of used features: 300\n",
      "[LightGBM] [Info] Start training from score -0.024609\n",
      "Training until validation scores don't improve for 50 rounds\n",
      "[50]\tvalid_0's rmse: 0.900961\n",
      "[100]\tvalid_0's rmse: 0.900006\n",
      "[150]\tvalid_0's rmse: 0.899525\n",
      "[200]\tvalid_0's rmse: 0.899285\n",
      "[250]\tvalid_0's rmse: 0.899125\n",
      "[300]\tvalid_0's rmse: 0.899037\n",
      "[350]\tvalid_0's rmse: 0.898979\n",
      "[400]\tvalid_0's rmse: 0.898938\n",
      "[450]\tvalid_0's rmse: 0.898978\n"
     ]
    },
    {
     "name": "stderr",
     "output_type": "stream",
     "text": [
      "min_data_in_leaf, val_score: 0.898872:  40% 2/5 [06:34<09:54, 198.24s/it]\u001b[32m[I 2022-01-31 18:57:40,380]\u001b[0m Trial 64 finished with value: 0.8988970062451695 and parameters: {'min_child_samples': 10}. Best is trial 63 with value: 0.8988720966666612.\u001b[0m\n",
      "min_data_in_leaf, val_score: 0.898872:  40% 2/5 [06:34<09:54, 198.24s/it]"
     ]
    },
    {
     "name": "stdout",
     "output_type": "stream",
     "text": [
      "Early stopping, best iteration is:\n",
      "[410]\tvalid_0's rmse: 0.898897\n"
     ]
    },
    {
     "name": "stderr",
     "output_type": "stream",
     "text": [
      "/opt/conda/lib/python3.7/site-packages/lightgbm/engine.py:181: UserWarning: 'early_stopping_rounds' argument is deprecated and will be removed in a future release of LightGBM. Pass 'early_stopping()' callback via 'callbacks' argument instead.\n",
      "  _log_warning(\"'early_stopping_rounds' argument is deprecated and will be removed in a future release of LightGBM. \"\n",
      "/opt/conda/lib/python3.7/site-packages/lightgbm/engine.py:239: UserWarning: 'verbose_eval' argument is deprecated and will be removed in a future release of LightGBM. Pass 'log_evaluation()' callback via 'callbacks' argument instead.\n",
      "  _log_warning(\"'verbose_eval' argument is deprecated and will be removed in a future release of LightGBM. \"\n"
     ]
    },
    {
     "name": "stdout",
     "output_type": "stream",
     "text": [
      "[LightGBM] [Info] Total Bins 76500\n",
      "[LightGBM] [Info] Number of data points in the train set: 2364296, number of used features: 300\n",
      "[LightGBM] [Info] Start training from score -0.024609\n",
      "Training until validation scores don't improve for 50 rounds\n",
      "[50]\tvalid_0's rmse: 0.900963\n",
      "[100]\tvalid_0's rmse: 0.899876\n",
      "[150]\tvalid_0's rmse: 0.89944\n",
      "[200]\tvalid_0's rmse: 0.8992\n",
      "[250]\tvalid_0's rmse: 0.899064\n",
      "[300]\tvalid_0's rmse: 0.899002\n"
     ]
    },
    {
     "name": "stderr",
     "output_type": "stream",
     "text": [
      "min_data_in_leaf, val_score: 0.898872:  60% 3/5 [09:24<06:10, 185.48s/it]\u001b[32m[I 2022-01-31 19:00:30,675]\u001b[0m Trial 65 finished with value: 0.8989696347455971 and parameters: {'min_child_samples': 25}. Best is trial 63 with value: 0.8988720966666612.\u001b[0m\n",
      "min_data_in_leaf, val_score: 0.898872:  60% 3/5 [09:24<06:10, 185.48s/it]"
     ]
    },
    {
     "name": "stdout",
     "output_type": "stream",
     "text": [
      "Early stopping, best iteration is:\n",
      "[282]\tvalid_0's rmse: 0.89897\n"
     ]
    },
    {
     "name": "stderr",
     "output_type": "stream",
     "text": [
      "/opt/conda/lib/python3.7/site-packages/lightgbm/engine.py:181: UserWarning: 'early_stopping_rounds' argument is deprecated and will be removed in a future release of LightGBM. Pass 'early_stopping()' callback via 'callbacks' argument instead.\n",
      "  _log_warning(\"'early_stopping_rounds' argument is deprecated and will be removed in a future release of LightGBM. \"\n",
      "/opt/conda/lib/python3.7/site-packages/lightgbm/engine.py:239: UserWarning: 'verbose_eval' argument is deprecated and will be removed in a future release of LightGBM. Pass 'log_evaluation()' callback via 'callbacks' argument instead.\n",
      "  _log_warning(\"'verbose_eval' argument is deprecated and will be removed in a future release of LightGBM. \"\n"
     ]
    },
    {
     "name": "stdout",
     "output_type": "stream",
     "text": [
      "[LightGBM] [Info] Total Bins 76500\n",
      "[LightGBM] [Info] Number of data points in the train set: 2364296, number of used features: 300\n",
      "[LightGBM] [Info] Start training from score -0.024609\n",
      "Training until validation scores don't improve for 50 rounds\n",
      "[50]\tvalid_0's rmse: 0.900965\n",
      "[100]\tvalid_0's rmse: 0.900007\n",
      "[150]\tvalid_0's rmse: 0.899464\n",
      "[200]\tvalid_0's rmse: 0.899287\n",
      "[250]\tvalid_0's rmse: 0.899153\n",
      "[300]\tvalid_0's rmse: 0.899055\n",
      "[350]\tvalid_0's rmse: 0.899045\n",
      "[400]\tvalid_0's rmse: 0.899074\n"
     ]
    },
    {
     "name": "stderr",
     "output_type": "stream",
     "text": [
      "min_data_in_leaf, val_score: 0.898872:  80% 4/5 [12:34<03:07, 187.03s/it]\u001b[32m[I 2022-01-31 19:03:40,070]\u001b[0m Trial 66 finished with value: 0.8990053335754686 and parameters: {'min_child_samples': 5}. Best is trial 63 with value: 0.8988720966666612.\u001b[0m\n",
      "min_data_in_leaf, val_score: 0.898872:  80% 4/5 [12:34<03:07, 187.03s/it]"
     ]
    },
    {
     "name": "stdout",
     "output_type": "stream",
     "text": [
      "Early stopping, best iteration is:\n",
      "[363]\tvalid_0's rmse: 0.899005\n"
     ]
    },
    {
     "name": "stderr",
     "output_type": "stream",
     "text": [
      "/opt/conda/lib/python3.7/site-packages/lightgbm/engine.py:181: UserWarning: 'early_stopping_rounds' argument is deprecated and will be removed in a future release of LightGBM. Pass 'early_stopping()' callback via 'callbacks' argument instead.\n",
      "  _log_warning(\"'early_stopping_rounds' argument is deprecated and will be removed in a future release of LightGBM. \"\n",
      "/opt/conda/lib/python3.7/site-packages/lightgbm/engine.py:239: UserWarning: 'verbose_eval' argument is deprecated and will be removed in a future release of LightGBM. Pass 'log_evaluation()' callback via 'callbacks' argument instead.\n",
      "  _log_warning(\"'verbose_eval' argument is deprecated and will be removed in a future release of LightGBM. \"\n"
     ]
    },
    {
     "name": "stdout",
     "output_type": "stream",
     "text": [
      "[LightGBM] [Info] Total Bins 76500\n",
      "[LightGBM] [Info] Number of data points in the train set: 2364296, number of used features: 300\n",
      "[LightGBM] [Info] Start training from score -0.024609\n",
      "Training until validation scores don't improve for 50 rounds\n",
      "[50]\tvalid_0's rmse: 0.900969\n",
      "[100]\tvalid_0's rmse: 0.900012\n",
      "[150]\tvalid_0's rmse: 0.899466\n",
      "[200]\tvalid_0's rmse: 0.899269\n",
      "[250]\tvalid_0's rmse: 0.899156\n",
      "[300]\tvalid_0's rmse: 0.899083\n",
      "[350]\tvalid_0's rmse: 0.899086\n",
      "[400]\tvalid_0's rmse: 0.899052\n"
     ]
    },
    {
     "name": "stderr",
     "output_type": "stream",
     "text": [
      "min_data_in_leaf, val_score: 0.898872: 100% 5/5 [15:52<00:00, 191.22s/it]\u001b[32m[I 2022-01-31 19:06:58,727]\u001b[0m Trial 67 finished with value: 0.8990154735279902 and parameters: {'min_child_samples': 50}. Best is trial 63 with value: 0.8988720966666612.\u001b[0m\n",
      "min_data_in_leaf, val_score: 0.898872: 100% 5/5 [15:52<00:00, 190.60s/it]"
     ]
    },
    {
     "name": "stdout",
     "output_type": "stream",
     "text": [
      "Early stopping, best iteration is:\n",
      "[389]\tvalid_0's rmse: 0.899015\n",
      "CPU times: user 1d 7h 48min 20s, sys: 2min 21s, total: 1d 7h 50min 41s\n",
      "Wall time: 3h 17min 9s\n"
     ]
    },
    {
     "name": "stderr",
     "output_type": "stream",
     "text": [
      "\n"
     ]
    }
   ],
   "source": [
    "%%time\n",
    "train_dset = lgb.Dataset(\n",
    "    data=features.loc[train_idx,:],\n",
    "    label=target.loc[train_idx,\"target\"].values,\n",
    "    free_raw_data=True\n",
    ")\n",
    "valid_dset = lgb.Dataset(\n",
    "    data=features.loc[valid_idx,:],\n",
    "    label=target.loc[valid_idx,\"target\"].values,\n",
    "    free_raw_data=True\n",
    ")\n",
    "model = olgb.train(\n",
    "    params=model_params,\n",
    "    train_set=train_dset,\n",
    "    num_boost_round=3000,\n",
    "    valid_sets=[valid_dset,],\n",
    "    early_stopping_rounds=50,\n",
    "    verbose_eval=50,\n",
    ")"
   ]
  },
  {
   "cell_type": "code",
   "execution_count": 11,
   "id": "ca0c6db2-8034-4aad-b75a-0d301a67af8f",
   "metadata": {},
   "outputs": [
    {
     "data": {
      "text/plain": [
       "{'objective': 'mse',\n",
       " 'metric': 'rmse',\n",
       " 'num_leaves': 55,\n",
       " 'learning_rate': 0.05,\n",
       " 'feature_fraction': 0.616,\n",
       " 'bagging_fraction': 0.8,\n",
       " 'force_col_wise': True,\n",
       " 'feature_pre_filter': False,\n",
       " 'lambda_l1': 3.563444727371679,\n",
       " 'lambda_l2': 0.30026771722107604,\n",
       " 'bagging_freq': 0,\n",
       " 'min_child_samples': 100,\n",
       " 'num_iterations': 3000,\n",
       " 'early_stopping_round': 50}"
      ]
     },
     "execution_count": 11,
     "metadata": {},
     "output_type": "execute_result"
    }
   ],
   "source": [
    "model.params"
   ]
  },
  {
   "cell_type": "code",
   "execution_count": 12,
   "id": "a0e98d9b-6c86-4408-befc-680713426297",
   "metadata": {},
   "outputs": [
    {
     "data": {
      "text/plain": [
       "360"
      ]
     },
     "execution_count": 12,
     "metadata": {},
     "output_type": "execute_result"
    }
   ],
   "source": [
    "model.best_iteration"
   ]
  },
  {
   "cell_type": "code",
   "execution_count": 13,
   "id": "1dc458ee-983a-4714-9a7d-bb05221f7706",
   "metadata": {},
   "outputs": [
    {
     "data": {
      "text/plain": [
       "defaultdict(collections.OrderedDict,\n",
       "            {'valid_0': OrderedDict([('rmse', 0.8988720966666612)])})"
      ]
     },
     "execution_count": 13,
     "metadata": {},
     "output_type": "execute_result"
    }
   ],
   "source": [
    "model.best_score"
   ]
  },
  {
   "cell_type": "markdown",
   "id": "3e18344d-c1f4-41fd-963a-af6f405add15",
   "metadata": {},
   "source": [
    "***"
   ]
  }
 ],
 "metadata": {
  "kernelspec": {
   "display_name": "Python 3 (ipykernel)",
   "language": "python",
   "name": "python3"
  },
  "language_info": {
   "codemirror_mode": {
    "name": "ipython",
    "version": 3
   },
   "file_extension": ".py",
   "mimetype": "text/x-python",
   "name": "python",
   "nbconvert_exporter": "python",
   "pygments_lexer": "ipython3",
   "version": "3.7.12"
  }
 },
 "nbformat": 4,
 "nbformat_minor": 5
}
